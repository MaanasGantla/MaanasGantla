{
  "nbformat": 4,
  "nbformat_minor": 0,
  "metadata": {
    "colab": {
      "provenance": [],
      "authorship_tag": "ABX9TyPwWJ5nxh0TRYRBot2GKtWq",
      "include_colab_link": true
    },
    "kernelspec": {
      "name": "python3",
      "display_name": "Python 3"
    },
    "language_info": {
      "name": "python"
    }
  },
  "cells": [
    {
      "cell_type": "markdown",
      "metadata": {
        "id": "view-in-github",
        "colab_type": "text"
      },
      "source": [
        "<a href=\"https://colab.research.google.com/github/MaanasGantla/MaanasGantla/blob/main/SpuCo_Assignment.ipynb\" target=\"_parent\"><img src=\"https://colab.research.google.com/assets/colab-badge.svg\" alt=\"Open In Colab\"/></a>"
      ]
    },
    {
      "cell_type": "markdown",
      "source": [
        "**Task:**\n",
        "\n",
        "Deep neural networks often exploit non-predictive features that are spuriously correlated with class labels, leading to poor performance on groups of examples without such features. Using the SpuCo Package (SpuCo Documentation), we'd like you to implement a simple method to remedy spurious correlations in SpuCoMNIST (use default parameters to initialize the dataset).\n",
        "\n",
        "The method (George) we'd like you to implement has a 3 step pipeline:\n",
        "1. Train a model using ERM\n",
        "2. Cluster inputs based on the output they produce for ERM\n",
        "3. Retrain using \"Group-Balancing\" to ensure in each batch each group appears equally.\n",
        "\n"
      ],
      "metadata": {
        "id": "CzdbV9Wsmc5w"
      }
    },
    {
      "cell_type": "code",
      "execution_count": 1,
      "metadata": {
        "colab": {
          "base_uri": "https://localhost:8080/"
        },
        "id": "36OqAh73mUbh",
        "outputId": "6ad4d656-e36a-413a-c99b-6b6eabc8bec3"
      },
      "outputs": [
        {
          "output_type": "stream",
          "name": "stdout",
          "text": [
            "Collecting spuco\n",
            "  Downloading spuco-2.0.3-py3-none-any.whl.metadata (4.3 kB)\n",
            "Requirement already satisfied: matplotlib>=3.7.1 in /usr/local/lib/python3.11/dist-packages (from spuco) (3.10.0)\n",
            "Requirement already satisfied: numpy>=1.23.5 in /usr/local/lib/python3.11/dist-packages (from spuco) (2.0.2)\n",
            "Requirement already satisfied: setuptools>=61.0 in /usr/local/lib/python3.11/dist-packages (from spuco) (75.1.0)\n",
            "Requirement already satisfied: torch>=2.0.0 in /usr/local/lib/python3.11/dist-packages (from spuco) (2.6.0+cu124)\n",
            "Requirement already satisfied: torchvision>=0.15.1 in /usr/local/lib/python3.11/dist-packages (from spuco) (0.21.0+cu124)\n",
            "Requirement already satisfied: tqdm>=4.65.0 in /usr/local/lib/python3.11/dist-packages (from spuco) (4.67.1)\n",
            "Requirement already satisfied: scikit-learn>=0.20.0 in /usr/local/lib/python3.11/dist-packages (from spuco) (1.6.1)\n",
            "Collecting wilds>=2.0.0 (from spuco)\n",
            "  Downloading wilds-2.0.0-py3-none-any.whl.metadata (22 kB)\n",
            "Requirement already satisfied: transformers>=3.5.0 in /usr/local/lib/python3.11/dist-packages (from spuco) (4.50.0)\n",
            "Requirement already satisfied: umap-learn>=0.5.5 in /usr/local/lib/python3.11/dist-packages (from spuco) (0.5.7)\n",
            "Collecting grad-cam>=1.5.0 (from spuco)\n",
            "  Downloading grad-cam-1.5.4.tar.gz (7.8 MB)\n",
            "\u001b[2K     \u001b[90m━━━━━━━━━━━━━━━━━━━━━━━━━━━━━━━━━━━━━━━━\u001b[0m \u001b[32m7.8/7.8 MB\u001b[0m \u001b[31m24.0 MB/s\u001b[0m eta \u001b[36m0:00:00\u001b[0m\n",
            "\u001b[?25h  Installing build dependencies ... \u001b[?25l\u001b[?25hdone\n",
            "  Getting requirements to build wheel ... \u001b[?25l\u001b[?25hdone\n",
            "  Preparing metadata (pyproject.toml) ... \u001b[?25l\u001b[?25hdone\n",
            "Requirement already satisfied: Pillow in /usr/local/lib/python3.11/dist-packages (from grad-cam>=1.5.0->spuco) (11.1.0)\n",
            "Collecting ttach (from grad-cam>=1.5.0->spuco)\n",
            "  Downloading ttach-0.0.3-py3-none-any.whl.metadata (5.2 kB)\n",
            "Requirement already satisfied: opencv-python in /usr/local/lib/python3.11/dist-packages (from grad-cam>=1.5.0->spuco) (4.11.0.86)\n",
            "Requirement already satisfied: contourpy>=1.0.1 in /usr/local/lib/python3.11/dist-packages (from matplotlib>=3.7.1->spuco) (1.3.1)\n",
            "Requirement already satisfied: cycler>=0.10 in /usr/local/lib/python3.11/dist-packages (from matplotlib>=3.7.1->spuco) (0.12.1)\n",
            "Requirement already satisfied: fonttools>=4.22.0 in /usr/local/lib/python3.11/dist-packages (from matplotlib>=3.7.1->spuco) (4.56.0)\n",
            "Requirement already satisfied: kiwisolver>=1.3.1 in /usr/local/lib/python3.11/dist-packages (from matplotlib>=3.7.1->spuco) (1.4.8)\n",
            "Requirement already satisfied: packaging>=20.0 in /usr/local/lib/python3.11/dist-packages (from matplotlib>=3.7.1->spuco) (24.2)\n",
            "Requirement already satisfied: pyparsing>=2.3.1 in /usr/local/lib/python3.11/dist-packages (from matplotlib>=3.7.1->spuco) (3.2.1)\n",
            "Requirement already satisfied: python-dateutil>=2.7 in /usr/local/lib/python3.11/dist-packages (from matplotlib>=3.7.1->spuco) (2.8.2)\n",
            "Requirement already satisfied: scipy>=1.6.0 in /usr/local/lib/python3.11/dist-packages (from scikit-learn>=0.20.0->spuco) (1.14.1)\n",
            "Requirement already satisfied: joblib>=1.2.0 in /usr/local/lib/python3.11/dist-packages (from scikit-learn>=0.20.0->spuco) (1.4.2)\n",
            "Requirement already satisfied: threadpoolctl>=3.1.0 in /usr/local/lib/python3.11/dist-packages (from scikit-learn>=0.20.0->spuco) (3.6.0)\n",
            "Requirement already satisfied: filelock in /usr/local/lib/python3.11/dist-packages (from torch>=2.0.0->spuco) (3.18.0)\n",
            "Requirement already satisfied: typing-extensions>=4.10.0 in /usr/local/lib/python3.11/dist-packages (from torch>=2.0.0->spuco) (4.12.2)\n",
            "Requirement already satisfied: networkx in /usr/local/lib/python3.11/dist-packages (from torch>=2.0.0->spuco) (3.4.2)\n",
            "Requirement already satisfied: jinja2 in /usr/local/lib/python3.11/dist-packages (from torch>=2.0.0->spuco) (3.1.6)\n",
            "Requirement already satisfied: fsspec in /usr/local/lib/python3.11/dist-packages (from torch>=2.0.0->spuco) (2025.3.0)\n",
            "Collecting nvidia-cuda-nvrtc-cu12==12.4.127 (from torch>=2.0.0->spuco)\n",
            "  Downloading nvidia_cuda_nvrtc_cu12-12.4.127-py3-none-manylinux2014_x86_64.whl.metadata (1.5 kB)\n",
            "Collecting nvidia-cuda-runtime-cu12==12.4.127 (from torch>=2.0.0->spuco)\n",
            "  Downloading nvidia_cuda_runtime_cu12-12.4.127-py3-none-manylinux2014_x86_64.whl.metadata (1.5 kB)\n",
            "Collecting nvidia-cuda-cupti-cu12==12.4.127 (from torch>=2.0.0->spuco)\n",
            "  Downloading nvidia_cuda_cupti_cu12-12.4.127-py3-none-manylinux2014_x86_64.whl.metadata (1.6 kB)\n",
            "Collecting nvidia-cudnn-cu12==9.1.0.70 (from torch>=2.0.0->spuco)\n",
            "  Downloading nvidia_cudnn_cu12-9.1.0.70-py3-none-manylinux2014_x86_64.whl.metadata (1.6 kB)\n",
            "Collecting nvidia-cublas-cu12==12.4.5.8 (from torch>=2.0.0->spuco)\n",
            "  Downloading nvidia_cublas_cu12-12.4.5.8-py3-none-manylinux2014_x86_64.whl.metadata (1.5 kB)\n",
            "Collecting nvidia-cufft-cu12==11.2.1.3 (from torch>=2.0.0->spuco)\n",
            "  Downloading nvidia_cufft_cu12-11.2.1.3-py3-none-manylinux2014_x86_64.whl.metadata (1.5 kB)\n",
            "Collecting nvidia-curand-cu12==10.3.5.147 (from torch>=2.0.0->spuco)\n",
            "  Downloading nvidia_curand_cu12-10.3.5.147-py3-none-manylinux2014_x86_64.whl.metadata (1.5 kB)\n",
            "Collecting nvidia-cusolver-cu12==11.6.1.9 (from torch>=2.0.0->spuco)\n",
            "  Downloading nvidia_cusolver_cu12-11.6.1.9-py3-none-manylinux2014_x86_64.whl.metadata (1.6 kB)\n",
            "Collecting nvidia-cusparse-cu12==12.3.1.170 (from torch>=2.0.0->spuco)\n",
            "  Downloading nvidia_cusparse_cu12-12.3.1.170-py3-none-manylinux2014_x86_64.whl.metadata (1.6 kB)\n",
            "Requirement already satisfied: nvidia-cusparselt-cu12==0.6.2 in /usr/local/lib/python3.11/dist-packages (from torch>=2.0.0->spuco) (0.6.2)\n",
            "Requirement already satisfied: nvidia-nccl-cu12==2.21.5 in /usr/local/lib/python3.11/dist-packages (from torch>=2.0.0->spuco) (2.21.5)\n",
            "Requirement already satisfied: nvidia-nvtx-cu12==12.4.127 in /usr/local/lib/python3.11/dist-packages (from torch>=2.0.0->spuco) (12.4.127)\n",
            "Collecting nvidia-nvjitlink-cu12==12.4.127 (from torch>=2.0.0->spuco)\n",
            "  Downloading nvidia_nvjitlink_cu12-12.4.127-py3-none-manylinux2014_x86_64.whl.metadata (1.5 kB)\n",
            "Requirement already satisfied: triton==3.2.0 in /usr/local/lib/python3.11/dist-packages (from torch>=2.0.0->spuco) (3.2.0)\n",
            "Requirement already satisfied: sympy==1.13.1 in /usr/local/lib/python3.11/dist-packages (from torch>=2.0.0->spuco) (1.13.1)\n",
            "Requirement already satisfied: mpmath<1.4,>=1.1.0 in /usr/local/lib/python3.11/dist-packages (from sympy==1.13.1->torch>=2.0.0->spuco) (1.3.0)\n",
            "Requirement already satisfied: huggingface-hub<1.0,>=0.26.0 in /usr/local/lib/python3.11/dist-packages (from transformers>=3.5.0->spuco) (0.29.3)\n",
            "Requirement already satisfied: pyyaml>=5.1 in /usr/local/lib/python3.11/dist-packages (from transformers>=3.5.0->spuco) (6.0.2)\n",
            "Requirement already satisfied: regex!=2019.12.17 in /usr/local/lib/python3.11/dist-packages (from transformers>=3.5.0->spuco) (2024.11.6)\n",
            "Requirement already satisfied: requests in /usr/local/lib/python3.11/dist-packages (from transformers>=3.5.0->spuco) (2.32.3)\n",
            "Requirement already satisfied: tokenizers<0.22,>=0.21 in /usr/local/lib/python3.11/dist-packages (from transformers>=3.5.0->spuco) (0.21.1)\n",
            "Requirement already satisfied: safetensors>=0.4.3 in /usr/local/lib/python3.11/dist-packages (from transformers>=3.5.0->spuco) (0.5.3)\n",
            "Requirement already satisfied: numba>=0.51.2 in /usr/local/lib/python3.11/dist-packages (from umap-learn>=0.5.5->spuco) (0.60.0)\n",
            "Requirement already satisfied: pynndescent>=0.5 in /usr/local/lib/python3.11/dist-packages (from umap-learn>=0.5.5->spuco) (0.5.13)\n",
            "Collecting ogb>=1.2.6 (from wilds>=2.0.0->spuco)\n",
            "  Downloading ogb-1.3.6-py3-none-any.whl.metadata (6.2 kB)\n",
            "Collecting outdated>=0.2.0 (from wilds>=2.0.0->spuco)\n",
            "  Downloading outdated-0.2.2-py2.py3-none-any.whl.metadata (4.7 kB)\n",
            "Requirement already satisfied: pandas>=1.1.0 in /usr/local/lib/python3.11/dist-packages (from wilds>=2.0.0->spuco) (2.2.2)\n",
            "Requirement already satisfied: pytz>=2020.4 in /usr/local/lib/python3.11/dist-packages (from wilds>=2.0.0->spuco) (2025.1)\n",
            "Requirement already satisfied: llvmlite<0.44,>=0.43.0dev0 in /usr/local/lib/python3.11/dist-packages (from numba>=0.51.2->umap-learn>=0.5.5->spuco) (0.43.0)\n",
            "Requirement already satisfied: six>=1.12.0 in /usr/local/lib/python3.11/dist-packages (from ogb>=1.2.6->wilds>=2.0.0->spuco) (1.17.0)\n",
            "Requirement already satisfied: urllib3>=1.24.0 in /usr/local/lib/python3.11/dist-packages (from ogb>=1.2.6->wilds>=2.0.0->spuco) (2.3.0)\n",
            "Collecting littleutils (from outdated>=0.2.0->wilds>=2.0.0->spuco)\n",
            "  Downloading littleutils-0.2.4-py3-none-any.whl.metadata (679 bytes)\n",
            "Requirement already satisfied: tzdata>=2022.7 in /usr/local/lib/python3.11/dist-packages (from pandas>=1.1.0->wilds>=2.0.0->spuco) (2025.1)\n",
            "Requirement already satisfied: MarkupSafe>=2.0 in /usr/local/lib/python3.11/dist-packages (from jinja2->torch>=2.0.0->spuco) (3.0.2)\n",
            "Requirement already satisfied: charset-normalizer<4,>=2 in /usr/local/lib/python3.11/dist-packages (from requests->transformers>=3.5.0->spuco) (3.4.1)\n",
            "Requirement already satisfied: idna<4,>=2.5 in /usr/local/lib/python3.11/dist-packages (from requests->transformers>=3.5.0->spuco) (3.10)\n",
            "Requirement already satisfied: certifi>=2017.4.17 in /usr/local/lib/python3.11/dist-packages (from requests->transformers>=3.5.0->spuco) (2025.1.31)\n",
            "Downloading spuco-2.0.3-py3-none-any.whl (127 kB)\n",
            "\u001b[2K   \u001b[90m━━━━━━━━━━━━━━━━━━━━━━━━━━━━━━━━━━━━━━━━\u001b[0m \u001b[32m127.4/127.4 kB\u001b[0m \u001b[31m6.8 MB/s\u001b[0m eta \u001b[36m0:00:00\u001b[0m\n",
            "\u001b[?25hDownloading nvidia_cublas_cu12-12.4.5.8-py3-none-manylinux2014_x86_64.whl (363.4 MB)\n",
            "\u001b[2K   \u001b[90m━━━━━━━━━━━━━━━━━━━━━━━━━━━━━━━━━━━━━━━━\u001b[0m \u001b[32m363.4/363.4 MB\u001b[0m \u001b[31m3.6 MB/s\u001b[0m eta \u001b[36m0:00:00\u001b[0m\n",
            "\u001b[?25hDownloading nvidia_cuda_cupti_cu12-12.4.127-py3-none-manylinux2014_x86_64.whl (13.8 MB)\n",
            "\u001b[2K   \u001b[90m━━━━━━━━━━━━━━━━━━━━━━━━━━━━━━━━━━━━━━━━\u001b[0m \u001b[32m13.8/13.8 MB\u001b[0m \u001b[31m37.7 MB/s\u001b[0m eta \u001b[36m0:00:00\u001b[0m\n",
            "\u001b[?25hDownloading nvidia_cuda_nvrtc_cu12-12.4.127-py3-none-manylinux2014_x86_64.whl (24.6 MB)\n",
            "\u001b[2K   \u001b[90m━━━━━━━━━━━━━━━━━━━━━━━━━━━━━━━━━━━━━━━━\u001b[0m \u001b[32m24.6/24.6 MB\u001b[0m \u001b[31m29.2 MB/s\u001b[0m eta \u001b[36m0:00:00\u001b[0m\n",
            "\u001b[?25hDownloading nvidia_cuda_runtime_cu12-12.4.127-py3-none-manylinux2014_x86_64.whl (883 kB)\n",
            "\u001b[2K   \u001b[90m━━━━━━━━━━━━━━━━━━━━━━━━━━━━━━━━━━━━━━━━\u001b[0m \u001b[32m883.7/883.7 kB\u001b[0m \u001b[31m26.5 MB/s\u001b[0m eta \u001b[36m0:00:00\u001b[0m\n",
            "\u001b[?25hDownloading nvidia_cudnn_cu12-9.1.0.70-py3-none-manylinux2014_x86_64.whl (664.8 MB)\n",
            "\u001b[2K   \u001b[90m━━━━━━━━━━━━━━━━━━━━━━━━━━━━━━━━━━━━━━━━\u001b[0m \u001b[32m664.8/664.8 MB\u001b[0m \u001b[31m2.9 MB/s\u001b[0m eta \u001b[36m0:00:00\u001b[0m\n",
            "\u001b[?25hDownloading nvidia_cufft_cu12-11.2.1.3-py3-none-manylinux2014_x86_64.whl (211.5 MB)\n",
            "\u001b[2K   \u001b[90m━━━━━━━━━━━━━━━━━━━━━━━━━━━━━━━━━━━━━━━━\u001b[0m \u001b[32m211.5/211.5 MB\u001b[0m \u001b[31m5.9 MB/s\u001b[0m eta \u001b[36m0:00:00\u001b[0m\n",
            "\u001b[?25hDownloading nvidia_curand_cu12-10.3.5.147-py3-none-manylinux2014_x86_64.whl (56.3 MB)\n",
            "\u001b[2K   \u001b[90m━━━━━━━━━━━━━━━━━━━━━━━━━━━━━━━━━━━━━━━━\u001b[0m \u001b[32m56.3/56.3 MB\u001b[0m \u001b[31m11.2 MB/s\u001b[0m eta \u001b[36m0:00:00\u001b[0m\n",
            "\u001b[?25hDownloading nvidia_cusolver_cu12-11.6.1.9-py3-none-manylinux2014_x86_64.whl (127.9 MB)\n",
            "\u001b[2K   \u001b[90m━━━━━━━━━━━━━━━━━━━━━━━━━━━━━━━━━━━━━━━━\u001b[0m \u001b[32m127.9/127.9 MB\u001b[0m \u001b[31m6.4 MB/s\u001b[0m eta \u001b[36m0:00:00\u001b[0m\n",
            "\u001b[?25hDownloading nvidia_cusparse_cu12-12.3.1.170-py3-none-manylinux2014_x86_64.whl (207.5 MB)\n",
            "\u001b[2K   \u001b[90m━━━━━━━━━━━━━━━━━━━━━━━━━━━━━━━━━━━━━━━━\u001b[0m \u001b[32m207.5/207.5 MB\u001b[0m \u001b[31m5.5 MB/s\u001b[0m eta \u001b[36m0:00:00\u001b[0m\n",
            "\u001b[?25hDownloading nvidia_nvjitlink_cu12-12.4.127-py3-none-manylinux2014_x86_64.whl (21.1 MB)\n",
            "\u001b[2K   \u001b[90m━━━━━━━━━━━━━━━━━━━━━━━━━━━━━━━━━━━━━━━━\u001b[0m \u001b[32m21.1/21.1 MB\u001b[0m \u001b[31m51.6 MB/s\u001b[0m eta \u001b[36m0:00:00\u001b[0m\n",
            "\u001b[?25hDownloading wilds-2.0.0-py3-none-any.whl (126 kB)\n",
            "\u001b[2K   \u001b[90m━━━━━━━━━━━━━━━━━━━━━━━━━━━━━━━━━━━━━━━━\u001b[0m \u001b[32m126.2/126.2 kB\u001b[0m \u001b[31m9.7 MB/s\u001b[0m eta \u001b[36m0:00:00\u001b[0m\n",
            "\u001b[?25hDownloading ogb-1.3.6-py3-none-any.whl (78 kB)\n",
            "\u001b[2K   \u001b[90m━━━━━━━━━━━━━━━━━━━━━━━━━━━━━━━━━━━━━━━━\u001b[0m \u001b[32m78.8/78.8 kB\u001b[0m \u001b[31m6.3 MB/s\u001b[0m eta \u001b[36m0:00:00\u001b[0m\n",
            "\u001b[?25hDownloading outdated-0.2.2-py2.py3-none-any.whl (7.5 kB)\n",
            "Downloading ttach-0.0.3-py3-none-any.whl (9.8 kB)\n",
            "Downloading littleutils-0.2.4-py3-none-any.whl (8.1 kB)\n",
            "Building wheels for collected packages: grad-cam\n",
            "  Building wheel for grad-cam (pyproject.toml) ... \u001b[?25l\u001b[?25hdone\n",
            "  Created wheel for grad-cam: filename=grad_cam-1.5.4-py3-none-any.whl size=39680 sha256=ce7e28762d1ac8279c9d4443564bd7f4f9d8c25db3de3259ab9162a0783ec13b\n",
            "  Stored in directory: /root/.cache/pip/wheels/8b/0d/d2/b12bec1ccc028921fb98158042ade2d19dae73925dfc636954\n",
            "Successfully built grad-cam\n",
            "Installing collected packages: ttach, nvidia-nvjitlink-cu12, nvidia-curand-cu12, nvidia-cufft-cu12, nvidia-cuda-runtime-cu12, nvidia-cuda-nvrtc-cu12, nvidia-cuda-cupti-cu12, nvidia-cublas-cu12, littleutils, outdated, nvidia-cusparse-cu12, nvidia-cudnn-cu12, nvidia-cusolver-cu12, ogb, wilds, grad-cam, spuco\n",
            "  Attempting uninstall: nvidia-nvjitlink-cu12\n",
            "    Found existing installation: nvidia-nvjitlink-cu12 12.5.82\n",
            "    Uninstalling nvidia-nvjitlink-cu12-12.5.82:\n",
            "      Successfully uninstalled nvidia-nvjitlink-cu12-12.5.82\n",
            "  Attempting uninstall: nvidia-curand-cu12\n",
            "    Found existing installation: nvidia-curand-cu12 10.3.6.82\n",
            "    Uninstalling nvidia-curand-cu12-10.3.6.82:\n",
            "      Successfully uninstalled nvidia-curand-cu12-10.3.6.82\n",
            "  Attempting uninstall: nvidia-cufft-cu12\n",
            "    Found existing installation: nvidia-cufft-cu12 11.2.3.61\n",
            "    Uninstalling nvidia-cufft-cu12-11.2.3.61:\n",
            "      Successfully uninstalled nvidia-cufft-cu12-11.2.3.61\n",
            "  Attempting uninstall: nvidia-cuda-runtime-cu12\n",
            "    Found existing installation: nvidia-cuda-runtime-cu12 12.5.82\n",
            "    Uninstalling nvidia-cuda-runtime-cu12-12.5.82:\n",
            "      Successfully uninstalled nvidia-cuda-runtime-cu12-12.5.82\n",
            "  Attempting uninstall: nvidia-cuda-nvrtc-cu12\n",
            "    Found existing installation: nvidia-cuda-nvrtc-cu12 12.5.82\n",
            "    Uninstalling nvidia-cuda-nvrtc-cu12-12.5.82:\n",
            "      Successfully uninstalled nvidia-cuda-nvrtc-cu12-12.5.82\n",
            "  Attempting uninstall: nvidia-cuda-cupti-cu12\n",
            "    Found existing installation: nvidia-cuda-cupti-cu12 12.5.82\n",
            "    Uninstalling nvidia-cuda-cupti-cu12-12.5.82:\n",
            "      Successfully uninstalled nvidia-cuda-cupti-cu12-12.5.82\n",
            "  Attempting uninstall: nvidia-cublas-cu12\n",
            "    Found existing installation: nvidia-cublas-cu12 12.5.3.2\n",
            "    Uninstalling nvidia-cublas-cu12-12.5.3.2:\n",
            "      Successfully uninstalled nvidia-cublas-cu12-12.5.3.2\n",
            "  Attempting uninstall: nvidia-cusparse-cu12\n",
            "    Found existing installation: nvidia-cusparse-cu12 12.5.1.3\n",
            "    Uninstalling nvidia-cusparse-cu12-12.5.1.3:\n",
            "      Successfully uninstalled nvidia-cusparse-cu12-12.5.1.3\n",
            "  Attempting uninstall: nvidia-cudnn-cu12\n",
            "    Found existing installation: nvidia-cudnn-cu12 9.3.0.75\n",
            "    Uninstalling nvidia-cudnn-cu12-9.3.0.75:\n",
            "      Successfully uninstalled nvidia-cudnn-cu12-9.3.0.75\n",
            "  Attempting uninstall: nvidia-cusolver-cu12\n",
            "    Found existing installation: nvidia-cusolver-cu12 11.6.3.83\n",
            "    Uninstalling nvidia-cusolver-cu12-11.6.3.83:\n",
            "      Successfully uninstalled nvidia-cusolver-cu12-11.6.3.83\n",
            "Successfully installed grad-cam-1.5.4 littleutils-0.2.4 nvidia-cublas-cu12-12.4.5.8 nvidia-cuda-cupti-cu12-12.4.127 nvidia-cuda-nvrtc-cu12-12.4.127 nvidia-cuda-runtime-cu12-12.4.127 nvidia-cudnn-cu12-9.1.0.70 nvidia-cufft-cu12-11.2.1.3 nvidia-curand-cu12-10.3.5.147 nvidia-cusolver-cu12-11.6.1.9 nvidia-cusparse-cu12-12.3.1.170 nvidia-nvjitlink-cu12-12.4.127 ogb-1.3.6 outdated-0.2.2 spuco-2.0.3 ttach-0.0.3 wilds-2.0.0\n"
          ]
        }
      ],
      "source": [
        "!pip install spuco"
      ]
    },
    {
      "cell_type": "code",
      "source": [
        "import torch\n",
        "import torch.nn as nn\n",
        "import torch.optim as optim\n",
        "from torch.utils.data import DataLoader\n",
        "\n",
        "\n",
        "from spuco.datasets import SpuCoMNIST, SpuriousFeatureDifficulty\n",
        "from spuco.robust_train import ERM, GroupBalanceBatchERM, ClassBalanceBatchERM\n",
        "from spuco.models import model_factory\n",
        "from spuco.utils import Trainer\n",
        "from spuco.evaluate import Evaluator\n",
        "from spuco.group_inference import Cluster, ClusterAlg"
      ],
      "metadata": {
        "id": "9R-NvyCTmcVd"
      },
      "execution_count": 2,
      "outputs": []
    },
    {
      "cell_type": "code",
      "source": [
        "device = torch.device(\"cuda\" if torch.cuda.is_available() else \"cpu\")\n",
        "\n",
        "\n",
        "\n",
        "classes = [[0, 1], [2, 3], [4, 5], [6, 7], [8, 9]]\n",
        "\n",
        "\n",
        "# I chose these params for SpuriousFeatureDifficulty and SpuriousCorrelationStrength\n",
        "# (Default SpuriousCorrelationStrength is 0.0 per the documentation but this is invalid for a train split)\n",
        "# There wasn't a default SpuriousFeatureDifficulty in the documentation so I chose MAGNITUDE_LARGE\n",
        "\n",
        "\n",
        "\n",
        "difficulty = SpuriousFeatureDifficulty.MAGNITUDE_LARGE\n",
        "spurious_correlation_strength = 0.90\n",
        "\n",
        "\n",
        "\n",
        "train_dataset = SpuCoMNIST(\n",
        "    root=\"data/\",\n",
        "    spurious_feature_difficulty=difficulty,\n",
        "    spurious_correlation_strength=spurious_correlation_strength,\n",
        "    classes=classes,\n",
        "    split=\"train\",\n",
        "    download=True\n",
        ")\n",
        "\n",
        "\n",
        "test_dataset = SpuCoMNIST(\n",
        "    root=\"data/\",\n",
        "    spurious_feature_difficulty=difficulty,\n",
        "    classes=classes,\n",
        "    split=\"test\",\n",
        "    download=True\n",
        ")\n",
        "train_dataset.initialize()\n",
        "test_dataset.initialize()"
      ],
      "metadata": {
        "colab": {
          "base_uri": "https://localhost:8080/"
        },
        "id": "yN5Dz7zcmiRw",
        "outputId": "9dbcd35d-1f0c-476b-dc40-88503b64d261"
      },
      "execution_count": 3,
      "outputs": [
        {
          "output_type": "stream",
          "name": "stderr",
          "text": [
            "100%|██████████| 9.91M/9.91M [00:00<00:00, 41.8MB/s]\n",
            "100%|██████████| 28.9k/28.9k [00:00<00:00, 1.20MB/s]\n",
            "100%|██████████| 1.65M/1.65M [00:00<00:00, 10.6MB/s]\n",
            "100%|██████████| 4.54k/4.54k [00:00<00:00, 8.24MB/s]\n"
          ]
        }
      ]
    },
    {
      "cell_type": "markdown",
      "source": [
        "**1)** Training a LeNet using ERM"
      ],
      "metadata": {
        "id": "ucCCSEsjmmPR"
      }
    },
    {
      "cell_type": "code",
      "source": [
        "# FOR MY MODEL I CHOSE A LeNet\n",
        "\n",
        "model = model_factory(\"lenet\", train_dataset[0][0].shape, train_dataset.num_classes).to(device)\n",
        "\n",
        "optimizer = optim.SGD(model.parameters(), lr=1e-3, weight_decay=6e-4, momentum = 0.90, nesterov=True)\n",
        "\n",
        "\n",
        "# For the model, I used the Trainer class instead of the ERM class\n",
        "# because Trainer's get_trainset_outputs() method is very convenient to obtain\n",
        "# the model's outputs on the training dataset, which is necessary for the next step (clustering)\n",
        "\n",
        "# I did not see an equivalent method for the ERM class on its SpuCo documentation page\n",
        "# I also did not find a way to access ERM's model member, which would have been helpful to create a helper\n",
        "# function that has the same functionality as get_trainset_outputs()\n",
        "\n",
        "\n",
        "\n",
        "erm = Trainer(\n",
        "    trainset=train_dataset,\n",
        "    model=model,\n",
        "    batch_size=64,\n",
        "    optimizer=optimizer,\n",
        "    device=device,\n",
        "    verbose=True\n",
        ")\n",
        "\n",
        "erm.train(num_epochs=2)"
      ],
      "metadata": {
        "colab": {
          "base_uri": "https://localhost:8080/"
        },
        "id": "HcnVgKaJmm8f",
        "outputId": "5a088c1b-0f39-40b2-8885-d363585229df"
      },
      "execution_count": 4,
      "outputs": [
        {
          "output_type": "stream",
          "name": "stderr",
          "text": [
            "/usr/local/lib/python3.11/dist-packages/torch/utils/data/dataloader.py:624: UserWarning: This DataLoader will create 4 worker processes in total. Our suggested max number of worker in current system is 2, which is smaller than what this DataLoader is going to create. Please be aware that excessive worker creation might get DataLoader running slow or even freeze, lower the worker number to avoid potential slowness/freeze if necessary.\n",
            "  warnings.warn(\n",
            "Epoch 0:   1%|          | 6/751 [00:00<01:20,  9.28batch/s, accuracy=17.1875%, loss=1.61]"
          ]
        },
        {
          "output_type": "stream",
          "name": "stdout",
          "text": [
            " | Epoch 0 | Loss: 1.6078457832336426 | Accuracy: 25.0%\n",
            " | Epoch 0 | Loss: 1.6167865991592407 | Accuracy: 18.75%\n",
            " | Epoch 0 | Loss: 1.6229197978973389 | Accuracy: 12.5%\n",
            " | Epoch 0 | Loss: 1.619679570198059 | Accuracy: 15.625%\n",
            " | Epoch 0 | Loss: 1.6206260919570923 | Accuracy: 15.625%\n",
            " | Epoch 0 | Loss: 1.605092167854309 | Accuracy: 26.5625%\n",
            " | Epoch 0 | Loss: 1.6084847450256348 | Accuracy: 23.4375%\n",
            " | Epoch 0 | Loss: 1.6137419939041138 | Accuracy: 21.875%\n",
            " | Epoch 0 | Loss: 1.6144967079162598 | Accuracy: 17.1875%\n"
          ]
        },
        {
          "output_type": "stream",
          "name": "stderr",
          "text": [
            "Epoch 0:   2%|▏         | 16/751 [00:01<00:32, 22.74batch/s, accuracy=26.5625%, loss=1.6] "
          ]
        },
        {
          "output_type": "stream",
          "name": "stdout",
          "text": [
            " | Epoch 0 | Loss: 1.6124110221862793 | Accuracy: 21.875%\n",
            " | Epoch 0 | Loss: 1.607881784439087 | Accuracy: 23.4375%\n",
            " | Epoch 0 | Loss: 1.6159592866897583 | Accuracy: 18.75%\n",
            " | Epoch 0 | Loss: 1.6198073625564575 | Accuracy: 17.1875%\n",
            " | Epoch 0 | Loss: 1.6104379892349243 | Accuracy: 21.875%\n",
            " | Epoch 0 | Loss: 1.5959687232971191 | Accuracy: 32.8125%\n",
            " | Epoch 0 | Loss: 1.6046741008758545 | Accuracy: 25.0%\n",
            " | Epoch 0 | Loss: 1.619891881942749 | Accuracy: 15.625%\n",
            " | Epoch 0 | Loss: 1.6172528266906738 | Accuracy: 17.1875%\n",
            " | Epoch 0 | Loss: 1.6025885343551636 | Accuracy: 26.5625%\n"
          ]
        },
        {
          "output_type": "stream",
          "name": "stderr",
          "text": [
            "Epoch 0:   3%|▎         | 26/751 [00:01<00:21, 33.00batch/s, accuracy=15.625%, loss=1.62]"
          ]
        },
        {
          "output_type": "stream",
          "name": "stdout",
          "text": [
            " | Epoch 0 | Loss: 1.6120167970657349 | Accuracy: 18.75%\n",
            " | Epoch 0 | Loss: 1.6175034046173096 | Accuracy: 17.1875%\n",
            " | Epoch 0 | Loss: 1.6115425825119019 | Accuracy: 18.75%\n",
            " | Epoch 0 | Loss: 1.6178711652755737 | Accuracy: 15.625%\n",
            " | Epoch 0 | Loss: 1.6083451509475708 | Accuracy: 20.3125%\n",
            " | Epoch 0 | Loss: 1.605375051498413 | Accuracy: 23.4375%\n",
            " | Epoch 0 | Loss: 1.6230629682540894 | Accuracy: 12.5%\n",
            " | Epoch 0 | Loss: 1.6083182096481323 | Accuracy: 23.4375%\n",
            " | Epoch 0 | Loss: 1.6035186052322388 | Accuracy: 25.0%\n",
            " | Epoch 0 | Loss: 1.618086814880371 | Accuracy: 15.625%\n"
          ]
        },
        {
          "output_type": "stream",
          "name": "stderr",
          "text": [
            "Epoch 0:   5%|▍         | 36/751 [00:01<00:18, 38.12batch/s, accuracy=12.5%, loss=1.62]  "
          ]
        },
        {
          "output_type": "stream",
          "name": "stdout",
          "text": [
            " | Epoch 0 | Loss: 1.6139076948165894 | Accuracy: 17.1875%\n",
            " | Epoch 0 | Loss: 1.6030312776565552 | Accuracy: 25.0%\n",
            " | Epoch 0 | Loss: 1.6096335649490356 | Accuracy: 20.3125%\n",
            " | Epoch 0 | Loss: 1.6077961921691895 | Accuracy: 20.3125%\n",
            " | Epoch 0 | Loss: 1.6173791885375977 | Accuracy: 12.5%\n",
            " | Epoch 0 | Loss: 1.6136411428451538 | Accuracy: 15.625%\n",
            " | Epoch 0 | Loss: 1.610512614250183 | Accuracy: 20.3125%\n",
            " | Epoch 0 | Loss: 1.6130356788635254 | Accuracy: 17.1875%\n",
            " | Epoch 0 | Loss: 1.616491675376892 | Accuracy: 15.625%\n",
            " | Epoch 0 | Loss: 1.6180951595306396 | Accuracy: 12.5%\n"
          ]
        },
        {
          "output_type": "stream",
          "name": "stderr",
          "text": [
            "Epoch 0:   6%|▌         | 46/751 [00:01<00:16, 42.63batch/s, accuracy=20.3125%, loss=1.6]"
          ]
        },
        {
          "output_type": "stream",
          "name": "stdout",
          "text": [
            " | Epoch 0 | Loss: 1.6032425165176392 | Accuracy: 25.0%\n",
            " | Epoch 0 | Loss: 1.6199754476547241 | Accuracy: 12.5%\n",
            " | Epoch 0 | Loss: 1.6112957000732422 | Accuracy: 17.1875%\n",
            " | Epoch 0 | Loss: 1.6040860414505005 | Accuracy: 23.4375%\n",
            " | Epoch 0 | Loss: 1.6027053594589233 | Accuracy: 26.5625%\n",
            " | Epoch 0 | Loss: 1.6112151145935059 | Accuracy: 18.75%\n",
            " | Epoch 0 | Loss: 1.6132447719573975 | Accuracy: 15.625%\n",
            " | Epoch 0 | Loss: 1.6021679639816284 | Accuracy: 25.0%\n",
            " | Epoch 0 | Loss: 1.6204144954681396 | Accuracy: 12.5%\n",
            " | Epoch 0 | Loss: 1.6048306226730347 | Accuracy: 20.3125%\n"
          ]
        },
        {
          "output_type": "stream",
          "name": "stderr",
          "text": [
            "Epoch 0:   7%|▋         | 56/751 [00:01<00:15, 44.27batch/s, accuracy=20.3125%, loss=1.61]"
          ]
        },
        {
          "output_type": "stream",
          "name": "stdout",
          "text": [
            " | Epoch 0 | Loss: 1.610091209411621 | Accuracy: 18.75%\n",
            " | Epoch 0 | Loss: 1.6100746393203735 | Accuracy: 17.1875%\n",
            " | Epoch 0 | Loss: 1.6168513298034668 | Accuracy: 10.9375%\n",
            " | Epoch 0 | Loss: 1.6041253805160522 | Accuracy: 23.4375%\n",
            " | Epoch 0 | Loss: 1.608632206916809 | Accuracy: 18.75%\n",
            " | Epoch 0 | Loss: 1.6073161363601685 | Accuracy: 20.3125%\n",
            " | Epoch 0 | Loss: 1.612077236175537 | Accuracy: 15.625%\n",
            " | Epoch 0 | Loss: 1.6145273447036743 | Accuracy: 15.625%\n",
            " | Epoch 0 | Loss: 1.607609748840332 | Accuracy: 20.3125%\n"
          ]
        },
        {
          "output_type": "stream",
          "name": "stderr",
          "text": [
            "Epoch 0:   9%|▉         | 66/751 [00:02<00:15, 43.39batch/s, accuracy=20.3125%, loss=1.61]"
          ]
        },
        {
          "output_type": "stream",
          "name": "stdout",
          "text": [
            " | Epoch 0 | Loss: 1.594498872756958 | Accuracy: 32.8125%\n",
            " | Epoch 0 | Loss: 1.5950384140014648 | Accuracy: 31.25%\n",
            " | Epoch 0 | Loss: 1.6088272333145142 | Accuracy: 20.3125%\n",
            " | Epoch 0 | Loss: 1.6055312156677246 | Accuracy: 21.875%\n",
            " | Epoch 0 | Loss: 1.5940343141555786 | Accuracy: 31.25%\n",
            " | Epoch 0 | Loss: 1.6041885614395142 | Accuracy: 21.875%\n",
            " | Epoch 0 | Loss: 1.609811544418335 | Accuracy: 17.1875%\n",
            " | Epoch 0 | Loss: 1.600767731666565 | Accuracy: 23.4375%\n",
            " | Epoch 0 | Loss: 1.6065751314163208 | Accuracy: 20.3125%\n"
          ]
        },
        {
          "output_type": "stream",
          "name": "stderr",
          "text": [
            "Epoch 0:  10%|█         | 76/751 [00:02<00:14, 45.69batch/s, accuracy=21.875%, loss=1.6] "
          ]
        },
        {
          "output_type": "stream",
          "name": "stdout",
          "text": [
            " | Epoch 0 | Loss: 1.596453070640564 | Accuracy: 26.5625%\n",
            " | Epoch 0 | Loss: 1.585858702659607 | Accuracy: 35.9375%\n",
            " | Epoch 0 | Loss: 1.6027214527130127 | Accuracy: 21.875%\n",
            " | Epoch 0 | Loss: 1.6153736114501953 | Accuracy: 10.9375%\n",
            " | Epoch 0 | Loss: 1.5965267419815063 | Accuracy: 26.5625%\n",
            " | Epoch 0 | Loss: 1.6081632375717163 | Accuracy: 17.1875%\n",
            " | Epoch 0 | Loss: 1.604158639907837 | Accuracy: 21.875%\n",
            " | Epoch 0 | Loss: 1.6113284826278687 | Accuracy: 14.0625%\n",
            " | Epoch 0 | Loss: 1.602396011352539 | Accuracy: 23.4375%\n",
            " | Epoch 0 | Loss: 1.6028515100479126 | Accuracy: 21.875%\n"
          ]
        },
        {
          "output_type": "stream",
          "name": "stderr",
          "text": [
            "Epoch 0:  11%|█▏        | 86/751 [00:02<00:14, 46.15batch/s, accuracy=32.8125%, loss=1.59]"
          ]
        },
        {
          "output_type": "stream",
          "name": "stdout",
          "text": [
            " | Epoch 0 | Loss: 1.6199984550476074 | Accuracy: 9.375%\n",
            " | Epoch 0 | Loss: 1.6031900644302368 | Accuracy: 20.3125%\n",
            " | Epoch 0 | Loss: 1.6087945699691772 | Accuracy: 15.625%\n",
            " | Epoch 0 | Loss: 1.6073987483978271 | Accuracy: 17.1875%\n",
            " | Epoch 0 | Loss: 1.5977025032043457 | Accuracy: 25.0%\n",
            " | Epoch 0 | Loss: 1.6018046140670776 | Accuracy: 21.875%\n",
            " | Epoch 0 | Loss: 1.6067638397216797 | Accuracy: 17.1875%\n",
            " | Epoch 0 | Loss: 1.591785192489624 | Accuracy: 31.25%\n",
            " | Epoch 0 | Loss: 1.6040446758270264 | Accuracy: 18.75%\n",
            " | Epoch 0 | Loss: 1.5882619619369507 | Accuracy: 32.8125%\n"
          ]
        },
        {
          "output_type": "stream",
          "name": "stderr",
          "text": [
            "Epoch 0:  13%|█▎        | 96/751 [00:02<00:13, 47.36batch/s, accuracy=21.875%, loss=1.6] "
          ]
        },
        {
          "output_type": "stream",
          "name": "stdout",
          "text": [
            " | Epoch 0 | Loss: 1.5941823720932007 | Accuracy: 26.5625%\n",
            " | Epoch 0 | Loss: 1.60603666305542 | Accuracy: 18.75%\n",
            " | Epoch 0 | Loss: 1.6067595481872559 | Accuracy: 18.75%\n",
            " | Epoch 0 | Loss: 1.604458212852478 | Accuracy: 18.75%\n",
            " | Epoch 0 | Loss: 1.6053664684295654 | Accuracy: 17.1875%\n",
            " | Epoch 0 | Loss: 1.601341962814331 | Accuracy: 20.3125%\n",
            " | Epoch 0 | Loss: 1.6056182384490967 | Accuracy: 18.75%\n",
            " | Epoch 0 | Loss: 1.5998543500900269 | Accuracy: 20.3125%\n",
            " | Epoch 0 | Loss: 1.6063493490219116 | Accuracy: 15.625%\n",
            " | Epoch 0 | Loss: 1.6025586128234863 | Accuracy: 21.875%\n"
          ]
        },
        {
          "output_type": "stream",
          "name": "stderr",
          "text": [
            "Epoch 0:  14%|█▍        | 106/751 [00:03<00:14, 45.07batch/s, accuracy=32.8125%, loss=1.58]"
          ]
        },
        {
          "output_type": "stream",
          "name": "stdout",
          "text": [
            " | Epoch 0 | Loss: 1.5998533964157104 | Accuracy: 21.875%\n",
            " | Epoch 0 | Loss: 1.6031975746154785 | Accuracy: 20.3125%\n",
            " | Epoch 0 | Loss: 1.6000081300735474 | Accuracy: 21.875%\n",
            " | Epoch 0 | Loss: 1.597166895866394 | Accuracy: 23.4375%\n",
            " | Epoch 0 | Loss: 1.6100389957427979 | Accuracy: 12.5%\n",
            " | Epoch 0 | Loss: 1.601315975189209 | Accuracy: 18.75%\n",
            " | Epoch 0 | Loss: 1.5885783433914185 | Accuracy: 28.125%\n",
            " | Epoch 0 | Loss: 1.598120927810669 | Accuracy: 20.3125%\n",
            " | Epoch 0 | Loss: 1.5844300985336304 | Accuracy: 32.8125%\n"
          ]
        },
        {
          "output_type": "stream",
          "name": "stderr",
          "text": [
            "Epoch 0:  15%|█▌        | 116/751 [00:03<00:13, 47.25batch/s, accuracy=9.375%, loss=1.61]  "
          ]
        },
        {
          "output_type": "stream",
          "name": "stdout",
          "text": [
            " | Epoch 0 | Loss: 1.59341561794281 | Accuracy: 25.0%\n",
            " | Epoch 0 | Loss: 1.5951696634292603 | Accuracy: 23.4375%\n",
            " | Epoch 0 | Loss: 1.5983772277832031 | Accuracy: 20.3125%\n",
            " | Epoch 0 | Loss: 1.600699543952942 | Accuracy: 21.875%\n",
            " | Epoch 0 | Loss: 1.6048380136489868 | Accuracy: 18.75%\n",
            " | Epoch 0 | Loss: 1.6144397258758545 | Accuracy: 9.375%\n",
            " | Epoch 0 | Loss: 1.6008659601211548 | Accuracy: 20.3125%\n",
            " | Epoch 0 | Loss: 1.6043403148651123 | Accuracy: 15.625%\n",
            " | Epoch 0 | Loss: 1.600894570350647 | Accuracy: 20.3125%\n",
            " | Epoch 0 | Loss: 1.594937801361084 | Accuracy: 23.4375%\n",
            " | Epoch 0 | Loss: 1.613665223121643 | Accuracy: 9.375%\n"
          ]
        },
        {
          "output_type": "stream",
          "name": "stderr",
          "text": [
            "Epoch 0:  17%|█▋        | 126/751 [00:03<00:13, 46.42batch/s, accuracy=17.1875%, loss=1.6]"
          ]
        },
        {
          "output_type": "stream",
          "name": "stdout",
          "text": [
            " | Epoch 0 | Loss: 1.603428840637207 | Accuracy: 15.625%\n",
            " | Epoch 0 | Loss: 1.5991291999816895 | Accuracy: 18.75%\n",
            " | Epoch 0 | Loss: 1.6004040241241455 | Accuracy: 20.3125%\n",
            " | Epoch 0 | Loss: 1.5942350625991821 | Accuracy: 25.0%\n",
            " | Epoch 0 | Loss: 1.5980556011199951 | Accuracy: 21.875%\n",
            " | Epoch 0 | Loss: 1.5997428894042969 | Accuracy: 20.3125%\n",
            " | Epoch 0 | Loss: 1.6059467792510986 | Accuracy: 17.1875%\n",
            " | Epoch 0 | Loss: 1.5968732833862305 | Accuracy: 21.875%\n",
            " | Epoch 0 | Loss: 1.5988450050354004 | Accuracy: 20.3125%\n",
            " | Epoch 0 | Loss: 1.6012343168258667 | Accuracy: 17.1875%\n"
          ]
        },
        {
          "output_type": "stream",
          "name": "stderr",
          "text": [
            "Epoch 0:  18%|█▊        | 136/751 [00:03<00:13, 46.47batch/s, accuracy=26.5625%, loss=1.59]"
          ]
        },
        {
          "output_type": "stream",
          "name": "stdout",
          "text": [
            " | Epoch 0 | Loss: 1.6042938232421875 | Accuracy: 12.5%\n",
            " | Epoch 0 | Loss: 1.599096417427063 | Accuracy: 20.3125%\n",
            " | Epoch 0 | Loss: 1.5937196016311646 | Accuracy: 23.4375%\n",
            " | Epoch 0 | Loss: 1.595732569694519 | Accuracy: 21.875%\n",
            " | Epoch 0 | Loss: 1.5986970663070679 | Accuracy: 17.1875%\n",
            " | Epoch 0 | Loss: 1.591896653175354 | Accuracy: 23.4375%\n",
            " | Epoch 0 | Loss: 1.588457465171814 | Accuracy: 26.5625%\n",
            " | Epoch 0 | Loss: 1.5944993495941162 | Accuracy: 20.3125%\n",
            " | Epoch 0 | Loss: 1.5975925922393799 | Accuracy: 20.3125%\n",
            " | Epoch 0 | Loss: 1.5892512798309326 | Accuracy: 26.5625%\n"
          ]
        },
        {
          "output_type": "stream",
          "name": "stderr",
          "text": [
            "Epoch 0:  19%|█▉        | 146/751 [00:03<00:12, 47.23batch/s, accuracy=17.1875%, loss=1.6]"
          ]
        },
        {
          "output_type": "stream",
          "name": "stdout",
          "text": [
            " | Epoch 0 | Loss: 1.5877500772476196 | Accuracy: 25.0%\n",
            " | Epoch 0 | Loss: 1.5945477485656738 | Accuracy: 21.875%\n",
            " | Epoch 0 | Loss: 1.5974103212356567 | Accuracy: 18.75%\n",
            " | Epoch 0 | Loss: 1.58549964427948 | Accuracy: 26.5625%\n",
            " | Epoch 0 | Loss: 1.5780634880065918 | Accuracy: 35.9375%\n",
            " | Epoch 0 | Loss: 1.5905966758728027 | Accuracy: 23.4375%\n",
            " | Epoch 0 | Loss: 1.6000570058822632 | Accuracy: 17.1875%\n",
            " | Epoch 0 | Loss: 1.6007086038589478 | Accuracy: 15.625%\n",
            " | Epoch 0 | Loss: 1.587996006011963 | Accuracy: 25.0%\n",
            " | Epoch 0 | Loss: 1.5969406366348267 | Accuracy: 17.1875%\n"
          ]
        },
        {
          "output_type": "stream",
          "name": "stderr",
          "text": [
            "Epoch 0:  20%|██        | 151/751 [00:04<00:14, 42.40batch/s, accuracy=14.0625%, loss=1.6] "
          ]
        },
        {
          "output_type": "stream",
          "name": "stdout",
          "text": [
            " | Epoch 0 | Loss: 1.5974456071853638 | Accuracy: 17.1875%\n",
            " | Epoch 0 | Loss: 1.5885004997253418 | Accuracy: 25.0%\n",
            " | Epoch 0 | Loss: 1.5881420373916626 | Accuracy: 21.875%\n",
            " | Epoch 0 | Loss: 1.6038522720336914 | Accuracy: 9.375%\n",
            " | Epoch 0 | Loss: 1.5886245965957642 | Accuracy: 21.875%\n",
            " | Epoch 0 | Loss: 1.5821278095245361 | Accuracy: 29.6875%\n",
            " | Epoch 0 | Loss: 1.6008669137954712 | Accuracy: 14.0625%\n"
          ]
        },
        {
          "output_type": "stream",
          "name": "stderr",
          "text": [
            "Epoch 0:  21%|██▏       | 160/751 [00:04<00:15, 37.32batch/s, accuracy=17.1875%, loss=1.59]"
          ]
        },
        {
          "output_type": "stream",
          "name": "stdout",
          "text": [
            " | Epoch 0 | Loss: 1.593351125717163 | Accuracy: 20.3125%\n",
            " | Epoch 0 | Loss: 1.5855311155319214 | Accuracy: 26.5625%\n",
            " | Epoch 0 | Loss: 1.5855753421783447 | Accuracy: 25.0%\n",
            " | Epoch 0 | Loss: 1.5931869745254517 | Accuracy: 17.1875%\n",
            " | Epoch 0 | Loss: 1.5906299352645874 | Accuracy: 21.875%\n",
            " | Epoch 0 | Loss: 1.594864845275879 | Accuracy: 14.0625%\n",
            " | Epoch 0 | Loss: 1.5918306112289429 | Accuracy: 17.1875%\n"
          ]
        },
        {
          "output_type": "stream",
          "name": "stderr",
          "text": [
            "Epoch 0:  22%|██▏       | 168/751 [00:04<00:17, 33.85batch/s, accuracy=23.4375%, loss=1.59]"
          ]
        },
        {
          "output_type": "stream",
          "name": "stdout",
          "text": [
            " | Epoch 0 | Loss: 1.595859169960022 | Accuracy: 12.5%\n",
            " | Epoch 0 | Loss: 1.5856410264968872 | Accuracy: 21.875%\n",
            " | Epoch 0 | Loss: 1.5877985954284668 | Accuracy: 23.4375%\n",
            " | Epoch 0 | Loss: 1.5954406261444092 | Accuracy: 15.625%\n",
            " | Epoch 0 | Loss: 1.5934044122695923 | Accuracy: 15.625%\n",
            " | Epoch 0 | Loss: 1.600345253944397 | Accuracy: 10.9375%\n",
            " | Epoch 0 | Loss: 1.58551025390625 | Accuracy: 23.4375%\n"
          ]
        },
        {
          "output_type": "stream",
          "name": "stderr",
          "text": [
            "Epoch 0:  23%|██▎       | 176/751 [00:04<00:16, 34.27batch/s, accuracy=20.3125%, loss=1.58]"
          ]
        },
        {
          "output_type": "stream",
          "name": "stdout",
          "text": [
            " | Epoch 0 | Loss: 1.5885717868804932 | Accuracy: 17.1875%\n",
            " | Epoch 0 | Loss: 1.5861636400222778 | Accuracy: 20.3125%\n",
            " | Epoch 0 | Loss: 1.5896835327148438 | Accuracy: 17.1875%\n",
            " | Epoch 0 | Loss: 1.5847840309143066 | Accuracy: 21.875%\n",
            " | Epoch 0 | Loss: 1.589830756187439 | Accuracy: 17.1875%\n",
            " | Epoch 0 | Loss: 1.5919231176376343 | Accuracy: 17.1875%\n",
            " | Epoch 0 | Loss: 1.5907714366912842 | Accuracy: 15.625%\n",
            " | Epoch 0 | Loss: 1.5827178955078125 | Accuracy: 20.3125%\n"
          ]
        },
        {
          "output_type": "stream",
          "name": "stderr",
          "text": [
            "Epoch 0:  24%|██▍       | 180/751 [00:04<00:17, 33.25batch/s, accuracy=29.6875%, loss=1.57]"
          ]
        },
        {
          "output_type": "stream",
          "name": "stdout",
          "text": [
            " | Epoch 0 | Loss: 1.5707014799118042 | Accuracy: 29.6875%\n",
            " | Epoch 0 | Loss: 1.5866411924362183 | Accuracy: 17.1875%\n",
            " | Epoch 0 | Loss: 1.5719548463821411 | Accuracy: 31.25%\n",
            " | Epoch 0 | Loss: 1.586467981338501 | Accuracy: 18.75%\n",
            " | Epoch 0 | Loss: 1.5892354249954224 | Accuracy: 18.75%\n",
            " | Epoch 0 | Loss: 1.5736116170883179 | Accuracy: 29.6875%\n"
          ]
        },
        {
          "output_type": "stream",
          "name": "stderr",
          "text": [
            "Epoch 0:  25%|██▌       | 188/751 [00:05<00:17, 31.74batch/s, accuracy=25.0%, loss=1.57]   "
          ]
        },
        {
          "output_type": "stream",
          "name": "stdout",
          "text": [
            " | Epoch 0 | Loss: 1.5849965810775757 | Accuracy: 20.3125%\n",
            " | Epoch 0 | Loss: 1.584029197692871 | Accuracy: 17.1875%\n",
            " | Epoch 0 | Loss: 1.5825597047805786 | Accuracy: 20.3125%\n",
            " | Epoch 0 | Loss: 1.5718261003494263 | Accuracy: 28.125%\n",
            " | Epoch 0 | Loss: 1.5679187774658203 | Accuracy: 29.6875%\n",
            " | Epoch 0 | Loss: 1.5793882608413696 | Accuracy: 23.4375%\n",
            " | Epoch 0 | Loss: 1.572202205657959 | Accuracy: 25.0%\n"
          ]
        },
        {
          "output_type": "stream",
          "name": "stderr",
          "text": [
            "Epoch 0:  26%|██▌       | 196/751 [00:05<00:16, 33.34batch/s, accuracy=18.75%, loss=1.58]  "
          ]
        },
        {
          "output_type": "stream",
          "name": "stdout",
          "text": [
            " | Epoch 0 | Loss: 1.5791003704071045 | Accuracy: 23.4375%\n",
            " | Epoch 0 | Loss: 1.5867273807525635 | Accuracy: 15.625%\n",
            " | Epoch 0 | Loss: 1.5868529081344604 | Accuracy: 14.0625%\n",
            " | Epoch 0 | Loss: 1.587257981300354 | Accuracy: 10.9375%\n",
            " | Epoch 0 | Loss: 1.581982135772705 | Accuracy: 15.625%\n",
            " | Epoch 0 | Loss: 1.5733988285064697 | Accuracy: 23.4375%\n",
            " | Epoch 0 | Loss: 1.5838441848754883 | Accuracy: 14.0625%\n",
            " | Epoch 0 | Loss: 1.5829654932022095 | Accuracy: 18.75%\n"
          ]
        },
        {
          "output_type": "stream",
          "name": "stderr",
          "text": [
            "Epoch 0:  27%|██▋       | 204/751 [00:05<00:16, 33.10batch/s, accuracy=21.875%, loss=1.57]"
          ]
        },
        {
          "output_type": "stream",
          "name": "stdout",
          "text": [
            " | Epoch 0 | Loss: 1.5749391317367554 | Accuracy: 21.875%\n",
            " | Epoch 0 | Loss: 1.5746225118637085 | Accuracy: 20.3125%\n",
            " | Epoch 0 | Loss: 1.5755910873413086 | Accuracy: 18.75%\n",
            " | Epoch 0 | Loss: 1.5826970338821411 | Accuracy: 17.1875%\n",
            " | Epoch 0 | Loss: 1.5796890258789062 | Accuracy: 18.75%\n",
            " | Epoch 0 | Loss: 1.5744147300720215 | Accuracy: 20.3125%\n",
            " | Epoch 0 | Loss: 1.5675700902938843 | Accuracy: 21.875%\n"
          ]
        },
        {
          "output_type": "stream",
          "name": "stderr",
          "text": [
            "Epoch 0:  28%|██▊       | 212/751 [00:05<00:15, 34.06batch/s, accuracy=40.625%, loss=1.55]"
          ]
        },
        {
          "output_type": "stream",
          "name": "stdout",
          "text": [
            " | Epoch 0 | Loss: 1.5721874237060547 | Accuracy: 20.3125%\n",
            " | Epoch 0 | Loss: 1.5611265897750854 | Accuracy: 26.5625%\n",
            " | Epoch 0 | Loss: 1.5613187551498413 | Accuracy: 25.0%\n",
            " | Epoch 0 | Loss: 1.579620599746704 | Accuracy: 12.5%\n",
            " | Epoch 0 | Loss: 1.568676233291626 | Accuracy: 23.4375%\n",
            " | Epoch 0 | Loss: 1.5745638608932495 | Accuracy: 18.75%\n",
            " | Epoch 0 | Loss: 1.5633153915405273 | Accuracy: 26.5625%\n",
            " | Epoch 0 | Loss: 1.547620415687561 | Accuracy: 40.625%\n"
          ]
        },
        {
          "output_type": "stream",
          "name": "stderr",
          "text": [
            "Epoch 0:  29%|██▉       | 216/751 [00:06<00:16, 31.83batch/s, accuracy=35.9375%, loss=1.55]"
          ]
        },
        {
          "output_type": "stream",
          "name": "stdout",
          "text": [
            " | Epoch 0 | Loss: 1.570931077003479 | Accuracy: 21.875%\n",
            " | Epoch 0 | Loss: 1.5843557119369507 | Accuracy: 21.875%\n",
            " | Epoch 0 | Loss: 1.578988790512085 | Accuracy: 21.875%\n",
            " | Epoch 0 | Loss: 1.570517659187317 | Accuracy: 25.0%\n",
            " | Epoch 0 | Loss: 1.5614668130874634 | Accuracy: 23.4375%\n",
            " | Epoch 0 | Loss: 1.554936408996582 | Accuracy: 37.5%\n"
          ]
        },
        {
          "output_type": "stream",
          "name": "stderr",
          "text": [
            "Epoch 0:  30%|██▉       | 224/751 [00:06<00:16, 32.29batch/s, accuracy=26.5625%, loss=1.56]"
          ]
        },
        {
          "output_type": "stream",
          "name": "stdout",
          "text": [
            " | Epoch 0 | Loss: 1.5513575077056885 | Accuracy: 35.9375%\n",
            " | Epoch 0 | Loss: 1.5684679746627808 | Accuracy: 26.5625%\n",
            " | Epoch 0 | Loss: 1.570255160331726 | Accuracy: 20.3125%\n",
            " | Epoch 0 | Loss: 1.5701227188110352 | Accuracy: 21.875%\n",
            " | Epoch 0 | Loss: 1.5616480112075806 | Accuracy: 29.6875%\n",
            " | Epoch 0 | Loss: 1.5446358919143677 | Accuracy: 34.375%\n",
            " | Epoch 0 | Loss: 1.5625656843185425 | Accuracy: 26.5625%\n"
          ]
        },
        {
          "output_type": "stream",
          "name": "stderr",
          "text": [
            "Epoch 0:  31%|███       | 232/751 [00:06<00:15, 32.57batch/s, accuracy=34.375%, loss=1.56]"
          ]
        },
        {
          "output_type": "stream",
          "name": "stdout",
          "text": [
            " | Epoch 0 | Loss: 1.5666203498840332 | Accuracy: 20.3125%\n",
            " | Epoch 0 | Loss: 1.5553126335144043 | Accuracy: 32.8125%\n",
            " | Epoch 0 | Loss: 1.5473904609680176 | Accuracy: 39.0625%\n",
            " | Epoch 0 | Loss: 1.550939917564392 | Accuracy: 26.5625%\n",
            " | Epoch 0 | Loss: 1.5596219301223755 | Accuracy: 29.6875%\n",
            " | Epoch 0 | Loss: 1.5619455575942993 | Accuracy: 25.0%\n",
            " | Epoch 0 | Loss: 1.556307315826416 | Accuracy: 34.375%\n"
          ]
        },
        {
          "output_type": "stream",
          "name": "stderr",
          "text": [
            "Epoch 0:  31%|███▏      | 236/751 [00:06<00:16, 31.07batch/s, accuracy=40.625%, loss=1.53]"
          ]
        },
        {
          "output_type": "stream",
          "name": "stdout",
          "text": [
            " | Epoch 0 | Loss: 1.555443525314331 | Accuracy: 26.5625%\n",
            " | Epoch 0 | Loss: 1.5506137609481812 | Accuracy: 29.6875%\n",
            " | Epoch 0 | Loss: 1.546993613243103 | Accuracy: 34.375%\n",
            " | Epoch 0 | Loss: 1.553936243057251 | Accuracy: 35.9375%\n",
            " | Epoch 0 | Loss: 1.5411367416381836 | Accuracy: 37.5%\n",
            " | Epoch 0 | Loss: 1.559131145477295 | Accuracy: 28.125%\n",
            " | Epoch 0 | Loss: 1.5282293558120728 | Accuracy: 40.625%\n"
          ]
        },
        {
          "output_type": "stream",
          "name": "stderr",
          "text": [
            "Epoch 0:  32%|███▏      | 244/751 [00:06<00:16, 30.57batch/s, accuracy=43.75%, loss=1.54]  "
          ]
        },
        {
          "output_type": "stream",
          "name": "stdout",
          "text": [
            " | Epoch 0 | Loss: 1.5544402599334717 | Accuracy: 35.9375%\n",
            " | Epoch 0 | Loss: 1.5633635520935059 | Accuracy: 23.4375%\n",
            " | Epoch 0 | Loss: 1.5677887201309204 | Accuracy: 28.125%\n",
            " | Epoch 0 | Loss: 1.5545473098754883 | Accuracy: 37.5%\n",
            " | Epoch 0 | Loss: 1.5355198383331299 | Accuracy: 42.1875%\n",
            " | Epoch 0 | Loss: 1.5414074659347534 | Accuracy: 43.75%\n"
          ]
        },
        {
          "output_type": "stream",
          "name": "stderr",
          "text": [
            "Epoch 0:  34%|███▎      | 252/751 [00:07<00:15, 31.71batch/s, accuracy=48.4375%, loss=1.55]"
          ]
        },
        {
          "output_type": "stream",
          "name": "stdout",
          "text": [
            " | Epoch 0 | Loss: 1.5557788610458374 | Accuracy: 40.625%\n",
            " | Epoch 0 | Loss: 1.5312964916229248 | Accuracy: 51.5625%\n",
            " | Epoch 0 | Loss: 1.5207006931304932 | Accuracy: 48.4375%\n",
            " | Epoch 0 | Loss: 1.5330878496170044 | Accuracy: 46.875%\n",
            " | Epoch 0 | Loss: 1.5084495544433594 | Accuracy: 54.6875%\n",
            " | Epoch 0 | Loss: 1.540798306465149 | Accuracy: 43.75%\n",
            " | Epoch 0 | Loss: 1.5482267141342163 | Accuracy: 48.4375%\n"
          ]
        },
        {
          "output_type": "stream",
          "name": "stderr",
          "text": [
            "Epoch 0:  35%|███▍      | 261/751 [00:07<00:13, 37.19batch/s, accuracy=45.3125%, loss=1.53]"
          ]
        },
        {
          "output_type": "stream",
          "name": "stdout",
          "text": [
            " | Epoch 0 | Loss: 1.536017894744873 | Accuracy: 54.6875%\n",
            " | Epoch 0 | Loss: 1.522395133972168 | Accuracy: 53.125%\n",
            " | Epoch 0 | Loss: 1.519528865814209 | Accuracy: 56.25%\n",
            " | Epoch 0 | Loss: 1.557029366493225 | Accuracy: 43.75%\n",
            " | Epoch 0 | Loss: 1.5379170179367065 | Accuracy: 62.5%\n",
            " | Epoch 0 | Loss: 1.5282440185546875 | Accuracy: 50.0%\n",
            " | Epoch 0 | Loss: 1.5350701808929443 | Accuracy: 46.875%\n",
            " | Epoch 0 | Loss: 1.514878749847412 | Accuracy: 48.4375%\n",
            " | Epoch 0 | Loss: 1.5321593284606934 | Accuracy: 45.3125%\n"
          ]
        },
        {
          "output_type": "stream",
          "name": "stderr",
          "text": [
            "Epoch 0:  36%|███▌      | 271/751 [00:07<00:11, 42.14batch/s, accuracy=54.6875%, loss=1.5]"
          ]
        },
        {
          "output_type": "stream",
          "name": "stdout",
          "text": [
            " | Epoch 0 | Loss: 1.5168218612670898 | Accuracy: 53.125%\n",
            " | Epoch 0 | Loss: 1.5204094648361206 | Accuracy: 40.625%\n",
            " | Epoch 0 | Loss: 1.4986158609390259 | Accuracy: 56.25%\n",
            " | Epoch 0 | Loss: 1.5059843063354492 | Accuracy: 59.375%\n",
            " | Epoch 0 | Loss: 1.5175151824951172 | Accuracy: 53.125%\n",
            " | Epoch 0 | Loss: 1.4603440761566162 | Accuracy: 60.9375%\n",
            " | Epoch 0 | Loss: 1.4722837209701538 | Accuracy: 60.9375%\n",
            " | Epoch 0 | Loss: 1.520552158355713 | Accuracy: 48.4375%\n",
            " | Epoch 0 | Loss: 1.5321574211120605 | Accuracy: 50.0%\n",
            " | Epoch 0 | Loss: 1.4976611137390137 | Accuracy: 54.6875%\n"
          ]
        },
        {
          "output_type": "stream",
          "name": "stderr",
          "text": [
            "Epoch 0:  37%|███▋      | 281/751 [00:07<00:10, 43.84batch/s, accuracy=37.5%, loss=1.5]"
          ]
        },
        {
          "output_type": "stream",
          "name": "stdout",
          "text": [
            " | Epoch 0 | Loss: 1.4993095397949219 | Accuracy: 56.25%\n",
            " | Epoch 0 | Loss: 1.5061612129211426 | Accuracy: 50.0%\n",
            " | Epoch 0 | Loss: 1.4986093044281006 | Accuracy: 53.125%\n",
            " | Epoch 0 | Loss: 1.4386519193649292 | Accuracy: 67.1875%\n",
            " | Epoch 0 | Loss: 1.5055139064788818 | Accuracy: 51.5625%\n",
            " | Epoch 0 | Loss: 1.5054312944412231 | Accuracy: 48.4375%\n",
            " | Epoch 0 | Loss: 1.4719011783599854 | Accuracy: 46.875%\n",
            " | Epoch 0 | Loss: 1.506355881690979 | Accuracy: 57.8125%\n",
            " | Epoch 0 | Loss: 1.4853954315185547 | Accuracy: 65.625%\n",
            " | Epoch 0 | Loss: 1.4983482360839844 | Accuracy: 37.5%\n"
          ]
        },
        {
          "output_type": "stream",
          "name": "stderr",
          "text": [
            "Epoch 0:  38%|███▊      | 286/751 [00:08<00:10, 43.79batch/s, accuracy=53.125%, loss=1.46]"
          ]
        },
        {
          "output_type": "stream",
          "name": "stdout",
          "text": [
            " | Epoch 0 | Loss: 1.4578121900558472 | Accuracy: 54.6875%\n",
            " | Epoch 0 | Loss: 1.4875857830047607 | Accuracy: 50.0%\n",
            " | Epoch 0 | Loss: 1.467998743057251 | Accuracy: 62.5%\n",
            " | Epoch 0 | Loss: 1.4420872926712036 | Accuracy: 60.9375%\n",
            " | Epoch 0 | Loss: 1.453099250793457 | Accuracy: 53.125%\n",
            " | Epoch 0 | Loss: 1.4534307718276978 | Accuracy: 57.8125%\n",
            " | Epoch 0 | Loss: 1.4538768529891968 | Accuracy: 45.3125%\n",
            " | Epoch 0 | Loss: 1.4915976524353027 | Accuracy: 43.75%\n",
            " | Epoch 0 | Loss: 1.4615676403045654 | Accuracy: 53.125%\n"
          ]
        },
        {
          "output_type": "stream",
          "name": "stderr",
          "text": [
            "Epoch 0:  39%|███▉      | 296/751 [00:08<00:10, 44.35batch/s, accuracy=53.125%, loss=1.43]"
          ]
        },
        {
          "output_type": "stream",
          "name": "stdout",
          "text": [
            " | Epoch 0 | Loss: 1.4607577323913574 | Accuracy: 48.4375%\n",
            " | Epoch 0 | Loss: 1.4206702709197998 | Accuracy: 65.625%\n",
            " | Epoch 0 | Loss: 1.432548999786377 | Accuracy: 53.125%\n",
            " | Epoch 0 | Loss: 1.4510290622711182 | Accuracy: 50.0%\n",
            " | Epoch 0 | Loss: 1.4087581634521484 | Accuracy: 56.25%\n",
            " | Epoch 0 | Loss: 1.459835410118103 | Accuracy: 46.875%\n",
            " | Epoch 0 | Loss: 1.3984365463256836 | Accuracy: 54.6875%\n",
            " | Epoch 0 | Loss: 1.421293020248413 | Accuracy: 48.4375%\n",
            " | Epoch 0 | Loss: 1.423434853553772 | Accuracy: 43.75%\n",
            " | Epoch 0 | Loss: 1.4278395175933838 | Accuracy: 53.125%\n"
          ]
        },
        {
          "output_type": "stream",
          "name": "stderr",
          "text": [
            "Epoch 0:  41%|████      | 306/751 [00:08<00:09, 45.84batch/s, accuracy=37.5%, loss=1.39] "
          ]
        },
        {
          "output_type": "stream",
          "name": "stdout",
          "text": [
            " | Epoch 0 | Loss: 1.447434902191162 | Accuracy: 56.25%\n",
            " | Epoch 0 | Loss: 1.3980733156204224 | Accuracy: 56.25%\n",
            " | Epoch 0 | Loss: 1.424160122871399 | Accuracy: 48.4375%\n",
            " | Epoch 0 | Loss: 1.3983820676803589 | Accuracy: 46.875%\n",
            " | Epoch 0 | Loss: 1.2895421981811523 | Accuracy: 65.625%\n",
            " | Epoch 0 | Loss: 1.4020930528640747 | Accuracy: 43.75%\n",
            " | Epoch 0 | Loss: 1.3782750368118286 | Accuracy: 68.75%\n",
            " | Epoch 0 | Loss: 1.3958622217178345 | Accuracy: 43.75%\n",
            " | Epoch 0 | Loss: 1.337620735168457 | Accuracy: 56.25%\n",
            " | Epoch 0 | Loss: 1.3907467126846313 | Accuracy: 37.5%\n"
          ]
        },
        {
          "output_type": "stream",
          "name": "stderr",
          "text": [
            "Epoch 0:  42%|████▏     | 316/751 [00:08<00:09, 46.31batch/s, accuracy=39.0625%, loss=1.3]"
          ]
        },
        {
          "output_type": "stream",
          "name": "stdout",
          "text": [
            " | Epoch 0 | Loss: 1.3830928802490234 | Accuracy: 46.875%\n",
            " | Epoch 0 | Loss: 1.3334790468215942 | Accuracy: 57.8125%\n",
            " | Epoch 0 | Loss: 1.3233535289764404 | Accuracy: 59.375%\n",
            " | Epoch 0 | Loss: 1.3067104816436768 | Accuracy: 59.375%\n",
            " | Epoch 0 | Loss: 1.2913485765457153 | Accuracy: 54.6875%\n",
            " | Epoch 0 | Loss: 1.320156216621399 | Accuracy: 51.5625%\n",
            " | Epoch 0 | Loss: 1.3591070175170898 | Accuracy: 51.5625%\n",
            " | Epoch 0 | Loss: 1.3315509557724 | Accuracy: 46.875%\n",
            " | Epoch 0 | Loss: 1.298965334892273 | Accuracy: 39.0625%\n"
          ]
        },
        {
          "output_type": "stream",
          "name": "stderr",
          "text": [
            "Epoch 0:  43%|████▎     | 326/751 [00:08<00:09, 45.38batch/s, accuracy=37.5%, loss=1.24]  "
          ]
        },
        {
          "output_type": "stream",
          "name": "stdout",
          "text": [
            " | Epoch 0 | Loss: 1.3292131423950195 | Accuracy: 43.75%\n",
            " | Epoch 0 | Loss: 1.333899974822998 | Accuracy: 48.4375%\n",
            " | Epoch 0 | Loss: 1.2923197746276855 | Accuracy: 45.3125%\n",
            " | Epoch 0 | Loss: 1.329483985900879 | Accuracy: 59.375%\n",
            " | Epoch 0 | Loss: 1.3059797286987305 | Accuracy: 51.5625%\n",
            " | Epoch 0 | Loss: 1.3158963918685913 | Accuracy: 46.875%\n",
            " | Epoch 0 | Loss: 1.2270524501800537 | Accuracy: 46.875%\n",
            " | Epoch 0 | Loss: 1.3325166702270508 | Accuracy: 28.125%\n",
            " | Epoch 0 | Loss: 1.2620794773101807 | Accuracy: 34.375%\n",
            " | Epoch 0 | Loss: 1.2439690828323364 | Accuracy: 37.5%\n"
          ]
        },
        {
          "output_type": "stream",
          "name": "stderr",
          "text": [
            "Epoch 0:  45%|████▍     | 336/751 [00:09<00:09, 43.41batch/s, accuracy=34.375%, loss=1.19]"
          ]
        },
        {
          "output_type": "stream",
          "name": "stdout",
          "text": [
            " | Epoch 0 | Loss: 1.2183032035827637 | Accuracy: 39.0625%\n",
            " | Epoch 0 | Loss: 1.2730695009231567 | Accuracy: 31.25%\n",
            " | Epoch 0 | Loss: 1.240924596786499 | Accuracy: 31.25%\n",
            " | Epoch 0 | Loss: 1.2393730878829956 | Accuracy: 43.75%\n",
            " | Epoch 0 | Loss: 1.263953447341919 | Accuracy: 32.8125%\n",
            " | Epoch 0 | Loss: 1.2780554294586182 | Accuracy: 37.5%\n",
            " | Epoch 0 | Loss: 1.2205058336257935 | Accuracy: 34.375%\n",
            " | Epoch 0 | Loss: 1.260704517364502 | Accuracy: 34.375%\n",
            " | Epoch 0 | Loss: 1.1858245134353638 | Accuracy: 34.375%\n"
          ]
        },
        {
          "output_type": "stream",
          "name": "stderr",
          "text": [
            "Epoch 0:  46%|████▌     | 346/751 [00:09<00:08, 45.20batch/s, accuracy=35.9375%, loss=1.23]"
          ]
        },
        {
          "output_type": "stream",
          "name": "stdout",
          "text": [
            " | Epoch 0 | Loss: 1.1965291500091553 | Accuracy: 37.5%\n",
            " | Epoch 0 | Loss: 1.1538931131362915 | Accuracy: 39.0625%\n",
            " | Epoch 0 | Loss: 1.2595540285110474 | Accuracy: 35.9375%\n",
            " | Epoch 0 | Loss: 1.196821928024292 | Accuracy: 35.9375%\n",
            " | Epoch 0 | Loss: 1.0943114757537842 | Accuracy: 40.625%\n",
            " | Epoch 0 | Loss: 1.2528958320617676 | Accuracy: 34.375%\n",
            " | Epoch 0 | Loss: 1.1790814399719238 | Accuracy: 43.75%\n",
            " | Epoch 0 | Loss: 1.1383625268936157 | Accuracy: 37.5%\n",
            " | Epoch 0 | Loss: 1.2711570262908936 | Accuracy: 32.8125%\n",
            " | Epoch 0 | Loss: 1.2338374853134155 | Accuracy: 35.9375%\n"
          ]
        },
        {
          "output_type": "stream",
          "name": "stderr",
          "text": [
            "Epoch 0:  47%|████▋     | 356/751 [00:09<00:08, 46.52batch/s, accuracy=48.4375%, loss=1.21]"
          ]
        },
        {
          "output_type": "stream",
          "name": "stdout",
          "text": [
            " | Epoch 0 | Loss: 1.2386391162872314 | Accuracy: 32.8125%\n",
            " | Epoch 0 | Loss: 1.1550298929214478 | Accuracy: 45.3125%\n",
            " | Epoch 0 | Loss: 1.1678186655044556 | Accuracy: 32.8125%\n",
            " | Epoch 0 | Loss: 1.1066566705703735 | Accuracy: 35.9375%\n",
            " | Epoch 0 | Loss: 1.083162784576416 | Accuracy: 43.75%\n",
            " | Epoch 0 | Loss: 1.2965619564056396 | Accuracy: 18.75%\n",
            " | Epoch 0 | Loss: 1.1166372299194336 | Accuracy: 37.5%\n",
            " | Epoch 0 | Loss: 1.04265558719635 | Accuracy: 43.75%\n",
            " | Epoch 0 | Loss: 1.0884504318237305 | Accuracy: 37.5%\n",
            " | Epoch 0 | Loss: 1.2092112302780151 | Accuracy: 48.4375%\n"
          ]
        },
        {
          "output_type": "stream",
          "name": "stderr",
          "text": [
            "Epoch 0:  49%|████▊     | 366/751 [00:09<00:08, 47.19batch/s, accuracy=75.0%, loss=0.99]   "
          ]
        },
        {
          "output_type": "stream",
          "name": "stdout",
          "text": [
            " | Epoch 0 | Loss: 1.0450890064239502 | Accuracy: 48.4375%\n",
            " | Epoch 0 | Loss: 1.079494595527649 | Accuracy: 40.625%\n",
            " | Epoch 0 | Loss: 1.0756584405899048 | Accuracy: 35.9375%\n",
            " | Epoch 0 | Loss: 1.2619223594665527 | Accuracy: 37.5%\n",
            " | Epoch 0 | Loss: 1.1997499465942383 | Accuracy: 37.5%\n",
            " | Epoch 0 | Loss: 1.2010209560394287 | Accuracy: 32.8125%\n",
            " | Epoch 0 | Loss: 1.0623164176940918 | Accuracy: 51.5625%\n",
            " | Epoch 0 | Loss: 1.138442873954773 | Accuracy: 60.9375%\n",
            " | Epoch 0 | Loss: 1.1360028982162476 | Accuracy: 73.4375%\n",
            " | Epoch 0 | Loss: 0.9895006418228149 | Accuracy: 75.0%\n"
          ]
        },
        {
          "output_type": "stream",
          "name": "stderr",
          "text": [
            "Epoch 0:  50%|█████     | 376/751 [00:09<00:08, 45.43batch/s, accuracy=50.0%, loss=1.23]   "
          ]
        },
        {
          "output_type": "stream",
          "name": "stdout",
          "text": [
            " | Epoch 0 | Loss: 1.1005525588989258 | Accuracy: 73.4375%\n",
            " | Epoch 0 | Loss: 1.2163516283035278 | Accuracy: 68.75%\n",
            " | Epoch 0 | Loss: 1.098000407218933 | Accuracy: 60.9375%\n",
            " | Epoch 0 | Loss: 1.1339027881622314 | Accuracy: 57.8125%\n",
            " | Epoch 0 | Loss: 0.9825653433799744 | Accuracy: 59.375%\n",
            " | Epoch 0 | Loss: 1.1117758750915527 | Accuracy: 48.4375%\n",
            " | Epoch 0 | Loss: 1.059859275817871 | Accuracy: 59.375%\n",
            " | Epoch 0 | Loss: 1.1778886318206787 | Accuracy: 48.4375%\n",
            " | Epoch 0 | Loss: 1.2336148023605347 | Accuracy: 50.0%\n"
          ]
        },
        {
          "output_type": "stream",
          "name": "stderr",
          "text": [
            "Epoch 0:  51%|█████▏    | 386/751 [00:10<00:08, 45.03batch/s, accuracy=56.25%, loss=1.05]  "
          ]
        },
        {
          "output_type": "stream",
          "name": "stdout",
          "text": [
            " | Epoch 0 | Loss: 1.0411853790283203 | Accuracy: 57.8125%\n",
            " | Epoch 0 | Loss: 1.1883260011672974 | Accuracy: 51.5625%\n",
            " | Epoch 0 | Loss: 1.083011269569397 | Accuracy: 59.375%\n",
            " | Epoch 0 | Loss: 1.0068572759628296 | Accuracy: 57.8125%\n",
            " | Epoch 0 | Loss: 1.0801628828048706 | Accuracy: 54.6875%\n",
            " | Epoch 0 | Loss: 1.147337794303894 | Accuracy: 53.125%\n",
            " | Epoch 0 | Loss: 1.1452709436416626 | Accuracy: 50.0%\n",
            " | Epoch 0 | Loss: 1.1401152610778809 | Accuracy: 62.5%\n",
            " | Epoch 0 | Loss: 1.065707802772522 | Accuracy: 54.6875%\n",
            " | Epoch 0 | Loss: 1.0495164394378662 | Accuracy: 56.25%\n"
          ]
        },
        {
          "output_type": "stream",
          "name": "stderr",
          "text": [
            "Epoch 0:  53%|█████▎    | 396/751 [00:10<00:07, 46.72batch/s, accuracy=54.6875%, loss=1.1] "
          ]
        },
        {
          "output_type": "stream",
          "name": "stdout",
          "text": [
            " | Epoch 0 | Loss: 1.101919412612915 | Accuracy: 59.375%\n",
            " | Epoch 0 | Loss: 0.8522407412528992 | Accuracy: 60.9375%\n",
            " | Epoch 0 | Loss: 1.1173152923583984 | Accuracy: 50.0%\n",
            " | Epoch 0 | Loss: 0.978510856628418 | Accuracy: 56.25%\n",
            " | Epoch 0 | Loss: 0.9738607406616211 | Accuracy: 60.9375%\n",
            " | Epoch 0 | Loss: 0.9225353002548218 | Accuracy: 68.75%\n",
            " | Epoch 0 | Loss: 1.0069475173950195 | Accuracy: 62.5%\n",
            " | Epoch 0 | Loss: 1.085598349571228 | Accuracy: 56.25%\n",
            " | Epoch 0 | Loss: 1.0663751363754272 | Accuracy: 46.875%\n",
            " | Epoch 0 | Loss: 0.9956167936325073 | Accuracy: 59.375%\n"
          ]
        },
        {
          "output_type": "stream",
          "name": "stderr",
          "text": [
            "Epoch 0:  54%|█████▍    | 406/751 [00:10<00:07, 47.57batch/s, accuracy=67.1875%, loss=1.22]"
          ]
        },
        {
          "output_type": "stream",
          "name": "stdout",
          "text": [
            " | Epoch 0 | Loss: 1.0960707664489746 | Accuracy: 54.6875%\n",
            " | Epoch 0 | Loss: 0.941753625869751 | Accuracy: 59.375%\n",
            " | Epoch 0 | Loss: 0.9216170907020569 | Accuracy: 57.8125%\n",
            " | Epoch 0 | Loss: 0.964717447757721 | Accuracy: 51.5625%\n",
            " | Epoch 0 | Loss: 0.9291749596595764 | Accuracy: 60.9375%\n",
            " | Epoch 0 | Loss: 0.8536394834518433 | Accuracy: 79.6875%\n",
            " | Epoch 0 | Loss: 1.104556679725647 | Accuracy: 67.1875%\n",
            " | Epoch 0 | Loss: 0.9247431755065918 | Accuracy: 78.125%\n",
            " | Epoch 0 | Loss: 0.8429725170135498 | Accuracy: 75.0%\n",
            " | Epoch 0 | Loss: 1.223163366317749 | Accuracy: 67.1875%\n"
          ]
        },
        {
          "output_type": "stream",
          "name": "stderr",
          "text": [
            "Epoch 0:  55%|█████▌    | 416/751 [00:10<00:07, 45.94batch/s, accuracy=65.625%, loss=1.07]  "
          ]
        },
        {
          "output_type": "stream",
          "name": "stdout",
          "text": [
            " | Epoch 0 | Loss: 1.0971624851226807 | Accuracy: 78.125%\n",
            " | Epoch 0 | Loss: 0.991326630115509 | Accuracy: 76.5625%\n",
            " | Epoch 0 | Loss: 0.9362207055091858 | Accuracy: 73.4375%\n",
            " | Epoch 0 | Loss: 0.9651741981506348 | Accuracy: 73.4375%\n",
            " | Epoch 0 | Loss: 0.7425639033317566 | Accuracy: 82.8125%\n",
            " | Epoch 0 | Loss: 0.8414269685745239 | Accuracy: 79.6875%\n",
            " | Epoch 0 | Loss: 0.948453426361084 | Accuracy: 76.5625%\n",
            " | Epoch 0 | Loss: 0.8321242928504944 | Accuracy: 73.4375%\n",
            " | Epoch 0 | Loss: 0.934337317943573 | Accuracy: 73.4375%\n",
            " | Epoch 0 | Loss: 1.0740478038787842 | Accuracy: 65.625%\n"
          ]
        },
        {
          "output_type": "stream",
          "name": "stderr",
          "text": [
            "Epoch 0:  57%|█████▋    | 426/751 [00:11<00:07, 43.56batch/s, accuracy=73.4375%, loss=0.829]"
          ]
        },
        {
          "output_type": "stream",
          "name": "stdout",
          "text": [
            " | Epoch 0 | Loss: 0.8531236052513123 | Accuracy: 78.125%\n",
            " | Epoch 0 | Loss: 0.8761870265007019 | Accuracy: 81.25%\n",
            " | Epoch 0 | Loss: 0.9919555187225342 | Accuracy: 71.875%\n",
            " | Epoch 0 | Loss: 0.821347177028656 | Accuracy: 79.6875%\n",
            " | Epoch 0 | Loss: 0.9493922591209412 | Accuracy: 75.0%\n",
            " | Epoch 0 | Loss: 0.7792050838470459 | Accuracy: 70.3125%\n",
            " | Epoch 0 | Loss: 0.8652545809745789 | Accuracy: 71.875%\n",
            " | Epoch 0 | Loss: 0.825419008731842 | Accuracy: 70.3125%\n",
            " | Epoch 0 | Loss: 0.8293651938438416 | Accuracy: 73.4375%\n"
          ]
        },
        {
          "output_type": "stream",
          "name": "stderr",
          "text": [
            "Epoch 0:  58%|█████▊    | 436/751 [00:11<00:07, 44.44batch/s, accuracy=98.4375%, loss=0.573]"
          ]
        },
        {
          "output_type": "stream",
          "name": "stdout",
          "text": [
            " | Epoch 0 | Loss: 0.8022643327713013 | Accuracy: 73.4375%\n",
            " | Epoch 0 | Loss: 0.8257203102111816 | Accuracy: 87.5%\n",
            " | Epoch 0 | Loss: 0.8186177611351013 | Accuracy: 79.6875%\n",
            " | Epoch 0 | Loss: 0.7966299057006836 | Accuracy: 87.5%\n",
            " | Epoch 0 | Loss: 0.9368966221809387 | Accuracy: 84.375%\n",
            " | Epoch 0 | Loss: 0.6092253923416138 | Accuracy: 95.3125%\n",
            " | Epoch 0 | Loss: 0.8253399729728699 | Accuracy: 87.5%\n",
            " | Epoch 0 | Loss: 0.8543949723243713 | Accuracy: 85.9375%\n",
            " | Epoch 0 | Loss: 0.8375189900398254 | Accuracy: 89.0625%\n",
            " | Epoch 0 | Loss: 0.5734074711799622 | Accuracy: 98.4375%\n"
          ]
        },
        {
          "output_type": "stream",
          "name": "stderr",
          "text": [
            "Epoch 0:  59%|█████▉    | 446/751 [00:11<00:06, 45.88batch/s, accuracy=92.1875%, loss=0.644]"
          ]
        },
        {
          "output_type": "stream",
          "name": "stdout",
          "text": [
            " | Epoch 0 | Loss: 0.84194016456604 | Accuracy: 85.9375%\n",
            " | Epoch 0 | Loss: 0.6165132522583008 | Accuracy: 89.0625%\n",
            " | Epoch 0 | Loss: 0.9256594777107239 | Accuracy: 87.5%\n",
            " | Epoch 0 | Loss: 0.7582964897155762 | Accuracy: 90.625%\n",
            " | Epoch 0 | Loss: 0.7430691719055176 | Accuracy: 90.625%\n",
            " | Epoch 0 | Loss: 0.6811366677284241 | Accuracy: 90.625%\n",
            " | Epoch 0 | Loss: 0.9213181734085083 | Accuracy: 85.9375%\n",
            " | Epoch 0 | Loss: 0.5458710193634033 | Accuracy: 93.75%\n",
            " | Epoch 0 | Loss: 0.698639452457428 | Accuracy: 92.1875%\n",
            " | Epoch 0 | Loss: 0.6438577175140381 | Accuracy: 92.1875%\n"
          ]
        },
        {
          "output_type": "stream",
          "name": "stderr",
          "text": [
            "Epoch 0:  61%|██████    | 456/751 [00:11<00:06, 46.55batch/s, accuracy=90.625%, loss=0.573]"
          ]
        },
        {
          "output_type": "stream",
          "name": "stdout",
          "text": [
            " | Epoch 0 | Loss: 0.6231437921524048 | Accuracy: 90.625%\n",
            " | Epoch 0 | Loss: 0.6822212338447571 | Accuracy: 93.75%\n",
            " | Epoch 0 | Loss: 0.49948850274086 | Accuracy: 98.4375%\n",
            " | Epoch 0 | Loss: 0.8793630003929138 | Accuracy: 85.9375%\n",
            " | Epoch 0 | Loss: 0.7645469307899475 | Accuracy: 90.625%\n",
            " | Epoch 0 | Loss: 0.4424256682395935 | Accuracy: 95.3125%\n",
            " | Epoch 0 | Loss: 0.6257668137550354 | Accuracy: 93.75%\n",
            " | Epoch 0 | Loss: 0.7436865568161011 | Accuracy: 89.0625%\n",
            " | Epoch 0 | Loss: 0.7541780471801758 | Accuracy: 90.625%\n",
            " | Epoch 0 | Loss: 0.5728042125701904 | Accuracy: 90.625%\n"
          ]
        },
        {
          "output_type": "stream",
          "name": "stderr",
          "text": [
            "Epoch 0:  62%|██████▏   | 466/751 [00:11<00:06, 45.65batch/s, accuracy=96.875%, loss=0.433]"
          ]
        },
        {
          "output_type": "stream",
          "name": "stdout",
          "text": [
            " | Epoch 0 | Loss: 1.0381889343261719 | Accuracy: 82.8125%\n",
            " | Epoch 0 | Loss: 0.6703883409500122 | Accuracy: 89.0625%\n",
            " | Epoch 0 | Loss: 0.6055792570114136 | Accuracy: 92.1875%\n",
            " | Epoch 0 | Loss: 0.751788318157196 | Accuracy: 87.5%\n",
            " | Epoch 0 | Loss: 0.9745944142341614 | Accuracy: 82.8125%\n",
            " | Epoch 0 | Loss: 0.6917849183082581 | Accuracy: 90.625%\n",
            " | Epoch 0 | Loss: 0.5902214050292969 | Accuracy: 90.625%\n",
            " | Epoch 0 | Loss: 0.368025004863739 | Accuracy: 96.875%\n",
            " | Epoch 0 | Loss: 0.720879852771759 | Accuracy: 87.5%\n",
            " | Epoch 0 | Loss: 0.4331149756908417 | Accuracy: 96.875%\n"
          ]
        },
        {
          "output_type": "stream",
          "name": "stderr",
          "text": [
            "Epoch 0:  63%|██████▎   | 471/751 [00:12<00:06, 43.22batch/s, accuracy=87.5%, loss=0.652]  "
          ]
        },
        {
          "output_type": "stream",
          "name": "stdout",
          "text": [
            " | Epoch 0 | Loss: 0.6097078323364258 | Accuracy: 92.1875%\n",
            " | Epoch 0 | Loss: 0.5797190070152283 | Accuracy: 93.75%\n",
            " | Epoch 0 | Loss: 0.5635594725608826 | Accuracy: 93.75%\n",
            " | Epoch 0 | Loss: 0.6794515252113342 | Accuracy: 89.0625%\n",
            " | Epoch 0 | Loss: 0.6360982060432434 | Accuracy: 90.625%\n",
            " | Epoch 0 | Loss: 0.556955099105835 | Accuracy: 92.1875%\n",
            " | Epoch 0 | Loss: 0.5196331739425659 | Accuracy: 92.1875%\n",
            " | Epoch 0 | Loss: 0.9265115261077881 | Accuracy: 84.375%\n",
            " | Epoch 0 | Loss: 0.6519072651863098 | Accuracy: 87.5%\n"
          ]
        },
        {
          "output_type": "stream",
          "name": "stderr",
          "text": [
            "Epoch 0:  64%|██████▍   | 481/751 [00:12<00:05, 45.19batch/s, accuracy=89.0625%, loss=0.55] "
          ]
        },
        {
          "output_type": "stream",
          "name": "stdout",
          "text": [
            " | Epoch 0 | Loss: 0.6355310678482056 | Accuracy: 90.625%\n",
            " | Epoch 0 | Loss: 0.6181294322013855 | Accuracy: 92.1875%\n",
            " | Epoch 0 | Loss: 0.5810477137565613 | Accuracy: 90.625%\n",
            " | Epoch 0 | Loss: 0.6236927509307861 | Accuracy: 90.625%\n",
            " | Epoch 0 | Loss: 0.8837202191352844 | Accuracy: 85.9375%\n",
            " | Epoch 0 | Loss: 0.5540937781333923 | Accuracy: 90.625%\n",
            " | Epoch 0 | Loss: 0.665417492389679 | Accuracy: 84.375%\n",
            " | Epoch 0 | Loss: 0.4481964409351349 | Accuracy: 93.75%\n",
            " | Epoch 0 | Loss: 0.60353684425354 | Accuracy: 89.0625%\n",
            " | Epoch 0 | Loss: 0.5498226284980774 | Accuracy: 89.0625%\n"
          ]
        },
        {
          "output_type": "stream",
          "name": "stderr",
          "text": [
            "Epoch 0:  65%|██████▌   | 491/751 [00:12<00:05, 46.49batch/s, accuracy=98.4375%, loss=0.306]"
          ]
        },
        {
          "output_type": "stream",
          "name": "stdout",
          "text": [
            " | Epoch 0 | Loss: 0.6684112548828125 | Accuracy: 89.0625%\n",
            " | Epoch 0 | Loss: 0.7557687163352966 | Accuracy: 82.8125%\n",
            " | Epoch 0 | Loss: 0.5798405408859253 | Accuracy: 90.625%\n",
            " | Epoch 0 | Loss: 0.5593883395195007 | Accuracy: 92.1875%\n",
            " | Epoch 0 | Loss: 0.811708927154541 | Accuracy: 85.9375%\n",
            " | Epoch 0 | Loss: 0.34782835841178894 | Accuracy: 96.875%\n",
            " | Epoch 0 | Loss: 0.3060134947299957 | Accuracy: 96.875%\n",
            " | Epoch 0 | Loss: 0.49821457266807556 | Accuracy: 93.75%\n",
            " | Epoch 0 | Loss: 0.38896644115448 | Accuracy: 92.1875%\n",
            " | Epoch 0 | Loss: 0.305831640958786 | Accuracy: 98.4375%\n"
          ]
        },
        {
          "output_type": "stream",
          "name": "stderr",
          "text": [
            "Epoch 0:  67%|██████▋   | 501/751 [00:12<00:05, 46.33batch/s, accuracy=95.3125%, loss=0.371]"
          ]
        },
        {
          "output_type": "stream",
          "name": "stdout",
          "text": [
            " | Epoch 0 | Loss: 0.7749128937721252 | Accuracy: 85.9375%\n",
            " | Epoch 0 | Loss: 0.4057353734970093 | Accuracy: 92.1875%\n",
            " | Epoch 0 | Loss: 0.5657142400741577 | Accuracy: 89.0625%\n",
            " | Epoch 0 | Loss: 0.92607581615448 | Accuracy: 85.9375%\n",
            " | Epoch 0 | Loss: 0.6882696747779846 | Accuracy: 84.375%\n",
            " | Epoch 0 | Loss: 0.3118929862976074 | Accuracy: 95.3125%\n",
            " | Epoch 0 | Loss: 0.66374671459198 | Accuracy: 85.9375%\n",
            " | Epoch 0 | Loss: 0.7334268093109131 | Accuracy: 85.9375%\n",
            " | Epoch 0 | Loss: 0.5451622009277344 | Accuracy: 89.0625%\n",
            " | Epoch 0 | Loss: 0.37077391147613525 | Accuracy: 95.3125%\n"
          ]
        },
        {
          "output_type": "stream",
          "name": "stderr",
          "text": [
            "Epoch 0:  68%|██████▊   | 511/751 [00:12<00:05, 44.33batch/s, accuracy=92.1875%, loss=0.446]"
          ]
        },
        {
          "output_type": "stream",
          "name": "stdout",
          "text": [
            " | Epoch 0 | Loss: 0.5064836740493774 | Accuracy: 93.75%\n",
            " | Epoch 0 | Loss: 0.5217512845993042 | Accuracy: 90.625%\n",
            " | Epoch 0 | Loss: 0.2426356077194214 | Accuracy: 98.4375%\n",
            " | Epoch 0 | Loss: 0.7732672691345215 | Accuracy: 84.375%\n",
            " | Epoch 0 | Loss: 0.26571783423423767 | Accuracy: 98.4375%\n",
            " | Epoch 0 | Loss: 0.4885083734989166 | Accuracy: 93.75%\n",
            " | Epoch 0 | Loss: 0.7077026963233948 | Accuracy: 85.9375%\n",
            " | Epoch 0 | Loss: 0.44594284892082214 | Accuracy: 92.1875%\n"
          ]
        },
        {
          "output_type": "stream",
          "name": "stderr",
          "text": [
            "Epoch 0:  69%|██████▉   | 521/751 [00:13<00:05, 43.39batch/s, accuracy=92.1875%, loss=0.45]"
          ]
        },
        {
          "output_type": "stream",
          "name": "stdout",
          "text": [
            " | Epoch 0 | Loss: 0.5247241258621216 | Accuracy: 90.625%\n",
            " | Epoch 0 | Loss: 0.5614172220230103 | Accuracy: 90.625%\n",
            " | Epoch 0 | Loss: 0.5525606274604797 | Accuracy: 89.0625%\n",
            " | Epoch 0 | Loss: 0.34168389439582825 | Accuracy: 96.875%\n",
            " | Epoch 0 | Loss: 0.7741142511367798 | Accuracy: 84.375%\n",
            " | Epoch 0 | Loss: 0.5636914372444153 | Accuracy: 87.5%\n",
            " | Epoch 0 | Loss: 0.5878916382789612 | Accuracy: 87.5%\n",
            " | Epoch 0 | Loss: 0.39559006690979004 | Accuracy: 93.75%\n",
            " | Epoch 0 | Loss: 0.44998079538345337 | Accuracy: 92.1875%\n"
          ]
        },
        {
          "output_type": "stream",
          "name": "stderr",
          "text": [
            "Epoch 0:  71%|███████   | 531/751 [00:13<00:04, 45.03batch/s, accuracy=89.0625%, loss=0.5]"
          ]
        },
        {
          "output_type": "stream",
          "name": "stdout",
          "text": [
            " | Epoch 0 | Loss: 0.5891855955123901 | Accuracy: 89.0625%\n",
            " | Epoch 0 | Loss: 0.7733355164527893 | Accuracy: 84.375%\n",
            " | Epoch 0 | Loss: 0.38616612553596497 | Accuracy: 93.75%\n",
            " | Epoch 0 | Loss: 0.5719319581985474 | Accuracy: 90.625%\n",
            " | Epoch 0 | Loss: 0.4777345061302185 | Accuracy: 90.625%\n",
            " | Epoch 0 | Loss: 0.5457662343978882 | Accuracy: 90.625%\n",
            " | Epoch 0 | Loss: 0.4257667064666748 | Accuracy: 93.75%\n",
            " | Epoch 0 | Loss: 0.3505914807319641 | Accuracy: 93.75%\n",
            " | Epoch 0 | Loss: 0.5619093775749207 | Accuracy: 87.5%\n",
            " | Epoch 0 | Loss: 0.500170886516571 | Accuracy: 89.0625%\n"
          ]
        },
        {
          "output_type": "stream",
          "name": "stderr",
          "text": [
            "Epoch 0:  72%|███████▏  | 541/751 [00:13<00:04, 45.46batch/s, accuracy=92.1875%, loss=0.462]"
          ]
        },
        {
          "output_type": "stream",
          "name": "stdout",
          "text": [
            " | Epoch 0 | Loss: 0.23047536611557007 | Accuracy: 98.4375%\n",
            " | Epoch 0 | Loss: 0.6338618397712708 | Accuracy: 87.5%\n",
            " | Epoch 0 | Loss: 0.5317768454551697 | Accuracy: 90.625%\n",
            " | Epoch 0 | Loss: 0.36464062333106995 | Accuracy: 93.75%\n",
            " | Epoch 0 | Loss: 0.41840848326683044 | Accuracy: 90.625%\n",
            " | Epoch 0 | Loss: 0.5058330297470093 | Accuracy: 90.625%\n",
            " | Epoch 0 | Loss: 0.5063160061836243 | Accuracy: 90.625%\n",
            " | Epoch 0 | Loss: 0.5103237628936768 | Accuracy: 89.0625%\n",
            " | Epoch 0 | Loss: 0.6449843645095825 | Accuracy: 87.5%\n",
            " | Epoch 0 | Loss: 0.4620096683502197 | Accuracy: 92.1875%\n"
          ]
        },
        {
          "output_type": "stream",
          "name": "stderr",
          "text": [
            "Epoch 0:  73%|███████▎  | 551/751 [00:13<00:04, 46.73batch/s, accuracy=90.625%, loss=0.503] "
          ]
        },
        {
          "output_type": "stream",
          "name": "stdout",
          "text": [
            " | Epoch 0 | Loss: 0.40565410256385803 | Accuracy: 93.75%\n",
            " | Epoch 0 | Loss: 0.8236550688743591 | Accuracy: 82.8125%\n",
            " | Epoch 0 | Loss: 0.4386783242225647 | Accuracy: 93.75%\n",
            " | Epoch 0 | Loss: 0.5437625646591187 | Accuracy: 89.0625%\n",
            " | Epoch 0 | Loss: 0.4395485818386078 | Accuracy: 92.1875%\n",
            " | Epoch 0 | Loss: 0.6150994896888733 | Accuracy: 87.5%\n",
            " | Epoch 0 | Loss: 0.6030497550964355 | Accuracy: 87.5%\n",
            " | Epoch 0 | Loss: 0.45975714921951294 | Accuracy: 90.625%\n",
            " | Epoch 0 | Loss: 0.2428112030029297 | Accuracy: 96.875%\n",
            " | Epoch 0 | Loss: 0.4108070731163025 | Accuracy: 92.1875%\n",
            " | Epoch 0 | Loss: 0.5028395652770996 | Accuracy: 90.625%\n"
          ]
        },
        {
          "output_type": "stream",
          "name": "stderr",
          "text": [
            "Epoch 0:  75%|███████▍  | 561/751 [00:13<00:04, 44.08batch/s, accuracy=89.0625%, loss=0.582]"
          ]
        },
        {
          "output_type": "stream",
          "name": "stdout",
          "text": [
            " | Epoch 0 | Loss: 0.4766963720321655 | Accuracy: 92.1875%\n",
            " | Epoch 0 | Loss: 0.4571382701396942 | Accuracy: 92.1875%\n",
            " | Epoch 0 | Loss: 0.3631994426250458 | Accuracy: 92.1875%\n",
            " | Epoch 0 | Loss: 0.7897745966911316 | Accuracy: 82.8125%\n",
            " | Epoch 0 | Loss: 0.5826318860054016 | Accuracy: 87.5%\n",
            " | Epoch 0 | Loss: 0.5955937504768372 | Accuracy: 87.5%\n",
            " | Epoch 0 | Loss: 0.2925710678100586 | Accuracy: 96.875%\n",
            " | Epoch 0 | Loss: 0.5818647742271423 | Accuracy: 89.0625%\n"
          ]
        },
        {
          "output_type": "stream",
          "name": "stderr",
          "text": [
            "Epoch 0:  75%|███████▌  | 566/751 [00:14<00:04, 42.83batch/s, accuracy=95.3125%, loss=0.307]"
          ]
        },
        {
          "output_type": "stream",
          "name": "stdout",
          "text": [
            " | Epoch 0 | Loss: 0.33911317586898804 | Accuracy: 93.75%\n",
            " | Epoch 0 | Loss: 0.5276076197624207 | Accuracy: 87.5%\n",
            " | Epoch 0 | Loss: 0.4838733673095703 | Accuracy: 92.1875%\n",
            " | Epoch 0 | Loss: 0.6880161166191101 | Accuracy: 85.9375%\n",
            " | Epoch 0 | Loss: 0.4064277112483978 | Accuracy: 92.1875%\n",
            " | Epoch 0 | Loss: 0.26337766647338867 | Accuracy: 96.875%\n",
            " | Epoch 0 | Loss: 0.34117770195007324 | Accuracy: 93.75%\n",
            " | Epoch 0 | Loss: 0.6211943626403809 | Accuracy: 87.5%\n",
            " | Epoch 0 | Loss: 0.46303626894950867 | Accuracy: 90.625%\n"
          ]
        },
        {
          "output_type": "stream",
          "name": "stderr",
          "text": [
            "Epoch 0:  77%|███████▋  | 576/751 [00:14<00:03, 44.42batch/s, accuracy=89.0625%, loss=0.502]"
          ]
        },
        {
          "output_type": "stream",
          "name": "stdout",
          "text": [
            " | Epoch 0 | Loss: 0.3069220185279846 | Accuracy: 95.3125%\n",
            " | Epoch 0 | Loss: 0.4746862053871155 | Accuracy: 89.0625%\n",
            " | Epoch 0 | Loss: 0.393995463848114 | Accuracy: 90.625%\n",
            " | Epoch 0 | Loss: 0.7808644771575928 | Accuracy: 84.375%\n",
            " | Epoch 0 | Loss: 0.4755743741989136 | Accuracy: 90.625%\n",
            " | Epoch 0 | Loss: 0.4104326665401459 | Accuracy: 92.1875%\n",
            " | Epoch 0 | Loss: 0.4753032624721527 | Accuracy: 90.625%\n",
            " | Epoch 0 | Loss: 0.4836514890193939 | Accuracy: 90.625%\n",
            " | Epoch 0 | Loss: 0.5298835635185242 | Accuracy: 87.5%\n",
            " | Epoch 0 | Loss: 0.5019755959510803 | Accuracy: 89.0625%\n"
          ]
        },
        {
          "output_type": "stream",
          "name": "stderr",
          "text": [
            "Epoch 0:  78%|███████▊  | 586/751 [00:14<00:03, 45.35batch/s, accuracy=89.0625%, loss=0.609]"
          ]
        },
        {
          "output_type": "stream",
          "name": "stdout",
          "text": [
            " | Epoch 0 | Loss: 0.46006572246551514 | Accuracy: 90.625%\n",
            " | Epoch 0 | Loss: 0.523899495601654 | Accuracy: 89.0625%\n",
            " | Epoch 0 | Loss: 0.5919166803359985 | Accuracy: 89.0625%\n",
            " | Epoch 0 | Loss: 0.33857953548431396 | Accuracy: 93.75%\n",
            " | Epoch 0 | Loss: 0.369887113571167 | Accuracy: 92.1875%\n",
            " | Epoch 0 | Loss: 0.83823162317276 | Accuracy: 84.375%\n",
            " | Epoch 0 | Loss: 0.31213366985321045 | Accuracy: 93.75%\n",
            " | Epoch 0 | Loss: 0.6303034424781799 | Accuracy: 85.9375%\n",
            " | Epoch 0 | Loss: 0.37610238790512085 | Accuracy: 93.75%\n",
            " | Epoch 0 | Loss: 0.6088463664054871 | Accuracy: 89.0625%\n"
          ]
        },
        {
          "output_type": "stream",
          "name": "stderr",
          "text": [
            "Epoch 0:  79%|███████▉  | 596/751 [00:14<00:03, 45.90batch/s, accuracy=84.375%, loss=0.779] "
          ]
        },
        {
          "output_type": "stream",
          "name": "stdout",
          "text": [
            " | Epoch 0 | Loss: 0.37332066893577576 | Accuracy: 92.1875%\n",
            " | Epoch 0 | Loss: 0.44319069385528564 | Accuracy: 92.1875%\n",
            " | Epoch 0 | Loss: 0.39308875799179077 | Accuracy: 92.1875%\n",
            " | Epoch 0 | Loss: 0.43381860852241516 | Accuracy: 92.1875%\n",
            " | Epoch 0 | Loss: 0.3091032803058624 | Accuracy: 95.3125%\n",
            " | Epoch 0 | Loss: 0.4053947925567627 | Accuracy: 92.1875%\n",
            " | Epoch 0 | Loss: 0.5584440231323242 | Accuracy: 89.0625%\n",
            " | Epoch 0 | Loss: 0.4084410071372986 | Accuracy: 92.1875%\n",
            " | Epoch 0 | Loss: 0.8063048720359802 | Accuracy: 82.8125%\n",
            " | Epoch 0 | Loss: 0.7793724536895752 | Accuracy: 84.375%\n"
          ]
        },
        {
          "output_type": "stream",
          "name": "stderr",
          "text": [
            "Epoch 0:  81%|████████  | 606/751 [00:15<00:03, 42.26batch/s, accuracy=85.9375%, loss=0.683]"
          ]
        },
        {
          "output_type": "stream",
          "name": "stdout",
          "text": [
            " | Epoch 0 | Loss: 0.2526371479034424 | Accuracy: 96.875%\n",
            " | Epoch 0 | Loss: 0.7213088870048523 | Accuracy: 82.8125%\n",
            " | Epoch 0 | Loss: 0.4171468913555145 | Accuracy: 92.1875%\n",
            " | Epoch 0 | Loss: 0.48199719190597534 | Accuracy: 90.625%\n",
            " | Epoch 0 | Loss: 0.5931271910667419 | Accuracy: 85.9375%\n",
            " | Epoch 0 | Loss: 0.5642688274383545 | Accuracy: 87.5%\n",
            " | Epoch 0 | Loss: 0.19677600264549255 | Accuracy: 98.4375%\n",
            " | Epoch 0 | Loss: 0.2828182578086853 | Accuracy: 96.875%\n",
            " | Epoch 0 | Loss: 0.683471143245697 | Accuracy: 85.9375%\n"
          ]
        },
        {
          "output_type": "stream",
          "name": "stderr",
          "text": [
            "Epoch 0:  82%|████████▏ | 616/751 [00:15<00:03, 44.71batch/s, accuracy=87.5%, loss=0.623]"
          ]
        },
        {
          "output_type": "stream",
          "name": "stdout",
          "text": [
            " | Epoch 0 | Loss: 0.5048020482063293 | Accuracy: 90.625%\n",
            " | Epoch 0 | Loss: 0.4119381010532379 | Accuracy: 93.75%\n",
            " | Epoch 0 | Loss: 0.5330420732498169 | Accuracy: 89.0625%\n",
            " | Epoch 0 | Loss: 0.48515182733535767 | Accuracy: 92.1875%\n",
            " | Epoch 0 | Loss: 0.5454554557800293 | Accuracy: 85.9375%\n",
            " | Epoch 0 | Loss: 0.3131275773048401 | Accuracy: 95.3125%\n",
            " | Epoch 0 | Loss: 0.6243507862091064 | Accuracy: 87.5%\n",
            " | Epoch 0 | Loss: 0.479173481464386 | Accuracy: 89.0625%\n",
            " | Epoch 0 | Loss: 0.642234206199646 | Accuracy: 87.5%\n",
            " | Epoch 0 | Loss: 0.6231263279914856 | Accuracy: 87.5%\n"
          ]
        },
        {
          "output_type": "stream",
          "name": "stderr",
          "text": [
            "Epoch 0:  83%|████████▎ | 626/751 [00:15<00:02, 45.24batch/s, accuracy=87.5%, loss=0.674] "
          ]
        },
        {
          "output_type": "stream",
          "name": "stdout",
          "text": [
            " | Epoch 0 | Loss: 0.616984486579895 | Accuracy: 87.5%\n",
            " | Epoch 0 | Loss: 0.5904483199119568 | Accuracy: 89.0625%\n",
            " | Epoch 0 | Loss: 0.5098525285720825 | Accuracy: 90.625%\n",
            " | Epoch 0 | Loss: 0.4378240406513214 | Accuracy: 92.1875%\n",
            " | Epoch 0 | Loss: 0.4003652334213257 | Accuracy: 93.75%\n",
            " | Epoch 0 | Loss: 0.5000309944152832 | Accuracy: 89.0625%\n",
            " | Epoch 0 | Loss: 0.5268152952194214 | Accuracy: 90.625%\n",
            " | Epoch 0 | Loss: 0.47055861353874207 | Accuracy: 92.1875%\n",
            " | Epoch 0 | Loss: 0.4001772701740265 | Accuracy: 92.1875%\n",
            " | Epoch 0 | Loss: 0.6741960644721985 | Accuracy: 87.5%\n"
          ]
        },
        {
          "output_type": "stream",
          "name": "stderr",
          "text": [
            "Epoch 0:  85%|████████▍ | 636/751 [00:15<00:02, 46.18batch/s, accuracy=92.1875%, loss=0.482]"
          ]
        },
        {
          "output_type": "stream",
          "name": "stdout",
          "text": [
            " | Epoch 0 | Loss: 0.6815106868743896 | Accuracy: 84.375%\n",
            " | Epoch 0 | Loss: 0.4830589294433594 | Accuracy: 90.625%\n",
            " | Epoch 0 | Loss: 0.6364466547966003 | Accuracy: 85.9375%\n",
            " | Epoch 0 | Loss: 0.5602797865867615 | Accuracy: 87.5%\n",
            " | Epoch 0 | Loss: 0.47950857877731323 | Accuracy: 90.625%\n",
            " | Epoch 0 | Loss: 0.4011581540107727 | Accuracy: 90.625%\n",
            " | Epoch 0 | Loss: 0.3239292800426483 | Accuracy: 96.875%\n",
            " | Epoch 0 | Loss: 0.5847414135932922 | Accuracy: 89.0625%\n",
            " | Epoch 0 | Loss: 0.353721559047699 | Accuracy: 93.75%\n",
            " | Epoch 0 | Loss: 0.48212558031082153 | Accuracy: 92.1875%\n"
          ]
        },
        {
          "output_type": "stream",
          "name": "stderr",
          "text": [
            "Epoch 0:  86%|████████▌ | 646/751 [00:15<00:02, 45.83batch/s, accuracy=87.5%, loss=0.586]  "
          ]
        },
        {
          "output_type": "stream",
          "name": "stdout",
          "text": [
            " | Epoch 0 | Loss: 0.4042885899543762 | Accuracy: 92.1875%\n",
            " | Epoch 0 | Loss: 0.30136948823928833 | Accuracy: 95.3125%\n",
            " | Epoch 0 | Loss: 0.5821032524108887 | Accuracy: 85.9375%\n",
            " | Epoch 0 | Loss: 0.6653189063072205 | Accuracy: 87.5%\n",
            " | Epoch 0 | Loss: 0.5798011422157288 | Accuracy: 87.5%\n",
            " | Epoch 0 | Loss: 0.2867320477962494 | Accuracy: 93.75%\n",
            " | Epoch 0 | Loss: 0.2845280170440674 | Accuracy: 96.875%\n",
            " | Epoch 0 | Loss: 0.46365851163864136 | Accuracy: 90.625%\n",
            " | Epoch 0 | Loss: 0.5864264369010925 | Accuracy: 87.5%\n"
          ]
        },
        {
          "output_type": "stream",
          "name": "stderr",
          "text": [
            "Epoch 0:  87%|████████▋ | 656/751 [00:16<00:02, 43.97batch/s, accuracy=85.9375%, loss=0.612]"
          ]
        },
        {
          "output_type": "stream",
          "name": "stdout",
          "text": [
            " | Epoch 0 | Loss: 0.4213505983352661 | Accuracy: 92.1875%\n",
            " | Epoch 0 | Loss: 0.6216275691986084 | Accuracy: 85.9375%\n",
            " | Epoch 0 | Loss: 0.7651904821395874 | Accuracy: 82.8125%\n",
            " | Epoch 0 | Loss: 0.5508007407188416 | Accuracy: 89.0625%\n",
            " | Epoch 0 | Loss: 0.6621990203857422 | Accuracy: 85.9375%\n",
            " | Epoch 0 | Loss: 0.32803595066070557 | Accuracy: 93.75%\n",
            " | Epoch 0 | Loss: 0.6641400456428528 | Accuracy: 85.9375%\n",
            " | Epoch 0 | Loss: 0.7783340215682983 | Accuracy: 84.375%\n",
            " | Epoch 0 | Loss: 0.44667214155197144 | Accuracy: 90.625%\n",
            " | Epoch 0 | Loss: 0.6118963956832886 | Accuracy: 85.9375%\n"
          ]
        },
        {
          "output_type": "stream",
          "name": "stderr",
          "text": [
            "Epoch 0:  89%|████████▊ | 666/751 [00:16<00:01, 45.66batch/s, accuracy=92.1875%, loss=0.371]"
          ]
        },
        {
          "output_type": "stream",
          "name": "stdout",
          "text": [
            " | Epoch 0 | Loss: 0.6352577209472656 | Accuracy: 87.5%\n",
            " | Epoch 0 | Loss: 0.5235109329223633 | Accuracy: 89.0625%\n",
            " | Epoch 0 | Loss: 0.37056270241737366 | Accuracy: 92.1875%\n",
            " | Epoch 0 | Loss: 0.4634929299354553 | Accuracy: 90.625%\n",
            " | Epoch 0 | Loss: 0.18739460408687592 | Accuracy: 98.4375%\n",
            " | Epoch 0 | Loss: 0.3910573720932007 | Accuracy: 92.1875%\n",
            " | Epoch 0 | Loss: 0.6313744187355042 | Accuracy: 84.375%\n",
            " | Epoch 0 | Loss: 0.34645527601242065 | Accuracy: 93.75%\n",
            " | Epoch 0 | Loss: 0.6301853060722351 | Accuracy: 87.5%\n",
            " | Epoch 0 | Loss: 0.3712146282196045 | Accuracy: 92.1875%\n"
          ]
        },
        {
          "output_type": "stream",
          "name": "stderr",
          "text": [
            "Epoch 0:  90%|█████████ | 676/751 [00:16<00:01, 44.76batch/s, accuracy=87.5%, loss=0.501]  "
          ]
        },
        {
          "output_type": "stream",
          "name": "stdout",
          "text": [
            " | Epoch 0 | Loss: 0.4881148338317871 | Accuracy: 90.625%\n",
            " | Epoch 0 | Loss: 0.5354773998260498 | Accuracy: 90.625%\n",
            " | Epoch 0 | Loss: 0.5244281888008118 | Accuracy: 89.0625%\n",
            " | Epoch 0 | Loss: 0.49647417664527893 | Accuracy: 90.625%\n",
            " | Epoch 0 | Loss: 0.6565435528755188 | Accuracy: 85.9375%\n",
            " | Epoch 0 | Loss: 0.48948416113853455 | Accuracy: 89.0625%\n",
            " | Epoch 0 | Loss: 0.6960885524749756 | Accuracy: 85.9375%\n",
            " | Epoch 0 | Loss: 0.5188948512077332 | Accuracy: 90.625%\n",
            " | Epoch 0 | Loss: 0.5011051893234253 | Accuracy: 87.5%\n"
          ]
        },
        {
          "output_type": "stream",
          "name": "stderr",
          "text": [
            "Epoch 0:  91%|█████████▏| 686/751 [00:16<00:01, 45.46batch/s, accuracy=92.1875%, loss=0.447]"
          ]
        },
        {
          "output_type": "stream",
          "name": "stdout",
          "text": [
            " | Epoch 0 | Loss: 0.970966100692749 | Accuracy: 79.6875%\n",
            " | Epoch 0 | Loss: 0.6307114362716675 | Accuracy: 85.9375%\n",
            " | Epoch 0 | Loss: 0.5235483050346375 | Accuracy: 89.0625%\n",
            " | Epoch 0 | Loss: 0.5061618089675903 | Accuracy: 89.0625%\n",
            " | Epoch 0 | Loss: 0.40022045373916626 | Accuracy: 93.75%\n",
            " | Epoch 0 | Loss: 0.5361660718917847 | Accuracy: 87.5%\n",
            " | Epoch 0 | Loss: 0.7216767072677612 | Accuracy: 84.375%\n",
            " | Epoch 0 | Loss: 0.6695449352264404 | Accuracy: 84.375%\n",
            " | Epoch 0 | Loss: 0.6725075244903564 | Accuracy: 84.375%\n",
            " | Epoch 0 | Loss: 0.4466814696788788 | Accuracy: 92.1875%\n"
          ]
        },
        {
          "output_type": "stream",
          "name": "stderr",
          "text": [
            "Epoch 0:  92%|█████████▏| 691/751 [00:17<00:01, 45.09batch/s, accuracy=90.625%, loss=0.524]"
          ]
        },
        {
          "output_type": "stream",
          "name": "stdout",
          "text": [
            " | Epoch 0 | Loss: 0.6003532409667969 | Accuracy: 85.9375%\n",
            " | Epoch 0 | Loss: 0.35471203923225403 | Accuracy: 95.3125%\n",
            " | Epoch 0 | Loss: 0.5263331532478333 | Accuracy: 89.0625%\n",
            " | Epoch 0 | Loss: 0.2375967651605606 | Accuracy: 96.875%\n",
            " | Epoch 0 | Loss: 0.5302636027336121 | Accuracy: 89.0625%\n",
            " | Epoch 0 | Loss: 0.34010130167007446 | Accuracy: 92.1875%\n",
            " | Epoch 0 | Loss: 0.4298512935638428 | Accuracy: 92.1875%\n",
            " | Epoch 0 | Loss: 0.5235327482223511 | Accuracy: 90.625%\n"
          ]
        },
        {
          "output_type": "stream",
          "name": "stderr",
          "text": [
            "Epoch 0:  93%|█████████▎| 701/751 [00:17<00:01, 42.77batch/s, accuracy=98.4375%, loss=0.199]"
          ]
        },
        {
          "output_type": "stream",
          "name": "stdout",
          "text": [
            " | Epoch 0 | Loss: 0.2943679094314575 | Accuracy: 95.3125%\n",
            " | Epoch 0 | Loss: 0.7802410125732422 | Accuracy: 79.6875%\n",
            " | Epoch 0 | Loss: 0.34574204683303833 | Accuracy: 93.75%\n",
            " | Epoch 0 | Loss: 0.4570486545562744 | Accuracy: 92.1875%\n",
            " | Epoch 0 | Loss: 0.5058115720748901 | Accuracy: 89.0625%\n",
            " | Epoch 0 | Loss: 0.5179418921470642 | Accuracy: 90.625%\n",
            " | Epoch 0 | Loss: 0.5548720359802246 | Accuracy: 87.5%\n",
            " | Epoch 0 | Loss: 0.5534961223602295 | Accuracy: 89.0625%\n",
            " | Epoch 0 | Loss: 0.3944022059440613 | Accuracy: 92.1875%\n",
            " | Epoch 0 | Loss: 0.19909140467643738 | Accuracy: 98.4375%\n"
          ]
        },
        {
          "output_type": "stream",
          "name": "stderr",
          "text": [
            "Epoch 0:  95%|█████████▍| 711/751 [00:17<00:00, 40.56batch/s, accuracy=84.375%, loss=0.626]"
          ]
        },
        {
          "output_type": "stream",
          "name": "stdout",
          "text": [
            " | Epoch 0 | Loss: 0.3970240652561188 | Accuracy: 92.1875%\n",
            " | Epoch 0 | Loss: 0.3837514817714691 | Accuracy: 92.1875%\n",
            " | Epoch 0 | Loss: 0.32377368211746216 | Accuracy: 93.75%\n",
            " | Epoch 0 | Loss: 0.555838406085968 | Accuracy: 87.5%\n",
            " | Epoch 0 | Loss: 0.5935893058776855 | Accuracy: 87.5%\n",
            " | Epoch 0 | Loss: 0.6596193909645081 | Accuracy: 85.9375%\n",
            " | Epoch 0 | Loss: 0.6260482668876648 | Accuracy: 84.375%\n"
          ]
        },
        {
          "output_type": "stream",
          "name": "stderr",
          "text": [
            "Epoch 0:  95%|█████████▌| 716/751 [00:17<00:00, 37.66batch/s, accuracy=85.9375%, loss=0.615]"
          ]
        },
        {
          "output_type": "stream",
          "name": "stdout",
          "text": [
            " | Epoch 0 | Loss: 0.8021697998046875 | Accuracy: 82.8125%\n",
            " | Epoch 0 | Loss: 0.436253160238266 | Accuracy: 90.625%\n",
            " | Epoch 0 | Loss: 0.48876166343688965 | Accuracy: 90.625%\n",
            " | Epoch 0 | Loss: 0.3955904245376587 | Accuracy: 92.1875%\n",
            " | Epoch 0 | Loss: 0.42543095350265503 | Accuracy: 90.625%\n",
            " | Epoch 0 | Loss: 0.2910621762275696 | Accuracy: 95.3125%\n",
            " | Epoch 0 | Loss: 0.6147916913032532 | Accuracy: 85.9375%\n"
          ]
        },
        {
          "output_type": "stream",
          "name": "stderr",
          "text": [
            "Epoch 0:  96%|█████████▋| 724/751 [00:17<00:00, 34.99batch/s, accuracy=93.75%, loss=0.365] "
          ]
        },
        {
          "output_type": "stream",
          "name": "stdout",
          "text": [
            " | Epoch 0 | Loss: 0.5209553241729736 | Accuracy: 89.0625%\n",
            " | Epoch 0 | Loss: 0.45201390981674194 | Accuracy: 90.625%\n",
            " | Epoch 0 | Loss: 0.40170904994010925 | Accuracy: 92.1875%\n",
            " | Epoch 0 | Loss: 0.24345718324184418 | Accuracy: 96.875%\n",
            " | Epoch 0 | Loss: 0.4009191691875458 | Accuracy: 92.1875%\n",
            " | Epoch 0 | Loss: 0.2646954655647278 | Accuracy: 96.875%\n",
            " | Epoch 0 | Loss: 0.3645966053009033 | Accuracy: 93.75%\n"
          ]
        },
        {
          "output_type": "stream",
          "name": "stderr",
          "text": [
            "Epoch 0:  97%|█████████▋| 732/751 [00:18<00:00, 30.12batch/s, accuracy=84.375%, loss=0.734]"
          ]
        },
        {
          "output_type": "stream",
          "name": "stdout",
          "text": [
            " | Epoch 0 | Loss: 0.6386663317680359 | Accuracy: 85.9375%\n",
            " | Epoch 0 | Loss: 0.4981236755847931 | Accuracy: 90.625%\n",
            " | Epoch 0 | Loss: 0.3689417243003845 | Accuracy: 92.1875%\n",
            " | Epoch 0 | Loss: 0.5576913356781006 | Accuracy: 87.5%\n",
            " | Epoch 0 | Loss: 0.3232225179672241 | Accuracy: 93.75%\n",
            " | Epoch 0 | Loss: 0.734113872051239 | Accuracy: 84.375%\n"
          ]
        },
        {
          "output_type": "stream",
          "name": "stderr",
          "text": [
            "Epoch 0:  99%|█████████▊| 740/751 [00:18<00:00, 32.02batch/s, accuracy=84.375%, loss=0.636]"
          ]
        },
        {
          "output_type": "stream",
          "name": "stdout",
          "text": [
            " | Epoch 0 | Loss: 0.5867925882339478 | Accuracy: 89.0625%\n",
            " | Epoch 0 | Loss: 0.3821088671684265 | Accuracy: 92.1875%\n",
            " | Epoch 0 | Loss: 0.6337774991989136 | Accuracy: 85.9375%\n",
            " | Epoch 0 | Loss: 0.2647548019886017 | Accuracy: 96.875%\n",
            " | Epoch 0 | Loss: 0.501595139503479 | Accuracy: 89.0625%\n",
            " | Epoch 0 | Loss: 0.47708985209465027 | Accuracy: 90.625%\n",
            " | Epoch 0 | Loss: 0.3846246302127838 | Accuracy: 93.75%\n",
            " | Epoch 0 | Loss: 0.6362209320068359 | Accuracy: 84.375%\n"
          ]
        },
        {
          "output_type": "stream",
          "name": "stderr",
          "text": [
            "Epoch 0:  99%|█████████▉| 744/751 [00:18<00:00, 32.01batch/s, accuracy=92.1875%, loss=0.379]"
          ]
        },
        {
          "output_type": "stream",
          "name": "stdout",
          "text": [
            " | Epoch 0 | Loss: 0.3170119524002075 | Accuracy: 93.75%\n",
            " | Epoch 0 | Loss: 0.45108020305633545 | Accuracy: 90.625%\n",
            " | Epoch 0 | Loss: 0.41660571098327637 | Accuracy: 92.1875%\n",
            " | Epoch 0 | Loss: 0.4692336916923523 | Accuracy: 89.0625%\n",
            " | Epoch 0 | Loss: 0.5490531325340271 | Accuracy: 87.5%\n",
            " | Epoch 0 | Loss: 0.40638232231140137 | Accuracy: 92.1875%\n",
            " | Epoch 0 | Loss: 0.3787502944469452 | Accuracy: 92.1875%\n"
          ]
        },
        {
          "output_type": "stream",
          "name": "stderr",
          "text": [
            "Epoch 0: 100%|█████████▉| 748/751 [00:18<00:00, 33.47batch/s, accuracy=100.0%, loss=0.0981] "
          ]
        },
        {
          "output_type": "stream",
          "name": "stdout",
          "text": [
            " | Epoch 0 | Loss: 0.4979718029499054 | Accuracy: 89.0625%\n",
            " | Epoch 0 | Loss: 0.2749805152416229 | Accuracy: 96.875%\n",
            " | Epoch 0 | Loss: 0.3033086359500885 | Accuracy: 95.3125%\n",
            " | Epoch 0 | Loss: 0.09811340272426605 | Accuracy: 100.0%\n"
          ]
        },
        {
          "output_type": "stream",
          "name": "stderr",
          "text": [
            "Epoch 0: 100%|██████████| 751/751 [00:18<00:00, 39.83batch/s, accuracy=100.0%, loss=0.0981]\n",
            "Epoch 1:   1%|          | 4/751 [00:00<01:22,  9.01batch/s, accuracy=85.9375%, loss=0.599]"
          ]
        },
        {
          "output_type": "stream",
          "name": "stdout",
          "text": [
            " | Epoch 1 | Loss: 0.6330991983413696 | Accuracy: 85.9375%\n",
            " | Epoch 1 | Loss: 0.5307129621505737 | Accuracy: 89.0625%\n",
            " | Epoch 1 | Loss: 0.7642875909805298 | Accuracy: 82.8125%\n",
            " | Epoch 1 | Loss: 0.4445074200630188 | Accuracy: 92.1875%\n",
            " | Epoch 1 | Loss: 0.4657000005245209 | Accuracy: 90.625%\n",
            " | Epoch 1 | Loss: 0.5991267561912537 | Accuracy: 85.9375%\n"
          ]
        },
        {
          "output_type": "stream",
          "name": "stderr",
          "text": [
            "Epoch 1:   1%|▏         | 10/751 [00:00<00:39, 18.54batch/s, accuracy=93.75%, loss=0.363]  "
          ]
        },
        {
          "output_type": "stream",
          "name": "stdout",
          "text": [
            " | Epoch 1 | Loss: 0.5417808294296265 | Accuracy: 87.5%\n",
            " | Epoch 1 | Loss: 0.2828773856163025 | Accuracy: 95.3125%\n",
            " | Epoch 1 | Loss: 0.33828380703926086 | Accuracy: 93.75%\n",
            " | Epoch 1 | Loss: 0.43117132782936096 | Accuracy: 92.1875%\n",
            " | Epoch 1 | Loss: 0.30605486035346985 | Accuracy: 95.3125%\n",
            " | Epoch 1 | Loss: 0.3628849387168884 | Accuracy: 93.75%\n"
          ]
        },
        {
          "output_type": "stream",
          "name": "stderr",
          "text": [
            "Epoch 1:   2%|▏         | 16/751 [00:01<00:31, 22.99batch/s, accuracy=90.625%, loss=0.514] "
          ]
        },
        {
          "output_type": "stream",
          "name": "stdout",
          "text": [
            " | Epoch 1 | Loss: 0.46963685750961304 | Accuracy: 90.625%\n",
            " | Epoch 1 | Loss: 0.5066444873809814 | Accuracy: 89.0625%\n",
            " | Epoch 1 | Loss: 0.5022953748703003 | Accuracy: 89.0625%\n",
            " | Epoch 1 | Loss: 0.9489426016807556 | Accuracy: 76.5625%\n",
            " | Epoch 1 | Loss: 0.6858770847320557 | Accuracy: 82.8125%\n",
            " | Epoch 1 | Loss: 0.5141851902008057 | Accuracy: 90.625%\n"
          ]
        },
        {
          "output_type": "stream",
          "name": "stderr",
          "text": [
            "Epoch 1:   3%|▎         | 23/751 [00:01<00:28, 25.82batch/s, accuracy=87.5%, loss=0.587]  "
          ]
        },
        {
          "output_type": "stream",
          "name": "stdout",
          "text": [
            " | Epoch 1 | Loss: 0.5363402366638184 | Accuracy: 89.0625%\n",
            " | Epoch 1 | Loss: 0.6174012422561646 | Accuracy: 85.9375%\n",
            " | Epoch 1 | Loss: 0.5300235152244568 | Accuracy: 89.0625%\n",
            " | Epoch 1 | Loss: 0.40885835886001587 | Accuracy: 92.1875%\n",
            " | Epoch 1 | Loss: 0.589607834815979 | Accuracy: 87.5%\n",
            " | Epoch 1 | Loss: 0.40671464800834656 | Accuracy: 90.625%\n"
          ]
        },
        {
          "output_type": "stream",
          "name": "stderr",
          "text": [
            "Epoch 1:   4%|▍         | 29/751 [00:01<00:27, 26.69batch/s, accuracy=85.9375%, loss=0.624]"
          ]
        },
        {
          "output_type": "stream",
          "name": "stdout",
          "text": [
            " | Epoch 1 | Loss: 0.5874411463737488 | Accuracy: 87.5%\n",
            " | Epoch 1 | Loss: 0.4531761705875397 | Accuracy: 90.625%\n",
            " | Epoch 1 | Loss: 0.3933123052120209 | Accuracy: 92.1875%\n",
            " | Epoch 1 | Loss: 0.4940650761127472 | Accuracy: 89.0625%\n",
            " | Epoch 1 | Loss: 0.767528235912323 | Accuracy: 82.8125%\n",
            " | Epoch 1 | Loss: 0.6239819526672363 | Accuracy: 85.9375%\n"
          ]
        },
        {
          "output_type": "stream",
          "name": "stderr",
          "text": [
            "Epoch 1:   5%|▌         | 38/751 [00:01<00:21, 33.88batch/s, accuracy=89.0625%, loss=0.518]"
          ]
        },
        {
          "output_type": "stream",
          "name": "stdout",
          "text": [
            " | Epoch 1 | Loss: 0.2785843014717102 | Accuracy: 95.3125%\n",
            " | Epoch 1 | Loss: 0.36936792731285095 | Accuracy: 93.75%\n",
            " | Epoch 1 | Loss: 0.6525633335113525 | Accuracy: 82.8125%\n",
            " | Epoch 1 | Loss: 0.5618405342102051 | Accuracy: 89.0625%\n",
            " | Epoch 1 | Loss: 0.5889129638671875 | Accuracy: 85.9375%\n",
            " | Epoch 1 | Loss: 0.47674140334129333 | Accuracy: 90.625%\n",
            " | Epoch 1 | Loss: 0.46047455072402954 | Accuracy: 90.625%\n",
            " | Epoch 1 | Loss: 0.56395024061203 | Accuracy: 89.0625%\n",
            " | Epoch 1 | Loss: 0.5175710320472717 | Accuracy: 89.0625%\n"
          ]
        },
        {
          "output_type": "stream",
          "name": "stderr",
          "text": [
            "Epoch 1:   6%|▋         | 48/751 [00:01<00:17, 39.18batch/s, accuracy=81.25%, loss=0.695] "
          ]
        },
        {
          "output_type": "stream",
          "name": "stdout",
          "text": [
            " | Epoch 1 | Loss: 0.6323341131210327 | Accuracy: 85.9375%\n",
            " | Epoch 1 | Loss: 0.6053112149238586 | Accuracy: 87.5%\n",
            " | Epoch 1 | Loss: 0.4068637490272522 | Accuracy: 92.1875%\n",
            " | Epoch 1 | Loss: 0.5532155632972717 | Accuracy: 87.5%\n",
            " | Epoch 1 | Loss: 0.4838254749774933 | Accuracy: 90.625%\n",
            " | Epoch 1 | Loss: 0.49345481395721436 | Accuracy: 90.625%\n",
            " | Epoch 1 | Loss: 0.4371926188468933 | Accuracy: 90.625%\n",
            " | Epoch 1 | Loss: 0.4259739816188812 | Accuracy: 90.625%\n",
            " | Epoch 1 | Loss: 0.7176877856254578 | Accuracy: 84.375%\n",
            " | Epoch 1 | Loss: 0.6947051882743835 | Accuracy: 81.25%\n"
          ]
        },
        {
          "output_type": "stream",
          "name": "stderr",
          "text": [
            "Epoch 1:   8%|▊         | 58/751 [00:02<00:17, 40.65batch/s, accuracy=90.625%, loss=0.453]"
          ]
        },
        {
          "output_type": "stream",
          "name": "stdout",
          "text": [
            " | Epoch 1 | Loss: 0.4276123344898224 | Accuracy: 90.625%\n",
            " | Epoch 1 | Loss: 0.6916533708572388 | Accuracy: 82.8125%\n",
            " | Epoch 1 | Loss: 0.42775318026542664 | Accuracy: 92.1875%\n",
            " | Epoch 1 | Loss: 0.518980085849762 | Accuracy: 89.0625%\n",
            " | Epoch 1 | Loss: 0.5281654000282288 | Accuracy: 87.5%\n",
            " | Epoch 1 | Loss: 0.6143613457679749 | Accuracy: 85.9375%\n",
            " | Epoch 1 | Loss: 0.4534779489040375 | Accuracy: 90.625%\n",
            " | Epoch 1 | Loss: 0.4097965657711029 | Accuracy: 92.1875%\n",
            " | Epoch 1 | Loss: 0.4528493881225586 | Accuracy: 90.625%\n"
          ]
        },
        {
          "output_type": "stream",
          "name": "stderr",
          "text": [
            "Epoch 1:   8%|▊         | 63/751 [00:02<00:16, 41.02batch/s, accuracy=93.75%, loss=0.346]"
          ]
        },
        {
          "output_type": "stream",
          "name": "stdout",
          "text": [
            " | Epoch 1 | Loss: 0.35821792483329773 | Accuracy: 93.75%\n",
            " | Epoch 1 | Loss: 0.47571542859077454 | Accuracy: 90.625%\n",
            " | Epoch 1 | Loss: 0.3759418725967407 | Accuracy: 92.1875%\n",
            " | Epoch 1 | Loss: 0.634681224822998 | Accuracy: 85.9375%\n",
            " | Epoch 1 | Loss: 0.5687652826309204 | Accuracy: 89.0625%\n",
            " | Epoch 1 | Loss: 0.4185028374195099 | Accuracy: 92.1875%\n",
            " | Epoch 1 | Loss: 0.44015395641326904 | Accuracy: 92.1875%\n",
            " | Epoch 1 | Loss: 0.5343787670135498 | Accuracy: 87.5%\n",
            " | Epoch 1 | Loss: 0.34572479128837585 | Accuracy: 93.75%\n"
          ]
        },
        {
          "output_type": "stream",
          "name": "stderr",
          "text": [
            "Epoch 1:  10%|▉         | 73/751 [00:02<00:16, 41.53batch/s, accuracy=87.5%, loss=0.583]   "
          ]
        },
        {
          "output_type": "stream",
          "name": "stdout",
          "text": [
            " | Epoch 1 | Loss: 0.6788628697395325 | Accuracy: 84.375%\n",
            " | Epoch 1 | Loss: 0.337748259305954 | Accuracy: 93.75%\n",
            " | Epoch 1 | Loss: 0.43294990062713623 | Accuracy: 92.1875%\n",
            " | Epoch 1 | Loss: 0.4657233655452728 | Accuracy: 90.625%\n",
            " | Epoch 1 | Loss: 0.5212106704711914 | Accuracy: 87.5%\n",
            " | Epoch 1 | Loss: 0.7423814535140991 | Accuracy: 82.8125%\n",
            " | Epoch 1 | Loss: 0.5149087309837341 | Accuracy: 87.5%\n",
            " | Epoch 1 | Loss: 0.4817948341369629 | Accuracy: 89.0625%\n",
            " | Epoch 1 | Loss: 0.5828531980514526 | Accuracy: 87.5%\n"
          ]
        },
        {
          "output_type": "stream",
          "name": "stderr",
          "text": [
            "Epoch 1:  11%|█         | 83/751 [00:02<00:15, 42.39batch/s, accuracy=95.3125%, loss=0.277]"
          ]
        },
        {
          "output_type": "stream",
          "name": "stdout",
          "text": [
            " | Epoch 1 | Loss: 0.33781594038009644 | Accuracy: 93.75%\n",
            " | Epoch 1 | Loss: 0.3879265785217285 | Accuracy: 92.1875%\n",
            " | Epoch 1 | Loss: 0.6096458435058594 | Accuracy: 85.9375%\n",
            " | Epoch 1 | Loss: 0.5412152409553528 | Accuracy: 89.0625%\n",
            " | Epoch 1 | Loss: 0.32729238271713257 | Accuracy: 93.75%\n",
            " | Epoch 1 | Loss: 0.46224308013916016 | Accuracy: 90.625%\n",
            " | Epoch 1 | Loss: 0.6201893091201782 | Accuracy: 85.9375%\n",
            " | Epoch 1 | Loss: 0.41327548027038574 | Accuracy: 92.1875%\n",
            " | Epoch 1 | Loss: 0.2767287790775299 | Accuracy: 95.3125%\n"
          ]
        },
        {
          "output_type": "stream",
          "name": "stderr",
          "text": [
            "Epoch 1:  12%|█▏        | 93/751 [00:02<00:15, 43.67batch/s, accuracy=85.9375%, loss=0.633]"
          ]
        },
        {
          "output_type": "stream",
          "name": "stdout",
          "text": [
            " | Epoch 1 | Loss: 0.46425047516822815 | Accuracy: 90.625%\n",
            " | Epoch 1 | Loss: 0.4968301057815552 | Accuracy: 89.0625%\n",
            " | Epoch 1 | Loss: 0.17754852771759033 | Accuracy: 98.4375%\n",
            " | Epoch 1 | Loss: 0.609653115272522 | Accuracy: 87.5%\n",
            " | Epoch 1 | Loss: 0.5647790431976318 | Accuracy: 87.5%\n",
            " | Epoch 1 | Loss: 0.7103285193443298 | Accuracy: 82.8125%\n",
            " | Epoch 1 | Loss: 0.381033718585968 | Accuracy: 93.75%\n",
            " | Epoch 1 | Loss: 0.4308226704597473 | Accuracy: 90.625%\n",
            " | Epoch 1 | Loss: 0.6332001090049744 | Accuracy: 85.9375%\n"
          ]
        },
        {
          "output_type": "stream",
          "name": "stderr",
          "text": [
            "Epoch 1:  13%|█▎        | 98/751 [00:03<00:15, 42.48batch/s, accuracy=90.625%, loss=0.45]  "
          ]
        },
        {
          "output_type": "stream",
          "name": "stdout",
          "text": [
            " | Epoch 1 | Loss: 0.4844771921634674 | Accuracy: 89.0625%\n",
            " | Epoch 1 | Loss: 0.31794923543930054 | Accuracy: 95.3125%\n",
            " | Epoch 1 | Loss: 0.39457327127456665 | Accuracy: 90.625%\n",
            " | Epoch 1 | Loss: 0.48763152956962585 | Accuracy: 89.0625%\n",
            " | Epoch 1 | Loss: 0.36782628297805786 | Accuracy: 92.1875%\n",
            " | Epoch 1 | Loss: 0.40679922699928284 | Accuracy: 90.625%\n",
            " | Epoch 1 | Loss: 0.468315064907074 | Accuracy: 89.0625%\n",
            " | Epoch 1 | Loss: 0.4503674805164337 | Accuracy: 90.625%\n"
          ]
        },
        {
          "output_type": "stream",
          "name": "stderr",
          "text": [
            "Epoch 1:  14%|█▍        | 108/751 [00:03<00:15, 42.37batch/s, accuracy=89.0625%, loss=0.504]"
          ]
        },
        {
          "output_type": "stream",
          "name": "stdout",
          "text": [
            " | Epoch 1 | Loss: 0.43415674567222595 | Accuracy: 90.625%\n",
            " | Epoch 1 | Loss: 0.5160768032073975 | Accuracy: 89.0625%\n",
            " | Epoch 1 | Loss: 0.45063433051109314 | Accuracy: 90.625%\n",
            " | Epoch 1 | Loss: 0.16495449841022491 | Accuracy: 98.4375%\n",
            " | Epoch 1 | Loss: 0.594479501247406 | Accuracy: 87.5%\n",
            " | Epoch 1 | Loss: 0.35760799050331116 | Accuracy: 92.1875%\n",
            " | Epoch 1 | Loss: 0.412006139755249 | Accuracy: 92.1875%\n",
            " | Epoch 1 | Loss: 0.5815722942352295 | Accuracy: 85.9375%\n",
            " | Epoch 1 | Loss: 0.5035485029220581 | Accuracy: 89.0625%\n"
          ]
        },
        {
          "output_type": "stream",
          "name": "stderr",
          "text": [
            "Epoch 1:  16%|█▌        | 118/751 [00:03<00:14, 42.48batch/s, accuracy=90.625%, loss=0.473] "
          ]
        },
        {
          "output_type": "stream",
          "name": "stdout",
          "text": [
            " | Epoch 1 | Loss: 0.6378147006034851 | Accuracy: 85.9375%\n",
            " | Epoch 1 | Loss: 0.6508697271347046 | Accuracy: 85.9375%\n",
            " | Epoch 1 | Loss: 0.4627917408943176 | Accuracy: 90.625%\n",
            " | Epoch 1 | Loss: 0.5605742335319519 | Accuracy: 87.5%\n",
            " | Epoch 1 | Loss: 0.3115766644477844 | Accuracy: 93.75%\n",
            " | Epoch 1 | Loss: 0.5359426140785217 | Accuracy: 89.0625%\n",
            " | Epoch 1 | Loss: 0.5366470813751221 | Accuracy: 89.0625%\n",
            " | Epoch 1 | Loss: 0.460819810628891 | Accuracy: 89.0625%\n",
            " | Epoch 1 | Loss: 0.47315946221351624 | Accuracy: 90.625%\n"
          ]
        },
        {
          "output_type": "stream",
          "name": "stderr",
          "text": [
            "Epoch 1:  17%|█▋        | 128/751 [00:03<00:14, 43.30batch/s, accuracy=89.0625%, loss=0.472]"
          ]
        },
        {
          "output_type": "stream",
          "name": "stdout",
          "text": [
            " | Epoch 1 | Loss: 0.22617247700691223 | Accuracy: 96.875%\n",
            " | Epoch 1 | Loss: 0.385803759098053 | Accuracy: 92.1875%\n",
            " | Epoch 1 | Loss: 0.3454720377922058 | Accuracy: 93.75%\n",
            " | Epoch 1 | Loss: 0.43237996101379395 | Accuracy: 92.1875%\n",
            " | Epoch 1 | Loss: 0.40986624360084534 | Accuracy: 90.625%\n",
            " | Epoch 1 | Loss: 0.35272160172462463 | Accuracy: 93.75%\n",
            " | Epoch 1 | Loss: 0.49632135033607483 | Accuracy: 89.0625%\n",
            " | Epoch 1 | Loss: 0.6691949367523193 | Accuracy: 84.375%\n",
            " | Epoch 1 | Loss: 0.5284502506256104 | Accuracy: 89.0625%\n"
          ]
        },
        {
          "output_type": "stream",
          "name": "stderr",
          "text": [
            "Epoch 1:  18%|█▊        | 138/751 [00:03<00:14, 43.25batch/s, accuracy=90.625%, loss=0.445]"
          ]
        },
        {
          "output_type": "stream",
          "name": "stdout",
          "text": [
            " | Epoch 1 | Loss: 0.4716102182865143 | Accuracy: 89.0625%\n",
            " | Epoch 1 | Loss: 0.36463209986686707 | Accuracy: 92.1875%\n",
            " | Epoch 1 | Loss: 0.45734867453575134 | Accuracy: 90.625%\n",
            " | Epoch 1 | Loss: 0.4974994957447052 | Accuracy: 87.5%\n",
            " | Epoch 1 | Loss: 0.5310007333755493 | Accuracy: 89.0625%\n",
            " | Epoch 1 | Loss: 0.21808186173439026 | Accuracy: 96.875%\n",
            " | Epoch 1 | Loss: 0.323924720287323 | Accuracy: 93.75%\n",
            " | Epoch 1 | Loss: 0.5242014527320862 | Accuracy: 89.0625%\n",
            " | Epoch 1 | Loss: 0.4446547329425812 | Accuracy: 90.625%\n"
          ]
        },
        {
          "output_type": "stream",
          "name": "stderr",
          "text": [
            "Epoch 1:  19%|█▉        | 143/751 [00:04<00:14, 41.78batch/s, accuracy=90.625%, loss=0.437]"
          ]
        },
        {
          "output_type": "stream",
          "name": "stdout",
          "text": [
            " | Epoch 1 | Loss: 0.4168388247489929 | Accuracy: 92.1875%\n",
            " | Epoch 1 | Loss: 0.6651828289031982 | Accuracy: 84.375%\n",
            " | Epoch 1 | Loss: 0.4685359001159668 | Accuracy: 90.625%\n",
            " | Epoch 1 | Loss: 0.49541181325912476 | Accuracy: 89.0625%\n",
            " | Epoch 1 | Loss: 0.37086188793182373 | Accuracy: 92.1875%\n",
            " | Epoch 1 | Loss: 0.4623734652996063 | Accuracy: 90.625%\n",
            " | Epoch 1 | Loss: 0.3453767001628876 | Accuracy: 93.75%\n",
            " | Epoch 1 | Loss: 0.43703582882881165 | Accuracy: 90.625%\n"
          ]
        },
        {
          "output_type": "stream",
          "name": "stderr",
          "text": [
            "Epoch 1:  20%|██        | 153/751 [00:04<00:14, 41.69batch/s, accuracy=90.625%, loss=0.426] "
          ]
        },
        {
          "output_type": "stream",
          "name": "stdout",
          "text": [
            " | Epoch 1 | Loss: 0.749830961227417 | Accuracy: 82.8125%\n",
            " | Epoch 1 | Loss: 0.6747377514839172 | Accuracy: 85.9375%\n",
            " | Epoch 1 | Loss: 0.5661032795906067 | Accuracy: 87.5%\n",
            " | Epoch 1 | Loss: 0.2790934443473816 | Accuracy: 95.3125%\n",
            " | Epoch 1 | Loss: 0.3255590498447418 | Accuracy: 93.75%\n",
            " | Epoch 1 | Loss: 0.5185301899909973 | Accuracy: 89.0625%\n",
            " | Epoch 1 | Loss: 0.6486838459968567 | Accuracy: 84.375%\n",
            " | Epoch 1 | Loss: 0.47771137952804565 | Accuracy: 89.0625%\n",
            " | Epoch 1 | Loss: 0.4264065623283386 | Accuracy: 90.625%\n"
          ]
        },
        {
          "output_type": "stream",
          "name": "stderr",
          "text": [
            "Epoch 1:  22%|██▏       | 163/751 [00:04<00:13, 42.52batch/s, accuracy=89.0625%, loss=0.489]"
          ]
        },
        {
          "output_type": "stream",
          "name": "stdout",
          "text": [
            " | Epoch 1 | Loss: 0.6652611494064331 | Accuracy: 84.375%\n",
            " | Epoch 1 | Loss: 0.5136073231697083 | Accuracy: 89.0625%\n",
            " | Epoch 1 | Loss: 0.2974242568016052 | Accuracy: 95.3125%\n",
            " | Epoch 1 | Loss: 0.29634279012680054 | Accuracy: 95.3125%\n",
            " | Epoch 1 | Loss: 0.45750176906585693 | Accuracy: 90.625%\n",
            " | Epoch 1 | Loss: 0.5705052018165588 | Accuracy: 87.5%\n",
            " | Epoch 1 | Loss: 0.5830397009849548 | Accuracy: 85.9375%\n",
            " | Epoch 1 | Loss: 0.5502827167510986 | Accuracy: 87.5%\n",
            " | Epoch 1 | Loss: 0.48878592252731323 | Accuracy: 89.0625%\n"
          ]
        },
        {
          "output_type": "stream",
          "name": "stderr",
          "text": [
            "Epoch 1:  23%|██▎       | 173/751 [00:04<00:13, 42.87batch/s, accuracy=87.5%, loss=0.561]"
          ]
        },
        {
          "output_type": "stream",
          "name": "stdout",
          "text": [
            " | Epoch 1 | Loss: 0.5121696591377258 | Accuracy: 89.0625%\n",
            " | Epoch 1 | Loss: 0.4828031361103058 | Accuracy: 89.0625%\n",
            " | Epoch 1 | Loss: 0.43293604254722595 | Accuracy: 90.625%\n",
            " | Epoch 1 | Loss: 0.29337385296821594 | Accuracy: 95.3125%\n",
            " | Epoch 1 | Loss: 0.412128210067749 | Accuracy: 92.1875%\n",
            " | Epoch 1 | Loss: 0.2681230902671814 | Accuracy: 95.3125%\n",
            " | Epoch 1 | Loss: 0.21625572443008423 | Accuracy: 96.875%\n",
            " | Epoch 1 | Loss: 0.6567997336387634 | Accuracy: 84.375%\n",
            " | Epoch 1 | Loss: 0.5613484382629395 | Accuracy: 87.5%\n"
          ]
        },
        {
          "output_type": "stream",
          "name": "stderr",
          "text": [
            "Epoch 1:  24%|██▎       | 178/751 [00:05<00:15, 38.13batch/s, accuracy=92.1875%, loss=0.38] "
          ]
        },
        {
          "output_type": "stream",
          "name": "stdout",
          "text": [
            " | Epoch 1 | Loss: 0.495425283908844 | Accuracy: 89.0625%\n",
            " | Epoch 1 | Loss: 0.5148662328720093 | Accuracy: 89.0625%\n",
            " | Epoch 1 | Loss: 0.34372228384017944 | Accuracy: 93.75%\n",
            " | Epoch 1 | Loss: 0.49932563304901123 | Accuracy: 89.0625%\n",
            " | Epoch 1 | Loss: 0.43768563866615295 | Accuracy: 90.625%\n",
            " | Epoch 1 | Loss: 0.5133916735649109 | Accuracy: 89.0625%\n"
          ]
        },
        {
          "output_type": "stream",
          "name": "stderr",
          "text": [
            "Epoch 1:  25%|██▍       | 186/751 [00:05<00:16, 33.91batch/s, accuracy=90.625%, loss=0.449]"
          ]
        },
        {
          "output_type": "stream",
          "name": "stdout",
          "text": [
            " | Epoch 1 | Loss: 0.380469411611557 | Accuracy: 92.1875%\n",
            " | Epoch 1 | Loss: 0.40409353375434875 | Accuracy: 92.1875%\n",
            " | Epoch 1 | Loss: 0.49554410576820374 | Accuracy: 89.0625%\n",
            " | Epoch 1 | Loss: 0.6068713068962097 | Accuracy: 85.9375%\n",
            " | Epoch 1 | Loss: 0.4944329559803009 | Accuracy: 89.0625%\n",
            " | Epoch 1 | Loss: 0.41002026200294495 | Accuracy: 92.1875%\n",
            " | Epoch 1 | Loss: 0.44889146089553833 | Accuracy: 90.625%\n"
          ]
        },
        {
          "output_type": "stream",
          "name": "stderr",
          "text": [
            "Epoch 1:  26%|██▌       | 196/751 [00:05<00:14, 38.83batch/s, accuracy=93.75%, loss=0.361]"
          ]
        },
        {
          "output_type": "stream",
          "name": "stdout",
          "text": [
            " | Epoch 1 | Loss: 0.45074525475502014 | Accuracy: 92.1875%\n",
            " | Epoch 1 | Loss: 0.2863612473011017 | Accuracy: 95.3125%\n",
            " | Epoch 1 | Loss: 0.3477744460105896 | Accuracy: 93.75%\n",
            " | Epoch 1 | Loss: 0.3426789939403534 | Accuracy: 93.75%\n",
            " | Epoch 1 | Loss: 0.5925787091255188 | Accuracy: 85.9375%\n",
            " | Epoch 1 | Loss: 0.3235172629356384 | Accuracy: 93.75%\n",
            " | Epoch 1 | Loss: 0.6309410929679871 | Accuracy: 85.9375%\n",
            " | Epoch 1 | Loss: 0.5835785269737244 | Accuracy: 87.5%\n",
            " | Epoch 1 | Loss: 0.3133701682090759 | Accuracy: 95.3125%\n",
            " | Epoch 1 | Loss: 0.3607207238674164 | Accuracy: 93.75%\n"
          ]
        },
        {
          "output_type": "stream",
          "name": "stderr",
          "text": [
            "Epoch 1:  27%|██▋       | 205/751 [00:05<00:13, 40.62batch/s, accuracy=90.625%, loss=0.472]"
          ]
        },
        {
          "output_type": "stream",
          "name": "stdout",
          "text": [
            " | Epoch 1 | Loss: 0.45266738533973694 | Accuracy: 90.625%\n",
            " | Epoch 1 | Loss: 0.42075997591018677 | Accuracy: 92.1875%\n",
            " | Epoch 1 | Loss: 0.7012324333190918 | Accuracy: 82.8125%\n",
            " | Epoch 1 | Loss: 0.4299059808254242 | Accuracy: 90.625%\n",
            " | Epoch 1 | Loss: 0.5010957717895508 | Accuracy: 89.0625%\n",
            " | Epoch 1 | Loss: 0.34793564677238464 | Accuracy: 93.75%\n",
            " | Epoch 1 | Loss: 0.5099727511405945 | Accuracy: 89.0625%\n",
            " | Epoch 1 | Loss: 0.3734542727470398 | Accuracy: 92.1875%\n",
            " | Epoch 1 | Loss: 0.47227704524993896 | Accuracy: 90.625%\n"
          ]
        },
        {
          "output_type": "stream",
          "name": "stderr",
          "text": [
            "Epoch 1:  29%|██▊       | 215/751 [00:05<00:12, 42.80batch/s, accuracy=92.1875%, loss=0.368]"
          ]
        },
        {
          "output_type": "stream",
          "name": "stdout",
          "text": [
            " | Epoch 1 | Loss: 0.6080304384231567 | Accuracy: 84.375%\n",
            " | Epoch 1 | Loss: 0.539334237575531 | Accuracy: 89.0625%\n",
            " | Epoch 1 | Loss: 0.43587708473205566 | Accuracy: 90.625%\n",
            " | Epoch 1 | Loss: 0.3674409091472626 | Accuracy: 92.1875%\n",
            " | Epoch 1 | Loss: 0.5533196926116943 | Accuracy: 87.5%\n",
            " | Epoch 1 | Loss: 0.3321320116519928 | Accuracy: 93.75%\n",
            " | Epoch 1 | Loss: 0.47765401005744934 | Accuracy: 89.0625%\n",
            " | Epoch 1 | Loss: 0.6572376489639282 | Accuracy: 84.375%\n",
            " | Epoch 1 | Loss: 0.46275174617767334 | Accuracy: 90.625%\n",
            " | Epoch 1 | Loss: 0.3682531714439392 | Accuracy: 92.1875%\n"
          ]
        },
        {
          "output_type": "stream",
          "name": "stderr",
          "text": [
            "Epoch 1:  29%|██▉       | 220/751 [00:06<00:12, 42.67batch/s, accuracy=95.3125%, loss=0.276]"
          ]
        },
        {
          "output_type": "stream",
          "name": "stdout",
          "text": [
            " | Epoch 1 | Loss: 0.4012632668018341 | Accuracy: 92.1875%\n",
            " | Epoch 1 | Loss: 0.5564768314361572 | Accuracy: 87.5%\n",
            " | Epoch 1 | Loss: 0.4289909601211548 | Accuracy: 90.625%\n",
            " | Epoch 1 | Loss: 0.22753602266311646 | Accuracy: 96.875%\n",
            " | Epoch 1 | Loss: 0.5848998427391052 | Accuracy: 85.9375%\n",
            " | Epoch 1 | Loss: 0.2350219339132309 | Accuracy: 96.875%\n",
            " | Epoch 1 | Loss: 0.48258718848228455 | Accuracy: 89.0625%\n",
            " | Epoch 1 | Loss: 0.4833930432796478 | Accuracy: 89.0625%\n",
            " | Epoch 1 | Loss: 0.2761791944503784 | Accuracy: 95.3125%\n"
          ]
        },
        {
          "output_type": "stream",
          "name": "stderr",
          "text": [
            "Epoch 1:  31%|███       | 230/751 [00:06<00:12, 41.62batch/s, accuracy=89.0625%, loss=0.491]"
          ]
        },
        {
          "output_type": "stream",
          "name": "stdout",
          "text": [
            " | Epoch 1 | Loss: 0.4568934738636017 | Accuracy: 90.625%\n",
            " | Epoch 1 | Loss: 0.2613285779953003 | Accuracy: 95.3125%\n",
            " | Epoch 1 | Loss: 0.6147370934486389 | Accuracy: 85.9375%\n",
            " | Epoch 1 | Loss: 0.7619273066520691 | Accuracy: 81.25%\n",
            " | Epoch 1 | Loss: 0.47443726658821106 | Accuracy: 89.0625%\n",
            " | Epoch 1 | Loss: 0.37288737297058105 | Accuracy: 92.1875%\n",
            " | Epoch 1 | Loss: 0.31848442554473877 | Accuracy: 93.75%\n",
            " | Epoch 1 | Loss: 0.5540661811828613 | Accuracy: 89.0625%\n",
            " | Epoch 1 | Loss: 0.49079349637031555 | Accuracy: 89.0625%\n"
          ]
        },
        {
          "output_type": "stream",
          "name": "stderr",
          "text": [
            "Epoch 1:  32%|███▏      | 240/751 [00:06<00:11, 43.48batch/s, accuracy=89.0625%, loss=0.528]"
          ]
        },
        {
          "output_type": "stream",
          "name": "stdout",
          "text": [
            " | Epoch 1 | Loss: 0.40931886434555054 | Accuracy: 92.1875%\n",
            " | Epoch 1 | Loss: 0.42791759967803955 | Accuracy: 90.625%\n",
            " | Epoch 1 | Loss: 0.4981061816215515 | Accuracy: 89.0625%\n",
            " | Epoch 1 | Loss: 0.3834809958934784 | Accuracy: 92.1875%\n",
            " | Epoch 1 | Loss: 0.543607771396637 | Accuracy: 87.5%\n",
            " | Epoch 1 | Loss: 0.586665689945221 | Accuracy: 87.5%\n",
            " | Epoch 1 | Loss: 0.43064314126968384 | Accuracy: 90.625%\n",
            " | Epoch 1 | Loss: 0.5161974430084229 | Accuracy: 89.0625%\n",
            " | Epoch 1 | Loss: 0.5284354090690613 | Accuracy: 89.0625%\n"
          ]
        },
        {
          "output_type": "stream",
          "name": "stderr",
          "text": [
            "Epoch 1:  33%|███▎      | 250/751 [00:06<00:11, 43.13batch/s, accuracy=96.875%, loss=0.217]"
          ]
        },
        {
          "output_type": "stream",
          "name": "stdout",
          "text": [
            " | Epoch 1 | Loss: 0.5331714153289795 | Accuracy: 87.5%\n",
            " | Epoch 1 | Loss: 0.49248257279396057 | Accuracy: 89.0625%\n",
            " | Epoch 1 | Loss: 0.6737098097801208 | Accuracy: 84.375%\n",
            " | Epoch 1 | Loss: 0.28993597626686096 | Accuracy: 95.3125%\n",
            " | Epoch 1 | Loss: 0.4490099847316742 | Accuracy: 90.625%\n",
            " | Epoch 1 | Loss: 0.2198151797056198 | Accuracy: 96.875%\n",
            " | Epoch 1 | Loss: 0.15819679200649261 | Accuracy: 98.4375%\n",
            " | Epoch 1 | Loss: 0.4069547653198242 | Accuracy: 92.1875%\n",
            " | Epoch 1 | Loss: 0.4276966154575348 | Accuracy: 90.625%\n",
            " | Epoch 1 | Loss: 0.2169054001569748 | Accuracy: 96.875%\n"
          ]
        },
        {
          "output_type": "stream",
          "name": "stderr",
          "text": [
            "Epoch 1:  35%|███▍      | 260/751 [00:06<00:11, 44.51batch/s, accuracy=89.0625%, loss=0.502]"
          ]
        },
        {
          "output_type": "stream",
          "name": "stdout",
          "text": [
            " | Epoch 1 | Loss: 0.5134359002113342 | Accuracy: 89.0625%\n",
            " | Epoch 1 | Loss: 0.2173663079738617 | Accuracy: 96.875%\n",
            " | Epoch 1 | Loss: 0.30751052498817444 | Accuracy: 93.75%\n",
            " | Epoch 1 | Loss: 0.3413000702857971 | Accuracy: 93.75%\n",
            " | Epoch 1 | Loss: 0.6623932719230652 | Accuracy: 84.375%\n",
            " | Epoch 1 | Loss: 0.4878482520580292 | Accuracy: 90.625%\n",
            " | Epoch 1 | Loss: 0.32568201422691345 | Accuracy: 93.75%\n",
            " | Epoch 1 | Loss: 0.3722480535507202 | Accuracy: 92.1875%\n",
            " | Epoch 1 | Loss: 0.4701640009880066 | Accuracy: 90.625%\n",
            " | Epoch 1 | Loss: 0.5017276406288147 | Accuracy: 89.0625%\n"
          ]
        },
        {
          "output_type": "stream",
          "name": "stderr",
          "text": [
            "Epoch 1:  36%|███▌      | 270/751 [00:07<00:11, 42.20batch/s, accuracy=89.0625%, loss=0.492]"
          ]
        },
        {
          "output_type": "stream",
          "name": "stdout",
          "text": [
            " | Epoch 1 | Loss: 0.384057879447937 | Accuracy: 92.1875%\n",
            " | Epoch 1 | Loss: 0.5496301054954529 | Accuracy: 87.5%\n",
            " | Epoch 1 | Loss: 0.6725743412971497 | Accuracy: 84.375%\n",
            " | Epoch 1 | Loss: 0.3888222575187683 | Accuracy: 92.1875%\n",
            " | Epoch 1 | Loss: 0.31557726860046387 | Accuracy: 93.75%\n",
            " | Epoch 1 | Loss: 0.42373982071876526 | Accuracy: 90.625%\n",
            " | Epoch 1 | Loss: 0.6098278760910034 | Accuracy: 85.9375%\n",
            " | Epoch 1 | Loss: 0.33072999119758606 | Accuracy: 93.75%\n",
            " | Epoch 1 | Loss: 0.49190983176231384 | Accuracy: 89.0625%\n"
          ]
        },
        {
          "output_type": "stream",
          "name": "stderr",
          "text": [
            "Epoch 1:  37%|███▋      | 280/751 [00:07<00:10, 43.81batch/s, accuracy=93.75%, loss=0.331]"
          ]
        },
        {
          "output_type": "stream",
          "name": "stdout",
          "text": [
            " | Epoch 1 | Loss: 0.46270301938056946 | Accuracy: 90.625%\n",
            " | Epoch 1 | Loss: 0.44749948382377625 | Accuracy: 90.625%\n",
            " | Epoch 1 | Loss: 0.5082309246063232 | Accuracy: 89.0625%\n",
            " | Epoch 1 | Loss: 0.15276755392551422 | Accuracy: 98.4375%\n",
            " | Epoch 1 | Loss: 0.557352602481842 | Accuracy: 87.5%\n",
            " | Epoch 1 | Loss: 0.43067172169685364 | Accuracy: 90.625%\n",
            " | Epoch 1 | Loss: 0.4393414258956909 | Accuracy: 90.625%\n",
            " | Epoch 1 | Loss: 0.6065404415130615 | Accuracy: 85.9375%\n",
            " | Epoch 1 | Loss: 0.33144083619117737 | Accuracy: 93.75%\n"
          ]
        },
        {
          "output_type": "stream",
          "name": "stderr",
          "text": [
            "Epoch 1:  38%|███▊      | 285/751 [00:07<00:10, 43.78batch/s, accuracy=89.0625%, loss=0.518]"
          ]
        },
        {
          "output_type": "stream",
          "name": "stdout",
          "text": [
            " | Epoch 1 | Loss: 0.3396294116973877 | Accuracy: 93.75%\n",
            " | Epoch 1 | Loss: 0.38491174578666687 | Accuracy: 92.1875%\n",
            " | Epoch 1 | Loss: 0.6194251775741577 | Accuracy: 85.9375%\n",
            " | Epoch 1 | Loss: 0.32674768567085266 | Accuracy: 93.75%\n",
            " | Epoch 1 | Loss: 0.5564931035041809 | Accuracy: 87.5%\n",
            " | Epoch 1 | Loss: 0.4490632712841034 | Accuracy: 90.625%\n",
            " | Epoch 1 | Loss: 0.47827982902526855 | Accuracy: 89.0625%\n",
            " | Epoch 1 | Loss: 0.3063010573387146 | Accuracy: 93.75%\n",
            " | Epoch 1 | Loss: 0.5180695652961731 | Accuracy: 89.0625%\n"
          ]
        },
        {
          "output_type": "stream",
          "name": "stderr",
          "text": [
            "Epoch 1:  39%|███▉      | 295/751 [00:07<00:10, 42.85batch/s, accuracy=85.9375%, loss=0.598]"
          ]
        },
        {
          "output_type": "stream",
          "name": "stdout",
          "text": [
            " | Epoch 1 | Loss: 0.6020885705947876 | Accuracy: 85.9375%\n",
            " | Epoch 1 | Loss: 0.31869474053382874 | Accuracy: 93.75%\n",
            " | Epoch 1 | Loss: 0.547342836856842 | Accuracy: 87.5%\n",
            " | Epoch 1 | Loss: 0.4411900043487549 | Accuracy: 90.625%\n",
            " | Epoch 1 | Loss: 0.4475359618663788 | Accuracy: 90.625%\n",
            " | Epoch 1 | Loss: 0.537135124206543 | Accuracy: 87.5%\n",
            " | Epoch 1 | Loss: 0.21504008769989014 | Accuracy: 96.875%\n",
            " | Epoch 1 | Loss: 0.6320827007293701 | Accuracy: 84.375%\n",
            " | Epoch 1 | Loss: 0.5975224375724792 | Accuracy: 85.9375%\n"
          ]
        },
        {
          "output_type": "stream",
          "name": "stderr",
          "text": [
            "Epoch 1:  41%|████      | 305/751 [00:08<00:10, 43.63batch/s, accuracy=92.1875%, loss=0.375]"
          ]
        },
        {
          "output_type": "stream",
          "name": "stdout",
          "text": [
            " | Epoch 1 | Loss: 0.3877718150615692 | Accuracy: 90.625%\n",
            " | Epoch 1 | Loss: 0.42905914783477783 | Accuracy: 90.625%\n",
            " | Epoch 1 | Loss: 0.9003322124481201 | Accuracy: 78.125%\n",
            " | Epoch 1 | Loss: 0.2759731411933899 | Accuracy: 95.3125%\n",
            " | Epoch 1 | Loss: 0.5355620980262756 | Accuracy: 87.5%\n",
            " | Epoch 1 | Loss: 0.4997697174549103 | Accuracy: 89.0625%\n",
            " | Epoch 1 | Loss: 0.31386321783065796 | Accuracy: 93.75%\n",
            " | Epoch 1 | Loss: 0.4010969400405884 | Accuracy: 92.1875%\n",
            " | Epoch 1 | Loss: 0.3753851652145386 | Accuracy: 92.1875%\n"
          ]
        },
        {
          "output_type": "stream",
          "name": "stderr",
          "text": [
            "Epoch 1:  42%|████▏     | 315/751 [00:08<00:10, 41.69batch/s, accuracy=90.625%, loss=0.428] "
          ]
        },
        {
          "output_type": "stream",
          "name": "stdout",
          "text": [
            " | Epoch 1 | Loss: 0.5680742859840393 | Accuracy: 87.5%\n",
            " | Epoch 1 | Loss: 0.7235816717147827 | Accuracy: 82.8125%\n",
            " | Epoch 1 | Loss: 0.29280564188957214 | Accuracy: 95.3125%\n",
            " | Epoch 1 | Loss: 0.405108243227005 | Accuracy: 92.1875%\n",
            " | Epoch 1 | Loss: 0.34801018238067627 | Accuracy: 93.75%\n",
            " | Epoch 1 | Loss: 0.2847422957420349 | Accuracy: 95.3125%\n",
            " | Epoch 1 | Loss: 0.405246764421463 | Accuracy: 90.625%\n",
            " | Epoch 1 | Loss: 0.2979009747505188 | Accuracy: 95.3125%\n",
            " | Epoch 1 | Loss: 0.427520215511322 | Accuracy: 90.625%\n"
          ]
        },
        {
          "output_type": "stream",
          "name": "stderr",
          "text": [
            "Epoch 1:  43%|████▎     | 325/751 [00:08<00:09, 43.40batch/s, accuracy=89.0625%, loss=0.51]"
          ]
        },
        {
          "output_type": "stream",
          "name": "stdout",
          "text": [
            " | Epoch 1 | Loss: 0.4571089446544647 | Accuracy: 90.625%\n",
            " | Epoch 1 | Loss: 0.5611071586608887 | Accuracy: 87.5%\n",
            " | Epoch 1 | Loss: 0.3873341679573059 | Accuracy: 92.1875%\n",
            " | Epoch 1 | Loss: 0.45565250515937805 | Accuracy: 90.625%\n",
            " | Epoch 1 | Loss: 0.20096193253993988 | Accuracy: 96.875%\n",
            " | Epoch 1 | Loss: 0.5072949528694153 | Accuracy: 89.0625%\n",
            " | Epoch 1 | Loss: 0.35493049025535583 | Accuracy: 92.1875%\n",
            " | Epoch 1 | Loss: 0.36412176489830017 | Accuracy: 92.1875%\n",
            " | Epoch 1 | Loss: 0.3163599669933319 | Accuracy: 93.75%\n",
            " | Epoch 1 | Loss: 0.5099963545799255 | Accuracy: 89.0625%\n"
          ]
        },
        {
          "output_type": "stream",
          "name": "stderr",
          "text": [
            "Epoch 1:  45%|████▍     | 335/751 [00:08<00:09, 42.53batch/s, accuracy=89.0625%, loss=0.498]"
          ]
        },
        {
          "output_type": "stream",
          "name": "stdout",
          "text": [
            " | Epoch 1 | Loss: 0.22577893733978271 | Accuracy: 96.875%\n",
            " | Epoch 1 | Loss: 0.3599241077899933 | Accuracy: 92.1875%\n",
            " | Epoch 1 | Loss: 0.25193971395492554 | Accuracy: 95.3125%\n",
            " | Epoch 1 | Loss: 0.49811112880706787 | Accuracy: 89.0625%\n",
            " | Epoch 1 | Loss: 0.5591487288475037 | Accuracy: 87.5%\n",
            " | Epoch 1 | Loss: 0.2361638844013214 | Accuracy: 95.3125%\n",
            " | Epoch 1 | Loss: 0.6607003808021545 | Accuracy: 85.9375%\n",
            " | Epoch 1 | Loss: 0.5111978650093079 | Accuracy: 89.0625%\n",
            " | Epoch 1 | Loss: 0.49760687351226807 | Accuracy: 89.0625%\n"
          ]
        },
        {
          "output_type": "stream",
          "name": "stderr",
          "text": [
            "Epoch 1:  45%|████▌     | 340/751 [00:08<00:09, 42.98batch/s, accuracy=92.1875%, loss=0.404]"
          ]
        },
        {
          "output_type": "stream",
          "name": "stdout",
          "text": [
            " | Epoch 1 | Loss: 0.6288056969642639 | Accuracy: 84.375%\n",
            " | Epoch 1 | Loss: 0.4538058340549469 | Accuracy: 90.625%\n",
            " | Epoch 1 | Loss: 0.27093198895454407 | Accuracy: 95.3125%\n",
            " | Epoch 1 | Loss: 0.764022707939148 | Accuracy: 81.25%\n",
            " | Epoch 1 | Loss: 0.4559962749481201 | Accuracy: 90.625%\n",
            " | Epoch 1 | Loss: 0.42001456022262573 | Accuracy: 90.625%\n",
            " | Epoch 1 | Loss: 0.4309293329715729 | Accuracy: 90.625%\n",
            " | Epoch 1 | Loss: 0.6058839559555054 | Accuracy: 85.9375%\n",
            " | Epoch 1 | Loss: 0.43926265835762024 | Accuracy: 90.625%\n"
          ]
        },
        {
          "output_type": "stream",
          "name": "stderr",
          "text": [
            "Epoch 1:  47%|████▋     | 350/751 [00:09<00:09, 42.32batch/s, accuracy=92.1875%, loss=0.387]"
          ]
        },
        {
          "output_type": "stream",
          "name": "stdout",
          "text": [
            " | Epoch 1 | Loss: 0.4041188955307007 | Accuracy: 92.1875%\n",
            " | Epoch 1 | Loss: 0.5551711916923523 | Accuracy: 87.5%\n",
            " | Epoch 1 | Loss: 0.21781152486801147 | Accuracy: 96.875%\n",
            " | Epoch 1 | Loss: 0.49575433135032654 | Accuracy: 89.0625%\n",
            " | Epoch 1 | Loss: 0.49468833208084106 | Accuracy: 89.0625%\n",
            " | Epoch 1 | Loss: 0.4041910171508789 | Accuracy: 90.625%\n",
            " | Epoch 1 | Loss: 0.2683574855327606 | Accuracy: 95.3125%\n",
            " | Epoch 1 | Loss: 0.4913541376590729 | Accuracy: 90.625%\n",
            " | Epoch 1 | Loss: 0.38688474893569946 | Accuracy: 92.1875%\n"
          ]
        },
        {
          "output_type": "stream",
          "name": "stderr",
          "text": [
            "Epoch 1:  48%|████▊     | 360/751 [00:09<00:09, 42.79batch/s, accuracy=84.375%, loss=0.688]"
          ]
        },
        {
          "output_type": "stream",
          "name": "stdout",
          "text": [
            " | Epoch 1 | Loss: 0.46553754806518555 | Accuracy: 89.0625%\n",
            " | Epoch 1 | Loss: 0.3411768972873688 | Accuracy: 93.75%\n",
            " | Epoch 1 | Loss: 0.4836576282978058 | Accuracy: 89.0625%\n",
            " | Epoch 1 | Loss: 0.4890861213207245 | Accuracy: 89.0625%\n",
            " | Epoch 1 | Loss: 0.7968610525131226 | Accuracy: 81.25%\n",
            " | Epoch 1 | Loss: 0.3852083384990692 | Accuracy: 92.1875%\n",
            " | Epoch 1 | Loss: 0.4119894206523895 | Accuracy: 90.625%\n",
            " | Epoch 1 | Loss: 0.3915756344795227 | Accuracy: 92.1875%\n",
            " | Epoch 1 | Loss: 0.44336432218551636 | Accuracy: 90.625%\n",
            " | Epoch 1 | Loss: 0.6882385015487671 | Accuracy: 84.375%\n"
          ]
        },
        {
          "output_type": "stream",
          "name": "stderr",
          "text": [
            "Epoch 1:  49%|████▉     | 370/751 [00:09<00:08, 43.96batch/s, accuracy=92.1875%, loss=0.389]"
          ]
        },
        {
          "output_type": "stream",
          "name": "stdout",
          "text": [
            " | Epoch 1 | Loss: 0.4797210991382599 | Accuracy: 89.0625%\n",
            " | Epoch 1 | Loss: 0.7250591516494751 | Accuracy: 82.8125%\n",
            " | Epoch 1 | Loss: 0.49706944823265076 | Accuracy: 89.0625%\n",
            " | Epoch 1 | Loss: 0.3289020359516144 | Accuracy: 93.75%\n",
            " | Epoch 1 | Loss: 0.6322727203369141 | Accuracy: 84.375%\n",
            " | Epoch 1 | Loss: 0.582965075969696 | Accuracy: 85.9375%\n",
            " | Epoch 1 | Loss: 0.434639573097229 | Accuracy: 90.625%\n",
            " | Epoch 1 | Loss: 0.3202435076236725 | Accuracy: 93.75%\n",
            " | Epoch 1 | Loss: 0.33403173089027405 | Accuracy: 93.75%\n",
            " | Epoch 1 | Loss: 0.3890889883041382 | Accuracy: 92.1875%\n"
          ]
        },
        {
          "output_type": "stream",
          "name": "stderr",
          "text": [
            "Epoch 1:  51%|█████     | 380/751 [00:09<00:08, 43.23batch/s, accuracy=95.3125%, loss=0.281]"
          ]
        },
        {
          "output_type": "stream",
          "name": "stdout",
          "text": [
            " | Epoch 1 | Loss: 0.6478642821311951 | Accuracy: 84.375%\n",
            " | Epoch 1 | Loss: 0.3930032253265381 | Accuracy: 92.1875%\n",
            " | Epoch 1 | Loss: 0.4347314238548279 | Accuracy: 90.625%\n",
            " | Epoch 1 | Loss: 0.40019622445106506 | Accuracy: 92.1875%\n",
            " | Epoch 1 | Loss: 0.6603085398674011 | Accuracy: 84.375%\n",
            " | Epoch 1 | Loss: 0.3715668022632599 | Accuracy: 92.1875%\n",
            " | Epoch 1 | Loss: 0.537909209728241 | Accuracy: 87.5%\n",
            " | Epoch 1 | Loss: 0.32148730754852295 | Accuracy: 93.75%\n",
            " | Epoch 1 | Loss: 0.28122010827064514 | Accuracy: 95.3125%\n"
          ]
        },
        {
          "output_type": "stream",
          "name": "stderr",
          "text": [
            "Epoch 1:  52%|█████▏    | 390/751 [00:09<00:08, 43.92batch/s, accuracy=85.9375%, loss=0.563]"
          ]
        },
        {
          "output_type": "stream",
          "name": "stdout",
          "text": [
            " | Epoch 1 | Loss: 0.5029593706130981 | Accuracy: 89.0625%\n",
            " | Epoch 1 | Loss: 0.5174164175987244 | Accuracy: 87.5%\n",
            " | Epoch 1 | Loss: 0.4121064841747284 | Accuracy: 92.1875%\n",
            " | Epoch 1 | Loss: 0.784970223903656 | Accuracy: 81.25%\n",
            " | Epoch 1 | Loss: 0.32680901885032654 | Accuracy: 93.75%\n",
            " | Epoch 1 | Loss: 0.2670106887817383 | Accuracy: 95.3125%\n",
            " | Epoch 1 | Loss: 0.4900403618812561 | Accuracy: 89.0625%\n",
            " | Epoch 1 | Loss: 0.6272322535514832 | Accuracy: 85.9375%\n",
            " | Epoch 1 | Loss: 0.5632504224777222 | Accuracy: 85.9375%\n"
          ]
        },
        {
          "output_type": "stream",
          "name": "stderr",
          "text": [
            "Epoch 1:  53%|█████▎    | 395/751 [00:10<00:08, 41.78batch/s, accuracy=85.9375%, loss=0.611]"
          ]
        },
        {
          "output_type": "stream",
          "name": "stdout",
          "text": [
            " | Epoch 1 | Loss: 0.5354285836219788 | Accuracy: 87.5%\n",
            " | Epoch 1 | Loss: 0.37894290685653687 | Accuracy: 92.1875%\n",
            " | Epoch 1 | Loss: 0.38914477825164795 | Accuracy: 92.1875%\n",
            " | Epoch 1 | Loss: 0.3286033570766449 | Accuracy: 93.75%\n",
            " | Epoch 1 | Loss: 0.5635361075401306 | Accuracy: 87.5%\n",
            " | Epoch 1 | Loss: 0.42164307832717896 | Accuracy: 90.625%\n",
            " | Epoch 1 | Loss: 0.7867758274078369 | Accuracy: 81.25%\n",
            " | Epoch 1 | Loss: 0.273050993680954 | Accuracy: 95.3125%\n",
            " | Epoch 1 | Loss: 0.6111334562301636 | Accuracy: 85.9375%\n"
          ]
        },
        {
          "output_type": "stream",
          "name": "stderr",
          "text": [
            "Epoch 1:  54%|█████▍    | 405/751 [00:10<00:08, 42.26batch/s, accuracy=87.5%, loss=0.544]"
          ]
        },
        {
          "output_type": "stream",
          "name": "stdout",
          "text": [
            " | Epoch 1 | Loss: 0.6368727684020996 | Accuracy: 85.9375%\n",
            " | Epoch 1 | Loss: 0.5766399502754211 | Accuracy: 85.9375%\n",
            " | Epoch 1 | Loss: 0.4704475998878479 | Accuracy: 89.0625%\n",
            " | Epoch 1 | Loss: 0.44996240735054016 | Accuracy: 90.625%\n",
            " | Epoch 1 | Loss: 0.24878709018230438 | Accuracy: 96.875%\n",
            " | Epoch 1 | Loss: 0.5808714032173157 | Accuracy: 85.9375%\n",
            " | Epoch 1 | Loss: 0.5473413467407227 | Accuracy: 87.5%\n",
            " | Epoch 1 | Loss: 0.6101905107498169 | Accuracy: 85.9375%\n",
            " | Epoch 1 | Loss: 0.5538389682769775 | Accuracy: 87.5%\n"
          ]
        },
        {
          "output_type": "stream",
          "name": "stderr",
          "text": [
            "Epoch 1:  55%|█████▌    | 415/751 [00:10<00:07, 43.17batch/s, accuracy=95.3125%, loss=0.288]"
          ]
        },
        {
          "output_type": "stream",
          "name": "stdout",
          "text": [
            " | Epoch 1 | Loss: 0.5441075563430786 | Accuracy: 87.5%\n",
            " | Epoch 1 | Loss: 0.5353230834007263 | Accuracy: 87.5%\n",
            " | Epoch 1 | Loss: 0.6395313739776611 | Accuracy: 84.375%\n",
            " | Epoch 1 | Loss: 0.5794768929481506 | Accuracy: 85.9375%\n",
            " | Epoch 1 | Loss: 0.5039005279541016 | Accuracy: 89.0625%\n",
            " | Epoch 1 | Loss: 0.6161320805549622 | Accuracy: 84.375%\n",
            " | Epoch 1 | Loss: 0.4449639618396759 | Accuracy: 90.625%\n",
            " | Epoch 1 | Loss: 0.5986097455024719 | Accuracy: 85.9375%\n",
            " | Epoch 1 | Loss: 0.28788110613822937 | Accuracy: 95.3125%\n"
          ]
        },
        {
          "output_type": "stream",
          "name": "stderr",
          "text": [
            "Epoch 1:  57%|█████▋    | 425/751 [00:10<00:07, 41.41batch/s, accuracy=90.625%, loss=0.441]"
          ]
        },
        {
          "output_type": "stream",
          "name": "stdout",
          "text": [
            " | Epoch 1 | Loss: 0.35940420627593994 | Accuracy: 93.75%\n",
            " | Epoch 1 | Loss: 0.35410013794898987 | Accuracy: 93.75%\n",
            " | Epoch 1 | Loss: 0.4943886697292328 | Accuracy: 89.0625%\n",
            " | Epoch 1 | Loss: 0.32840216159820557 | Accuracy: 93.75%\n",
            " | Epoch 1 | Loss: 0.5516961216926575 | Accuracy: 87.5%\n",
            " | Epoch 1 | Loss: 0.3357517719268799 | Accuracy: 93.75%\n",
            " | Epoch 1 | Loss: 0.41252607107162476 | Accuracy: 90.625%\n",
            " | Epoch 1 | Loss: 0.4690397083759308 | Accuracy: 90.625%\n",
            " | Epoch 1 | Loss: 0.4408789277076721 | Accuracy: 90.625%\n"
          ]
        },
        {
          "output_type": "stream",
          "name": "stderr",
          "text": [
            "Epoch 1:  58%|█████▊    | 435/751 [00:11<00:07, 42.42batch/s, accuracy=92.1875%, loss=0.382]"
          ]
        },
        {
          "output_type": "stream",
          "name": "stdout",
          "text": [
            " | Epoch 1 | Loss: 0.3800683617591858 | Accuracy: 92.1875%\n",
            " | Epoch 1 | Loss: 0.6611295938491821 | Accuracy: 84.375%\n",
            " | Epoch 1 | Loss: 0.4944823086261749 | Accuracy: 89.0625%\n",
            " | Epoch 1 | Loss: 0.5997394919395447 | Accuracy: 85.9375%\n",
            " | Epoch 1 | Loss: 0.2765499949455261 | Accuracy: 95.3125%\n",
            " | Epoch 1 | Loss: 0.32831746339797974 | Accuracy: 93.75%\n",
            " | Epoch 1 | Loss: 0.33951181173324585 | Accuracy: 93.75%\n",
            " | Epoch 1 | Loss: 0.39940351247787476 | Accuracy: 92.1875%\n",
            " | Epoch 1 | Loss: 0.3823423981666565 | Accuracy: 92.1875%\n"
          ]
        },
        {
          "output_type": "stream",
          "name": "stderr",
          "text": [
            "Epoch 1:  59%|█████▉    | 445/751 [00:11<00:07, 41.63batch/s, accuracy=92.1875%, loss=0.372]"
          ]
        },
        {
          "output_type": "stream",
          "name": "stdout",
          "text": [
            " | Epoch 1 | Loss: 0.32883766293525696 | Accuracy: 93.75%\n",
            " | Epoch 1 | Loss: 0.6340872049331665 | Accuracy: 84.375%\n",
            " | Epoch 1 | Loss: 0.44909846782684326 | Accuracy: 90.625%\n",
            " | Epoch 1 | Loss: 0.45191818475723267 | Accuracy: 90.625%\n",
            " | Epoch 1 | Loss: 0.37251001596450806 | Accuracy: 92.1875%\n",
            " | Epoch 1 | Loss: 0.32675403356552124 | Accuracy: 93.75%\n",
            " | Epoch 1 | Loss: 0.334592342376709 | Accuracy: 93.75%\n",
            " | Epoch 1 | Loss: 0.4504801332950592 | Accuracy: 90.625%\n",
            " | Epoch 1 | Loss: 0.37196651101112366 | Accuracy: 92.1875%\n"
          ]
        },
        {
          "output_type": "stream",
          "name": "stderr",
          "text": [
            "Epoch 1:  61%|██████    | 455/751 [00:11<00:06, 42.71batch/s, accuracy=90.625%, loss=0.441]"
          ]
        },
        {
          "output_type": "stream",
          "name": "stdout",
          "text": [
            " | Epoch 1 | Loss: 0.5426493883132935 | Accuracy: 87.5%\n",
            " | Epoch 1 | Loss: 0.356714129447937 | Accuracy: 92.1875%\n",
            " | Epoch 1 | Loss: 0.5697851181030273 | Accuracy: 87.5%\n",
            " | Epoch 1 | Loss: 0.40403038263320923 | Accuracy: 90.625%\n",
            " | Epoch 1 | Loss: 0.6253588199615479 | Accuracy: 84.375%\n",
            " | Epoch 1 | Loss: 0.49533215165138245 | Accuracy: 89.0625%\n",
            " | Epoch 1 | Loss: 0.578849196434021 | Accuracy: 87.5%\n",
            " | Epoch 1 | Loss: 0.3560924828052521 | Accuracy: 92.1875%\n",
            " | Epoch 1 | Loss: 0.4370323121547699 | Accuracy: 90.625%\n",
            " | Epoch 1 | Loss: 0.4407045841217041 | Accuracy: 90.625%\n"
          ]
        },
        {
          "output_type": "stream",
          "name": "stderr",
          "text": [
            "Epoch 1:  61%|██████▏   | 460/751 [00:11<00:07, 38.63batch/s, accuracy=90.625%, loss=0.436]"
          ]
        },
        {
          "output_type": "stream",
          "name": "stdout",
          "text": [
            " | Epoch 1 | Loss: 0.39356258511543274 | Accuracy: 90.625%\n",
            " | Epoch 1 | Loss: 0.4919710159301758 | Accuracy: 89.0625%\n",
            " | Epoch 1 | Loss: 0.4313405454158783 | Accuracy: 90.625%\n",
            " | Epoch 1 | Loss: 0.3858976662158966 | Accuracy: 92.1875%\n",
            " | Epoch 1 | Loss: 0.48206111788749695 | Accuracy: 89.0625%\n",
            " | Epoch 1 | Loss: 0.5348153114318848 | Accuracy: 87.5%\n",
            " | Epoch 1 | Loss: 0.4364881217479706 | Accuracy: 90.625%\n"
          ]
        },
        {
          "output_type": "stream",
          "name": "stderr",
          "text": [
            "Epoch 1:  62%|██████▏   | 468/751 [00:11<00:07, 35.45batch/s, accuracy=90.625%, loss=0.434] "
          ]
        },
        {
          "output_type": "stream",
          "name": "stdout",
          "text": [
            " | Epoch 1 | Loss: 0.6338620185852051 | Accuracy: 84.375%\n",
            " | Epoch 1 | Loss: 0.37628495693206787 | Accuracy: 92.1875%\n",
            " | Epoch 1 | Loss: 0.21797029674053192 | Accuracy: 96.875%\n",
            " | Epoch 1 | Loss: 0.43850448727607727 | Accuracy: 90.625%\n",
            " | Epoch 1 | Loss: 0.44152966141700745 | Accuracy: 90.625%\n",
            " | Epoch 1 | Loss: 0.5021161437034607 | Accuracy: 89.0625%\n",
            " | Epoch 1 | Loss: 0.4341869354248047 | Accuracy: 90.625%\n"
          ]
        },
        {
          "output_type": "stream",
          "name": "stderr",
          "text": [
            "Epoch 1:  63%|██████▎   | 472/751 [00:12<00:08, 32.53batch/s, accuracy=98.4375%, loss=0.161]"
          ]
        },
        {
          "output_type": "stream",
          "name": "stdout",
          "text": [
            " | Epoch 1 | Loss: 0.5757933855056763 | Accuracy: 85.9375%\n",
            " | Epoch 1 | Loss: 0.4183971881866455 | Accuracy: 90.625%\n",
            " | Epoch 1 | Loss: 0.6355512142181396 | Accuracy: 84.375%\n",
            " | Epoch 1 | Loss: 0.27376264333724976 | Accuracy: 95.3125%\n",
            " | Epoch 1 | Loss: 0.5752158761024475 | Accuracy: 87.5%\n",
            " | Epoch 1 | Loss: 0.16101042926311493 | Accuracy: 98.4375%\n"
          ]
        },
        {
          "output_type": "stream",
          "name": "stderr",
          "text": [
            "Epoch 1:  64%|██████▍   | 480/751 [00:12<00:08, 30.50batch/s, accuracy=93.75%, loss=0.317]  "
          ]
        },
        {
          "output_type": "stream",
          "name": "stdout",
          "text": [
            " | Epoch 1 | Loss: 0.43559080362319946 | Accuracy: 90.625%\n",
            " | Epoch 1 | Loss: 0.20574113726615906 | Accuracy: 96.875%\n",
            " | Epoch 1 | Loss: 0.5932492613792419 | Accuracy: 85.9375%\n",
            " | Epoch 1 | Loss: 0.3331226706504822 | Accuracy: 93.75%\n",
            " | Epoch 1 | Loss: 0.6171716451644897 | Accuracy: 85.9375%\n",
            " | Epoch 1 | Loss: 0.6920948028564453 | Accuracy: 82.8125%\n",
            " | Epoch 1 | Loss: 0.31659945845603943 | Accuracy: 93.75%\n"
          ]
        },
        {
          "output_type": "stream",
          "name": "stderr",
          "text": [
            "Epoch 1:  65%|██████▍   | 488/751 [00:12<00:08, 29.42batch/s, accuracy=84.375%, loss=0.633]"
          ]
        },
        {
          "output_type": "stream",
          "name": "stdout",
          "text": [
            " | Epoch 1 | Loss: 0.5913524627685547 | Accuracy: 85.9375%\n",
            " | Epoch 1 | Loss: 0.5312856435775757 | Accuracy: 87.5%\n",
            " | Epoch 1 | Loss: 0.4342137277126312 | Accuracy: 90.625%\n",
            " | Epoch 1 | Loss: 0.4362185299396515 | Accuracy: 90.625%\n",
            " | Epoch 1 | Loss: 0.5909513235092163 | Accuracy: 85.9375%\n",
            " | Epoch 1 | Loss: 0.6326145529747009 | Accuracy: 84.375%\n"
          ]
        },
        {
          "output_type": "stream",
          "name": "stderr",
          "text": [
            "Epoch 1:  66%|██████▌   | 494/751 [00:12<00:09, 28.41batch/s, accuracy=87.5%, loss=0.514]"
          ]
        },
        {
          "output_type": "stream",
          "name": "stdout",
          "text": [
            " | Epoch 1 | Loss: 0.42891547083854675 | Accuracy: 90.625%\n",
            " | Epoch 1 | Loss: 0.4765021502971649 | Accuracy: 89.0625%\n",
            " | Epoch 1 | Loss: 0.388938844203949 | Accuracy: 92.1875%\n",
            " | Epoch 1 | Loss: 0.44553133845329285 | Accuracy: 90.625%\n",
            " | Epoch 1 | Loss: 0.4966852068901062 | Accuracy: 89.0625%\n",
            " | Epoch 1 | Loss: 0.513718843460083 | Accuracy: 87.5%\n"
          ]
        },
        {
          "output_type": "stream",
          "name": "stderr",
          "text": [
            "Epoch 1:  67%|██████▋   | 501/751 [00:13<00:08, 29.19batch/s, accuracy=93.75%, loss=0.345]"
          ]
        },
        {
          "output_type": "stream",
          "name": "stdout",
          "text": [
            " | Epoch 1 | Loss: 0.6254482269287109 | Accuracy: 85.9375%\n",
            " | Epoch 1 | Loss: 0.47621893882751465 | Accuracy: 89.0625%\n",
            " | Epoch 1 | Loss: 0.5167367458343506 | Accuracy: 89.0625%\n",
            " | Epoch 1 | Loss: 0.2687147259712219 | Accuracy: 95.3125%\n",
            " | Epoch 1 | Loss: 0.27974945306777954 | Accuracy: 95.3125%\n",
            " | Epoch 1 | Loss: 0.3845321536064148 | Accuracy: 92.1875%\n",
            " | Epoch 1 | Loss: 0.34490540623664856 | Accuracy: 93.75%\n"
          ]
        },
        {
          "output_type": "stream",
          "name": "stderr",
          "text": [
            "Epoch 1:  68%|██████▊   | 508/751 [00:13<00:08, 29.81batch/s, accuracy=95.3125%, loss=0.265]"
          ]
        },
        {
          "output_type": "stream",
          "name": "stdout",
          "text": [
            " | Epoch 1 | Loss: 0.7002691626548767 | Accuracy: 82.8125%\n",
            " | Epoch 1 | Loss: 0.8347893953323364 | Accuracy: 78.125%\n",
            " | Epoch 1 | Loss: 0.27091893553733826 | Accuracy: 95.3125%\n",
            " | Epoch 1 | Loss: 0.4834383726119995 | Accuracy: 89.0625%\n",
            " | Epoch 1 | Loss: 0.32239630818367004 | Accuracy: 93.75%\n",
            " | Epoch 1 | Loss: 0.6091934442520142 | Accuracy: 85.9375%\n",
            " | Epoch 1 | Loss: 0.2651684582233429 | Accuracy: 95.3125%\n"
          ]
        },
        {
          "output_type": "stream",
          "name": "stderr",
          "text": [
            "Epoch 1:  69%|██████▊   | 515/751 [00:13<00:07, 30.30batch/s, accuracy=84.375%, loss=0.655]"
          ]
        },
        {
          "output_type": "stream",
          "name": "stdout",
          "text": [
            " | Epoch 1 | Loss: 0.409201979637146 | Accuracy: 92.1875%\n",
            " | Epoch 1 | Loss: 0.5273761749267578 | Accuracy: 87.5%\n",
            " | Epoch 1 | Loss: 0.42265456914901733 | Accuracy: 90.625%\n",
            " | Epoch 1 | Loss: 0.40770643949508667 | Accuracy: 90.625%\n",
            " | Epoch 1 | Loss: 0.6744809746742249 | Accuracy: 84.375%\n",
            " | Epoch 1 | Loss: 0.2736468017101288 | Accuracy: 95.3125%\n",
            " | Epoch 1 | Loss: 0.6554590463638306 | Accuracy: 84.375%\n"
          ]
        },
        {
          "output_type": "stream",
          "name": "stderr",
          "text": [
            "Epoch 1:  69%|██████▉   | 519/751 [00:13<00:07, 30.72batch/s, accuracy=89.0625%, loss=0.491]"
          ]
        },
        {
          "output_type": "stream",
          "name": "stdout",
          "text": [
            " | Epoch 1 | Loss: 0.38006922602653503 | Accuracy: 92.1875%\n",
            " | Epoch 1 | Loss: 0.5461205840110779 | Accuracy: 87.5%\n",
            " | Epoch 1 | Loss: 0.5190128684043884 | Accuracy: 89.0625%\n",
            " | Epoch 1 | Loss: 0.4292963445186615 | Accuracy: 90.625%\n",
            " | Epoch 1 | Loss: 0.43673914670944214 | Accuracy: 90.625%\n",
            " | Epoch 1 | Loss: 0.33579543232917786 | Accuracy: 93.75%\n",
            " | Epoch 1 | Loss: 0.49054059386253357 | Accuracy: 89.0625%\n"
          ]
        },
        {
          "output_type": "stream",
          "name": "stderr",
          "text": [
            "Epoch 1:  70%|███████   | 527/751 [00:14<00:07, 30.70batch/s, accuracy=85.9375%, loss=0.584]"
          ]
        },
        {
          "output_type": "stream",
          "name": "stdout",
          "text": [
            " | Epoch 1 | Loss: 0.5485354065895081 | Accuracy: 87.5%\n",
            " | Epoch 1 | Loss: 0.33840543031692505 | Accuracy: 93.75%\n",
            " | Epoch 1 | Loss: 0.4434713125228882 | Accuracy: 90.625%\n",
            " | Epoch 1 | Loss: 0.44000011682510376 | Accuracy: 90.625%\n",
            " | Epoch 1 | Loss: 0.5165951251983643 | Accuracy: 87.5%\n",
            " | Epoch 1 | Loss: 0.22077414393424988 | Accuracy: 96.875%\n",
            " | Epoch 1 | Loss: 0.5838600993156433 | Accuracy: 85.9375%\n"
          ]
        },
        {
          "output_type": "stream",
          "name": "stderr",
          "text": [
            "Epoch 1:  71%|███████   | 535/751 [00:14<00:06, 31.34batch/s, accuracy=95.3125%, loss=0.286]"
          ]
        },
        {
          "output_type": "stream",
          "name": "stdout",
          "text": [
            " | Epoch 1 | Loss: 0.3301286995410919 | Accuracy: 93.75%\n",
            " | Epoch 1 | Loss: 0.4445039629936218 | Accuracy: 90.625%\n",
            " | Epoch 1 | Loss: 0.5443591475486755 | Accuracy: 87.5%\n",
            " | Epoch 1 | Loss: 0.25184306502342224 | Accuracy: 95.3125%\n",
            " | Epoch 1 | Loss: 0.6123923659324646 | Accuracy: 85.9375%\n",
            " | Epoch 1 | Loss: 0.47978323698043823 | Accuracy: 89.0625%\n",
            " | Epoch 1 | Loss: 0.2857030928134918 | Accuracy: 95.3125%\n"
          ]
        },
        {
          "output_type": "stream",
          "name": "stderr",
          "text": [
            "Epoch 1:  72%|███████▏  | 543/751 [00:14<00:06, 31.30batch/s, accuracy=90.625%, loss=0.438]"
          ]
        },
        {
          "output_type": "stream",
          "name": "stdout",
          "text": [
            " | Epoch 1 | Loss: 0.5540521144866943 | Accuracy: 87.5%\n",
            " | Epoch 1 | Loss: 0.5425284504890442 | Accuracy: 87.5%\n",
            " | Epoch 1 | Loss: 0.3928771913051605 | Accuracy: 92.1875%\n",
            " | Epoch 1 | Loss: 0.4332236647605896 | Accuracy: 90.625%\n",
            " | Epoch 1 | Loss: 0.4629751443862915 | Accuracy: 89.0625%\n",
            " | Epoch 1 | Loss: 0.5907052755355835 | Accuracy: 85.9375%\n",
            " | Epoch 1 | Loss: 0.4376944601535797 | Accuracy: 90.625%\n"
          ]
        },
        {
          "output_type": "stream",
          "name": "stderr",
          "text": [
            "Epoch 1:  73%|███████▎  | 547/751 [00:14<00:06, 31.15batch/s, accuracy=92.1875%, loss=0.381]"
          ]
        },
        {
          "output_type": "stream",
          "name": "stdout",
          "text": [
            " | Epoch 1 | Loss: 0.3569883406162262 | Accuracy: 92.1875%\n",
            " | Epoch 1 | Loss: 0.6165508031845093 | Accuracy: 85.9375%\n",
            " | Epoch 1 | Loss: 0.7068567276000977 | Accuracy: 82.8125%\n",
            " | Epoch 1 | Loss: 0.3740236759185791 | Accuracy: 92.1875%\n",
            " | Epoch 1 | Loss: 0.4663466811180115 | Accuracy: 89.0625%\n",
            " | Epoch 1 | Loss: 0.3811582326889038 | Accuracy: 92.1875%\n"
          ]
        },
        {
          "output_type": "stream",
          "name": "stderr",
          "text": [
            "Epoch 1:  74%|███████▍  | 554/751 [00:14<00:06, 29.70batch/s, accuracy=85.9375%, loss=0.596]"
          ]
        },
        {
          "output_type": "stream",
          "name": "stdout",
          "text": [
            " | Epoch 1 | Loss: 0.3742329776287079 | Accuracy: 92.1875%\n",
            " | Epoch 1 | Loss: 0.20577582716941833 | Accuracy: 96.875%\n",
            " | Epoch 1 | Loss: 0.5509076118469238 | Accuracy: 87.5%\n",
            " | Epoch 1 | Loss: 0.3913852572441101 | Accuracy: 92.1875%\n",
            " | Epoch 1 | Loss: 0.26462098956108093 | Accuracy: 95.3125%\n",
            " | Epoch 1 | Loss: 0.6098230481147766 | Accuracy: 85.9375%\n",
            " | Epoch 1 | Loss: 0.5962816476821899 | Accuracy: 85.9375%\n"
          ]
        },
        {
          "output_type": "stream",
          "name": "stderr",
          "text": [
            "Epoch 1:  75%|███████▍  | 561/751 [00:15<00:06, 29.11batch/s, accuracy=93.75%, loss=0.322] "
          ]
        },
        {
          "output_type": "stream",
          "name": "stdout",
          "text": [
            " | Epoch 1 | Loss: 0.6475376486778259 | Accuracy: 84.375%\n",
            " | Epoch 1 | Loss: 0.5170350670814514 | Accuracy: 89.0625%\n",
            " | Epoch 1 | Loss: 0.38477858901023865 | Accuracy: 92.1875%\n",
            " | Epoch 1 | Loss: 0.49465376138687134 | Accuracy: 89.0625%\n",
            " | Epoch 1 | Loss: 0.21839594841003418 | Accuracy: 96.875%\n",
            " | Epoch 1 | Loss: 0.32183536887168884 | Accuracy: 93.75%\n"
          ]
        },
        {
          "output_type": "stream",
          "name": "stderr",
          "text": [
            "Epoch 1:  76%|███████▌  | 570/751 [00:15<00:05, 35.18batch/s, accuracy=85.9375%, loss=0.632]"
          ]
        },
        {
          "output_type": "stream",
          "name": "stdout",
          "text": [
            " | Epoch 1 | Loss: 0.4309764802455902 | Accuracy: 90.625%\n",
            " | Epoch 1 | Loss: 0.36724933981895447 | Accuracy: 92.1875%\n",
            " | Epoch 1 | Loss: 0.33323195576667786 | Accuracy: 93.75%\n",
            " | Epoch 1 | Loss: 0.27094346284866333 | Accuracy: 95.3125%\n",
            " | Epoch 1 | Loss: 0.38385775685310364 | Accuracy: 92.1875%\n",
            " | Epoch 1 | Loss: 0.5912850499153137 | Accuracy: 85.9375%\n",
            " | Epoch 1 | Loss: 0.5050982236862183 | Accuracy: 89.0625%\n",
            " | Epoch 1 | Loss: 0.3805510103702545 | Accuracy: 92.1875%\n",
            " | Epoch 1 | Loss: 0.631902813911438 | Accuracy: 85.9375%\n"
          ]
        },
        {
          "output_type": "stream",
          "name": "stderr",
          "text": [
            "Epoch 1:  77%|███████▋  | 580/751 [00:15<00:04, 39.55batch/s, accuracy=85.9375%, loss=0.62]"
          ]
        },
        {
          "output_type": "stream",
          "name": "stdout",
          "text": [
            " | Epoch 1 | Loss: 0.2610081434249878 | Accuracy: 95.3125%\n",
            " | Epoch 1 | Loss: 0.33342623710632324 | Accuracy: 92.1875%\n",
            " | Epoch 1 | Loss: 0.4883655309677124 | Accuracy: 89.0625%\n",
            " | Epoch 1 | Loss: 0.2549426853656769 | Accuracy: 95.3125%\n",
            " | Epoch 1 | Loss: 0.37454304099082947 | Accuracy: 92.1875%\n",
            " | Epoch 1 | Loss: 0.3888064920902252 | Accuracy: 92.1875%\n",
            " | Epoch 1 | Loss: 0.4264380931854248 | Accuracy: 90.625%\n",
            " | Epoch 1 | Loss: 0.6750274300575256 | Accuracy: 82.8125%\n",
            " | Epoch 1 | Loss: 0.6202966570854187 | Accuracy: 85.9375%\n"
          ]
        },
        {
          "output_type": "stream",
          "name": "stderr",
          "text": [
            "Epoch 1:  78%|███████▊  | 585/751 [00:15<00:04, 40.31batch/s, accuracy=87.5%, loss=0.558]   "
          ]
        },
        {
          "output_type": "stream",
          "name": "stdout",
          "text": [
            " | Epoch 1 | Loss: 0.57905513048172 | Accuracy: 85.9375%\n",
            " | Epoch 1 | Loss: 0.39520907402038574 | Accuracy: 92.1875%\n",
            " | Epoch 1 | Loss: 0.5529447793960571 | Accuracy: 87.5%\n",
            " | Epoch 1 | Loss: 0.5213881731033325 | Accuracy: 89.0625%\n",
            " | Epoch 1 | Loss: 0.6194075345993042 | Accuracy: 85.9375%\n",
            " | Epoch 1 | Loss: 0.3761530816555023 | Accuracy: 92.1875%\n",
            " | Epoch 1 | Loss: 0.5418914556503296 | Accuracy: 87.5%\n",
            " | Epoch 1 | Loss: 0.35169535875320435 | Accuracy: 92.1875%\n",
            " | Epoch 1 | Loss: 0.5576081871986389 | Accuracy: 87.5%\n"
          ]
        },
        {
          "output_type": "stream",
          "name": "stderr",
          "text": [
            "Epoch 1:  79%|███████▉  | 595/751 [00:15<00:03, 41.93batch/s, accuracy=87.5%, loss=0.505]   "
          ]
        },
        {
          "output_type": "stream",
          "name": "stdout",
          "text": [
            " | Epoch 1 | Loss: 0.26507332921028137 | Accuracy: 95.3125%\n",
            " | Epoch 1 | Loss: 0.36508506536483765 | Accuracy: 92.1875%\n",
            " | Epoch 1 | Loss: 0.3698440194129944 | Accuracy: 92.1875%\n",
            " | Epoch 1 | Loss: 0.4925810992717743 | Accuracy: 89.0625%\n",
            " | Epoch 1 | Loss: 0.31705111265182495 | Accuracy: 93.75%\n",
            " | Epoch 1 | Loss: 0.42712581157684326 | Accuracy: 90.625%\n",
            " | Epoch 1 | Loss: 0.5063414573669434 | Accuracy: 89.0625%\n",
            " | Epoch 1 | Loss: 0.36099064350128174 | Accuracy: 92.1875%\n",
            " | Epoch 1 | Loss: 0.5053960680961609 | Accuracy: 87.5%\n"
          ]
        },
        {
          "output_type": "stream",
          "name": "stderr",
          "text": [
            "Epoch 1:  81%|████████  | 605/751 [00:16<00:03, 39.22batch/s, accuracy=85.9375%, loss=0.6]"
          ]
        },
        {
          "output_type": "stream",
          "name": "stdout",
          "text": [
            " | Epoch 1 | Loss: 0.48842567205429077 | Accuracy: 89.0625%\n",
            " | Epoch 1 | Loss: 0.36801689863204956 | Accuracy: 92.1875%\n",
            " | Epoch 1 | Loss: 0.566276490688324 | Accuracy: 87.5%\n",
            " | Epoch 1 | Loss: 0.41924992203712463 | Accuracy: 90.625%\n",
            " | Epoch 1 | Loss: 0.5170232057571411 | Accuracy: 89.0625%\n",
            " | Epoch 1 | Loss: 0.4010281562805176 | Accuracy: 92.1875%\n",
            " | Epoch 1 | Loss: 0.5376943945884705 | Accuracy: 87.5%\n",
            " | Epoch 1 | Loss: 0.5998555421829224 | Accuracy: 85.9375%\n"
          ]
        },
        {
          "output_type": "stream",
          "name": "stderr",
          "text": [
            "Epoch 1:  82%|████████▏ | 615/751 [00:16<00:03, 41.16batch/s, accuracy=89.0625%, loss=0.477]"
          ]
        },
        {
          "output_type": "stream",
          "name": "stdout",
          "text": [
            " | Epoch 1 | Loss: 0.5378397107124329 | Accuracy: 87.5%\n",
            " | Epoch 1 | Loss: 0.44827544689178467 | Accuracy: 90.625%\n",
            " | Epoch 1 | Loss: 0.26003947854042053 | Accuracy: 95.3125%\n",
            " | Epoch 1 | Loss: 0.483790785074234 | Accuracy: 89.0625%\n",
            " | Epoch 1 | Loss: 0.3122594952583313 | Accuracy: 93.75%\n",
            " | Epoch 1 | Loss: 0.578620970249176 | Accuracy: 85.9375%\n",
            " | Epoch 1 | Loss: 0.3873103857040405 | Accuracy: 92.1875%\n",
            " | Epoch 1 | Loss: 0.48406916856765747 | Accuracy: 89.0625%\n",
            " | Epoch 1 | Loss: 0.476523756980896 | Accuracy: 89.0625%\n"
          ]
        },
        {
          "output_type": "stream",
          "name": "stderr",
          "text": [
            "Epoch 1:  83%|████████▎ | 625/751 [00:16<00:02, 42.47batch/s, accuracy=85.9375%, loss=0.576]"
          ]
        },
        {
          "output_type": "stream",
          "name": "stdout",
          "text": [
            " | Epoch 1 | Loss: 0.4351915717124939 | Accuracy: 90.625%\n",
            " | Epoch 1 | Loss: 0.4430055320262909 | Accuracy: 90.625%\n",
            " | Epoch 1 | Loss: 0.6225678324699402 | Accuracy: 85.9375%\n",
            " | Epoch 1 | Loss: 0.4319998323917389 | Accuracy: 90.625%\n",
            " | Epoch 1 | Loss: 0.42221522331237793 | Accuracy: 90.625%\n",
            " | Epoch 1 | Loss: 0.48210108280181885 | Accuracy: 89.0625%\n",
            " | Epoch 1 | Loss: 0.38863763213157654 | Accuracy: 92.1875%\n",
            " | Epoch 1 | Loss: 0.6873993277549744 | Accuracy: 82.8125%\n",
            " | Epoch 1 | Loss: 0.3115071654319763 | Accuracy: 93.75%\n",
            " | Epoch 1 | Loss: 0.5762604475021362 | Accuracy: 85.9375%\n"
          ]
        },
        {
          "output_type": "stream",
          "name": "stderr",
          "text": [
            "Epoch 1:  84%|████████▍ | 630/751 [00:16<00:02, 41.85batch/s, accuracy=89.0625%, loss=0.511]"
          ]
        },
        {
          "output_type": "stream",
          "name": "stdout",
          "text": [
            " | Epoch 1 | Loss: 0.5651313662528992 | Accuracy: 87.5%\n",
            " | Epoch 1 | Loss: 0.48012885451316833 | Accuracy: 89.0625%\n",
            " | Epoch 1 | Loss: 0.2793905436992645 | Accuracy: 95.3125%\n",
            " | Epoch 1 | Loss: 0.4501071870326996 | Accuracy: 90.625%\n",
            " | Epoch 1 | Loss: 0.29894882440567017 | Accuracy: 93.75%\n",
            " | Epoch 1 | Loss: 0.4860895276069641 | Accuracy: 89.0625%\n",
            " | Epoch 1 | Loss: 0.557249128818512 | Accuracy: 87.5%\n",
            " | Epoch 1 | Loss: 0.4916088283061981 | Accuracy: 89.0625%\n",
            " | Epoch 1 | Loss: 0.5105645060539246 | Accuracy: 89.0625%\n"
          ]
        },
        {
          "output_type": "stream",
          "name": "stderr",
          "text": [
            "Epoch 1:  85%|████████▌ | 640/751 [00:17<00:02, 42.80batch/s, accuracy=93.75%, loss=0.301]"
          ]
        },
        {
          "output_type": "stream",
          "name": "stdout",
          "text": [
            " | Epoch 1 | Loss: 0.31516504287719727 | Accuracy: 93.75%\n",
            " | Epoch 1 | Loss: 0.5944717526435852 | Accuracy: 85.9375%\n",
            " | Epoch 1 | Loss: 0.3646072745323181 | Accuracy: 92.1875%\n",
            " | Epoch 1 | Loss: 0.5330319404602051 | Accuracy: 87.5%\n",
            " | Epoch 1 | Loss: 0.698915958404541 | Accuracy: 82.8125%\n",
            " | Epoch 1 | Loss: 0.34411367774009705 | Accuracy: 93.75%\n",
            " | Epoch 1 | Loss: 0.5483572483062744 | Accuracy: 87.5%\n",
            " | Epoch 1 | Loss: 0.5269292593002319 | Accuracy: 87.5%\n",
            " | Epoch 1 | Loss: 0.3008524477481842 | Accuracy: 93.75%\n"
          ]
        },
        {
          "output_type": "stream",
          "name": "stderr",
          "text": [
            "Epoch 1:  87%|████████▋ | 650/751 [00:17<00:02, 38.43batch/s, accuracy=90.625%, loss=0.424] "
          ]
        },
        {
          "output_type": "stream",
          "name": "stdout",
          "text": [
            " | Epoch 1 | Loss: 0.5372369885444641 | Accuracy: 87.5%\n",
            " | Epoch 1 | Loss: 0.4876633584499359 | Accuracy: 89.0625%\n",
            " | Epoch 1 | Loss: 0.35232317447662354 | Accuracy: 92.1875%\n",
            " | Epoch 1 | Loss: 0.6163939237594604 | Accuracy: 85.9375%\n",
            " | Epoch 1 | Loss: 0.5139650702476501 | Accuracy: 87.5%\n",
            " | Epoch 1 | Loss: 0.5433145761489868 | Accuracy: 87.5%\n",
            " | Epoch 1 | Loss: 0.38573405146598816 | Accuracy: 92.1875%\n"
          ]
        },
        {
          "output_type": "stream",
          "name": "stderr",
          "text": [
            "Epoch 1:  88%|████████▊ | 659/751 [00:17<00:02, 39.56batch/s, accuracy=95.3125%, loss=0.273]"
          ]
        },
        {
          "output_type": "stream",
          "name": "stdout",
          "text": [
            " | Epoch 1 | Loss: 0.42388951778411865 | Accuracy: 90.625%\n",
            " | Epoch 1 | Loss: 0.8111075162887573 | Accuracy: 79.6875%\n",
            " | Epoch 1 | Loss: 0.36294999718666077 | Accuracy: 92.1875%\n",
            " | Epoch 1 | Loss: 0.4535178542137146 | Accuracy: 90.625%\n",
            " | Epoch 1 | Loss: 0.3567160367965698 | Accuracy: 93.75%\n",
            " | Epoch 1 | Loss: 0.3169482350349426 | Accuracy: 93.75%\n",
            " | Epoch 1 | Loss: 0.6166767477989197 | Accuracy: 84.375%\n",
            " | Epoch 1 | Loss: 0.27075108885765076 | Accuracy: 95.3125%\n",
            " | Epoch 1 | Loss: 0.273188978433609 | Accuracy: 95.3125%\n"
          ]
        },
        {
          "output_type": "stream",
          "name": "stderr",
          "text": [
            "Epoch 1:  89%|████████▉ | 667/751 [00:17<00:02, 38.76batch/s, accuracy=92.1875%, loss=0.384]"
          ]
        },
        {
          "output_type": "stream",
          "name": "stdout",
          "text": [
            " | Epoch 1 | Loss: 0.5737760663032532 | Accuracy: 85.9375%\n",
            " | Epoch 1 | Loss: 0.3910452723503113 | Accuracy: 92.1875%\n",
            " | Epoch 1 | Loss: 0.49827155470848083 | Accuracy: 89.0625%\n",
            " | Epoch 1 | Loss: 0.6394458413124084 | Accuracy: 84.375%\n",
            " | Epoch 1 | Loss: 0.5268998742103577 | Accuracy: 87.5%\n",
            " | Epoch 1 | Loss: 0.42066848278045654 | Accuracy: 90.625%\n",
            " | Epoch 1 | Loss: 0.43165862560272217 | Accuracy: 90.625%\n",
            " | Epoch 1 | Loss: 0.38389572501182556 | Accuracy: 92.1875%\n"
          ]
        },
        {
          "output_type": "stream",
          "name": "stderr",
          "text": [
            "Epoch 1:  89%|████████▉ | 672/751 [00:17<00:01, 39.60batch/s, accuracy=84.375%, loss=0.642] "
          ]
        },
        {
          "output_type": "stream",
          "name": "stdout",
          "text": [
            " | Epoch 1 | Loss: 0.7482782602310181 | Accuracy: 81.25%\n",
            " | Epoch 1 | Loss: 0.42234382033348083 | Accuracy: 90.625%\n",
            " | Epoch 1 | Loss: 0.7479363679885864 | Accuracy: 81.25%\n",
            " | Epoch 1 | Loss: 0.5387678742408752 | Accuracy: 87.5%\n",
            " | Epoch 1 | Loss: 0.4647377133369446 | Accuracy: 89.0625%\n",
            " | Epoch 1 | Loss: 0.5405663251876831 | Accuracy: 87.5%\n",
            " | Epoch 1 | Loss: 0.4306022822856903 | Accuracy: 90.625%\n",
            " | Epoch 1 | Loss: 0.2823127508163452 | Accuracy: 95.3125%\n",
            " | Epoch 1 | Loss: 0.6421830058097839 | Accuracy: 84.375%\n"
          ]
        },
        {
          "output_type": "stream",
          "name": "stderr",
          "text": [
            "Epoch 1:  91%|█████████ | 682/751 [00:18<00:01, 40.90batch/s, accuracy=90.625%, loss=0.435]"
          ]
        },
        {
          "output_type": "stream",
          "name": "stdout",
          "text": [
            " | Epoch 1 | Loss: 0.40874528884887695 | Accuracy: 90.625%\n",
            " | Epoch 1 | Loss: 0.4306486248970032 | Accuracy: 89.0625%\n",
            " | Epoch 1 | Loss: 0.2793462872505188 | Accuracy: 95.3125%\n",
            " | Epoch 1 | Loss: 0.4081798195838928 | Accuracy: 90.625%\n",
            " | Epoch 1 | Loss: 0.3165072202682495 | Accuracy: 95.3125%\n",
            " | Epoch 1 | Loss: 0.2618217468261719 | Accuracy: 95.3125%\n",
            " | Epoch 1 | Loss: 0.41285932064056396 | Accuracy: 90.625%\n",
            " | Epoch 1 | Loss: 0.4351525604724884 | Accuracy: 90.625%\n"
          ]
        },
        {
          "output_type": "stream",
          "name": "stderr",
          "text": [
            "Epoch 1:  92%|█████████▏| 692/751 [00:18<00:01, 40.35batch/s, accuracy=87.5%, loss=0.537]  "
          ]
        },
        {
          "output_type": "stream",
          "name": "stdout",
          "text": [
            " | Epoch 1 | Loss: 0.5773580074310303 | Accuracy: 85.9375%\n",
            " | Epoch 1 | Loss: 0.3698936104774475 | Accuracy: 92.1875%\n",
            " | Epoch 1 | Loss: 0.6884360313415527 | Accuracy: 82.8125%\n",
            " | Epoch 1 | Loss: 0.6173520684242249 | Accuracy: 85.9375%\n",
            " | Epoch 1 | Loss: 0.4192797839641571 | Accuracy: 92.1875%\n",
            " | Epoch 1 | Loss: 0.30766624212265015 | Accuracy: 93.75%\n",
            " | Epoch 1 | Loss: 0.5921730995178223 | Accuracy: 85.9375%\n",
            " | Epoch 1 | Loss: 0.46020084619522095 | Accuracy: 89.0625%\n",
            " | Epoch 1 | Loss: 0.5373218655586243 | Accuracy: 87.5%\n"
          ]
        },
        {
          "output_type": "stream",
          "name": "stderr",
          "text": [
            "Epoch 1:  93%|█████████▎| 702/751 [00:18<00:01, 41.89batch/s, accuracy=84.375%, loss=0.658]"
          ]
        },
        {
          "output_type": "stream",
          "name": "stdout",
          "text": [
            " | Epoch 1 | Loss: 0.33932623267173767 | Accuracy: 93.75%\n",
            " | Epoch 1 | Loss: 0.3752018213272095 | Accuracy: 92.1875%\n",
            " | Epoch 1 | Loss: 0.32947471737861633 | Accuracy: 93.75%\n",
            " | Epoch 1 | Loss: 0.5194520354270935 | Accuracy: 87.5%\n",
            " | Epoch 1 | Loss: 0.4631913900375366 | Accuracy: 89.0625%\n",
            " | Epoch 1 | Loss: 0.5514296293258667 | Accuracy: 87.5%\n",
            " | Epoch 1 | Loss: 0.38547396659851074 | Accuracy: 92.1875%\n",
            " | Epoch 1 | Loss: 0.3184874951839447 | Accuracy: 93.75%\n",
            " | Epoch 1 | Loss: 0.6580259799957275 | Accuracy: 84.375%\n"
          ]
        },
        {
          "output_type": "stream",
          "name": "stderr",
          "text": [
            "Epoch 1:  94%|█████████▍| 707/751 [00:18<00:01, 42.05batch/s, accuracy=89.0625%, loss=0.483]"
          ]
        },
        {
          "output_type": "stream",
          "name": "stdout",
          "text": [
            " | Epoch 1 | Loss: 0.3752215504646301 | Accuracy: 92.1875%\n",
            " | Epoch 1 | Loss: 0.6307075023651123 | Accuracy: 84.375%\n",
            " | Epoch 1 | Loss: 0.3677431046962738 | Accuracy: 92.1875%\n",
            " | Epoch 1 | Loss: 0.26895320415496826 | Accuracy: 95.3125%\n",
            " | Epoch 1 | Loss: 0.4398878514766693 | Accuracy: 90.625%\n",
            " | Epoch 1 | Loss: 0.6646291613578796 | Accuracy: 84.375%\n",
            " | Epoch 1 | Loss: 0.3942233622074127 | Accuracy: 92.1875%\n",
            " | Epoch 1 | Loss: 0.2503040134906769 | Accuracy: 95.3125%\n",
            " | Epoch 1 | Loss: 0.483127236366272 | Accuracy: 89.0625%\n"
          ]
        },
        {
          "output_type": "stream",
          "name": "stderr",
          "text": [
            "Epoch 1:  95%|█████████▌| 717/751 [00:18<00:00, 42.39batch/s, accuracy=92.1875%, loss=0.388]"
          ]
        },
        {
          "output_type": "stream",
          "name": "stdout",
          "text": [
            " | Epoch 1 | Loss: 0.36648961901664734 | Accuracy: 92.1875%\n",
            " | Epoch 1 | Loss: 0.3674427270889282 | Accuracy: 92.1875%\n",
            " | Epoch 1 | Loss: 0.6418961882591248 | Accuracy: 84.375%\n",
            " | Epoch 1 | Loss: 0.5341035723686218 | Accuracy: 87.5%\n",
            " | Epoch 1 | Loss: 0.4814709722995758 | Accuracy: 89.0625%\n",
            " | Epoch 1 | Loss: 0.31524088978767395 | Accuracy: 93.75%\n",
            " | Epoch 1 | Loss: 0.404731422662735 | Accuracy: 90.625%\n",
            " | Epoch 1 | Loss: 0.6313746571540833 | Accuracy: 84.375%\n",
            " | Epoch 1 | Loss: 0.3881411552429199 | Accuracy: 92.1875%\n"
          ]
        },
        {
          "output_type": "stream",
          "name": "stderr",
          "text": [
            "Epoch 1:  97%|█████████▋| 727/751 [00:19<00:00, 41.09batch/s, accuracy=89.0625%, loss=0.485]"
          ]
        },
        {
          "output_type": "stream",
          "name": "stdout",
          "text": [
            " | Epoch 1 | Loss: 0.36530932784080505 | Accuracy: 92.1875%\n",
            " | Epoch 1 | Loss: 0.5432744026184082 | Accuracy: 87.5%\n",
            " | Epoch 1 | Loss: 0.5353161096572876 | Accuracy: 87.5%\n",
            " | Epoch 1 | Loss: 0.7472419142723083 | Accuracy: 79.6875%\n",
            " | Epoch 1 | Loss: 0.374403715133667 | Accuracy: 92.1875%\n",
            " | Epoch 1 | Loss: 0.6413330435752869 | Accuracy: 85.9375%\n",
            " | Epoch 1 | Loss: 0.48422467708587646 | Accuracy: 89.0625%\n",
            " | Epoch 1 | Loss: 0.48501577973365784 | Accuracy: 89.0625%\n"
          ]
        },
        {
          "output_type": "stream",
          "name": "stderr",
          "text": [
            "Epoch 1:  98%|█████████▊| 737/751 [00:19<00:00, 41.33batch/s, accuracy=84.375%, loss=0.642]"
          ]
        },
        {
          "output_type": "stream",
          "name": "stdout",
          "text": [
            " | Epoch 1 | Loss: 0.3687722682952881 | Accuracy: 92.1875%\n",
            " | Epoch 1 | Loss: 0.27053847908973694 | Accuracy: 95.3125%\n",
            " | Epoch 1 | Loss: 0.5715342164039612 | Accuracy: 87.5%\n",
            " | Epoch 1 | Loss: 0.26500076055526733 | Accuracy: 95.3125%\n",
            " | Epoch 1 | Loss: 0.3800678849220276 | Accuracy: 92.1875%\n",
            " | Epoch 1 | Loss: 0.5570129156112671 | Accuracy: 87.5%\n",
            " | Epoch 1 | Loss: 0.588295578956604 | Accuracy: 85.9375%\n",
            " | Epoch 1 | Loss: 0.6995232701301575 | Accuracy: 82.8125%\n",
            " | Epoch 1 | Loss: 0.6423077583312988 | Accuracy: 84.375%\n"
          ]
        },
        {
          "output_type": "stream",
          "name": "stderr",
          "text": [
            "Epoch 1:  99%|█████████▉| 747/751 [00:19<00:00, 42.91batch/s, accuracy=92.1875%, loss=0.357]"
          ]
        },
        {
          "output_type": "stream",
          "name": "stdout",
          "text": [
            " | Epoch 1 | Loss: 0.611571192741394 | Accuracy: 85.9375%\n",
            " | Epoch 1 | Loss: 0.3768048882484436 | Accuracy: 92.1875%\n",
            " | Epoch 1 | Loss: 0.32959070801734924 | Accuracy: 93.75%\n",
            " | Epoch 1 | Loss: 0.474111944437027 | Accuracy: 89.0625%\n",
            " | Epoch 1 | Loss: 0.2778753340244293 | Accuracy: 95.3125%\n",
            " | Epoch 1 | Loss: 0.5926662087440491 | Accuracy: 85.9375%\n",
            " | Epoch 1 | Loss: 0.4962042570114136 | Accuracy: 89.0625%\n",
            " | Epoch 1 | Loss: 0.27330970764160156 | Accuracy: 95.3125%\n",
            " | Epoch 1 | Loss: 0.277408242225647 | Accuracy: 95.3125%\n",
            " | Epoch 1 | Loss: 0.35667112469673157 | Accuracy: 92.1875%\n"
          ]
        },
        {
          "output_type": "stream",
          "name": "stderr",
          "text": [
            "Epoch 1:  99%|█████████▉| 747/751 [00:19<00:00, 42.91batch/s, accuracy=100.0%, loss=0.0982]"
          ]
        },
        {
          "output_type": "stream",
          "name": "stdout",
          "text": [
            " | Epoch 1 | Loss: 0.5328569412231445 | Accuracy: 87.5%\n",
            " | Epoch 1 | Loss: 0.3122735321521759 | Accuracy: 93.75%\n",
            " | Epoch 1 | Loss: 0.3108746409416199 | Accuracy: 93.75%\n",
            " | Epoch 1 | Loss: 0.09820035845041275 | Accuracy: 100.0%\n"
          ]
        },
        {
          "output_type": "stream",
          "name": "stderr",
          "text": [
            "\rEpoch 1: 100%|██████████| 751/751 [00:19<00:00, 37.88batch/s, accuracy=100.0%, loss=0.0982]\n"
          ]
        }
      ]
    },
    {
      "cell_type": "code",
      "source": [
        "evaluator = Evaluator(\n",
        "    testset=test_dataset,\n",
        "    group_partition=test_dataset.group_partition,\n",
        "    group_weights=train_dataset.group_weights,\n",
        "    batch_size=64,\n",
        "    model=model,\n",
        "    device=device,\n",
        "    verbose=True\n",
        ")\n",
        "\n",
        "evaluator.evaluate()"
      ],
      "metadata": {
        "colab": {
          "base_uri": "https://localhost:8080/"
        },
        "id": "V662KeJTmqLX",
        "outputId": "13977096-7adc-4a9d-fd4c-97921a9507c4"
      },
      "execution_count": 5,
      "outputs": [
        {
          "output_type": "stream",
          "name": "stderr",
          "text": [
            "Evaluating group-wise accuracy:   4%|▍         | 1/25 [00:00<00:09,  2.47it/s]"
          ]
        },
        {
          "output_type": "stream",
          "name": "stdout",
          "text": [
            "Group (0, 0) Accuracy: 100.0\n"
          ]
        },
        {
          "output_type": "stream",
          "name": "stderr",
          "text": [
            "\rEvaluating group-wise accuracy:   8%|▊         | 2/25 [00:00<00:09,  2.44it/s]"
          ]
        },
        {
          "output_type": "stream",
          "name": "stdout",
          "text": [
            "Group (0, 1) Accuracy: 0.0\n"
          ]
        },
        {
          "output_type": "stream",
          "name": "stderr",
          "text": [
            "\rEvaluating group-wise accuracy:  12%|█▏        | 3/25 [00:01<00:08,  2.46it/s]"
          ]
        },
        {
          "output_type": "stream",
          "name": "stdout",
          "text": [
            "Group (0, 2) Accuracy: 0.0\n"
          ]
        },
        {
          "output_type": "stream",
          "name": "stderr",
          "text": [
            "\rEvaluating group-wise accuracy:  16%|█▌        | 4/25 [00:01<00:08,  2.42it/s]"
          ]
        },
        {
          "output_type": "stream",
          "name": "stdout",
          "text": [
            "Group (0, 3) Accuracy: 0.0\n"
          ]
        },
        {
          "output_type": "stream",
          "name": "stderr",
          "text": [
            "\rEvaluating group-wise accuracy:  20%|██        | 5/25 [00:02<00:08,  2.42it/s]"
          ]
        },
        {
          "output_type": "stream",
          "name": "stdout",
          "text": [
            "Group (0, 4) Accuracy: 0.0\n"
          ]
        },
        {
          "output_type": "stream",
          "name": "stderr",
          "text": [
            "\rEvaluating group-wise accuracy:  24%|██▍       | 6/25 [00:02<00:07,  2.44it/s]"
          ]
        },
        {
          "output_type": "stream",
          "name": "stdout",
          "text": [
            "Group (1, 0) Accuracy: 0.0\n"
          ]
        },
        {
          "output_type": "stream",
          "name": "stderr",
          "text": [
            "\rEvaluating group-wise accuracy:  28%|██▊       | 7/25 [00:02<00:07,  2.39it/s]"
          ]
        },
        {
          "output_type": "stream",
          "name": "stdout",
          "text": [
            "Group (1, 1) Accuracy: 100.0\n"
          ]
        },
        {
          "output_type": "stream",
          "name": "stderr",
          "text": [
            "\rEvaluating group-wise accuracy:  32%|███▏      | 8/25 [00:03<00:07,  2.41it/s]"
          ]
        },
        {
          "output_type": "stream",
          "name": "stdout",
          "text": [
            "Group (1, 2) Accuracy: 0.0\n"
          ]
        },
        {
          "output_type": "stream",
          "name": "stderr",
          "text": [
            "\rEvaluating group-wise accuracy:  36%|███▌      | 9/25 [00:03<00:06,  2.41it/s]"
          ]
        },
        {
          "output_type": "stream",
          "name": "stdout",
          "text": [
            "Group (1, 3) Accuracy: 0.0\n"
          ]
        },
        {
          "output_type": "stream",
          "name": "stderr",
          "text": [
            "\rEvaluating group-wise accuracy:  40%|████      | 10/25 [00:04<00:06,  2.44it/s]"
          ]
        },
        {
          "output_type": "stream",
          "name": "stdout",
          "text": [
            "Group (1, 4) Accuracy: 0.0\n"
          ]
        },
        {
          "output_type": "stream",
          "name": "stderr",
          "text": [
            "\rEvaluating group-wise accuracy:  44%|████▍     | 11/25 [00:04<00:05,  2.44it/s]"
          ]
        },
        {
          "output_type": "stream",
          "name": "stdout",
          "text": [
            "Group (2, 0) Accuracy: 0.0\n"
          ]
        },
        {
          "output_type": "stream",
          "name": "stderr",
          "text": [
            "\rEvaluating group-wise accuracy:  48%|████▊     | 12/25 [00:04<00:05,  2.44it/s]"
          ]
        },
        {
          "output_type": "stream",
          "name": "stdout",
          "text": [
            "Group (2, 1) Accuracy: 0.0\n"
          ]
        },
        {
          "output_type": "stream",
          "name": "stderr",
          "text": [
            "\rEvaluating group-wise accuracy:  52%|█████▏    | 13/25 [00:05<00:04,  2.42it/s]"
          ]
        },
        {
          "output_type": "stream",
          "name": "stdout",
          "text": [
            "Group (2, 2) Accuracy: 100.0\n"
          ]
        },
        {
          "output_type": "stream",
          "name": "stderr",
          "text": [
            "\rEvaluating group-wise accuracy:  56%|█████▌    | 14/25 [00:05<00:04,  2.41it/s]"
          ]
        },
        {
          "output_type": "stream",
          "name": "stdout",
          "text": [
            "Group (2, 3) Accuracy: 0.0\n"
          ]
        },
        {
          "output_type": "stream",
          "name": "stderr",
          "text": [
            "\rEvaluating group-wise accuracy:  60%|██████    | 15/25 [00:06<00:04,  2.44it/s]"
          ]
        },
        {
          "output_type": "stream",
          "name": "stdout",
          "text": [
            "Group (2, 4) Accuracy: 0.0\n"
          ]
        },
        {
          "output_type": "stream",
          "name": "stderr",
          "text": [
            "\rEvaluating group-wise accuracy:  64%|██████▍   | 16/25 [00:06<00:03,  2.33it/s]"
          ]
        },
        {
          "output_type": "stream",
          "name": "stdout",
          "text": [
            "Group (3, 0) Accuracy: 0.0\n"
          ]
        },
        {
          "output_type": "stream",
          "name": "stderr",
          "text": [
            "\rEvaluating group-wise accuracy:  68%|██████▊   | 17/25 [00:07<00:03,  2.34it/s]"
          ]
        },
        {
          "output_type": "stream",
          "name": "stdout",
          "text": [
            "Group (3, 1) Accuracy: 0.0\n"
          ]
        },
        {
          "output_type": "stream",
          "name": "stderr",
          "text": [
            "\rEvaluating group-wise accuracy:  72%|███████▏  | 18/25 [00:07<00:02,  2.39it/s]"
          ]
        },
        {
          "output_type": "stream",
          "name": "stdout",
          "text": [
            "Group (3, 2) Accuracy: 0.0\n"
          ]
        },
        {
          "output_type": "stream",
          "name": "stderr",
          "text": [
            "\rEvaluating group-wise accuracy:  76%|███████▌  | 19/25 [00:08<00:02,  2.18it/s]"
          ]
        },
        {
          "output_type": "stream",
          "name": "stdout",
          "text": [
            "Group (3, 3) Accuracy: 100.0\n"
          ]
        },
        {
          "output_type": "stream",
          "name": "stderr",
          "text": [
            "\rEvaluating group-wise accuracy:  80%|████████  | 20/25 [00:08<00:02,  1.95it/s]"
          ]
        },
        {
          "output_type": "stream",
          "name": "stdout",
          "text": [
            "Group (3, 4) Accuracy: 0.0\n"
          ]
        },
        {
          "output_type": "stream",
          "name": "stderr",
          "text": [
            "\rEvaluating group-wise accuracy:  84%|████████▍ | 21/25 [00:09<00:02,  1.80it/s]"
          ]
        },
        {
          "output_type": "stream",
          "name": "stdout",
          "text": [
            "Group (4, 0) Accuracy: 0.0\n"
          ]
        },
        {
          "output_type": "stream",
          "name": "stderr",
          "text": [
            "\rEvaluating group-wise accuracy:  88%|████████▊ | 22/25 [00:09<00:01,  1.75it/s]"
          ]
        },
        {
          "output_type": "stream",
          "name": "stdout",
          "text": [
            "Group (4, 1) Accuracy: 0.0\n"
          ]
        },
        {
          "output_type": "stream",
          "name": "stderr",
          "text": [
            "\rEvaluating group-wise accuracy:  92%|█████████▏| 23/25 [00:10<00:01,  1.82it/s]"
          ]
        },
        {
          "output_type": "stream",
          "name": "stdout",
          "text": [
            "Group (4, 2) Accuracy: 0.0\n"
          ]
        },
        {
          "output_type": "stream",
          "name": "stderr",
          "text": [
            "\rEvaluating group-wise accuracy:  96%|█████████▌| 24/25 [00:10<00:00,  1.97it/s]"
          ]
        },
        {
          "output_type": "stream",
          "name": "stdout",
          "text": [
            "Group (4, 3) Accuracy: 0.0\n"
          ]
        },
        {
          "output_type": "stream",
          "name": "stderr",
          "text": [
            "Evaluating group-wise accuracy: 100%|██████████| 25/25 [00:11<00:00,  2.22it/s]"
          ]
        },
        {
          "output_type": "stream",
          "name": "stdout",
          "text": [
            "Group (4, 4) Accuracy: 100.0\n"
          ]
        },
        {
          "output_type": "stream",
          "name": "stderr",
          "text": [
            "\n"
          ]
        },
        {
          "output_type": "execute_result",
          "data": {
            "text/plain": [
              "{(0, 0): 100.0,\n",
              " (0, 1): 0.0,\n",
              " (0, 2): 0.0,\n",
              " (0, 3): 0.0,\n",
              " (0, 4): 0.0,\n",
              " (1, 0): 0.0,\n",
              " (1, 1): 100.0,\n",
              " (1, 2): 0.0,\n",
              " (1, 3): 0.0,\n",
              " (1, 4): 0.0,\n",
              " (2, 0): 0.0,\n",
              " (2, 1): 0.0,\n",
              " (2, 2): 100.0,\n",
              " (2, 3): 0.0,\n",
              " (2, 4): 0.0,\n",
              " (3, 0): 0.0,\n",
              " (3, 1): 0.0,\n",
              " (3, 2): 0.0,\n",
              " (3, 3): 100.0,\n",
              " (3, 4): 0.0,\n",
              " (4, 0): 0.0,\n",
              " (4, 1): 0.0,\n",
              " (4, 2): 0.0,\n",
              " (4, 3): 0.0,\n",
              " (4, 4): 100.0}"
            ]
          },
          "metadata": {},
          "execution_count": 5
        }
      ]
    },
    {
      "cell_type": "markdown",
      "source": [
        "**2)** Cluster inputs based on ERM outputs"
      ],
      "metadata": {
        "id": "xTJ9yHBsmvO1"
      }
    },
    {
      "cell_type": "code",
      "source": [
        "cluster = Cluster(\n",
        "    Z = erm.get_trainset_outputs(),\n",
        "    class_labels=train_dataset.labels,\n",
        "    cluster_alg=ClusterAlg.KMEANS,\n",
        "    num_clusters=2,\n",
        "    device=device,\n",
        "    verbose=True\n",
        "\n",
        "\n",
        ")\n",
        "\n",
        "\n",
        "\n",
        "\n",
        "group_partition = cluster.infer_groups()\n",
        "\n",
        "\n",
        "keys = sorted(group_partition.keys())\n",
        "\n",
        "for key in keys:\n",
        "    print(key, len(group_partition[key]))"
      ],
      "metadata": {
        "colab": {
          "base_uri": "https://localhost:8080/"
        },
        "id": "ih-qwkaamvo2",
        "outputId": "74c7db33-5b0e-43c8-c866-12dd382dcb7a"
      },
      "execution_count": 6,
      "outputs": [
        {
          "output_type": "stream",
          "name": "stderr",
          "text": [
            "Getting model outputs: 100%|██████████| 751/751 [00:09<00:00, 75.54batch/s]\n",
            "Clustering class-wise: 100%|██████████| 5/5 [00:00<00:00, 15.62it/s]"
          ]
        },
        {
          "output_type": "stream",
          "name": "stdout",
          "text": [
            "(0, 0) 9119\n",
            "(0, 1) 1014\n",
            "(1, 0) 8704\n",
            "(1, 1) 968\n",
            "(2, 0) 8109\n",
            "(2, 1) 902\n",
            "(3, 0) 975\n",
            "(3, 1) 8772\n",
            "(4, 0) 8496\n",
            "(4, 1) 945\n"
          ]
        },
        {
          "output_type": "stream",
          "name": "stderr",
          "text": [
            "\n"
          ]
        }
      ]
    },
    {
      "cell_type": "code",
      "source": [
        "evaluator = Evaluator(\n",
        "    testset=train_dataset,\n",
        "    group_partition=group_partition,\n",
        "    group_weights=train_dataset.group_weights,\n",
        "    batch_size=64,\n",
        "    model=model,\n",
        "    device=device,\n",
        "    verbose=True\n",
        ")\n",
        "evaluator.evaluate()"
      ],
      "metadata": {
        "colab": {
          "base_uri": "https://localhost:8080/"
        },
        "id": "ieRin5-om08r",
        "outputId": "49b1f3f9-8d5c-4d00-d3d5-05cd0cdc079c"
      },
      "execution_count": 7,
      "outputs": [
        {
          "output_type": "stream",
          "name": "stderr",
          "text": [
            "/usr/local/lib/python3.11/dist-packages/torch/utils/data/dataloader.py:624: UserWarning: This DataLoader will create 4 worker processes in total. Our suggested max number of worker in current system is 2, which is smaller than what this DataLoader is going to create. Please be aware that excessive worker creation might get DataLoader running slow or even freeze, lower the worker number to avoid potential slowness/freeze if necessary.\n",
            "  warnings.warn(\n",
            "Evaluating group-wise accuracy:  10%|█         | 1/10 [00:01<00:17,  1.93s/it]"
          ]
        },
        {
          "output_type": "stream",
          "name": "stdout",
          "text": [
            "Group (0, 0) Accuracy: 100.0\n"
          ]
        },
        {
          "output_type": "stream",
          "name": "stderr",
          "text": [
            "\rEvaluating group-wise accuracy:  20%|██        | 2/10 [00:02<00:08,  1.11s/it]"
          ]
        },
        {
          "output_type": "stream",
          "name": "stdout",
          "text": [
            "Group (0, 1) Accuracy: 0.0\n"
          ]
        },
        {
          "output_type": "stream",
          "name": "stderr",
          "text": [
            "\rEvaluating group-wise accuracy:  30%|███       | 3/10 [00:04<00:10,  1.50s/it]"
          ]
        },
        {
          "output_type": "stream",
          "name": "stdout",
          "text": [
            "Group (1, 0) Accuracy: 100.0\n"
          ]
        },
        {
          "output_type": "stream",
          "name": "stderr",
          "text": [
            "\rEvaluating group-wise accuracy:  40%|████      | 4/10 [00:04<00:06,  1.12s/it]"
          ]
        },
        {
          "output_type": "stream",
          "name": "stdout",
          "text": [
            "Group (1, 1) Accuracy: 0.0\n"
          ]
        },
        {
          "output_type": "stream",
          "name": "stderr",
          "text": [
            "\rEvaluating group-wise accuracy:  50%|█████     | 5/10 [00:06<00:06,  1.36s/it]"
          ]
        },
        {
          "output_type": "stream",
          "name": "stdout",
          "text": [
            "Group (2, 0) Accuracy: 100.0\n"
          ]
        },
        {
          "output_type": "stream",
          "name": "stderr",
          "text": [
            "\rEvaluating group-wise accuracy:  60%|██████    | 6/10 [00:07<00:04,  1.07s/it]"
          ]
        },
        {
          "output_type": "stream",
          "name": "stdout",
          "text": [
            "Group (2, 1) Accuracy: 0.0\n"
          ]
        },
        {
          "output_type": "stream",
          "name": "stderr",
          "text": [
            "\rEvaluating group-wise accuracy:  70%|███████   | 7/10 [00:07<00:02,  1.12it/s]"
          ]
        },
        {
          "output_type": "stream",
          "name": "stdout",
          "text": [
            "Group (3, 0) Accuracy: 0.0\n"
          ]
        },
        {
          "output_type": "stream",
          "name": "stderr",
          "text": [
            "\rEvaluating group-wise accuracy:  80%|████████  | 8/10 [00:10<00:02,  1.45s/it]"
          ]
        },
        {
          "output_type": "stream",
          "name": "stdout",
          "text": [
            "Group (3, 1) Accuracy: 100.0\n"
          ]
        },
        {
          "output_type": "stream",
          "name": "stderr",
          "text": [
            "\rEvaluating group-wise accuracy:  90%|█████████ | 9/10 [00:12<00:01,  1.61s/it]"
          ]
        },
        {
          "output_type": "stream",
          "name": "stdout",
          "text": [
            "Group (4, 0) Accuracy: 100.0\n"
          ]
        },
        {
          "output_type": "stream",
          "name": "stderr",
          "text": [
            "Evaluating group-wise accuracy: 100%|██████████| 10/10 [00:12<00:00,  1.29s/it]"
          ]
        },
        {
          "output_type": "stream",
          "name": "stdout",
          "text": [
            "Group (4, 1) Accuracy: 0.0\n"
          ]
        },
        {
          "output_type": "stream",
          "name": "stderr",
          "text": [
            "\n"
          ]
        },
        {
          "output_type": "execute_result",
          "data": {
            "text/plain": [
              "{(0, 0): 100.0,\n",
              " (0, 1): 0.0,\n",
              " (1, 0): 100.0,\n",
              " (1, 1): 0.0,\n",
              " (2, 0): 100.0,\n",
              " (2, 1): 0.0,\n",
              " (3, 0): 0.0,\n",
              " (3, 1): 100.0,\n",
              " (4, 0): 100.0,\n",
              " (4, 1): 0.0}"
            ]
          },
          "metadata": {},
          "execution_count": 7
        }
      ]
    },
    {
      "cell_type": "markdown",
      "source": [
        "**3)** Retrain using GroupBalancing"
      ],
      "metadata": {
        "id": "MQTirr1Mm5jC"
      }
    },
    {
      "cell_type": "code",
      "source": [
        "group_balance_erm = GroupBalanceBatchERM(\n",
        "    model=model,\n",
        "    num_epochs=5,\n",
        "    trainset=train_dataset,\n",
        "    group_partition=group_partition,\n",
        "    batch_size=64,\n",
        "    optimizer=optimizer,\n",
        "    device=device,\n",
        "    verbose=True\n",
        ")\n",
        "group_balance_erm.train()"
      ],
      "metadata": {
        "colab": {
          "base_uri": "https://localhost:8080/"
        },
        "id": "lXh122T8m6Fi",
        "outputId": "a8a4c491-cdcd-4ab1-f077-05a183545ebe"
      },
      "execution_count": 8,
      "outputs": [
        {
          "output_type": "stream",
          "name": "stderr",
          "text": [
            "Epoch 0:   1%|          | 5/751 [00:00<00:54, 13.66batch/s, accuracy=50.0%, loss=1.48]   "
          ]
        },
        {
          "output_type": "stream",
          "name": "stdout",
          "text": [
            "GB | Epoch 0 | Loss: 1.8865783214569092 | Accuracy: 48.4375%\n",
            "GB | Epoch 0 | Loss: 1.5154821872711182 | Accuracy: 57.8125%\n",
            "GB | Epoch 0 | Loss: 1.848420262336731 | Accuracy: 46.875%\n",
            "GB | Epoch 0 | Loss: 1.7309883832931519 | Accuracy: 48.4375%\n",
            "GB | Epoch 0 | Loss: 1.9460362195968628 | Accuracy: 40.625%\n",
            "GB | Epoch 0 | Loss: 1.5894079208374023 | Accuracy: 53.125%\n",
            "GB | Epoch 0 | Loss: 1.4343130588531494 | Accuracy: 48.4375%\n",
            "GB | Epoch 0 | Loss: 1.4849287271499634 | Accuracy: 50.0%\n"
          ]
        },
        {
          "output_type": "stream",
          "name": "stderr",
          "text": [
            "Epoch 0:   2%|▏         | 14/751 [00:00<00:26, 27.78batch/s, accuracy=39.0625%, loss=1.58]"
          ]
        },
        {
          "output_type": "stream",
          "name": "stdout",
          "text": [
            "GB | Epoch 0 | Loss: 1.8947514295578003 | Accuracy: 35.9375%\n",
            "GB | Epoch 0 | Loss: 1.180273413658142 | Accuracy: 59.375%\n",
            "GB | Epoch 0 | Loss: 1.4245887994766235 | Accuracy: 45.3125%\n",
            "GB | Epoch 0 | Loss: 1.3815854787826538 | Accuracy: 51.5625%\n",
            "GB | Epoch 0 | Loss: 1.3836015462875366 | Accuracy: 46.875%\n",
            "GB | Epoch 0 | Loss: 1.5334645509719849 | Accuracy: 48.4375%\n",
            "GB | Epoch 0 | Loss: 1.3834136724472046 | Accuracy: 46.875%\n",
            "GB | Epoch 0 | Loss: 1.5821274518966675 | Accuracy: 39.0625%\n"
          ]
        },
        {
          "output_type": "stream",
          "name": "stderr",
          "text": [
            "Epoch 0:   3%|▎         | 23/751 [00:00<00:20, 34.98batch/s, accuracy=62.5%, loss=1.21]   "
          ]
        },
        {
          "output_type": "stream",
          "name": "stdout",
          "text": [
            "GB | Epoch 0 | Loss: 1.4826579093933105 | Accuracy: 43.75%\n",
            "GB | Epoch 0 | Loss: 1.4864892959594727 | Accuracy: 43.75%\n",
            "GB | Epoch 0 | Loss: 1.5061813592910767 | Accuracy: 45.3125%\n",
            "GB | Epoch 0 | Loss: 1.4272780418395996 | Accuracy: 46.875%\n",
            "GB | Epoch 0 | Loss: 1.3956135511398315 | Accuracy: 48.4375%\n",
            "GB | Epoch 0 | Loss: 1.4878771305084229 | Accuracy: 45.3125%\n",
            "GB | Epoch 0 | Loss: 1.4409010410308838 | Accuracy: 48.4375%\n",
            "GB | Epoch 0 | Loss: 1.5136044025421143 | Accuracy: 39.0625%\n",
            "GB | Epoch 0 | Loss: 1.2072311639785767 | Accuracy: 62.5%\n"
          ]
        },
        {
          "output_type": "stream",
          "name": "stderr",
          "text": [
            "Epoch 0:   4%|▍         | 32/751 [00:01<00:18, 37.97batch/s, accuracy=56.25%, loss=1.31]  "
          ]
        },
        {
          "output_type": "stream",
          "name": "stdout",
          "text": [
            "GB | Epoch 0 | Loss: 1.3330587148666382 | Accuracy: 54.6875%\n",
            "GB | Epoch 0 | Loss: 1.370483160018921 | Accuracy: 56.25%\n",
            "GB | Epoch 0 | Loss: 1.258164405822754 | Accuracy: 59.375%\n",
            "GB | Epoch 0 | Loss: 1.2830188274383545 | Accuracy: 54.6875%\n",
            "GB | Epoch 0 | Loss: 1.473834753036499 | Accuracy: 45.3125%\n",
            "GB | Epoch 0 | Loss: 1.2482340335845947 | Accuracy: 59.375%\n",
            "GB | Epoch 0 | Loss: 1.4263451099395752 | Accuracy: 46.875%\n",
            "GB | Epoch 0 | Loss: 1.382425308227539 | Accuracy: 48.4375%\n",
            "GB | Epoch 0 | Loss: 1.305403709411621 | Accuracy: 56.25%\n"
          ]
        },
        {
          "output_type": "stream",
          "name": "stderr",
          "text": [
            "Epoch 0:   6%|▌         | 42/751 [00:01<00:17, 40.64batch/s, accuracy=48.4375%, loss=1.4]"
          ]
        },
        {
          "output_type": "stream",
          "name": "stdout",
          "text": [
            "GB | Epoch 0 | Loss: 1.2132699489593506 | Accuracy: 59.375%\n",
            "GB | Epoch 0 | Loss: 1.2712233066558838 | Accuracy: 53.125%\n",
            "GB | Epoch 0 | Loss: 1.1675472259521484 | Accuracy: 62.5%\n",
            "GB | Epoch 0 | Loss: 1.379073977470398 | Accuracy: 46.875%\n",
            "GB | Epoch 0 | Loss: 1.2640103101730347 | Accuracy: 54.6875%\n",
            "GB | Epoch 0 | Loss: 1.3138275146484375 | Accuracy: 54.6875%\n",
            "GB | Epoch 0 | Loss: 1.3939708471298218 | Accuracy: 46.875%\n",
            "GB | Epoch 0 | Loss: 1.2610268592834473 | Accuracy: 57.8125%\n",
            "GB | Epoch 0 | Loss: 1.286513328552246 | Accuracy: 53.125%\n",
            "GB | Epoch 0 | Loss: 1.3976118564605713 | Accuracy: 48.4375%\n"
          ]
        },
        {
          "output_type": "stream",
          "name": "stderr",
          "text": [
            "Epoch 0:   7%|▋         | 52/751 [00:01<00:16, 42.04batch/s, accuracy=48.4375%, loss=1.41]"
          ]
        },
        {
          "output_type": "stream",
          "name": "stdout",
          "text": [
            "GB | Epoch 0 | Loss: 1.4090784788131714 | Accuracy: 46.875%\n",
            "GB | Epoch 0 | Loss: 1.2474474906921387 | Accuracy: 54.6875%\n",
            "GB | Epoch 0 | Loss: 1.3200762271881104 | Accuracy: 53.125%\n",
            "GB | Epoch 0 | Loss: 1.2630704641342163 | Accuracy: 54.6875%\n",
            "GB | Epoch 0 | Loss: 1.2500025033950806 | Accuracy: 57.8125%\n",
            "GB | Epoch 0 | Loss: 1.500345230102539 | Accuracy: 42.1875%\n",
            "GB | Epoch 0 | Loss: 1.2961316108703613 | Accuracy: 53.125%\n",
            "GB | Epoch 0 | Loss: 1.1480456590652466 | Accuracy: 62.5%\n",
            "GB | Epoch 0 | Loss: 1.4084532260894775 | Accuracy: 48.4375%\n"
          ]
        },
        {
          "output_type": "stream",
          "name": "stderr",
          "text": [
            "Epoch 0:   8%|▊         | 57/751 [00:01<00:16, 41.83batch/s, accuracy=54.6875%, loss=1.29]"
          ]
        },
        {
          "output_type": "stream",
          "name": "stdout",
          "text": [
            "GB | Epoch 0 | Loss: 1.4504046440124512 | Accuracy: 45.3125%\n",
            "GB | Epoch 0 | Loss: 1.211586833000183 | Accuracy: 59.375%\n",
            "GB | Epoch 0 | Loss: 1.5092744827270508 | Accuracy: 37.5%\n",
            "GB | Epoch 0 | Loss: 1.3378514051437378 | Accuracy: 53.125%\n",
            "GB | Epoch 0 | Loss: 1.2715727090835571 | Accuracy: 54.6875%\n",
            "GB | Epoch 0 | Loss: 1.325055480003357 | Accuracy: 53.125%\n",
            "GB | Epoch 0 | Loss: 1.4635286331176758 | Accuracy: 40.625%\n",
            "GB | Epoch 0 | Loss: 1.2913587093353271 | Accuracy: 54.6875%\n"
          ]
        },
        {
          "output_type": "stream",
          "name": "stderr",
          "text": [
            "Epoch 0:   9%|▉         | 67/751 [00:02<00:16, 40.50batch/s, accuracy=56.25%, loss=1.21]  "
          ]
        },
        {
          "output_type": "stream",
          "name": "stdout",
          "text": [
            "GB | Epoch 0 | Loss: 1.5797830820083618 | Accuracy: 32.8125%\n",
            "GB | Epoch 0 | Loss: 1.4830732345581055 | Accuracy: 40.625%\n",
            "GB | Epoch 0 | Loss: 1.3410239219665527 | Accuracy: 51.5625%\n",
            "GB | Epoch 0 | Loss: 1.3524991273880005 | Accuracy: 48.4375%\n",
            "GB | Epoch 0 | Loss: 1.260508418083191 | Accuracy: 54.6875%\n",
            "GB | Epoch 0 | Loss: 1.306459903717041 | Accuracy: 51.5625%\n",
            "GB | Epoch 0 | Loss: 1.309712529182434 | Accuracy: 51.5625%\n",
            "GB | Epoch 0 | Loss: 1.4228811264038086 | Accuracy: 45.3125%\n",
            "GB | Epoch 0 | Loss: 1.2080336809158325 | Accuracy: 56.25%\n"
          ]
        },
        {
          "output_type": "stream",
          "name": "stderr",
          "text": [
            "Epoch 0:  10%|█         | 77/751 [00:02<00:17, 38.33batch/s, accuracy=59.375%, loss=1.2]"
          ]
        },
        {
          "output_type": "stream",
          "name": "stdout",
          "text": [
            "GB | Epoch 0 | Loss: 1.261048436164856 | Accuracy: 56.25%\n",
            "GB | Epoch 0 | Loss: 1.3577256202697754 | Accuracy: 48.4375%\n",
            "GB | Epoch 0 | Loss: 1.38428795337677 | Accuracy: 46.875%\n",
            "GB | Epoch 0 | Loss: 1.3597021102905273 | Accuracy: 46.875%\n",
            "GB | Epoch 0 | Loss: 1.255235195159912 | Accuracy: 54.6875%\n",
            "GB | Epoch 0 | Loss: 1.2567647695541382 | Accuracy: 57.8125%\n",
            "GB | Epoch 0 | Loss: 1.1969470977783203 | Accuracy: 59.375%\n"
          ]
        },
        {
          "output_type": "stream",
          "name": "stderr",
          "text": [
            "Epoch 0:  11%|█         | 81/751 [00:02<00:18, 35.98batch/s, accuracy=59.375%, loss=1.21] "
          ]
        },
        {
          "output_type": "stream",
          "name": "stdout",
          "text": [
            "GB | Epoch 0 | Loss: 1.5203498601913452 | Accuracy: 42.1875%\n",
            "GB | Epoch 0 | Loss: 1.2402499914169312 | Accuracy: 56.25%\n",
            "GB | Epoch 0 | Loss: 1.3261345624923706 | Accuracy: 53.125%\n",
            "GB | Epoch 0 | Loss: 1.328438401222229 | Accuracy: 53.125%\n",
            "GB | Epoch 0 | Loss: 1.1863625049591064 | Accuracy: 60.9375%\n",
            "GB | Epoch 0 | Loss: 1.2867929935455322 | Accuracy: 51.5625%\n",
            "GB | Epoch 0 | Loss: 1.214078426361084 | Accuracy: 59.375%\n"
          ]
        },
        {
          "output_type": "stream",
          "name": "stderr",
          "text": [
            "Epoch 0:  12%|█▏        | 89/751 [00:02<00:20, 33.07batch/s, accuracy=48.4375%, loss=1.38]"
          ]
        },
        {
          "output_type": "stream",
          "name": "stdout",
          "text": [
            "GB | Epoch 0 | Loss: 1.5102753639221191 | Accuracy: 39.0625%\n",
            "GB | Epoch 0 | Loss: 1.418340802192688 | Accuracy: 46.875%\n",
            "GB | Epoch 0 | Loss: 1.319521188735962 | Accuracy: 48.4375%\n",
            "GB | Epoch 0 | Loss: 1.425034523010254 | Accuracy: 42.1875%\n",
            "GB | Epoch 0 | Loss: 1.1617419719696045 | Accuracy: 64.0625%\n",
            "GB | Epoch 0 | Loss: 1.3793598413467407 | Accuracy: 48.4375%\n"
          ]
        },
        {
          "output_type": "stream",
          "name": "stderr",
          "text": [
            "Epoch 0:  12%|█▏        | 93/751 [00:02<00:21, 31.13batch/s, accuracy=43.75%, loss=1.45]"
          ]
        },
        {
          "output_type": "stream",
          "name": "stdout",
          "text": [
            "GB | Epoch 0 | Loss: 1.262328028678894 | Accuracy: 54.6875%\n",
            "GB | Epoch 0 | Loss: 1.333378791809082 | Accuracy: 48.4375%\n",
            "GB | Epoch 0 | Loss: 1.2794095277786255 | Accuracy: 53.125%\n",
            "GB | Epoch 0 | Loss: 1.4559640884399414 | Accuracy: 43.75%\n",
            "GB | Epoch 0 | Loss: 1.2396031618118286 | Accuracy: 56.25%\n"
          ]
        },
        {
          "output_type": "stream",
          "name": "stderr",
          "text": [
            "Epoch 0:  13%|█▎        | 101/751 [00:03<00:22, 29.49batch/s, accuracy=51.5625%, loss=1.3]"
          ]
        },
        {
          "output_type": "stream",
          "name": "stdout",
          "text": [
            "GB | Epoch 0 | Loss: 1.445592999458313 | Accuracy: 43.75%\n",
            "GB | Epoch 0 | Loss: 1.3484687805175781 | Accuracy: 50.0%\n",
            "GB | Epoch 0 | Loss: 1.284799575805664 | Accuracy: 50.0%\n",
            "GB | Epoch 0 | Loss: 1.4122875928878784 | Accuracy: 45.3125%\n",
            "GB | Epoch 0 | Loss: 1.171849250793457 | Accuracy: 59.375%\n",
            "GB | Epoch 0 | Loss: 1.1861774921417236 | Accuracy: 59.375%\n",
            "GB | Epoch 0 | Loss: 1.3004250526428223 | Accuracy: 51.5625%\n"
          ]
        },
        {
          "output_type": "stream",
          "name": "stderr",
          "text": [
            "Epoch 0:  15%|█▍        | 109/751 [00:03<00:21, 30.15batch/s, accuracy=48.4375%, loss=1.38]"
          ]
        },
        {
          "output_type": "stream",
          "name": "stdout",
          "text": [
            "GB | Epoch 0 | Loss: 1.2194855213165283 | Accuracy: 57.8125%\n",
            "GB | Epoch 0 | Loss: 1.3764575719833374 | Accuracy: 45.3125%\n",
            "GB | Epoch 0 | Loss: 1.3587584495544434 | Accuracy: 50.0%\n",
            "GB | Epoch 0 | Loss: 1.3371875286102295 | Accuracy: 50.0%\n",
            "GB | Epoch 0 | Loss: 1.4285485744476318 | Accuracy: 42.1875%\n",
            "GB | Epoch 0 | Loss: 1.412811517715454 | Accuracy: 45.3125%\n",
            "GB | Epoch 0 | Loss: 1.380419373512268 | Accuracy: 48.4375%\n"
          ]
        },
        {
          "output_type": "stream",
          "name": "stderr",
          "text": [
            "Epoch 0:  15%|█▌        | 113/751 [00:03<00:20, 30.41batch/s, accuracy=51.5625%, loss=1.3] "
          ]
        },
        {
          "output_type": "stream",
          "name": "stdout",
          "text": [
            "GB | Epoch 0 | Loss: 1.4678518772125244 | Accuracy: 40.625%\n",
            "GB | Epoch 0 | Loss: 1.1389901638031006 | Accuracy: 60.9375%\n",
            "GB | Epoch 0 | Loss: 1.2609121799468994 | Accuracy: 54.6875%\n",
            "GB | Epoch 0 | Loss: 1.2280510663986206 | Accuracy: 56.25%\n",
            "GB | Epoch 0 | Loss: 1.2315587997436523 | Accuracy: 59.375%\n",
            "GB | Epoch 0 | Loss: 1.3148674964904785 | Accuracy: 51.5625%\n",
            "GB | Epoch 0 | Loss: 1.2950774431228638 | Accuracy: 51.5625%\n"
          ]
        },
        {
          "output_type": "stream",
          "name": "stderr",
          "text": [
            "Epoch 0:  16%|█▌        | 121/751 [00:03<00:22, 28.63batch/s, accuracy=50.0%, loss=1.31]   "
          ]
        },
        {
          "output_type": "stream",
          "name": "stdout",
          "text": [
            "GB | Epoch 0 | Loss: 1.4024848937988281 | Accuracy: 45.3125%\n",
            "GB | Epoch 0 | Loss: 1.2712311744689941 | Accuracy: 53.125%\n",
            "GB | Epoch 0 | Loss: 1.4693653583526611 | Accuracy: 42.1875%\n",
            "GB | Epoch 0 | Loss: 1.277811884880066 | Accuracy: 54.6875%\n",
            "GB | Epoch 0 | Loss: 1.305495023727417 | Accuracy: 48.4375%\n",
            "GB | Epoch 0 | Loss: 1.313273310661316 | Accuracy: 50.0%\n"
          ]
        },
        {
          "output_type": "stream",
          "name": "stderr",
          "text": [
            "Epoch 0:  17%|█▋        | 128/751 [00:03<00:21, 29.54batch/s, accuracy=50.0%, loss=1.3]    "
          ]
        },
        {
          "output_type": "stream",
          "name": "stdout",
          "text": [
            "GB | Epoch 0 | Loss: 1.3683209419250488 | Accuracy: 48.4375%\n",
            "GB | Epoch 0 | Loss: 1.2466232776641846 | Accuracy: 54.6875%\n",
            "GB | Epoch 0 | Loss: 1.2866140604019165 | Accuracy: 54.6875%\n",
            "GB | Epoch 0 | Loss: 1.4065579175949097 | Accuracy: 45.3125%\n",
            "GB | Epoch 0 | Loss: 1.3253953456878662 | Accuracy: 50.0%\n",
            "GB | Epoch 0 | Loss: 1.4377413988113403 | Accuracy: 42.1875%\n",
            "GB | Epoch 0 | Loss: 1.3017886877059937 | Accuracy: 50.0%\n"
          ]
        },
        {
          "output_type": "stream",
          "name": "stderr",
          "text": [
            "Epoch 0:  18%|█▊        | 136/751 [00:04<00:20, 30.54batch/s, accuracy=42.1875%, loss=1.46]"
          ]
        },
        {
          "output_type": "stream",
          "name": "stdout",
          "text": [
            "GB | Epoch 0 | Loss: 1.2448582649230957 | Accuracy: 57.8125%\n",
            "GB | Epoch 0 | Loss: 1.2191693782806396 | Accuracy: 56.25%\n",
            "GB | Epoch 0 | Loss: 1.2336676120758057 | Accuracy: 57.8125%\n",
            "GB | Epoch 0 | Loss: 1.3542877435684204 | Accuracy: 48.4375%\n",
            "GB | Epoch 0 | Loss: 1.2881662845611572 | Accuracy: 50.0%\n",
            "GB | Epoch 0 | Loss: 1.3229830265045166 | Accuracy: 50.0%\n",
            "GB | Epoch 0 | Loss: 1.46305251121521 | Accuracy: 42.1875%\n"
          ]
        },
        {
          "output_type": "stream",
          "name": "stderr",
          "text": [
            "Epoch 0:  19%|█▊        | 140/751 [00:04<00:20, 30.15batch/s, accuracy=65.625%, loss=1.11]"
          ]
        },
        {
          "output_type": "stream",
          "name": "stdout",
          "text": [
            "GB | Epoch 0 | Loss: 1.412034511566162 | Accuracy: 43.75%\n",
            "GB | Epoch 0 | Loss: 1.3821156024932861 | Accuracy: 48.4375%\n",
            "GB | Epoch 0 | Loss: 1.3280010223388672 | Accuracy: 48.4375%\n",
            "GB | Epoch 0 | Loss: 1.1775084733963013 | Accuracy: 57.8125%\n",
            "GB | Epoch 0 | Loss: 1.3363838195800781 | Accuracy: 48.4375%\n",
            "GB | Epoch 0 | Loss: 1.3797130584716797 | Accuracy: 46.875%\n"
          ]
        },
        {
          "output_type": "stream",
          "name": "stderr",
          "text": [
            "Epoch 0:  20%|█▉        | 148/751 [00:04<00:19, 30.43batch/s, accuracy=50.0%, loss=1.33]"
          ]
        },
        {
          "output_type": "stream",
          "name": "stdout",
          "text": [
            "GB | Epoch 0 | Loss: 1.1123164892196655 | Accuracy: 65.625%\n",
            "GB | Epoch 0 | Loss: 1.402849793434143 | Accuracy: 46.875%\n",
            "GB | Epoch 0 | Loss: 1.4025858640670776 | Accuracy: 46.875%\n",
            "GB | Epoch 0 | Loss: 1.2415437698364258 | Accuracy: 56.25%\n",
            "GB | Epoch 0 | Loss: 1.4234243631362915 | Accuracy: 39.0625%\n",
            "GB | Epoch 0 | Loss: 1.4016597270965576 | Accuracy: 43.75%\n",
            "GB | Epoch 0 | Loss: 1.3282158374786377 | Accuracy: 50.0%\n"
          ]
        },
        {
          "output_type": "stream",
          "name": "stderr",
          "text": [
            "Epoch 0:  21%|██        | 155/751 [00:04<00:20, 29.11batch/s, accuracy=29.6875%, loss=1.57]"
          ]
        },
        {
          "output_type": "stream",
          "name": "stdout",
          "text": [
            "GB | Epoch 0 | Loss: 1.2135019302368164 | Accuracy: 57.8125%\n",
            "GB | Epoch 0 | Loss: 1.4221922159194946 | Accuracy: 43.75%\n",
            "GB | Epoch 0 | Loss: 1.2303131818771362 | Accuracy: 54.6875%\n",
            "GB | Epoch 0 | Loss: 1.3438547849655151 | Accuracy: 48.4375%\n",
            "GB | Epoch 0 | Loss: 1.414332389831543 | Accuracy: 46.875%\n",
            "GB | Epoch 0 | Loss: 1.5741218328475952 | Accuracy: 29.6875%\n"
          ]
        },
        {
          "output_type": "stream",
          "name": "stderr",
          "text": [
            "Epoch 0:  22%|██▏       | 162/751 [00:05<00:19, 30.08batch/s, accuracy=43.75%, loss=1.42]"
          ]
        },
        {
          "output_type": "stream",
          "name": "stdout",
          "text": [
            "GB | Epoch 0 | Loss: 1.289879322052002 | Accuracy: 53.125%\n",
            "GB | Epoch 0 | Loss: 1.2730618715286255 | Accuracy: 50.0%\n",
            "GB | Epoch 0 | Loss: 1.2838623523712158 | Accuracy: 53.125%\n",
            "GB | Epoch 0 | Loss: 1.2130175828933716 | Accuracy: 57.8125%\n",
            "GB | Epoch 0 | Loss: 1.2851622104644775 | Accuracy: 53.125%\n",
            "GB | Epoch 0 | Loss: 1.22618567943573 | Accuracy: 60.9375%\n",
            "GB | Epoch 0 | Loss: 1.4224302768707275 | Accuracy: 43.75%\n"
          ]
        },
        {
          "output_type": "stream",
          "name": "stderr",
          "text": [
            "Epoch 0:  23%|██▎       | 171/751 [00:05<00:16, 34.91batch/s, accuracy=42.1875%, loss=1.42]"
          ]
        },
        {
          "output_type": "stream",
          "name": "stdout",
          "text": [
            "GB | Epoch 0 | Loss: 1.2619173526763916 | Accuracy: 53.125%\n",
            "GB | Epoch 0 | Loss: 1.3865724802017212 | Accuracy: 46.875%\n",
            "GB | Epoch 0 | Loss: 1.2972514629364014 | Accuracy: 50.0%\n",
            "GB | Epoch 0 | Loss: 1.2845455408096313 | Accuracy: 51.5625%\n",
            "GB | Epoch 0 | Loss: 1.2369471788406372 | Accuracy: 56.25%\n",
            "GB | Epoch 0 | Loss: 1.3564430475234985 | Accuracy: 46.875%\n",
            "GB | Epoch 0 | Loss: 1.1996749639511108 | Accuracy: 59.375%\n",
            "GB | Epoch 0 | Loss: 1.261723518371582 | Accuracy: 53.125%\n",
            "GB | Epoch 0 | Loss: 1.4219788312911987 | Accuracy: 42.1875%\n"
          ]
        },
        {
          "output_type": "stream",
          "name": "stderr",
          "text": [
            "Epoch 0:  24%|██▍       | 181/751 [00:05<00:14, 40.15batch/s, accuracy=43.75%, loss=1.37]"
          ]
        },
        {
          "output_type": "stream",
          "name": "stdout",
          "text": [
            "GB | Epoch 0 | Loss: 1.4451030492782593 | Accuracy: 42.1875%\n",
            "GB | Epoch 0 | Loss: 1.3317168951034546 | Accuracy: 50.0%\n",
            "GB | Epoch 0 | Loss: 1.3298782110214233 | Accuracy: 48.4375%\n",
            "GB | Epoch 0 | Loss: 1.4700517654418945 | Accuracy: 40.625%\n",
            "GB | Epoch 0 | Loss: 1.283018708229065 | Accuracy: 50.0%\n",
            "GB | Epoch 0 | Loss: 1.3637179136276245 | Accuracy: 45.3125%\n",
            "GB | Epoch 0 | Loss: 1.394110083580017 | Accuracy: 48.4375%\n",
            "GB | Epoch 0 | Loss: 1.2661709785461426 | Accuracy: 54.6875%\n",
            "GB | Epoch 0 | Loss: 1.2434337139129639 | Accuracy: 56.25%\n",
            "GB | Epoch 0 | Loss: 1.3703209161758423 | Accuracy: 43.75%\n"
          ]
        },
        {
          "output_type": "stream",
          "name": "stderr",
          "text": [
            "Epoch 0:  25%|██▍       | 186/751 [00:05<00:13, 41.46batch/s, accuracy=54.6875%, loss=1.28]"
          ]
        },
        {
          "output_type": "stream",
          "name": "stdout",
          "text": [
            "GB | Epoch 0 | Loss: 1.3250499963760376 | Accuracy: 51.5625%\n",
            "GB | Epoch 0 | Loss: 1.2059966325759888 | Accuracy: 59.375%\n",
            "GB | Epoch 0 | Loss: 1.4132075309753418 | Accuracy: 43.75%\n",
            "GB | Epoch 0 | Loss: 1.2379250526428223 | Accuracy: 57.8125%\n",
            "GB | Epoch 0 | Loss: 1.212554931640625 | Accuracy: 56.25%\n",
            "GB | Epoch 0 | Loss: 1.3086936473846436 | Accuracy: 48.4375%\n",
            "GB | Epoch 0 | Loss: 1.3767309188842773 | Accuracy: 48.4375%\n",
            "GB | Epoch 0 | Loss: 1.340874433517456 | Accuracy: 46.875%\n",
            "GB | Epoch 0 | Loss: 1.2843973636627197 | Accuracy: 54.6875%\n"
          ]
        },
        {
          "output_type": "stream",
          "name": "stderr",
          "text": [
            "Epoch 0:  26%|██▌       | 196/751 [00:05<00:13, 40.43batch/s, accuracy=53.125%, loss=1.27] "
          ]
        },
        {
          "output_type": "stream",
          "name": "stdout",
          "text": [
            "GB | Epoch 0 | Loss: 1.3383573293685913 | Accuracy: 51.5625%\n",
            "GB | Epoch 0 | Loss: 1.355455994606018 | Accuracy: 46.875%\n",
            "GB | Epoch 0 | Loss: 1.3935219049453735 | Accuracy: 45.3125%\n",
            "GB | Epoch 0 | Loss: 1.2275108098983765 | Accuracy: 56.25%\n",
            "GB | Epoch 0 | Loss: 1.2524306774139404 | Accuracy: 56.25%\n",
            "GB | Epoch 0 | Loss: 1.4126191139221191 | Accuracy: 40.625%\n",
            "GB | Epoch 0 | Loss: 1.1752023696899414 | Accuracy: 59.375%\n",
            "GB | Epoch 0 | Loss: 1.3669952154159546 | Accuracy: 50.0%\n",
            "GB | Epoch 0 | Loss: 1.3802931308746338 | Accuracy: 45.3125%\n",
            "GB | Epoch 0 | Loss: 1.2686384916305542 | Accuracy: 53.125%\n"
          ]
        },
        {
          "output_type": "stream",
          "name": "stderr",
          "text": [
            "Epoch 0:  27%|██▋       | 206/751 [00:06<00:12, 43.12batch/s, accuracy=57.8125%, loss=1.16]"
          ]
        },
        {
          "output_type": "stream",
          "name": "stdout",
          "text": [
            "GB | Epoch 0 | Loss: 1.4330872297286987 | Accuracy: 45.3125%\n",
            "GB | Epoch 0 | Loss: 1.2754149436950684 | Accuracy: 56.25%\n",
            "GB | Epoch 0 | Loss: 1.3568811416625977 | Accuracy: 45.3125%\n",
            "GB | Epoch 0 | Loss: 1.3042848110198975 | Accuracy: 51.5625%\n",
            "GB | Epoch 0 | Loss: 1.2650023698806763 | Accuracy: 53.125%\n",
            "GB | Epoch 0 | Loss: 1.2169880867004395 | Accuracy: 56.25%\n",
            "GB | Epoch 0 | Loss: 1.3728355169296265 | Accuracy: 43.75%\n",
            "GB | Epoch 0 | Loss: 1.3907588720321655 | Accuracy: 43.75%\n",
            "GB | Epoch 0 | Loss: 1.3512511253356934 | Accuracy: 51.5625%\n",
            "GB | Epoch 0 | Loss: 1.156103253364563 | Accuracy: 57.8125%\n"
          ]
        },
        {
          "output_type": "stream",
          "name": "stderr",
          "text": [
            "Epoch 0:  29%|██▉       | 216/751 [00:06<00:12, 44.54batch/s, accuracy=45.3125%, loss=1.32]"
          ]
        },
        {
          "output_type": "stream",
          "name": "stdout",
          "text": [
            "GB | Epoch 0 | Loss: 1.3331727981567383 | Accuracy: 46.875%\n",
            "GB | Epoch 0 | Loss: 1.2743438482284546 | Accuracy: 50.0%\n",
            "GB | Epoch 0 | Loss: 1.3475756645202637 | Accuracy: 46.875%\n",
            "GB | Epoch 0 | Loss: 1.4119839668273926 | Accuracy: 40.625%\n",
            "GB | Epoch 0 | Loss: 1.3177074193954468 | Accuracy: 48.4375%\n",
            "GB | Epoch 0 | Loss: 1.273461937904358 | Accuracy: 53.125%\n",
            "GB | Epoch 0 | Loss: 1.283247947692871 | Accuracy: 48.4375%\n",
            "GB | Epoch 0 | Loss: 1.5211842060089111 | Accuracy: 35.9375%\n",
            "GB | Epoch 0 | Loss: 1.2427399158477783 | Accuracy: 59.375%\n",
            "GB | Epoch 0 | Loss: 1.318037986755371 | Accuracy: 45.3125%\n"
          ]
        },
        {
          "output_type": "stream",
          "name": "stderr",
          "text": [
            "Epoch 0:  30%|███       | 226/751 [00:06<00:11, 44.51batch/s, accuracy=56.25%, loss=1.24]  "
          ]
        },
        {
          "output_type": "stream",
          "name": "stdout",
          "text": [
            "GB | Epoch 0 | Loss: 1.3087221384048462 | Accuracy: 51.5625%\n",
            "GB | Epoch 0 | Loss: 1.3081259727478027 | Accuracy: 50.0%\n",
            "GB | Epoch 0 | Loss: 1.317175030708313 | Accuracy: 48.4375%\n",
            "GB | Epoch 0 | Loss: 1.394350528717041 | Accuracy: 43.75%\n",
            "GB | Epoch 0 | Loss: 1.2451094388961792 | Accuracy: 57.8125%\n",
            "GB | Epoch 0 | Loss: 1.2854222059249878 | Accuracy: 51.5625%\n",
            "GB | Epoch 0 | Loss: 1.1259347200393677 | Accuracy: 62.5%\n",
            "GB | Epoch 0 | Loss: 1.4395155906677246 | Accuracy: 42.1875%\n",
            "GB | Epoch 0 | Loss: 1.329697847366333 | Accuracy: 51.5625%\n"
          ]
        },
        {
          "output_type": "stream",
          "name": "stderr",
          "text": [
            "Epoch 0:  31%|███▏      | 236/751 [00:06<00:12, 40.52batch/s, accuracy=43.75%, loss=1.41]"
          ]
        },
        {
          "output_type": "stream",
          "name": "stdout",
          "text": [
            "GB | Epoch 0 | Loss: 1.2412797212600708 | Accuracy: 56.25%\n",
            "GB | Epoch 0 | Loss: 1.37637460231781 | Accuracy: 48.4375%\n",
            "GB | Epoch 0 | Loss: 1.2667807340621948 | Accuracy: 53.125%\n",
            "GB | Epoch 0 | Loss: 1.2752430438995361 | Accuracy: 51.5625%\n",
            "GB | Epoch 0 | Loss: 1.2368659973144531 | Accuracy: 56.25%\n",
            "GB | Epoch 0 | Loss: 1.2973992824554443 | Accuracy: 53.125%\n",
            "GB | Epoch 0 | Loss: 1.0842081308364868 | Accuracy: 62.5%\n"
          ]
        },
        {
          "output_type": "stream",
          "name": "stderr",
          "text": [
            "Epoch 0:  33%|███▎      | 246/751 [00:07<00:11, 43.05batch/s, accuracy=53.125%, loss=1.29]"
          ]
        },
        {
          "output_type": "stream",
          "name": "stdout",
          "text": [
            "GB | Epoch 0 | Loss: 1.406682014465332 | Accuracy: 43.75%\n",
            "GB | Epoch 0 | Loss: 1.2718548774719238 | Accuracy: 51.5625%\n",
            "GB | Epoch 0 | Loss: 1.2591233253479004 | Accuracy: 50.0%\n",
            "GB | Epoch 0 | Loss: 1.2294349670410156 | Accuracy: 56.25%\n",
            "GB | Epoch 0 | Loss: 1.3662292957305908 | Accuracy: 43.75%\n",
            "GB | Epoch 0 | Loss: 1.3368972539901733 | Accuracy: 53.125%\n",
            "GB | Epoch 0 | Loss: 1.3781721591949463 | Accuracy: 45.3125%\n",
            "GB | Epoch 0 | Loss: 1.3478598594665527 | Accuracy: 51.5625%\n",
            "GB | Epoch 0 | Loss: 1.36918044090271 | Accuracy: 46.875%\n",
            "GB | Epoch 0 | Loss: 1.2860455513000488 | Accuracy: 53.125%\n"
          ]
        },
        {
          "output_type": "stream",
          "name": "stderr",
          "text": [
            "Epoch 0:  34%|███▍      | 256/751 [00:07<00:11, 44.99batch/s, accuracy=50.0%, loss=1.3]"
          ]
        },
        {
          "output_type": "stream",
          "name": "stdout",
          "text": [
            "GB | Epoch 0 | Loss: 1.2652132511138916 | Accuracy: 51.5625%\n",
            "GB | Epoch 0 | Loss: 1.1388559341430664 | Accuracy: 62.5%\n",
            "GB | Epoch 0 | Loss: 1.3187754154205322 | Accuracy: 50.0%\n",
            "GB | Epoch 0 | Loss: 1.3003267049789429 | Accuracy: 48.4375%\n",
            "GB | Epoch 0 | Loss: 1.3338803052902222 | Accuracy: 46.875%\n",
            "GB | Epoch 0 | Loss: 1.248576045036316 | Accuracy: 53.125%\n",
            "GB | Epoch 0 | Loss: 1.265214443206787 | Accuracy: 53.125%\n",
            "GB | Epoch 0 | Loss: 1.331741452217102 | Accuracy: 50.0%\n",
            "GB | Epoch 0 | Loss: 1.248552680015564 | Accuracy: 53.125%\n",
            "GB | Epoch 0 | Loss: 1.2974746227264404 | Accuracy: 50.0%\n"
          ]
        },
        {
          "output_type": "stream",
          "name": "stderr",
          "text": [
            "Epoch 0:  35%|███▌      | 266/751 [00:07<00:10, 45.07batch/s, accuracy=60.9375%, loss=1.12]"
          ]
        },
        {
          "output_type": "stream",
          "name": "stdout",
          "text": [
            "GB | Epoch 0 | Loss: 1.3276962041854858 | Accuracy: 50.0%\n",
            "GB | Epoch 0 | Loss: 1.3606847524642944 | Accuracy: 43.75%\n",
            "GB | Epoch 0 | Loss: 1.2623497247695923 | Accuracy: 56.25%\n",
            "GB | Epoch 0 | Loss: 1.2253737449645996 | Accuracy: 54.6875%\n",
            "GB | Epoch 0 | Loss: 1.390042781829834 | Accuracy: 42.1875%\n",
            "GB | Epoch 0 | Loss: 1.2994142770767212 | Accuracy: 48.4375%\n",
            "GB | Epoch 0 | Loss: 1.3516427278518677 | Accuracy: 48.4375%\n",
            "GB | Epoch 0 | Loss: 1.0847851037979126 | Accuracy: 68.75%\n",
            "GB | Epoch 0 | Loss: 1.2849458456039429 | Accuracy: 51.5625%\n",
            "GB | Epoch 0 | Loss: 1.118485927581787 | Accuracy: 60.9375%\n"
          ]
        },
        {
          "output_type": "stream",
          "name": "stderr",
          "text": [
            "Epoch 0:  36%|███▌      | 271/751 [00:07<00:10, 45.23batch/s, accuracy=40.625%, loss=1.42] "
          ]
        },
        {
          "output_type": "stream",
          "name": "stdout",
          "text": [
            "GB | Epoch 0 | Loss: 1.2969355583190918 | Accuracy: 53.125%\n",
            "GB | Epoch 0 | Loss: 1.2284071445465088 | Accuracy: 54.6875%\n",
            "GB | Epoch 0 | Loss: 1.4098036289215088 | Accuracy: 42.1875%\n",
            "GB | Epoch 0 | Loss: 1.2712664604187012 | Accuracy: 56.25%\n",
            "GB | Epoch 0 | Loss: 1.3026570081710815 | Accuracy: 51.5625%\n",
            "GB | Epoch 0 | Loss: 1.4831688404083252 | Accuracy: 37.5%\n",
            "GB | Epoch 0 | Loss: 1.3128360509872437 | Accuracy: 46.875%\n",
            "GB | Epoch 0 | Loss: 1.260774850845337 | Accuracy: 54.6875%\n",
            "GB | Epoch 0 | Loss: 1.4202213287353516 | Accuracy: 40.625%\n"
          ]
        },
        {
          "output_type": "stream",
          "name": "stderr",
          "text": [
            "Epoch 0:  37%|███▋      | 281/751 [00:07<00:11, 42.30batch/s, accuracy=45.3125%, loss=1.32]"
          ]
        },
        {
          "output_type": "stream",
          "name": "stdout",
          "text": [
            "GB | Epoch 0 | Loss: 1.177733063697815 | Accuracy: 56.25%\n",
            "GB | Epoch 0 | Loss: 1.3198120594024658 | Accuracy: 50.0%\n",
            "GB | Epoch 0 | Loss: 1.4409661293029785 | Accuracy: 42.1875%\n",
            "GB | Epoch 0 | Loss: 1.3062281608581543 | Accuracy: 51.5625%\n",
            "GB | Epoch 0 | Loss: 1.2329033613204956 | Accuracy: 53.125%\n",
            "GB | Epoch 0 | Loss: 1.2225761413574219 | Accuracy: 56.25%\n",
            "GB | Epoch 0 | Loss: 1.1750476360321045 | Accuracy: 56.25%\n",
            "GB | Epoch 0 | Loss: 1.3172059059143066 | Accuracy: 45.3125%\n"
          ]
        },
        {
          "output_type": "stream",
          "name": "stderr",
          "text": [
            "Epoch 0:  39%|███▊      | 291/751 [00:08<00:10, 42.79batch/s, accuracy=43.75%, loss=1.36] "
          ]
        },
        {
          "output_type": "stream",
          "name": "stdout",
          "text": [
            "GB | Epoch 0 | Loss: 1.3845221996307373 | Accuracy: 43.75%\n",
            "GB | Epoch 0 | Loss: 1.30171537399292 | Accuracy: 51.5625%\n",
            "GB | Epoch 0 | Loss: 1.1839150190353394 | Accuracy: 59.375%\n",
            "GB | Epoch 0 | Loss: 1.2682210206985474 | Accuracy: 54.6875%\n",
            "GB | Epoch 0 | Loss: 1.4269139766693115 | Accuracy: 42.1875%\n",
            "GB | Epoch 0 | Loss: 1.359588861465454 | Accuracy: 45.3125%\n",
            "GB | Epoch 0 | Loss: 1.218937635421753 | Accuracy: 54.6875%\n",
            "GB | Epoch 0 | Loss: 1.3805270195007324 | Accuracy: 43.75%\n",
            "GB | Epoch 0 | Loss: 1.1544628143310547 | Accuracy: 59.375%\n",
            "GB | Epoch 0 | Loss: 1.35995614528656 | Accuracy: 43.75%\n"
          ]
        },
        {
          "output_type": "stream",
          "name": "stderr",
          "text": [
            "Epoch 0:  40%|████      | 301/751 [00:08<00:10, 44.39batch/s, accuracy=43.75%, loss=1.35]"
          ]
        },
        {
          "output_type": "stream",
          "name": "stdout",
          "text": [
            "GB | Epoch 0 | Loss: 1.1384276151657104 | Accuracy: 62.5%\n",
            "GB | Epoch 0 | Loss: 1.2293916940689087 | Accuracy: 53.125%\n",
            "GB | Epoch 0 | Loss: 1.243072748184204 | Accuracy: 51.5625%\n",
            "GB | Epoch 0 | Loss: 1.4284213781356812 | Accuracy: 42.1875%\n",
            "GB | Epoch 0 | Loss: 1.3026173114776611 | Accuracy: 45.3125%\n",
            "GB | Epoch 0 | Loss: 1.4389047622680664 | Accuracy: 37.5%\n",
            "GB | Epoch 0 | Loss: 1.4030752182006836 | Accuracy: 42.1875%\n",
            "GB | Epoch 0 | Loss: 1.275174617767334 | Accuracy: 51.5625%\n",
            "GB | Epoch 0 | Loss: 1.2155832052230835 | Accuracy: 56.25%\n",
            "GB | Epoch 0 | Loss: 1.3479623794555664 | Accuracy: 43.75%\n"
          ]
        },
        {
          "output_type": "stream",
          "name": "stderr",
          "text": [
            "Epoch 0:  41%|████▏     | 311/751 [00:08<00:09, 45.26batch/s, accuracy=43.75%, loss=1.37] "
          ]
        },
        {
          "output_type": "stream",
          "name": "stdout",
          "text": [
            "GB | Epoch 0 | Loss: 1.3737517595291138 | Accuracy: 42.1875%\n",
            "GB | Epoch 0 | Loss: 1.1960545778274536 | Accuracy: 54.6875%\n",
            "GB | Epoch 0 | Loss: 1.2972462177276611 | Accuracy: 53.125%\n",
            "GB | Epoch 0 | Loss: 1.303009271621704 | Accuracy: 50.0%\n",
            "GB | Epoch 0 | Loss: 1.4130796194076538 | Accuracy: 39.0625%\n",
            "GB | Epoch 0 | Loss: 1.327194333076477 | Accuracy: 51.5625%\n",
            "GB | Epoch 0 | Loss: 1.3037809133529663 | Accuracy: 48.4375%\n",
            "GB | Epoch 0 | Loss: 1.262291431427002 | Accuracy: 48.4375%\n",
            "GB | Epoch 0 | Loss: 1.1960045099258423 | Accuracy: 57.8125%\n",
            "GB | Epoch 0 | Loss: 1.3717440366744995 | Accuracy: 43.75%\n"
          ]
        },
        {
          "output_type": "stream",
          "name": "stderr",
          "text": [
            "Epoch 0:  43%|████▎     | 321/751 [00:08<00:10, 42.92batch/s, accuracy=54.6875%, loss=1.26]"
          ]
        },
        {
          "output_type": "stream",
          "name": "stdout",
          "text": [
            "GB | Epoch 0 | Loss: 1.1848647594451904 | Accuracy: 59.375%\n",
            "GB | Epoch 0 | Loss: 1.2771764993667603 | Accuracy: 53.125%\n",
            "GB | Epoch 0 | Loss: 1.351631999015808 | Accuracy: 45.3125%\n",
            "GB | Epoch 0 | Loss: 1.245266079902649 | Accuracy: 54.6875%\n",
            "GB | Epoch 0 | Loss: 1.2829259634017944 | Accuracy: 50.0%\n",
            "GB | Epoch 0 | Loss: 1.3106762170791626 | Accuracy: 46.875%\n",
            "GB | Epoch 0 | Loss: 1.3420052528381348 | Accuracy: 45.3125%\n",
            "GB | Epoch 0 | Loss: 1.2651106119155884 | Accuracy: 50.0%\n",
            "GB | Epoch 0 | Loss: 1.2553802728652954 | Accuracy: 54.6875%\n"
          ]
        },
        {
          "output_type": "stream",
          "name": "stderr",
          "text": [
            "Epoch 0:  44%|████▍     | 331/751 [00:08<00:10, 41.84batch/s, accuracy=51.5625%, loss=1.33]"
          ]
        },
        {
          "output_type": "stream",
          "name": "stdout",
          "text": [
            "GB | Epoch 0 | Loss: 1.2541323900222778 | Accuracy: 53.125%\n",
            "GB | Epoch 0 | Loss: 1.2190310955047607 | Accuracy: 54.6875%\n",
            "GB | Epoch 0 | Loss: 1.2418166399002075 | Accuracy: 53.125%\n",
            "GB | Epoch 0 | Loss: 1.2616004943847656 | Accuracy: 50.0%\n",
            "GB | Epoch 0 | Loss: 1.280408501625061 | Accuracy: 48.4375%\n",
            "GB | Epoch 0 | Loss: 1.1891558170318604 | Accuracy: 59.375%\n",
            "GB | Epoch 0 | Loss: 1.255103588104248 | Accuracy: 50.0%\n",
            "GB | Epoch 0 | Loss: 1.2559585571289062 | Accuracy: 51.5625%\n",
            "GB | Epoch 0 | Loss: 1.328861117362976 | Accuracy: 51.5625%\n"
          ]
        },
        {
          "output_type": "stream",
          "name": "stderr",
          "text": [
            "Epoch 0:  45%|████▌     | 341/751 [00:09<00:09, 43.72batch/s, accuracy=53.125%, loss=1.27]"
          ]
        },
        {
          "output_type": "stream",
          "name": "stdout",
          "text": [
            "GB | Epoch 0 | Loss: 1.500680685043335 | Accuracy: 37.5%\n",
            "GB | Epoch 0 | Loss: 1.0901750326156616 | Accuracy: 62.5%\n",
            "GB | Epoch 0 | Loss: 1.3890187740325928 | Accuracy: 39.0625%\n",
            "GB | Epoch 0 | Loss: 1.2975093126296997 | Accuracy: 48.4375%\n",
            "GB | Epoch 0 | Loss: 1.2879712581634521 | Accuracy: 51.5625%\n",
            "GB | Epoch 0 | Loss: 1.2564250230789185 | Accuracy: 53.125%\n",
            "GB | Epoch 0 | Loss: 1.1341679096221924 | Accuracy: 64.0625%\n",
            "GB | Epoch 0 | Loss: 1.2215813398361206 | Accuracy: 53.125%\n",
            "GB | Epoch 0 | Loss: 1.2613886594772339 | Accuracy: 51.5625%\n",
            "GB | Epoch 0 | Loss: 1.2657005786895752 | Accuracy: 53.125%\n"
          ]
        },
        {
          "output_type": "stream",
          "name": "stderr",
          "text": [
            "Epoch 0:  47%|████▋     | 351/751 [00:09<00:09, 44.39batch/s, accuracy=45.3125%, loss=1.3]"
          ]
        },
        {
          "output_type": "stream",
          "name": "stdout",
          "text": [
            "GB | Epoch 0 | Loss: 1.1704626083374023 | Accuracy: 57.8125%\n",
            "GB | Epoch 0 | Loss: 1.2648301124572754 | Accuracy: 51.5625%\n",
            "GB | Epoch 0 | Loss: 1.2571417093276978 | Accuracy: 51.5625%\n",
            "GB | Epoch 0 | Loss: 1.2080557346343994 | Accuracy: 51.5625%\n",
            "GB | Epoch 0 | Loss: 1.279733657836914 | Accuracy: 50.0%\n",
            "GB | Epoch 0 | Loss: 1.1719675064086914 | Accuracy: 59.375%\n",
            "GB | Epoch 0 | Loss: 1.2261852025985718 | Accuracy: 54.6875%\n",
            "GB | Epoch 0 | Loss: 1.2568049430847168 | Accuracy: 51.5625%\n",
            "GB | Epoch 0 | Loss: 1.373106837272644 | Accuracy: 43.75%\n",
            "GB | Epoch 0 | Loss: 1.304291009902954 | Accuracy: 45.3125%\n"
          ]
        },
        {
          "output_type": "stream",
          "name": "stderr",
          "text": [
            "Epoch 0:  47%|████▋     | 356/751 [00:09<00:08, 44.44batch/s, accuracy=50.0%, loss=1.32]  "
          ]
        },
        {
          "output_type": "stream",
          "name": "stdout",
          "text": [
            "GB | Epoch 0 | Loss: 1.3224573135375977 | Accuracy: 45.3125%\n",
            "GB | Epoch 0 | Loss: 1.2921653985977173 | Accuracy: 50.0%\n",
            "GB | Epoch 0 | Loss: 1.2405487298965454 | Accuracy: 53.125%\n",
            "GB | Epoch 0 | Loss: 1.2512673139572144 | Accuracy: 50.0%\n",
            "GB | Epoch 0 | Loss: 1.3478453159332275 | Accuracy: 45.3125%\n",
            "GB | Epoch 0 | Loss: 1.104952335357666 | Accuracy: 60.9375%\n",
            "GB | Epoch 0 | Loss: 1.431261420249939 | Accuracy: 40.625%\n",
            "GB | Epoch 0 | Loss: 1.3422881364822388 | Accuracy: 46.875%\n",
            "GB | Epoch 0 | Loss: 1.3232028484344482 | Accuracy: 50.0%\n"
          ]
        },
        {
          "output_type": "stream",
          "name": "stderr",
          "text": [
            "Epoch 0:  49%|████▊     | 366/751 [00:09<00:09, 41.68batch/s, accuracy=50.0%, loss=1.26]   "
          ]
        },
        {
          "output_type": "stream",
          "name": "stdout",
          "text": [
            "GB | Epoch 0 | Loss: 1.2624919414520264 | Accuracy: 50.0%\n",
            "GB | Epoch 0 | Loss: 1.2928460836410522 | Accuracy: 46.875%\n",
            "GB | Epoch 0 | Loss: 1.095030426979065 | Accuracy: 64.0625%\n",
            "GB | Epoch 0 | Loss: 1.2609245777130127 | Accuracy: 50.0%\n",
            "GB | Epoch 0 | Loss: 1.3443596363067627 | Accuracy: 43.75%\n",
            "GB | Epoch 0 | Loss: 1.224334478378296 | Accuracy: 53.125%\n",
            "GB | Epoch 0 | Loss: 1.280295491218567 | Accuracy: 48.4375%\n",
            "GB | Epoch 0 | Loss: 1.2627171277999878 | Accuracy: 50.0%\n"
          ]
        },
        {
          "output_type": "stream",
          "name": "stderr",
          "text": [
            "Epoch 0:  50%|█████     | 376/751 [00:10<00:08, 41.68batch/s, accuracy=60.9375%, loss=1.14]"
          ]
        },
        {
          "output_type": "stream",
          "name": "stdout",
          "text": [
            "GB | Epoch 0 | Loss: 1.2766973972320557 | Accuracy: 46.875%\n",
            "GB | Epoch 0 | Loss: 1.3014978170394897 | Accuracy: 51.5625%\n",
            "GB | Epoch 0 | Loss: 1.2541006803512573 | Accuracy: 53.125%\n",
            "GB | Epoch 0 | Loss: 1.312177062034607 | Accuracy: 46.875%\n",
            "GB | Epoch 0 | Loss: 1.2159260511398315 | Accuracy: 51.5625%\n",
            "GB | Epoch 0 | Loss: 1.220808506011963 | Accuracy: 54.6875%\n",
            "GB | Epoch 0 | Loss: 1.1629465818405151 | Accuracy: 57.8125%\n",
            "GB | Epoch 0 | Loss: 0.9796444177627563 | Accuracy: 71.875%\n",
            "GB | Epoch 0 | Loss: 1.1370488405227661 | Accuracy: 60.9375%\n"
          ]
        },
        {
          "output_type": "stream",
          "name": "stderr",
          "text": [
            "Epoch 0:  51%|█████▏    | 386/751 [00:10<00:08, 43.52batch/s, accuracy=51.5625%, loss=1.23]"
          ]
        },
        {
          "output_type": "stream",
          "name": "stdout",
          "text": [
            "GB | Epoch 0 | Loss: 1.1857184171676636 | Accuracy: 60.9375%\n",
            "GB | Epoch 0 | Loss: 1.2523137331008911 | Accuracy: 51.5625%\n",
            "GB | Epoch 0 | Loss: 1.2263686656951904 | Accuracy: 54.6875%\n",
            "GB | Epoch 0 | Loss: 1.2726250886917114 | Accuracy: 53.125%\n",
            "GB | Epoch 0 | Loss: 1.2603754997253418 | Accuracy: 51.5625%\n",
            "GB | Epoch 0 | Loss: 1.2849420309066772 | Accuracy: 48.4375%\n",
            "GB | Epoch 0 | Loss: 1.2411425113677979 | Accuracy: 46.875%\n",
            "GB | Epoch 0 | Loss: 1.1136367321014404 | Accuracy: 59.375%\n",
            "GB | Epoch 0 | Loss: 1.3042868375778198 | Accuracy: 45.3125%\n",
            "GB | Epoch 0 | Loss: 1.232438564300537 | Accuracy: 51.5625%\n"
          ]
        },
        {
          "output_type": "stream",
          "name": "stderr",
          "text": [
            "Epoch 0:  53%|█████▎    | 396/751 [00:10<00:07, 44.44batch/s, accuracy=50.0%, loss=1.2]    "
          ]
        },
        {
          "output_type": "stream",
          "name": "stdout",
          "text": [
            "GB | Epoch 0 | Loss: 1.1895138025283813 | Accuracy: 51.5625%\n",
            "GB | Epoch 0 | Loss: 1.2883867025375366 | Accuracy: 46.875%\n",
            "GB | Epoch 0 | Loss: 1.2258071899414062 | Accuracy: 54.6875%\n",
            "GB | Epoch 0 | Loss: 1.2863280773162842 | Accuracy: 51.5625%\n",
            "GB | Epoch 0 | Loss: 1.26059889793396 | Accuracy: 50.0%\n",
            "GB | Epoch 0 | Loss: 1.2379045486450195 | Accuracy: 53.125%\n",
            "GB | Epoch 0 | Loss: 1.396484375 | Accuracy: 42.1875%\n",
            "GB | Epoch 0 | Loss: 1.2271177768707275 | Accuracy: 54.6875%\n",
            "GB | Epoch 0 | Loss: 1.3100547790527344 | Accuracy: 48.4375%\n",
            "GB | Epoch 0 | Loss: 1.19869065284729 | Accuracy: 50.0%\n"
          ]
        },
        {
          "output_type": "stream",
          "name": "stderr",
          "text": [
            "Epoch 0:  54%|█████▍    | 406/751 [00:10<00:08, 42.63batch/s, accuracy=54.6875%, loss=1.18]"
          ]
        },
        {
          "output_type": "stream",
          "name": "stdout",
          "text": [
            "GB | Epoch 0 | Loss: 1.3411147594451904 | Accuracy: 48.4375%\n",
            "GB | Epoch 0 | Loss: 1.127588152885437 | Accuracy: 60.9375%\n",
            "GB | Epoch 0 | Loss: 1.1686149835586548 | Accuracy: 53.125%\n",
            "GB | Epoch 0 | Loss: 1.2535938024520874 | Accuracy: 48.4375%\n",
            "GB | Epoch 0 | Loss: 1.3591151237487793 | Accuracy: 45.3125%\n",
            "GB | Epoch 0 | Loss: 1.2436915636062622 | Accuracy: 51.5625%\n",
            "GB | Epoch 0 | Loss: 1.0957245826721191 | Accuracy: 60.9375%\n",
            "GB | Epoch 0 | Loss: 1.1801599264144897 | Accuracy: 59.375%\n",
            "GB | Epoch 0 | Loss: 1.1797754764556885 | Accuracy: 54.6875%\n"
          ]
        },
        {
          "output_type": "stream",
          "name": "stderr",
          "text": [
            "Epoch 0:  55%|█████▍    | 411/751 [00:10<00:08, 40.59batch/s, accuracy=48.4375%, loss=1.3]"
          ]
        },
        {
          "output_type": "stream",
          "name": "stdout",
          "text": [
            "GB | Epoch 0 | Loss: 1.167296051979065 | Accuracy: 57.8125%\n",
            "GB | Epoch 0 | Loss: 1.1655123233795166 | Accuracy: 60.9375%\n",
            "GB | Epoch 0 | Loss: 1.2734321355819702 | Accuracy: 48.4375%\n",
            "GB | Epoch 0 | Loss: 1.093898057937622 | Accuracy: 60.9375%\n",
            "GB | Epoch 0 | Loss: 1.1410624980926514 | Accuracy: 57.8125%\n",
            "GB | Epoch 0 | Loss: 1.1974276304244995 | Accuracy: 53.125%\n",
            "GB | Epoch 0 | Loss: 1.3199522495269775 | Accuracy: 48.4375%\n",
            "GB | Epoch 0 | Loss: 1.1868202686309814 | Accuracy: 56.25%\n",
            "GB | Epoch 0 | Loss: 1.295662522315979 | Accuracy: 48.4375%\n"
          ]
        },
        {
          "output_type": "stream",
          "name": "stderr",
          "text": [
            "Epoch 0:  56%|█████▌    | 421/751 [00:11<00:07, 41.66batch/s, accuracy=60.9375%, loss=1.13]"
          ]
        },
        {
          "output_type": "stream",
          "name": "stdout",
          "text": [
            "GB | Epoch 0 | Loss: 1.2648922204971313 | Accuracy: 50.0%\n",
            "GB | Epoch 0 | Loss: 1.2117384672164917 | Accuracy: 50.0%\n",
            "GB | Epoch 0 | Loss: 1.1031616926193237 | Accuracy: 59.375%\n",
            "GB | Epoch 0 | Loss: 1.1771992444992065 | Accuracy: 60.9375%\n",
            "GB | Epoch 0 | Loss: 1.255265235900879 | Accuracy: 50.0%\n",
            "GB | Epoch 0 | Loss: 1.273830771446228 | Accuracy: 51.5625%\n",
            "GB | Epoch 0 | Loss: 1.2118287086486816 | Accuracy: 54.6875%\n",
            "GB | Epoch 0 | Loss: 1.156508445739746 | Accuracy: 59.375%\n",
            "GB | Epoch 0 | Loss: 1.2602269649505615 | Accuracy: 53.125%\n",
            "GB | Epoch 0 | Loss: 1.1325782537460327 | Accuracy: 60.9375%\n"
          ]
        },
        {
          "output_type": "stream",
          "name": "stderr",
          "text": [
            "Epoch 0:  57%|█████▋    | 431/751 [00:11<00:07, 42.88batch/s, accuracy=50.0%, loss=1.24]  "
          ]
        },
        {
          "output_type": "stream",
          "name": "stdout",
          "text": [
            "GB | Epoch 0 | Loss: 1.247231125831604 | Accuracy: 46.875%\n",
            "GB | Epoch 0 | Loss: 1.1321265697479248 | Accuracy: 60.9375%\n",
            "GB | Epoch 0 | Loss: 1.172640085220337 | Accuracy: 54.6875%\n",
            "GB | Epoch 0 | Loss: 1.3127907514572144 | Accuracy: 46.875%\n",
            "GB | Epoch 0 | Loss: 1.2696667909622192 | Accuracy: 48.4375%\n",
            "GB | Epoch 0 | Loss: 1.1491661071777344 | Accuracy: 56.25%\n",
            "GB | Epoch 0 | Loss: 1.1013942956924438 | Accuracy: 59.375%\n",
            "GB | Epoch 0 | Loss: 1.211108922958374 | Accuracy: 53.125%\n",
            "GB | Epoch 0 | Loss: 1.1106146574020386 | Accuracy: 59.375%\n"
          ]
        },
        {
          "output_type": "stream",
          "name": "stderr",
          "text": [
            "Epoch 0:  59%|█████▊    | 441/751 [00:11<00:07, 44.21batch/s, accuracy=53.125%, loss=1.27]"
          ]
        },
        {
          "output_type": "stream",
          "name": "stdout",
          "text": [
            "GB | Epoch 0 | Loss: 1.2405667304992676 | Accuracy: 50.0%\n",
            "GB | Epoch 0 | Loss: 1.380338191986084 | Accuracy: 43.75%\n",
            "GB | Epoch 0 | Loss: 1.2113978862762451 | Accuracy: 53.125%\n",
            "GB | Epoch 0 | Loss: 1.1554434299468994 | Accuracy: 56.25%\n",
            "GB | Epoch 0 | Loss: 1.0880661010742188 | Accuracy: 60.9375%\n",
            "GB | Epoch 0 | Loss: 1.146833896636963 | Accuracy: 53.125%\n",
            "GB | Epoch 0 | Loss: 1.0994691848754883 | Accuracy: 65.625%\n",
            "GB | Epoch 0 | Loss: 1.3327325582504272 | Accuracy: 45.3125%\n",
            "GB | Epoch 0 | Loss: 1.1709709167480469 | Accuracy: 53.125%\n",
            "GB | Epoch 0 | Loss: 1.2682640552520752 | Accuracy: 53.125%\n"
          ]
        },
        {
          "output_type": "stream",
          "name": "stderr",
          "text": [
            "Epoch 0:  60%|██████    | 451/751 [00:11<00:07, 41.39batch/s, accuracy=45.3125%, loss=1.28]"
          ]
        },
        {
          "output_type": "stream",
          "name": "stdout",
          "text": [
            "GB | Epoch 0 | Loss: 1.2721959352493286 | Accuracy: 56.25%\n",
            "GB | Epoch 0 | Loss: 1.2566996812820435 | Accuracy: 54.6875%\n",
            "GB | Epoch 0 | Loss: 1.2568763494491577 | Accuracy: 48.4375%\n",
            "GB | Epoch 0 | Loss: 1.1758183240890503 | Accuracy: 56.25%\n",
            "GB | Epoch 0 | Loss: 1.1517471075057983 | Accuracy: 57.8125%\n",
            "GB | Epoch 0 | Loss: 1.0780199766159058 | Accuracy: 60.9375%\n",
            "GB | Epoch 0 | Loss: 1.0964021682739258 | Accuracy: 57.8125%\n",
            "GB | Epoch 0 | Loss: 1.2829015254974365 | Accuracy: 45.3125%\n"
          ]
        },
        {
          "output_type": "stream",
          "name": "stderr",
          "text": [
            "Epoch 0:  61%|██████▏   | 461/751 [00:12<00:06, 41.77batch/s, accuracy=46.875%, loss=1.33]"
          ]
        },
        {
          "output_type": "stream",
          "name": "stdout",
          "text": [
            "GB | Epoch 0 | Loss: 1.1759240627288818 | Accuracy: 57.8125%\n",
            "GB | Epoch 0 | Loss: 1.3197288513183594 | Accuracy: 43.75%\n",
            "GB | Epoch 0 | Loss: 1.324196696281433 | Accuracy: 42.1875%\n",
            "GB | Epoch 0 | Loss: 1.211303472518921 | Accuracy: 54.6875%\n",
            "GB | Epoch 0 | Loss: 1.1058629751205444 | Accuracy: 64.0625%\n",
            "GB | Epoch 0 | Loss: 1.0276005268096924 | Accuracy: 64.0625%\n",
            "GB | Epoch 0 | Loss: 1.1710588932037354 | Accuracy: 56.25%\n",
            "GB | Epoch 0 | Loss: 1.2663624286651611 | Accuracy: 51.5625%\n",
            "GB | Epoch 0 | Loss: 1.325993299484253 | Accuracy: 46.875%\n"
          ]
        },
        {
          "output_type": "stream",
          "name": "stderr",
          "text": [
            "Epoch 0:  63%|██████▎   | 471/751 [00:12<00:06, 43.03batch/s, accuracy=53.125%, loss=1.23]"
          ]
        },
        {
          "output_type": "stream",
          "name": "stdout",
          "text": [
            "GB | Epoch 0 | Loss: 1.1997630596160889 | Accuracy: 56.25%\n",
            "GB | Epoch 0 | Loss: 1.1653003692626953 | Accuracy: 59.375%\n",
            "GB | Epoch 0 | Loss: 1.3036623001098633 | Accuracy: 46.875%\n",
            "GB | Epoch 0 | Loss: 1.2766228914260864 | Accuracy: 42.1875%\n",
            "GB | Epoch 0 | Loss: 1.1787972450256348 | Accuracy: 54.6875%\n",
            "GB | Epoch 0 | Loss: 1.1976834535598755 | Accuracy: 57.8125%\n",
            "GB | Epoch 0 | Loss: 1.1063618659973145 | Accuracy: 57.8125%\n",
            "GB | Epoch 0 | Loss: 1.1906259059906006 | Accuracy: 56.25%\n",
            "GB | Epoch 0 | Loss: 1.2511000633239746 | Accuracy: 46.875%\n",
            "GB | Epoch 0 | Loss: 1.2337745428085327 | Accuracy: 53.125%\n"
          ]
        },
        {
          "output_type": "stream",
          "name": "stderr",
          "text": [
            "Epoch 0:  64%|██████▍   | 481/751 [00:12<00:06, 44.27batch/s, accuracy=54.6875%, loss=1.18]"
          ]
        },
        {
          "output_type": "stream",
          "name": "stdout",
          "text": [
            "GB | Epoch 0 | Loss: 1.0995668172836304 | Accuracy: 54.6875%\n",
            "GB | Epoch 0 | Loss: 1.1208068132400513 | Accuracy: 57.8125%\n",
            "GB | Epoch 0 | Loss: 1.2371337413787842 | Accuracy: 51.5625%\n",
            "GB | Epoch 0 | Loss: 1.0530129671096802 | Accuracy: 60.9375%\n",
            "GB | Epoch 0 | Loss: 1.2780866622924805 | Accuracy: 43.75%\n",
            "GB | Epoch 0 | Loss: 1.0502902269363403 | Accuracy: 59.375%\n",
            "GB | Epoch 0 | Loss: 1.3272550106048584 | Accuracy: 46.875%\n",
            "GB | Epoch 0 | Loss: 1.1107232570648193 | Accuracy: 59.375%\n",
            "GB | Epoch 0 | Loss: 1.1754233837127686 | Accuracy: 56.25%\n",
            "GB | Epoch 0 | Loss: 1.1809109449386597 | Accuracy: 54.6875%\n"
          ]
        },
        {
          "output_type": "stream",
          "name": "stderr",
          "text": [
            "Epoch 0:  65%|██████▍   | 486/751 [00:12<00:05, 44.76batch/s, accuracy=59.375%, loss=1.07]  "
          ]
        },
        {
          "output_type": "stream",
          "name": "stdout",
          "text": [
            "GB | Epoch 0 | Loss: 1.3241355419158936 | Accuracy: 48.4375%\n",
            "GB | Epoch 0 | Loss: 1.2832911014556885 | Accuracy: 45.3125%\n",
            "GB | Epoch 0 | Loss: 1.2246061563491821 | Accuracy: 53.125%\n",
            "GB | Epoch 0 | Loss: 1.088712215423584 | Accuracy: 60.9375%\n",
            "GB | Epoch 0 | Loss: 1.1629880666732788 | Accuracy: 50.0%\n",
            "GB | Epoch 0 | Loss: 1.2226730585098267 | Accuracy: 50.0%\n",
            "GB | Epoch 0 | Loss: 1.1934971809387207 | Accuracy: 56.25%\n",
            "GB | Epoch 0 | Loss: 0.9941850304603577 | Accuracy: 64.0625%\n",
            "GB | Epoch 0 | Loss: 1.0658460855484009 | Accuracy: 59.375%\n"
          ]
        },
        {
          "output_type": "stream",
          "name": "stderr",
          "text": [
            "Epoch 0:  66%|██████▌   | 496/751 [00:12<00:06, 42.23batch/s, accuracy=62.5%, loss=1.11]   "
          ]
        },
        {
          "output_type": "stream",
          "name": "stdout",
          "text": [
            "GB | Epoch 0 | Loss: 1.189131736755371 | Accuracy: 50.0%\n",
            "GB | Epoch 0 | Loss: 1.1819086074829102 | Accuracy: 53.125%\n",
            "GB | Epoch 0 | Loss: 1.213379144668579 | Accuracy: 54.6875%\n",
            "GB | Epoch 0 | Loss: 1.0699670314788818 | Accuracy: 56.25%\n",
            "GB | Epoch 0 | Loss: 1.0091100931167603 | Accuracy: 62.5%\n",
            "GB | Epoch 0 | Loss: 1.206710934638977 | Accuracy: 51.5625%\n",
            "GB | Epoch 0 | Loss: 1.1621248722076416 | Accuracy: 54.6875%\n",
            "GB | Epoch 0 | Loss: 1.214236855506897 | Accuracy: 51.5625%\n",
            "GB | Epoch 0 | Loss: 1.1082656383514404 | Accuracy: 62.5%\n"
          ]
        },
        {
          "output_type": "stream",
          "name": "stderr",
          "text": [
            "Epoch 0:  67%|██████▋   | 506/751 [00:13<00:05, 42.44batch/s, accuracy=46.875%, loss=1.3] "
          ]
        },
        {
          "output_type": "stream",
          "name": "stdout",
          "text": [
            "GB | Epoch 0 | Loss: 1.2413208484649658 | Accuracy: 48.4375%\n",
            "GB | Epoch 0 | Loss: 1.2551608085632324 | Accuracy: 48.4375%\n",
            "GB | Epoch 0 | Loss: 1.2356544733047485 | Accuracy: 50.0%\n",
            "GB | Epoch 0 | Loss: 1.0637458562850952 | Accuracy: 56.25%\n",
            "GB | Epoch 0 | Loss: 1.2367942333221436 | Accuracy: 45.3125%\n",
            "GB | Epoch 0 | Loss: 1.1444015502929688 | Accuracy: 64.0625%\n",
            "GB | Epoch 0 | Loss: 1.0565441846847534 | Accuracy: 64.0625%\n",
            "GB | Epoch 0 | Loss: 1.285677194595337 | Accuracy: 53.125%\n",
            "GB | Epoch 0 | Loss: 1.3036282062530518 | Accuracy: 46.875%\n"
          ]
        },
        {
          "output_type": "stream",
          "name": "stderr",
          "text": [
            "Epoch 0:  69%|██████▊   | 516/751 [00:13<00:05, 43.48batch/s, accuracy=59.375%, loss=1.14]"
          ]
        },
        {
          "output_type": "stream",
          "name": "stdout",
          "text": [
            "GB | Epoch 0 | Loss: 0.9600722193717957 | Accuracy: 62.5%\n",
            "GB | Epoch 0 | Loss: 0.9801250696182251 | Accuracy: 70.3125%\n",
            "GB | Epoch 0 | Loss: 1.3081274032592773 | Accuracy: 40.625%\n",
            "GB | Epoch 0 | Loss: 1.2248274087905884 | Accuracy: 48.4375%\n",
            "GB | Epoch 0 | Loss: 0.9063215851783752 | Accuracy: 71.875%\n",
            "GB | Epoch 0 | Loss: 1.032881736755371 | Accuracy: 60.9375%\n",
            "GB | Epoch 0 | Loss: 1.0477949380874634 | Accuracy: 59.375%\n",
            "GB | Epoch 0 | Loss: 1.3051567077636719 | Accuracy: 46.875%\n",
            "GB | Epoch 0 | Loss: 1.1486201286315918 | Accuracy: 56.25%\n",
            "GB | Epoch 0 | Loss: 1.143066644668579 | Accuracy: 59.375%\n"
          ]
        },
        {
          "output_type": "stream",
          "name": "stderr",
          "text": [
            "Epoch 0:  70%|███████   | 526/751 [00:13<00:05, 43.89batch/s, accuracy=50.0%, loss=1.19] "
          ]
        },
        {
          "output_type": "stream",
          "name": "stdout",
          "text": [
            "GB | Epoch 0 | Loss: 1.1083273887634277 | Accuracy: 57.8125%\n",
            "GB | Epoch 0 | Loss: 1.1317627429962158 | Accuracy: 62.5%\n",
            "GB | Epoch 0 | Loss: 1.0125558376312256 | Accuracy: 73.4375%\n",
            "GB | Epoch 0 | Loss: 1.1034449338912964 | Accuracy: 70.3125%\n",
            "GB | Epoch 0 | Loss: 0.9429987072944641 | Accuracy: 71.875%\n",
            "GB | Epoch 0 | Loss: 1.2973209619522095 | Accuracy: 51.5625%\n",
            "GB | Epoch 0 | Loss: 1.2529922723770142 | Accuracy: 48.4375%\n",
            "GB | Epoch 0 | Loss: 1.1044294834136963 | Accuracy: 59.375%\n",
            "GB | Epoch 0 | Loss: 1.1935045719146729 | Accuracy: 50.0%\n"
          ]
        },
        {
          "output_type": "stream",
          "name": "stderr",
          "text": [
            "Epoch 0:  71%|███████   | 531/751 [00:13<00:05, 43.62batch/s, accuracy=59.375%, loss=1.07] "
          ]
        },
        {
          "output_type": "stream",
          "name": "stdout",
          "text": [
            "GB | Epoch 0 | Loss: 1.2990680932998657 | Accuracy: 51.5625%\n",
            "GB | Epoch 0 | Loss: 1.2065165042877197 | Accuracy: 48.4375%\n",
            "GB | Epoch 0 | Loss: 1.107719898223877 | Accuracy: 59.375%\n",
            "GB | Epoch 0 | Loss: 0.8806980848312378 | Accuracy: 67.1875%\n",
            "GB | Epoch 0 | Loss: 1.0851551294326782 | Accuracy: 57.8125%\n",
            "GB | Epoch 0 | Loss: 1.1764681339263916 | Accuracy: 54.6875%\n",
            "GB | Epoch 0 | Loss: 1.2093803882598877 | Accuracy: 51.5625%\n",
            "GB | Epoch 0 | Loss: 1.0672138929367065 | Accuracy: 59.375%\n"
          ]
        },
        {
          "output_type": "stream",
          "name": "stderr",
          "text": [
            "Epoch 0:  72%|███████▏  | 541/751 [00:13<00:06, 34.67batch/s, accuracy=57.8125%, loss=1.1]"
          ]
        },
        {
          "output_type": "stream",
          "name": "stdout",
          "text": [
            "GB | Epoch 0 | Loss: 1.2256361246109009 | Accuracy: 53.125%\n",
            "GB | Epoch 0 | Loss: 0.9626966118812561 | Accuracy: 65.625%\n",
            "GB | Epoch 0 | Loss: 1.1388274431228638 | Accuracy: 53.125%\n",
            "GB | Epoch 0 | Loss: 1.2401715517044067 | Accuracy: 53.125%\n",
            "GB | Epoch 0 | Loss: 1.4118902683258057 | Accuracy: 42.1875%\n",
            "GB | Epoch 0 | Loss: 1.0966073274612427 | Accuracy: 57.8125%\n"
          ]
        },
        {
          "output_type": "stream",
          "name": "stderr",
          "text": [
            "Epoch 0:  73%|███████▎  | 545/751 [00:14<00:06, 33.57batch/s, accuracy=54.6875%, loss=1.18]"
          ]
        },
        {
          "output_type": "stream",
          "name": "stdout",
          "text": [
            "GB | Epoch 0 | Loss: 1.0284714698791504 | Accuracy: 57.8125%\n",
            "GB | Epoch 0 | Loss: 0.9964965581893921 | Accuracy: 70.3125%\n",
            "GB | Epoch 0 | Loss: 1.1945562362670898 | Accuracy: 57.8125%\n",
            "GB | Epoch 0 | Loss: 1.1811720132827759 | Accuracy: 53.125%\n",
            "GB | Epoch 0 | Loss: 1.1442337036132812 | Accuracy: 54.6875%\n",
            "GB | Epoch 0 | Loss: 1.1363121271133423 | Accuracy: 57.8125%\n",
            "GB | Epoch 0 | Loss: 1.1826027631759644 | Accuracy: 54.6875%\n"
          ]
        },
        {
          "output_type": "stream",
          "name": "stderr",
          "text": [
            "Epoch 0:  74%|███████▍  | 554/751 [00:14<00:05, 34.55batch/s, accuracy=51.5625%, loss=1.1]"
          ]
        },
        {
          "output_type": "stream",
          "name": "stdout",
          "text": [
            "GB | Epoch 0 | Loss: 1.1702054738998413 | Accuracy: 57.8125%\n",
            "GB | Epoch 0 | Loss: 1.0900815725326538 | Accuracy: 54.6875%\n",
            "GB | Epoch 0 | Loss: 1.2228405475616455 | Accuracy: 50.0%\n",
            "GB | Epoch 0 | Loss: 1.096465826034546 | Accuracy: 56.25%\n",
            "GB | Epoch 0 | Loss: 0.9523935914039612 | Accuracy: 67.1875%\n",
            "GB | Epoch 0 | Loss: 1.0746300220489502 | Accuracy: 56.25%\n",
            "GB | Epoch 0 | Loss: 1.2320356369018555 | Accuracy: 51.5625%\n",
            "GB | Epoch 0 | Loss: 1.1046819686889648 | Accuracy: 59.375%\n",
            "GB | Epoch 0 | Loss: 1.1014260053634644 | Accuracy: 51.5625%\n"
          ]
        },
        {
          "output_type": "stream",
          "name": "stderr",
          "text": [
            "Epoch 0:  75%|███████▌  | 564/751 [00:14<00:04, 38.78batch/s, accuracy=65.625%, loss=0.932]"
          ]
        },
        {
          "output_type": "stream",
          "name": "stdout",
          "text": [
            "GB | Epoch 0 | Loss: 1.0983980894088745 | Accuracy: 60.9375%\n",
            "GB | Epoch 0 | Loss: 1.0539510250091553 | Accuracy: 64.0625%\n",
            "GB | Epoch 0 | Loss: 1.020395040512085 | Accuracy: 67.1875%\n",
            "GB | Epoch 0 | Loss: 1.0825988054275513 | Accuracy: 60.9375%\n",
            "GB | Epoch 0 | Loss: 1.1080591678619385 | Accuracy: 57.8125%\n",
            "GB | Epoch 0 | Loss: 1.0745172500610352 | Accuracy: 57.8125%\n",
            "GB | Epoch 0 | Loss: 1.1268928050994873 | Accuracy: 56.25%\n",
            "GB | Epoch 0 | Loss: 1.1782548427581787 | Accuracy: 51.5625%\n",
            "GB | Epoch 0 | Loss: 0.9323244094848633 | Accuracy: 65.625%\n"
          ]
        },
        {
          "output_type": "stream",
          "name": "stderr",
          "text": [
            "Epoch 0:  76%|███████▌  | 572/751 [00:14<00:04, 38.51batch/s, accuracy=54.6875%, loss=1.15]"
          ]
        },
        {
          "output_type": "stream",
          "name": "stdout",
          "text": [
            "GB | Epoch 0 | Loss: 1.0764988660812378 | Accuracy: 56.25%\n",
            "GB | Epoch 0 | Loss: 1.1044175624847412 | Accuracy: 56.25%\n",
            "GB | Epoch 0 | Loss: 0.9850643873214722 | Accuracy: 64.0625%\n",
            "GB | Epoch 0 | Loss: 1.1467299461364746 | Accuracy: 54.6875%\n",
            "GB | Epoch 0 | Loss: 0.8679274916648865 | Accuracy: 67.1875%\n",
            "GB | Epoch 0 | Loss: 1.0101068019866943 | Accuracy: 64.0625%\n",
            "GB | Epoch 0 | Loss: 0.9966317415237427 | Accuracy: 62.5%\n",
            "GB | Epoch 0 | Loss: 1.251495122909546 | Accuracy: 48.4375%\n",
            "GB | Epoch 0 | Loss: 1.1498982906341553 | Accuracy: 54.6875%\n"
          ]
        },
        {
          "output_type": "stream",
          "name": "stderr",
          "text": [
            "Epoch 0:  77%|███████▋  | 582/751 [00:15<00:04, 41.73batch/s, accuracy=60.9375%, loss=1.05]"
          ]
        },
        {
          "output_type": "stream",
          "name": "stdout",
          "text": [
            "GB | Epoch 0 | Loss: 1.1810925006866455 | Accuracy: 53.125%\n",
            "GB | Epoch 0 | Loss: 1.0888513326644897 | Accuracy: 53.125%\n",
            "GB | Epoch 0 | Loss: 1.057596206665039 | Accuracy: 60.9375%\n",
            "GB | Epoch 0 | Loss: 1.047561526298523 | Accuracy: 57.8125%\n",
            "GB | Epoch 0 | Loss: 1.1499781608581543 | Accuracy: 54.6875%\n",
            "GB | Epoch 0 | Loss: 1.1702442169189453 | Accuracy: 54.6875%\n",
            "GB | Epoch 0 | Loss: 1.123877763748169 | Accuracy: 60.9375%\n",
            "GB | Epoch 0 | Loss: 1.0459394454956055 | Accuracy: 56.25%\n",
            "GB | Epoch 0 | Loss: 1.1398626565933228 | Accuracy: 53.125%\n",
            "GB | Epoch 0 | Loss: 1.0481493473052979 | Accuracy: 60.9375%\n"
          ]
        },
        {
          "output_type": "stream",
          "name": "stderr",
          "text": [
            "Epoch 0:  79%|███████▉  | 592/751 [00:15<00:04, 39.63batch/s, accuracy=53.125%, loss=1.25]"
          ]
        },
        {
          "output_type": "stream",
          "name": "stdout",
          "text": [
            "GB | Epoch 0 | Loss: 1.0474547147750854 | Accuracy: 64.0625%\n",
            "GB | Epoch 0 | Loss: 1.0256130695343018 | Accuracy: 60.9375%\n",
            "GB | Epoch 0 | Loss: 1.0902429819107056 | Accuracy: 62.5%\n",
            "GB | Epoch 0 | Loss: 1.043055534362793 | Accuracy: 67.1875%\n",
            "GB | Epoch 0 | Loss: 1.2061028480529785 | Accuracy: 46.875%\n",
            "GB | Epoch 0 | Loss: 1.1484055519104004 | Accuracy: 57.8125%\n",
            "GB | Epoch 0 | Loss: 1.2502024173736572 | Accuracy: 53.125%\n"
          ]
        },
        {
          "output_type": "stream",
          "name": "stderr",
          "text": [
            "Epoch 0:  79%|███████▉  | 596/751 [00:15<00:04, 35.91batch/s, accuracy=62.5%, loss=0.974]  "
          ]
        },
        {
          "output_type": "stream",
          "name": "stdout",
          "text": [
            "GB | Epoch 0 | Loss: 1.2308205366134644 | Accuracy: 54.6875%\n",
            "GB | Epoch 0 | Loss: 1.0964210033416748 | Accuracy: 57.8125%\n",
            "GB | Epoch 0 | Loss: 1.0070223808288574 | Accuracy: 67.1875%\n",
            "GB | Epoch 0 | Loss: 1.0963342189788818 | Accuracy: 57.8125%\n",
            "GB | Epoch 0 | Loss: 0.812868595123291 | Accuracy: 75.0%\n",
            "GB | Epoch 0 | Loss: 1.1075674295425415 | Accuracy: 57.8125%\n",
            "GB | Epoch 0 | Loss: 0.974336564540863 | Accuracy: 62.5%\n"
          ]
        },
        {
          "output_type": "stream",
          "name": "stderr",
          "text": [
            "Epoch 0:  80%|████████  | 604/751 [00:15<00:04, 31.96batch/s, accuracy=62.5%, loss=1.03]    "
          ]
        },
        {
          "output_type": "stream",
          "name": "stdout",
          "text": [
            "GB | Epoch 0 | Loss: 0.9183616042137146 | Accuracy: 70.3125%\n",
            "GB | Epoch 0 | Loss: 0.9740807414054871 | Accuracy: 62.5%\n",
            "GB | Epoch 0 | Loss: 0.9703949689865112 | Accuracy: 64.0625%\n",
            "GB | Epoch 0 | Loss: 1.1610995531082153 | Accuracy: 50.0%\n",
            "GB | Epoch 0 | Loss: 0.9464783072471619 | Accuracy: 60.9375%\n",
            "GB | Epoch 0 | Loss: 1.026834487915039 | Accuracy: 62.5%\n"
          ]
        },
        {
          "output_type": "stream",
          "name": "stderr",
          "text": [
            "Epoch 0:  81%|████████▏ | 612/751 [00:15<00:04, 30.95batch/s, accuracy=64.0625%, loss=1.02]"
          ]
        },
        {
          "output_type": "stream",
          "name": "stdout",
          "text": [
            "GB | Epoch 0 | Loss: 0.8138840198516846 | Accuracy: 73.4375%\n",
            "GB | Epoch 0 | Loss: 1.189801812171936 | Accuracy: 51.5625%\n",
            "GB | Epoch 0 | Loss: 0.9725361466407776 | Accuracy: 60.9375%\n",
            "GB | Epoch 0 | Loss: 0.8836252689361572 | Accuracy: 70.3125%\n",
            "GB | Epoch 0 | Loss: 0.98824542760849 | Accuracy: 62.5%\n",
            "GB | Epoch 0 | Loss: 1.1062595844268799 | Accuracy: 65.625%\n",
            "GB | Epoch 0 | Loss: 1.0151218175888062 | Accuracy: 64.0625%\n"
          ]
        },
        {
          "output_type": "stream",
          "name": "stderr",
          "text": [
            "Epoch 0:  82%|████████▏ | 616/751 [00:16<00:04, 30.44batch/s, accuracy=71.875%, loss=0.883]"
          ]
        },
        {
          "output_type": "stream",
          "name": "stdout",
          "text": [
            "GB | Epoch 0 | Loss: 1.2776638269424438 | Accuracy: 46.875%\n",
            "GB | Epoch 0 | Loss: 0.9345147013664246 | Accuracy: 65.625%\n",
            "GB | Epoch 0 | Loss: 1.070442795753479 | Accuracy: 53.125%\n",
            "GB | Epoch 0 | Loss: 1.1622663736343384 | Accuracy: 50.0%\n",
            "GB | Epoch 0 | Loss: 1.0587619543075562 | Accuracy: 65.625%\n",
            "GB | Epoch 0 | Loss: 1.1496691703796387 | Accuracy: 57.8125%\n",
            "GB | Epoch 0 | Loss: 0.8830035328865051 | Accuracy: 71.875%\n"
          ]
        },
        {
          "output_type": "stream",
          "name": "stderr",
          "text": [
            "Epoch 0:  83%|████████▎ | 624/751 [00:16<00:04, 30.12batch/s, accuracy=59.375%, loss=1.08]"
          ]
        },
        {
          "output_type": "stream",
          "name": "stdout",
          "text": [
            "GB | Epoch 0 | Loss: 0.9800674915313721 | Accuracy: 60.9375%\n",
            "GB | Epoch 0 | Loss: 1.021272897720337 | Accuracy: 62.5%\n",
            "GB | Epoch 0 | Loss: 0.9059737324714661 | Accuracy: 73.4375%\n",
            "GB | Epoch 0 | Loss: 1.0409265756607056 | Accuracy: 54.6875%\n",
            "GB | Epoch 0 | Loss: 0.9193214178085327 | Accuracy: 62.5%\n",
            "GB | Epoch 0 | Loss: 1.0617923736572266 | Accuracy: 65.625%\n"
          ]
        },
        {
          "output_type": "stream",
          "name": "stderr",
          "text": [
            "Epoch 0:  84%|████████▎ | 628/751 [00:16<00:04, 29.60batch/s, accuracy=65.625%, loss=0.963]"
          ]
        },
        {
          "output_type": "stream",
          "name": "stdout",
          "text": [
            "GB | Epoch 0 | Loss: 1.08344304561615 | Accuracy: 59.375%\n",
            "GB | Epoch 0 | Loss: 0.9622741937637329 | Accuracy: 67.1875%\n",
            "GB | Epoch 0 | Loss: 1.2057511806488037 | Accuracy: 54.6875%\n",
            "GB | Epoch 0 | Loss: 1.0796663761138916 | Accuracy: 70.3125%\n",
            "GB | Epoch 0 | Loss: 0.973240315914154 | Accuracy: 62.5%\n",
            "GB | Epoch 0 | Loss: 0.9627503752708435 | Accuracy: 65.625%\n"
          ]
        },
        {
          "output_type": "stream",
          "name": "stderr",
          "text": [
            "Epoch 0:  85%|████████▍ | 635/751 [00:16<00:03, 29.01batch/s, accuracy=53.125%, loss=1.14]"
          ]
        },
        {
          "output_type": "stream",
          "name": "stdout",
          "text": [
            "GB | Epoch 0 | Loss: 0.8692807555198669 | Accuracy: 68.75%\n",
            "GB | Epoch 0 | Loss: 1.1828985214233398 | Accuracy: 50.0%\n",
            "GB | Epoch 0 | Loss: 0.8451662063598633 | Accuracy: 67.1875%\n",
            "GB | Epoch 0 | Loss: 1.084502935409546 | Accuracy: 54.6875%\n",
            "GB | Epoch 0 | Loss: 1.081687569618225 | Accuracy: 46.875%\n",
            "GB | Epoch 0 | Loss: 1.1387865543365479 | Accuracy: 53.125%\n"
          ]
        },
        {
          "output_type": "stream",
          "name": "stderr",
          "text": [
            "Epoch 0:  85%|████████▌ | 642/751 [00:17<00:03, 29.65batch/s, accuracy=57.8125%, loss=1.19]"
          ]
        },
        {
          "output_type": "stream",
          "name": "stdout",
          "text": [
            "GB | Epoch 0 | Loss: 0.89462810754776 | Accuracy: 64.0625%\n",
            "GB | Epoch 0 | Loss: 1.1002799272537231 | Accuracy: 56.25%\n",
            "GB | Epoch 0 | Loss: 1.08810555934906 | Accuracy: 53.125%\n",
            "GB | Epoch 0 | Loss: 1.1932607889175415 | Accuracy: 56.25%\n",
            "GB | Epoch 0 | Loss: 0.9750404357910156 | Accuracy: 68.75%\n",
            "GB | Epoch 0 | Loss: 1.005136489868164 | Accuracy: 67.1875%\n",
            "GB | Epoch 0 | Loss: 1.185011863708496 | Accuracy: 57.8125%\n"
          ]
        },
        {
          "output_type": "stream",
          "name": "stderr",
          "text": [
            "Epoch 0:  87%|████████▋ | 650/751 [00:17<00:03, 29.50batch/s, accuracy=64.0625%, loss=0.99]"
          ]
        },
        {
          "output_type": "stream",
          "name": "stdout",
          "text": [
            "GB | Epoch 0 | Loss: 0.9953206181526184 | Accuracy: 64.0625%\n",
            "GB | Epoch 0 | Loss: 0.9906216263771057 | Accuracy: 62.5%\n",
            "GB | Epoch 0 | Loss: 1.0918680429458618 | Accuracy: 57.8125%\n",
            "GB | Epoch 0 | Loss: 0.9919535517692566 | Accuracy: 59.375%\n",
            "GB | Epoch 0 | Loss: 1.0223524570465088 | Accuracy: 54.6875%\n",
            "GB | Epoch 0 | Loss: 0.9898080229759216 | Accuracy: 64.0625%\n"
          ]
        },
        {
          "output_type": "stream",
          "name": "stderr",
          "text": [
            "Epoch 0:  87%|████████▋ | 656/751 [00:17<00:03, 28.69batch/s, accuracy=71.875%, loss=0.852]"
          ]
        },
        {
          "output_type": "stream",
          "name": "stdout",
          "text": [
            "GB | Epoch 0 | Loss: 1.3247054815292358 | Accuracy: 48.4375%\n",
            "GB | Epoch 0 | Loss: 0.9346379041671753 | Accuracy: 65.625%\n",
            "GB | Epoch 0 | Loss: 1.1087470054626465 | Accuracy: 56.25%\n",
            "GB | Epoch 0 | Loss: 1.1168088912963867 | Accuracy: 62.5%\n",
            "GB | Epoch 0 | Loss: 0.9415789842605591 | Accuracy: 62.5%\n",
            "GB | Epoch 0 | Loss: 0.8522127866744995 | Accuracy: 71.875%\n"
          ]
        },
        {
          "output_type": "stream",
          "name": "stderr",
          "text": [
            "Epoch 0:  88%|████████▊ | 662/751 [00:17<00:03, 28.86batch/s, accuracy=73.4375%, loss=0.824]"
          ]
        },
        {
          "output_type": "stream",
          "name": "stdout",
          "text": [
            "GB | Epoch 0 | Loss: 1.0859930515289307 | Accuracy: 54.6875%\n",
            "GB | Epoch 0 | Loss: 0.9520998001098633 | Accuracy: 70.3125%\n",
            "GB | Epoch 0 | Loss: 1.127835750579834 | Accuracy: 56.25%\n",
            "GB | Epoch 0 | Loss: 1.1159756183624268 | Accuracy: 56.25%\n",
            "GB | Epoch 0 | Loss: 1.0089023113250732 | Accuracy: 60.9375%\n",
            "GB | Epoch 0 | Loss: 0.8237324953079224 | Accuracy: 73.4375%\n"
          ]
        },
        {
          "output_type": "stream",
          "name": "stderr",
          "text": [
            "Epoch 0:  89%|████████▉ | 668/751 [00:17<00:02, 29.09batch/s, accuracy=60.9375%, loss=1.07]"
          ]
        },
        {
          "output_type": "stream",
          "name": "stdout",
          "text": [
            "GB | Epoch 0 | Loss: 0.9538760185241699 | Accuracy: 71.875%\n",
            "GB | Epoch 0 | Loss: 1.0128110647201538 | Accuracy: 57.8125%\n",
            "GB | Epoch 0 | Loss: 1.195381760597229 | Accuracy: 51.5625%\n",
            "GB | Epoch 0 | Loss: 0.9886593818664551 | Accuracy: 57.8125%\n",
            "GB | Epoch 0 | Loss: 1.1379870176315308 | Accuracy: 59.375%\n",
            "GB | Epoch 0 | Loss: 1.0574413537979126 | Accuracy: 65.625%\n",
            "GB | Epoch 0 | Loss: 1.0744197368621826 | Accuracy: 60.9375%\n"
          ]
        },
        {
          "output_type": "stream",
          "name": "stderr",
          "text": [
            "Epoch 0:  90%|████████▉ | 675/751 [00:18<00:02, 29.61batch/s, accuracy=68.75%, loss=0.814]"
          ]
        },
        {
          "output_type": "stream",
          "name": "stdout",
          "text": [
            "GB | Epoch 0 | Loss: 1.102216362953186 | Accuracy: 53.125%\n",
            "GB | Epoch 0 | Loss: 0.8950682878494263 | Accuracy: 70.3125%\n",
            "GB | Epoch 0 | Loss: 1.0976070165634155 | Accuracy: 60.9375%\n",
            "GB | Epoch 0 | Loss: 0.9467729926109314 | Accuracy: 64.0625%\n",
            "GB | Epoch 0 | Loss: 1.103258728981018 | Accuracy: 56.25%\n",
            "GB | Epoch 0 | Loss: 1.138376235961914 | Accuracy: 56.25%\n",
            "GB | Epoch 0 | Loss: 0.8142902255058289 | Accuracy: 68.75%\n"
          ]
        },
        {
          "output_type": "stream",
          "name": "stderr",
          "text": [
            "Epoch 0:  91%|█████████ | 681/751 [00:18<00:02, 28.43batch/s, accuracy=62.5%, loss=0.901]"
          ]
        },
        {
          "output_type": "stream",
          "name": "stdout",
          "text": [
            "GB | Epoch 0 | Loss: 1.0840212106704712 | Accuracy: 59.375%\n",
            "GB | Epoch 0 | Loss: 0.8800112009048462 | Accuracy: 70.3125%\n",
            "GB | Epoch 0 | Loss: 0.9977864027023315 | Accuracy: 64.0625%\n",
            "GB | Epoch 0 | Loss: 1.0859464406967163 | Accuracy: 62.5%\n",
            "GB | Epoch 0 | Loss: 0.7431361675262451 | Accuracy: 75.0%\n",
            "GB | Epoch 0 | Loss: 0.900947630405426 | Accuracy: 62.5%\n"
          ]
        },
        {
          "output_type": "stream",
          "name": "stderr",
          "text": [
            "Epoch 0:  92%|█████████▏| 689/751 [00:18<00:01, 32.59batch/s, accuracy=75.0%, loss=0.785]"
          ]
        },
        {
          "output_type": "stream",
          "name": "stdout",
          "text": [
            "GB | Epoch 0 | Loss: 0.8987816572189331 | Accuracy: 65.625%\n",
            "GB | Epoch 0 | Loss: 0.9906452298164368 | Accuracy: 59.375%\n",
            "GB | Epoch 0 | Loss: 0.8954517245292664 | Accuracy: 65.625%\n",
            "GB | Epoch 0 | Loss: 1.1258481740951538 | Accuracy: 65.625%\n",
            "GB | Epoch 0 | Loss: 0.9288257956504822 | Accuracy: 65.625%\n",
            "GB | Epoch 0 | Loss: 0.9968357682228088 | Accuracy: 60.9375%\n",
            "GB | Epoch 0 | Loss: 0.9882501363754272 | Accuracy: 62.5%\n",
            "GB | Epoch 0 | Loss: 0.7850670218467712 | Accuracy: 75.0%\n"
          ]
        },
        {
          "output_type": "stream",
          "name": "stderr",
          "text": [
            "Epoch 0:  93%|█████████▎| 697/751 [00:18<00:01, 35.60batch/s, accuracy=65.625%, loss=1.12]  "
          ]
        },
        {
          "output_type": "stream",
          "name": "stdout",
          "text": [
            "GB | Epoch 0 | Loss: 1.092907428741455 | Accuracy: 56.25%\n",
            "GB | Epoch 0 | Loss: 1.000610113143921 | Accuracy: 59.375%\n",
            "GB | Epoch 0 | Loss: 1.0651746988296509 | Accuracy: 64.0625%\n",
            "GB | Epoch 0 | Loss: 0.9621462821960449 | Accuracy: 62.5%\n",
            "GB | Epoch 0 | Loss: 1.0383819341659546 | Accuracy: 60.9375%\n",
            "GB | Epoch 0 | Loss: 0.8475568890571594 | Accuracy: 73.4375%\n",
            "GB | Epoch 0 | Loss: 0.9745783805847168 | Accuracy: 70.3125%\n",
            "GB | Epoch 0 | Loss: 1.1190698146820068 | Accuracy: 65.625%\n"
          ]
        },
        {
          "output_type": "stream",
          "name": "stderr",
          "text": [
            "Epoch 0:  93%|█████████▎| 702/751 [00:19<00:01, 37.68batch/s, accuracy=64.0625%, loss=0.843]"
          ]
        },
        {
          "output_type": "stream",
          "name": "stdout",
          "text": [
            "GB | Epoch 0 | Loss: 0.8001904487609863 | Accuracy: 73.4375%\n",
            "GB | Epoch 0 | Loss: 1.0930379629135132 | Accuracy: 57.8125%\n",
            "GB | Epoch 0 | Loss: 1.0553017854690552 | Accuracy: 57.8125%\n",
            "GB | Epoch 0 | Loss: 0.9136755466461182 | Accuracy: 65.625%\n",
            "GB | Epoch 0 | Loss: 0.7978762984275818 | Accuracy: 68.75%\n",
            "GB | Epoch 0 | Loss: 0.9118496775627136 | Accuracy: 68.75%\n",
            "GB | Epoch 0 | Loss: 0.8432607054710388 | Accuracy: 64.0625%\n"
          ]
        },
        {
          "output_type": "stream",
          "name": "stderr",
          "text": [
            "Epoch 0:  95%|█████████▍| 710/751 [00:19<00:01, 30.66batch/s, accuracy=64.0625%, loss=1.05]"
          ]
        },
        {
          "output_type": "stream",
          "name": "stdout",
          "text": [
            "GB | Epoch 0 | Loss: 0.9173794984817505 | Accuracy: 68.75%\n",
            "GB | Epoch 0 | Loss: 0.861512303352356 | Accuracy: 65.625%\n",
            "GB | Epoch 0 | Loss: 0.958306074142456 | Accuracy: 62.5%\n",
            "GB | Epoch 0 | Loss: 0.9694699645042419 | Accuracy: 65.625%\n",
            "GB | Epoch 0 | Loss: 1.054406762123108 | Accuracy: 64.0625%\n"
          ]
        },
        {
          "output_type": "stream",
          "name": "stderr",
          "text": [
            "Epoch 0:  95%|█████████▌| 714/751 [00:19<00:01, 28.23batch/s, accuracy=67.1875%, loss=0.827]"
          ]
        },
        {
          "output_type": "stream",
          "name": "stdout",
          "text": [
            "GB | Epoch 0 | Loss: 0.9268335103988647 | Accuracy: 64.0625%\n",
            "GB | Epoch 0 | Loss: 0.9802929759025574 | Accuracy: 64.0625%\n",
            "GB | Epoch 0 | Loss: 1.0266356468200684 | Accuracy: 59.375%\n",
            "GB | Epoch 0 | Loss: 0.9442702531814575 | Accuracy: 60.9375%\n",
            "GB | Epoch 0 | Loss: 1.0288914442062378 | Accuracy: 57.8125%\n",
            "GB | Epoch 0 | Loss: 0.8267204165458679 | Accuracy: 67.1875%\n"
          ]
        },
        {
          "output_type": "stream",
          "name": "stderr",
          "text": [
            "Epoch 0:  96%|█████████▌| 721/751 [00:19<00:01, 29.27batch/s, accuracy=65.625%, loss=0.949]"
          ]
        },
        {
          "output_type": "stream",
          "name": "stdout",
          "text": [
            "GB | Epoch 0 | Loss: 1.0211493968963623 | Accuracy: 65.625%\n",
            "GB | Epoch 0 | Loss: 0.7493681311607361 | Accuracy: 71.875%\n",
            "GB | Epoch 0 | Loss: 1.0207802057266235 | Accuracy: 65.625%\n",
            "GB | Epoch 0 | Loss: 1.063286304473877 | Accuracy: 54.6875%\n",
            "GB | Epoch 0 | Loss: 1.0172748565673828 | Accuracy: 62.5%\n",
            "GB | Epoch 0 | Loss: 0.9486901760101318 | Accuracy: 65.625%\n"
          ]
        },
        {
          "output_type": "stream",
          "name": "stderr",
          "text": [
            "Epoch 0:  97%|█████████▋| 727/751 [00:19<00:00, 26.14batch/s, accuracy=64.0625%, loss=0.893]"
          ]
        },
        {
          "output_type": "stream",
          "name": "stdout",
          "text": [
            "GB | Epoch 0 | Loss: 0.8749665021896362 | Accuracy: 59.375%\n",
            "GB | Epoch 0 | Loss: 0.9345054626464844 | Accuracy: 65.625%\n",
            "GB | Epoch 0 | Loss: 0.9322124123573303 | Accuracy: 64.0625%\n",
            "GB | Epoch 0 | Loss: 1.073280930519104 | Accuracy: 62.5%\n",
            "GB | Epoch 0 | Loss: 0.8932684063911438 | Accuracy: 64.0625%\n"
          ]
        },
        {
          "output_type": "stream",
          "name": "stderr",
          "text": [
            "Epoch 0:  98%|█████████▊| 733/751 [00:20<00:00, 25.61batch/s, accuracy=71.875%, loss=0.826]"
          ]
        },
        {
          "output_type": "stream",
          "name": "stdout",
          "text": [
            "GB | Epoch 0 | Loss: 0.9707386493682861 | Accuracy: 68.75%\n",
            "GB | Epoch 0 | Loss: 1.0180798768997192 | Accuracy: 62.5%\n",
            "GB | Epoch 0 | Loss: 0.9449282288551331 | Accuracy: 59.375%\n",
            "GB | Epoch 0 | Loss: 0.9616498947143555 | Accuracy: 65.625%\n",
            "GB | Epoch 0 | Loss: 0.877103328704834 | Accuracy: 67.1875%\n",
            "GB | Epoch 0 | Loss: 0.8262279629707336 | Accuracy: 71.875%\n"
          ]
        },
        {
          "output_type": "stream",
          "name": "stderr",
          "text": [
            "Epoch 0:  98%|█████████▊| 736/751 [00:20<00:00, 25.14batch/s, accuracy=60.9375%, loss=0.867]"
          ]
        },
        {
          "output_type": "stream",
          "name": "stdout",
          "text": [
            "GB | Epoch 0 | Loss: 0.913182258605957 | Accuracy: 64.0625%\n",
            "GB | Epoch 0 | Loss: 1.0917458534240723 | Accuracy: 56.25%\n",
            "GB | Epoch 0 | Loss: 0.9114315509796143 | Accuracy: 70.3125%\n",
            "GB | Epoch 0 | Loss: 1.0031036138534546 | Accuracy: 57.8125%\n",
            "GB | Epoch 0 | Loss: 0.8672055006027222 | Accuracy: 60.9375%\n"
          ]
        },
        {
          "output_type": "stream",
          "name": "stderr",
          "text": [
            "Epoch 0:  99%|█████████▉| 742/751 [00:20<00:00, 22.98batch/s, accuracy=59.375%, loss=0.951] "
          ]
        },
        {
          "output_type": "stream",
          "name": "stdout",
          "text": [
            "GB | Epoch 0 | Loss: 0.8236454725265503 | Accuracy: 70.3125%\n",
            "GB | Epoch 0 | Loss: 0.9762963056564331 | Accuracy: 60.9375%\n",
            "GB | Epoch 0 | Loss: 0.9428287744522095 | Accuracy: 65.625%\n",
            "GB | Epoch 0 | Loss: 0.7282664775848389 | Accuracy: 76.5625%\n",
            "GB | Epoch 0 | Loss: 0.9510908722877502 | Accuracy: 59.375%\n"
          ]
        },
        {
          "output_type": "stream",
          "name": "stderr",
          "text": [
            "Epoch 0: 100%|█████████▉| 748/751 [00:20<00:00, 22.70batch/s, accuracy=70.3125%, loss=0.805]"
          ]
        },
        {
          "output_type": "stream",
          "name": "stdout",
          "text": [
            "GB | Epoch 0 | Loss: 1.1366896629333496 | Accuracy: 59.375%\n",
            "GB | Epoch 0 | Loss: 0.7757374048233032 | Accuracy: 73.4375%\n",
            "GB | Epoch 0 | Loss: 1.0204904079437256 | Accuracy: 57.8125%\n",
            "GB | Epoch 0 | Loss: 0.9175766706466675 | Accuracy: 64.0625%\n",
            "GB | Epoch 0 | Loss: 0.8046554923057556 | Accuracy: 70.3125%\n"
          ]
        },
        {
          "output_type": "stream",
          "name": "stderr",
          "text": [
            "Epoch 0: 100%|██████████| 751/751 [00:20<00:00, 24.15batch/s, accuracy=75.0%, loss=0.595]"
          ]
        },
        {
          "output_type": "stream",
          "name": "stdout",
          "text": [
            "GB | Epoch 0 | Loss: 0.8451431393623352 | Accuracy: 68.75%\n",
            "GB | Epoch 0 | Loss: 1.3226978778839111 | Accuracy: 43.75%\n",
            "GB | Epoch 0 | Loss: 0.5953500866889954 | Accuracy: 75.0%\n"
          ]
        },
        {
          "output_type": "stream",
          "name": "stderr",
          "text": [
            "Epoch 0: 100%|██████████| 751/751 [00:21<00:00, 35.50batch/s, accuracy=75.0%, loss=0.595]\n",
            "Epoch 1:   1%|          | 5/751 [00:00<00:50, 14.73batch/s, accuracy=67.1875%, loss=0.968]"
          ]
        },
        {
          "output_type": "stream",
          "name": "stdout",
          "text": [
            "GB | Epoch 1 | Loss: 1.2028151750564575 | Accuracy: 51.5625%\n",
            "GB | Epoch 1 | Loss: 1.2909131050109863 | Accuracy: 46.875%\n",
            "GB | Epoch 1 | Loss: 0.8518887162208557 | Accuracy: 67.1875%\n",
            "GB | Epoch 1 | Loss: 0.8197993040084839 | Accuracy: 70.3125%\n",
            "GB | Epoch 1 | Loss: 0.9794589281082153 | Accuracy: 64.0625%\n",
            "GB | Epoch 1 | Loss: 0.9431328177452087 | Accuracy: 65.625%\n",
            "GB | Epoch 1 | Loss: 0.8022614121437073 | Accuracy: 76.5625%\n",
            "GB | Epoch 1 | Loss: 0.9675267934799194 | Accuracy: 67.1875%\n"
          ]
        },
        {
          "output_type": "stream",
          "name": "stderr",
          "text": [
            "Epoch 1:   2%|▏         | 14/751 [00:00<00:25, 28.59batch/s, accuracy=65.625%, loss=0.812] "
          ]
        },
        {
          "output_type": "stream",
          "name": "stdout",
          "text": [
            "GB | Epoch 1 | Loss: 0.7818671464920044 | Accuracy: 76.5625%\n",
            "GB | Epoch 1 | Loss: 1.1093217134475708 | Accuracy: 59.375%\n",
            "GB | Epoch 1 | Loss: 0.9571194052696228 | Accuracy: 60.9375%\n",
            "GB | Epoch 1 | Loss: 0.7238937020301819 | Accuracy: 76.5625%\n",
            "GB | Epoch 1 | Loss: 0.9542229175567627 | Accuracy: 65.625%\n",
            "GB | Epoch 1 | Loss: 1.0503536462783813 | Accuracy: 59.375%\n",
            "GB | Epoch 1 | Loss: 0.9704059958457947 | Accuracy: 64.0625%\n",
            "GB | Epoch 1 | Loss: 0.7380651235580444 | Accuracy: 76.5625%\n",
            "GB | Epoch 1 | Loss: 0.8120139837265015 | Accuracy: 65.625%\n"
          ]
        },
        {
          "output_type": "stream",
          "name": "stderr",
          "text": [
            "Epoch 1:   3%|▎         | 23/751 [00:00<00:20, 35.07batch/s, accuracy=60.9375%, loss=0.904]"
          ]
        },
        {
          "output_type": "stream",
          "name": "stdout",
          "text": [
            "GB | Epoch 1 | Loss: 1.1263357400894165 | Accuracy: 57.8125%\n",
            "GB | Epoch 1 | Loss: 0.8742561936378479 | Accuracy: 70.3125%\n",
            "GB | Epoch 1 | Loss: 0.9963402152061462 | Accuracy: 56.25%\n",
            "GB | Epoch 1 | Loss: 0.8554632067680359 | Accuracy: 68.75%\n",
            "GB | Epoch 1 | Loss: 0.93999844789505 | Accuracy: 67.1875%\n",
            "GB | Epoch 1 | Loss: 0.9102999567985535 | Accuracy: 62.5%\n",
            "GB | Epoch 1 | Loss: 0.8250249028205872 | Accuracy: 70.3125%\n",
            "GB | Epoch 1 | Loss: 0.8345516324043274 | Accuracy: 75.0%\n",
            "GB | Epoch 1 | Loss: 0.9038945436477661 | Accuracy: 60.9375%\n"
          ]
        },
        {
          "output_type": "stream",
          "name": "stderr",
          "text": [
            "Epoch 1:   4%|▍         | 32/751 [00:01<00:19, 37.66batch/s, accuracy=68.75%, loss=0.797] "
          ]
        },
        {
          "output_type": "stream",
          "name": "stdout",
          "text": [
            "GB | Epoch 1 | Loss: 0.8957940936088562 | Accuracy: 68.75%\n",
            "GB | Epoch 1 | Loss: 0.9627590179443359 | Accuracy: 65.625%\n",
            "GB | Epoch 1 | Loss: 0.9714559316635132 | Accuracy: 56.25%\n",
            "GB | Epoch 1 | Loss: 0.9501926302909851 | Accuracy: 68.75%\n",
            "GB | Epoch 1 | Loss: 0.8195229172706604 | Accuracy: 71.875%\n",
            "GB | Epoch 1 | Loss: 1.0242937803268433 | Accuracy: 57.8125%\n",
            "GB | Epoch 1 | Loss: 0.7369129657745361 | Accuracy: 78.125%\n",
            "GB | Epoch 1 | Loss: 1.0178546905517578 | Accuracy: 57.8125%\n",
            "GB | Epoch 1 | Loss: 0.7968949675559998 | Accuracy: 68.75%\n"
          ]
        },
        {
          "output_type": "stream",
          "name": "stderr",
          "text": [
            "Epoch 1:   6%|▌         | 42/751 [00:01<00:18, 39.17batch/s, accuracy=73.4375%, loss=0.82] "
          ]
        },
        {
          "output_type": "stream",
          "name": "stdout",
          "text": [
            "GB | Epoch 1 | Loss: 0.8747574090957642 | Accuracy: 67.1875%\n",
            "GB | Epoch 1 | Loss: 0.9862887859344482 | Accuracy: 62.5%\n",
            "GB | Epoch 1 | Loss: 0.8395872116088867 | Accuracy: 70.3125%\n",
            "GB | Epoch 1 | Loss: 0.9595834612846375 | Accuracy: 62.5%\n",
            "GB | Epoch 1 | Loss: 0.8407560586929321 | Accuracy: 68.75%\n",
            "GB | Epoch 1 | Loss: 0.9289942979812622 | Accuracy: 68.75%\n",
            "GB | Epoch 1 | Loss: 1.022979736328125 | Accuracy: 53.125%\n",
            "GB | Epoch 1 | Loss: 0.9762545228004456 | Accuracy: 60.9375%\n",
            "GB | Epoch 1 | Loss: 0.8198855519294739 | Accuracy: 73.4375%\n"
          ]
        },
        {
          "output_type": "stream",
          "name": "stderr",
          "text": [
            "Epoch 1:   7%|▋         | 51/751 [00:01<00:18, 37.63batch/s, accuracy=59.375%, loss=0.945]"
          ]
        },
        {
          "output_type": "stream",
          "name": "stdout",
          "text": [
            "GB | Epoch 1 | Loss: 0.9481297135353088 | Accuracy: 59.375%\n",
            "GB | Epoch 1 | Loss: 0.7529560327529907 | Accuracy: 68.75%\n",
            "GB | Epoch 1 | Loss: 0.5779242515563965 | Accuracy: 79.6875%\n",
            "GB | Epoch 1 | Loss: 1.0362446308135986 | Accuracy: 68.75%\n",
            "GB | Epoch 1 | Loss: 1.0025606155395508 | Accuracy: 62.5%\n",
            "GB | Epoch 1 | Loss: 0.9597001075744629 | Accuracy: 70.3125%\n",
            "GB | Epoch 1 | Loss: 0.8304970264434814 | Accuracy: 67.1875%\n",
            "GB | Epoch 1 | Loss: 0.9451116323471069 | Accuracy: 59.375%\n"
          ]
        },
        {
          "output_type": "stream",
          "name": "stderr",
          "text": [
            "Epoch 1:   8%|▊         | 60/751 [00:01<00:17, 39.08batch/s, accuracy=59.375%, loss=1.04]  "
          ]
        },
        {
          "output_type": "stream",
          "name": "stdout",
          "text": [
            "GB | Epoch 1 | Loss: 0.8114413619041443 | Accuracy: 71.875%\n",
            "GB | Epoch 1 | Loss: 0.9142210483551025 | Accuracy: 57.8125%\n",
            "GB | Epoch 1 | Loss: 0.8454956412315369 | Accuracy: 60.9375%\n",
            "GB | Epoch 1 | Loss: 0.8888923525810242 | Accuracy: 64.0625%\n",
            "GB | Epoch 1 | Loss: 0.8970940709114075 | Accuracy: 60.9375%\n",
            "GB | Epoch 1 | Loss: 0.9828613996505737 | Accuracy: 60.9375%\n",
            "GB | Epoch 1 | Loss: 1.0663597583770752 | Accuracy: 67.1875%\n",
            "GB | Epoch 1 | Loss: 0.936279833316803 | Accuracy: 64.0625%\n",
            "GB | Epoch 1 | Loss: 1.0354913473129272 | Accuracy: 59.375%\n"
          ]
        },
        {
          "output_type": "stream",
          "name": "stderr",
          "text": [
            "Epoch 1:   9%|▉         | 70/751 [00:02<00:16, 40.68batch/s, accuracy=68.75%, loss=1.06]"
          ]
        },
        {
          "output_type": "stream",
          "name": "stdout",
          "text": [
            "GB | Epoch 1 | Loss: 0.8207166194915771 | Accuracy: 68.75%\n",
            "GB | Epoch 1 | Loss: 0.782402515411377 | Accuracy: 71.875%\n",
            "GB | Epoch 1 | Loss: 0.8329752087593079 | Accuracy: 67.1875%\n",
            "GB | Epoch 1 | Loss: 0.9648566246032715 | Accuracy: 65.625%\n",
            "GB | Epoch 1 | Loss: 1.1360834836959839 | Accuracy: 54.6875%\n",
            "GB | Epoch 1 | Loss: 0.9891678094863892 | Accuracy: 59.375%\n",
            "GB | Epoch 1 | Loss: 0.9056227207183838 | Accuracy: 62.5%\n",
            "GB | Epoch 1 | Loss: 0.8444658517837524 | Accuracy: 67.1875%\n",
            "GB | Epoch 1 | Loss: 1.0608716011047363 | Accuracy: 68.75%\n"
          ]
        },
        {
          "output_type": "stream",
          "name": "stderr",
          "text": [
            "Epoch 1:  10%|▉         | 75/751 [00:02<00:16, 40.49batch/s, accuracy=62.5%, loss=0.928]"
          ]
        },
        {
          "output_type": "stream",
          "name": "stdout",
          "text": [
            "GB | Epoch 1 | Loss: 0.8244889974594116 | Accuracy: 70.3125%\n",
            "GB | Epoch 1 | Loss: 0.8927854299545288 | Accuracy: 67.1875%\n",
            "GB | Epoch 1 | Loss: 0.8389705419540405 | Accuracy: 68.75%\n",
            "GB | Epoch 1 | Loss: 0.8486714363098145 | Accuracy: 67.1875%\n",
            "GB | Epoch 1 | Loss: 0.9505757689476013 | Accuracy: 64.0625%\n",
            "GB | Epoch 1 | Loss: 0.8613623380661011 | Accuracy: 70.3125%\n",
            "GB | Epoch 1 | Loss: 0.8529613018035889 | Accuracy: 70.3125%\n",
            "GB | Epoch 1 | Loss: 0.9242786169052124 | Accuracy: 62.5%\n",
            "GB | Epoch 1 | Loss: 0.9276102781295776 | Accuracy: 62.5%\n"
          ]
        },
        {
          "output_type": "stream",
          "name": "stderr",
          "text": [
            "Epoch 1:  11%|█▏        | 85/751 [00:02<00:16, 39.97batch/s, accuracy=68.75%, loss=0.885]  "
          ]
        },
        {
          "output_type": "stream",
          "name": "stdout",
          "text": [
            "GB | Epoch 1 | Loss: 0.8284056186676025 | Accuracy: 75.0%\n",
            "GB | Epoch 1 | Loss: 0.6588406562805176 | Accuracy: 81.25%\n",
            "GB | Epoch 1 | Loss: 0.7745168209075928 | Accuracy: 75.0%\n",
            "GB | Epoch 1 | Loss: 0.6930003762245178 | Accuracy: 76.5625%\n",
            "GB | Epoch 1 | Loss: 0.7949724793434143 | Accuracy: 71.875%\n",
            "GB | Epoch 1 | Loss: 0.6712225675582886 | Accuracy: 73.4375%\n",
            "GB | Epoch 1 | Loss: 0.8316695690155029 | Accuracy: 67.1875%\n",
            "GB | Epoch 1 | Loss: 0.8850363492965698 | Accuracy: 68.75%\n"
          ]
        },
        {
          "output_type": "stream",
          "name": "stderr",
          "text": [
            "Epoch 1:  13%|█▎        | 95/751 [00:02<00:16, 39.75batch/s, accuracy=67.1875%, loss=0.833]"
          ]
        },
        {
          "output_type": "stream",
          "name": "stdout",
          "text": [
            "GB | Epoch 1 | Loss: 0.704483687877655 | Accuracy: 71.875%\n",
            "GB | Epoch 1 | Loss: 0.8082680702209473 | Accuracy: 65.625%\n",
            "GB | Epoch 1 | Loss: 0.7331080436706543 | Accuracy: 71.875%\n",
            "GB | Epoch 1 | Loss: 0.8207931518554688 | Accuracy: 68.75%\n",
            "GB | Epoch 1 | Loss: 0.8280722498893738 | Accuracy: 70.3125%\n",
            "GB | Epoch 1 | Loss: 0.8669851422309875 | Accuracy: 70.3125%\n",
            "GB | Epoch 1 | Loss: 0.9878896474838257 | Accuracy: 57.8125%\n",
            "GB | Epoch 1 | Loss: 0.9209988713264465 | Accuracy: 68.75%\n",
            "GB | Epoch 1 | Loss: 0.8333216309547424 | Accuracy: 67.1875%\n"
          ]
        },
        {
          "output_type": "stream",
          "name": "stderr",
          "text": [
            "Epoch 1:  14%|█▍        | 105/751 [00:02<00:15, 40.64batch/s, accuracy=64.0625%, loss=0.849]"
          ]
        },
        {
          "output_type": "stream",
          "name": "stdout",
          "text": [
            "GB | Epoch 1 | Loss: 0.7200408577919006 | Accuracy: 73.4375%\n",
            "GB | Epoch 1 | Loss: 0.8793904185295105 | Accuracy: 67.1875%\n",
            "GB | Epoch 1 | Loss: 0.82741779088974 | Accuracy: 70.3125%\n",
            "GB | Epoch 1 | Loss: 0.876801609992981 | Accuracy: 68.75%\n",
            "GB | Epoch 1 | Loss: 0.6803224682807922 | Accuracy: 73.4375%\n",
            "GB | Epoch 1 | Loss: 0.8204287886619568 | Accuracy: 68.75%\n",
            "GB | Epoch 1 | Loss: 0.8745601773262024 | Accuracy: 62.5%\n",
            "GB | Epoch 1 | Loss: 0.7425985932350159 | Accuracy: 71.875%\n",
            "GB | Epoch 1 | Loss: 0.8486800193786621 | Accuracy: 64.0625%\n"
          ]
        },
        {
          "output_type": "stream",
          "name": "stderr",
          "text": [
            "Epoch 1:  15%|█▍        | 110/751 [00:03<00:15, 41.12batch/s, accuracy=75.0%, loss=0.704] "
          ]
        },
        {
          "output_type": "stream",
          "name": "stdout",
          "text": [
            "GB | Epoch 1 | Loss: 0.6644386053085327 | Accuracy: 81.25%\n",
            "GB | Epoch 1 | Loss: 0.7709931135177612 | Accuracy: 70.3125%\n",
            "GB | Epoch 1 | Loss: 0.8793867826461792 | Accuracy: 67.1875%\n",
            "GB | Epoch 1 | Loss: 0.7641950845718384 | Accuracy: 67.1875%\n",
            "GB | Epoch 1 | Loss: 0.9972283244132996 | Accuracy: 65.625%\n",
            "GB | Epoch 1 | Loss: 0.7867700457572937 | Accuracy: 75.0%\n",
            "GB | Epoch 1 | Loss: 0.8755937218666077 | Accuracy: 68.75%\n",
            "GB | Epoch 1 | Loss: 0.8201355934143066 | Accuracy: 65.625%\n",
            "GB | Epoch 1 | Loss: 0.7044629454612732 | Accuracy: 75.0%\n"
          ]
        },
        {
          "output_type": "stream",
          "name": "stderr",
          "text": [
            "Epoch 1:  16%|█▌        | 120/751 [00:03<00:14, 42.09batch/s, accuracy=76.5625%, loss=0.715]"
          ]
        },
        {
          "output_type": "stream",
          "name": "stdout",
          "text": [
            "GB | Epoch 1 | Loss: 1.0889700651168823 | Accuracy: 57.8125%\n",
            "GB | Epoch 1 | Loss: 0.7208985686302185 | Accuracy: 67.1875%\n",
            "GB | Epoch 1 | Loss: 0.8201392889022827 | Accuracy: 65.625%\n",
            "GB | Epoch 1 | Loss: 0.7227200269699097 | Accuracy: 78.125%\n",
            "GB | Epoch 1 | Loss: 0.9346303939819336 | Accuracy: 68.75%\n",
            "GB | Epoch 1 | Loss: 0.808379590511322 | Accuracy: 73.4375%\n",
            "GB | Epoch 1 | Loss: 0.7627164125442505 | Accuracy: 68.75%\n",
            "GB | Epoch 1 | Loss: 0.8239198923110962 | Accuracy: 71.875%\n",
            "GB | Epoch 1 | Loss: 0.7146977186203003 | Accuracy: 76.5625%\n"
          ]
        },
        {
          "output_type": "stream",
          "name": "stderr",
          "text": [
            "Epoch 1:  17%|█▋        | 130/751 [00:03<00:15, 38.94batch/s, accuracy=68.75%, loss=0.805]"
          ]
        },
        {
          "output_type": "stream",
          "name": "stdout",
          "text": [
            "GB | Epoch 1 | Loss: 0.7631470561027527 | Accuracy: 71.875%\n",
            "GB | Epoch 1 | Loss: 1.0541795492172241 | Accuracy: 64.0625%\n",
            "GB | Epoch 1 | Loss: 0.8823645710945129 | Accuracy: 65.625%\n",
            "GB | Epoch 1 | Loss: 0.6757407188415527 | Accuracy: 76.5625%\n",
            "GB | Epoch 1 | Loss: 0.8513243794441223 | Accuracy: 70.3125%\n",
            "GB | Epoch 1 | Loss: 0.7608504891395569 | Accuracy: 70.3125%\n",
            "GB | Epoch 1 | Loss: 0.8054448962211609 | Accuracy: 68.75%\n"
          ]
        },
        {
          "output_type": "stream",
          "name": "stderr",
          "text": [
            "Epoch 1:  19%|█▊        | 139/751 [00:03<00:15, 39.59batch/s, accuracy=60.9375%, loss=0.87]"
          ]
        },
        {
          "output_type": "stream",
          "name": "stdout",
          "text": [
            "GB | Epoch 1 | Loss: 0.7042690515518188 | Accuracy: 76.5625%\n",
            "GB | Epoch 1 | Loss: 0.9068867564201355 | Accuracy: 68.75%\n",
            "GB | Epoch 1 | Loss: 0.8326911330223083 | Accuracy: 64.0625%\n",
            "GB | Epoch 1 | Loss: 1.0027656555175781 | Accuracy: 65.625%\n",
            "GB | Epoch 1 | Loss: 0.7171528935432434 | Accuracy: 78.125%\n",
            "GB | Epoch 1 | Loss: 0.7977004647254944 | Accuracy: 71.875%\n",
            "GB | Epoch 1 | Loss: 0.857506275177002 | Accuracy: 65.625%\n",
            "GB | Epoch 1 | Loss: 1.098718523979187 | Accuracy: 59.375%\n",
            "GB | Epoch 1 | Loss: 0.870109498500824 | Accuracy: 60.9375%\n"
          ]
        },
        {
          "output_type": "stream",
          "name": "stderr",
          "text": [
            "Epoch 1:  19%|█▉        | 144/751 [00:03<00:14, 40.75batch/s, accuracy=60.9375%, loss=0.982]"
          ]
        },
        {
          "output_type": "stream",
          "name": "stdout",
          "text": [
            "GB | Epoch 1 | Loss: 0.773808479309082 | Accuracy: 76.5625%\n",
            "GB | Epoch 1 | Loss: 0.7167753577232361 | Accuracy: 73.4375%\n",
            "GB | Epoch 1 | Loss: 0.6840444803237915 | Accuracy: 75.0%\n",
            "GB | Epoch 1 | Loss: 0.7813624143600464 | Accuracy: 71.875%\n",
            "GB | Epoch 1 | Loss: 0.7787521481513977 | Accuracy: 73.4375%\n",
            "GB | Epoch 1 | Loss: 0.8732858300209045 | Accuracy: 68.75%\n",
            "GB | Epoch 1 | Loss: 0.8841538429260254 | Accuracy: 57.8125%\n",
            "GB | Epoch 1 | Loss: 0.8999251127243042 | Accuracy: 68.75%\n",
            "GB | Epoch 1 | Loss: 0.9821632504463196 | Accuracy: 60.9375%\n"
          ]
        },
        {
          "output_type": "stream",
          "name": "stderr",
          "text": [
            "Epoch 1:  21%|██        | 154/751 [00:04<00:14, 41.40batch/s, accuracy=67.1875%, loss=0.939]"
          ]
        },
        {
          "output_type": "stream",
          "name": "stdout",
          "text": [
            "GB | Epoch 1 | Loss: 0.7884353995323181 | Accuracy: 68.75%\n",
            "GB | Epoch 1 | Loss: 0.7579778432846069 | Accuracy: 73.4375%\n",
            "GB | Epoch 1 | Loss: 0.7425387501716614 | Accuracy: 71.875%\n",
            "GB | Epoch 1 | Loss: 0.8879148364067078 | Accuracy: 70.3125%\n",
            "GB | Epoch 1 | Loss: 0.7749629020690918 | Accuracy: 71.875%\n",
            "GB | Epoch 1 | Loss: 0.7784662842750549 | Accuracy: 71.875%\n",
            "GB | Epoch 1 | Loss: 0.7654917240142822 | Accuracy: 71.875%\n",
            "GB | Epoch 1 | Loss: 0.8068206310272217 | Accuracy: 73.4375%\n",
            "GB | Epoch 1 | Loss: 0.938519299030304 | Accuracy: 67.1875%\n"
          ]
        },
        {
          "output_type": "stream",
          "name": "stderr",
          "text": [
            "Epoch 1:  22%|██▏       | 164/751 [00:04<00:13, 42.44batch/s, accuracy=67.1875%, loss=0.828]"
          ]
        },
        {
          "output_type": "stream",
          "name": "stdout",
          "text": [
            "GB | Epoch 1 | Loss: 0.7657868266105652 | Accuracy: 73.4375%\n",
            "GB | Epoch 1 | Loss: 0.7202057242393494 | Accuracy: 68.75%\n",
            "GB | Epoch 1 | Loss: 0.8568075895309448 | Accuracy: 65.625%\n",
            "GB | Epoch 1 | Loss: 0.653965175151825 | Accuracy: 78.125%\n",
            "GB | Epoch 1 | Loss: 0.8405768871307373 | Accuracy: 64.0625%\n",
            "GB | Epoch 1 | Loss: 0.8396357297897339 | Accuracy: 67.1875%\n",
            "GB | Epoch 1 | Loss: 0.6660439372062683 | Accuracy: 78.125%\n",
            "GB | Epoch 1 | Loss: 0.7750747203826904 | Accuracy: 78.125%\n",
            "GB | Epoch 1 | Loss: 0.7787827253341675 | Accuracy: 71.875%\n",
            "GB | Epoch 1 | Loss: 0.8275867104530334 | Accuracy: 67.1875%\n"
          ]
        },
        {
          "output_type": "stream",
          "name": "stderr",
          "text": [
            "Epoch 1:  23%|██▎       | 174/751 [00:04<00:14, 39.21batch/s, accuracy=79.6875%, loss=0.583]"
          ]
        },
        {
          "output_type": "stream",
          "name": "stdout",
          "text": [
            "GB | Epoch 1 | Loss: 0.6463555097579956 | Accuracy: 76.5625%\n",
            "GB | Epoch 1 | Loss: 0.8383704423904419 | Accuracy: 71.875%\n",
            "GB | Epoch 1 | Loss: 0.6897363066673279 | Accuracy: 79.6875%\n",
            "GB | Epoch 1 | Loss: 0.7357177734375 | Accuracy: 70.3125%\n",
            "GB | Epoch 1 | Loss: 0.7335221767425537 | Accuracy: 75.0%\n",
            "GB | Epoch 1 | Loss: 0.700165331363678 | Accuracy: 70.3125%\n",
            "GB | Epoch 1 | Loss: 0.8802139759063721 | Accuracy: 65.625%\n",
            "GB | Epoch 1 | Loss: 0.5831297636032104 | Accuracy: 79.6875%\n"
          ]
        },
        {
          "output_type": "stream",
          "name": "stderr",
          "text": [
            "Epoch 1:  25%|██▍       | 184/751 [00:04<00:13, 41.15batch/s, accuracy=73.4375%, loss=0.704]"
          ]
        },
        {
          "output_type": "stream",
          "name": "stdout",
          "text": [
            "GB | Epoch 1 | Loss: 0.7580274343490601 | Accuracy: 71.875%\n",
            "GB | Epoch 1 | Loss: 0.9525529146194458 | Accuracy: 62.5%\n",
            "GB | Epoch 1 | Loss: 0.680827260017395 | Accuracy: 79.6875%\n",
            "GB | Epoch 1 | Loss: 0.7312266230583191 | Accuracy: 68.75%\n",
            "GB | Epoch 1 | Loss: 0.6654360294342041 | Accuracy: 81.25%\n",
            "GB | Epoch 1 | Loss: 0.8088831305503845 | Accuracy: 70.3125%\n",
            "GB | Epoch 1 | Loss: 0.8214372396469116 | Accuracy: 68.75%\n",
            "GB | Epoch 1 | Loss: 0.7809571027755737 | Accuracy: 70.3125%\n",
            "GB | Epoch 1 | Loss: 0.7042325139045715 | Accuracy: 73.4375%\n"
          ]
        },
        {
          "output_type": "stream",
          "name": "stderr",
          "text": [
            "Epoch 1:  25%|██▌       | 189/751 [00:05<00:13, 41.21batch/s, accuracy=75.0%, loss=0.735]"
          ]
        },
        {
          "output_type": "stream",
          "name": "stdout",
          "text": [
            "GB | Epoch 1 | Loss: 0.7995641827583313 | Accuracy: 68.75%\n",
            "GB | Epoch 1 | Loss: 0.7194139957427979 | Accuracy: 73.4375%\n",
            "GB | Epoch 1 | Loss: 1.0559102296829224 | Accuracy: 60.9375%\n",
            "GB | Epoch 1 | Loss: 0.7592045664787292 | Accuracy: 73.4375%\n",
            "GB | Epoch 1 | Loss: 0.8879411816596985 | Accuracy: 67.1875%\n",
            "GB | Epoch 1 | Loss: 0.9036629796028137 | Accuracy: 65.625%\n",
            "GB | Epoch 1 | Loss: 0.7854575514793396 | Accuracy: 68.75%\n",
            "GB | Epoch 1 | Loss: 0.7176657319068909 | Accuracy: 75.0%\n",
            "GB | Epoch 1 | Loss: 0.734946072101593 | Accuracy: 75.0%\n"
          ]
        },
        {
          "output_type": "stream",
          "name": "stderr",
          "text": [
            "Epoch 1:  26%|██▋       | 199/751 [00:05<00:13, 41.84batch/s, accuracy=70.3125%, loss=0.758]"
          ]
        },
        {
          "output_type": "stream",
          "name": "stdout",
          "text": [
            "GB | Epoch 1 | Loss: 0.776100218296051 | Accuracy: 71.875%\n",
            "GB | Epoch 1 | Loss: 0.7479365468025208 | Accuracy: 70.3125%\n",
            "GB | Epoch 1 | Loss: 0.9348778128623962 | Accuracy: 62.5%\n",
            "GB | Epoch 1 | Loss: 0.7560186386108398 | Accuracy: 76.5625%\n",
            "GB | Epoch 1 | Loss: 0.5974788665771484 | Accuracy: 76.5625%\n",
            "GB | Epoch 1 | Loss: 0.8222302198410034 | Accuracy: 73.4375%\n",
            "GB | Epoch 1 | Loss: 0.7974004745483398 | Accuracy: 70.3125%\n",
            "GB | Epoch 1 | Loss: 0.5295029282569885 | Accuracy: 82.8125%\n",
            "GB | Epoch 1 | Loss: 0.7581251859664917 | Accuracy: 70.3125%\n"
          ]
        },
        {
          "output_type": "stream",
          "name": "stderr",
          "text": [
            "Epoch 1:  28%|██▊       | 209/751 [00:05<00:13, 41.05batch/s, accuracy=73.4375%, loss=0.713]"
          ]
        },
        {
          "output_type": "stream",
          "name": "stdout",
          "text": [
            "GB | Epoch 1 | Loss: 0.6883293986320496 | Accuracy: 73.4375%\n",
            "GB | Epoch 1 | Loss: 0.7410850524902344 | Accuracy: 73.4375%\n",
            "GB | Epoch 1 | Loss: 0.7823562622070312 | Accuracy: 64.0625%\n",
            "GB | Epoch 1 | Loss: 0.9854110479354858 | Accuracy: 68.75%\n",
            "GB | Epoch 1 | Loss: 0.7846538424491882 | Accuracy: 65.625%\n",
            "GB | Epoch 1 | Loss: 0.8362537622451782 | Accuracy: 73.4375%\n",
            "GB | Epoch 1 | Loss: 0.7443976998329163 | Accuracy: 71.875%\n",
            "GB | Epoch 1 | Loss: 0.7126321196556091 | Accuracy: 73.4375%\n"
          ]
        },
        {
          "output_type": "stream",
          "name": "stderr",
          "text": [
            "Epoch 1:  29%|██▉       | 218/751 [00:05<00:13, 38.97batch/s, accuracy=67.1875%, loss=0.864]"
          ]
        },
        {
          "output_type": "stream",
          "name": "stdout",
          "text": [
            "GB | Epoch 1 | Loss: 0.7469356656074524 | Accuracy: 73.4375%\n",
            "GB | Epoch 1 | Loss: 0.6458927392959595 | Accuracy: 78.125%\n",
            "GB | Epoch 1 | Loss: 0.7846502065658569 | Accuracy: 67.1875%\n",
            "GB | Epoch 1 | Loss: 0.6526534557342529 | Accuracy: 76.5625%\n",
            "GB | Epoch 1 | Loss: 0.740386426448822 | Accuracy: 71.875%\n",
            "GB | Epoch 1 | Loss: 0.7691724300384521 | Accuracy: 73.4375%\n",
            "GB | Epoch 1 | Loss: 0.6685498356819153 | Accuracy: 78.125%\n",
            "GB | Epoch 1 | Loss: 0.8636314272880554 | Accuracy: 67.1875%\n"
          ]
        },
        {
          "output_type": "stream",
          "name": "stderr",
          "text": [
            "Epoch 1:  30%|███       | 227/751 [00:05<00:13, 39.38batch/s, accuracy=73.4375%, loss=0.762]"
          ]
        },
        {
          "output_type": "stream",
          "name": "stdout",
          "text": [
            "GB | Epoch 1 | Loss: 0.8828482031822205 | Accuracy: 78.125%\n",
            "GB | Epoch 1 | Loss: 0.5683075189590454 | Accuracy: 79.6875%\n",
            "GB | Epoch 1 | Loss: 0.8185624480247498 | Accuracy: 67.1875%\n",
            "GB | Epoch 1 | Loss: 0.8033713698387146 | Accuracy: 73.4375%\n",
            "GB | Epoch 1 | Loss: 0.9406500458717346 | Accuracy: 67.1875%\n",
            "GB | Epoch 1 | Loss: 0.7824770212173462 | Accuracy: 68.75%\n",
            "GB | Epoch 1 | Loss: 0.8088887929916382 | Accuracy: 65.625%\n",
            "GB | Epoch 1 | Loss: 0.6926888227462769 | Accuracy: 73.4375%\n",
            "GB | Epoch 1 | Loss: 0.7615899443626404 | Accuracy: 73.4375%\n"
          ]
        },
        {
          "output_type": "stream",
          "name": "stderr",
          "text": [
            "Epoch 1:  31%|███       | 232/751 [00:06<00:12, 40.27batch/s, accuracy=75.0%, loss=0.643]  "
          ]
        },
        {
          "output_type": "stream",
          "name": "stdout",
          "text": [
            "GB | Epoch 1 | Loss: 0.9037513732910156 | Accuracy: 67.1875%\n",
            "GB | Epoch 1 | Loss: 0.9416465163230896 | Accuracy: 59.375%\n",
            "GB | Epoch 1 | Loss: 0.7525848746299744 | Accuracy: 78.125%\n",
            "GB | Epoch 1 | Loss: 0.6734557747840881 | Accuracy: 75.0%\n",
            "GB | Epoch 1 | Loss: 0.6047899723052979 | Accuracy: 82.8125%\n",
            "GB | Epoch 1 | Loss: 0.7150677442550659 | Accuracy: 71.875%\n",
            "GB | Epoch 1 | Loss: 0.9171714186668396 | Accuracy: 70.3125%\n",
            "GB | Epoch 1 | Loss: 0.6491734385490417 | Accuracy: 78.125%\n",
            "GB | Epoch 1 | Loss: 0.6433931589126587 | Accuracy: 75.0%\n"
          ]
        },
        {
          "output_type": "stream",
          "name": "stderr",
          "text": [
            "Epoch 1:  32%|███▏      | 242/751 [00:06<00:12, 41.57batch/s, accuracy=81.25%, loss=0.631] "
          ]
        },
        {
          "output_type": "stream",
          "name": "stdout",
          "text": [
            "GB | Epoch 1 | Loss: 0.9117633104324341 | Accuracy: 60.9375%\n",
            "GB | Epoch 1 | Loss: 0.8102405667304993 | Accuracy: 70.3125%\n",
            "GB | Epoch 1 | Loss: 0.7531752586364746 | Accuracy: 68.75%\n",
            "GB | Epoch 1 | Loss: 0.894519031047821 | Accuracy: 67.1875%\n",
            "GB | Epoch 1 | Loss: 0.8351818919181824 | Accuracy: 65.625%\n",
            "GB | Epoch 1 | Loss: 0.7937548756599426 | Accuracy: 70.3125%\n",
            "GB | Epoch 1 | Loss: 0.774670422077179 | Accuracy: 73.4375%\n",
            "GB | Epoch 1 | Loss: 0.9749740362167358 | Accuracy: 65.625%\n",
            "GB | Epoch 1 | Loss: 0.63144451379776 | Accuracy: 81.25%\n"
          ]
        },
        {
          "output_type": "stream",
          "name": "stderr",
          "text": [
            "Epoch 1:  34%|███▎      | 252/751 [00:06<00:12, 40.04batch/s, accuracy=75.0%, loss=0.736]   "
          ]
        },
        {
          "output_type": "stream",
          "name": "stdout",
          "text": [
            "GB | Epoch 1 | Loss: 0.7021077275276184 | Accuracy: 73.4375%\n",
            "GB | Epoch 1 | Loss: 0.5761451125144958 | Accuracy: 82.8125%\n",
            "GB | Epoch 1 | Loss: 0.6924623250961304 | Accuracy: 75.0%\n",
            "GB | Epoch 1 | Loss: 0.7225775122642517 | Accuracy: 73.4375%\n",
            "GB | Epoch 1 | Loss: 0.6365288496017456 | Accuracy: 76.5625%\n",
            "GB | Epoch 1 | Loss: 0.6704903244972229 | Accuracy: 73.4375%\n",
            "GB | Epoch 1 | Loss: 0.7894029021263123 | Accuracy: 70.3125%\n",
            "GB | Epoch 1 | Loss: 0.7358794808387756 | Accuracy: 75.0%\n"
          ]
        },
        {
          "output_type": "stream",
          "name": "stderr",
          "text": [
            "Epoch 1:  35%|███▍      | 262/751 [00:06<00:12, 39.59batch/s, accuracy=71.875%, loss=0.839]"
          ]
        },
        {
          "output_type": "stream",
          "name": "stdout",
          "text": [
            "GB | Epoch 1 | Loss: 0.844228982925415 | Accuracy: 70.3125%\n",
            "GB | Epoch 1 | Loss: 0.9213696122169495 | Accuracy: 64.0625%\n",
            "GB | Epoch 1 | Loss: 0.6305190920829773 | Accuracy: 70.3125%\n",
            "GB | Epoch 1 | Loss: 0.6083002090454102 | Accuracy: 81.25%\n",
            "GB | Epoch 1 | Loss: 0.8580597639083862 | Accuracy: 64.0625%\n",
            "GB | Epoch 1 | Loss: 0.9344799518585205 | Accuracy: 65.625%\n",
            "GB | Epoch 1 | Loss: 0.7195630073547363 | Accuracy: 73.4375%\n",
            "GB | Epoch 1 | Loss: 0.7456891536712646 | Accuracy: 76.5625%\n",
            "GB | Epoch 1 | Loss: 0.8385133147239685 | Accuracy: 71.875%\n"
          ]
        },
        {
          "output_type": "stream",
          "name": "stderr",
          "text": [
            "Epoch 1:  36%|███▌      | 267/751 [00:07<00:11, 40.84batch/s, accuracy=70.3125%, loss=0.707]"
          ]
        },
        {
          "output_type": "stream",
          "name": "stdout",
          "text": [
            "GB | Epoch 1 | Loss: 0.5847011804580688 | Accuracy: 78.125%\n",
            "GB | Epoch 1 | Loss: 0.8559302091598511 | Accuracy: 75.0%\n",
            "GB | Epoch 1 | Loss: 0.8825477957725525 | Accuracy: 64.0625%\n",
            "GB | Epoch 1 | Loss: 0.8225847482681274 | Accuracy: 71.875%\n",
            "GB | Epoch 1 | Loss: 0.7946756482124329 | Accuracy: 57.8125%\n",
            "GB | Epoch 1 | Loss: 0.786156415939331 | Accuracy: 73.4375%\n",
            "GB | Epoch 1 | Loss: 0.740775465965271 | Accuracy: 75.0%\n",
            "GB | Epoch 1 | Loss: 0.7887186408042908 | Accuracy: 67.1875%\n",
            "GB | Epoch 1 | Loss: 0.9632881879806519 | Accuracy: 70.3125%\n"
          ]
        },
        {
          "output_type": "stream",
          "name": "stderr",
          "text": [
            "Epoch 1:  37%|███▋      | 277/751 [00:07<00:11, 41.90batch/s, accuracy=76.5625%, loss=0.67] "
          ]
        },
        {
          "output_type": "stream",
          "name": "stdout",
          "text": [
            "GB | Epoch 1 | Loss: 0.7073068022727966 | Accuracy: 70.3125%\n",
            "GB | Epoch 1 | Loss: 0.5917155146598816 | Accuracy: 79.6875%\n",
            "GB | Epoch 1 | Loss: 0.6648271083831787 | Accuracy: 79.6875%\n",
            "GB | Epoch 1 | Loss: 0.6534111499786377 | Accuracy: 78.125%\n",
            "GB | Epoch 1 | Loss: 0.7633578181266785 | Accuracy: 71.875%\n",
            "GB | Epoch 1 | Loss: 0.8015182018280029 | Accuracy: 73.4375%\n",
            "GB | Epoch 1 | Loss: 0.7027816772460938 | Accuracy: 75.0%\n",
            "GB | Epoch 1 | Loss: 0.7685171365737915 | Accuracy: 70.3125%\n",
            "GB | Epoch 1 | Loss: 0.6700009107589722 | Accuracy: 76.5625%\n"
          ]
        },
        {
          "output_type": "stream",
          "name": "stderr",
          "text": [
            "Epoch 1:  38%|███▊      | 287/751 [00:07<00:12, 37.66batch/s, accuracy=71.875%, loss=0.746]"
          ]
        },
        {
          "output_type": "stream",
          "name": "stdout",
          "text": [
            "GB | Epoch 1 | Loss: 0.557223916053772 | Accuracy: 87.5%\n",
            "GB | Epoch 1 | Loss: 0.8170838356018066 | Accuracy: 71.875%\n",
            "GB | Epoch 1 | Loss: 0.677324116230011 | Accuracy: 75.0%\n",
            "GB | Epoch 1 | Loss: 0.6129436492919922 | Accuracy: 81.25%\n",
            "GB | Epoch 1 | Loss: 0.745479941368103 | Accuracy: 76.5625%\n",
            "GB | Epoch 1 | Loss: 0.6930400133132935 | Accuracy: 78.125%\n",
            "GB | Epoch 1 | Loss: 0.7461391687393188 | Accuracy: 71.875%\n"
          ]
        },
        {
          "output_type": "stream",
          "name": "stderr",
          "text": [
            "Epoch 1:  39%|███▊      | 291/751 [00:07<00:13, 34.78batch/s, accuracy=67.1875%, loss=0.864]"
          ]
        },
        {
          "output_type": "stream",
          "name": "stdout",
          "text": [
            "GB | Epoch 1 | Loss: 0.5212745070457458 | Accuracy: 82.8125%\n",
            "GB | Epoch 1 | Loss: 0.7228472828865051 | Accuracy: 70.3125%\n",
            "GB | Epoch 1 | Loss: 0.5657585859298706 | Accuracy: 79.6875%\n",
            "GB | Epoch 1 | Loss: 0.7403366565704346 | Accuracy: 75.0%\n",
            "GB | Epoch 1 | Loss: 0.7131897807121277 | Accuracy: 71.875%\n",
            "GB | Epoch 1 | Loss: 0.8642932772636414 | Accuracy: 67.1875%\n"
          ]
        },
        {
          "output_type": "stream",
          "name": "stderr",
          "text": [
            "Epoch 1:  40%|███▉      | 299/751 [00:07<00:14, 31.04batch/s, accuracy=65.625%, loss=0.999] "
          ]
        },
        {
          "output_type": "stream",
          "name": "stdout",
          "text": [
            "GB | Epoch 1 | Loss: 0.5681769251823425 | Accuracy: 79.6875%\n",
            "GB | Epoch 1 | Loss: 0.7453118562698364 | Accuracy: 78.125%\n",
            "GB | Epoch 1 | Loss: 0.7280833721160889 | Accuracy: 76.5625%\n",
            "GB | Epoch 1 | Loss: 0.7000061273574829 | Accuracy: 73.4375%\n",
            "GB | Epoch 1 | Loss: 0.6291679739952087 | Accuracy: 76.5625%\n",
            "GB | Epoch 1 | Loss: 0.6126302480697632 | Accuracy: 82.8125%\n",
            "GB | Epoch 1 | Loss: 0.9987561702728271 | Accuracy: 65.625%\n"
          ]
        },
        {
          "output_type": "stream",
          "name": "stderr",
          "text": [
            "Epoch 1:  41%|████      | 307/751 [00:08<00:14, 30.75batch/s, accuracy=76.5625%, loss=0.778]"
          ]
        },
        {
          "output_type": "stream",
          "name": "stdout",
          "text": [
            "GB | Epoch 1 | Loss: 0.6423752307891846 | Accuracy: 81.25%\n",
            "GB | Epoch 1 | Loss: 0.7394725680351257 | Accuracy: 75.0%\n",
            "GB | Epoch 1 | Loss: 0.7171267867088318 | Accuracy: 71.875%\n",
            "GB | Epoch 1 | Loss: 0.7699163556098938 | Accuracy: 71.875%\n",
            "GB | Epoch 1 | Loss: 0.6839798092842102 | Accuracy: 70.3125%\n",
            "GB | Epoch 1 | Loss: 0.8475216031074524 | Accuracy: 65.625%\n",
            "GB | Epoch 1 | Loss: 0.7778549790382385 | Accuracy: 76.5625%\n"
          ]
        },
        {
          "output_type": "stream",
          "name": "stderr",
          "text": [
            "Epoch 1:  41%|████▏     | 311/751 [00:08<00:14, 30.41batch/s, accuracy=84.375%, loss=0.615]"
          ]
        },
        {
          "output_type": "stream",
          "name": "stdout",
          "text": [
            "GB | Epoch 1 | Loss: 0.648758590221405 | Accuracy: 81.25%\n",
            "GB | Epoch 1 | Loss: 0.7395417094230652 | Accuracy: 71.875%\n",
            "GB | Epoch 1 | Loss: 0.6601006984710693 | Accuracy: 78.125%\n",
            "GB | Epoch 1 | Loss: 0.9019041657447815 | Accuracy: 67.1875%\n",
            "GB | Epoch 1 | Loss: 0.7921341061592102 | Accuracy: 60.9375%\n",
            "GB | Epoch 1 | Loss: 0.7776866555213928 | Accuracy: 71.875%\n",
            "GB | Epoch 1 | Loss: 0.6152529120445251 | Accuracy: 84.375%\n"
          ]
        },
        {
          "output_type": "stream",
          "name": "stderr",
          "text": [
            "Epoch 1:  42%|████▏     | 319/751 [00:08<00:14, 30.20batch/s, accuracy=78.125%, loss=0.809]"
          ]
        },
        {
          "output_type": "stream",
          "name": "stdout",
          "text": [
            "GB | Epoch 1 | Loss: 0.6336891651153564 | Accuracy: 84.375%\n",
            "GB | Epoch 1 | Loss: 0.7094721794128418 | Accuracy: 76.5625%\n",
            "GB | Epoch 1 | Loss: 0.7276536822319031 | Accuracy: 75.0%\n",
            "GB | Epoch 1 | Loss: 0.7134459018707275 | Accuracy: 76.5625%\n",
            "GB | Epoch 1 | Loss: 0.6032306551933289 | Accuracy: 78.125%\n",
            "GB | Epoch 1 | Loss: 0.8094078302383423 | Accuracy: 78.125%\n"
          ]
        },
        {
          "output_type": "stream",
          "name": "stderr",
          "text": [
            "Epoch 1:  43%|████▎     | 326/751 [00:08<00:14, 28.85batch/s, accuracy=79.6875%, loss=0.568]"
          ]
        },
        {
          "output_type": "stream",
          "name": "stdout",
          "text": [
            "GB | Epoch 1 | Loss: 0.583743691444397 | Accuracy: 85.9375%\n",
            "GB | Epoch 1 | Loss: 0.717193603515625 | Accuracy: 73.4375%\n",
            "GB | Epoch 1 | Loss: 0.8015968203544617 | Accuracy: 73.4375%\n",
            "GB | Epoch 1 | Loss: 0.7330728769302368 | Accuracy: 71.875%\n",
            "GB | Epoch 1 | Loss: 0.5574244856834412 | Accuracy: 76.5625%\n",
            "GB | Epoch 1 | Loss: 0.567560076713562 | Accuracy: 79.6875%\n"
          ]
        },
        {
          "output_type": "stream",
          "name": "stderr",
          "text": [
            "Epoch 1:  44%|████▍     | 330/751 [00:08<00:14, 29.18batch/s, accuracy=64.0625%, loss=0.871]"
          ]
        },
        {
          "output_type": "stream",
          "name": "stdout",
          "text": [
            "GB | Epoch 1 | Loss: 0.6511738300323486 | Accuracy: 79.6875%\n",
            "GB | Epoch 1 | Loss: 0.8769440054893494 | Accuracy: 67.1875%\n",
            "GB | Epoch 1 | Loss: 0.5881312489509583 | Accuracy: 79.6875%\n",
            "GB | Epoch 1 | Loss: 0.6893320679664612 | Accuracy: 76.5625%\n",
            "GB | Epoch 1 | Loss: 0.6417073011398315 | Accuracy: 76.5625%\n",
            "GB | Epoch 1 | Loss: 0.4696367383003235 | Accuracy: 87.5%\n",
            "GB | Epoch 1 | Loss: 0.8714615702629089 | Accuracy: 64.0625%\n"
          ]
        },
        {
          "output_type": "stream",
          "name": "stderr",
          "text": [
            "Epoch 1:  45%|████▌     | 338/751 [00:09<00:13, 29.99batch/s, accuracy=70.3125%, loss=0.753]"
          ]
        },
        {
          "output_type": "stream",
          "name": "stdout",
          "text": [
            "GB | Epoch 1 | Loss: 0.57039475440979 | Accuracy: 87.5%\n",
            "GB | Epoch 1 | Loss: 0.5972481369972229 | Accuracy: 76.5625%\n",
            "GB | Epoch 1 | Loss: 0.7347474098205566 | Accuracy: 71.875%\n",
            "GB | Epoch 1 | Loss: 0.8955753445625305 | Accuracy: 70.3125%\n",
            "GB | Epoch 1 | Loss: 0.7009516954421997 | Accuracy: 70.3125%\n",
            "GB | Epoch 1 | Loss: 0.7603058218955994 | Accuracy: 71.875%\n"
          ]
        },
        {
          "output_type": "stream",
          "name": "stderr",
          "text": [
            "Epoch 1:  46%|████▌     | 345/751 [00:09<00:13, 30.07batch/s, accuracy=81.25%, loss=0.593]"
          ]
        },
        {
          "output_type": "stream",
          "name": "stdout",
          "text": [
            "GB | Epoch 1 | Loss: 0.7528699040412903 | Accuracy: 70.3125%\n",
            "GB | Epoch 1 | Loss: 0.8576273918151855 | Accuracy: 62.5%\n",
            "GB | Epoch 1 | Loss: 0.7325668334960938 | Accuracy: 71.875%\n",
            "GB | Epoch 1 | Loss: 0.6263476014137268 | Accuracy: 78.125%\n",
            "GB | Epoch 1 | Loss: 0.739723265171051 | Accuracy: 73.4375%\n",
            "GB | Epoch 1 | Loss: 0.5927228927612305 | Accuracy: 81.25%\n"
          ]
        },
        {
          "output_type": "stream",
          "name": "stderr",
          "text": [
            "Epoch 1:  47%|████▋     | 351/751 [00:09<00:14, 27.94batch/s, accuracy=73.4375%, loss=0.743]"
          ]
        },
        {
          "output_type": "stream",
          "name": "stdout",
          "text": [
            "GB | Epoch 1 | Loss: 0.6176164150238037 | Accuracy: 76.5625%\n",
            "GB | Epoch 1 | Loss: 0.608313798904419 | Accuracy: 78.125%\n",
            "GB | Epoch 1 | Loss: 0.6186094284057617 | Accuracy: 76.5625%\n",
            "GB | Epoch 1 | Loss: 0.6043822169303894 | Accuracy: 82.8125%\n",
            "GB | Epoch 1 | Loss: 0.6535245776176453 | Accuracy: 75.0%\n",
            "GB | Epoch 1 | Loss: 0.7431792616844177 | Accuracy: 73.4375%\n"
          ]
        },
        {
          "output_type": "stream",
          "name": "stderr",
          "text": [
            "Epoch 1:  48%|████▊     | 357/751 [00:09<00:14, 28.01batch/s, accuracy=71.875%, loss=0.793]"
          ]
        },
        {
          "output_type": "stream",
          "name": "stdout",
          "text": [
            "GB | Epoch 1 | Loss: 0.6974241733551025 | Accuracy: 76.5625%\n",
            "GB | Epoch 1 | Loss: 0.713126540184021 | Accuracy: 73.4375%\n",
            "GB | Epoch 1 | Loss: 0.74299556016922 | Accuracy: 70.3125%\n",
            "GB | Epoch 1 | Loss: 0.5469887256622314 | Accuracy: 79.6875%\n",
            "GB | Epoch 1 | Loss: 0.7485005855560303 | Accuracy: 73.4375%\n",
            "GB | Epoch 1 | Loss: 0.7928439378738403 | Accuracy: 71.875%\n"
          ]
        },
        {
          "output_type": "stream",
          "name": "stderr",
          "text": [
            "Epoch 1:  48%|████▊     | 364/751 [00:10<00:13, 28.79batch/s, accuracy=67.1875%, loss=0.726]"
          ]
        },
        {
          "output_type": "stream",
          "name": "stdout",
          "text": [
            "GB | Epoch 1 | Loss: 0.7361483573913574 | Accuracy: 71.875%\n",
            "GB | Epoch 1 | Loss: 0.5724137425422668 | Accuracy: 76.5625%\n",
            "GB | Epoch 1 | Loss: 0.4765974283218384 | Accuracy: 90.625%\n",
            "GB | Epoch 1 | Loss: 0.6230320334434509 | Accuracy: 81.25%\n",
            "GB | Epoch 1 | Loss: 0.702616810798645 | Accuracy: 71.875%\n",
            "GB | Epoch 1 | Loss: 0.5477818250656128 | Accuracy: 81.25%\n",
            "GB | Epoch 1 | Loss: 0.7261486649513245 | Accuracy: 67.1875%\n"
          ]
        },
        {
          "output_type": "stream",
          "name": "stderr",
          "text": [
            "Epoch 1:  49%|████▉     | 368/751 [00:10<00:13, 28.86batch/s, accuracy=78.125%, loss=0.621] "
          ]
        },
        {
          "output_type": "stream",
          "name": "stdout",
          "text": [
            "GB | Epoch 1 | Loss: 0.6768957376480103 | Accuracy: 75.0%\n",
            "GB | Epoch 1 | Loss: 0.6159228086471558 | Accuracy: 75.0%\n",
            "GB | Epoch 1 | Loss: 0.5805160999298096 | Accuracy: 75.0%\n",
            "GB | Epoch 1 | Loss: 0.5922403335571289 | Accuracy: 78.125%\n",
            "GB | Epoch 1 | Loss: 0.5963034629821777 | Accuracy: 76.5625%\n",
            "GB | Epoch 1 | Loss: 0.6208224296569824 | Accuracy: 78.125%\n"
          ]
        },
        {
          "output_type": "stream",
          "name": "stderr",
          "text": [
            "Epoch 1:  50%|████▉     | 375/751 [00:10<00:12, 29.25batch/s, accuracy=78.125%, loss=0.787] "
          ]
        },
        {
          "output_type": "stream",
          "name": "stdout",
          "text": [
            "GB | Epoch 1 | Loss: 0.6082533597946167 | Accuracy: 75.0%\n",
            "GB | Epoch 1 | Loss: 0.6756384372711182 | Accuracy: 71.875%\n",
            "GB | Epoch 1 | Loss: 0.6065967679023743 | Accuracy: 81.25%\n",
            "GB | Epoch 1 | Loss: 0.6056281924247742 | Accuracy: 71.875%\n",
            "GB | Epoch 1 | Loss: 0.6156203150749207 | Accuracy: 79.6875%\n",
            "GB | Epoch 1 | Loss: 0.78687584400177 | Accuracy: 78.125%\n"
          ]
        },
        {
          "output_type": "stream",
          "name": "stderr",
          "text": [
            "Epoch 1:  51%|█████     | 382/751 [00:10<00:12, 29.82batch/s, accuracy=65.625%, loss=0.742] "
          ]
        },
        {
          "output_type": "stream",
          "name": "stdout",
          "text": [
            "GB | Epoch 1 | Loss: 0.5521488189697266 | Accuracy: 79.6875%\n",
            "GB | Epoch 1 | Loss: 0.7122806906700134 | Accuracy: 73.4375%\n",
            "GB | Epoch 1 | Loss: 0.7771165370941162 | Accuracy: 68.75%\n",
            "GB | Epoch 1 | Loss: 0.5732346177101135 | Accuracy: 76.5625%\n",
            "GB | Epoch 1 | Loss: 0.5896465182304382 | Accuracy: 79.6875%\n",
            "GB | Epoch 1 | Loss: 0.7220635414123535 | Accuracy: 67.1875%\n",
            "GB | Epoch 1 | Loss: 0.7424098253250122 | Accuracy: 65.625%\n"
          ]
        },
        {
          "output_type": "stream",
          "name": "stderr",
          "text": [
            "Epoch 1:  52%|█████▏    | 388/751 [00:10<00:12, 28.74batch/s, accuracy=76.5625%, loss=0.544]"
          ]
        },
        {
          "output_type": "stream",
          "name": "stdout",
          "text": [
            "GB | Epoch 1 | Loss: 0.6533799171447754 | Accuracy: 71.875%\n",
            "GB | Epoch 1 | Loss: 0.6126362681388855 | Accuracy: 73.4375%\n",
            "GB | Epoch 1 | Loss: 0.583746075630188 | Accuracy: 79.6875%\n",
            "GB | Epoch 1 | Loss: 0.5682875514030457 | Accuracy: 78.125%\n",
            "GB | Epoch 1 | Loss: 0.5958487391471863 | Accuracy: 84.375%\n",
            "GB | Epoch 1 | Loss: 0.6124672889709473 | Accuracy: 84.375%\n",
            "GB | Epoch 1 | Loss: 0.5439381003379822 | Accuracy: 76.5625%\n"
          ]
        },
        {
          "output_type": "stream",
          "name": "stderr",
          "text": [
            "Epoch 1:  53%|█████▎    | 397/751 [00:11<00:10, 35.34batch/s, accuracy=75.0%, loss=0.708]   "
          ]
        },
        {
          "output_type": "stream",
          "name": "stdout",
          "text": [
            "GB | Epoch 1 | Loss: 0.5160900354385376 | Accuracy: 79.6875%\n",
            "GB | Epoch 1 | Loss: 0.5667302012443542 | Accuracy: 84.375%\n",
            "GB | Epoch 1 | Loss: 0.4636305272579193 | Accuracy: 82.8125%\n",
            "GB | Epoch 1 | Loss: 0.5436002612113953 | Accuracy: 85.9375%\n",
            "GB | Epoch 1 | Loss: 0.8068421483039856 | Accuracy: 75.0%\n",
            "GB | Epoch 1 | Loss: 0.7458763718605042 | Accuracy: 70.3125%\n",
            "GB | Epoch 1 | Loss: 0.7591225504875183 | Accuracy: 71.875%\n",
            "GB | Epoch 1 | Loss: 0.7257561683654785 | Accuracy: 70.3125%\n",
            "GB | Epoch 1 | Loss: 0.708388090133667 | Accuracy: 75.0%\n"
          ]
        },
        {
          "output_type": "stream",
          "name": "stderr",
          "text": [
            "Epoch 1:  54%|█████▍    | 407/751 [00:11<00:08, 39.18batch/s, accuracy=90.625%, loss=0.413]"
          ]
        },
        {
          "output_type": "stream",
          "name": "stdout",
          "text": [
            "GB | Epoch 1 | Loss: 0.6345868706703186 | Accuracy: 75.0%\n",
            "GB | Epoch 1 | Loss: 0.6868751645088196 | Accuracy: 75.0%\n",
            "GB | Epoch 1 | Loss: 0.7461373209953308 | Accuracy: 75.0%\n",
            "GB | Epoch 1 | Loss: 0.6503916382789612 | Accuracy: 76.5625%\n",
            "GB | Epoch 1 | Loss: 0.6055809259414673 | Accuracy: 79.6875%\n",
            "GB | Epoch 1 | Loss: 0.5862755179405212 | Accuracy: 76.5625%\n",
            "GB | Epoch 1 | Loss: 0.6510019898414612 | Accuracy: 78.125%\n",
            "GB | Epoch 1 | Loss: 0.6017997860908508 | Accuracy: 78.125%\n",
            "GB | Epoch 1 | Loss: 0.41293883323669434 | Accuracy: 90.625%\n"
          ]
        },
        {
          "output_type": "stream",
          "name": "stderr",
          "text": [
            "Epoch 1:  55%|█████▌    | 416/751 [00:11<00:08, 39.32batch/s, accuracy=78.125%, loss=0.538]"
          ]
        },
        {
          "output_type": "stream",
          "name": "stdout",
          "text": [
            "GB | Epoch 1 | Loss: 0.6507187485694885 | Accuracy: 84.375%\n",
            "GB | Epoch 1 | Loss: 0.6898666620254517 | Accuracy: 75.0%\n",
            "GB | Epoch 1 | Loss: 0.813021719455719 | Accuracy: 75.0%\n",
            "GB | Epoch 1 | Loss: 0.716221809387207 | Accuracy: 73.4375%\n",
            "GB | Epoch 1 | Loss: 0.5841942429542542 | Accuracy: 81.25%\n",
            "GB | Epoch 1 | Loss: 0.6693840622901917 | Accuracy: 70.3125%\n",
            "GB | Epoch 1 | Loss: 0.49214377999305725 | Accuracy: 82.8125%\n",
            "GB | Epoch 1 | Loss: 0.5384331345558167 | Accuracy: 78.125%\n"
          ]
        },
        {
          "output_type": "stream",
          "name": "stderr",
          "text": [
            "Epoch 1:  56%|█████▌    | 421/751 [00:11<00:08, 39.95batch/s, accuracy=70.3125%, loss=0.725]"
          ]
        },
        {
          "output_type": "stream",
          "name": "stdout",
          "text": [
            "GB | Epoch 1 | Loss: 0.7187117338180542 | Accuracy: 75.0%\n",
            "GB | Epoch 1 | Loss: 0.4913414716720581 | Accuracy: 79.6875%\n",
            "GB | Epoch 1 | Loss: 0.8291988968849182 | Accuracy: 71.875%\n",
            "GB | Epoch 1 | Loss: 0.6186725497245789 | Accuracy: 78.125%\n",
            "GB | Epoch 1 | Loss: 0.7197405099868774 | Accuracy: 68.75%\n",
            "GB | Epoch 1 | Loss: 0.6319373250007629 | Accuracy: 78.125%\n",
            "GB | Epoch 1 | Loss: 0.5815703868865967 | Accuracy: 81.25%\n",
            "GB | Epoch 1 | Loss: 0.6599513292312622 | Accuracy: 78.125%\n",
            "GB | Epoch 1 | Loss: 0.7248527407646179 | Accuracy: 70.3125%\n"
          ]
        },
        {
          "output_type": "stream",
          "name": "stderr",
          "text": [
            "Epoch 1:  57%|█████▋    | 431/751 [00:12<00:08, 39.67batch/s, accuracy=79.6875%, loss=0.597]"
          ]
        },
        {
          "output_type": "stream",
          "name": "stdout",
          "text": [
            "GB | Epoch 1 | Loss: 0.5356618762016296 | Accuracy: 78.125%\n",
            "GB | Epoch 1 | Loss: 0.6034601330757141 | Accuracy: 78.125%\n",
            "GB | Epoch 1 | Loss: 0.6713076233863831 | Accuracy: 75.0%\n",
            "GB | Epoch 1 | Loss: 0.6752138733863831 | Accuracy: 70.3125%\n",
            "GB | Epoch 1 | Loss: 0.582970917224884 | Accuracy: 76.5625%\n",
            "GB | Epoch 1 | Loss: 0.5929436087608337 | Accuracy: 79.6875%\n",
            "GB | Epoch 1 | Loss: 0.841881275177002 | Accuracy: 73.4375%\n",
            "GB | Epoch 1 | Loss: 0.645129919052124 | Accuracy: 70.3125%\n",
            "GB | Epoch 1 | Loss: 0.5970861315727234 | Accuracy: 79.6875%\n"
          ]
        },
        {
          "output_type": "stream",
          "name": "stderr",
          "text": [
            "Epoch 1:  59%|█████▊    | 441/751 [00:12<00:07, 41.63batch/s, accuracy=85.9375%, loss=0.471]"
          ]
        },
        {
          "output_type": "stream",
          "name": "stdout",
          "text": [
            "GB | Epoch 1 | Loss: 0.5928399562835693 | Accuracy: 76.5625%\n",
            "GB | Epoch 1 | Loss: 0.6586673259735107 | Accuracy: 79.6875%\n",
            "GB | Epoch 1 | Loss: 0.4517405331134796 | Accuracy: 82.8125%\n",
            "GB | Epoch 1 | Loss: 0.5875434279441833 | Accuracy: 84.375%\n",
            "GB | Epoch 1 | Loss: 0.8441901206970215 | Accuracy: 70.3125%\n",
            "GB | Epoch 1 | Loss: 0.6205333471298218 | Accuracy: 76.5625%\n",
            "GB | Epoch 1 | Loss: 0.5000280737876892 | Accuracy: 85.9375%\n",
            "GB | Epoch 1 | Loss: 0.7917527556419373 | Accuracy: 75.0%\n",
            "GB | Epoch 1 | Loss: 0.5764672756195068 | Accuracy: 78.125%\n"
          ]
        },
        {
          "output_type": "stream",
          "name": "stderr",
          "text": [
            "Epoch 1:  60%|██████    | 451/751 [00:12<00:07, 41.77batch/s, accuracy=76.5625%, loss=0.622]"
          ]
        },
        {
          "output_type": "stream",
          "name": "stdout",
          "text": [
            "GB | Epoch 1 | Loss: 0.47053664922714233 | Accuracy: 85.9375%\n",
            "GB | Epoch 1 | Loss: 0.7249928712844849 | Accuracy: 73.4375%\n",
            "GB | Epoch 1 | Loss: 0.6679401397705078 | Accuracy: 76.5625%\n",
            "GB | Epoch 1 | Loss: 0.5683847069740295 | Accuracy: 79.6875%\n",
            "GB | Epoch 1 | Loss: 0.7856830358505249 | Accuracy: 75.0%\n",
            "GB | Epoch 1 | Loss: 0.5848971605300903 | Accuracy: 87.5%\n",
            "GB | Epoch 1 | Loss: 0.625321090221405 | Accuracy: 78.125%\n",
            "GB | Epoch 1 | Loss: 0.616249680519104 | Accuracy: 71.875%\n",
            "GB | Epoch 1 | Loss: 0.6223606467247009 | Accuracy: 76.5625%\n"
          ]
        },
        {
          "output_type": "stream",
          "name": "stderr",
          "text": [
            "Epoch 1:  61%|██████▏   | 461/751 [00:12<00:07, 40.23batch/s, accuracy=62.5%, loss=0.918]"
          ]
        },
        {
          "output_type": "stream",
          "name": "stdout",
          "text": [
            "GB | Epoch 1 | Loss: 0.5917178392410278 | Accuracy: 70.3125%\n",
            "GB | Epoch 1 | Loss: 0.6025604605674744 | Accuracy: 78.125%\n",
            "GB | Epoch 1 | Loss: 0.5575047135353088 | Accuracy: 81.25%\n",
            "GB | Epoch 1 | Loss: 0.5887143015861511 | Accuracy: 81.25%\n",
            "GB | Epoch 1 | Loss: 0.7671241164207458 | Accuracy: 67.1875%\n",
            "GB | Epoch 1 | Loss: 0.6334576606750488 | Accuracy: 75.0%\n",
            "GB | Epoch 1 | Loss: 0.7005459666252136 | Accuracy: 78.125%\n",
            "GB | Epoch 1 | Loss: 0.5924019813537598 | Accuracy: 84.375%\n",
            "GB | Epoch 1 | Loss: 0.917576014995575 | Accuracy: 62.5%\n"
          ]
        },
        {
          "output_type": "stream",
          "name": "stderr",
          "text": [
            "Epoch 1:  62%|██████▏   | 466/751 [00:12<00:07, 40.71batch/s, accuracy=75.0%, loss=0.641]   "
          ]
        },
        {
          "output_type": "stream",
          "name": "stdout",
          "text": [
            "GB | Epoch 1 | Loss: 0.5215891599655151 | Accuracy: 75.0%\n",
            "GB | Epoch 1 | Loss: 0.471964955329895 | Accuracy: 84.375%\n",
            "GB | Epoch 1 | Loss: 0.4358185827732086 | Accuracy: 82.8125%\n",
            "GB | Epoch 1 | Loss: 0.5920345783233643 | Accuracy: 71.875%\n",
            "GB | Epoch 1 | Loss: 0.4647386372089386 | Accuracy: 85.9375%\n",
            "GB | Epoch 1 | Loss: 0.5744579434394836 | Accuracy: 75.0%\n",
            "GB | Epoch 1 | Loss: 0.8338857889175415 | Accuracy: 65.625%\n",
            "GB | Epoch 1 | Loss: 0.6460440754890442 | Accuracy: 73.4375%\n",
            "GB | Epoch 1 | Loss: 0.6414493322372437 | Accuracy: 75.0%\n"
          ]
        },
        {
          "output_type": "stream",
          "name": "stderr",
          "text": [
            "Epoch 1:  63%|██████▎   | 476/751 [00:13<00:06, 39.62batch/s, accuracy=71.875%, loss=0.804] "
          ]
        },
        {
          "output_type": "stream",
          "name": "stdout",
          "text": [
            "GB | Epoch 1 | Loss: 0.7933605313301086 | Accuracy: 65.625%\n",
            "GB | Epoch 1 | Loss: 0.5045645833015442 | Accuracy: 78.125%\n",
            "GB | Epoch 1 | Loss: 0.6773346662521362 | Accuracy: 71.875%\n",
            "GB | Epoch 1 | Loss: 0.6415916681289673 | Accuracy: 81.25%\n",
            "GB | Epoch 1 | Loss: 0.5212748646736145 | Accuracy: 79.6875%\n",
            "GB | Epoch 1 | Loss: 0.6314369440078735 | Accuracy: 78.125%\n",
            "GB | Epoch 1 | Loss: 0.5537465214729309 | Accuracy: 76.5625%\n",
            "GB | Epoch 1 | Loss: 0.8036078810691833 | Accuracy: 71.875%\n"
          ]
        },
        {
          "output_type": "stream",
          "name": "stderr",
          "text": [
            "Epoch 1:  65%|██████▍   | 486/751 [00:13<00:06, 40.59batch/s, accuracy=75.0%, loss=0.736]   "
          ]
        },
        {
          "output_type": "stream",
          "name": "stdout",
          "text": [
            "GB | Epoch 1 | Loss: 0.6719800233840942 | Accuracy: 81.25%\n",
            "GB | Epoch 1 | Loss: 0.5610806941986084 | Accuracy: 85.9375%\n",
            "GB | Epoch 1 | Loss: 0.7457875609397888 | Accuracy: 68.75%\n",
            "GB | Epoch 1 | Loss: 0.7129361629486084 | Accuracy: 70.3125%\n",
            "GB | Epoch 1 | Loss: 0.7732674479484558 | Accuracy: 75.0%\n",
            "GB | Epoch 1 | Loss: 0.9262949228286743 | Accuracy: 65.625%\n",
            "GB | Epoch 1 | Loss: 0.6944966912269592 | Accuracy: 71.875%\n",
            "GB | Epoch 1 | Loss: 0.48491305112838745 | Accuracy: 85.9375%\n",
            "GB | Epoch 1 | Loss: 0.7362019419670105 | Accuracy: 75.0%\n"
          ]
        },
        {
          "output_type": "stream",
          "name": "stderr",
          "text": [
            "Epoch 1:  65%|██████▌   | 491/751 [00:13<00:06, 40.37batch/s, accuracy=71.875%, loss=0.654]"
          ]
        },
        {
          "output_type": "stream",
          "name": "stdout",
          "text": [
            "GB | Epoch 1 | Loss: 0.6982835531234741 | Accuracy: 78.125%\n",
            "GB | Epoch 1 | Loss: 0.6033045649528503 | Accuracy: 81.25%\n",
            "GB | Epoch 1 | Loss: 0.5216671824455261 | Accuracy: 82.8125%\n",
            "GB | Epoch 1 | Loss: 0.5989375710487366 | Accuracy: 81.25%\n",
            "GB | Epoch 1 | Loss: 0.7143879532814026 | Accuracy: 78.125%\n",
            "GB | Epoch 1 | Loss: 0.5155424475669861 | Accuracy: 79.6875%\n",
            "GB | Epoch 1 | Loss: 0.6231327056884766 | Accuracy: 81.25%\n",
            "GB | Epoch 1 | Loss: 0.6540566086769104 | Accuracy: 71.875%\n"
          ]
        },
        {
          "output_type": "stream",
          "name": "stderr",
          "text": [
            "Epoch 1:  67%|██████▋   | 501/751 [00:13<00:06, 39.15batch/s, accuracy=78.125%, loss=0.539]"
          ]
        },
        {
          "output_type": "stream",
          "name": "stdout",
          "text": [
            "GB | Epoch 1 | Loss: 0.6230517625808716 | Accuracy: 78.125%\n",
            "GB | Epoch 1 | Loss: 0.7658636569976807 | Accuracy: 70.3125%\n",
            "GB | Epoch 1 | Loss: 0.5697720646858215 | Accuracy: 85.9375%\n",
            "GB | Epoch 1 | Loss: 0.5359830260276794 | Accuracy: 79.6875%\n",
            "GB | Epoch 1 | Loss: 0.6992676854133606 | Accuracy: 75.0%\n",
            "GB | Epoch 1 | Loss: 0.582903265953064 | Accuracy: 82.8125%\n",
            "GB | Epoch 1 | Loss: 0.465035617351532 | Accuracy: 82.8125%\n",
            "GB | Epoch 1 | Loss: 0.7774168848991394 | Accuracy: 65.625%\n",
            "GB | Epoch 1 | Loss: 0.538767397403717 | Accuracy: 78.125%\n"
          ]
        },
        {
          "output_type": "stream",
          "name": "stderr",
          "text": [
            "Epoch 1:  68%|██████▊   | 511/751 [00:13<00:05, 41.24batch/s, accuracy=70.3125%, loss=0.579]"
          ]
        },
        {
          "output_type": "stream",
          "name": "stdout",
          "text": [
            "GB | Epoch 1 | Loss: 0.6731147766113281 | Accuracy: 78.125%\n",
            "GB | Epoch 1 | Loss: 0.5148171186447144 | Accuracy: 78.125%\n",
            "GB | Epoch 1 | Loss: 0.43626028299331665 | Accuracy: 87.5%\n",
            "GB | Epoch 1 | Loss: 0.6598426699638367 | Accuracy: 76.5625%\n",
            "GB | Epoch 1 | Loss: 0.5323649048805237 | Accuracy: 82.8125%\n",
            "GB | Epoch 1 | Loss: 0.6055630445480347 | Accuracy: 82.8125%\n",
            "GB | Epoch 1 | Loss: 0.5697787404060364 | Accuracy: 75.0%\n",
            "GB | Epoch 1 | Loss: 0.6243402361869812 | Accuracy: 78.125%\n",
            "GB | Epoch 1 | Loss: 0.5791284441947937 | Accuracy: 70.3125%\n"
          ]
        },
        {
          "output_type": "stream",
          "name": "stderr",
          "text": [
            "Epoch 1:  69%|██████▉   | 521/751 [00:14<00:05, 40.76batch/s, accuracy=76.5625%, loss=0.602]"
          ]
        },
        {
          "output_type": "stream",
          "name": "stdout",
          "text": [
            "GB | Epoch 1 | Loss: 0.8525184392929077 | Accuracy: 65.625%\n",
            "GB | Epoch 1 | Loss: 0.43640241026878357 | Accuracy: 79.6875%\n",
            "GB | Epoch 1 | Loss: 0.6667226552963257 | Accuracy: 76.5625%\n",
            "GB | Epoch 1 | Loss: 0.5919911861419678 | Accuracy: 78.125%\n",
            "GB | Epoch 1 | Loss: 0.49917471408843994 | Accuracy: 79.6875%\n",
            "GB | Epoch 1 | Loss: 0.6196284890174866 | Accuracy: 79.6875%\n",
            "GB | Epoch 1 | Loss: 0.5897156596183777 | Accuracy: 81.25%\n",
            "GB | Epoch 1 | Loss: 0.6130196452140808 | Accuracy: 78.125%\n",
            "GB | Epoch 1 | Loss: 0.6023269891738892 | Accuracy: 76.5625%\n"
          ]
        },
        {
          "output_type": "stream",
          "name": "stderr",
          "text": [
            "Epoch 1:  71%|███████   | 531/751 [00:14<00:05, 40.74batch/s, accuracy=75.0%, loss=0.627]"
          ]
        },
        {
          "output_type": "stream",
          "name": "stdout",
          "text": [
            "GB | Epoch 1 | Loss: 0.5979004502296448 | Accuracy: 84.375%\n",
            "GB | Epoch 1 | Loss: 0.4421902000904083 | Accuracy: 87.5%\n",
            "GB | Epoch 1 | Loss: 0.48267146944999695 | Accuracy: 87.5%\n",
            "GB | Epoch 1 | Loss: 0.5588634610176086 | Accuracy: 84.375%\n",
            "GB | Epoch 1 | Loss: 0.5583375096321106 | Accuracy: 79.6875%\n",
            "GB | Epoch 1 | Loss: 0.47205302119255066 | Accuracy: 84.375%\n",
            "GB | Epoch 1 | Loss: 0.6345786452293396 | Accuracy: 71.875%\n",
            "GB | Epoch 1 | Loss: 0.6382616758346558 | Accuracy: 73.4375%\n",
            "GB | Epoch 1 | Loss: 0.6265326142311096 | Accuracy: 75.0%\n"
          ]
        },
        {
          "output_type": "stream",
          "name": "stderr",
          "text": [
            "Epoch 1:  71%|███████▏  | 536/751 [00:14<00:05, 39.23batch/s, accuracy=82.8125%, loss=0.509]"
          ]
        },
        {
          "output_type": "stream",
          "name": "stdout",
          "text": [
            "GB | Epoch 1 | Loss: 0.48881638050079346 | Accuracy: 85.9375%\n",
            "GB | Epoch 1 | Loss: 0.8397341370582581 | Accuracy: 68.75%\n",
            "GB | Epoch 1 | Loss: 0.530828595161438 | Accuracy: 81.25%\n",
            "GB | Epoch 1 | Loss: 0.6613926291465759 | Accuracy: 79.6875%\n",
            "GB | Epoch 1 | Loss: 0.597609281539917 | Accuracy: 79.6875%\n",
            "GB | Epoch 1 | Loss: 0.5076638460159302 | Accuracy: 84.375%\n",
            "GB | Epoch 1 | Loss: 0.6770233511924744 | Accuracy: 78.125%\n",
            "GB | Epoch 1 | Loss: 0.5858961939811707 | Accuracy: 79.6875%\n",
            "GB | Epoch 1 | Loss: 0.5088026523590088 | Accuracy: 82.8125%\n"
          ]
        },
        {
          "output_type": "stream",
          "name": "stderr",
          "text": [
            "Epoch 1:  73%|███████▎  | 546/751 [00:14<00:05, 40.82batch/s, accuracy=78.125%, loss=0.671] "
          ]
        },
        {
          "output_type": "stream",
          "name": "stdout",
          "text": [
            "GB | Epoch 1 | Loss: 0.5578950047492981 | Accuracy: 84.375%\n",
            "GB | Epoch 1 | Loss: 0.5524027943611145 | Accuracy: 84.375%\n",
            "GB | Epoch 1 | Loss: 0.5568757057189941 | Accuracy: 84.375%\n",
            "GB | Epoch 1 | Loss: 0.558367133140564 | Accuracy: 81.25%\n",
            "GB | Epoch 1 | Loss: 0.5676451921463013 | Accuracy: 82.8125%\n",
            "GB | Epoch 1 | Loss: 0.6004948019981384 | Accuracy: 81.25%\n",
            "GB | Epoch 1 | Loss: 0.797258734703064 | Accuracy: 82.8125%\n",
            "GB | Epoch 1 | Loss: 0.4937652051448822 | Accuracy: 76.5625%\n",
            "GB | Epoch 1 | Loss: 0.6708903908729553 | Accuracy: 78.125%\n"
          ]
        },
        {
          "output_type": "stream",
          "name": "stderr",
          "text": [
            "Epoch 1:  74%|███████▍  | 556/751 [00:15<00:04, 40.24batch/s, accuracy=81.25%, loss=0.504]  "
          ]
        },
        {
          "output_type": "stream",
          "name": "stdout",
          "text": [
            "GB | Epoch 1 | Loss: 0.6021041870117188 | Accuracy: 76.5625%\n",
            "GB | Epoch 1 | Loss: 0.558228611946106 | Accuracy: 78.125%\n",
            "GB | Epoch 1 | Loss: 0.5381795167922974 | Accuracy: 81.25%\n",
            "GB | Epoch 1 | Loss: 0.624824583530426 | Accuracy: 79.6875%\n",
            "GB | Epoch 1 | Loss: 0.5589545965194702 | Accuracy: 81.25%\n",
            "GB | Epoch 1 | Loss: 0.42040690779685974 | Accuracy: 85.9375%\n",
            "GB | Epoch 1 | Loss: 0.7069450616836548 | Accuracy: 71.875%\n",
            "GB | Epoch 1 | Loss: 0.5824410319328308 | Accuracy: 79.6875%\n"
          ]
        },
        {
          "output_type": "stream",
          "name": "stderr",
          "text": [
            "Epoch 1:  75%|███████▌  | 566/751 [00:15<00:04, 41.11batch/s, accuracy=75.0%, loss=0.594]"
          ]
        },
        {
          "output_type": "stream",
          "name": "stdout",
          "text": [
            "GB | Epoch 1 | Loss: 0.5040144324302673 | Accuracy: 81.25%\n",
            "GB | Epoch 1 | Loss: 0.3530362844467163 | Accuracy: 87.5%\n",
            "GB | Epoch 1 | Loss: 0.5063087344169617 | Accuracy: 81.25%\n",
            "GB | Epoch 1 | Loss: 0.5827376842498779 | Accuracy: 79.6875%\n",
            "GB | Epoch 1 | Loss: 0.5424181222915649 | Accuracy: 81.25%\n",
            "GB | Epoch 1 | Loss: 0.6829500794410706 | Accuracy: 71.875%\n",
            "GB | Epoch 1 | Loss: 0.5566341280937195 | Accuracy: 85.9375%\n",
            "GB | Epoch 1 | Loss: 0.5103758573532104 | Accuracy: 79.6875%\n",
            "GB | Epoch 1 | Loss: 0.5936236381530762 | Accuracy: 75.0%\n"
          ]
        },
        {
          "output_type": "stream",
          "name": "stderr",
          "text": [
            "Epoch 1:  76%|███████▌  | 571/751 [00:15<00:04, 40.75batch/s, accuracy=81.25%, loss=0.543] "
          ]
        },
        {
          "output_type": "stream",
          "name": "stdout",
          "text": [
            "GB | Epoch 1 | Loss: 0.54942387342453 | Accuracy: 81.25%\n",
            "GB | Epoch 1 | Loss: 0.5545398592948914 | Accuracy: 75.0%\n",
            "GB | Epoch 1 | Loss: 0.4866251051425934 | Accuracy: 84.375%\n",
            "GB | Epoch 1 | Loss: 0.40755724906921387 | Accuracy: 89.0625%\n",
            "GB | Epoch 1 | Loss: 0.47934654355049133 | Accuracy: 79.6875%\n",
            "GB | Epoch 1 | Loss: 0.439213365316391 | Accuracy: 89.0625%\n",
            "GB | Epoch 1 | Loss: 0.42191368341445923 | Accuracy: 84.375%\n",
            "GB | Epoch 1 | Loss: 0.5429588556289673 | Accuracy: 81.25%\n"
          ]
        },
        {
          "output_type": "stream",
          "name": "stderr",
          "text": [
            "Epoch 1:  77%|███████▋  | 581/751 [00:15<00:04, 39.48batch/s, accuracy=78.125%, loss=0.655]"
          ]
        },
        {
          "output_type": "stream",
          "name": "stdout",
          "text": [
            "GB | Epoch 1 | Loss: 0.4358980059623718 | Accuracy: 87.5%\n",
            "GB | Epoch 1 | Loss: 0.7287078499794006 | Accuracy: 73.4375%\n",
            "GB | Epoch 1 | Loss: 0.7291239500045776 | Accuracy: 76.5625%\n",
            "GB | Epoch 1 | Loss: 0.4140031337738037 | Accuracy: 87.5%\n",
            "GB | Epoch 1 | Loss: 0.4294176697731018 | Accuracy: 87.5%\n",
            "GB | Epoch 1 | Loss: 0.6252943873405457 | Accuracy: 75.0%\n",
            "GB | Epoch 1 | Loss: 0.38256600499153137 | Accuracy: 90.625%\n",
            "GB | Epoch 1 | Loss: 0.5180339217185974 | Accuracy: 84.375%\n",
            "GB | Epoch 1 | Loss: 0.6545299291610718 | Accuracy: 78.125%\n"
          ]
        },
        {
          "output_type": "stream",
          "name": "stderr",
          "text": [
            "Epoch 1:  79%|███████▊  | 591/751 [00:15<00:03, 40.93batch/s, accuracy=85.9375%, loss=0.461]"
          ]
        },
        {
          "output_type": "stream",
          "name": "stdout",
          "text": [
            "GB | Epoch 1 | Loss: 0.5142061710357666 | Accuracy: 84.375%\n",
            "GB | Epoch 1 | Loss: 0.4147479832172394 | Accuracy: 82.8125%\n",
            "GB | Epoch 1 | Loss: 0.39666298031806946 | Accuracy: 89.0625%\n",
            "GB | Epoch 1 | Loss: 0.4346424341201782 | Accuracy: 85.9375%\n",
            "GB | Epoch 1 | Loss: 0.5600045323371887 | Accuracy: 78.125%\n",
            "GB | Epoch 1 | Loss: 0.7209850549697876 | Accuracy: 78.125%\n",
            "GB | Epoch 1 | Loss: 0.46806448698043823 | Accuracy: 81.25%\n",
            "GB | Epoch 1 | Loss: 0.7396392226219177 | Accuracy: 68.75%\n",
            "GB | Epoch 1 | Loss: 0.4613054692745209 | Accuracy: 85.9375%\n"
          ]
        },
        {
          "output_type": "stream",
          "name": "stderr",
          "text": [
            "Epoch 1:  79%|███████▉  | 596/751 [00:16<00:03, 40.76batch/s, accuracy=79.6875%, loss=0.51]"
          ]
        },
        {
          "output_type": "stream",
          "name": "stdout",
          "text": [
            "GB | Epoch 1 | Loss: 0.7462512850761414 | Accuracy: 79.6875%\n",
            "GB | Epoch 1 | Loss: 0.5856663584709167 | Accuracy: 78.125%\n",
            "GB | Epoch 1 | Loss: 0.5277681946754456 | Accuracy: 81.25%\n",
            "GB | Epoch 1 | Loss: 0.5174984335899353 | Accuracy: 81.25%\n",
            "GB | Epoch 1 | Loss: 0.8080288767814636 | Accuracy: 68.75%\n",
            "GB | Epoch 1 | Loss: 0.6556105017662048 | Accuracy: 81.25%\n",
            "GB | Epoch 1 | Loss: 0.5337092876434326 | Accuracy: 84.375%\n",
            "GB | Epoch 1 | Loss: 0.4203445315361023 | Accuracy: 85.9375%\n"
          ]
        },
        {
          "output_type": "stream",
          "name": "stderr",
          "text": [
            "Epoch 1:  81%|████████  | 606/751 [00:16<00:03, 40.67batch/s, accuracy=79.6875%, loss=0.469]"
          ]
        },
        {
          "output_type": "stream",
          "name": "stdout",
          "text": [
            "GB | Epoch 1 | Loss: 0.5099802017211914 | Accuracy: 79.6875%\n",
            "GB | Epoch 1 | Loss: 0.5349462628364563 | Accuracy: 78.125%\n",
            "GB | Epoch 1 | Loss: 0.7544898390769958 | Accuracy: 71.875%\n",
            "GB | Epoch 1 | Loss: 0.4301798641681671 | Accuracy: 87.5%\n",
            "GB | Epoch 1 | Loss: 0.5011263489723206 | Accuracy: 82.8125%\n",
            "GB | Epoch 1 | Loss: 0.3890477418899536 | Accuracy: 85.9375%\n",
            "GB | Epoch 1 | Loss: 0.41913241147994995 | Accuracy: 87.5%\n",
            "GB | Epoch 1 | Loss: 0.42724090814590454 | Accuracy: 87.5%\n",
            "GB | Epoch 1 | Loss: 0.4694000482559204 | Accuracy: 79.6875%\n"
          ]
        },
        {
          "output_type": "stream",
          "name": "stderr",
          "text": [
            "Epoch 1:  82%|████████▏ | 616/751 [00:16<00:03, 38.99batch/s, accuracy=84.375%, loss=0.553]"
          ]
        },
        {
          "output_type": "stream",
          "name": "stdout",
          "text": [
            "GB | Epoch 1 | Loss: 0.5402716398239136 | Accuracy: 82.8125%\n",
            "GB | Epoch 1 | Loss: 0.46054133772850037 | Accuracy: 89.0625%\n",
            "GB | Epoch 1 | Loss: 0.6592914462089539 | Accuracy: 70.3125%\n",
            "GB | Epoch 1 | Loss: 0.5872262716293335 | Accuracy: 82.8125%\n",
            "GB | Epoch 1 | Loss: 0.4960052967071533 | Accuracy: 79.6875%\n",
            "GB | Epoch 1 | Loss: 0.6052778959274292 | Accuracy: 73.4375%\n",
            "GB | Epoch 1 | Loss: 0.48006176948547363 | Accuracy: 81.25%\n",
            "GB | Epoch 1 | Loss: 0.5526117086410522 | Accuracy: 84.375%\n"
          ]
        },
        {
          "output_type": "stream",
          "name": "stderr",
          "text": [
            "Epoch 1:  83%|████████▎ | 625/751 [00:16<00:03, 39.84batch/s, accuracy=71.875%, loss=0.666]"
          ]
        },
        {
          "output_type": "stream",
          "name": "stdout",
          "text": [
            "GB | Epoch 1 | Loss: 0.6316528916358948 | Accuracy: 78.125%\n",
            "GB | Epoch 1 | Loss: 0.6604388356208801 | Accuracy: 76.5625%\n",
            "GB | Epoch 1 | Loss: 0.4158931374549866 | Accuracy: 85.9375%\n",
            "GB | Epoch 1 | Loss: 0.5781803131103516 | Accuracy: 79.6875%\n",
            "GB | Epoch 1 | Loss: 0.527673065662384 | Accuracy: 78.125%\n",
            "GB | Epoch 1 | Loss: 0.5866515040397644 | Accuracy: 82.8125%\n",
            "GB | Epoch 1 | Loss: 0.6538235545158386 | Accuracy: 76.5625%\n",
            "GB | Epoch 1 | Loss: 0.6794500350952148 | Accuracy: 78.125%\n",
            "GB | Epoch 1 | Loss: 0.6659928560256958 | Accuracy: 71.875%\n"
          ]
        },
        {
          "output_type": "stream",
          "name": "stderr",
          "text": [
            "Epoch 1:  85%|████████▍ | 635/751 [00:17<00:02, 41.03batch/s, accuracy=75.0%, loss=0.704]"
          ]
        },
        {
          "output_type": "stream",
          "name": "stdout",
          "text": [
            "GB | Epoch 1 | Loss: 0.41804614663124084 | Accuracy: 87.5%\n",
            "GB | Epoch 1 | Loss: 0.48510444164276123 | Accuracy: 82.8125%\n",
            "GB | Epoch 1 | Loss: 0.5690752863883972 | Accuracy: 82.8125%\n",
            "GB | Epoch 1 | Loss: 0.5123046040534973 | Accuracy: 82.8125%\n",
            "GB | Epoch 1 | Loss: 0.4986482560634613 | Accuracy: 82.8125%\n",
            "GB | Epoch 1 | Loss: 0.4752840995788574 | Accuracy: 78.125%\n",
            "GB | Epoch 1 | Loss: 0.5997318029403687 | Accuracy: 75.0%\n",
            "GB | Epoch 1 | Loss: 0.4685758650302887 | Accuracy: 84.375%\n",
            "GB | Epoch 1 | Loss: 0.703772246837616 | Accuracy: 75.0%\n"
          ]
        },
        {
          "output_type": "stream",
          "name": "stderr",
          "text": [
            "Epoch 1:  85%|████████▌ | 640/751 [00:17<00:02, 39.74batch/s, accuracy=90.625%, loss=0.372]"
          ]
        },
        {
          "output_type": "stream",
          "name": "stdout",
          "text": [
            "GB | Epoch 1 | Loss: 0.5085223913192749 | Accuracy: 89.0625%\n",
            "GB | Epoch 1 | Loss: 0.8543594479560852 | Accuracy: 81.25%\n",
            "GB | Epoch 1 | Loss: 0.47408273816108704 | Accuracy: 82.8125%\n",
            "GB | Epoch 1 | Loss: 0.5537117123603821 | Accuracy: 82.8125%\n",
            "GB | Epoch 1 | Loss: 0.4845898151397705 | Accuracy: 85.9375%\n",
            "GB | Epoch 1 | Loss: 0.587324321269989 | Accuracy: 81.25%\n",
            "GB | Epoch 1 | Loss: 0.6580628156661987 | Accuracy: 71.875%\n",
            "GB | Epoch 1 | Loss: 0.37203899025917053 | Accuracy: 90.625%\n"
          ]
        },
        {
          "output_type": "stream",
          "name": "stderr",
          "text": [
            "Epoch 1:  87%|████████▋ | 650/751 [00:17<00:02, 40.94batch/s, accuracy=82.8125%, loss=0.414]"
          ]
        },
        {
          "output_type": "stream",
          "name": "stdout",
          "text": [
            "GB | Epoch 1 | Loss: 0.6029688715934753 | Accuracy: 70.3125%\n",
            "GB | Epoch 1 | Loss: 0.4971993863582611 | Accuracy: 81.25%\n",
            "GB | Epoch 1 | Loss: 0.5363720655441284 | Accuracy: 81.25%\n",
            "GB | Epoch 1 | Loss: 0.6055269241333008 | Accuracy: 78.125%\n",
            "GB | Epoch 1 | Loss: 0.42199504375457764 | Accuracy: 84.375%\n",
            "GB | Epoch 1 | Loss: 0.5209811329841614 | Accuracy: 82.8125%\n",
            "GB | Epoch 1 | Loss: 0.5437561273574829 | Accuracy: 82.8125%\n",
            "GB | Epoch 1 | Loss: 0.47801148891448975 | Accuracy: 85.9375%\n",
            "GB | Epoch 1 | Loss: 0.4138076901435852 | Accuracy: 82.8125%\n"
          ]
        },
        {
          "output_type": "stream",
          "name": "stderr",
          "text": [
            "Epoch 1:  88%|████████▊ | 659/751 [00:17<00:02, 38.85batch/s, accuracy=82.8125%, loss=0.551]"
          ]
        },
        {
          "output_type": "stream",
          "name": "stdout",
          "text": [
            "GB | Epoch 1 | Loss: 0.38515040278434753 | Accuracy: 89.0625%\n",
            "GB | Epoch 1 | Loss: 0.33284902572631836 | Accuracy: 87.5%\n",
            "GB | Epoch 1 | Loss: 0.6451019048690796 | Accuracy: 81.25%\n",
            "GB | Epoch 1 | Loss: 0.5499992966651917 | Accuracy: 82.8125%\n",
            "GB | Epoch 1 | Loss: 0.3611999452114105 | Accuracy: 90.625%\n",
            "GB | Epoch 1 | Loss: 0.8042016625404358 | Accuracy: 70.3125%\n",
            "GB | Epoch 1 | Loss: 0.5474793314933777 | Accuracy: 79.6875%\n",
            "GB | Epoch 1 | Loss: 0.5505456328392029 | Accuracy: 82.8125%\n"
          ]
        },
        {
          "output_type": "stream",
          "name": "stderr",
          "text": [
            "Epoch 1:  89%|████████▉ | 669/751 [00:17<00:02, 39.96batch/s, accuracy=87.5%, loss=0.46]"
          ]
        },
        {
          "output_type": "stream",
          "name": "stdout",
          "text": [
            "GB | Epoch 1 | Loss: 0.5727076530456543 | Accuracy: 82.8125%\n",
            "GB | Epoch 1 | Loss: 0.39491140842437744 | Accuracy: 90.625%\n",
            "GB | Epoch 1 | Loss: 0.40613850951194763 | Accuracy: 85.9375%\n",
            "GB | Epoch 1 | Loss: 0.48779594898223877 | Accuracy: 85.9375%\n",
            "GB | Epoch 1 | Loss: 0.5635675191879272 | Accuracy: 81.25%\n",
            "GB | Epoch 1 | Loss: 0.6488240957260132 | Accuracy: 76.5625%\n",
            "GB | Epoch 1 | Loss: 0.6608210802078247 | Accuracy: 81.25%\n",
            "GB | Epoch 1 | Loss: 0.4546012282371521 | Accuracy: 87.5%\n",
            "GB | Epoch 1 | Loss: 0.4604179859161377 | Accuracy: 87.5%\n"
          ]
        },
        {
          "output_type": "stream",
          "name": "stderr",
          "text": [
            "Epoch 1:  90%|████████▉ | 674/751 [00:18<00:01, 40.19batch/s, accuracy=89.0625%, loss=0.499]"
          ]
        },
        {
          "output_type": "stream",
          "name": "stdout",
          "text": [
            "GB | Epoch 1 | Loss: 0.6900460720062256 | Accuracy: 79.6875%\n",
            "GB | Epoch 1 | Loss: 0.5927038788795471 | Accuracy: 82.8125%\n",
            "GB | Epoch 1 | Loss: 0.48890048265457153 | Accuracy: 85.9375%\n",
            "GB | Epoch 1 | Loss: 0.6195781826972961 | Accuracy: 81.25%\n",
            "GB | Epoch 1 | Loss: 0.6246547698974609 | Accuracy: 75.0%\n",
            "GB | Epoch 1 | Loss: 0.45034679770469666 | Accuracy: 82.8125%\n",
            "GB | Epoch 1 | Loss: 0.5565897226333618 | Accuracy: 78.125%\n",
            "GB | Epoch 1 | Loss: 0.5518702864646912 | Accuracy: 78.125%\n",
            "GB | Epoch 1 | Loss: 0.49859580397605896 | Accuracy: 89.0625%\n"
          ]
        },
        {
          "output_type": "stream",
          "name": "stderr",
          "text": [
            "Epoch 1:  91%|█████████ | 684/751 [00:18<00:01, 40.04batch/s, accuracy=79.6875%, loss=0.636]"
          ]
        },
        {
          "output_type": "stream",
          "name": "stdout",
          "text": [
            "GB | Epoch 1 | Loss: 0.5391117930412292 | Accuracy: 82.8125%\n",
            "GB | Epoch 1 | Loss: 0.7260269522666931 | Accuracy: 71.875%\n",
            "GB | Epoch 1 | Loss: 0.5268418192863464 | Accuracy: 79.6875%\n",
            "GB | Epoch 1 | Loss: 0.3111385405063629 | Accuracy: 92.1875%\n",
            "GB | Epoch 1 | Loss: 0.3659631311893463 | Accuracy: 90.625%\n",
            "GB | Epoch 1 | Loss: 0.4572941064834595 | Accuracy: 89.0625%\n",
            "GB | Epoch 1 | Loss: 0.5682028532028198 | Accuracy: 82.8125%\n",
            "GB | Epoch 1 | Loss: 0.5490734577178955 | Accuracy: 79.6875%\n",
            "GB | Epoch 1 | Loss: 0.6358017325401306 | Accuracy: 79.6875%\n"
          ]
        },
        {
          "output_type": "stream",
          "name": "stderr",
          "text": [
            "Epoch 1:  92%|█████████▏| 694/751 [00:18<00:01, 39.05batch/s, accuracy=84.375%, loss=0.416]"
          ]
        },
        {
          "output_type": "stream",
          "name": "stdout",
          "text": [
            "GB | Epoch 1 | Loss: 0.4721725583076477 | Accuracy: 84.375%\n",
            "GB | Epoch 1 | Loss: 0.5013976693153381 | Accuracy: 84.375%\n",
            "GB | Epoch 1 | Loss: 0.7244003415107727 | Accuracy: 68.75%\n",
            "GB | Epoch 1 | Loss: 0.5477985739707947 | Accuracy: 82.8125%\n",
            "GB | Epoch 1 | Loss: 0.5002063512802124 | Accuracy: 76.5625%\n",
            "GB | Epoch 1 | Loss: 0.6193145513534546 | Accuracy: 75.0%\n",
            "GB | Epoch 1 | Loss: 0.5321283340454102 | Accuracy: 78.125%\n",
            "GB | Epoch 1 | Loss: 0.4158407747745514 | Accuracy: 84.375%\n"
          ]
        },
        {
          "output_type": "stream",
          "name": "stderr",
          "text": [
            "Epoch 1:  94%|█████████▎| 703/751 [00:18<00:01, 39.46batch/s, accuracy=82.8125%, loss=0.521]"
          ]
        },
        {
          "output_type": "stream",
          "name": "stdout",
          "text": [
            "GB | Epoch 1 | Loss: 0.5009527802467346 | Accuracy: 76.5625%\n",
            "GB | Epoch 1 | Loss: 0.5232735872268677 | Accuracy: 82.8125%\n",
            "GB | Epoch 1 | Loss: 0.40195706486701965 | Accuracy: 84.375%\n",
            "GB | Epoch 1 | Loss: 0.7816289663314819 | Accuracy: 71.875%\n",
            "GB | Epoch 1 | Loss: 0.6881964206695557 | Accuracy: 79.6875%\n",
            "GB | Epoch 1 | Loss: 0.5066750049591064 | Accuracy: 79.6875%\n",
            "GB | Epoch 1 | Loss: 0.45548343658447266 | Accuracy: 87.5%\n",
            "GB | Epoch 1 | Loss: 0.5443016886711121 | Accuracy: 79.6875%\n",
            "GB | Epoch 1 | Loss: 0.520956814289093 | Accuracy: 82.8125%\n"
          ]
        },
        {
          "output_type": "stream",
          "name": "stderr",
          "text": [
            "Epoch 1:  95%|█████████▍| 713/751 [00:18<00:00, 40.64batch/s, accuracy=87.5%, loss=0.482]"
          ]
        },
        {
          "output_type": "stream",
          "name": "stdout",
          "text": [
            "GB | Epoch 1 | Loss: 0.5790196657180786 | Accuracy: 78.125%\n",
            "GB | Epoch 1 | Loss: 0.6708787679672241 | Accuracy: 70.3125%\n",
            "GB | Epoch 1 | Loss: 0.5077100992202759 | Accuracy: 78.125%\n",
            "GB | Epoch 1 | Loss: 0.48894408345222473 | Accuracy: 79.6875%\n",
            "GB | Epoch 1 | Loss: 0.5649040937423706 | Accuracy: 81.25%\n",
            "GB | Epoch 1 | Loss: 0.5289419889450073 | Accuracy: 79.6875%\n",
            "GB | Epoch 1 | Loss: 0.32589301466941833 | Accuracy: 89.0625%\n",
            "GB | Epoch 1 | Loss: 0.3642219007015228 | Accuracy: 89.0625%\n",
            "GB | Epoch 1 | Loss: 0.48215776681900024 | Accuracy: 87.5%\n"
          ]
        },
        {
          "output_type": "stream",
          "name": "stderr",
          "text": [
            "Epoch 1:  96%|█████████▌| 718/751 [00:19<00:00, 40.58batch/s, accuracy=76.5625%, loss=0.758]"
          ]
        },
        {
          "output_type": "stream",
          "name": "stdout",
          "text": [
            "GB | Epoch 1 | Loss: 0.7805114388465881 | Accuracy: 71.875%\n",
            "GB | Epoch 1 | Loss: 0.5685152411460876 | Accuracy: 79.6875%\n",
            "GB | Epoch 1 | Loss: 0.5651471018791199 | Accuracy: 78.125%\n",
            "GB | Epoch 1 | Loss: 0.453075110912323 | Accuracy: 81.25%\n",
            "GB | Epoch 1 | Loss: 0.4670868217945099 | Accuracy: 85.9375%\n",
            "GB | Epoch 1 | Loss: 0.4038824141025543 | Accuracy: 82.8125%\n",
            "GB | Epoch 1 | Loss: 0.7218791842460632 | Accuracy: 71.875%\n",
            "GB | Epoch 1 | Loss: 0.5082066059112549 | Accuracy: 78.125%\n",
            "GB | Epoch 1 | Loss: 0.7581813335418701 | Accuracy: 76.5625%\n"
          ]
        },
        {
          "output_type": "stream",
          "name": "stderr",
          "text": [
            "Epoch 1:  97%|█████████▋| 728/751 [00:19<00:00, 40.62batch/s, accuracy=76.5625%, loss=0.73]"
          ]
        },
        {
          "output_type": "stream",
          "name": "stdout",
          "text": [
            "GB | Epoch 1 | Loss: 0.5208624601364136 | Accuracy: 79.6875%\n",
            "GB | Epoch 1 | Loss: 0.5749541521072388 | Accuracy: 84.375%\n",
            "GB | Epoch 1 | Loss: 0.6919367909431458 | Accuracy: 71.875%\n",
            "GB | Epoch 1 | Loss: 0.44604921340942383 | Accuracy: 84.375%\n",
            "GB | Epoch 1 | Loss: 0.4739254117012024 | Accuracy: 87.5%\n",
            "GB | Epoch 1 | Loss: 0.4833284318447113 | Accuracy: 82.8125%\n",
            "GB | Epoch 1 | Loss: 0.3972780704498291 | Accuracy: 89.0625%\n",
            "GB | Epoch 1 | Loss: 0.42600223422050476 | Accuracy: 87.5%\n",
            "GB | Epoch 1 | Loss: 0.7303600311279297 | Accuracy: 76.5625%\n"
          ]
        },
        {
          "output_type": "stream",
          "name": "stderr",
          "text": [
            "Epoch 1:  98%|█████████▊| 737/751 [00:19<00:00, 38.89batch/s, accuracy=78.125%, loss=0.634]"
          ]
        },
        {
          "output_type": "stream",
          "name": "stdout",
          "text": [
            "GB | Epoch 1 | Loss: 0.4859066903591156 | Accuracy: 85.9375%\n",
            "GB | Epoch 1 | Loss: 0.6040409207344055 | Accuracy: 79.6875%\n",
            "GB | Epoch 1 | Loss: 0.47933799028396606 | Accuracy: 81.25%\n",
            "GB | Epoch 1 | Loss: 0.5082853436470032 | Accuracy: 82.8125%\n",
            "GB | Epoch 1 | Loss: 0.48602059483528137 | Accuracy: 87.5%\n",
            "GB | Epoch 1 | Loss: 0.6784703731536865 | Accuracy: 71.875%\n",
            "GB | Epoch 1 | Loss: 0.3395357131958008 | Accuracy: 89.0625%\n",
            "GB | Epoch 1 | Loss: 0.6340836882591248 | Accuracy: 78.125%\n"
          ]
        },
        {
          "output_type": "stream",
          "name": "stderr",
          "text": [
            "Epoch 1:  99%|█████████▉| 747/751 [00:19<00:00, 41.14batch/s, accuracy=87.5%, loss=0.384]   "
          ]
        },
        {
          "output_type": "stream",
          "name": "stdout",
          "text": [
            "GB | Epoch 1 | Loss: 0.6409119963645935 | Accuracy: 73.4375%\n",
            "GB | Epoch 1 | Loss: 0.5773671865463257 | Accuracy: 82.8125%\n",
            "GB | Epoch 1 | Loss: 0.5414592027664185 | Accuracy: 78.125%\n",
            "GB | Epoch 1 | Loss: 0.3760211169719696 | Accuracy: 87.5%\n",
            "GB | Epoch 1 | Loss: 0.4574849605560303 | Accuracy: 85.9375%\n",
            "GB | Epoch 1 | Loss: 0.5011588931083679 | Accuracy: 85.9375%\n",
            "GB | Epoch 1 | Loss: 0.3613741993904114 | Accuracy: 87.5%\n",
            "GB | Epoch 1 | Loss: 0.38689255714416504 | Accuracy: 89.0625%\n",
            "GB | Epoch 1 | Loss: 0.38448411226272583 | Accuracy: 87.5%\n"
          ]
        },
        {
          "output_type": "stream",
          "name": "stderr",
          "text": [
            "Epoch 1: 100%|██████████| 751/751 [00:20<00:00, 37.45batch/s, accuracy=50.0%, loss=0.668]\n"
          ]
        },
        {
          "output_type": "stream",
          "name": "stdout",
          "text": [
            "GB | Epoch 1 | Loss: 0.6593053936958313 | Accuracy: 81.25%\n",
            "GB | Epoch 1 | Loss: 0.623713493347168 | Accuracy: 76.5625%\n",
            "GB | Epoch 1 | Loss: 0.6679900288581848 | Accuracy: 50.0%\n"
          ]
        },
        {
          "output_type": "stream",
          "name": "stderr",
          "text": [
            "Epoch 2:   1%|          | 5/751 [00:00<00:50, 14.81batch/s, accuracy=84.375%, loss=0.446]"
          ]
        },
        {
          "output_type": "stream",
          "name": "stdout",
          "text": [
            "GB | Epoch 2 | Loss: 0.9461255669593811 | Accuracy: 73.4375%\n",
            "GB | Epoch 2 | Loss: 0.5915384292602539 | Accuracy: 78.125%\n",
            "GB | Epoch 2 | Loss: 0.509757399559021 | Accuracy: 78.125%\n",
            "GB | Epoch 2 | Loss: 0.7588661909103394 | Accuracy: 75.0%\n",
            "GB | Epoch 2 | Loss: 0.3830260932445526 | Accuracy: 85.9375%\n",
            "GB | Epoch 2 | Loss: 0.6926988363265991 | Accuracy: 71.875%\n",
            "GB | Epoch 2 | Loss: 0.4460735023021698 | Accuracy: 84.375%\n"
          ]
        },
        {
          "output_type": "stream",
          "name": "stderr",
          "text": [
            "Epoch 2:   2%|▏         | 13/751 [00:00<00:26, 27.55batch/s, accuracy=78.125%, loss=0.573]"
          ]
        },
        {
          "output_type": "stream",
          "name": "stdout",
          "text": [
            "GB | Epoch 2 | Loss: 0.7084570527076721 | Accuracy: 75.0%\n",
            "GB | Epoch 2 | Loss: 0.5277750492095947 | Accuracy: 81.25%\n",
            "GB | Epoch 2 | Loss: 0.5457838177680969 | Accuracy: 78.125%\n",
            "GB | Epoch 2 | Loss: 0.4057639241218567 | Accuracy: 89.0625%\n",
            "GB | Epoch 2 | Loss: 0.32520386576652527 | Accuracy: 89.0625%\n",
            "GB | Epoch 2 | Loss: 0.516041100025177 | Accuracy: 82.8125%\n",
            "GB | Epoch 2 | Loss: 0.501340389251709 | Accuracy: 81.25%\n",
            "GB | Epoch 2 | Loss: 0.5734454989433289 | Accuracy: 78.125%\n"
          ]
        },
        {
          "output_type": "stream",
          "name": "stderr",
          "text": [
            "Epoch 2:   3%|▎         | 21/751 [00:00<00:21, 33.49batch/s, accuracy=73.4375%, loss=0.734]"
          ]
        },
        {
          "output_type": "stream",
          "name": "stdout",
          "text": [
            "GB | Epoch 2 | Loss: 0.4803842306137085 | Accuracy: 85.9375%\n",
            "GB | Epoch 2 | Loss: 0.591569185256958 | Accuracy: 87.5%\n",
            "GB | Epoch 2 | Loss: 0.3990118205547333 | Accuracy: 82.8125%\n",
            "GB | Epoch 2 | Loss: 0.5070987939834595 | Accuracy: 76.5625%\n",
            "GB | Epoch 2 | Loss: 0.8984007835388184 | Accuracy: 73.4375%\n",
            "GB | Epoch 2 | Loss: 0.4451972246170044 | Accuracy: 84.375%\n",
            "GB | Epoch 2 | Loss: 0.4562195837497711 | Accuracy: 85.9375%\n"
          ]
        },
        {
          "output_type": "stream",
          "name": "stderr",
          "text": [
            "Epoch 2:   4%|▍         | 29/751 [00:01<00:23, 30.67batch/s, accuracy=81.25%, loss=0.383]"
          ]
        },
        {
          "output_type": "stream",
          "name": "stdout",
          "text": [
            "GB | Epoch 2 | Loss: 0.7342880368232727 | Accuracy: 73.4375%\n",
            "GB | Epoch 2 | Loss: 0.517235279083252 | Accuracy: 82.8125%\n",
            "GB | Epoch 2 | Loss: 0.457383394241333 | Accuracy: 82.8125%\n",
            "GB | Epoch 2 | Loss: 0.4999893009662628 | Accuracy: 79.6875%\n",
            "GB | Epoch 2 | Loss: 0.398430198431015 | Accuracy: 90.625%\n",
            "GB | Epoch 2 | Loss: 0.47890588641166687 | Accuracy: 82.8125%\n",
            "GB | Epoch 2 | Loss: 0.38308557868003845 | Accuracy: 81.25%\n"
          ]
        },
        {
          "output_type": "stream",
          "name": "stderr",
          "text": [
            "Epoch 2:   4%|▍         | 33/751 [00:01<00:23, 30.05batch/s, accuracy=78.125%, loss=0.683] "
          ]
        },
        {
          "output_type": "stream",
          "name": "stdout",
          "text": [
            "GB | Epoch 2 | Loss: 0.5484654307365417 | Accuracy: 79.6875%\n",
            "GB | Epoch 2 | Loss: 0.5928970575332642 | Accuracy: 75.0%\n",
            "GB | Epoch 2 | Loss: 0.77651047706604 | Accuracy: 76.5625%\n",
            "GB | Epoch 2 | Loss: 0.5941336154937744 | Accuracy: 79.6875%\n",
            "GB | Epoch 2 | Loss: 0.45776528120040894 | Accuracy: 89.0625%\n",
            "GB | Epoch 2 | Loss: 0.6831194162368774 | Accuracy: 78.125%\n"
          ]
        },
        {
          "output_type": "stream",
          "name": "stderr",
          "text": [
            "Epoch 2:   5%|▌         | 40/751 [00:01<00:26, 26.85batch/s, accuracy=84.375%, loss=0.507]"
          ]
        },
        {
          "output_type": "stream",
          "name": "stdout",
          "text": [
            "GB | Epoch 2 | Loss: 0.44192779064178467 | Accuracy: 79.6875%\n",
            "GB | Epoch 2 | Loss: 0.43411967158317566 | Accuracy: 87.5%\n",
            "GB | Epoch 2 | Loss: 0.5381340384483337 | Accuracy: 84.375%\n",
            "GB | Epoch 2 | Loss: 0.45211347937583923 | Accuracy: 79.6875%\n",
            "GB | Epoch 2 | Loss: 0.5068061351776123 | Accuracy: 84.375%\n"
          ]
        },
        {
          "output_type": "stream",
          "name": "stderr",
          "text": [
            "Epoch 2:   6%|▌         | 43/751 [00:01<00:26, 26.42batch/s, accuracy=87.5%, loss=0.426]   "
          ]
        },
        {
          "output_type": "stream",
          "name": "stdout",
          "text": [
            "GB | Epoch 2 | Loss: 0.4945189952850342 | Accuracy: 82.8125%\n",
            "GB | Epoch 2 | Loss: 0.5588837265968323 | Accuracy: 82.8125%\n",
            "GB | Epoch 2 | Loss: 0.4785284698009491 | Accuracy: 79.6875%\n",
            "GB | Epoch 2 | Loss: 0.5580509305000305 | Accuracy: 81.25%\n",
            "GB | Epoch 2 | Loss: 0.396776407957077 | Accuracy: 82.8125%\n",
            "GB | Epoch 2 | Loss: 0.42583727836608887 | Accuracy: 87.5%\n"
          ]
        },
        {
          "output_type": "stream",
          "name": "stderr",
          "text": [
            "Epoch 2:   7%|▋         | 51/751 [00:01<00:24, 28.62batch/s, accuracy=76.5625%, loss=0.515]"
          ]
        },
        {
          "output_type": "stream",
          "name": "stdout",
          "text": [
            "GB | Epoch 2 | Loss: 0.725545346736908 | Accuracy: 70.3125%\n",
            "GB | Epoch 2 | Loss: 0.6073451042175293 | Accuracy: 79.6875%\n",
            "GB | Epoch 2 | Loss: 0.4721797704696655 | Accuracy: 84.375%\n",
            "GB | Epoch 2 | Loss: 0.5758919715881348 | Accuracy: 81.25%\n",
            "GB | Epoch 2 | Loss: 0.4596635103225708 | Accuracy: 81.25%\n",
            "GB | Epoch 2 | Loss: 0.602846086025238 | Accuracy: 76.5625%\n",
            "GB | Epoch 2 | Loss: 0.5154552459716797 | Accuracy: 76.5625%\n"
          ]
        },
        {
          "output_type": "stream",
          "name": "stderr",
          "text": [
            "Epoch 2:   8%|▊         | 58/751 [00:02<00:23, 29.74batch/s, accuracy=84.375%, loss=0.411] "
          ]
        },
        {
          "output_type": "stream",
          "name": "stdout",
          "text": [
            "GB | Epoch 2 | Loss: 0.38692688941955566 | Accuracy: 92.1875%\n",
            "GB | Epoch 2 | Loss: 0.4718932807445526 | Accuracy: 82.8125%\n",
            "GB | Epoch 2 | Loss: 0.40605565905570984 | Accuracy: 85.9375%\n",
            "GB | Epoch 2 | Loss: 0.5812482237815857 | Accuracy: 75.0%\n",
            "GB | Epoch 2 | Loss: 0.37510058283805847 | Accuracy: 84.375%\n",
            "GB | Epoch 2 | Loss: 0.6722601056098938 | Accuracy: 76.5625%\n",
            "GB | Epoch 2 | Loss: 0.41100090742111206 | Accuracy: 84.375%\n"
          ]
        },
        {
          "output_type": "stream",
          "name": "stderr",
          "text": [
            "Epoch 2:   9%|▊         | 65/751 [00:02<00:23, 29.53batch/s, accuracy=78.125%, loss=0.503]"
          ]
        },
        {
          "output_type": "stream",
          "name": "stdout",
          "text": [
            "GB | Epoch 2 | Loss: 0.5620470643043518 | Accuracy: 81.25%\n",
            "GB | Epoch 2 | Loss: 0.39767470955848694 | Accuracy: 85.9375%\n",
            "GB | Epoch 2 | Loss: 0.5012220144271851 | Accuracy: 85.9375%\n",
            "GB | Epoch 2 | Loss: 0.4460698962211609 | Accuracy: 87.5%\n",
            "GB | Epoch 2 | Loss: 0.42192569375038147 | Accuracy: 87.5%\n",
            "GB | Epoch 2 | Loss: 0.5033813118934631 | Accuracy: 78.125%\n"
          ]
        },
        {
          "output_type": "stream",
          "name": "stderr",
          "text": [
            "Epoch 2:  10%|▉         | 73/751 [00:02<00:21, 31.19batch/s, accuracy=79.6875%, loss=0.727]"
          ]
        },
        {
          "output_type": "stream",
          "name": "stdout",
          "text": [
            "GB | Epoch 2 | Loss: 0.6339673399925232 | Accuracy: 75.0%\n",
            "GB | Epoch 2 | Loss: 0.4630979895591736 | Accuracy: 81.25%\n",
            "GB | Epoch 2 | Loss: 0.5742729902267456 | Accuracy: 73.4375%\n",
            "GB | Epoch 2 | Loss: 0.3808421194553375 | Accuracy: 92.1875%\n",
            "GB | Epoch 2 | Loss: 0.44130566716194153 | Accuracy: 84.375%\n",
            "GB | Epoch 2 | Loss: 0.5496383905410767 | Accuracy: 81.25%\n",
            "GB | Epoch 2 | Loss: 0.7272760272026062 | Accuracy: 79.6875%\n"
          ]
        },
        {
          "output_type": "stream",
          "name": "stderr",
          "text": [
            "Epoch 2:  10%|█         | 77/751 [00:02<00:21, 31.01batch/s, accuracy=82.8125%, loss=0.635]"
          ]
        },
        {
          "output_type": "stream",
          "name": "stdout",
          "text": [
            "GB | Epoch 2 | Loss: 0.627045214176178 | Accuracy: 81.25%\n",
            "GB | Epoch 2 | Loss: 0.6187982559204102 | Accuracy: 81.25%\n",
            "GB | Epoch 2 | Loss: 0.5238825678825378 | Accuracy: 81.25%\n",
            "GB | Epoch 2 | Loss: 0.4843266010284424 | Accuracy: 81.25%\n",
            "GB | Epoch 2 | Loss: 0.6731430292129517 | Accuracy: 76.5625%\n",
            "GB | Epoch 2 | Loss: 0.5975239872932434 | Accuracy: 79.6875%\n",
            "GB | Epoch 2 | Loss: 0.6345590353012085 | Accuracy: 82.8125%\n"
          ]
        },
        {
          "output_type": "stream",
          "name": "stderr",
          "text": [
            "Epoch 2:  11%|█▏        | 85/751 [00:03<00:21, 30.81batch/s, accuracy=81.25%, loss=0.561]"
          ]
        },
        {
          "output_type": "stream",
          "name": "stdout",
          "text": [
            "GB | Epoch 2 | Loss: 0.5253104567527771 | Accuracy: 82.8125%\n",
            "GB | Epoch 2 | Loss: 0.7917953133583069 | Accuracy: 81.25%\n",
            "GB | Epoch 2 | Loss: 0.4407603442668915 | Accuracy: 79.6875%\n",
            "GB | Epoch 2 | Loss: 0.6214519143104553 | Accuracy: 78.125%\n",
            "GB | Epoch 2 | Loss: 0.5284255743026733 | Accuracy: 82.8125%\n",
            "GB | Epoch 2 | Loss: 0.45044225454330444 | Accuracy: 81.25%\n",
            "GB | Epoch 2 | Loss: 0.5607686638832092 | Accuracy: 81.25%\n"
          ]
        },
        {
          "output_type": "stream",
          "name": "stderr",
          "text": [
            "Epoch 2:  12%|█▏        | 93/751 [00:03<00:20, 32.40batch/s, accuracy=84.375%, loss=0.466] "
          ]
        },
        {
          "output_type": "stream",
          "name": "stdout",
          "text": [
            "GB | Epoch 2 | Loss: 0.4943549633026123 | Accuracy: 78.125%\n",
            "GB | Epoch 2 | Loss: 0.41240164637565613 | Accuracy: 85.9375%\n",
            "GB | Epoch 2 | Loss: 0.41984614729881287 | Accuracy: 92.1875%\n",
            "GB | Epoch 2 | Loss: 0.41960909962654114 | Accuracy: 87.5%\n",
            "GB | Epoch 2 | Loss: 0.5209881067276001 | Accuracy: 84.375%\n",
            "GB | Epoch 2 | Loss: 0.5866090059280396 | Accuracy: 85.9375%\n",
            "GB | Epoch 2 | Loss: 0.46623948216438293 | Accuracy: 84.375%\n"
          ]
        },
        {
          "output_type": "stream",
          "name": "stderr",
          "text": [
            "Epoch 2:  13%|█▎        | 97/751 [00:03<00:20, 31.41batch/s, accuracy=84.375%, loss=0.616]"
          ]
        },
        {
          "output_type": "stream",
          "name": "stdout",
          "text": [
            "GB | Epoch 2 | Loss: 0.44896945357322693 | Accuracy: 81.25%\n",
            "GB | Epoch 2 | Loss: 0.48781725764274597 | Accuracy: 81.25%\n",
            "GB | Epoch 2 | Loss: 0.528832197189331 | Accuracy: 87.5%\n",
            "GB | Epoch 2 | Loss: 0.559251606464386 | Accuracy: 75.0%\n",
            "GB | Epoch 2 | Loss: 0.6157233715057373 | Accuracy: 84.375%\n"
          ]
        },
        {
          "output_type": "stream",
          "name": "stderr",
          "text": [
            "Epoch 2:  14%|█▍        | 105/751 [00:03<00:22, 28.92batch/s, accuracy=89.0625%, loss=0.395]"
          ]
        },
        {
          "output_type": "stream",
          "name": "stdout",
          "text": [
            "GB | Epoch 2 | Loss: 0.364620566368103 | Accuracy: 85.9375%\n",
            "GB | Epoch 2 | Loss: 0.5122151970863342 | Accuracy: 82.8125%\n",
            "GB | Epoch 2 | Loss: 0.44341936707496643 | Accuracy: 85.9375%\n",
            "GB | Epoch 2 | Loss: 0.4963762164115906 | Accuracy: 78.125%\n",
            "GB | Epoch 2 | Loss: 0.6596933007240295 | Accuracy: 75.0%\n",
            "GB | Epoch 2 | Loss: 0.5748847126960754 | Accuracy: 73.4375%\n",
            "GB | Epoch 2 | Loss: 0.39473164081573486 | Accuracy: 89.0625%\n"
          ]
        },
        {
          "output_type": "stream",
          "name": "stderr",
          "text": [
            "Epoch 2:  15%|█▍        | 112/751 [00:03<00:21, 29.62batch/s, accuracy=87.5%, loss=0.418]  "
          ]
        },
        {
          "output_type": "stream",
          "name": "stdout",
          "text": [
            "GB | Epoch 2 | Loss: 0.44485360383987427 | Accuracy: 84.375%\n",
            "GB | Epoch 2 | Loss: 0.4793360233306885 | Accuracy: 82.8125%\n",
            "GB | Epoch 2 | Loss: 0.5056189298629761 | Accuracy: 82.8125%\n",
            "GB | Epoch 2 | Loss: 0.5300558805465698 | Accuracy: 84.375%\n",
            "GB | Epoch 2 | Loss: 0.639176070690155 | Accuracy: 85.9375%\n",
            "GB | Epoch 2 | Loss: 0.3521590232849121 | Accuracy: 90.625%\n",
            "GB | Epoch 2 | Loss: 0.4180595278739929 | Accuracy: 87.5%\n"
          ]
        },
        {
          "output_type": "stream",
          "name": "stderr",
          "text": [
            "Epoch 2:  15%|█▌        | 116/751 [00:04<00:21, 30.22batch/s, accuracy=81.25%, loss=0.59] "
          ]
        },
        {
          "output_type": "stream",
          "name": "stdout",
          "text": [
            "GB | Epoch 2 | Loss: 0.2905614674091339 | Accuracy: 89.0625%\n",
            "GB | Epoch 2 | Loss: 0.6965856552124023 | Accuracy: 75.0%\n",
            "GB | Epoch 2 | Loss: 0.5190616846084595 | Accuracy: 82.8125%\n",
            "GB | Epoch 2 | Loss: 0.5068122148513794 | Accuracy: 81.25%\n",
            "GB | Epoch 2 | Loss: 0.558354914188385 | Accuracy: 81.25%\n",
            "GB | Epoch 2 | Loss: 0.5903303623199463 | Accuracy: 81.25%\n"
          ]
        },
        {
          "output_type": "stream",
          "name": "stderr",
          "text": [
            "Epoch 2:  17%|█▋        | 124/751 [00:04<00:20, 30.61batch/s, accuracy=90.625%, loss=0.307] "
          ]
        },
        {
          "output_type": "stream",
          "name": "stdout",
          "text": [
            "GB | Epoch 2 | Loss: 0.6240823268890381 | Accuracy: 79.6875%\n",
            "GB | Epoch 2 | Loss: 0.6109187602996826 | Accuracy: 82.8125%\n",
            "GB | Epoch 2 | Loss: 0.35439541935920715 | Accuracy: 92.1875%\n",
            "GB | Epoch 2 | Loss: 0.6692895889282227 | Accuracy: 81.25%\n",
            "GB | Epoch 2 | Loss: 0.4829653203487396 | Accuracy: 82.8125%\n",
            "GB | Epoch 2 | Loss: 0.39267170429229736 | Accuracy: 85.9375%\n",
            "GB | Epoch 2 | Loss: 0.3068189024925232 | Accuracy: 90.625%\n"
          ]
        },
        {
          "output_type": "stream",
          "name": "stderr",
          "text": [
            "Epoch 2:  17%|█▋        | 131/751 [00:04<00:21, 28.87batch/s, accuracy=82.8125%, loss=0.561]"
          ]
        },
        {
          "output_type": "stream",
          "name": "stdout",
          "text": [
            "GB | Epoch 2 | Loss: 0.680436372756958 | Accuracy: 75.0%\n",
            "GB | Epoch 2 | Loss: 0.41023728251457214 | Accuracy: 84.375%\n",
            "GB | Epoch 2 | Loss: 0.5742160677909851 | Accuracy: 89.0625%\n",
            "GB | Epoch 2 | Loss: 0.42365410923957825 | Accuracy: 85.9375%\n",
            "GB | Epoch 2 | Loss: 0.45670199394226074 | Accuracy: 85.9375%\n",
            "GB | Epoch 2 | Loss: 0.5612984299659729 | Accuracy: 82.8125%\n"
          ]
        },
        {
          "output_type": "stream",
          "name": "stderr",
          "text": [
            "Epoch 2:  18%|█▊        | 137/751 [00:04<00:22, 27.80batch/s, accuracy=79.6875%, loss=0.474]"
          ]
        },
        {
          "output_type": "stream",
          "name": "stdout",
          "text": [
            "GB | Epoch 2 | Loss: 0.5291624069213867 | Accuracy: 84.375%\n",
            "GB | Epoch 2 | Loss: 0.48819446563720703 | Accuracy: 81.25%\n",
            "GB | Epoch 2 | Loss: 0.5617653131484985 | Accuracy: 84.375%\n",
            "GB | Epoch 2 | Loss: 0.36935290694236755 | Accuracy: 89.0625%\n",
            "GB | Epoch 2 | Loss: 0.45606550574302673 | Accuracy: 85.9375%\n",
            "GB | Epoch 2 | Loss: 0.4738202691078186 | Accuracy: 79.6875%\n"
          ]
        },
        {
          "output_type": "stream",
          "name": "stderr",
          "text": [
            "Epoch 2:  19%|█▉        | 143/751 [00:05<00:21, 28.44batch/s, accuracy=82.8125%, loss=0.461]"
          ]
        },
        {
          "output_type": "stream",
          "name": "stdout",
          "text": [
            "GB | Epoch 2 | Loss: 0.6326625347137451 | Accuracy: 75.0%\n",
            "GB | Epoch 2 | Loss: 0.6272469162940979 | Accuracy: 73.4375%\n",
            "GB | Epoch 2 | Loss: 0.40042412281036377 | Accuracy: 89.0625%\n",
            "GB | Epoch 2 | Loss: 0.47865766286849976 | Accuracy: 84.375%\n",
            "GB | Epoch 2 | Loss: 0.48122477531433105 | Accuracy: 82.8125%\n",
            "GB | Epoch 2 | Loss: 0.3977036476135254 | Accuracy: 87.5%\n",
            "GB | Epoch 2 | Loss: 0.46066761016845703 | Accuracy: 82.8125%\n"
          ]
        },
        {
          "output_type": "stream",
          "name": "stderr",
          "text": [
            "Epoch 2:  20%|█▉        | 150/751 [00:05<00:20, 29.12batch/s, accuracy=78.125%, loss=0.585]"
          ]
        },
        {
          "output_type": "stream",
          "name": "stdout",
          "text": [
            "GB | Epoch 2 | Loss: 0.32058677077293396 | Accuracy: 92.1875%\n",
            "GB | Epoch 2 | Loss: 0.4205904006958008 | Accuracy: 89.0625%\n",
            "GB | Epoch 2 | Loss: 0.33357101678848267 | Accuracy: 87.5%\n",
            "GB | Epoch 2 | Loss: 0.6128522753715515 | Accuracy: 82.8125%\n",
            "GB | Epoch 2 | Loss: 0.587754487991333 | Accuracy: 78.125%\n",
            "GB | Epoch 2 | Loss: 0.5851636528968811 | Accuracy: 78.125%\n"
          ]
        },
        {
          "output_type": "stream",
          "name": "stderr",
          "text": [
            "Epoch 2:  21%|██        | 157/751 [00:05<00:19, 30.82batch/s, accuracy=90.625%, loss=0.528]"
          ]
        },
        {
          "output_type": "stream",
          "name": "stdout",
          "text": [
            "GB | Epoch 2 | Loss: 0.5125776529312134 | Accuracy: 82.8125%\n",
            "GB | Epoch 2 | Loss: 0.5465012788772583 | Accuracy: 79.6875%\n",
            "GB | Epoch 2 | Loss: 0.62039715051651 | Accuracy: 81.25%\n",
            "GB | Epoch 2 | Loss: 0.4964614510536194 | Accuracy: 82.8125%\n",
            "GB | Epoch 2 | Loss: 0.46104273200035095 | Accuracy: 85.9375%\n",
            "GB | Epoch 2 | Loss: 0.6385788917541504 | Accuracy: 76.5625%\n",
            "GB | Epoch 2 | Loss: 0.4376440942287445 | Accuracy: 87.5%\n",
            "GB | Epoch 2 | Loss: 0.5277644395828247 | Accuracy: 90.625%\n"
          ]
        },
        {
          "output_type": "stream",
          "name": "stderr",
          "text": [
            "Epoch 2:  22%|██▏       | 165/751 [00:05<00:16, 34.65batch/s, accuracy=79.6875%, loss=0.519]"
          ]
        },
        {
          "output_type": "stream",
          "name": "stdout",
          "text": [
            "GB | Epoch 2 | Loss: 0.5225854516029358 | Accuracy: 84.375%\n",
            "GB | Epoch 2 | Loss: 0.33777275681495667 | Accuracy: 89.0625%\n",
            "GB | Epoch 2 | Loss: 0.7923958897590637 | Accuracy: 76.5625%\n",
            "GB | Epoch 2 | Loss: 0.38246580958366394 | Accuracy: 84.375%\n",
            "GB | Epoch 2 | Loss: 0.684800386428833 | Accuracy: 78.125%\n",
            "GB | Epoch 2 | Loss: 0.5587604641914368 | Accuracy: 81.25%\n",
            "GB | Epoch 2 | Loss: 0.45467132329940796 | Accuracy: 82.8125%\n",
            "GB | Epoch 2 | Loss: 0.5114201307296753 | Accuracy: 82.8125%\n",
            "GB | Epoch 2 | Loss: 0.5189439058303833 | Accuracy: 79.6875%\n"
          ]
        },
        {
          "output_type": "stream",
          "name": "stderr",
          "text": [
            "Epoch 2:  23%|██▎       | 175/751 [00:05<00:14, 38.67batch/s, accuracy=81.25%, loss=0.53]   "
          ]
        },
        {
          "output_type": "stream",
          "name": "stdout",
          "text": [
            "GB | Epoch 2 | Loss: 0.5195826292037964 | Accuracy: 79.6875%\n",
            "GB | Epoch 2 | Loss: 0.44235098361968994 | Accuracy: 84.375%\n",
            "GB | Epoch 2 | Loss: 0.3631748855113983 | Accuracy: 87.5%\n",
            "GB | Epoch 2 | Loss: 0.6464915871620178 | Accuracy: 78.125%\n",
            "GB | Epoch 2 | Loss: 0.4048992693424225 | Accuracy: 82.8125%\n",
            "GB | Epoch 2 | Loss: 0.741566002368927 | Accuracy: 76.5625%\n",
            "GB | Epoch 2 | Loss: 0.5476391315460205 | Accuracy: 85.9375%\n",
            "GB | Epoch 2 | Loss: 0.49847206473350525 | Accuracy: 85.9375%\n",
            "GB | Epoch 2 | Loss: 0.5302937626838684 | Accuracy: 81.25%\n"
          ]
        },
        {
          "output_type": "stream",
          "name": "stderr",
          "text": [
            "Epoch 2:  25%|██▍       | 184/751 [00:06<00:14, 40.31batch/s, accuracy=92.1875%, loss=0.32] "
          ]
        },
        {
          "output_type": "stream",
          "name": "stdout",
          "text": [
            "GB | Epoch 2 | Loss: 0.5185912251472473 | Accuracy: 84.375%\n",
            "GB | Epoch 2 | Loss: 0.4002600908279419 | Accuracy: 93.75%\n",
            "GB | Epoch 2 | Loss: 0.5497868657112122 | Accuracy: 75.0%\n",
            "GB | Epoch 2 | Loss: 0.43555039167404175 | Accuracy: 82.8125%\n",
            "GB | Epoch 2 | Loss: 0.46129748225212097 | Accuracy: 78.125%\n",
            "GB | Epoch 2 | Loss: 0.6955603361129761 | Accuracy: 75.0%\n",
            "GB | Epoch 2 | Loss: 0.40232300758361816 | Accuracy: 87.5%\n",
            "GB | Epoch 2 | Loss: 0.44292381405830383 | Accuracy: 85.9375%\n",
            "GB | Epoch 2 | Loss: 0.3200373351573944 | Accuracy: 92.1875%\n"
          ]
        },
        {
          "output_type": "stream",
          "name": "stderr",
          "text": [
            "Epoch 2:  26%|██▌       | 194/751 [00:06<00:13, 39.88batch/s, accuracy=73.4375%, loss=0.675]"
          ]
        },
        {
          "output_type": "stream",
          "name": "stdout",
          "text": [
            "GB | Epoch 2 | Loss: 0.35922786593437195 | Accuracy: 84.375%\n",
            "GB | Epoch 2 | Loss: 0.4769878387451172 | Accuracy: 84.375%\n",
            "GB | Epoch 2 | Loss: 0.40728265047073364 | Accuracy: 85.9375%\n",
            "GB | Epoch 2 | Loss: 0.6503396034240723 | Accuracy: 76.5625%\n",
            "GB | Epoch 2 | Loss: 0.4350195825099945 | Accuracy: 85.9375%\n",
            "GB | Epoch 2 | Loss: 0.6125715970993042 | Accuracy: 79.6875%\n",
            "GB | Epoch 2 | Loss: 0.3273449242115021 | Accuracy: 93.75%\n",
            "GB | Epoch 2 | Loss: 0.6752226948738098 | Accuracy: 73.4375%\n"
          ]
        },
        {
          "output_type": "stream",
          "name": "stderr",
          "text": [
            "Epoch 2:  27%|██▋       | 202/751 [00:06<00:14, 38.22batch/s, accuracy=82.8125%, loss=0.476]"
          ]
        },
        {
          "output_type": "stream",
          "name": "stdout",
          "text": [
            "GB | Epoch 2 | Loss: 0.5044676065444946 | Accuracy: 84.375%\n",
            "GB | Epoch 2 | Loss: 0.33220821619033813 | Accuracy: 89.0625%\n",
            "GB | Epoch 2 | Loss: 0.5219138860702515 | Accuracy: 85.9375%\n",
            "GB | Epoch 2 | Loss: 0.5272194743156433 | Accuracy: 85.9375%\n",
            "GB | Epoch 2 | Loss: 0.49428296089172363 | Accuracy: 84.375%\n",
            "GB | Epoch 2 | Loss: 0.4775380790233612 | Accuracy: 82.8125%\n",
            "GB | Epoch 2 | Loss: 0.39456674456596375 | Accuracy: 89.0625%\n",
            "GB | Epoch 2 | Loss: 0.47597935795783997 | Accuracy: 82.8125%\n"
          ]
        },
        {
          "output_type": "stream",
          "name": "stderr",
          "text": [
            "Epoch 2:  28%|██▊       | 211/751 [00:06<00:13, 38.76batch/s, accuracy=85.9375%, loss=0.431]"
          ]
        },
        {
          "output_type": "stream",
          "name": "stdout",
          "text": [
            "GB | Epoch 2 | Loss: 0.5028537511825562 | Accuracy: 79.6875%\n",
            "GB | Epoch 2 | Loss: 0.4326179623603821 | Accuracy: 84.375%\n",
            "GB | Epoch 2 | Loss: 0.46875855326652527 | Accuracy: 82.8125%\n",
            "GB | Epoch 2 | Loss: 0.5177730917930603 | Accuracy: 85.9375%\n",
            "GB | Epoch 2 | Loss: 0.5868881940841675 | Accuracy: 82.8125%\n",
            "GB | Epoch 2 | Loss: 0.5312420725822449 | Accuracy: 79.6875%\n",
            "GB | Epoch 2 | Loss: 0.5435643792152405 | Accuracy: 84.375%\n",
            "GB | Epoch 2 | Loss: 0.39664700627326965 | Accuracy: 89.0625%\n",
            "GB | Epoch 2 | Loss: 0.4313223659992218 | Accuracy: 85.9375%\n"
          ]
        },
        {
          "output_type": "stream",
          "name": "stderr",
          "text": [
            "Epoch 2:  29%|██▉       | 220/751 [00:07<00:13, 39.41batch/s, accuracy=81.25%, loss=0.573]"
          ]
        },
        {
          "output_type": "stream",
          "name": "stdout",
          "text": [
            "GB | Epoch 2 | Loss: 0.42285263538360596 | Accuracy: 87.5%\n",
            "GB | Epoch 2 | Loss: 0.5515982508659363 | Accuracy: 81.25%\n",
            "GB | Epoch 2 | Loss: 0.4995386004447937 | Accuracy: 81.25%\n",
            "GB | Epoch 2 | Loss: 0.5192531943321228 | Accuracy: 82.8125%\n",
            "GB | Epoch 2 | Loss: 0.5352644324302673 | Accuracy: 78.125%\n",
            "GB | Epoch 2 | Loss: 0.6122539043426514 | Accuracy: 78.125%\n",
            "GB | Epoch 2 | Loss: 0.48238518834114075 | Accuracy: 84.375%\n",
            "GB | Epoch 2 | Loss: 0.6082985401153564 | Accuracy: 75.0%\n",
            "GB | Epoch 2 | Loss: 0.573091447353363 | Accuracy: 81.25%\n"
          ]
        },
        {
          "output_type": "stream",
          "name": "stderr",
          "text": [
            "Epoch 2:  30%|██▉       | 224/751 [00:07<00:13, 38.98batch/s, accuracy=84.375%, loss=0.449]"
          ]
        },
        {
          "output_type": "stream",
          "name": "stdout",
          "text": [
            "GB | Epoch 2 | Loss: 0.4860030710697174 | Accuracy: 84.375%\n",
            "GB | Epoch 2 | Loss: 0.3315800428390503 | Accuracy: 87.5%\n",
            "GB | Epoch 2 | Loss: 0.3598097562789917 | Accuracy: 84.375%\n",
            "GB | Epoch 2 | Loss: 0.5334097146987915 | Accuracy: 81.25%\n",
            "GB | Epoch 2 | Loss: 0.5250303149223328 | Accuracy: 81.25%\n",
            "GB | Epoch 2 | Loss: 0.45678117871284485 | Accuracy: 87.5%\n",
            "GB | Epoch 2 | Loss: 0.353089839220047 | Accuracy: 90.625%\n",
            "GB | Epoch 2 | Loss: 0.5747705698013306 | Accuracy: 78.125%\n"
          ]
        },
        {
          "output_type": "stream",
          "name": "stderr",
          "text": [
            "Epoch 2:  31%|███       | 233/751 [00:07<00:13, 38.30batch/s, accuracy=87.5%, loss=0.361]  "
          ]
        },
        {
          "output_type": "stream",
          "name": "stdout",
          "text": [
            "GB | Epoch 2 | Loss: 0.4492419958114624 | Accuracy: 84.375%\n",
            "GB | Epoch 2 | Loss: 0.397688627243042 | Accuracy: 84.375%\n",
            "GB | Epoch 2 | Loss: 0.43376871943473816 | Accuracy: 85.9375%\n",
            "GB | Epoch 2 | Loss: 0.46224117279052734 | Accuracy: 82.8125%\n",
            "GB | Epoch 2 | Loss: 0.6467777490615845 | Accuracy: 70.3125%\n",
            "GB | Epoch 2 | Loss: 0.5155513882637024 | Accuracy: 84.375%\n",
            "GB | Epoch 2 | Loss: 0.2892041504383087 | Accuracy: 90.625%\n",
            "GB | Epoch 2 | Loss: 0.360752671957016 | Accuracy: 87.5%\n"
          ]
        },
        {
          "output_type": "stream",
          "name": "stderr",
          "text": [
            "Epoch 2:  32%|███▏      | 242/751 [00:07<00:13, 39.10batch/s, accuracy=87.5%, loss=0.412]   "
          ]
        },
        {
          "output_type": "stream",
          "name": "stdout",
          "text": [
            "GB | Epoch 2 | Loss: 0.47098490595817566 | Accuracy: 87.5%\n",
            "GB | Epoch 2 | Loss: 0.3079586327075958 | Accuracy: 89.0625%\n",
            "GB | Epoch 2 | Loss: 0.4395037889480591 | Accuracy: 89.0625%\n",
            "GB | Epoch 2 | Loss: 0.5411936044692993 | Accuracy: 82.8125%\n",
            "GB | Epoch 2 | Loss: 0.4164891839027405 | Accuracy: 89.0625%\n",
            "GB | Epoch 2 | Loss: 0.4401214122772217 | Accuracy: 84.375%\n",
            "GB | Epoch 2 | Loss: 0.4747943580150604 | Accuracy: 82.8125%\n",
            "GB | Epoch 2 | Loss: 0.4116026759147644 | Accuracy: 87.5%\n"
          ]
        },
        {
          "output_type": "stream",
          "name": "stderr",
          "text": [
            "Epoch 2:  33%|███▎      | 251/751 [00:07<00:12, 39.44batch/s, accuracy=89.0625%, loss=0.367]"
          ]
        },
        {
          "output_type": "stream",
          "name": "stdout",
          "text": [
            "GB | Epoch 2 | Loss: 0.7476369142532349 | Accuracy: 79.6875%\n",
            "GB | Epoch 2 | Loss: 0.47312498092651367 | Accuracy: 90.625%\n",
            "GB | Epoch 2 | Loss: 0.46513912081718445 | Accuracy: 78.125%\n",
            "GB | Epoch 2 | Loss: 0.323859304189682 | Accuracy: 89.0625%\n",
            "GB | Epoch 2 | Loss: 0.5524652004241943 | Accuracy: 75.0%\n",
            "GB | Epoch 2 | Loss: 0.49443602561950684 | Accuracy: 84.375%\n",
            "GB | Epoch 2 | Loss: 0.48226821422576904 | Accuracy: 84.375%\n",
            "GB | Epoch 2 | Loss: 0.4692668318748474 | Accuracy: 81.25%\n",
            "GB | Epoch 2 | Loss: 0.36718928813934326 | Accuracy: 89.0625%\n"
          ]
        },
        {
          "output_type": "stream",
          "name": "stderr",
          "text": [
            "Epoch 2:  35%|███▍      | 260/751 [00:08<00:12, 39.80batch/s, accuracy=85.9375%, loss=0.431]"
          ]
        },
        {
          "output_type": "stream",
          "name": "stdout",
          "text": [
            "GB | Epoch 2 | Loss: 0.767126739025116 | Accuracy: 73.4375%\n",
            "GB | Epoch 2 | Loss: 0.5828858613967896 | Accuracy: 78.125%\n",
            "GB | Epoch 2 | Loss: 0.5479190945625305 | Accuracy: 85.9375%\n",
            "GB | Epoch 2 | Loss: 0.44405385851860046 | Accuracy: 89.0625%\n",
            "GB | Epoch 2 | Loss: 0.44909486174583435 | Accuracy: 84.375%\n",
            "GB | Epoch 2 | Loss: 0.46470046043395996 | Accuracy: 76.5625%\n",
            "GB | Epoch 2 | Loss: 0.6336572766304016 | Accuracy: 81.25%\n",
            "GB | Epoch 2 | Loss: 0.4212320148944855 | Accuracy: 87.5%\n",
            "GB | Epoch 2 | Loss: 0.4305497109889984 | Accuracy: 85.9375%\n"
          ]
        },
        {
          "output_type": "stream",
          "name": "stderr",
          "text": [
            "Epoch 2:  36%|███▌      | 269/751 [00:08<00:11, 40.58batch/s, accuracy=90.625%, loss=0.42]  "
          ]
        },
        {
          "output_type": "stream",
          "name": "stdout",
          "text": [
            "GB | Epoch 2 | Loss: 0.3965717554092407 | Accuracy: 84.375%\n",
            "GB | Epoch 2 | Loss: 0.6478499174118042 | Accuracy: 78.125%\n",
            "GB | Epoch 2 | Loss: 0.4990580081939697 | Accuracy: 78.125%\n",
            "GB | Epoch 2 | Loss: 0.4957273304462433 | Accuracy: 84.375%\n",
            "GB | Epoch 2 | Loss: 0.45906680822372437 | Accuracy: 82.8125%\n",
            "GB | Epoch 2 | Loss: 0.5350340604782104 | Accuracy: 78.125%\n",
            "GB | Epoch 2 | Loss: 0.4199906885623932 | Accuracy: 84.375%\n",
            "GB | Epoch 2 | Loss: 0.5634302496910095 | Accuracy: 82.8125%\n",
            "GB | Epoch 2 | Loss: 0.41977459192276 | Accuracy: 90.625%\n"
          ]
        },
        {
          "output_type": "stream",
          "name": "stderr",
          "text": [
            "Epoch 2:  37%|███▋      | 278/751 [00:08<00:12, 38.47batch/s, accuracy=78.125%, loss=0.554]"
          ]
        },
        {
          "output_type": "stream",
          "name": "stdout",
          "text": [
            "GB | Epoch 2 | Loss: 0.6866942048072815 | Accuracy: 76.5625%\n",
            "GB | Epoch 2 | Loss: 0.4171265959739685 | Accuracy: 90.625%\n",
            "GB | Epoch 2 | Loss: 0.4820597171783447 | Accuracy: 81.25%\n",
            "GB | Epoch 2 | Loss: 0.31792816519737244 | Accuracy: 89.0625%\n",
            "GB | Epoch 2 | Loss: 0.5046988725662231 | Accuracy: 81.25%\n",
            "GB | Epoch 2 | Loss: 0.4942648112773895 | Accuracy: 81.25%\n",
            "GB | Epoch 2 | Loss: 0.5364683866500854 | Accuracy: 81.25%\n",
            "GB | Epoch 2 | Loss: 0.5536016821861267 | Accuracy: 78.125%\n"
          ]
        },
        {
          "output_type": "stream",
          "name": "stderr",
          "text": [
            "Epoch 2:  38%|███▊      | 286/751 [00:08<00:12, 37.37batch/s, accuracy=87.5%, loss=0.525]  "
          ]
        },
        {
          "output_type": "stream",
          "name": "stdout",
          "text": [
            "GB | Epoch 2 | Loss: 0.49777287244796753 | Accuracy: 84.375%\n",
            "GB | Epoch 2 | Loss: 0.4087708592414856 | Accuracy: 85.9375%\n",
            "GB | Epoch 2 | Loss: 0.6519373059272766 | Accuracy: 76.5625%\n",
            "GB | Epoch 2 | Loss: 0.5095895528793335 | Accuracy: 79.6875%\n",
            "GB | Epoch 2 | Loss: 0.43036553263664246 | Accuracy: 85.9375%\n",
            "GB | Epoch 2 | Loss: 0.6023698449134827 | Accuracy: 78.125%\n",
            "GB | Epoch 2 | Loss: 0.4257476329803467 | Accuracy: 84.375%\n",
            "GB | Epoch 2 | Loss: 0.5245541334152222 | Accuracy: 87.5%\n"
          ]
        },
        {
          "output_type": "stream",
          "name": "stderr",
          "text": [
            "Epoch 2:  39%|███▉      | 294/751 [00:08<00:11, 38.29batch/s, accuracy=85.9375%, loss=0.487]"
          ]
        },
        {
          "output_type": "stream",
          "name": "stdout",
          "text": [
            "GB | Epoch 2 | Loss: 0.4114663600921631 | Accuracy: 81.25%\n",
            "GB | Epoch 2 | Loss: 0.5504282116889954 | Accuracy: 85.9375%\n",
            "GB | Epoch 2 | Loss: 0.482862651348114 | Accuracy: 84.375%\n",
            "GB | Epoch 2 | Loss: 0.5260570645332336 | Accuracy: 78.125%\n",
            "GB | Epoch 2 | Loss: 0.426790326833725 | Accuracy: 85.9375%\n",
            "GB | Epoch 2 | Loss: 0.32798731327056885 | Accuracy: 89.0625%\n",
            "GB | Epoch 2 | Loss: 0.7055931091308594 | Accuracy: 78.125%\n",
            "GB | Epoch 2 | Loss: 0.3580906391143799 | Accuracy: 90.625%\n"
          ]
        },
        {
          "output_type": "stream",
          "name": "stderr",
          "text": [
            "Epoch 2:  40%|████      | 302/751 [00:09<00:11, 38.42batch/s, accuracy=79.6875%, loss=0.426]"
          ]
        },
        {
          "output_type": "stream",
          "name": "stdout",
          "text": [
            "GB | Epoch 2 | Loss: 0.48692622780799866 | Accuracy: 85.9375%\n",
            "GB | Epoch 2 | Loss: 0.4257669746875763 | Accuracy: 84.375%\n",
            "GB | Epoch 2 | Loss: 0.4601997435092926 | Accuracy: 85.9375%\n",
            "GB | Epoch 2 | Loss: 0.5511704683303833 | Accuracy: 82.8125%\n",
            "GB | Epoch 2 | Loss: 0.49537259340286255 | Accuracy: 85.9375%\n",
            "GB | Epoch 2 | Loss: 0.35143133997917175 | Accuracy: 89.0625%\n",
            "GB | Epoch 2 | Loss: 0.4304332733154297 | Accuracy: 82.8125%\n",
            "GB | Epoch 2 | Loss: 0.42614486813545227 | Accuracy: 79.6875%\n"
          ]
        },
        {
          "output_type": "stream",
          "name": "stderr",
          "text": [
            "Epoch 2:  41%|████▏     | 310/751 [00:09<00:11, 38.12batch/s, accuracy=84.375%, loss=0.445]"
          ]
        },
        {
          "output_type": "stream",
          "name": "stdout",
          "text": [
            "GB | Epoch 2 | Loss: 0.5490053296089172 | Accuracy: 81.25%\n",
            "GB | Epoch 2 | Loss: 0.4316571056842804 | Accuracy: 85.9375%\n",
            "GB | Epoch 2 | Loss: 0.8053715825080872 | Accuracy: 70.3125%\n",
            "GB | Epoch 2 | Loss: 0.49559471011161804 | Accuracy: 85.9375%\n",
            "GB | Epoch 2 | Loss: 0.4707178771495819 | Accuracy: 81.25%\n",
            "GB | Epoch 2 | Loss: 0.30151960253715515 | Accuracy: 89.0625%\n",
            "GB | Epoch 2 | Loss: 0.40977004170417786 | Accuracy: 87.5%\n",
            "GB | Epoch 2 | Loss: 0.4447908103466034 | Accuracy: 84.375%\n"
          ]
        },
        {
          "output_type": "stream",
          "name": "stderr",
          "text": [
            "Epoch 2:  42%|████▏     | 319/751 [00:09<00:11, 38.03batch/s, accuracy=89.0625%, loss=0.341]"
          ]
        },
        {
          "output_type": "stream",
          "name": "stdout",
          "text": [
            "GB | Epoch 2 | Loss: 0.569355845451355 | Accuracy: 78.125%\n",
            "GB | Epoch 2 | Loss: 0.39674970507621765 | Accuracy: 93.75%\n",
            "GB | Epoch 2 | Loss: 0.3819190561771393 | Accuracy: 85.9375%\n",
            "GB | Epoch 2 | Loss: 0.7180677056312561 | Accuracy: 81.25%\n",
            "GB | Epoch 2 | Loss: 0.4327241778373718 | Accuracy: 84.375%\n",
            "GB | Epoch 2 | Loss: 0.640541136264801 | Accuracy: 78.125%\n",
            "GB | Epoch 2 | Loss: 0.5936992764472961 | Accuracy: 81.25%\n",
            "GB | Epoch 2 | Loss: 0.3408326506614685 | Accuracy: 89.0625%\n"
          ]
        },
        {
          "output_type": "stream",
          "name": "stderr",
          "text": [
            "Epoch 2:  44%|████▎     | 327/751 [00:09<00:11, 37.01batch/s, accuracy=79.6875%, loss=0.625]"
          ]
        },
        {
          "output_type": "stream",
          "name": "stdout",
          "text": [
            "GB | Epoch 2 | Loss: 0.6775451898574829 | Accuracy: 78.125%\n",
            "GB | Epoch 2 | Loss: 0.4362703561782837 | Accuracy: 84.375%\n",
            "GB | Epoch 2 | Loss: 0.5212836265563965 | Accuracy: 79.6875%\n",
            "GB | Epoch 2 | Loss: 0.5287712812423706 | Accuracy: 81.25%\n",
            "GB | Epoch 2 | Loss: 0.5304257273674011 | Accuracy: 78.125%\n",
            "GB | Epoch 2 | Loss: 0.49887925386428833 | Accuracy: 87.5%\n",
            "GB | Epoch 2 | Loss: 0.5839255452156067 | Accuracy: 82.8125%\n",
            "GB | Epoch 2 | Loss: 0.6253277659416199 | Accuracy: 79.6875%\n"
          ]
        },
        {
          "output_type": "stream",
          "name": "stderr",
          "text": [
            "Epoch 2:  44%|████▍     | 331/751 [00:10<00:11, 36.66batch/s, accuracy=79.6875%, loss=0.517]"
          ]
        },
        {
          "output_type": "stream",
          "name": "stdout",
          "text": [
            "GB | Epoch 2 | Loss: 0.5838636159896851 | Accuracy: 78.125%\n",
            "GB | Epoch 2 | Loss: 0.6961658596992493 | Accuracy: 79.6875%\n",
            "GB | Epoch 2 | Loss: 0.3614051938056946 | Accuracy: 87.5%\n",
            "GB | Epoch 2 | Loss: 0.40013623237609863 | Accuracy: 82.8125%\n",
            "GB | Epoch 2 | Loss: 0.44497841596603394 | Accuracy: 82.8125%\n",
            "GB | Epoch 2 | Loss: 0.5342987179756165 | Accuracy: 81.25%\n",
            "GB | Epoch 2 | Loss: 0.3230939209461212 | Accuracy: 90.625%\n",
            "GB | Epoch 2 | Loss: 0.5171446204185486 | Accuracy: 79.6875%\n"
          ]
        },
        {
          "output_type": "stream",
          "name": "stderr",
          "text": [
            "Epoch 2:  45%|████▌     | 341/751 [00:10<00:10, 38.76batch/s, accuracy=79.6875%, loss=0.55]"
          ]
        },
        {
          "output_type": "stream",
          "name": "stdout",
          "text": [
            "GB | Epoch 2 | Loss: 0.3791559040546417 | Accuracy: 87.5%\n",
            "GB | Epoch 2 | Loss: 0.4806777536869049 | Accuracy: 85.9375%\n",
            "GB | Epoch 2 | Loss: 0.4308556914329529 | Accuracy: 90.625%\n",
            "GB | Epoch 2 | Loss: 0.3524293601512909 | Accuracy: 87.5%\n",
            "GB | Epoch 2 | Loss: 0.5352059006690979 | Accuracy: 82.8125%\n",
            "GB | Epoch 2 | Loss: 0.28650033473968506 | Accuracy: 93.75%\n",
            "GB | Epoch 2 | Loss: 0.4938628077507019 | Accuracy: 82.8125%\n",
            "GB | Epoch 2 | Loss: 0.5618588924407959 | Accuracy: 84.375%\n"
          ]
        },
        {
          "output_type": "stream",
          "name": "stderr",
          "text": [
            "Epoch 2:  46%|████▋     | 349/751 [00:10<00:10, 37.42batch/s, accuracy=95.3125%, loss=0.209]"
          ]
        },
        {
          "output_type": "stream",
          "name": "stdout",
          "text": [
            "GB | Epoch 2 | Loss: 0.5501005053520203 | Accuracy: 79.6875%\n",
            "GB | Epoch 2 | Loss: 0.5582593083381653 | Accuracy: 82.8125%\n",
            "GB | Epoch 2 | Loss: 0.5670371651649475 | Accuracy: 75.0%\n",
            "GB | Epoch 2 | Loss: 0.48360663652420044 | Accuracy: 89.0625%\n",
            "GB | Epoch 2 | Loss: 0.3250316381454468 | Accuracy: 92.1875%\n",
            "GB | Epoch 2 | Loss: 0.40748879313468933 | Accuracy: 84.375%\n",
            "GB | Epoch 2 | Loss: 0.20890465378761292 | Accuracy: 95.3125%\n"
          ]
        },
        {
          "output_type": "stream",
          "name": "stderr",
          "text": [
            "Epoch 2:  48%|████▊     | 358/751 [00:10<00:10, 37.49batch/s, accuracy=89.0625%, loss=0.339]"
          ]
        },
        {
          "output_type": "stream",
          "name": "stdout",
          "text": [
            "GB | Epoch 2 | Loss: 0.2637372612953186 | Accuracy: 90.625%\n",
            "GB | Epoch 2 | Loss: 0.4554981589317322 | Accuracy: 79.6875%\n",
            "GB | Epoch 2 | Loss: 0.38028907775878906 | Accuracy: 89.0625%\n",
            "GB | Epoch 2 | Loss: 0.47385966777801514 | Accuracy: 81.25%\n",
            "GB | Epoch 2 | Loss: 0.47862425446510315 | Accuracy: 84.375%\n",
            "GB | Epoch 2 | Loss: 0.425046443939209 | Accuracy: 82.8125%\n",
            "GB | Epoch 2 | Loss: 0.33772945404052734 | Accuracy: 89.0625%\n",
            "GB | Epoch 2 | Loss: 0.338675320148468 | Accuracy: 89.0625%\n"
          ]
        },
        {
          "output_type": "stream",
          "name": "stderr",
          "text": [
            "Epoch 2:  49%|████▊     | 366/751 [00:10<00:10, 37.03batch/s, accuracy=84.375%, loss=0.518]"
          ]
        },
        {
          "output_type": "stream",
          "name": "stdout",
          "text": [
            "GB | Epoch 2 | Loss: 0.4010688066482544 | Accuracy: 84.375%\n",
            "GB | Epoch 2 | Loss: 0.4376843571662903 | Accuracy: 90.625%\n",
            "GB | Epoch 2 | Loss: 0.585036039352417 | Accuracy: 75.0%\n",
            "GB | Epoch 2 | Loss: 0.517133891582489 | Accuracy: 84.375%\n",
            "GB | Epoch 2 | Loss: 0.47053664922714233 | Accuracy: 85.9375%\n",
            "GB | Epoch 2 | Loss: 0.45782527327537537 | Accuracy: 84.375%\n",
            "GB | Epoch 2 | Loss: 0.48780137300491333 | Accuracy: 82.8125%\n",
            "GB | Epoch 2 | Loss: 0.5182301998138428 | Accuracy: 84.375%\n"
          ]
        },
        {
          "output_type": "stream",
          "name": "stderr",
          "text": [
            "Epoch 2:  50%|████▉     | 375/751 [00:11<00:09, 38.35batch/s, accuracy=78.125%, loss=0.593]"
          ]
        },
        {
          "output_type": "stream",
          "name": "stdout",
          "text": [
            "GB | Epoch 2 | Loss: 0.44720229506492615 | Accuracy: 85.9375%\n",
            "GB | Epoch 2 | Loss: 0.5319058299064636 | Accuracy: 78.125%\n",
            "GB | Epoch 2 | Loss: 0.4368124008178711 | Accuracy: 84.375%\n",
            "GB | Epoch 2 | Loss: 0.4860933721065521 | Accuracy: 84.375%\n",
            "GB | Epoch 2 | Loss: 0.5440084338188171 | Accuracy: 81.25%\n",
            "GB | Epoch 2 | Loss: 0.46102866530418396 | Accuracy: 90.625%\n",
            "GB | Epoch 2 | Loss: 0.40786898136138916 | Accuracy: 84.375%\n",
            "GB | Epoch 2 | Loss: 0.4626637101173401 | Accuracy: 85.9375%\n",
            "GB | Epoch 2 | Loss: 0.5934242010116577 | Accuracy: 78.125%\n"
          ]
        },
        {
          "output_type": "stream",
          "name": "stderr",
          "text": [
            "Epoch 2:  51%|█████     | 383/751 [00:11<00:09, 38.59batch/s, accuracy=85.9375%, loss=0.392]"
          ]
        },
        {
          "output_type": "stream",
          "name": "stdout",
          "text": [
            "GB | Epoch 2 | Loss: 0.6454251408576965 | Accuracy: 82.8125%\n",
            "GB | Epoch 2 | Loss: 0.27392518520355225 | Accuracy: 89.0625%\n",
            "GB | Epoch 2 | Loss: 0.4565519690513611 | Accuracy: 84.375%\n",
            "GB | Epoch 2 | Loss: 0.31459736824035645 | Accuracy: 87.5%\n",
            "GB | Epoch 2 | Loss: 0.4458180069923401 | Accuracy: 84.375%\n",
            "GB | Epoch 2 | Loss: 0.2724758982658386 | Accuracy: 92.1875%\n",
            "GB | Epoch 2 | Loss: 0.4453621804714203 | Accuracy: 85.9375%\n",
            "GB | Epoch 2 | Loss: 0.39218536019325256 | Accuracy: 85.9375%\n"
          ]
        },
        {
          "output_type": "stream",
          "name": "stderr",
          "text": [
            "Epoch 2:  52%|█████▏    | 391/751 [00:11<00:09, 36.58batch/s, accuracy=89.0625%, loss=0.267]"
          ]
        },
        {
          "output_type": "stream",
          "name": "stdout",
          "text": [
            "GB | Epoch 2 | Loss: 0.48040229082107544 | Accuracy: 85.9375%\n",
            "GB | Epoch 2 | Loss: 0.5164270401000977 | Accuracy: 85.9375%\n",
            "GB | Epoch 2 | Loss: 0.386165976524353 | Accuracy: 90.625%\n",
            "GB | Epoch 2 | Loss: 0.34142038226127625 | Accuracy: 90.625%\n",
            "GB | Epoch 2 | Loss: 0.3771958351135254 | Accuracy: 92.1875%\n",
            "GB | Epoch 2 | Loss: 0.48077934980392456 | Accuracy: 87.5%\n",
            "GB | Epoch 2 | Loss: 0.5674073696136475 | Accuracy: 84.375%\n",
            "GB | Epoch 2 | Loss: 0.2671244740486145 | Accuracy: 89.0625%\n"
          ]
        },
        {
          "output_type": "stream",
          "name": "stderr",
          "text": [
            "Epoch 2:  53%|█████▎    | 400/751 [00:11<00:08, 39.04batch/s, accuracy=78.125%, loss=0.64]"
          ]
        },
        {
          "output_type": "stream",
          "name": "stdout",
          "text": [
            "GB | Epoch 2 | Loss: 0.4066196382045746 | Accuracy: 82.8125%\n",
            "GB | Epoch 2 | Loss: 0.5172569751739502 | Accuracy: 81.25%\n",
            "GB | Epoch 2 | Loss: 0.40543070435523987 | Accuracy: 85.9375%\n",
            "GB | Epoch 2 | Loss: 0.43915116786956787 | Accuracy: 84.375%\n",
            "GB | Epoch 2 | Loss: 0.46501338481903076 | Accuracy: 81.25%\n",
            "GB | Epoch 2 | Loss: 0.48912227153778076 | Accuracy: 81.25%\n",
            "GB | Epoch 2 | Loss: 0.43391114473342896 | Accuracy: 87.5%\n",
            "GB | Epoch 2 | Loss: 0.4662875235080719 | Accuracy: 87.5%\n",
            "GB | Epoch 2 | Loss: 0.6397806406021118 | Accuracy: 78.125%\n"
          ]
        },
        {
          "output_type": "stream",
          "name": "stderr",
          "text": [
            "Epoch 2:  54%|█████▍    | 404/751 [00:11<00:09, 36.97batch/s, accuracy=85.9375%, loss=0.401]"
          ]
        },
        {
          "output_type": "stream",
          "name": "stdout",
          "text": [
            "GB | Epoch 2 | Loss: 0.43537846207618713 | Accuracy: 87.5%\n",
            "GB | Epoch 2 | Loss: 0.44521722197532654 | Accuracy: 87.5%\n",
            "GB | Epoch 2 | Loss: 0.39942920207977295 | Accuracy: 81.25%\n",
            "GB | Epoch 2 | Loss: 0.4368388056755066 | Accuracy: 82.8125%\n",
            "GB | Epoch 2 | Loss: 0.5393620133399963 | Accuracy: 79.6875%\n",
            "GB | Epoch 2 | Loss: 0.39385801553726196 | Accuracy: 87.5%\n",
            "GB | Epoch 2 | Loss: 0.45653149485588074 | Accuracy: 82.8125%\n",
            "GB | Epoch 2 | Loss: 0.40145039558410645 | Accuracy: 85.9375%\n"
          ]
        },
        {
          "output_type": "stream",
          "name": "stderr",
          "text": [
            "Epoch 2:  55%|█████▌    | 414/751 [00:12<00:08, 38.77batch/s, accuracy=84.375%, loss=0.379] "
          ]
        },
        {
          "output_type": "stream",
          "name": "stdout",
          "text": [
            "GB | Epoch 2 | Loss: 0.6081929206848145 | Accuracy: 82.8125%\n",
            "GB | Epoch 2 | Loss: 0.5368313193321228 | Accuracy: 85.9375%\n",
            "GB | Epoch 2 | Loss: 0.3286661207675934 | Accuracy: 89.0625%\n",
            "GB | Epoch 2 | Loss: 0.6142916679382324 | Accuracy: 79.6875%\n",
            "GB | Epoch 2 | Loss: 0.5737314820289612 | Accuracy: 78.125%\n",
            "GB | Epoch 2 | Loss: 0.2970801591873169 | Accuracy: 90.625%\n",
            "GB | Epoch 2 | Loss: 0.556661069393158 | Accuracy: 79.6875%\n",
            "GB | Epoch 2 | Loss: 0.3964064121246338 | Accuracy: 85.9375%\n",
            "GB | Epoch 2 | Loss: 0.37876448035240173 | Accuracy: 84.375%\n"
          ]
        },
        {
          "output_type": "stream",
          "name": "stderr",
          "text": [
            "Epoch 2:  56%|█████▌    | 422/751 [00:12<00:08, 38.69batch/s, accuracy=87.5%, loss=0.501]"
          ]
        },
        {
          "output_type": "stream",
          "name": "stdout",
          "text": [
            "GB | Epoch 2 | Loss: 0.632830023765564 | Accuracy: 76.5625%\n",
            "GB | Epoch 2 | Loss: 0.5440350770950317 | Accuracy: 90.625%\n",
            "GB | Epoch 2 | Loss: 0.47264090180397034 | Accuracy: 82.8125%\n",
            "GB | Epoch 2 | Loss: 0.3422967195510864 | Accuracy: 89.0625%\n",
            "GB | Epoch 2 | Loss: 0.45324966311454773 | Accuracy: 85.9375%\n",
            "GB | Epoch 2 | Loss: 0.49442270398139954 | Accuracy: 89.0625%\n",
            "GB | Epoch 2 | Loss: 0.354047566652298 | Accuracy: 87.5%\n",
            "GB | Epoch 2 | Loss: 0.5013499855995178 | Accuracy: 87.5%\n"
          ]
        },
        {
          "output_type": "stream",
          "name": "stderr",
          "text": [
            "Epoch 2:  57%|█████▋    | 430/751 [00:12<00:08, 37.38batch/s, accuracy=87.5%, loss=0.43]   "
          ]
        },
        {
          "output_type": "stream",
          "name": "stdout",
          "text": [
            "GB | Epoch 2 | Loss: 0.5646837949752808 | Accuracy: 81.25%\n",
            "GB | Epoch 2 | Loss: 0.4048977196216583 | Accuracy: 84.375%\n",
            "GB | Epoch 2 | Loss: 0.4624442458152771 | Accuracy: 85.9375%\n",
            "GB | Epoch 2 | Loss: 0.37309911847114563 | Accuracy: 87.5%\n",
            "GB | Epoch 2 | Loss: 0.3971695303916931 | Accuracy: 87.5%\n",
            "GB | Epoch 2 | Loss: 0.3980005979537964 | Accuracy: 90.625%\n",
            "GB | Epoch 2 | Loss: 0.24910517036914825 | Accuracy: 90.625%\n",
            "GB | Epoch 2 | Loss: 0.4297614097595215 | Accuracy: 87.5%\n"
          ]
        },
        {
          "output_type": "stream",
          "name": "stderr",
          "text": [
            "Epoch 2:  58%|█████▊    | 438/751 [00:12<00:08, 38.30batch/s, accuracy=82.8125%, loss=0.439]"
          ]
        },
        {
          "output_type": "stream",
          "name": "stdout",
          "text": [
            "GB | Epoch 2 | Loss: 0.43015581369400024 | Accuracy: 85.9375%\n",
            "GB | Epoch 2 | Loss: 0.2925562858581543 | Accuracy: 93.75%\n",
            "GB | Epoch 2 | Loss: 0.580952525138855 | Accuracy: 79.6875%\n",
            "GB | Epoch 2 | Loss: 0.6218910813331604 | Accuracy: 78.125%\n",
            "GB | Epoch 2 | Loss: 0.532080888748169 | Accuracy: 84.375%\n",
            "GB | Epoch 2 | Loss: 0.45666420459747314 | Accuracy: 84.375%\n",
            "GB | Epoch 2 | Loss: 0.44080179929733276 | Accuracy: 87.5%\n",
            "GB | Epoch 2 | Loss: 0.43929001688957214 | Accuracy: 82.8125%\n"
          ]
        },
        {
          "output_type": "stream",
          "name": "stderr",
          "text": [
            "Epoch 2:  59%|█████▉    | 446/751 [00:13<00:08, 36.94batch/s, accuracy=92.1875%, loss=0.275]"
          ]
        },
        {
          "output_type": "stream",
          "name": "stdout",
          "text": [
            "GB | Epoch 2 | Loss: 0.47227561473846436 | Accuracy: 82.8125%\n",
            "GB | Epoch 2 | Loss: 0.3664056658744812 | Accuracy: 85.9375%\n",
            "GB | Epoch 2 | Loss: 0.5408660173416138 | Accuracy: 81.25%\n",
            "GB | Epoch 2 | Loss: 0.35273489356040955 | Accuracy: 89.0625%\n",
            "GB | Epoch 2 | Loss: 0.3825186789035797 | Accuracy: 89.0625%\n",
            "GB | Epoch 2 | Loss: 0.301308274269104 | Accuracy: 89.0625%\n",
            "GB | Epoch 2 | Loss: 0.5388579368591309 | Accuracy: 81.25%\n",
            "GB | Epoch 2 | Loss: 0.27454254031181335 | Accuracy: 92.1875%\n"
          ]
        },
        {
          "output_type": "stream",
          "name": "stderr",
          "text": [
            "Epoch 2:  60%|██████    | 454/751 [00:13<00:07, 38.20batch/s, accuracy=89.0625%, loss=0.399]"
          ]
        },
        {
          "output_type": "stream",
          "name": "stdout",
          "text": [
            "GB | Epoch 2 | Loss: 0.29687726497650146 | Accuracy: 93.75%\n",
            "GB | Epoch 2 | Loss: 0.35862451791763306 | Accuracy: 87.5%\n",
            "GB | Epoch 2 | Loss: 0.4578246474266052 | Accuracy: 89.0625%\n",
            "GB | Epoch 2 | Loss: 0.4549572467803955 | Accuracy: 84.375%\n",
            "GB | Epoch 2 | Loss: 0.5028374791145325 | Accuracy: 84.375%\n",
            "GB | Epoch 2 | Loss: 0.4310152232646942 | Accuracy: 85.9375%\n",
            "GB | Epoch 2 | Loss: 0.2593157887458801 | Accuracy: 95.3125%\n",
            "GB | Epoch 2 | Loss: 0.43248045444488525 | Accuracy: 87.5%\n",
            "GB | Epoch 2 | Loss: 0.39871519804000854 | Accuracy: 89.0625%\n"
          ]
        },
        {
          "output_type": "stream",
          "name": "stderr",
          "text": [
            "Epoch 2:  62%|██████▏   | 463/751 [00:13<00:07, 37.35batch/s, accuracy=85.9375%, loss=0.45]"
          ]
        },
        {
          "output_type": "stream",
          "name": "stdout",
          "text": [
            "GB | Epoch 2 | Loss: 0.3483448326587677 | Accuracy: 87.5%\n",
            "GB | Epoch 2 | Loss: 0.3900909125804901 | Accuracy: 90.625%\n",
            "GB | Epoch 2 | Loss: 0.5488075613975525 | Accuracy: 79.6875%\n",
            "GB | Epoch 2 | Loss: 0.5147929787635803 | Accuracy: 81.25%\n",
            "GB | Epoch 2 | Loss: 0.5219864845275879 | Accuracy: 78.125%\n",
            "GB | Epoch 2 | Loss: 0.4062403440475464 | Accuracy: 87.5%\n",
            "GB | Epoch 2 | Loss: 0.6068918108940125 | Accuracy: 78.125%\n",
            "GB | Epoch 2 | Loss: 0.4501308500766754 | Accuracy: 85.9375%\n"
          ]
        },
        {
          "output_type": "stream",
          "name": "stderr",
          "text": [
            "Epoch 2:  63%|██████▎   | 473/751 [00:13<00:07, 39.38batch/s, accuracy=81.25%, loss=0.609] "
          ]
        },
        {
          "output_type": "stream",
          "name": "stdout",
          "text": [
            "GB | Epoch 2 | Loss: 0.3597317039966583 | Accuracy: 89.0625%\n",
            "GB | Epoch 2 | Loss: 0.6722251176834106 | Accuracy: 79.6875%\n",
            "GB | Epoch 2 | Loss: 0.44151318073272705 | Accuracy: 85.9375%\n",
            "GB | Epoch 2 | Loss: 0.32178452610969543 | Accuracy: 93.75%\n",
            "GB | Epoch 2 | Loss: 0.32943183183670044 | Accuracy: 92.1875%\n",
            "GB | Epoch 2 | Loss: 0.40841740369796753 | Accuracy: 85.9375%\n",
            "GB | Epoch 2 | Loss: 0.42971813678741455 | Accuracy: 84.375%\n",
            "GB | Epoch 2 | Loss: 0.47940269112586975 | Accuracy: 78.125%\n",
            "GB | Epoch 2 | Loss: 0.6085473299026489 | Accuracy: 81.25%\n"
          ]
        },
        {
          "output_type": "stream",
          "name": "stderr",
          "text": [
            "Epoch 2:  64%|██████▍   | 481/751 [00:13<00:07, 37.79batch/s, accuracy=78.125%, loss=0.542]"
          ]
        },
        {
          "output_type": "stream",
          "name": "stdout",
          "text": [
            "GB | Epoch 2 | Loss: 0.42205560207366943 | Accuracy: 85.9375%\n",
            "GB | Epoch 2 | Loss: 0.45940330624580383 | Accuracy: 89.0625%\n",
            "GB | Epoch 2 | Loss: 0.37168899178504944 | Accuracy: 87.5%\n",
            "GB | Epoch 2 | Loss: 0.6025475859642029 | Accuracy: 82.8125%\n",
            "GB | Epoch 2 | Loss: 0.3607187271118164 | Accuracy: 89.0625%\n",
            "GB | Epoch 2 | Loss: 0.3518143892288208 | Accuracy: 89.0625%\n",
            "GB | Epoch 2 | Loss: 0.302753746509552 | Accuracy: 90.625%\n",
            "GB | Epoch 2 | Loss: 0.5418107509613037 | Accuracy: 78.125%\n"
          ]
        },
        {
          "output_type": "stream",
          "name": "stderr",
          "text": [
            "Epoch 2:  65%|██████▌   | 489/751 [00:14<00:06, 38.35batch/s, accuracy=85.9375%, loss=0.484]"
          ]
        },
        {
          "output_type": "stream",
          "name": "stdout",
          "text": [
            "GB | Epoch 2 | Loss: 0.3233126103878021 | Accuracy: 89.0625%\n",
            "GB | Epoch 2 | Loss: 0.5482944846153259 | Accuracy: 79.6875%\n",
            "GB | Epoch 2 | Loss: 0.4241946339607239 | Accuracy: 82.8125%\n",
            "GB | Epoch 2 | Loss: 0.37794065475463867 | Accuracy: 89.0625%\n",
            "GB | Epoch 2 | Loss: 0.5149406790733337 | Accuracy: 81.25%\n",
            "GB | Epoch 2 | Loss: 0.3198387920856476 | Accuracy: 90.625%\n",
            "GB | Epoch 2 | Loss: 0.37282976508140564 | Accuracy: 85.9375%\n",
            "GB | Epoch 2 | Loss: 0.35696861147880554 | Accuracy: 90.625%\n",
            "GB | Epoch 2 | Loss: 0.4838332533836365 | Accuracy: 85.9375%\n"
          ]
        },
        {
          "output_type": "stream",
          "name": "stderr",
          "text": [
            "Epoch 2:  66%|██████▋   | 498/751 [00:14<00:06, 38.85batch/s, accuracy=87.5%, loss=0.396] "
          ]
        },
        {
          "output_type": "stream",
          "name": "stdout",
          "text": [
            "GB | Epoch 2 | Loss: 0.4650615155696869 | Accuracy: 82.8125%\n",
            "GB | Epoch 2 | Loss: 0.43640053272247314 | Accuracy: 87.5%\n",
            "GB | Epoch 2 | Loss: 0.4536878764629364 | Accuracy: 82.8125%\n",
            "GB | Epoch 2 | Loss: 0.44099584221839905 | Accuracy: 85.9375%\n",
            "GB | Epoch 2 | Loss: 0.40177276730537415 | Accuracy: 84.375%\n",
            "GB | Epoch 2 | Loss: 0.3718578815460205 | Accuracy: 89.0625%\n",
            "GB | Epoch 2 | Loss: 0.5246030688285828 | Accuracy: 81.25%\n",
            "GB | Epoch 2 | Loss: 0.39622703194618225 | Accuracy: 87.5%\n"
          ]
        },
        {
          "output_type": "stream",
          "name": "stderr",
          "text": [
            "Epoch 2:  67%|██████▋   | 506/751 [00:14<00:06, 36.98batch/s, accuracy=84.375%, loss=0.495] "
          ]
        },
        {
          "output_type": "stream",
          "name": "stdout",
          "text": [
            "GB | Epoch 2 | Loss: 0.36878493428230286 | Accuracy: 90.625%\n",
            "GB | Epoch 2 | Loss: 0.4434645473957062 | Accuracy: 87.5%\n",
            "GB | Epoch 2 | Loss: 0.5552047491073608 | Accuracy: 84.375%\n",
            "GB | Epoch 2 | Loss: 0.5639409422874451 | Accuracy: 82.8125%\n",
            "GB | Epoch 2 | Loss: 0.6144435405731201 | Accuracy: 78.125%\n",
            "GB | Epoch 2 | Loss: 0.44600710272789 | Accuracy: 78.125%\n",
            "GB | Epoch 2 | Loss: 0.39319127798080444 | Accuracy: 82.8125%\n",
            "GB | Epoch 2 | Loss: 0.49512436985969543 | Accuracy: 84.375%\n"
          ]
        },
        {
          "output_type": "stream",
          "name": "stderr",
          "text": [
            "Epoch 2:  69%|██████▊   | 515/751 [00:14<00:06, 38.68batch/s, accuracy=82.8125%, loss=0.494]"
          ]
        },
        {
          "output_type": "stream",
          "name": "stdout",
          "text": [
            "GB | Epoch 2 | Loss: 0.48113760352134705 | Accuracy: 82.8125%\n",
            "GB | Epoch 2 | Loss: 0.26792192459106445 | Accuracy: 90.625%\n",
            "GB | Epoch 2 | Loss: 0.4699484407901764 | Accuracy: 85.9375%\n",
            "GB | Epoch 2 | Loss: 0.6081083416938782 | Accuracy: 78.125%\n",
            "GB | Epoch 2 | Loss: 0.4271351993083954 | Accuracy: 85.9375%\n",
            "GB | Epoch 2 | Loss: 0.4743577539920807 | Accuracy: 79.6875%\n",
            "GB | Epoch 2 | Loss: 0.42225340008735657 | Accuracy: 84.375%\n",
            "GB | Epoch 2 | Loss: 0.49411001801490784 | Accuracy: 82.8125%\n"
          ]
        },
        {
          "output_type": "stream",
          "name": "stderr",
          "text": [
            "Epoch 2:  70%|██████▉   | 523/751 [00:15<00:06, 37.34batch/s, accuracy=89.0625%, loss=0.352]"
          ]
        },
        {
          "output_type": "stream",
          "name": "stdout",
          "text": [
            "GB | Epoch 2 | Loss: 0.48983234167099 | Accuracy: 82.8125%\n",
            "GB | Epoch 2 | Loss: 0.38047200441360474 | Accuracy: 85.9375%\n",
            "GB | Epoch 2 | Loss: 0.3898654282093048 | Accuracy: 84.375%\n",
            "GB | Epoch 2 | Loss: 0.3686615526676178 | Accuracy: 87.5%\n",
            "GB | Epoch 2 | Loss: 0.4143342971801758 | Accuracy: 87.5%\n",
            "GB | Epoch 2 | Loss: 0.5268859267234802 | Accuracy: 78.125%\n",
            "GB | Epoch 2 | Loss: 0.36633068323135376 | Accuracy: 84.375%\n",
            "GB | Epoch 2 | Loss: 0.35210922360420227 | Accuracy: 89.0625%\n"
          ]
        },
        {
          "output_type": "stream",
          "name": "stderr",
          "text": [
            "Epoch 2:  71%|███████   | 532/751 [00:15<00:05, 39.27batch/s, accuracy=95.3125%, loss=0.28]"
          ]
        },
        {
          "output_type": "stream",
          "name": "stdout",
          "text": [
            "GB | Epoch 2 | Loss: 0.3755338788032532 | Accuracy: 85.9375%\n",
            "GB | Epoch 2 | Loss: 0.41539621353149414 | Accuracy: 87.5%\n",
            "GB | Epoch 2 | Loss: 0.19111430644989014 | Accuracy: 96.875%\n",
            "GB | Epoch 2 | Loss: 0.36775028705596924 | Accuracy: 87.5%\n",
            "GB | Epoch 2 | Loss: 0.34817469120025635 | Accuracy: 85.9375%\n",
            "GB | Epoch 2 | Loss: 0.4337111711502075 | Accuracy: 85.9375%\n",
            "GB | Epoch 2 | Loss: 0.4919450581073761 | Accuracy: 81.25%\n",
            "GB | Epoch 2 | Loss: 0.3905095160007477 | Accuracy: 87.5%\n",
            "GB | Epoch 2 | Loss: 0.2799718976020813 | Accuracy: 95.3125%\n"
          ]
        },
        {
          "output_type": "stream",
          "name": "stderr",
          "text": [
            "Epoch 2:  71%|███████▏  | 536/751 [00:15<00:05, 37.27batch/s, accuracy=85.9375%, loss=0.42] "
          ]
        },
        {
          "output_type": "stream",
          "name": "stdout",
          "text": [
            "GB | Epoch 2 | Loss: 0.3467634320259094 | Accuracy: 87.5%\n",
            "GB | Epoch 2 | Loss: 0.46064743399620056 | Accuracy: 76.5625%\n",
            "GB | Epoch 2 | Loss: 0.6229174733161926 | Accuracy: 81.25%\n",
            "GB | Epoch 2 | Loss: 0.33856576681137085 | Accuracy: 84.375%\n",
            "GB | Epoch 2 | Loss: 0.49074438214302063 | Accuracy: 79.6875%\n",
            "GB | Epoch 2 | Loss: 0.4203554391860962 | Accuracy: 85.9375%\n"
          ]
        },
        {
          "output_type": "stream",
          "name": "stderr",
          "text": [
            "Epoch 2:  72%|███████▏  | 544/751 [00:15<00:06, 33.61batch/s, accuracy=89.0625%, loss=0.334]"
          ]
        },
        {
          "output_type": "stream",
          "name": "stdout",
          "text": [
            "GB | Epoch 2 | Loss: 0.5418843030929565 | Accuracy: 82.8125%\n",
            "GB | Epoch 2 | Loss: 0.602279007434845 | Accuracy: 81.25%\n",
            "GB | Epoch 2 | Loss: 0.37424933910369873 | Accuracy: 85.9375%\n",
            "GB | Epoch 2 | Loss: 0.218696728348732 | Accuracy: 95.3125%\n",
            "GB | Epoch 2 | Loss: 0.6999799609184265 | Accuracy: 87.5%\n",
            "GB | Epoch 2 | Loss: 0.6033832430839539 | Accuracy: 81.25%\n",
            "GB | Epoch 2 | Loss: 0.3344912827014923 | Accuracy: 89.0625%\n"
          ]
        },
        {
          "output_type": "stream",
          "name": "stderr",
          "text": [
            "Epoch 2:  74%|███████▎  | 552/751 [00:15<00:06, 32.05batch/s, accuracy=82.8125%, loss=0.353]"
          ]
        },
        {
          "output_type": "stream",
          "name": "stdout",
          "text": [
            "GB | Epoch 2 | Loss: 0.5484386682510376 | Accuracy: 84.375%\n",
            "GB | Epoch 2 | Loss: 0.504142701625824 | Accuracy: 82.8125%\n",
            "GB | Epoch 2 | Loss: 0.2671726644039154 | Accuracy: 92.1875%\n",
            "GB | Epoch 2 | Loss: 0.2922525405883789 | Accuracy: 92.1875%\n",
            "GB | Epoch 2 | Loss: 0.3434312641620636 | Accuracy: 87.5%\n",
            "GB | Epoch 2 | Loss: 0.3531550467014313 | Accuracy: 82.8125%\n"
          ]
        },
        {
          "output_type": "stream",
          "name": "stderr",
          "text": [
            "Epoch 2:  74%|███████▍  | 556/751 [00:16<00:06, 30.30batch/s, accuracy=79.6875%, loss=0.482]"
          ]
        },
        {
          "output_type": "stream",
          "name": "stdout",
          "text": [
            "GB | Epoch 2 | Loss: 0.3134973347187042 | Accuracy: 89.0625%\n",
            "GB | Epoch 2 | Loss: 0.47999119758605957 | Accuracy: 84.375%\n",
            "GB | Epoch 2 | Loss: 0.4372884929180145 | Accuracy: 81.25%\n",
            "GB | Epoch 2 | Loss: 0.5070411562919617 | Accuracy: 76.5625%\n",
            "GB | Epoch 2 | Loss: 0.508019208908081 | Accuracy: 87.5%\n",
            "GB | Epoch 2 | Loss: 0.48223310708999634 | Accuracy: 79.6875%\n"
          ]
        },
        {
          "output_type": "stream",
          "name": "stderr",
          "text": [
            "Epoch 2:  75%|███████▌  | 564/751 [00:16<00:06, 30.60batch/s, accuracy=93.75%, loss=0.26]   "
          ]
        },
        {
          "output_type": "stream",
          "name": "stdout",
          "text": [
            "GB | Epoch 2 | Loss: 0.3252789378166199 | Accuracy: 90.625%\n",
            "GB | Epoch 2 | Loss: 0.46462488174438477 | Accuracy: 82.8125%\n",
            "GB | Epoch 2 | Loss: 0.34111422300338745 | Accuracy: 90.625%\n",
            "GB | Epoch 2 | Loss: 0.4789538085460663 | Accuracy: 84.375%\n",
            "GB | Epoch 2 | Loss: 0.39196911454200745 | Accuracy: 87.5%\n",
            "GB | Epoch 2 | Loss: 0.5565066337585449 | Accuracy: 82.8125%\n",
            "GB | Epoch 2 | Loss: 0.2596546709537506 | Accuracy: 93.75%\n"
          ]
        },
        {
          "output_type": "stream",
          "name": "stderr",
          "text": [
            "Epoch 2:  76%|███████▌  | 568/751 [00:16<00:06, 29.73batch/s, accuracy=84.375%, loss=0.434]"
          ]
        },
        {
          "output_type": "stream",
          "name": "stdout",
          "text": [
            "GB | Epoch 2 | Loss: 0.586237370967865 | Accuracy: 79.6875%\n",
            "GB | Epoch 2 | Loss: 0.3553139567375183 | Accuracy: 89.0625%\n",
            "GB | Epoch 2 | Loss: 0.4014148712158203 | Accuracy: 85.9375%\n",
            "GB | Epoch 2 | Loss: 0.49947208166122437 | Accuracy: 75.0%\n",
            "GB | Epoch 2 | Loss: 0.5376717448234558 | Accuracy: 81.25%\n",
            "GB | Epoch 2 | Loss: 0.3668786883354187 | Accuracy: 87.5%\n",
            "GB | Epoch 2 | Loss: 0.43372872471809387 | Accuracy: 84.375%\n"
          ]
        },
        {
          "output_type": "stream",
          "name": "stderr",
          "text": [
            "Epoch 2:  77%|███████▋  | 576/751 [00:16<00:06, 28.91batch/s, accuracy=81.25%, loss=0.542]  "
          ]
        },
        {
          "output_type": "stream",
          "name": "stdout",
          "text": [
            "GB | Epoch 2 | Loss: 0.5319594740867615 | Accuracy: 82.8125%\n",
            "GB | Epoch 2 | Loss: 0.419030100107193 | Accuracy: 84.375%\n",
            "GB | Epoch 2 | Loss: 0.3843764066696167 | Accuracy: 90.625%\n",
            "GB | Epoch 2 | Loss: 0.39899662137031555 | Accuracy: 87.5%\n",
            "GB | Epoch 2 | Loss: 0.32148119807243347 | Accuracy: 92.1875%\n",
            "GB | Epoch 2 | Loss: 0.5420914888381958 | Accuracy: 81.25%\n"
          ]
        },
        {
          "output_type": "stream",
          "name": "stderr",
          "text": [
            "Epoch 2:  78%|███████▊  | 583/751 [00:16<00:05, 28.46batch/s, accuracy=84.375%, loss=0.446]"
          ]
        },
        {
          "output_type": "stream",
          "name": "stdout",
          "text": [
            "GB | Epoch 2 | Loss: 0.3127099275588989 | Accuracy: 90.625%\n",
            "GB | Epoch 2 | Loss: 0.47437265515327454 | Accuracy: 81.25%\n",
            "GB | Epoch 2 | Loss: 0.2862103581428528 | Accuracy: 93.75%\n",
            "GB | Epoch 2 | Loss: 0.43514272570610046 | Accuracy: 81.25%\n",
            "GB | Epoch 2 | Loss: 0.38800248503685 | Accuracy: 84.375%\n",
            "GB | Epoch 2 | Loss: 0.44594115018844604 | Accuracy: 84.375%\n"
          ]
        },
        {
          "output_type": "stream",
          "name": "stderr",
          "text": [
            "Epoch 2:  79%|███████▊  | 590/751 [00:17<00:05, 28.46batch/s, accuracy=89.0625%, loss=0.444]"
          ]
        },
        {
          "output_type": "stream",
          "name": "stdout",
          "text": [
            "GB | Epoch 2 | Loss: 0.47801366448402405 | Accuracy: 84.375%\n",
            "GB | Epoch 2 | Loss: 0.49862411618232727 | Accuracy: 82.8125%\n",
            "GB | Epoch 2 | Loss: 0.4133860766887665 | Accuracy: 84.375%\n",
            "GB | Epoch 2 | Loss: 0.5957751870155334 | Accuracy: 82.8125%\n",
            "GB | Epoch 2 | Loss: 0.425398051738739 | Accuracy: 81.25%\n",
            "GB | Epoch 2 | Loss: 0.4440365135669708 | Accuracy: 89.0625%\n"
          ]
        },
        {
          "output_type": "stream",
          "name": "stderr",
          "text": [
            "Epoch 2:  79%|███████▉  | 594/751 [00:17<00:05, 28.74batch/s, accuracy=81.25%, loss=0.4]   "
          ]
        },
        {
          "output_type": "stream",
          "name": "stdout",
          "text": [
            "GB | Epoch 2 | Loss: 0.31722491979599 | Accuracy: 89.0625%\n",
            "GB | Epoch 2 | Loss: 0.39476799964904785 | Accuracy: 89.0625%\n",
            "GB | Epoch 2 | Loss: 0.4296741783618927 | Accuracy: 85.9375%\n",
            "GB | Epoch 2 | Loss: 0.4871911108493805 | Accuracy: 87.5%\n",
            "GB | Epoch 2 | Loss: 0.43363046646118164 | Accuracy: 90.625%\n",
            "GB | Epoch 2 | Loss: 0.39986154437065125 | Accuracy: 81.25%\n"
          ]
        },
        {
          "output_type": "stream",
          "name": "stderr",
          "text": [
            "Epoch 2:  80%|███████▉  | 600/751 [00:17<00:05, 26.84batch/s, accuracy=87.5%, loss=0.475]   "
          ]
        },
        {
          "output_type": "stream",
          "name": "stdout",
          "text": [
            "GB | Epoch 2 | Loss: 0.3287249803543091 | Accuracy: 87.5%\n",
            "GB | Epoch 2 | Loss: 0.6014666557312012 | Accuracy: 79.6875%\n",
            "GB | Epoch 2 | Loss: 0.35670435428619385 | Accuracy: 89.0625%\n",
            "GB | Epoch 2 | Loss: 0.6475356221199036 | Accuracy: 73.4375%\n",
            "GB | Epoch 2 | Loss: 0.4169214963912964 | Accuracy: 85.9375%\n",
            "GB | Epoch 2 | Loss: 0.47458893060684204 | Accuracy: 87.5%\n"
          ]
        },
        {
          "output_type": "stream",
          "name": "stderr",
          "text": [
            "Epoch 2:  81%|████████  | 607/751 [00:17<00:05, 28.57batch/s, accuracy=82.8125%, loss=0.351]"
          ]
        },
        {
          "output_type": "stream",
          "name": "stdout",
          "text": [
            "GB | Epoch 2 | Loss: 0.6137599349021912 | Accuracy: 81.25%\n",
            "GB | Epoch 2 | Loss: 0.4312804043292999 | Accuracy: 82.8125%\n",
            "GB | Epoch 2 | Loss: 0.2587382197380066 | Accuracy: 89.0625%\n",
            "GB | Epoch 2 | Loss: 0.576741635799408 | Accuracy: 81.25%\n",
            "GB | Epoch 2 | Loss: 0.4890599250793457 | Accuracy: 84.375%\n",
            "GB | Epoch 2 | Loss: 0.5187188982963562 | Accuracy: 82.8125%\n",
            "GB | Epoch 2 | Loss: 0.35065117478370667 | Accuracy: 82.8125%\n"
          ]
        },
        {
          "output_type": "stream",
          "name": "stderr",
          "text": [
            "Epoch 2:  82%|████████▏ | 613/751 [00:18<00:04, 27.83batch/s, accuracy=89.0625%, loss=0.395]"
          ]
        },
        {
          "output_type": "stream",
          "name": "stdout",
          "text": [
            "GB | Epoch 2 | Loss: 0.48201239109039307 | Accuracy: 87.5%\n",
            "GB | Epoch 2 | Loss: 0.44623449444770813 | Accuracy: 85.9375%\n",
            "GB | Epoch 2 | Loss: 0.5078026056289673 | Accuracy: 78.125%\n",
            "GB | Epoch 2 | Loss: 0.4902089238166809 | Accuracy: 81.25%\n",
            "GB | Epoch 2 | Loss: 0.4979758560657501 | Accuracy: 85.9375%\n",
            "GB | Epoch 2 | Loss: 0.3949968218803406 | Accuracy: 89.0625%\n"
          ]
        },
        {
          "output_type": "stream",
          "name": "stderr",
          "text": [
            "Epoch 2:  82%|████████▏ | 619/751 [00:18<00:04, 27.48batch/s, accuracy=85.9375%, loss=0.329]"
          ]
        },
        {
          "output_type": "stream",
          "name": "stdout",
          "text": [
            "GB | Epoch 2 | Loss: 0.5420438647270203 | Accuracy: 78.125%\n",
            "GB | Epoch 2 | Loss: 0.3854518532752991 | Accuracy: 85.9375%\n",
            "GB | Epoch 2 | Loss: 0.4556583762168884 | Accuracy: 84.375%\n",
            "GB | Epoch 2 | Loss: 0.463873952627182 | Accuracy: 89.0625%\n",
            "GB | Epoch 2 | Loss: 0.27359452843666077 | Accuracy: 93.75%\n",
            "GB | Epoch 2 | Loss: 0.32925212383270264 | Accuracy: 85.9375%\n"
          ]
        },
        {
          "output_type": "stream",
          "name": "stderr",
          "text": [
            "Epoch 2:  83%|████████▎ | 626/751 [00:18<00:04, 27.96batch/s, accuracy=84.375%, loss=0.422]"
          ]
        },
        {
          "output_type": "stream",
          "name": "stdout",
          "text": [
            "GB | Epoch 2 | Loss: 0.2619457244873047 | Accuracy: 95.3125%\n",
            "GB | Epoch 2 | Loss: 0.42147091031074524 | Accuracy: 84.375%\n",
            "GB | Epoch 2 | Loss: 0.5691134929656982 | Accuracy: 78.125%\n",
            "GB | Epoch 2 | Loss: 0.2865205705165863 | Accuracy: 89.0625%\n",
            "GB | Epoch 2 | Loss: 0.47600021958351135 | Accuracy: 84.375%\n",
            "GB | Epoch 2 | Loss: 0.4216445982456207 | Accuracy: 84.375%\n"
          ]
        },
        {
          "output_type": "stream",
          "name": "stderr",
          "text": [
            "Epoch 2:  84%|████████▍ | 632/751 [00:18<00:04, 26.85batch/s, accuracy=84.375%, loss=0.398]"
          ]
        },
        {
          "output_type": "stream",
          "name": "stdout",
          "text": [
            "GB | Epoch 2 | Loss: 0.5361711978912354 | Accuracy: 85.9375%\n",
            "GB | Epoch 2 | Loss: 0.4501692056655884 | Accuracy: 85.9375%\n",
            "GB | Epoch 2 | Loss: 0.36031776666641235 | Accuracy: 92.1875%\n",
            "GB | Epoch 2 | Loss: 0.4655593931674957 | Accuracy: 85.9375%\n",
            "GB | Epoch 2 | Loss: 0.3977462947368622 | Accuracy: 84.375%\n"
          ]
        },
        {
          "output_type": "stream",
          "name": "stderr",
          "text": [
            "Epoch 2:  85%|████████▍ | 638/751 [00:18<00:04, 26.85batch/s, accuracy=90.625%, loss=0.404]"
          ]
        },
        {
          "output_type": "stream",
          "name": "stdout",
          "text": [
            "GB | Epoch 2 | Loss: 0.39430108666419983 | Accuracy: 89.0625%\n",
            "GB | Epoch 2 | Loss: 0.3692914843559265 | Accuracy: 89.0625%\n",
            "GB | Epoch 2 | Loss: 0.4657861292362213 | Accuracy: 79.6875%\n",
            "GB | Epoch 2 | Loss: 0.4017656147480011 | Accuracy: 89.0625%\n",
            "GB | Epoch 2 | Loss: 0.4886552095413208 | Accuracy: 81.25%\n",
            "GB | Epoch 2 | Loss: 0.4039765000343323 | Accuracy: 90.625%\n"
          ]
        },
        {
          "output_type": "stream",
          "name": "stderr",
          "text": [
            "Epoch 2:  86%|████████▌ | 645/751 [00:19<00:03, 28.27batch/s, accuracy=84.375%, loss=0.354]"
          ]
        },
        {
          "output_type": "stream",
          "name": "stdout",
          "text": [
            "GB | Epoch 2 | Loss: 0.4006401300430298 | Accuracy: 85.9375%\n",
            "GB | Epoch 2 | Loss: 0.43792080879211426 | Accuracy: 89.0625%\n",
            "GB | Epoch 2 | Loss: 0.47661787271499634 | Accuracy: 85.9375%\n",
            "GB | Epoch 2 | Loss: 0.5209705233573914 | Accuracy: 78.125%\n",
            "GB | Epoch 2 | Loss: 0.48205679655075073 | Accuracy: 84.375%\n",
            "GB | Epoch 2 | Loss: 0.24603793025016785 | Accuracy: 92.1875%\n",
            "GB | Epoch 2 | Loss: 0.35423675179481506 | Accuracy: 84.375%\n"
          ]
        },
        {
          "output_type": "stream",
          "name": "stderr",
          "text": [
            "Epoch 2:  87%|████████▋ | 651/751 [00:19<00:03, 27.27batch/s, accuracy=79.6875%, loss=0.45]"
          ]
        },
        {
          "output_type": "stream",
          "name": "stdout",
          "text": [
            "GB | Epoch 2 | Loss: 0.6468051075935364 | Accuracy: 78.125%\n",
            "GB | Epoch 2 | Loss: 0.5381008386611938 | Accuracy: 84.375%\n",
            "GB | Epoch 2 | Loss: 0.30569738149642944 | Accuracy: 87.5%\n",
            "GB | Epoch 2 | Loss: 0.42836087942123413 | Accuracy: 81.25%\n",
            "GB | Epoch 2 | Loss: 0.3056482672691345 | Accuracy: 90.625%\n",
            "GB | Epoch 2 | Loss: 0.4498509168624878 | Accuracy: 79.6875%\n"
          ]
        },
        {
          "output_type": "stream",
          "name": "stderr",
          "text": [
            "Epoch 2:  88%|████████▊ | 660/751 [00:19<00:02, 34.00batch/s, accuracy=85.9375%, loss=0.331]"
          ]
        },
        {
          "output_type": "stream",
          "name": "stdout",
          "text": [
            "GB | Epoch 2 | Loss: 0.46577197313308716 | Accuracy: 81.25%\n",
            "GB | Epoch 2 | Loss: 0.3857470750808716 | Accuracy: 85.9375%\n",
            "GB | Epoch 2 | Loss: 0.3421917259693146 | Accuracy: 89.0625%\n",
            "GB | Epoch 2 | Loss: 0.3876315653324127 | Accuracy: 87.5%\n",
            "GB | Epoch 2 | Loss: 0.45408177375793457 | Accuracy: 89.0625%\n",
            "GB | Epoch 2 | Loss: 0.4930259585380554 | Accuracy: 84.375%\n",
            "GB | Epoch 2 | Loss: 0.3223777115345001 | Accuracy: 84.375%\n",
            "GB | Epoch 2 | Loss: 0.4222254157066345 | Accuracy: 87.5%\n",
            "GB | Epoch 2 | Loss: 0.33053702116012573 | Accuracy: 85.9375%\n"
          ]
        },
        {
          "output_type": "stream",
          "name": "stderr",
          "text": [
            "Epoch 2:  88%|████████▊ | 660/751 [00:19<00:02, 34.00batch/s, accuracy=90.625%, loss=0.388]"
          ]
        },
        {
          "output_type": "stream",
          "name": "stdout",
          "text": [
            "GB | Epoch 2 | Loss: 0.35252073407173157 | Accuracy: 89.0625%\n",
            "GB | Epoch 2 | Loss: 0.4553200900554657 | Accuracy: 84.375%\n",
            "GB | Epoch 2 | Loss: 0.38774093985557556 | Accuracy: 90.625%\n"
          ]
        },
        {
          "output_type": "stream",
          "name": "stderr",
          "text": [
            "Epoch 2:  88%|████████▊ | 664/751 [00:20<00:03, 22.33batch/s, accuracy=85.9375%, loss=0.421]"
          ]
        },
        {
          "output_type": "stream",
          "name": "stdout",
          "text": [
            "GB | Epoch 2 | Loss: 0.4434596002101898 | Accuracy: 82.8125%\n",
            "GB | Epoch 2 | Loss: 0.3192005157470703 | Accuracy: 85.9375%\n"
          ]
        },
        {
          "output_type": "stream",
          "name": "stderr",
          "text": [
            "Epoch 2:  89%|████████▉ | 667/751 [00:20<00:04, 18.33batch/s, accuracy=92.1875%, loss=0.21]"
          ]
        },
        {
          "output_type": "stream",
          "name": "stdout",
          "text": [
            "GB | Epoch 2 | Loss: 0.4214746057987213 | Accuracy: 85.9375%\n",
            "GB | Epoch 2 | Loss: 0.28188467025756836 | Accuracy: 93.75%\n",
            "GB | Epoch 2 | Loss: 0.3770011365413666 | Accuracy: 84.375%\n",
            "GB | Epoch 2 | Loss: 0.21031320095062256 | Accuracy: 92.1875%\n"
          ]
        },
        {
          "output_type": "stream",
          "name": "stderr",
          "text": [
            "Epoch 2:  90%|████████▉ | 673/751 [00:20<00:04, 19.16batch/s, accuracy=84.375%, loss=0.442] "
          ]
        },
        {
          "output_type": "stream",
          "name": "stdout",
          "text": [
            "GB | Epoch 2 | Loss: 0.44256624579429626 | Accuracy: 84.375%\n",
            "GB | Epoch 2 | Loss: 0.3941514790058136 | Accuracy: 85.9375%\n",
            "GB | Epoch 2 | Loss: 0.3428952395915985 | Accuracy: 90.625%\n",
            "GB | Epoch 2 | Loss: 0.362239271402359 | Accuracy: 89.0625%\n",
            "GB | Epoch 2 | Loss: 0.2451082319021225 | Accuracy: 90.625%\n",
            "GB | Epoch 2 | Loss: 0.47178083658218384 | Accuracy: 82.8125%\n",
            "GB | Epoch 2 | Loss: 0.44201192259788513 | Accuracy: 84.375%\n"
          ]
        },
        {
          "output_type": "stream",
          "name": "stderr",
          "text": [
            "Epoch 2:  91%|█████████ | 682/751 [00:20<00:02, 27.76batch/s, accuracy=89.0625%, loss=0.307]"
          ]
        },
        {
          "output_type": "stream",
          "name": "stdout",
          "text": [
            "GB | Epoch 2 | Loss: 0.27319201827049255 | Accuracy: 87.5%\n",
            "GB | Epoch 2 | Loss: 0.3397737443447113 | Accuracy: 92.1875%\n",
            "GB | Epoch 2 | Loss: 0.5439111590385437 | Accuracy: 84.375%\n",
            "GB | Epoch 2 | Loss: 0.36244359612464905 | Accuracy: 89.0625%\n",
            "GB | Epoch 2 | Loss: 0.417281836271286 | Accuracy: 90.625%\n",
            "GB | Epoch 2 | Loss: 0.45425426959991455 | Accuracy: 82.8125%\n",
            "GB | Epoch 2 | Loss: 0.3534894287586212 | Accuracy: 87.5%\n",
            "GB | Epoch 2 | Loss: 0.30672815442085266 | Accuracy: 89.0625%\n"
          ]
        },
        {
          "output_type": "stream",
          "name": "stderr",
          "text": [
            "Epoch 2:  91%|█████████▏| 686/751 [00:21<00:02, 26.45batch/s, accuracy=87.5%, loss=0.343]"
          ]
        },
        {
          "output_type": "stream",
          "name": "stdout",
          "text": [
            "GB | Epoch 2 | Loss: 0.46315696835517883 | Accuracy: 87.5%\n",
            "GB | Epoch 2 | Loss: 0.32564622163772583 | Accuracy: 87.5%\n",
            "GB | Epoch 2 | Loss: 0.4188176691532135 | Accuracy: 87.5%\n"
          ]
        },
        {
          "output_type": "stream",
          "name": "stderr",
          "text": [
            "Epoch 2:  92%|█████████▏| 689/751 [00:21<00:02, 21.52batch/s, accuracy=89.0625%, loss=0.478]"
          ]
        },
        {
          "output_type": "stream",
          "name": "stdout",
          "text": [
            "GB | Epoch 2 | Loss: 0.3428570628166199 | Accuracy: 87.5%\n",
            "GB | Epoch 2 | Loss: 0.3581788241863251 | Accuracy: 81.25%\n",
            "GB | Epoch 2 | Loss: 0.47762662172317505 | Accuracy: 89.0625%\n"
          ]
        },
        {
          "output_type": "stream",
          "name": "stderr",
          "text": [
            "Epoch 2:  92%|█████████▏| 692/751 [00:21<00:03, 17.27batch/s, accuracy=87.5%, loss=0.335] "
          ]
        },
        {
          "output_type": "stream",
          "name": "stdout",
          "text": [
            "GB | Epoch 2 | Loss: 0.4298465847969055 | Accuracy: 85.9375%\n",
            "GB | Epoch 2 | Loss: 0.37702676653862 | Accuracy: 81.25%\n",
            "GB | Epoch 2 | Loss: 0.3351244032382965 | Accuracy: 87.5%\n"
          ]
        },
        {
          "output_type": "stream",
          "name": "stderr",
          "text": [
            "Epoch 2:  93%|█████████▎| 695/751 [00:21<00:03, 17.69batch/s, accuracy=89.0625%, loss=0.337]"
          ]
        },
        {
          "output_type": "stream",
          "name": "stdout",
          "text": [
            "GB | Epoch 2 | Loss: 0.4188423752784729 | Accuracy: 85.9375%\n",
            "GB | Epoch 2 | Loss: 0.2691177725791931 | Accuracy: 90.625%\n",
            "GB | Epoch 2 | Loss: 0.44173359870910645 | Accuracy: 84.375%\n",
            "GB | Epoch 2 | Loss: 0.3371202051639557 | Accuracy: 89.0625%\n"
          ]
        },
        {
          "output_type": "stream",
          "name": "stderr",
          "text": [
            "Epoch 2:  94%|█████████▎| 703/751 [00:21<00:02, 23.18batch/s, accuracy=90.625%, loss=0.297]"
          ]
        },
        {
          "output_type": "stream",
          "name": "stdout",
          "text": [
            "GB | Epoch 2 | Loss: 0.3910312056541443 | Accuracy: 89.0625%\n",
            "GB | Epoch 2 | Loss: 0.4246510863304138 | Accuracy: 87.5%\n",
            "GB | Epoch 2 | Loss: 0.22115610539913177 | Accuracy: 95.3125%\n",
            "GB | Epoch 2 | Loss: 0.4452729821205139 | Accuracy: 79.6875%\n",
            "GB | Epoch 2 | Loss: 0.310838520526886 | Accuracy: 87.5%\n",
            "GB | Epoch 2 | Loss: 0.5268044471740723 | Accuracy: 76.5625%\n",
            "GB | Epoch 2 | Loss: 0.45516037940979004 | Accuracy: 82.8125%\n",
            "GB | Epoch 2 | Loss: 0.32981544733047485 | Accuracy: 87.5%\n",
            "GB | Epoch 2 | Loss: 0.29711592197418213 | Accuracy: 90.625%\n"
          ]
        },
        {
          "output_type": "stream",
          "name": "stderr",
          "text": [
            "Epoch 2:  95%|█████████▍| 711/751 [00:22<00:01, 29.45batch/s, accuracy=79.6875%, loss=0.535]"
          ]
        },
        {
          "output_type": "stream",
          "name": "stdout",
          "text": [
            "GB | Epoch 2 | Loss: 0.3540906310081482 | Accuracy: 89.0625%\n",
            "GB | Epoch 2 | Loss: 0.4238716661930084 | Accuracy: 87.5%\n",
            "GB | Epoch 2 | Loss: 0.28725922107696533 | Accuracy: 93.75%\n",
            "GB | Epoch 2 | Loss: 0.3354116678237915 | Accuracy: 89.0625%\n",
            "GB | Epoch 2 | Loss: 0.3408043086528778 | Accuracy: 85.9375%\n",
            "GB | Epoch 2 | Loss: 0.3479487895965576 | Accuracy: 89.0625%\n",
            "GB | Epoch 2 | Loss: 0.3853825032711029 | Accuracy: 87.5%\n",
            "GB | Epoch 2 | Loss: 0.5353947281837463 | Accuracy: 79.6875%\n"
          ]
        },
        {
          "output_type": "stream",
          "name": "stderr",
          "text": [
            "Epoch 2:  95%|█████████▌| 715/751 [00:22<00:01, 28.46batch/s, accuracy=90.625%, loss=0.353]"
          ]
        },
        {
          "output_type": "stream",
          "name": "stdout",
          "text": [
            "GB | Epoch 2 | Loss: 0.45498770475387573 | Accuracy: 84.375%\n",
            "GB | Epoch 2 | Loss: 0.35287100076675415 | Accuracy: 90.625%\n"
          ]
        },
        {
          "output_type": "stream",
          "name": "stderr",
          "text": [
            "Epoch 2:  96%|█████████▌| 719/751 [00:22<00:01, 19.08batch/s, accuracy=87.5%, loss=0.435]   "
          ]
        },
        {
          "output_type": "stream",
          "name": "stdout",
          "text": [
            "GB | Epoch 2 | Loss: 0.41887757182121277 | Accuracy: 85.9375%\n",
            "GB | Epoch 2 | Loss: 0.21142524480819702 | Accuracy: 96.875%\n",
            "GB | Epoch 2 | Loss: 0.5224440693855286 | Accuracy: 79.6875%\n",
            "GB | Epoch 2 | Loss: 0.4347350001335144 | Accuracy: 87.5%\n"
          ]
        },
        {
          "output_type": "stream",
          "name": "stderr",
          "text": [
            "Epoch 2:  96%|█████████▌| 722/751 [00:22<00:01, 17.78batch/s, accuracy=87.5%, loss=0.338]   "
          ]
        },
        {
          "output_type": "stream",
          "name": "stdout",
          "text": [
            "GB | Epoch 2 | Loss: 0.4026109576225281 | Accuracy: 87.5%\n",
            "GB | Epoch 2 | Loss: 0.333915650844574 | Accuracy: 89.0625%\n",
            "GB | Epoch 2 | Loss: 0.4569817781448364 | Accuracy: 82.8125%\n",
            "GB | Epoch 2 | Loss: 0.33830270171165466 | Accuracy: 87.5%\n"
          ]
        },
        {
          "output_type": "stream",
          "name": "stderr",
          "text": [
            "Epoch 2:  97%|█████████▋| 729/751 [00:23<00:00, 22.01batch/s, accuracy=85.9375%, loss=0.466]"
          ]
        },
        {
          "output_type": "stream",
          "name": "stdout",
          "text": [
            "GB | Epoch 2 | Loss: 0.4296165704727173 | Accuracy: 85.9375%\n",
            "GB | Epoch 2 | Loss: 0.2860659658908844 | Accuracy: 93.75%\n",
            "GB | Epoch 2 | Loss: 0.3515779972076416 | Accuracy: 92.1875%\n",
            "GB | Epoch 2 | Loss: 0.2850537598133087 | Accuracy: 92.1875%\n",
            "GB | Epoch 2 | Loss: 0.23143836855888367 | Accuracy: 89.0625%\n",
            "GB | Epoch 2 | Loss: 0.4165897071361542 | Accuracy: 90.625%\n",
            "GB | Epoch 2 | Loss: 0.4490540027618408 | Accuracy: 87.5%\n",
            "GB | Epoch 2 | Loss: 0.4664422571659088 | Accuracy: 85.9375%\n"
          ]
        },
        {
          "output_type": "stream",
          "name": "stderr",
          "text": [
            "Epoch 2:  98%|█████████▊| 738/751 [00:23<00:00, 29.30batch/s, accuracy=92.1875%, loss=0.309]"
          ]
        },
        {
          "output_type": "stream",
          "name": "stdout",
          "text": [
            "GB | Epoch 2 | Loss: 0.3736521601676941 | Accuracy: 93.75%\n",
            "GB | Epoch 2 | Loss: 0.5332015752792358 | Accuracy: 81.25%\n",
            "GB | Epoch 2 | Loss: 0.46447309851646423 | Accuracy: 84.375%\n",
            "GB | Epoch 2 | Loss: 0.31653910875320435 | Accuracy: 92.1875%\n",
            "GB | Epoch 2 | Loss: 0.278844952583313 | Accuracy: 90.625%\n",
            "GB | Epoch 2 | Loss: 0.37354251742362976 | Accuracy: 85.9375%\n",
            "GB | Epoch 2 | Loss: 0.3673788011074066 | Accuracy: 87.5%\n",
            "GB | Epoch 2 | Loss: 0.30860090255737305 | Accuracy: 92.1875%\n"
          ]
        },
        {
          "output_type": "stream",
          "name": "stderr",
          "text": [
            "Epoch 2:  99%|█████████▉| 746/751 [00:23<00:00, 31.74batch/s, accuracy=84.375%, loss=0.582] "
          ]
        },
        {
          "output_type": "stream",
          "name": "stdout",
          "text": [
            "GB | Epoch 2 | Loss: 0.37481027841567993 | Accuracy: 84.375%\n",
            "GB | Epoch 2 | Loss: 0.42055729031562805 | Accuracy: 87.5%\n",
            "GB | Epoch 2 | Loss: 0.5251114368438721 | Accuracy: 79.6875%\n",
            "GB | Epoch 2 | Loss: 0.33611607551574707 | Accuracy: 90.625%\n",
            "GB | Epoch 2 | Loss: 0.4315919876098633 | Accuracy: 90.625%\n",
            "GB | Epoch 2 | Loss: 0.38388383388519287 | Accuracy: 89.0625%\n",
            "GB | Epoch 2 | Loss: 0.2971312999725342 | Accuracy: 89.0625%\n",
            "GB | Epoch 2 | Loss: 0.582028865814209 | Accuracy: 84.375%\n"
          ]
        },
        {
          "output_type": "stream",
          "name": "stderr",
          "text": [
            "Epoch 2: 100%|██████████| 751/751 [00:23<00:00, 31.62batch/s, accuracy=100.0%, loss=0.235]\n"
          ]
        },
        {
          "output_type": "stream",
          "name": "stdout",
          "text": [
            "GB | Epoch 2 | Loss: 0.25305497646331787 | Accuracy: 92.1875%\n",
            "GB | Epoch 2 | Loss: 0.4131442606449127 | Accuracy: 87.5%\n",
            "GB | Epoch 2 | Loss: 0.23510494828224182 | Accuracy: 100.0%\n"
          ]
        },
        {
          "output_type": "stream",
          "name": "stderr",
          "text": [
            "Epoch 3:   1%|          | 5/751 [00:00<00:48, 15.38batch/s, accuracy=89.0625%, loss=0.453]"
          ]
        },
        {
          "output_type": "stream",
          "name": "stdout",
          "text": [
            "GB | Epoch 3 | Loss: 0.39360490441322327 | Accuracy: 85.9375%\n",
            "GB | Epoch 3 | Loss: 0.386496365070343 | Accuracy: 84.375%\n",
            "GB | Epoch 3 | Loss: 0.36797797679901123 | Accuracy: 85.9375%\n",
            "GB | Epoch 3 | Loss: 0.35196807980537415 | Accuracy: 84.375%\n",
            "GB | Epoch 3 | Loss: 0.6758618354797363 | Accuracy: 79.6875%\n",
            "GB | Epoch 3 | Loss: 0.4302670359611511 | Accuracy: 89.0625%\n",
            "GB | Epoch 3 | Loss: 0.5344412922859192 | Accuracy: 81.25%\n",
            "GB | Epoch 3 | Loss: 0.4527924656867981 | Accuracy: 89.0625%\n"
          ]
        },
        {
          "output_type": "stream",
          "name": "stderr",
          "text": [
            "Epoch 3:   2%|▏         | 13/751 [00:00<00:28, 25.47batch/s, accuracy=89.0625%, loss=0.301]"
          ]
        },
        {
          "output_type": "stream",
          "name": "stdout",
          "text": [
            "GB | Epoch 3 | Loss: 0.23939931392669678 | Accuracy: 90.625%\n",
            "GB | Epoch 3 | Loss: 0.39808541536331177 | Accuracy: 84.375%\n",
            "GB | Epoch 3 | Loss: 0.37183183431625366 | Accuracy: 89.0625%\n",
            "GB | Epoch 3 | Loss: 0.4683351218700409 | Accuracy: 92.1875%\n",
            "GB | Epoch 3 | Loss: 0.2761079668998718 | Accuracy: 89.0625%\n",
            "GB | Epoch 3 | Loss: 0.7286468744277954 | Accuracy: 82.8125%\n",
            "GB | Epoch 3 | Loss: 0.301470547914505 | Accuracy: 89.0625%\n"
          ]
        },
        {
          "output_type": "stream",
          "name": "stderr",
          "text": [
            "Epoch 3:   3%|▎         | 21/751 [00:00<00:24, 30.20batch/s, accuracy=90.625%, loss=0.331] "
          ]
        },
        {
          "output_type": "stream",
          "name": "stdout",
          "text": [
            "GB | Epoch 3 | Loss: 0.30468806624412537 | Accuracy: 92.1875%\n",
            "GB | Epoch 3 | Loss: 0.38013026118278503 | Accuracy: 85.9375%\n",
            "GB | Epoch 3 | Loss: 0.27310094237327576 | Accuracy: 92.1875%\n",
            "GB | Epoch 3 | Loss: 0.41267120838165283 | Accuracy: 84.375%\n",
            "GB | Epoch 3 | Loss: 0.5529197454452515 | Accuracy: 81.25%\n",
            "GB | Epoch 3 | Loss: 0.24941278994083405 | Accuracy: 92.1875%\n",
            "GB | Epoch 3 | Loss: 0.3738376200199127 | Accuracy: 89.0625%\n",
            "GB | Epoch 3 | Loss: 0.33097025752067566 | Accuracy: 90.625%\n"
          ]
        },
        {
          "output_type": "stream",
          "name": "stderr",
          "text": [
            "Epoch 3:   4%|▍         | 29/751 [00:01<00:21, 33.49batch/s, accuracy=89.0625%, loss=0.361]"
          ]
        },
        {
          "output_type": "stream",
          "name": "stdout",
          "text": [
            "GB | Epoch 3 | Loss: 0.48199376463890076 | Accuracy: 85.9375%\n",
            "GB | Epoch 3 | Loss: 0.385385125875473 | Accuracy: 85.9375%\n",
            "GB | Epoch 3 | Loss: 0.4627283215522766 | Accuracy: 87.5%\n",
            "GB | Epoch 3 | Loss: 0.3346197307109833 | Accuracy: 87.5%\n",
            "GB | Epoch 3 | Loss: 0.34502267837524414 | Accuracy: 87.5%\n",
            "GB | Epoch 3 | Loss: 0.49873849749565125 | Accuracy: 82.8125%\n",
            "GB | Epoch 3 | Loss: 0.40724876523017883 | Accuracy: 79.6875%\n",
            "GB | Epoch 3 | Loss: 0.3612914979457855 | Accuracy: 89.0625%\n"
          ]
        },
        {
          "output_type": "stream",
          "name": "stderr",
          "text": [
            "Epoch 3:   5%|▍         | 37/751 [00:01<00:20, 35.28batch/s, accuracy=79.6875%, loss=0.375]"
          ]
        },
        {
          "output_type": "stream",
          "name": "stdout",
          "text": [
            "GB | Epoch 3 | Loss: 0.5933989882469177 | Accuracy: 81.25%\n",
            "GB | Epoch 3 | Loss: 0.5725675821304321 | Accuracy: 84.375%\n",
            "GB | Epoch 3 | Loss: 0.4157119691371918 | Accuracy: 81.25%\n",
            "GB | Epoch 3 | Loss: 0.3900459110736847 | Accuracy: 87.5%\n",
            "GB | Epoch 3 | Loss: 0.23331552743911743 | Accuracy: 92.1875%\n",
            "GB | Epoch 3 | Loss: 0.18689009547233582 | Accuracy: 95.3125%\n",
            "GB | Epoch 3 | Loss: 0.3725702166557312 | Accuracy: 84.375%\n",
            "GB | Epoch 3 | Loss: 0.3748859763145447 | Accuracy: 79.6875%\n"
          ]
        },
        {
          "output_type": "stream",
          "name": "stderr",
          "text": [
            "Epoch 3:   6%|▌         | 45/751 [00:01<00:19, 35.67batch/s, accuracy=92.1875%, loss=0.3]"
          ]
        },
        {
          "output_type": "stream",
          "name": "stdout",
          "text": [
            "GB | Epoch 3 | Loss: 0.3906553089618683 | Accuracy: 87.5%\n",
            "GB | Epoch 3 | Loss: 0.3964180052280426 | Accuracy: 89.0625%\n",
            "GB | Epoch 3 | Loss: 0.39788568019866943 | Accuracy: 84.375%\n",
            "GB | Epoch 3 | Loss: 0.570324718952179 | Accuracy: 76.5625%\n",
            "GB | Epoch 3 | Loss: 0.22712045907974243 | Accuracy: 89.0625%\n",
            "GB | Epoch 3 | Loss: 0.3894197642803192 | Accuracy: 84.375%\n",
            "GB | Epoch 3 | Loss: 0.3945804536342621 | Accuracy: 81.25%\n",
            "GB | Epoch 3 | Loss: 0.3001355230808258 | Accuracy: 92.1875%\n"
          ]
        },
        {
          "output_type": "stream",
          "name": "stderr",
          "text": [
            "Epoch 3:   7%|▋         | 53/751 [00:01<00:20, 34.46batch/s, accuracy=81.25%, loss=0.549]  "
          ]
        },
        {
          "output_type": "stream",
          "name": "stdout",
          "text": [
            "GB | Epoch 3 | Loss: 0.2672572731971741 | Accuracy: 90.625%\n",
            "GB | Epoch 3 | Loss: 0.5259996652603149 | Accuracy: 81.25%\n",
            "GB | Epoch 3 | Loss: 0.4614163041114807 | Accuracy: 84.375%\n",
            "GB | Epoch 3 | Loss: 0.44957131147384644 | Accuracy: 78.125%\n",
            "GB | Epoch 3 | Loss: 0.533319354057312 | Accuracy: 78.125%\n",
            "GB | Epoch 3 | Loss: 0.4787747263908386 | Accuracy: 85.9375%\n",
            "GB | Epoch 3 | Loss: 0.4152778089046478 | Accuracy: 85.9375%\n",
            "GB | Epoch 3 | Loss: 0.5486602783203125 | Accuracy: 81.25%\n"
          ]
        },
        {
          "output_type": "stream",
          "name": "stderr",
          "text": [
            "Epoch 3:   8%|▊         | 63/751 [00:02<00:18, 37.36batch/s, accuracy=89.0625%, loss=0.279]"
          ]
        },
        {
          "output_type": "stream",
          "name": "stdout",
          "text": [
            "GB | Epoch 3 | Loss: 0.38014617562294006 | Accuracy: 84.375%\n",
            "GB | Epoch 3 | Loss: 0.4354619085788727 | Accuracy: 87.5%\n",
            "GB | Epoch 3 | Loss: 0.36724159121513367 | Accuracy: 87.5%\n",
            "GB | Epoch 3 | Loss: 0.42950254678726196 | Accuracy: 87.5%\n",
            "GB | Epoch 3 | Loss: 0.485018789768219 | Accuracy: 82.8125%\n",
            "GB | Epoch 3 | Loss: 0.5001094937324524 | Accuracy: 82.8125%\n",
            "GB | Epoch 3 | Loss: 0.428880512714386 | Accuracy: 85.9375%\n",
            "GB | Epoch 3 | Loss: 0.27792438864707947 | Accuracy: 90.625%\n",
            "GB | Epoch 3 | Loss: 0.27854788303375244 | Accuracy: 89.0625%\n"
          ]
        },
        {
          "output_type": "stream",
          "name": "stderr",
          "text": [
            "Epoch 3:   9%|▉         | 71/751 [00:02<00:17, 37.89batch/s, accuracy=81.25%, loss=0.459]  "
          ]
        },
        {
          "output_type": "stream",
          "name": "stdout",
          "text": [
            "GB | Epoch 3 | Loss: 0.5274198055267334 | Accuracy: 79.6875%\n",
            "GB | Epoch 3 | Loss: 0.5841103792190552 | Accuracy: 73.4375%\n",
            "GB | Epoch 3 | Loss: 0.3715457320213318 | Accuracy: 93.75%\n",
            "GB | Epoch 3 | Loss: 0.22225366532802582 | Accuracy: 92.1875%\n",
            "GB | Epoch 3 | Loss: 0.5039499402046204 | Accuracy: 87.5%\n",
            "GB | Epoch 3 | Loss: 0.3028682470321655 | Accuracy: 89.0625%\n",
            "GB | Epoch 3 | Loss: 0.2547686994075775 | Accuracy: 92.1875%\n",
            "GB | Epoch 3 | Loss: 0.45890170335769653 | Accuracy: 81.25%\n"
          ]
        },
        {
          "output_type": "stream",
          "name": "stderr",
          "text": [
            "Epoch 3:  11%|█         | 80/751 [00:02<00:17, 38.27batch/s, accuracy=93.75%, loss=0.195]"
          ]
        },
        {
          "output_type": "stream",
          "name": "stdout",
          "text": [
            "GB | Epoch 3 | Loss: 0.3494296073913574 | Accuracy: 89.0625%\n",
            "GB | Epoch 3 | Loss: 0.4635089337825775 | Accuracy: 84.375%\n",
            "GB | Epoch 3 | Loss: 0.33767953515052795 | Accuracy: 90.625%\n",
            "GB | Epoch 3 | Loss: 0.31980425119400024 | Accuracy: 92.1875%\n",
            "GB | Epoch 3 | Loss: 0.44166886806488037 | Accuracy: 87.5%\n",
            "GB | Epoch 3 | Loss: 0.3119291365146637 | Accuracy: 90.625%\n",
            "GB | Epoch 3 | Loss: 0.327447772026062 | Accuracy: 89.0625%\n",
            "GB | Epoch 3 | Loss: 0.19526131451129913 | Accuracy: 93.75%\n"
          ]
        },
        {
          "output_type": "stream",
          "name": "stderr",
          "text": [
            "Epoch 3:  12%|█▏        | 88/751 [00:02<00:17, 36.91batch/s, accuracy=85.9375%, loss=0.471]"
          ]
        },
        {
          "output_type": "stream",
          "name": "stdout",
          "text": [
            "GB | Epoch 3 | Loss: 0.5154644250869751 | Accuracy: 89.0625%\n",
            "GB | Epoch 3 | Loss: 0.5153793692588806 | Accuracy: 81.25%\n",
            "GB | Epoch 3 | Loss: 0.3791491687297821 | Accuracy: 90.625%\n",
            "GB | Epoch 3 | Loss: 0.43973132967948914 | Accuracy: 84.375%\n",
            "GB | Epoch 3 | Loss: 0.4059409499168396 | Accuracy: 84.375%\n",
            "GB | Epoch 3 | Loss: 0.4127308428287506 | Accuracy: 79.6875%\n",
            "GB | Epoch 3 | Loss: 0.33644628524780273 | Accuracy: 89.0625%\n",
            "GB | Epoch 3 | Loss: 0.47149360179901123 | Accuracy: 85.9375%\n"
          ]
        },
        {
          "output_type": "stream",
          "name": "stderr",
          "text": [
            "Epoch 3:  13%|█▎        | 96/751 [00:02<00:17, 37.12batch/s, accuracy=87.5%, loss=0.409]"
          ]
        },
        {
          "output_type": "stream",
          "name": "stdout",
          "text": [
            "GB | Epoch 3 | Loss: 0.3992655575275421 | Accuracy: 85.9375%\n",
            "GB | Epoch 3 | Loss: 0.4037397503852844 | Accuracy: 87.5%\n",
            "GB | Epoch 3 | Loss: 0.3727633059024811 | Accuracy: 85.9375%\n",
            "GB | Epoch 3 | Loss: 0.440030038356781 | Accuracy: 87.5%\n",
            "GB | Epoch 3 | Loss: 0.23572009801864624 | Accuracy: 92.1875%\n",
            "GB | Epoch 3 | Loss: 0.44807928800582886 | Accuracy: 84.375%\n",
            "GB | Epoch 3 | Loss: 0.31648504734039307 | Accuracy: 87.5%\n",
            "GB | Epoch 3 | Loss: 0.4086667001247406 | Accuracy: 87.5%\n"
          ]
        },
        {
          "output_type": "stream",
          "name": "stderr",
          "text": [
            "Epoch 3:  14%|█▍        | 104/751 [00:03<00:17, 38.02batch/s, accuracy=81.25%, loss=0.548]"
          ]
        },
        {
          "output_type": "stream",
          "name": "stdout",
          "text": [
            "GB | Epoch 3 | Loss: 0.4065357446670532 | Accuracy: 85.9375%\n",
            "GB | Epoch 3 | Loss: 0.3293863832950592 | Accuracy: 92.1875%\n",
            "GB | Epoch 3 | Loss: 0.29170212149620056 | Accuracy: 87.5%\n",
            "GB | Epoch 3 | Loss: 0.2798815369606018 | Accuracy: 89.0625%\n",
            "GB | Epoch 3 | Loss: 0.26693129539489746 | Accuracy: 90.625%\n",
            "GB | Epoch 3 | Loss: 0.3932933211326599 | Accuracy: 85.9375%\n",
            "GB | Epoch 3 | Loss: 0.28606554865837097 | Accuracy: 90.625%\n",
            "GB | Epoch 3 | Loss: 0.5480049252510071 | Accuracy: 81.25%\n"
          ]
        },
        {
          "output_type": "stream",
          "name": "stderr",
          "text": [
            "Epoch 3:  15%|█▍        | 112/751 [00:03<00:17, 37.47batch/s, accuracy=93.75%, loss=0.262]"
          ]
        },
        {
          "output_type": "stream",
          "name": "stdout",
          "text": [
            "GB | Epoch 3 | Loss: 0.20964466035366058 | Accuracy: 92.1875%\n",
            "GB | Epoch 3 | Loss: 0.28057390451431274 | Accuracy: 93.75%\n",
            "GB | Epoch 3 | Loss: 0.22277943789958954 | Accuracy: 96.875%\n",
            "GB | Epoch 3 | Loss: 0.4531949758529663 | Accuracy: 82.8125%\n",
            "GB | Epoch 3 | Loss: 0.3154240846633911 | Accuracy: 92.1875%\n",
            "GB | Epoch 3 | Loss: 0.38810139894485474 | Accuracy: 87.5%\n",
            "GB | Epoch 3 | Loss: 0.26224854588508606 | Accuracy: 93.75%\n",
            "GB | Epoch 3 | Loss: 0.26183319091796875 | Accuracy: 93.75%\n"
          ]
        },
        {
          "output_type": "stream",
          "name": "stderr",
          "text": [
            "Epoch 3:  16%|█▌        | 120/751 [00:03<00:17, 36.78batch/s, accuracy=89.0625%, loss=0.338]"
          ]
        },
        {
          "output_type": "stream",
          "name": "stdout",
          "text": [
            "GB | Epoch 3 | Loss: 0.20486102998256683 | Accuracy: 92.1875%\n",
            "GB | Epoch 3 | Loss: 0.29523956775665283 | Accuracy: 89.0625%\n",
            "GB | Epoch 3 | Loss: 0.3150714337825775 | Accuracy: 90.625%\n",
            "GB | Epoch 3 | Loss: 0.23627139627933502 | Accuracy: 95.3125%\n",
            "GB | Epoch 3 | Loss: 0.25937512516975403 | Accuracy: 89.0625%\n",
            "GB | Epoch 3 | Loss: 0.27880215644836426 | Accuracy: 89.0625%\n",
            "GB | Epoch 3 | Loss: 0.2835603654384613 | Accuracy: 89.0625%\n",
            "GB | Epoch 3 | Loss: 0.33816343545913696 | Accuracy: 89.0625%\n"
          ]
        },
        {
          "output_type": "stream",
          "name": "stderr",
          "text": [
            "Epoch 3:  17%|█▋        | 128/751 [00:03<00:17, 36.23batch/s, accuracy=93.75%, loss=0.321]"
          ]
        },
        {
          "output_type": "stream",
          "name": "stdout",
          "text": [
            "GB | Epoch 3 | Loss: 0.19443804025650024 | Accuracy: 93.75%\n",
            "GB | Epoch 3 | Loss: 0.2887878119945526 | Accuracy: 89.0625%\n",
            "GB | Epoch 3 | Loss: 0.20205166935920715 | Accuracy: 96.875%\n",
            "GB | Epoch 3 | Loss: 0.24256281554698944 | Accuracy: 96.875%\n",
            "GB | Epoch 3 | Loss: 0.5032631158828735 | Accuracy: 87.5%\n",
            "GB | Epoch 3 | Loss: 0.1775875985622406 | Accuracy: 95.3125%\n",
            "GB | Epoch 3 | Loss: 0.3851827383041382 | Accuracy: 85.9375%\n",
            "GB | Epoch 3 | Loss: 0.32069945335388184 | Accuracy: 93.75%\n"
          ]
        },
        {
          "output_type": "stream",
          "name": "stderr",
          "text": [
            "Epoch 3:  18%|█▊        | 136/751 [00:03<00:16, 36.50batch/s, accuracy=85.9375%, loss=0.284]"
          ]
        },
        {
          "output_type": "stream",
          "name": "stdout",
          "text": [
            "GB | Epoch 3 | Loss: 0.4405291974544525 | Accuracy: 89.0625%\n",
            "GB | Epoch 3 | Loss: 0.2845577597618103 | Accuracy: 90.625%\n",
            "GB | Epoch 3 | Loss: 0.41741806268692017 | Accuracy: 85.9375%\n",
            "GB | Epoch 3 | Loss: 0.40851524472236633 | Accuracy: 87.5%\n",
            "GB | Epoch 3 | Loss: 0.4240182042121887 | Accuracy: 87.5%\n",
            "GB | Epoch 3 | Loss: 0.44665512442588806 | Accuracy: 84.375%\n",
            "GB | Epoch 3 | Loss: 0.22001607716083527 | Accuracy: 92.1875%\n",
            "GB | Epoch 3 | Loss: 0.2839694917201996 | Accuracy: 85.9375%\n"
          ]
        },
        {
          "output_type": "stream",
          "name": "stderr",
          "text": [
            "Epoch 3:  19%|█▉        | 144/751 [00:04<00:16, 35.90batch/s, accuracy=89.0625%, loss=0.3]"
          ]
        },
        {
          "output_type": "stream",
          "name": "stdout",
          "text": [
            "GB | Epoch 3 | Loss: 0.38468149304389954 | Accuracy: 87.5%\n",
            "GB | Epoch 3 | Loss: 0.35379287600517273 | Accuracy: 90.625%\n",
            "GB | Epoch 3 | Loss: 0.37782636284828186 | Accuracy: 85.9375%\n",
            "GB | Epoch 3 | Loss: 0.4541780948638916 | Accuracy: 85.9375%\n",
            "GB | Epoch 3 | Loss: 0.3760051429271698 | Accuracy: 90.625%\n",
            "GB | Epoch 3 | Loss: 0.39941346645355225 | Accuracy: 84.375%\n",
            "GB | Epoch 3 | Loss: 0.3371877670288086 | Accuracy: 89.0625%\n",
            "GB | Epoch 3 | Loss: 0.30049702525138855 | Accuracy: 89.0625%\n"
          ]
        },
        {
          "output_type": "stream",
          "name": "stderr",
          "text": [
            "Epoch 3:  20%|██        | 152/751 [00:04<00:16, 36.85batch/s, accuracy=85.9375%, loss=0.358]"
          ]
        },
        {
          "output_type": "stream",
          "name": "stdout",
          "text": [
            "GB | Epoch 3 | Loss: 0.46599096059799194 | Accuracy: 84.375%\n",
            "GB | Epoch 3 | Loss: 0.2711930274963379 | Accuracy: 90.625%\n",
            "GB | Epoch 3 | Loss: 0.36110538244247437 | Accuracy: 87.5%\n",
            "GB | Epoch 3 | Loss: 0.45164409279823303 | Accuracy: 84.375%\n",
            "GB | Epoch 3 | Loss: 0.4061500132083893 | Accuracy: 90.625%\n",
            "GB | Epoch 3 | Loss: 0.3755946755409241 | Accuracy: 87.5%\n",
            "GB | Epoch 3 | Loss: 0.385323703289032 | Accuracy: 87.5%\n",
            "GB | Epoch 3 | Loss: 0.35788223147392273 | Accuracy: 85.9375%\n"
          ]
        },
        {
          "output_type": "stream",
          "name": "stderr",
          "text": [
            "Epoch 3:  21%|██        | 156/751 [00:04<00:16, 35.47batch/s, accuracy=85.9375%, loss=0.401]"
          ]
        },
        {
          "output_type": "stream",
          "name": "stdout",
          "text": [
            "GB | Epoch 3 | Loss: 0.28870561718940735 | Accuracy: 92.1875%\n",
            "GB | Epoch 3 | Loss: 0.538329541683197 | Accuracy: 81.25%\n",
            "GB | Epoch 3 | Loss: 0.34870779514312744 | Accuracy: 89.0625%\n",
            "GB | Epoch 3 | Loss: 0.39986494183540344 | Accuracy: 85.9375%\n",
            "GB | Epoch 3 | Loss: 0.3213493227958679 | Accuracy: 89.0625%\n",
            "GB | Epoch 3 | Loss: 0.35034918785095215 | Accuracy: 89.0625%\n",
            "GB | Epoch 3 | Loss: 0.40085339546203613 | Accuracy: 85.9375%\n"
          ]
        },
        {
          "output_type": "stream",
          "name": "stderr",
          "text": [
            "Epoch 3:  22%|██▏       | 164/751 [00:04<00:16, 34.76batch/s, accuracy=87.5%, loss=0.434] "
          ]
        },
        {
          "output_type": "stream",
          "name": "stdout",
          "text": [
            "GB | Epoch 3 | Loss: 0.2576827108860016 | Accuracy: 92.1875%\n",
            "GB | Epoch 3 | Loss: 0.3608429729938507 | Accuracy: 85.9375%\n",
            "GB | Epoch 3 | Loss: 0.3088604211807251 | Accuracy: 90.625%\n",
            "GB | Epoch 3 | Loss: 0.32965660095214844 | Accuracy: 89.0625%\n",
            "GB | Epoch 3 | Loss: 0.3803202211856842 | Accuracy: 87.5%\n",
            "GB | Epoch 3 | Loss: 0.4524443745613098 | Accuracy: 81.25%\n",
            "GB | Epoch 3 | Loss: 0.26558226346969604 | Accuracy: 93.75%\n",
            "GB | Epoch 3 | Loss: 0.4337940514087677 | Accuracy: 87.5%\n"
          ]
        },
        {
          "output_type": "stream",
          "name": "stderr",
          "text": [
            "Epoch 3:  23%|██▎       | 172/751 [00:05<00:16, 35.28batch/s, accuracy=84.375%, loss=0.441]"
          ]
        },
        {
          "output_type": "stream",
          "name": "stdout",
          "text": [
            "GB | Epoch 3 | Loss: 0.24722515046596527 | Accuracy: 90.625%\n",
            "GB | Epoch 3 | Loss: 0.408725380897522 | Accuracy: 82.8125%\n",
            "GB | Epoch 3 | Loss: 0.3250405788421631 | Accuracy: 85.9375%\n",
            "GB | Epoch 3 | Loss: 0.3532733917236328 | Accuracy: 89.0625%\n",
            "GB | Epoch 3 | Loss: 0.3184654414653778 | Accuracy: 90.625%\n",
            "GB | Epoch 3 | Loss: 0.2980475425720215 | Accuracy: 92.1875%\n",
            "GB | Epoch 3 | Loss: 0.3814820647239685 | Accuracy: 84.375%\n",
            "GB | Epoch 3 | Loss: 0.44145312905311584 | Accuracy: 84.375%\n"
          ]
        },
        {
          "output_type": "stream",
          "name": "stderr",
          "text": [
            "Epoch 3:  24%|██▍       | 180/751 [00:05<00:15, 35.95batch/s, accuracy=87.5%, loss=0.348]  "
          ]
        },
        {
          "output_type": "stream",
          "name": "stdout",
          "text": [
            "GB | Epoch 3 | Loss: 0.4194278120994568 | Accuracy: 85.9375%\n",
            "GB | Epoch 3 | Loss: 0.3569723963737488 | Accuracy: 85.9375%\n",
            "GB | Epoch 3 | Loss: 0.40837010741233826 | Accuracy: 82.8125%\n",
            "GB | Epoch 3 | Loss: 0.4616100490093231 | Accuracy: 85.9375%\n",
            "GB | Epoch 3 | Loss: 0.27596715092658997 | Accuracy: 89.0625%\n",
            "GB | Epoch 3 | Loss: 0.41412556171417236 | Accuracy: 87.5%\n",
            "GB | Epoch 3 | Loss: 0.4099469482898712 | Accuracy: 85.9375%\n",
            "GB | Epoch 3 | Loss: 0.3483986556529999 | Accuracy: 87.5%\n"
          ]
        },
        {
          "output_type": "stream",
          "name": "stderr",
          "text": [
            "Epoch 3:  25%|██▌       | 188/751 [00:05<00:15, 36.41batch/s, accuracy=89.0625%, loss=0.321]"
          ]
        },
        {
          "output_type": "stream",
          "name": "stdout",
          "text": [
            "GB | Epoch 3 | Loss: 0.21722467243671417 | Accuracy: 92.1875%\n",
            "GB | Epoch 3 | Loss: 0.17022904753684998 | Accuracy: 95.3125%\n",
            "GB | Epoch 3 | Loss: 0.4196321964263916 | Accuracy: 78.125%\n",
            "GB | Epoch 3 | Loss: 0.42841124534606934 | Accuracy: 90.625%\n",
            "GB | Epoch 3 | Loss: 0.3698895275592804 | Accuracy: 84.375%\n",
            "GB | Epoch 3 | Loss: 0.2848246395587921 | Accuracy: 84.375%\n",
            "GB | Epoch 3 | Loss: 0.3860114514827728 | Accuracy: 90.625%\n",
            "GB | Epoch 3 | Loss: 0.3210744559764862 | Accuracy: 89.0625%\n"
          ]
        },
        {
          "output_type": "stream",
          "name": "stderr",
          "text": [
            "Epoch 3:  26%|██▌       | 196/751 [00:05<00:16, 33.43batch/s, accuracy=92.1875%, loss=0.382]"
          ]
        },
        {
          "output_type": "stream",
          "name": "stdout",
          "text": [
            "GB | Epoch 3 | Loss: 0.371921569108963 | Accuracy: 84.375%\n",
            "GB | Epoch 3 | Loss: 0.43380433320999146 | Accuracy: 87.5%\n",
            "GB | Epoch 3 | Loss: 0.3541184365749359 | Accuracy: 87.5%\n",
            "GB | Epoch 3 | Loss: 0.2747148275375366 | Accuracy: 87.5%\n",
            "GB | Epoch 3 | Loss: 0.23203890025615692 | Accuracy: 92.1875%\n",
            "GB | Epoch 3 | Loss: 0.3817150294780731 | Accuracy: 92.1875%\n"
          ]
        },
        {
          "output_type": "stream",
          "name": "stderr",
          "text": [
            "Epoch 3:  27%|██▋       | 200/751 [00:05<00:17, 31.26batch/s, accuracy=87.5%, loss=0.351]   "
          ]
        },
        {
          "output_type": "stream",
          "name": "stdout",
          "text": [
            "GB | Epoch 3 | Loss: 0.3414459526538849 | Accuracy: 85.9375%\n",
            "GB | Epoch 3 | Loss: 0.5315400958061218 | Accuracy: 79.6875%\n",
            "GB | Epoch 3 | Loss: 0.3281315267086029 | Accuracy: 87.5%\n",
            "GB | Epoch 3 | Loss: 0.3573775291442871 | Accuracy: 90.625%\n",
            "GB | Epoch 3 | Loss: 0.21347090601921082 | Accuracy: 92.1875%\n",
            "GB | Epoch 3 | Loss: 0.35071977972984314 | Accuracy: 87.5%\n"
          ]
        },
        {
          "output_type": "stream",
          "name": "stderr",
          "text": [
            "Epoch 3:  28%|██▊       | 208/751 [00:06<00:19, 28.42batch/s, accuracy=84.375%, loss=0.577]"
          ]
        },
        {
          "output_type": "stream",
          "name": "stdout",
          "text": [
            "GB | Epoch 3 | Loss: 0.242995947599411 | Accuracy: 90.625%\n",
            "GB | Epoch 3 | Loss: 0.40993356704711914 | Accuracy: 82.8125%\n",
            "GB | Epoch 3 | Loss: 0.3838394284248352 | Accuracy: 89.0625%\n",
            "GB | Epoch 3 | Loss: 0.4747460186481476 | Accuracy: 82.8125%\n",
            "GB | Epoch 3 | Loss: 0.48038604855537415 | Accuracy: 87.5%\n",
            "GB | Epoch 3 | Loss: 0.5765893459320068 | Accuracy: 84.375%\n"
          ]
        },
        {
          "output_type": "stream",
          "name": "stderr",
          "text": [
            "Epoch 3:  28%|██▊       | 214/751 [00:06<00:19, 27.72batch/s, accuracy=93.75%, loss=0.2]   "
          ]
        },
        {
          "output_type": "stream",
          "name": "stdout",
          "text": [
            "GB | Epoch 3 | Loss: 0.5491205453872681 | Accuracy: 84.375%\n",
            "GB | Epoch 3 | Loss: 0.35447031259536743 | Accuracy: 85.9375%\n",
            "GB | Epoch 3 | Loss: 0.5135923027992249 | Accuracy: 89.0625%\n",
            "GB | Epoch 3 | Loss: 0.39091959595680237 | Accuracy: 87.5%\n",
            "GB | Epoch 3 | Loss: 0.27295905351638794 | Accuracy: 90.625%\n",
            "GB | Epoch 3 | Loss: 0.19989697635173798 | Accuracy: 93.75%\n"
          ]
        },
        {
          "output_type": "stream",
          "name": "stderr",
          "text": [
            "Epoch 3:  29%|██▉       | 220/751 [00:06<00:19, 27.01batch/s, accuracy=89.0625%, loss=0.297]"
          ]
        },
        {
          "output_type": "stream",
          "name": "stdout",
          "text": [
            "GB | Epoch 3 | Loss: 0.35753872990608215 | Accuracy: 85.9375%\n",
            "GB | Epoch 3 | Loss: 0.37903544306755066 | Accuracy: 87.5%\n",
            "GB | Epoch 3 | Loss: 0.3582429587841034 | Accuracy: 87.5%\n",
            "GB | Epoch 3 | Loss: 0.360763818025589 | Accuracy: 90.625%\n",
            "GB | Epoch 3 | Loss: 0.2589472830295563 | Accuracy: 93.75%\n",
            "GB | Epoch 3 | Loss: 0.2974848747253418 | Accuracy: 89.0625%\n"
          ]
        },
        {
          "output_type": "stream",
          "name": "stderr",
          "text": [
            "Epoch 3:  30%|███       | 226/751 [00:06<00:19, 26.82batch/s, accuracy=92.1875%, loss=0.244]"
          ]
        },
        {
          "output_type": "stream",
          "name": "stdout",
          "text": [
            "GB | Epoch 3 | Loss: 0.3949795663356781 | Accuracy: 85.9375%\n",
            "GB | Epoch 3 | Loss: 0.5110509991645813 | Accuracy: 81.25%\n",
            "GB | Epoch 3 | Loss: 0.264588326215744 | Accuracy: 92.1875%\n",
            "GB | Epoch 3 | Loss: 0.46526992321014404 | Accuracy: 79.6875%\n",
            "GB | Epoch 3 | Loss: 0.3617627024650574 | Accuracy: 85.9375%\n",
            "GB | Epoch 3 | Loss: 0.243901327252388 | Accuracy: 92.1875%\n"
          ]
        },
        {
          "output_type": "stream",
          "name": "stderr",
          "text": [
            "Epoch 3:  31%|███       | 232/751 [00:07<00:19, 26.79batch/s, accuracy=90.625%, loss=0.258] "
          ]
        },
        {
          "output_type": "stream",
          "name": "stdout",
          "text": [
            "GB | Epoch 3 | Loss: 0.17207634449005127 | Accuracy: 96.875%\n",
            "GB | Epoch 3 | Loss: 0.32325392961502075 | Accuracy: 92.1875%\n",
            "GB | Epoch 3 | Loss: 0.31205737590789795 | Accuracy: 92.1875%\n",
            "GB | Epoch 3 | Loss: 0.479695588350296 | Accuracy: 82.8125%\n",
            "GB | Epoch 3 | Loss: 0.3485627770423889 | Accuracy: 85.9375%\n",
            "GB | Epoch 3 | Loss: 0.2580025792121887 | Accuracy: 90.625%\n"
          ]
        },
        {
          "output_type": "stream",
          "name": "stderr",
          "text": [
            "Epoch 3:  32%|███▏      | 239/751 [00:07<00:17, 28.45batch/s, accuracy=90.625%, loss=0.3]  "
          ]
        },
        {
          "output_type": "stream",
          "name": "stdout",
          "text": [
            "GB | Epoch 3 | Loss: 0.3684460520744324 | Accuracy: 89.0625%\n",
            "GB | Epoch 3 | Loss: 0.31091853976249695 | Accuracy: 92.1875%\n",
            "GB | Epoch 3 | Loss: 0.36528611183166504 | Accuracy: 92.1875%\n",
            "GB | Epoch 3 | Loss: 0.31754636764526367 | Accuracy: 84.375%\n",
            "GB | Epoch 3 | Loss: 0.3639972507953644 | Accuracy: 85.9375%\n",
            "GB | Epoch 3 | Loss: 0.43581652641296387 | Accuracy: 84.375%\n",
            "GB | Epoch 3 | Loss: 0.2998459041118622 | Accuracy: 90.625%\n"
          ]
        },
        {
          "output_type": "stream",
          "name": "stderr",
          "text": [
            "Epoch 3:  33%|███▎      | 245/751 [00:07<00:18, 27.62batch/s, accuracy=92.1875%, loss=0.275]"
          ]
        },
        {
          "output_type": "stream",
          "name": "stdout",
          "text": [
            "GB | Epoch 3 | Loss: 0.26874059438705444 | Accuracy: 90.625%\n",
            "GB | Epoch 3 | Loss: 0.32070663571357727 | Accuracy: 92.1875%\n",
            "GB | Epoch 3 | Loss: 0.46795719861984253 | Accuracy: 84.375%\n",
            "GB | Epoch 3 | Loss: 0.2938019335269928 | Accuracy: 89.0625%\n",
            "GB | Epoch 3 | Loss: 0.2932961881160736 | Accuracy: 92.1875%\n",
            "GB | Epoch 3 | Loss: 0.2745353579521179 | Accuracy: 92.1875%\n"
          ]
        },
        {
          "output_type": "stream",
          "name": "stderr",
          "text": [
            "Epoch 3:  34%|███▎      | 252/751 [00:07<00:18, 27.53batch/s, accuracy=87.5%, loss=0.562]"
          ]
        },
        {
          "output_type": "stream",
          "name": "stdout",
          "text": [
            "GB | Epoch 3 | Loss: 0.3110480308532715 | Accuracy: 90.625%\n",
            "GB | Epoch 3 | Loss: 0.32549813389778137 | Accuracy: 93.75%\n",
            "GB | Epoch 3 | Loss: 0.3357037305831909 | Accuracy: 90.625%\n",
            "GB | Epoch 3 | Loss: 0.3784637451171875 | Accuracy: 84.375%\n",
            "GB | Epoch 3 | Loss: 0.35476556420326233 | Accuracy: 92.1875%\n",
            "GB | Epoch 3 | Loss: 0.56243896484375 | Accuracy: 87.5%\n"
          ]
        },
        {
          "output_type": "stream",
          "name": "stderr",
          "text": [
            "Epoch 3:  34%|███▍      | 258/751 [00:07<00:17, 27.58batch/s, accuracy=85.9375%, loss=0.341]"
          ]
        },
        {
          "output_type": "stream",
          "name": "stdout",
          "text": [
            "GB | Epoch 3 | Loss: 0.271368145942688 | Accuracy: 93.75%\n",
            "GB | Epoch 3 | Loss: 0.2646664083003998 | Accuracy: 95.3125%\n",
            "GB | Epoch 3 | Loss: 0.2158515900373459 | Accuracy: 95.3125%\n",
            "GB | Epoch 3 | Loss: 0.3214385211467743 | Accuracy: 87.5%\n",
            "GB | Epoch 3 | Loss: 0.48924994468688965 | Accuracy: 85.9375%\n",
            "GB | Epoch 3 | Loss: 0.3408828675746918 | Accuracy: 85.9375%\n"
          ]
        },
        {
          "output_type": "stream",
          "name": "stderr",
          "text": [
            "Epoch 3:  35%|███▍      | 261/751 [00:08<00:18, 27.16batch/s, accuracy=85.9375%, loss=0.453]"
          ]
        },
        {
          "output_type": "stream",
          "name": "stdout",
          "text": [
            "GB | Epoch 3 | Loss: 0.264983206987381 | Accuracy: 87.5%\n",
            "GB | Epoch 3 | Loss: 0.266831636428833 | Accuracy: 92.1875%\n",
            "GB | Epoch 3 | Loss: 0.3956255316734314 | Accuracy: 85.9375%\n",
            "GB | Epoch 3 | Loss: 0.3651719093322754 | Accuracy: 89.0625%\n",
            "GB | Epoch 3 | Loss: 0.35615554451942444 | Accuracy: 87.5%\n",
            "GB | Epoch 3 | Loss: 0.45342347025871277 | Accuracy: 85.9375%\n"
          ]
        },
        {
          "output_type": "stream",
          "name": "stderr",
          "text": [
            "Epoch 3:  36%|███▌      | 268/751 [00:08<00:17, 28.18batch/s, accuracy=85.9375%, loss=0.517]"
          ]
        },
        {
          "output_type": "stream",
          "name": "stdout",
          "text": [
            "GB | Epoch 3 | Loss: 0.39972424507141113 | Accuracy: 87.5%\n",
            "GB | Epoch 3 | Loss: 0.40869420766830444 | Accuracy: 87.5%\n",
            "GB | Epoch 3 | Loss: 0.2227948009967804 | Accuracy: 93.75%\n",
            "GB | Epoch 3 | Loss: 0.3558620810508728 | Accuracy: 89.0625%\n",
            "GB | Epoch 3 | Loss: 0.5927297472953796 | Accuracy: 78.125%\n",
            "GB | Epoch 3 | Loss: 0.51724773645401 | Accuracy: 85.9375%\n"
          ]
        },
        {
          "output_type": "stream",
          "name": "stderr",
          "text": [
            "Epoch 3:  36%|███▋      | 274/751 [00:08<00:17, 26.59batch/s, accuracy=84.375%, loss=0.413] "
          ]
        },
        {
          "output_type": "stream",
          "name": "stdout",
          "text": [
            "GB | Epoch 3 | Loss: 0.2716119587421417 | Accuracy: 89.0625%\n",
            "GB | Epoch 3 | Loss: 0.453041672706604 | Accuracy: 89.0625%\n",
            "GB | Epoch 3 | Loss: 0.46470049023628235 | Accuracy: 81.25%\n",
            "GB | Epoch 3 | Loss: 0.3661704659461975 | Accuracy: 85.9375%\n",
            "GB | Epoch 3 | Loss: 0.3020193874835968 | Accuracy: 85.9375%\n",
            "GB | Epoch 3 | Loss: 0.4130326807498932 | Accuracy: 84.375%\n"
          ]
        },
        {
          "output_type": "stream",
          "name": "stderr",
          "text": [
            "Epoch 3:  37%|███▋      | 281/751 [00:08<00:16, 28.57batch/s, accuracy=87.5%, loss=0.293]  "
          ]
        },
        {
          "output_type": "stream",
          "name": "stdout",
          "text": [
            "GB | Epoch 3 | Loss: 0.37458905577659607 | Accuracy: 89.0625%\n",
            "GB | Epoch 3 | Loss: 0.44141852855682373 | Accuracy: 87.5%\n",
            "GB | Epoch 3 | Loss: 0.29848697781562805 | Accuracy: 92.1875%\n",
            "GB | Epoch 3 | Loss: 0.27471330761909485 | Accuracy: 90.625%\n",
            "GB | Epoch 3 | Loss: 0.3400280773639679 | Accuracy: 90.625%\n",
            "GB | Epoch 3 | Loss: 0.2519333064556122 | Accuracy: 90.625%\n",
            "GB | Epoch 3 | Loss: 0.29336827993392944 | Accuracy: 87.5%\n"
          ]
        },
        {
          "output_type": "stream",
          "name": "stderr",
          "text": [
            "Epoch 3:  38%|███▊      | 287/751 [00:09<00:16, 27.37batch/s, accuracy=90.625%, loss=0.325] "
          ]
        },
        {
          "output_type": "stream",
          "name": "stdout",
          "text": [
            "GB | Epoch 3 | Loss: 0.49065062403678894 | Accuracy: 87.5%\n",
            "GB | Epoch 3 | Loss: 0.25342029333114624 | Accuracy: 93.75%\n",
            "GB | Epoch 3 | Loss: 0.4785895049571991 | Accuracy: 84.375%\n",
            "GB | Epoch 3 | Loss: 0.28724241256713867 | Accuracy: 90.625%\n",
            "GB | Epoch 3 | Loss: 0.4290032982826233 | Accuracy: 89.0625%\n",
            "GB | Epoch 3 | Loss: 0.3246594965457916 | Accuracy: 90.625%\n"
          ]
        },
        {
          "output_type": "stream",
          "name": "stderr",
          "text": [
            "Epoch 3:  39%|███▉      | 293/751 [00:09<00:17, 26.73batch/s, accuracy=87.5%, loss=0.411]   "
          ]
        },
        {
          "output_type": "stream",
          "name": "stdout",
          "text": [
            "GB | Epoch 3 | Loss: 0.4557946026325226 | Accuracy: 82.8125%\n",
            "GB | Epoch 3 | Loss: 0.2511027753353119 | Accuracy: 92.1875%\n",
            "GB | Epoch 3 | Loss: 0.40627574920654297 | Accuracy: 84.375%\n",
            "GB | Epoch 3 | Loss: 0.32894858717918396 | Accuracy: 90.625%\n",
            "GB | Epoch 3 | Loss: 0.35445544123649597 | Accuracy: 89.0625%\n",
            "GB | Epoch 3 | Loss: 0.4114503860473633 | Accuracy: 87.5%\n"
          ]
        },
        {
          "output_type": "stream",
          "name": "stderr",
          "text": [
            "Epoch 3:  40%|███▉      | 299/751 [00:09<00:16, 27.18batch/s, accuracy=90.625%, loss=0.277]"
          ]
        },
        {
          "output_type": "stream",
          "name": "stdout",
          "text": [
            "GB | Epoch 3 | Loss: 0.15276962518692017 | Accuracy: 96.875%\n",
            "GB | Epoch 3 | Loss: 0.3725068271160126 | Accuracy: 87.5%\n",
            "GB | Epoch 3 | Loss: 0.4568638503551483 | Accuracy: 84.375%\n",
            "GB | Epoch 3 | Loss: 0.2918786108493805 | Accuracy: 90.625%\n",
            "GB | Epoch 3 | Loss: 0.3583920896053314 | Accuracy: 90.625%\n",
            "GB | Epoch 3 | Loss: 0.2765445113182068 | Accuracy: 90.625%\n"
          ]
        },
        {
          "output_type": "stream",
          "name": "stderr",
          "text": [
            "Epoch 3:  41%|████      | 305/751 [00:09<00:16, 26.86batch/s, accuracy=85.9375%, loss=0.562]"
          ]
        },
        {
          "output_type": "stream",
          "name": "stdout",
          "text": [
            "GB | Epoch 3 | Loss: 0.3544256091117859 | Accuracy: 90.625%\n",
            "GB | Epoch 3 | Loss: 0.385273814201355 | Accuracy: 89.0625%\n",
            "GB | Epoch 3 | Loss: 0.38120582699775696 | Accuracy: 85.9375%\n",
            "GB | Epoch 3 | Loss: 0.31033948063850403 | Accuracy: 89.0625%\n",
            "GB | Epoch 3 | Loss: 0.2158995419740677 | Accuracy: 96.875%\n",
            "GB | Epoch 3 | Loss: 0.5620717406272888 | Accuracy: 85.9375%\n"
          ]
        },
        {
          "output_type": "stream",
          "name": "stderr",
          "text": [
            "Epoch 3:  42%|████▏     | 312/751 [00:10<00:15, 27.93batch/s, accuracy=95.3125%, loss=0.163]"
          ]
        },
        {
          "output_type": "stream",
          "name": "stdout",
          "text": [
            "GB | Epoch 3 | Loss: 0.2717764675617218 | Accuracy: 95.3125%\n",
            "GB | Epoch 3 | Loss: 0.40737447142601013 | Accuracy: 82.8125%\n",
            "GB | Epoch 3 | Loss: 0.2448447197675705 | Accuracy: 89.0625%\n",
            "GB | Epoch 3 | Loss: 0.4089124798774719 | Accuracy: 84.375%\n",
            "GB | Epoch 3 | Loss: 0.35010862350463867 | Accuracy: 90.625%\n",
            "GB | Epoch 3 | Loss: 0.16261355578899384 | Accuracy: 95.3125%\n"
          ]
        },
        {
          "output_type": "stream",
          "name": "stderr",
          "text": [
            "Epoch 3:  42%|████▏     | 318/751 [00:10<00:15, 28.16batch/s, accuracy=93.75%, loss=0.275]  "
          ]
        },
        {
          "output_type": "stream",
          "name": "stdout",
          "text": [
            "GB | Epoch 3 | Loss: 0.5219409465789795 | Accuracy: 81.25%\n",
            "GB | Epoch 3 | Loss: 0.4859524965286255 | Accuracy: 79.6875%\n",
            "GB | Epoch 3 | Loss: 0.5006957054138184 | Accuracy: 81.25%\n",
            "GB | Epoch 3 | Loss: 0.21052196621894836 | Accuracy: 92.1875%\n",
            "GB | Epoch 3 | Loss: 0.2537740170955658 | Accuracy: 92.1875%\n",
            "GB | Epoch 3 | Loss: 0.2754368185997009 | Accuracy: 93.75%\n"
          ]
        },
        {
          "output_type": "stream",
          "name": "stderr",
          "text": [
            "Epoch 3:  43%|████▎     | 324/751 [00:10<00:15, 27.62batch/s, accuracy=85.9375%, loss=0.357]"
          ]
        },
        {
          "output_type": "stream",
          "name": "stdout",
          "text": [
            "GB | Epoch 3 | Loss: 0.3938538730144501 | Accuracy: 87.5%\n",
            "GB | Epoch 3 | Loss: 0.29583829641342163 | Accuracy: 90.625%\n",
            "GB | Epoch 3 | Loss: 0.3587248623371124 | Accuracy: 84.375%\n",
            "GB | Epoch 3 | Loss: 0.23270612955093384 | Accuracy: 92.1875%\n",
            "GB | Epoch 3 | Loss: 0.34292277693748474 | Accuracy: 87.5%\n",
            "GB | Epoch 3 | Loss: 0.35724616050720215 | Accuracy: 85.9375%\n"
          ]
        },
        {
          "output_type": "stream",
          "name": "stderr",
          "text": [
            "Epoch 3:  44%|████▍     | 330/751 [00:10<00:15, 26.76batch/s, accuracy=96.875%, loss=0.212]"
          ]
        },
        {
          "output_type": "stream",
          "name": "stdout",
          "text": [
            "GB | Epoch 3 | Loss: 0.4881038963794708 | Accuracy: 84.375%\n",
            "GB | Epoch 3 | Loss: 0.395840585231781 | Accuracy: 87.5%\n",
            "GB | Epoch 3 | Loss: 0.4236759841442108 | Accuracy: 82.8125%\n",
            "GB | Epoch 3 | Loss: 0.37440380454063416 | Accuracy: 89.0625%\n",
            "GB | Epoch 3 | Loss: 0.388860285282135 | Accuracy: 90.625%\n"
          ]
        },
        {
          "output_type": "stream",
          "name": "stderr",
          "text": [
            "Epoch 3:  45%|████▍     | 337/751 [00:10<00:13, 29.89batch/s, accuracy=89.0625%, loss=0.279]"
          ]
        },
        {
          "output_type": "stream",
          "name": "stdout",
          "text": [
            "GB | Epoch 3 | Loss: 0.21241463720798492 | Accuracy: 96.875%\n",
            "GB | Epoch 3 | Loss: 0.3971777558326721 | Accuracy: 95.3125%\n",
            "GB | Epoch 3 | Loss: 0.6108980774879456 | Accuracy: 76.5625%\n",
            "GB | Epoch 3 | Loss: 0.3301296532154083 | Accuracy: 84.375%\n",
            "GB | Epoch 3 | Loss: 0.32795751094818115 | Accuracy: 90.625%\n",
            "GB | Epoch 3 | Loss: 0.3179091811180115 | Accuracy: 89.0625%\n",
            "GB | Epoch 3 | Loss: 0.2475251704454422 | Accuracy: 92.1875%\n"
          ]
        },
        {
          "output_type": "stream",
          "name": "stderr",
          "text": [
            "Epoch 3:  46%|████▌     | 346/751 [00:11<00:11, 34.81batch/s, accuracy=93.75%, loss=0.256]"
          ]
        },
        {
          "output_type": "stream",
          "name": "stdout",
          "text": [
            "GB | Epoch 3 | Loss: 0.27893492579460144 | Accuracy: 89.0625%\n",
            "GB | Epoch 3 | Loss: 0.36706408858299255 | Accuracy: 84.375%\n",
            "GB | Epoch 3 | Loss: 0.5079140067100525 | Accuracy: 82.8125%\n",
            "GB | Epoch 3 | Loss: 0.34849220514297485 | Accuracy: 89.0625%\n",
            "GB | Epoch 3 | Loss: 0.35803017020225525 | Accuracy: 92.1875%\n",
            "GB | Epoch 3 | Loss: 0.41483426094055176 | Accuracy: 87.5%\n",
            "GB | Epoch 3 | Loss: 0.172588512301445 | Accuracy: 95.3125%\n",
            "GB | Epoch 3 | Loss: 0.31036460399627686 | Accuracy: 85.9375%\n",
            "GB | Epoch 3 | Loss: 0.255913108587265 | Accuracy: 93.75%\n"
          ]
        },
        {
          "output_type": "stream",
          "name": "stderr",
          "text": [
            "Epoch 3:  47%|████▋     | 354/751 [00:11<00:10, 36.12batch/s, accuracy=82.8125%, loss=0.428]"
          ]
        },
        {
          "output_type": "stream",
          "name": "stdout",
          "text": [
            "GB | Epoch 3 | Loss: 0.34071850776672363 | Accuracy: 90.625%\n",
            "GB | Epoch 3 | Loss: 0.1863095760345459 | Accuracy: 95.3125%\n",
            "GB | Epoch 3 | Loss: 0.3154144585132599 | Accuracy: 90.625%\n",
            "GB | Epoch 3 | Loss: 0.17662131786346436 | Accuracy: 96.875%\n",
            "GB | Epoch 3 | Loss: 0.28542008996009827 | Accuracy: 90.625%\n",
            "GB | Epoch 3 | Loss: 0.3282272517681122 | Accuracy: 85.9375%\n",
            "GB | Epoch 3 | Loss: 0.4785292446613312 | Accuracy: 89.0625%\n",
            "GB | Epoch 3 | Loss: 0.42814746499061584 | Accuracy: 82.8125%\n"
          ]
        },
        {
          "output_type": "stream",
          "name": "stderr",
          "text": [
            "Epoch 3:  48%|████▊     | 358/751 [00:11<00:10, 36.25batch/s, accuracy=82.8125%, loss=0.345]"
          ]
        },
        {
          "output_type": "stream",
          "name": "stdout",
          "text": [
            "GB | Epoch 3 | Loss: 0.2692342698574066 | Accuracy: 92.1875%\n",
            "GB | Epoch 3 | Loss: 0.3645905554294586 | Accuracy: 82.8125%\n",
            "GB | Epoch 3 | Loss: 0.29647815227508545 | Accuracy: 92.1875%\n",
            "GB | Epoch 3 | Loss: 0.26716116070747375 | Accuracy: 89.0625%\n",
            "GB | Epoch 3 | Loss: 0.3601865768432617 | Accuracy: 85.9375%\n",
            "GB | Epoch 3 | Loss: 0.14652281999588013 | Accuracy: 95.3125%\n",
            "GB | Epoch 3 | Loss: 0.3447103500366211 | Accuracy: 82.8125%\n"
          ]
        },
        {
          "output_type": "stream",
          "name": "stderr",
          "text": [
            "Epoch 3:  49%|████▊     | 366/751 [00:11<00:11, 34.13batch/s, accuracy=93.75%, loss=0.248]  "
          ]
        },
        {
          "output_type": "stream",
          "name": "stdout",
          "text": [
            "GB | Epoch 3 | Loss: 0.30248066782951355 | Accuracy: 89.0625%\n",
            "GB | Epoch 3 | Loss: 0.3192366361618042 | Accuracy: 90.625%\n",
            "GB | Epoch 3 | Loss: 0.331104040145874 | Accuracy: 89.0625%\n",
            "GB | Epoch 3 | Loss: 0.2885567545890808 | Accuracy: 90.625%\n",
            "GB | Epoch 3 | Loss: 0.26793575286865234 | Accuracy: 87.5%\n",
            "GB | Epoch 3 | Loss: 0.3271261751651764 | Accuracy: 92.1875%\n",
            "GB | Epoch 3 | Loss: 0.24819941818714142 | Accuracy: 93.75%\n"
          ]
        },
        {
          "output_type": "stream",
          "name": "stderr",
          "text": [
            "Epoch 3:  50%|████▉     | 374/751 [00:11<00:10, 35.70batch/s, accuracy=87.5%, loss=0.431]   "
          ]
        },
        {
          "output_type": "stream",
          "name": "stdout",
          "text": [
            "GB | Epoch 3 | Loss: 0.3690852224826813 | Accuracy: 85.9375%\n",
            "GB | Epoch 3 | Loss: 0.19504810869693756 | Accuracy: 92.1875%\n",
            "GB | Epoch 3 | Loss: 0.27620255947113037 | Accuracy: 92.1875%\n",
            "GB | Epoch 3 | Loss: 0.4934619963169098 | Accuracy: 89.0625%\n",
            "GB | Epoch 3 | Loss: 0.30893751978874207 | Accuracy: 92.1875%\n",
            "GB | Epoch 3 | Loss: 0.3683278560638428 | Accuracy: 87.5%\n",
            "GB | Epoch 3 | Loss: 0.2965746521949768 | Accuracy: 89.0625%\n",
            "GB | Epoch 3 | Loss: 0.4308171272277832 | Accuracy: 87.5%\n"
          ]
        },
        {
          "output_type": "stream",
          "name": "stderr",
          "text": [
            "Epoch 3:  51%|█████     | 382/751 [00:12<00:09, 37.01batch/s, accuracy=79.6875%, loss=0.49]"
          ]
        },
        {
          "output_type": "stream",
          "name": "stdout",
          "text": [
            "GB | Epoch 3 | Loss: 0.22624845802783966 | Accuracy: 92.1875%\n",
            "GB | Epoch 3 | Loss: 0.23443777859210968 | Accuracy: 90.625%\n",
            "GB | Epoch 3 | Loss: 0.3213302791118622 | Accuracy: 92.1875%\n",
            "GB | Epoch 3 | Loss: 0.2172614187002182 | Accuracy: 92.1875%\n",
            "GB | Epoch 3 | Loss: 0.40287306904792786 | Accuracy: 87.5%\n",
            "GB | Epoch 3 | Loss: 0.3227730095386505 | Accuracy: 89.0625%\n",
            "GB | Epoch 3 | Loss: 0.34082862734794617 | Accuracy: 90.625%\n",
            "GB | Epoch 3 | Loss: 0.490470290184021 | Accuracy: 79.6875%\n"
          ]
        },
        {
          "output_type": "stream",
          "name": "stderr",
          "text": [
            "Epoch 3:  52%|█████▏    | 390/751 [00:12<00:09, 36.99batch/s, accuracy=82.8125%, loss=0.491]"
          ]
        },
        {
          "output_type": "stream",
          "name": "stdout",
          "text": [
            "GB | Epoch 3 | Loss: 0.3470000624656677 | Accuracy: 87.5%\n",
            "GB | Epoch 3 | Loss: 0.3719625771045685 | Accuracy: 89.0625%\n",
            "GB | Epoch 3 | Loss: 0.2136136144399643 | Accuracy: 93.75%\n",
            "GB | Epoch 3 | Loss: 0.26904481649398804 | Accuracy: 90.625%\n",
            "GB | Epoch 3 | Loss: 0.26115715503692627 | Accuracy: 90.625%\n",
            "GB | Epoch 3 | Loss: 0.39495787024497986 | Accuracy: 87.5%\n",
            "GB | Epoch 3 | Loss: 0.4871504008769989 | Accuracy: 84.375%\n",
            "GB | Epoch 3 | Loss: 0.4905873239040375 | Accuracy: 82.8125%\n"
          ]
        },
        {
          "output_type": "stream",
          "name": "stderr",
          "text": [
            "Epoch 3:  53%|█████▎    | 398/751 [00:12<00:10, 34.45batch/s, accuracy=92.1875%, loss=0.235]"
          ]
        },
        {
          "output_type": "stream",
          "name": "stdout",
          "text": [
            "GB | Epoch 3 | Loss: 0.40172162652015686 | Accuracy: 85.9375%\n",
            "GB | Epoch 3 | Loss: 0.43115463852882385 | Accuracy: 92.1875%\n",
            "GB | Epoch 3 | Loss: 0.33375442028045654 | Accuracy: 85.9375%\n",
            "GB | Epoch 3 | Loss: 0.3391852378845215 | Accuracy: 90.625%\n",
            "GB | Epoch 3 | Loss: 0.27567267417907715 | Accuracy: 90.625%\n",
            "GB | Epoch 3 | Loss: 0.35832399129867554 | Accuracy: 89.0625%\n",
            "GB | Epoch 3 | Loss: 0.23512744903564453 | Accuracy: 92.1875%\n"
          ]
        },
        {
          "output_type": "stream",
          "name": "stderr",
          "text": [
            "Epoch 3:  54%|█████▍    | 406/751 [00:12<00:09, 35.06batch/s, accuracy=84.375%, loss=0.484]"
          ]
        },
        {
          "output_type": "stream",
          "name": "stdout",
          "text": [
            "GB | Epoch 3 | Loss: 0.3473721146583557 | Accuracy: 89.0625%\n",
            "GB | Epoch 3 | Loss: 0.34956854581832886 | Accuracy: 89.0625%\n",
            "GB | Epoch 3 | Loss: 0.22576922178268433 | Accuracy: 93.75%\n",
            "GB | Epoch 3 | Loss: 0.46052995324134827 | Accuracy: 82.8125%\n",
            "GB | Epoch 3 | Loss: 0.5332344174385071 | Accuracy: 85.9375%\n",
            "GB | Epoch 3 | Loss: 0.2850622534751892 | Accuracy: 92.1875%\n",
            "GB | Epoch 3 | Loss: 0.24115583300590515 | Accuracy: 93.75%\n",
            "GB | Epoch 3 | Loss: 0.48393839597702026 | Accuracy: 84.375%\n"
          ]
        },
        {
          "output_type": "stream",
          "name": "stderr",
          "text": [
            "Epoch 3:  55%|█████▌    | 414/751 [00:12<00:09, 36.53batch/s, accuracy=89.0625%, loss=0.362]"
          ]
        },
        {
          "output_type": "stream",
          "name": "stdout",
          "text": [
            "GB | Epoch 3 | Loss: 0.2811069190502167 | Accuracy: 90.625%\n",
            "GB | Epoch 3 | Loss: 0.6028217673301697 | Accuracy: 84.375%\n",
            "GB | Epoch 3 | Loss: 0.31917980313301086 | Accuracy: 89.0625%\n",
            "GB | Epoch 3 | Loss: 0.20376035571098328 | Accuracy: 95.3125%\n",
            "GB | Epoch 3 | Loss: 0.32559219002723694 | Accuracy: 90.625%\n",
            "GB | Epoch 3 | Loss: 0.45160120725631714 | Accuracy: 82.8125%\n",
            "GB | Epoch 3 | Loss: 0.40681830048561096 | Accuracy: 84.375%\n",
            "GB | Epoch 3 | Loss: 0.3615858554840088 | Accuracy: 89.0625%\n"
          ]
        },
        {
          "output_type": "stream",
          "name": "stderr",
          "text": [
            "Epoch 3:  56%|█████▌    | 422/751 [00:13<00:08, 37.09batch/s, accuracy=82.8125%, loss=0.502]"
          ]
        },
        {
          "output_type": "stream",
          "name": "stdout",
          "text": [
            "GB | Epoch 3 | Loss: 0.2807067632675171 | Accuracy: 92.1875%\n",
            "GB | Epoch 3 | Loss: 0.33229073882102966 | Accuracy: 90.625%\n",
            "GB | Epoch 3 | Loss: 0.2576521933078766 | Accuracy: 92.1875%\n",
            "GB | Epoch 3 | Loss: 0.2849480211734772 | Accuracy: 90.625%\n",
            "GB | Epoch 3 | Loss: 0.22908581793308258 | Accuracy: 95.3125%\n",
            "GB | Epoch 3 | Loss: 0.22721002995967865 | Accuracy: 93.75%\n",
            "GB | Epoch 3 | Loss: 0.3032684624195099 | Accuracy: 92.1875%\n",
            "GB | Epoch 3 | Loss: 0.5016645789146423 | Accuracy: 82.8125%\n"
          ]
        },
        {
          "output_type": "stream",
          "name": "stderr",
          "text": [
            "Epoch 3:  57%|█████▋    | 430/751 [00:13<00:08, 37.53batch/s, accuracy=96.875%, loss=0.156] "
          ]
        },
        {
          "output_type": "stream",
          "name": "stdout",
          "text": [
            "GB | Epoch 3 | Loss: 0.27106180787086487 | Accuracy: 90.625%\n",
            "GB | Epoch 3 | Loss: 0.3042236566543579 | Accuracy: 90.625%\n",
            "GB | Epoch 3 | Loss: 0.41719621419906616 | Accuracy: 87.5%\n",
            "GB | Epoch 3 | Loss: 0.27001136541366577 | Accuracy: 89.0625%\n",
            "GB | Epoch 3 | Loss: 0.20526866614818573 | Accuracy: 90.625%\n",
            "GB | Epoch 3 | Loss: 0.3856852054595947 | Accuracy: 85.9375%\n",
            "GB | Epoch 3 | Loss: 0.4557211101055145 | Accuracy: 90.625%\n",
            "GB | Epoch 3 | Loss: 0.31105560064315796 | Accuracy: 92.1875%\n",
            "GB | Epoch 3 | Loss: 0.15600736439228058 | Accuracy: 96.875%\n"
          ]
        },
        {
          "output_type": "stream",
          "name": "stderr",
          "text": [
            "Epoch 3:  58%|█████▊    | 438/751 [00:13<00:09, 34.61batch/s, accuracy=90.625%, loss=0.387]"
          ]
        },
        {
          "output_type": "stream",
          "name": "stdout",
          "text": [
            "GB | Epoch 3 | Loss: 0.19662286341190338 | Accuracy: 93.75%\n",
            "GB | Epoch 3 | Loss: 0.43482640385627747 | Accuracy: 85.9375%\n",
            "GB | Epoch 3 | Loss: 0.23333626985549927 | Accuracy: 92.1875%\n",
            "GB | Epoch 3 | Loss: 0.38604283332824707 | Accuracy: 89.0625%\n",
            "GB | Epoch 3 | Loss: 0.21380425989627838 | Accuracy: 92.1875%\n",
            "GB | Epoch 3 | Loss: 0.38718727231025696 | Accuracy: 90.625%\n"
          ]
        },
        {
          "output_type": "stream",
          "name": "stderr",
          "text": [
            "Epoch 3:  59%|█████▉    | 446/751 [00:13<00:08, 35.32batch/s, accuracy=93.75%, loss=0.317]"
          ]
        },
        {
          "output_type": "stream",
          "name": "stdout",
          "text": [
            "GB | Epoch 3 | Loss: 0.3860403895378113 | Accuracy: 89.0625%\n",
            "GB | Epoch 3 | Loss: 0.34137898683547974 | Accuracy: 90.625%\n",
            "GB | Epoch 3 | Loss: 0.35407549142837524 | Accuracy: 84.375%\n",
            "GB | Epoch 3 | Loss: 0.28743627667427063 | Accuracy: 92.1875%\n",
            "GB | Epoch 3 | Loss: 0.2849438190460205 | Accuracy: 89.0625%\n",
            "GB | Epoch 3 | Loss: 0.3655250668525696 | Accuracy: 89.0625%\n",
            "GB | Epoch 3 | Loss: 0.4152449667453766 | Accuracy: 90.625%\n",
            "GB | Epoch 3 | Loss: 0.31719106435775757 | Accuracy: 93.75%\n"
          ]
        },
        {
          "output_type": "stream",
          "name": "stderr",
          "text": [
            "Epoch 3:  60%|█████▉    | 450/751 [00:14<00:08, 35.99batch/s, accuracy=87.5%, loss=0.359]   "
          ]
        },
        {
          "output_type": "stream",
          "name": "stdout",
          "text": [
            "GB | Epoch 3 | Loss: 0.3738465905189514 | Accuracy: 87.5%\n",
            "GB | Epoch 3 | Loss: 0.547366201877594 | Accuracy: 76.5625%\n",
            "GB | Epoch 3 | Loss: 0.27087414264678955 | Accuracy: 95.3125%\n",
            "GB | Epoch 3 | Loss: 0.36527371406555176 | Accuracy: 87.5%\n",
            "GB | Epoch 3 | Loss: 0.3440587520599365 | Accuracy: 84.375%\n",
            "GB | Epoch 3 | Loss: 0.4398357570171356 | Accuracy: 84.375%\n",
            "GB | Epoch 3 | Loss: 0.24682559072971344 | Accuracy: 95.3125%\n",
            "GB | Epoch 3 | Loss: 0.3593311607837677 | Accuracy: 87.5%\n"
          ]
        },
        {
          "output_type": "stream",
          "name": "stderr",
          "text": [
            "Epoch 3:  61%|██████    | 459/751 [00:14<00:07, 37.02batch/s, accuracy=87.5%, loss=0.339]"
          ]
        },
        {
          "output_type": "stream",
          "name": "stdout",
          "text": [
            "GB | Epoch 3 | Loss: 0.3564435839653015 | Accuracy: 89.0625%\n",
            "GB | Epoch 3 | Loss: 0.2747785151004791 | Accuracy: 92.1875%\n",
            "GB | Epoch 3 | Loss: 0.3576893210411072 | Accuracy: 89.0625%\n",
            "GB | Epoch 3 | Loss: 0.2971908450126648 | Accuracy: 92.1875%\n",
            "GB | Epoch 3 | Loss: 0.46570128202438354 | Accuracy: 85.9375%\n",
            "GB | Epoch 3 | Loss: 0.2321743369102478 | Accuracy: 90.625%\n",
            "GB | Epoch 3 | Loss: 0.26979485154151917 | Accuracy: 93.75%\n",
            "GB | Epoch 3 | Loss: 0.33938583731651306 | Accuracy: 87.5%\n"
          ]
        },
        {
          "output_type": "stream",
          "name": "stderr",
          "text": [
            "Epoch 3:  62%|██████▏   | 467/751 [00:14<00:07, 37.52batch/s, accuracy=90.625%, loss=0.266] "
          ]
        },
        {
          "output_type": "stream",
          "name": "stdout",
          "text": [
            "GB | Epoch 3 | Loss: 0.13817644119262695 | Accuracy: 96.875%\n",
            "GB | Epoch 3 | Loss: 0.25503644347190857 | Accuracy: 90.625%\n",
            "GB | Epoch 3 | Loss: 0.3672693967819214 | Accuracy: 90.625%\n",
            "GB | Epoch 3 | Loss: 0.21825189888477325 | Accuracy: 93.75%\n",
            "GB | Epoch 3 | Loss: 0.25831955671310425 | Accuracy: 90.625%\n",
            "GB | Epoch 3 | Loss: 0.30240243673324585 | Accuracy: 90.625%\n",
            "GB | Epoch 3 | Loss: 0.32152238488197327 | Accuracy: 89.0625%\n",
            "GB | Epoch 3 | Loss: 0.265539288520813 | Accuracy: 90.625%\n"
          ]
        },
        {
          "output_type": "stream",
          "name": "stderr",
          "text": [
            "Epoch 3:  63%|██████▎   | 475/751 [00:14<00:08, 34.50batch/s, accuracy=92.1875%, loss=0.256]"
          ]
        },
        {
          "output_type": "stream",
          "name": "stdout",
          "text": [
            "GB | Epoch 3 | Loss: 0.339359849691391 | Accuracy: 90.625%\n",
            "GB | Epoch 3 | Loss: 0.33567413687705994 | Accuracy: 90.625%\n",
            "GB | Epoch 3 | Loss: 0.32006338238716125 | Accuracy: 92.1875%\n",
            "GB | Epoch 3 | Loss: 0.5641533136367798 | Accuracy: 81.25%\n",
            "GB | Epoch 3 | Loss: 0.18839521706104279 | Accuracy: 95.3125%\n",
            "GB | Epoch 3 | Loss: 0.3252958655357361 | Accuracy: 87.5%\n",
            "GB | Epoch 3 | Loss: 0.2561204433441162 | Accuracy: 92.1875%\n"
          ]
        },
        {
          "output_type": "stream",
          "name": "stderr",
          "text": [
            "Epoch 3:  64%|██████▍   | 484/751 [00:14<00:07, 36.75batch/s, accuracy=92.1875%, loss=0.25] "
          ]
        },
        {
          "output_type": "stream",
          "name": "stdout",
          "text": [
            "GB | Epoch 3 | Loss: 0.24305793642997742 | Accuracy: 90.625%\n",
            "GB | Epoch 3 | Loss: 0.24391822516918182 | Accuracy: 90.625%\n",
            "GB | Epoch 3 | Loss: 0.350939005613327 | Accuracy: 85.9375%\n",
            "GB | Epoch 3 | Loss: 0.2536029815673828 | Accuracy: 90.625%\n",
            "GB | Epoch 3 | Loss: 0.2620919644832611 | Accuracy: 92.1875%\n",
            "GB | Epoch 3 | Loss: 0.3196445405483246 | Accuracy: 90.625%\n",
            "GB | Epoch 3 | Loss: 0.19889003038406372 | Accuracy: 95.3125%\n",
            "GB | Epoch 3 | Loss: 0.2502710521221161 | Accuracy: 92.1875%\n"
          ]
        },
        {
          "output_type": "stream",
          "name": "stderr",
          "text": [
            "Epoch 3:  66%|██████▌   | 492/751 [00:15<00:06, 37.19batch/s, accuracy=89.0625%, loss=0.544]"
          ]
        },
        {
          "output_type": "stream",
          "name": "stdout",
          "text": [
            "GB | Epoch 3 | Loss: 0.3321110010147095 | Accuracy: 87.5%\n",
            "GB | Epoch 3 | Loss: 0.32553067803382874 | Accuracy: 89.0625%\n",
            "GB | Epoch 3 | Loss: 0.27270349860191345 | Accuracy: 90.625%\n",
            "GB | Epoch 3 | Loss: 0.22993367910385132 | Accuracy: 93.75%\n",
            "GB | Epoch 3 | Loss: 0.40517741441726685 | Accuracy: 85.9375%\n",
            "GB | Epoch 3 | Loss: 0.2104519009590149 | Accuracy: 93.75%\n",
            "GB | Epoch 3 | Loss: 0.3837933838367462 | Accuracy: 87.5%\n",
            "GB | Epoch 3 | Loss: 0.5444695949554443 | Accuracy: 89.0625%\n"
          ]
        },
        {
          "output_type": "stream",
          "name": "stderr",
          "text": [
            "Epoch 3:  67%|██████▋   | 500/751 [00:15<00:06, 37.48batch/s, accuracy=85.9375%, loss=0.373]"
          ]
        },
        {
          "output_type": "stream",
          "name": "stdout",
          "text": [
            "GB | Epoch 3 | Loss: 0.2224149852991104 | Accuracy: 96.875%\n",
            "GB | Epoch 3 | Loss: 0.36378395557403564 | Accuracy: 90.625%\n",
            "GB | Epoch 3 | Loss: 0.1911475509405136 | Accuracy: 96.875%\n",
            "GB | Epoch 3 | Loss: 0.38256168365478516 | Accuracy: 89.0625%\n",
            "GB | Epoch 3 | Loss: 0.35693731904029846 | Accuracy: 87.5%\n",
            "GB | Epoch 3 | Loss: 0.400219202041626 | Accuracy: 90.625%\n",
            "GB | Epoch 3 | Loss: 0.31316590309143066 | Accuracy: 85.9375%\n",
            "GB | Epoch 3 | Loss: 0.37313327193260193 | Accuracy: 85.9375%\n"
          ]
        },
        {
          "output_type": "stream",
          "name": "stderr",
          "text": [
            "Epoch 3:  68%|██████▊   | 508/751 [00:15<00:06, 36.51batch/s, accuracy=81.25%, loss=0.487]"
          ]
        },
        {
          "output_type": "stream",
          "name": "stdout",
          "text": [
            "GB | Epoch 3 | Loss: 0.4234304130077362 | Accuracy: 90.625%\n",
            "GB | Epoch 3 | Loss: 0.1921250969171524 | Accuracy: 93.75%\n",
            "GB | Epoch 3 | Loss: 0.21487323939800262 | Accuracy: 92.1875%\n",
            "GB | Epoch 3 | Loss: 0.2657664120197296 | Accuracy: 89.0625%\n",
            "GB | Epoch 3 | Loss: 0.3685448467731476 | Accuracy: 92.1875%\n",
            "GB | Epoch 3 | Loss: 0.22410444915294647 | Accuracy: 92.1875%\n",
            "GB | Epoch 3 | Loss: 0.21784578263759613 | Accuracy: 93.75%\n",
            "GB | Epoch 3 | Loss: 0.48731234669685364 | Accuracy: 81.25%\n"
          ]
        },
        {
          "output_type": "stream",
          "name": "stderr",
          "text": [
            "Epoch 3:  69%|██████▊   | 516/751 [00:15<00:06, 35.24batch/s, accuracy=93.75%, loss=0.186]  "
          ]
        },
        {
          "output_type": "stream",
          "name": "stdout",
          "text": [
            "GB | Epoch 3 | Loss: 0.16825467348098755 | Accuracy: 92.1875%\n",
            "GB | Epoch 3 | Loss: 0.2877075672149658 | Accuracy: 92.1875%\n",
            "GB | Epoch 3 | Loss: 0.4702567458152771 | Accuracy: 89.0625%\n",
            "GB | Epoch 3 | Loss: 0.30975258350372314 | Accuracy: 89.0625%\n",
            "GB | Epoch 3 | Loss: 0.2691003382205963 | Accuracy: 95.3125%\n",
            "GB | Epoch 3 | Loss: 0.48086047172546387 | Accuracy: 84.375%\n",
            "GB | Epoch 3 | Loss: 0.30854567885398865 | Accuracy: 89.0625%\n",
            "GB | Epoch 3 | Loss: 0.18637000024318695 | Accuracy: 93.75%\n"
          ]
        },
        {
          "output_type": "stream",
          "name": "stderr",
          "text": [
            "Epoch 3:  70%|██████▉   | 524/751 [00:16<00:06, 36.52batch/s, accuracy=89.0625%, loss=0.269]"
          ]
        },
        {
          "output_type": "stream",
          "name": "stdout",
          "text": [
            "GB | Epoch 3 | Loss: 0.5383811593055725 | Accuracy: 87.5%\n",
            "GB | Epoch 3 | Loss: 0.2859305441379547 | Accuracy: 90.625%\n",
            "GB | Epoch 3 | Loss: 0.2879844903945923 | Accuracy: 93.75%\n",
            "GB | Epoch 3 | Loss: 0.19928936660289764 | Accuracy: 90.625%\n",
            "GB | Epoch 3 | Loss: 0.22228264808654785 | Accuracy: 90.625%\n",
            "GB | Epoch 3 | Loss: 0.3627603054046631 | Accuracy: 89.0625%\n",
            "GB | Epoch 3 | Loss: 0.23449262976646423 | Accuracy: 93.75%\n",
            "GB | Epoch 3 | Loss: 0.26901984214782715 | Accuracy: 89.0625%\n"
          ]
        },
        {
          "output_type": "stream",
          "name": "stderr",
          "text": [
            "Epoch 3:  71%|███████   | 532/751 [00:16<00:05, 37.16batch/s, accuracy=93.75%, loss=0.25]   "
          ]
        },
        {
          "output_type": "stream",
          "name": "stdout",
          "text": [
            "GB | Epoch 3 | Loss: 0.22483675181865692 | Accuracy: 90.625%\n",
            "GB | Epoch 3 | Loss: 0.2993065118789673 | Accuracy: 89.0625%\n",
            "GB | Epoch 3 | Loss: 0.23030957579612732 | Accuracy: 92.1875%\n",
            "GB | Epoch 3 | Loss: 0.2755517363548279 | Accuracy: 90.625%\n",
            "GB | Epoch 3 | Loss: 0.19780196249485016 | Accuracy: 92.1875%\n",
            "GB | Epoch 3 | Loss: 0.21846169233322144 | Accuracy: 93.75%\n",
            "GB | Epoch 3 | Loss: 0.3824728727340698 | Accuracy: 92.1875%\n",
            "GB | Epoch 3 | Loss: 0.249653160572052 | Accuracy: 93.75%\n"
          ]
        },
        {
          "output_type": "stream",
          "name": "stderr",
          "text": [
            "Epoch 3:  72%|███████▏  | 540/751 [00:16<00:05, 37.37batch/s, accuracy=92.1875%, loss=0.251]"
          ]
        },
        {
          "output_type": "stream",
          "name": "stdout",
          "text": [
            "GB | Epoch 3 | Loss: 0.47763344645500183 | Accuracy: 82.8125%\n",
            "GB | Epoch 3 | Loss: 0.29423975944519043 | Accuracy: 89.0625%\n",
            "GB | Epoch 3 | Loss: 0.34540218114852905 | Accuracy: 89.0625%\n",
            "GB | Epoch 3 | Loss: 0.3454432785511017 | Accuracy: 89.0625%\n",
            "GB | Epoch 3 | Loss: 0.2337668389081955 | Accuracy: 90.625%\n",
            "GB | Epoch 3 | Loss: 0.21777363121509552 | Accuracy: 92.1875%\n",
            "GB | Epoch 3 | Loss: 0.2998450994491577 | Accuracy: 85.9375%\n",
            "GB | Epoch 3 | Loss: 0.2506546080112457 | Accuracy: 92.1875%\n"
          ]
        },
        {
          "output_type": "stream",
          "name": "stderr",
          "text": [
            "Epoch 3:  73%|███████▎  | 548/751 [00:16<00:05, 34.22batch/s, accuracy=87.5%, loss=0.3]"
          ]
        },
        {
          "output_type": "stream",
          "name": "stdout",
          "text": [
            "GB | Epoch 3 | Loss: 0.29341447353363037 | Accuracy: 90.625%\n",
            "GB | Epoch 3 | Loss: 0.23085927963256836 | Accuracy: 92.1875%\n",
            "GB | Epoch 3 | Loss: 0.21767055988311768 | Accuracy: 92.1875%\n",
            "GB | Epoch 3 | Loss: 0.27080440521240234 | Accuracy: 90.625%\n",
            "GB | Epoch 3 | Loss: 0.4746220111846924 | Accuracy: 84.375%\n",
            "GB | Epoch 3 | Loss: 0.18508246541023254 | Accuracy: 96.875%\n",
            "GB | Epoch 3 | Loss: 0.3000042736530304 | Accuracy: 87.5%\n"
          ]
        },
        {
          "output_type": "stream",
          "name": "stderr",
          "text": [
            "Epoch 3:  74%|███████▍  | 556/751 [00:16<00:05, 35.43batch/s, accuracy=81.25%, loss=0.547]"
          ]
        },
        {
          "output_type": "stream",
          "name": "stdout",
          "text": [
            "GB | Epoch 3 | Loss: 0.19024322926998138 | Accuracy: 92.1875%\n",
            "GB | Epoch 3 | Loss: 0.2953723073005676 | Accuracy: 85.9375%\n",
            "GB | Epoch 3 | Loss: 0.3321921229362488 | Accuracy: 85.9375%\n",
            "GB | Epoch 3 | Loss: 0.26266053318977356 | Accuracy: 92.1875%\n",
            "GB | Epoch 3 | Loss: 0.3364183306694031 | Accuracy: 87.5%\n",
            "GB | Epoch 3 | Loss: 0.27971556782722473 | Accuracy: 89.0625%\n",
            "GB | Epoch 3 | Loss: 0.3899058997631073 | Accuracy: 90.625%\n",
            "GB | Epoch 3 | Loss: 0.5467715263366699 | Accuracy: 81.25%\n"
          ]
        },
        {
          "output_type": "stream",
          "name": "stderr",
          "text": [
            "Epoch 3:  75%|███████▌  | 564/751 [00:17<00:05, 36.12batch/s, accuracy=85.9375%, loss=0.346]"
          ]
        },
        {
          "output_type": "stream",
          "name": "stdout",
          "text": [
            "GB | Epoch 3 | Loss: 0.33548861742019653 | Accuracy: 89.0625%\n",
            "GB | Epoch 3 | Loss: 0.3317374885082245 | Accuracy: 89.0625%\n",
            "GB | Epoch 3 | Loss: 0.3360779881477356 | Accuracy: 92.1875%\n",
            "GB | Epoch 3 | Loss: 0.26703134179115295 | Accuracy: 85.9375%\n",
            "GB | Epoch 3 | Loss: 0.5096129179000854 | Accuracy: 82.8125%\n",
            "GB | Epoch 3 | Loss: 0.2219756543636322 | Accuracy: 95.3125%\n",
            "GB | Epoch 3 | Loss: 0.29185324907302856 | Accuracy: 87.5%\n",
            "GB | Epoch 3 | Loss: 0.3462528884410858 | Accuracy: 85.9375%\n"
          ]
        },
        {
          "output_type": "stream",
          "name": "stderr",
          "text": [
            "Epoch 3:  76%|███████▌  | 572/751 [00:17<00:04, 37.07batch/s, accuracy=95.3125%, loss=0.194]"
          ]
        },
        {
          "output_type": "stream",
          "name": "stdout",
          "text": [
            "GB | Epoch 3 | Loss: 0.31415900588035583 | Accuracy: 90.625%\n",
            "GB | Epoch 3 | Loss: 0.25740158557891846 | Accuracy: 92.1875%\n",
            "GB | Epoch 3 | Loss: 0.21698418259620667 | Accuracy: 92.1875%\n",
            "GB | Epoch 3 | Loss: 0.3053668141365051 | Accuracy: 92.1875%\n",
            "GB | Epoch 3 | Loss: 0.30909422039985657 | Accuracy: 95.3125%\n",
            "GB | Epoch 3 | Loss: 0.21842528879642487 | Accuracy: 89.0625%\n",
            "GB | Epoch 3 | Loss: 0.32154610753059387 | Accuracy: 92.1875%\n",
            "GB | Epoch 3 | Loss: 0.19396157562732697 | Accuracy: 95.3125%\n"
          ]
        },
        {
          "output_type": "stream",
          "name": "stderr",
          "text": [
            "Epoch 3:  77%|███████▋  | 580/751 [00:17<00:04, 36.01batch/s, accuracy=84.375%, loss=0.451]"
          ]
        },
        {
          "output_type": "stream",
          "name": "stdout",
          "text": [
            "GB | Epoch 3 | Loss: 0.21324506402015686 | Accuracy: 92.1875%\n",
            "GB | Epoch 3 | Loss: 0.5078603625297546 | Accuracy: 84.375%\n",
            "GB | Epoch 3 | Loss: 0.20849671959877014 | Accuracy: 93.75%\n",
            "GB | Epoch 3 | Loss: 0.4507908523082733 | Accuracy: 87.5%\n",
            "GB | Epoch 3 | Loss: 0.34064817428588867 | Accuracy: 89.0625%\n",
            "GB | Epoch 3 | Loss: 0.22380666434764862 | Accuracy: 93.75%\n",
            "GB | Epoch 3 | Loss: 0.2529297471046448 | Accuracy: 87.5%\n",
            "GB | Epoch 3 | Loss: 0.4513704776763916 | Accuracy: 84.375%\n"
          ]
        },
        {
          "output_type": "stream",
          "name": "stderr",
          "text": [
            "Epoch 3:  78%|███████▊  | 584/751 [00:17<00:04, 33.84batch/s, accuracy=95.3125%, loss=0.294]"
          ]
        },
        {
          "output_type": "stream",
          "name": "stdout",
          "text": [
            "GB | Epoch 3 | Loss: 0.4314579665660858 | Accuracy: 84.375%\n",
            "GB | Epoch 3 | Loss: 0.20335915684700012 | Accuracy: 96.875%\n",
            "GB | Epoch 3 | Loss: 0.635588526725769 | Accuracy: 81.25%\n",
            "GB | Epoch 3 | Loss: 0.3885716199874878 | Accuracy: 89.0625%\n",
            "GB | Epoch 3 | Loss: 0.3474690914154053 | Accuracy: 85.9375%\n",
            "GB | Epoch 3 | Loss: 0.23922502994537354 | Accuracy: 92.1875%\n",
            "GB | Epoch 3 | Loss: 0.29445791244506836 | Accuracy: 95.3125%\n"
          ]
        },
        {
          "output_type": "stream",
          "name": "stderr",
          "text": [
            "Epoch 3:  79%|███████▉  | 592/751 [00:17<00:04, 34.66batch/s, accuracy=90.625%, loss=0.463] "
          ]
        },
        {
          "output_type": "stream",
          "name": "stdout",
          "text": [
            "GB | Epoch 3 | Loss: 0.30159804224967957 | Accuracy: 89.0625%\n",
            "GB | Epoch 3 | Loss: 0.29302725195884705 | Accuracy: 90.625%\n",
            "GB | Epoch 3 | Loss: 0.3886251747608185 | Accuracy: 85.9375%\n",
            "GB | Epoch 3 | Loss: 0.37411531805992126 | Accuracy: 84.375%\n",
            "GB | Epoch 3 | Loss: 0.25186941027641296 | Accuracy: 89.0625%\n",
            "GB | Epoch 3 | Loss: 0.3584931492805481 | Accuracy: 93.75%\n",
            "GB | Epoch 3 | Loss: 0.20605407655239105 | Accuracy: 95.3125%\n",
            "GB | Epoch 3 | Loss: 0.46278947591781616 | Accuracy: 90.625%\n"
          ]
        },
        {
          "output_type": "stream",
          "name": "stderr",
          "text": [
            "Epoch 3:  80%|███████▉  | 600/751 [00:18<00:04, 35.91batch/s, accuracy=90.625%, loss=0.292] "
          ]
        },
        {
          "output_type": "stream",
          "name": "stdout",
          "text": [
            "GB | Epoch 3 | Loss: 0.3218827247619629 | Accuracy: 92.1875%\n",
            "GB | Epoch 3 | Loss: 0.2741459310054779 | Accuracy: 90.625%\n",
            "GB | Epoch 3 | Loss: 0.3271663784980774 | Accuracy: 85.9375%\n",
            "GB | Epoch 3 | Loss: 0.2194274365901947 | Accuracy: 92.1875%\n",
            "GB | Epoch 3 | Loss: 0.3088027238845825 | Accuracy: 92.1875%\n",
            "GB | Epoch 3 | Loss: 0.2827734053134918 | Accuracy: 90.625%\n",
            "GB | Epoch 3 | Loss: 0.33902978897094727 | Accuracy: 89.0625%\n",
            "GB | Epoch 3 | Loss: 0.29207339882850647 | Accuracy: 90.625%\n"
          ]
        },
        {
          "output_type": "stream",
          "name": "stderr",
          "text": [
            "Epoch 3:  81%|████████  | 608/751 [00:18<00:03, 37.12batch/s, accuracy=85.9375%, loss=0.396]"
          ]
        },
        {
          "output_type": "stream",
          "name": "stdout",
          "text": [
            "GB | Epoch 3 | Loss: 0.3046483099460602 | Accuracy: 92.1875%\n",
            "GB | Epoch 3 | Loss: 0.28849902749061584 | Accuracy: 85.9375%\n",
            "GB | Epoch 3 | Loss: 0.1820448487997055 | Accuracy: 93.75%\n",
            "GB | Epoch 3 | Loss: 0.20848771929740906 | Accuracy: 92.1875%\n",
            "GB | Epoch 3 | Loss: 0.24869666993618011 | Accuracy: 90.625%\n",
            "GB | Epoch 3 | Loss: 0.3012910783290863 | Accuracy: 92.1875%\n",
            "GB | Epoch 3 | Loss: 0.3432881236076355 | Accuracy: 87.5%\n",
            "GB | Epoch 3 | Loss: 0.3956965506076813 | Accuracy: 85.9375%\n"
          ]
        },
        {
          "output_type": "stream",
          "name": "stderr",
          "text": [
            "Epoch 3:  82%|████████▏ | 616/751 [00:18<00:03, 36.53batch/s, accuracy=96.875%, loss=0.199] "
          ]
        },
        {
          "output_type": "stream",
          "name": "stdout",
          "text": [
            "GB | Epoch 3 | Loss: 0.4059644341468811 | Accuracy: 85.9375%\n",
            "GB | Epoch 3 | Loss: 0.3349783420562744 | Accuracy: 87.5%\n",
            "GB | Epoch 3 | Loss: 0.45474424958229065 | Accuracy: 85.9375%\n",
            "GB | Epoch 3 | Loss: 0.32156902551651 | Accuracy: 89.0625%\n",
            "GB | Epoch 3 | Loss: 0.4204062521457672 | Accuracy: 87.5%\n",
            "GB | Epoch 3 | Loss: 0.3412509560585022 | Accuracy: 92.1875%\n",
            "GB | Epoch 3 | Loss: 0.19878865778446198 | Accuracy: 96.875%\n"
          ]
        },
        {
          "output_type": "stream",
          "name": "stderr",
          "text": [
            "Epoch 3:  83%|████████▎ | 624/751 [00:18<00:03, 34.99batch/s, accuracy=85.9375%, loss=0.36]"
          ]
        },
        {
          "output_type": "stream",
          "name": "stdout",
          "text": [
            "GB | Epoch 3 | Loss: 0.1837281882762909 | Accuracy: 96.875%\n",
            "GB | Epoch 3 | Loss: 0.2918383479118347 | Accuracy: 92.1875%\n",
            "GB | Epoch 3 | Loss: 0.3152095377445221 | Accuracy: 87.5%\n",
            "GB | Epoch 3 | Loss: 0.3807477355003357 | Accuracy: 85.9375%\n",
            "GB | Epoch 3 | Loss: 0.5049573183059692 | Accuracy: 87.5%\n",
            "GB | Epoch 3 | Loss: 0.17589949071407318 | Accuracy: 95.3125%\n",
            "GB | Epoch 3 | Loss: 0.4395061731338501 | Accuracy: 84.375%\n",
            "GB | Epoch 3 | Loss: 0.35988444089889526 | Accuracy: 85.9375%\n"
          ]
        },
        {
          "output_type": "stream",
          "name": "stderr",
          "text": [
            "Epoch 3:  84%|████████▍ | 632/751 [00:19<00:03, 35.94batch/s, accuracy=93.75%, loss=0.172]"
          ]
        },
        {
          "output_type": "stream",
          "name": "stdout",
          "text": [
            "GB | Epoch 3 | Loss: 0.257196307182312 | Accuracy: 92.1875%\n",
            "GB | Epoch 3 | Loss: 0.17313699424266815 | Accuracy: 93.75%\n",
            "GB | Epoch 3 | Loss: 0.24457766115665436 | Accuracy: 90.625%\n",
            "GB | Epoch 3 | Loss: 0.2644294500350952 | Accuracy: 93.75%\n",
            "GB | Epoch 3 | Loss: 0.35984811186790466 | Accuracy: 89.0625%\n",
            "GB | Epoch 3 | Loss: 0.19017137587070465 | Accuracy: 92.1875%\n",
            "GB | Epoch 3 | Loss: 0.24011127650737762 | Accuracy: 90.625%\n",
            "GB | Epoch 3 | Loss: 0.17216025292873383 | Accuracy: 93.75%\n"
          ]
        },
        {
          "output_type": "stream",
          "name": "stderr",
          "text": [
            "Epoch 3:  85%|████████▌ | 640/751 [00:19<00:03, 36.20batch/s, accuracy=89.0625%, loss=0.424]"
          ]
        },
        {
          "output_type": "stream",
          "name": "stdout",
          "text": [
            "GB | Epoch 3 | Loss: 0.20902466773986816 | Accuracy: 93.75%\n",
            "GB | Epoch 3 | Loss: 0.36719468235969543 | Accuracy: 87.5%\n",
            "GB | Epoch 3 | Loss: 0.292206734418869 | Accuracy: 89.0625%\n",
            "GB | Epoch 3 | Loss: 0.21033164858818054 | Accuracy: 92.1875%\n",
            "GB | Epoch 3 | Loss: 0.2519535720348358 | Accuracy: 92.1875%\n",
            "GB | Epoch 3 | Loss: 0.275360643863678 | Accuracy: 90.625%\n",
            "GB | Epoch 3 | Loss: 0.2528268098831177 | Accuracy: 93.75%\n",
            "GB | Epoch 3 | Loss: 0.4236372113227844 | Accuracy: 89.0625%\n"
          ]
        },
        {
          "output_type": "stream",
          "name": "stderr",
          "text": [
            "Epoch 3:  86%|████████▋ | 648/751 [00:19<00:02, 36.51batch/s, accuracy=87.5%, loss=0.39]  "
          ]
        },
        {
          "output_type": "stream",
          "name": "stdout",
          "text": [
            "GB | Epoch 3 | Loss: 0.26520925760269165 | Accuracy: 90.625%\n",
            "GB | Epoch 3 | Loss: 0.36409205198287964 | Accuracy: 89.0625%\n",
            "GB | Epoch 3 | Loss: 0.5190519690513611 | Accuracy: 84.375%\n",
            "GB | Epoch 3 | Loss: 0.3137527108192444 | Accuracy: 85.9375%\n",
            "GB | Epoch 3 | Loss: 0.22320815920829773 | Accuracy: 92.1875%\n",
            "GB | Epoch 3 | Loss: 0.47165557742118835 | Accuracy: 85.9375%\n",
            "GB | Epoch 3 | Loss: 0.19657139480113983 | Accuracy: 93.75%\n",
            "GB | Epoch 3 | Loss: 0.3900163769721985 | Accuracy: 87.5%\n"
          ]
        },
        {
          "output_type": "stream",
          "name": "stderr",
          "text": [
            "Epoch 3:  87%|████████▋ | 656/751 [00:19<00:02, 35.05batch/s, accuracy=93.75%, loss=0.243]"
          ]
        },
        {
          "output_type": "stream",
          "name": "stdout",
          "text": [
            "GB | Epoch 3 | Loss: 0.2988573908805847 | Accuracy: 92.1875%\n",
            "GB | Epoch 3 | Loss: 0.4710705876350403 | Accuracy: 87.5%\n",
            "GB | Epoch 3 | Loss: 0.3804859519004822 | Accuracy: 87.5%\n",
            "GB | Epoch 3 | Loss: 0.20124705135822296 | Accuracy: 95.3125%\n",
            "GB | Epoch 3 | Loss: 0.23762428760528564 | Accuracy: 93.75%\n",
            "GB | Epoch 3 | Loss: 0.28007838129997253 | Accuracy: 92.1875%\n",
            "GB | Epoch 3 | Loss: 0.3043637275695801 | Accuracy: 93.75%\n",
            "GB | Epoch 3 | Loss: 0.24321244657039642 | Accuracy: 93.75%\n"
          ]
        },
        {
          "output_type": "stream",
          "name": "stderr",
          "text": [
            "Epoch 3:  88%|████████▊ | 664/751 [00:19<00:02, 35.57batch/s, accuracy=87.5%, loss=0.43]    "
          ]
        },
        {
          "output_type": "stream",
          "name": "stdout",
          "text": [
            "GB | Epoch 3 | Loss: 0.1827823966741562 | Accuracy: 93.75%\n",
            "GB | Epoch 3 | Loss: 0.38635459542274475 | Accuracy: 85.9375%\n",
            "GB | Epoch 3 | Loss: 0.13885031640529633 | Accuracy: 95.3125%\n",
            "GB | Epoch 3 | Loss: 0.21800990402698517 | Accuracy: 92.1875%\n",
            "GB | Epoch 3 | Loss: 0.27534401416778564 | Accuracy: 90.625%\n",
            "GB | Epoch 3 | Loss: 0.3239046335220337 | Accuracy: 93.75%\n",
            "GB | Epoch 3 | Loss: 0.29199105501174927 | Accuracy: 89.0625%\n",
            "GB | Epoch 3 | Loss: 0.42951762676239014 | Accuracy: 87.5%\n"
          ]
        },
        {
          "output_type": "stream",
          "name": "stderr",
          "text": [
            "Epoch 3:  89%|████████▉ | 672/751 [00:20<00:02, 34.82batch/s, accuracy=89.0625%, loss=0.352]"
          ]
        },
        {
          "output_type": "stream",
          "name": "stdout",
          "text": [
            "GB | Epoch 3 | Loss: 0.3623672127723694 | Accuracy: 89.0625%\n",
            "GB | Epoch 3 | Loss: 0.4322804808616638 | Accuracy: 85.9375%\n",
            "GB | Epoch 3 | Loss: 0.1980571746826172 | Accuracy: 93.75%\n",
            "GB | Epoch 3 | Loss: 0.3035518527030945 | Accuracy: 89.0625%\n",
            "GB | Epoch 3 | Loss: 0.2675723135471344 | Accuracy: 89.0625%\n",
            "GB | Epoch 3 | Loss: 0.25572869181632996 | Accuracy: 90.625%\n",
            "GB | Epoch 3 | Loss: 0.3523409366607666 | Accuracy: 89.0625%\n"
          ]
        },
        {
          "output_type": "stream",
          "name": "stderr",
          "text": [
            "Epoch 3:  90%|█████████ | 676/751 [00:20<00:02, 33.08batch/s, accuracy=96.875%, loss=0.222] "
          ]
        },
        {
          "output_type": "stream",
          "name": "stdout",
          "text": [
            "GB | Epoch 3 | Loss: 0.33110520243644714 | Accuracy: 87.5%\n",
            "GB | Epoch 3 | Loss: 0.6146730184555054 | Accuracy: 79.6875%\n",
            "GB | Epoch 3 | Loss: 0.3543531000614166 | Accuracy: 85.9375%\n",
            "GB | Epoch 3 | Loss: 0.3591744899749756 | Accuracy: 90.625%\n",
            "GB | Epoch 3 | Loss: 0.3740132451057434 | Accuracy: 89.0625%\n",
            "GB | Epoch 3 | Loss: 0.2221049815416336 | Accuracy: 96.875%\n"
          ]
        },
        {
          "output_type": "stream",
          "name": "stderr",
          "text": [
            "Epoch 3:  91%|█████████ | 684/751 [00:20<00:02, 28.75batch/s, accuracy=87.5%, loss=0.271]"
          ]
        },
        {
          "output_type": "stream",
          "name": "stdout",
          "text": [
            "GB | Epoch 3 | Loss: 0.26731517910957336 | Accuracy: 92.1875%\n",
            "GB | Epoch 3 | Loss: 0.21590960025787354 | Accuracy: 93.75%\n",
            "GB | Epoch 3 | Loss: 0.3053534924983978 | Accuracy: 87.5%\n",
            "GB | Epoch 3 | Loss: 0.36122646927833557 | Accuracy: 92.1875%\n",
            "GB | Epoch 3 | Loss: 0.27059119939804077 | Accuracy: 87.5%\n"
          ]
        },
        {
          "output_type": "stream",
          "name": "stderr",
          "text": [
            "Epoch 3:  92%|█████████▏| 690/751 [00:20<00:02, 27.18batch/s, accuracy=98.4375%, loss=0.136]"
          ]
        },
        {
          "output_type": "stream",
          "name": "stdout",
          "text": [
            "GB | Epoch 3 | Loss: 0.21946734189987183 | Accuracy: 89.0625%\n",
            "GB | Epoch 3 | Loss: 0.20841065049171448 | Accuracy: 90.625%\n",
            "GB | Epoch 3 | Loss: 0.3007276654243469 | Accuracy: 85.9375%\n",
            "GB | Epoch 3 | Loss: 0.17437691986560822 | Accuracy: 96.875%\n",
            "GB | Epoch 3 | Loss: 0.3465493619441986 | Accuracy: 84.375%\n",
            "GB | Epoch 3 | Loss: 0.13574838638305664 | Accuracy: 98.4375%\n"
          ]
        },
        {
          "output_type": "stream",
          "name": "stderr",
          "text": [
            "Epoch 3:  93%|█████████▎| 696/751 [00:21<00:02, 26.78batch/s, accuracy=92.1875%, loss=0.295]"
          ]
        },
        {
          "output_type": "stream",
          "name": "stdout",
          "text": [
            "GB | Epoch 3 | Loss: 0.47982126474380493 | Accuracy: 87.5%\n",
            "GB | Epoch 3 | Loss: 0.31689774990081787 | Accuracy: 89.0625%\n",
            "GB | Epoch 3 | Loss: 0.18732641637325287 | Accuracy: 92.1875%\n",
            "GB | Epoch 3 | Loss: 0.3280588388442993 | Accuracy: 89.0625%\n",
            "GB | Epoch 3 | Loss: 0.28979671001434326 | Accuracy: 92.1875%\n",
            "GB | Epoch 3 | Loss: 0.29456761479377747 | Accuracy: 92.1875%\n"
          ]
        },
        {
          "output_type": "stream",
          "name": "stderr",
          "text": [
            "Epoch 3:  93%|█████████▎| 702/751 [00:21<00:01, 27.99batch/s, accuracy=85.9375%, loss=0.327]"
          ]
        },
        {
          "output_type": "stream",
          "name": "stdout",
          "text": [
            "GB | Epoch 3 | Loss: 0.26907065510749817 | Accuracy: 92.1875%\n",
            "GB | Epoch 3 | Loss: 0.3319355547428131 | Accuracy: 89.0625%\n",
            "GB | Epoch 3 | Loss: 0.2845045328140259 | Accuracy: 92.1875%\n",
            "GB | Epoch 3 | Loss: 0.24053087830543518 | Accuracy: 92.1875%\n",
            "GB | Epoch 3 | Loss: 0.28630831837654114 | Accuracy: 87.5%\n",
            "GB | Epoch 3 | Loss: 0.2001924216747284 | Accuracy: 92.1875%\n",
            "GB | Epoch 3 | Loss: 0.3267700672149658 | Accuracy: 85.9375%\n"
          ]
        },
        {
          "output_type": "stream",
          "name": "stderr",
          "text": [
            "Epoch 3:  94%|█████████▍| 706/751 [00:21<00:01, 28.30batch/s, accuracy=85.9375%, loss=0.373]"
          ]
        },
        {
          "output_type": "stream",
          "name": "stdout",
          "text": [
            "GB | Epoch 3 | Loss: 0.23403239250183105 | Accuracy: 89.0625%\n",
            "GB | Epoch 3 | Loss: 0.30955585837364197 | Accuracy: 89.0625%\n",
            "GB | Epoch 3 | Loss: 0.2453199326992035 | Accuracy: 92.1875%\n",
            "GB | Epoch 3 | Loss: 0.2483808994293213 | Accuracy: 95.3125%\n",
            "GB | Epoch 3 | Loss: 0.3249477446079254 | Accuracy: 85.9375%\n",
            "GB | Epoch 3 | Loss: 0.37271133065223694 | Accuracy: 85.9375%\n"
          ]
        },
        {
          "output_type": "stream",
          "name": "stderr",
          "text": [
            "Epoch 3:  95%|█████████▌| 714/751 [00:21<00:01, 29.21batch/s, accuracy=89.0625%, loss=0.302]"
          ]
        },
        {
          "output_type": "stream",
          "name": "stdout",
          "text": [
            "GB | Epoch 3 | Loss: 0.19788558781147003 | Accuracy: 95.3125%\n",
            "GB | Epoch 3 | Loss: 0.24914605915546417 | Accuracy: 87.5%\n",
            "GB | Epoch 3 | Loss: 0.2750781178474426 | Accuracy: 89.0625%\n",
            "GB | Epoch 3 | Loss: 0.25086095929145813 | Accuracy: 92.1875%\n",
            "GB | Epoch 3 | Loss: 0.33757638931274414 | Accuracy: 92.1875%\n",
            "GB | Epoch 3 | Loss: 0.2452324479818344 | Accuracy: 90.625%\n",
            "GB | Epoch 3 | Loss: 0.30191925168037415 | Accuracy: 89.0625%\n"
          ]
        },
        {
          "output_type": "stream",
          "name": "stderr",
          "text": [
            "Epoch 3:  96%|█████████▌| 722/751 [00:21<00:00, 31.53batch/s, accuracy=92.1875%, loss=0.268]"
          ]
        },
        {
          "output_type": "stream",
          "name": "stdout",
          "text": [
            "GB | Epoch 3 | Loss: 0.3650051951408386 | Accuracy: 87.5%\n",
            "GB | Epoch 3 | Loss: 0.32339417934417725 | Accuracy: 87.5%\n",
            "GB | Epoch 3 | Loss: 0.19437867403030396 | Accuracy: 92.1875%\n",
            "GB | Epoch 3 | Loss: 0.21105150878429413 | Accuracy: 93.75%\n",
            "GB | Epoch 3 | Loss: 0.26973220705986023 | Accuracy: 92.1875%\n",
            "GB | Epoch 3 | Loss: 0.2473117560148239 | Accuracy: 93.75%\n",
            "GB | Epoch 3 | Loss: 0.2679772675037384 | Accuracy: 92.1875%\n"
          ]
        },
        {
          "output_type": "stream",
          "name": "stderr",
          "text": [
            "Epoch 3:  97%|█████████▋| 730/751 [00:22<00:00, 31.00batch/s, accuracy=93.75%, loss=0.394]"
          ]
        },
        {
          "output_type": "stream",
          "name": "stdout",
          "text": [
            "GB | Epoch 3 | Loss: 0.24067185819149017 | Accuracy: 93.75%\n",
            "GB | Epoch 3 | Loss: 0.16754445433616638 | Accuracy: 93.75%\n",
            "GB | Epoch 3 | Loss: 0.5367805361747742 | Accuracy: 82.8125%\n",
            "GB | Epoch 3 | Loss: 0.23946340382099152 | Accuracy: 95.3125%\n",
            "GB | Epoch 3 | Loss: 0.23065173625946045 | Accuracy: 90.625%\n",
            "GB | Epoch 3 | Loss: 0.22790251672267914 | Accuracy: 95.3125%\n",
            "GB | Epoch 3 | Loss: 0.39380401372909546 | Accuracy: 93.75%\n"
          ]
        },
        {
          "output_type": "stream",
          "name": "stderr",
          "text": [
            "Epoch 3:  98%|█████████▊| 734/751 [00:22<00:00, 30.82batch/s, accuracy=90.625%, loss=0.254]"
          ]
        },
        {
          "output_type": "stream",
          "name": "stdout",
          "text": [
            "GB | Epoch 3 | Loss: 0.2516837418079376 | Accuracy: 90.625%\n",
            "GB | Epoch 3 | Loss: 0.2913207709789276 | Accuracy: 90.625%\n",
            "GB | Epoch 3 | Loss: 0.3489878475666046 | Accuracy: 85.9375%\n",
            "GB | Epoch 3 | Loss: 0.27826306223869324 | Accuracy: 92.1875%\n",
            "GB | Epoch 3 | Loss: 0.24478483200073242 | Accuracy: 93.75%\n",
            "GB | Epoch 3 | Loss: 0.2541770339012146 | Accuracy: 90.625%\n"
          ]
        },
        {
          "output_type": "stream",
          "name": "stderr",
          "text": [
            "Epoch 3:  99%|█████████▊| 741/751 [00:22<00:00, 27.82batch/s, accuracy=89.0625%, loss=0.282]"
          ]
        },
        {
          "output_type": "stream",
          "name": "stdout",
          "text": [
            "GB | Epoch 3 | Loss: 0.2101573348045349 | Accuracy: 92.1875%\n",
            "GB | Epoch 3 | Loss: 0.1636543571949005 | Accuracy: 93.75%\n",
            "GB | Epoch 3 | Loss: 0.36539456248283386 | Accuracy: 87.5%\n",
            "GB | Epoch 3 | Loss: 0.30827128887176514 | Accuracy: 89.0625%\n",
            "GB | Epoch 3 | Loss: 0.2815926969051361 | Accuracy: 89.0625%\n"
          ]
        },
        {
          "output_type": "stream",
          "name": "stderr",
          "text": [
            "Epoch 3: 100%|█████████▉| 748/751 [00:22<00:00, 30.10batch/s, accuracy=89.0625%, loss=0.239]"
          ]
        },
        {
          "output_type": "stream",
          "name": "stdout",
          "text": [
            "GB | Epoch 3 | Loss: 0.27193787693977356 | Accuracy: 90.625%\n",
            "GB | Epoch 3 | Loss: 0.2603658437728882 | Accuracy: 90.625%\n",
            "GB | Epoch 3 | Loss: 0.337975412607193 | Accuracy: 85.9375%\n",
            "GB | Epoch 3 | Loss: 0.28642717003822327 | Accuracy: 92.1875%\n",
            "GB | Epoch 3 | Loss: 0.20723162591457367 | Accuracy: 90.625%\n",
            "GB | Epoch 3 | Loss: 0.2285284847021103 | Accuracy: 95.3125%\n",
            "GB | Epoch 3 | Loss: 0.239487886428833 | Accuracy: 89.0625%\n"
          ]
        },
        {
          "output_type": "stream",
          "name": "stderr",
          "text": [
            "Epoch 3: 100%|█████████▉| 748/751 [00:22<00:00, 30.10batch/s, accuracy=100.0%, loss=0.0369]"
          ]
        },
        {
          "output_type": "stream",
          "name": "stdout",
          "text": [
            "GB | Epoch 3 | Loss: 0.3268527090549469 | Accuracy: 87.5%\n",
            "GB | Epoch 3 | Loss: 0.45917564630508423 | Accuracy: 90.625%\n",
            "GB | Epoch 3 | Loss: 0.03686972334980965 | Accuracy: 100.0%\n"
          ]
        },
        {
          "output_type": "stream",
          "name": "stderr",
          "text": [
            "Epoch 3: 100%|██████████| 751/751 [00:23<00:00, 32.46batch/s, accuracy=100.0%, loss=0.0369]\n",
            "Epoch 4:   1%|          | 4/751 [00:00<01:27,  8.51batch/s, accuracy=92.1875%, loss=0.231]"
          ]
        },
        {
          "output_type": "stream",
          "name": "stdout",
          "text": [
            "GB | Epoch 4 | Loss: 0.24298140406608582 | Accuracy: 90.625%\n",
            "GB | Epoch 4 | Loss: 0.27113449573516846 | Accuracy: 93.75%\n",
            "GB | Epoch 4 | Loss: 0.6149712800979614 | Accuracy: 85.9375%\n",
            "GB | Epoch 4 | Loss: 0.32947811484336853 | Accuracy: 90.625%\n",
            "GB | Epoch 4 | Loss: 0.23106230795383453 | Accuracy: 92.1875%\n"
          ]
        },
        {
          "output_type": "stream",
          "name": "stderr",
          "text": [
            "Epoch 4:   1%|▏         | 10/751 [00:00<00:44, 16.50batch/s, accuracy=93.75%, loss=0.222]"
          ]
        },
        {
          "output_type": "stream",
          "name": "stdout",
          "text": [
            "GB | Epoch 4 | Loss: 0.19322256743907928 | Accuracy: 92.1875%\n",
            "GB | Epoch 4 | Loss: 0.17151059210300446 | Accuracy: 96.875%\n",
            "GB | Epoch 4 | Loss: 0.2801949381828308 | Accuracy: 89.0625%\n",
            "GB | Epoch 4 | Loss: 0.28322073817253113 | Accuracy: 90.625%\n",
            "GB | Epoch 4 | Loss: 0.2224508821964264 | Accuracy: 93.75%\n"
          ]
        },
        {
          "output_type": "stream",
          "name": "stderr",
          "text": [
            "Epoch 4:   2%|▏         | 13/751 [00:01<00:40, 18.18batch/s, accuracy=96.875%, loss=0.134] "
          ]
        },
        {
          "output_type": "stream",
          "name": "stdout",
          "text": [
            "GB | Epoch 4 | Loss: 0.26042839884757996 | Accuracy: 90.625%\n",
            "GB | Epoch 4 | Loss: 0.2754114270210266 | Accuracy: 92.1875%\n",
            "GB | Epoch 4 | Loss: 0.2998492121696472 | Accuracy: 92.1875%\n",
            "GB | Epoch 4 | Loss: 0.33228960633277893 | Accuracy: 92.1875%\n",
            "GB | Epoch 4 | Loss: 0.13414247334003448 | Accuracy: 96.875%\n"
          ]
        },
        {
          "output_type": "stream",
          "name": "stderr",
          "text": [
            "Epoch 4:   3%|▎         | 19/751 [00:01<00:31, 22.92batch/s, accuracy=87.5%, loss=0.241]  "
          ]
        },
        {
          "output_type": "stream",
          "name": "stdout",
          "text": [
            "GB | Epoch 4 | Loss: 0.252645879983902 | Accuracy: 93.75%\n",
            "GB | Epoch 4 | Loss: 0.22429004311561584 | Accuracy: 92.1875%\n",
            "GB | Epoch 4 | Loss: 0.2654055655002594 | Accuracy: 90.625%\n",
            "GB | Epoch 4 | Loss: 0.14616107940673828 | Accuracy: 96.875%\n",
            "GB | Epoch 4 | Loss: 0.2232239544391632 | Accuracy: 89.0625%\n",
            "GB | Epoch 4 | Loss: 0.23194104433059692 | Accuracy: 93.75%\n",
            "GB | Epoch 4 | Loss: 0.3623802363872528 | Accuracy: 90.625%\n"
          ]
        },
        {
          "output_type": "stream",
          "name": "stderr",
          "text": [
            "Epoch 4:   4%|▎         | 27/751 [00:01<00:25, 28.26batch/s, accuracy=89.0625%, loss=0.346]"
          ]
        },
        {
          "output_type": "stream",
          "name": "stdout",
          "text": [
            "GB | Epoch 4 | Loss: 0.24126476049423218 | Accuracy: 87.5%\n",
            "GB | Epoch 4 | Loss: 0.4040651321411133 | Accuracy: 90.625%\n",
            "GB | Epoch 4 | Loss: 0.3271767795085907 | Accuracy: 89.0625%\n",
            "GB | Epoch 4 | Loss: 0.17292256653308868 | Accuracy: 95.3125%\n",
            "GB | Epoch 4 | Loss: 0.36023983359336853 | Accuracy: 85.9375%\n",
            "GB | Epoch 4 | Loss: 0.1448240876197815 | Accuracy: 93.75%\n",
            "GB | Epoch 4 | Loss: 0.34610515832901 | Accuracy: 89.0625%\n"
          ]
        },
        {
          "output_type": "stream",
          "name": "stderr",
          "text": [
            "Epoch 4:   5%|▍         | 35/751 [00:01<00:22, 31.90batch/s, accuracy=90.625%, loss=0.291] "
          ]
        },
        {
          "output_type": "stream",
          "name": "stdout",
          "text": [
            "GB | Epoch 4 | Loss: 0.3881918489933014 | Accuracy: 84.375%\n",
            "GB | Epoch 4 | Loss: 0.2523764669895172 | Accuracy: 90.625%\n",
            "GB | Epoch 4 | Loss: 0.3076331317424774 | Accuracy: 87.5%\n",
            "GB | Epoch 4 | Loss: 0.43266695737838745 | Accuracy: 87.5%\n",
            "GB | Epoch 4 | Loss: 0.355339378118515 | Accuracy: 89.0625%\n",
            "GB | Epoch 4 | Loss: 0.31978389620780945 | Accuracy: 89.0625%\n",
            "GB | Epoch 4 | Loss: 0.26323971152305603 | Accuracy: 92.1875%\n",
            "GB | Epoch 4 | Loss: 0.29066190123558044 | Accuracy: 90.625%\n"
          ]
        },
        {
          "output_type": "stream",
          "name": "stderr",
          "text": [
            "Epoch 4:   6%|▌         | 43/751 [00:01<00:20, 33.90batch/s, accuracy=95.3125%, loss=0.177]"
          ]
        },
        {
          "output_type": "stream",
          "name": "stdout",
          "text": [
            "GB | Epoch 4 | Loss: 0.29762837290763855 | Accuracy: 93.75%\n",
            "GB | Epoch 4 | Loss: 0.37572401762008667 | Accuracy: 89.0625%\n",
            "GB | Epoch 4 | Loss: 0.28872162103652954 | Accuracy: 89.0625%\n",
            "GB | Epoch 4 | Loss: 0.17645540833473206 | Accuracy: 92.1875%\n",
            "GB | Epoch 4 | Loss: 0.22537736594676971 | Accuracy: 92.1875%\n",
            "GB | Epoch 4 | Loss: 0.3119082748889923 | Accuracy: 90.625%\n",
            "GB | Epoch 4 | Loss: 0.40813934803009033 | Accuracy: 85.9375%\n",
            "GB | Epoch 4 | Loss: 0.17699621617794037 | Accuracy: 95.3125%\n"
          ]
        },
        {
          "output_type": "stream",
          "name": "stderr",
          "text": [
            "Epoch 4:   7%|▋         | 51/751 [00:02<00:20, 34.10batch/s, accuracy=90.625%, loss=0.275]"
          ]
        },
        {
          "output_type": "stream",
          "name": "stdout",
          "text": [
            "GB | Epoch 4 | Loss: 0.2942450940608978 | Accuracy: 87.5%\n",
            "GB | Epoch 4 | Loss: 0.293791800737381 | Accuracy: 89.0625%\n",
            "GB | Epoch 4 | Loss: 0.1697361022233963 | Accuracy: 95.3125%\n",
            "GB | Epoch 4 | Loss: 0.17793092131614685 | Accuracy: 95.3125%\n",
            "GB | Epoch 4 | Loss: 0.32160651683807373 | Accuracy: 89.0625%\n",
            "GB | Epoch 4 | Loss: 0.1487054079771042 | Accuracy: 96.875%\n",
            "GB | Epoch 4 | Loss: 0.2227754294872284 | Accuracy: 93.75%\n"
          ]
        },
        {
          "output_type": "stream",
          "name": "stderr",
          "text": [
            "Epoch 4:   8%|▊         | 59/751 [00:02<00:19, 34.99batch/s, accuracy=89.0625%, loss=0.313]"
          ]
        },
        {
          "output_type": "stream",
          "name": "stdout",
          "text": [
            "GB | Epoch 4 | Loss: 0.27454546093940735 | Accuracy: 90.625%\n",
            "GB | Epoch 4 | Loss: 0.2734977900981903 | Accuracy: 87.5%\n",
            "GB | Epoch 4 | Loss: 0.4009704887866974 | Accuracy: 82.8125%\n",
            "GB | Epoch 4 | Loss: 0.24337084591388702 | Accuracy: 89.0625%\n",
            "GB | Epoch 4 | Loss: 0.16828249394893646 | Accuracy: 90.625%\n",
            "GB | Epoch 4 | Loss: 0.2498249113559723 | Accuracy: 93.75%\n",
            "GB | Epoch 4 | Loss: 0.31294959783554077 | Accuracy: 89.0625%\n"
          ]
        },
        {
          "output_type": "stream",
          "name": "stderr",
          "text": [
            "Epoch 4:   9%|▉         | 67/751 [00:02<00:19, 34.49batch/s, accuracy=90.625%, loss=0.235]"
          ]
        },
        {
          "output_type": "stream",
          "name": "stdout",
          "text": [
            "GB | Epoch 4 | Loss: 0.516075611114502 | Accuracy: 84.375%\n",
            "GB | Epoch 4 | Loss: 0.29317590594291687 | Accuracy: 90.625%\n",
            "GB | Epoch 4 | Loss: 0.31556883454322815 | Accuracy: 89.0625%\n",
            "GB | Epoch 4 | Loss: 0.2353561371564865 | Accuracy: 93.75%\n",
            "GB | Epoch 4 | Loss: 0.3362117111682892 | Accuracy: 93.75%\n",
            "GB | Epoch 4 | Loss: 0.1846601516008377 | Accuracy: 96.875%\n",
            "GB | Epoch 4 | Loss: 0.4222027063369751 | Accuracy: 84.375%\n",
            "GB | Epoch 4 | Loss: 0.2353900671005249 | Accuracy: 90.625%\n"
          ]
        },
        {
          "output_type": "stream",
          "name": "stderr",
          "text": [
            "Epoch 4:  10%|▉         | 75/751 [00:02<00:18, 36.06batch/s, accuracy=90.625%, loss=0.315]"
          ]
        },
        {
          "output_type": "stream",
          "name": "stdout",
          "text": [
            "GB | Epoch 4 | Loss: 0.3503122329711914 | Accuracy: 92.1875%\n",
            "GB | Epoch 4 | Loss: 0.34834638237953186 | Accuracy: 89.0625%\n",
            "GB | Epoch 4 | Loss: 0.17515262961387634 | Accuracy: 95.3125%\n",
            "GB | Epoch 4 | Loss: 0.21291568875312805 | Accuracy: 95.3125%\n",
            "GB | Epoch 4 | Loss: 0.20436368882656097 | Accuracy: 92.1875%\n",
            "GB | Epoch 4 | Loss: 0.2793719172477722 | Accuracy: 89.0625%\n",
            "GB | Epoch 4 | Loss: 0.323883980512619 | Accuracy: 87.5%\n",
            "GB | Epoch 4 | Loss: 0.3145175874233246 | Accuracy: 90.625%\n"
          ]
        },
        {
          "output_type": "stream",
          "name": "stderr",
          "text": [
            "Epoch 4:  11%|█         | 83/751 [00:02<00:18, 35.75batch/s, accuracy=95.3125%, loss=0.187]"
          ]
        },
        {
          "output_type": "stream",
          "name": "stdout",
          "text": [
            "GB | Epoch 4 | Loss: 0.2947414815425873 | Accuracy: 95.3125%\n",
            "GB | Epoch 4 | Loss: 0.34467726945877075 | Accuracy: 85.9375%\n",
            "GB | Epoch 4 | Loss: 0.41786184906959534 | Accuracy: 82.8125%\n",
            "GB | Epoch 4 | Loss: 0.17433224618434906 | Accuracy: 96.875%\n",
            "GB | Epoch 4 | Loss: 0.18361340463161469 | Accuracy: 93.75%\n",
            "GB | Epoch 4 | Loss: 0.3373049199581146 | Accuracy: 89.0625%\n",
            "GB | Epoch 4 | Loss: 0.1796605885028839 | Accuracy: 93.75%\n",
            "GB | Epoch 4 | Loss: 0.18729948997497559 | Accuracy: 95.3125%\n"
          ]
        },
        {
          "output_type": "stream",
          "name": "stderr",
          "text": [
            "Epoch 4:  12%|█▏        | 91/751 [00:03<00:18, 36.51batch/s, accuracy=93.75%, loss=0.23]"
          ]
        },
        {
          "output_type": "stream",
          "name": "stdout",
          "text": [
            "GB | Epoch 4 | Loss: 0.2937554717063904 | Accuracy: 89.0625%\n",
            "GB | Epoch 4 | Loss: 0.353442519903183 | Accuracy: 89.0625%\n",
            "GB | Epoch 4 | Loss: 0.37253832817077637 | Accuracy: 84.375%\n",
            "GB | Epoch 4 | Loss: 0.28469547629356384 | Accuracy: 90.625%\n",
            "GB | Epoch 4 | Loss: 0.27993303537368774 | Accuracy: 89.0625%\n",
            "GB | Epoch 4 | Loss: 0.3205200135707855 | Accuracy: 84.375%\n",
            "GB | Epoch 4 | Loss: 0.5046517252922058 | Accuracy: 82.8125%\n",
            "GB | Epoch 4 | Loss: 0.23015910387039185 | Accuracy: 93.75%\n"
          ]
        },
        {
          "output_type": "stream",
          "name": "stderr",
          "text": [
            "Epoch 4:  13%|█▎        | 95/751 [00:03<00:18, 36.05batch/s, accuracy=89.0625%, loss=0.33]"
          ]
        },
        {
          "output_type": "stream",
          "name": "stdout",
          "text": [
            "GB | Epoch 4 | Loss: 0.1862683892250061 | Accuracy: 95.3125%\n",
            "GB | Epoch 4 | Loss: 0.10428892076015472 | Accuracy: 98.4375%\n",
            "GB | Epoch 4 | Loss: 0.47371840476989746 | Accuracy: 89.0625%\n",
            "GB | Epoch 4 | Loss: 0.3497484624385834 | Accuracy: 87.5%\n",
            "GB | Epoch 4 | Loss: 0.2711850106716156 | Accuracy: 92.1875%\n",
            "GB | Epoch 4 | Loss: 0.22562383115291595 | Accuracy: 93.75%\n",
            "GB | Epoch 4 | Loss: 0.32994237542152405 | Accuracy: 89.0625%\n"
          ]
        },
        {
          "output_type": "stream",
          "name": "stderr",
          "text": [
            "Epoch 4:  14%|█▎        | 103/751 [00:03<00:18, 34.50batch/s, accuracy=85.9375%, loss=0.321]"
          ]
        },
        {
          "output_type": "stream",
          "name": "stdout",
          "text": [
            "GB | Epoch 4 | Loss: 0.3104614019393921 | Accuracy: 89.0625%\n",
            "GB | Epoch 4 | Loss: 0.20328931510448456 | Accuracy: 95.3125%\n",
            "GB | Epoch 4 | Loss: 0.21416139602661133 | Accuracy: 93.75%\n",
            "GB | Epoch 4 | Loss: 0.33463940024375916 | Accuracy: 87.5%\n",
            "GB | Epoch 4 | Loss: 0.19149291515350342 | Accuracy: 92.1875%\n",
            "GB | Epoch 4 | Loss: 0.40392112731933594 | Accuracy: 81.25%\n",
            "GB | Epoch 4 | Loss: 0.15277409553527832 | Accuracy: 98.4375%\n",
            "GB | Epoch 4 | Loss: 0.321120947599411 | Accuracy: 85.9375%\n"
          ]
        },
        {
          "output_type": "stream",
          "name": "stderr",
          "text": [
            "Epoch 4:  15%|█▍        | 111/751 [00:03<00:18, 35.52batch/s, accuracy=92.1875%, loss=0.204]"
          ]
        },
        {
          "output_type": "stream",
          "name": "stdout",
          "text": [
            "GB | Epoch 4 | Loss: 0.3502632975578308 | Accuracy: 89.0625%\n",
            "GB | Epoch 4 | Loss: 0.21300803124904633 | Accuracy: 93.75%\n",
            "GB | Epoch 4 | Loss: 0.42320874333381653 | Accuracy: 89.0625%\n",
            "GB | Epoch 4 | Loss: 0.32012826204299927 | Accuracy: 92.1875%\n",
            "GB | Epoch 4 | Loss: 0.2153550535440445 | Accuracy: 93.75%\n",
            "GB | Epoch 4 | Loss: 0.20890986919403076 | Accuracy: 92.1875%\n",
            "GB | Epoch 4 | Loss: 0.17011602222919464 | Accuracy: 96.875%\n",
            "GB | Epoch 4 | Loss: 0.20420582592487335 | Accuracy: 92.1875%\n"
          ]
        },
        {
          "output_type": "stream",
          "name": "stderr",
          "text": [
            "Epoch 4:  16%|█▌        | 119/751 [00:04<00:17, 35.48batch/s, accuracy=96.875%, loss=0.186] "
          ]
        },
        {
          "output_type": "stream",
          "name": "stdout",
          "text": [
            "GB | Epoch 4 | Loss: 0.3438529372215271 | Accuracy: 89.0625%\n",
            "GB | Epoch 4 | Loss: 0.3074502646923065 | Accuracy: 90.625%\n",
            "GB | Epoch 4 | Loss: 0.39818617701530457 | Accuracy: 87.5%\n",
            "GB | Epoch 4 | Loss: 0.19206787645816803 | Accuracy: 96.875%\n",
            "GB | Epoch 4 | Loss: 0.28263798356056213 | Accuracy: 90.625%\n",
            "GB | Epoch 4 | Loss: 0.17431078851222992 | Accuracy: 95.3125%\n",
            "GB | Epoch 4 | Loss: 0.18550945818424225 | Accuracy: 96.875%\n"
          ]
        },
        {
          "output_type": "stream",
          "name": "stderr",
          "text": [
            "Epoch 4:  17%|█▋        | 127/751 [00:04<00:17, 34.86batch/s, accuracy=87.5%, loss=0.287] "
          ]
        },
        {
          "output_type": "stream",
          "name": "stdout",
          "text": [
            "GB | Epoch 4 | Loss: 0.32387906312942505 | Accuracy: 90.625%\n",
            "GB | Epoch 4 | Loss: 0.2123022973537445 | Accuracy: 96.875%\n",
            "GB | Epoch 4 | Loss: 0.2190898358821869 | Accuracy: 96.875%\n",
            "GB | Epoch 4 | Loss: 0.36959344148635864 | Accuracy: 89.0625%\n",
            "GB | Epoch 4 | Loss: 0.22290486097335815 | Accuracy: 90.625%\n",
            "GB | Epoch 4 | Loss: 0.24907127022743225 | Accuracy: 87.5%\n",
            "GB | Epoch 4 | Loss: 0.20652203261852264 | Accuracy: 93.75%\n",
            "GB | Epoch 4 | Loss: 0.28692740201950073 | Accuracy: 87.5%\n"
          ]
        },
        {
          "output_type": "stream",
          "name": "stderr",
          "text": [
            "Epoch 4:  18%|█▊        | 135/751 [00:04<00:17, 34.23batch/s, accuracy=85.9375%, loss=0.456]"
          ]
        },
        {
          "output_type": "stream",
          "name": "stdout",
          "text": [
            "GB | Epoch 4 | Loss: 0.3663349747657776 | Accuracy: 89.0625%\n",
            "GB | Epoch 4 | Loss: 0.21230757236480713 | Accuracy: 92.1875%\n",
            "GB | Epoch 4 | Loss: 0.31015121936798096 | Accuracy: 89.0625%\n",
            "GB | Epoch 4 | Loss: 0.3098556101322174 | Accuracy: 90.625%\n",
            "GB | Epoch 4 | Loss: 0.2460489273071289 | Accuracy: 85.9375%\n",
            "GB | Epoch 4 | Loss: 0.2079073041677475 | Accuracy: 95.3125%\n",
            "GB | Epoch 4 | Loss: 0.4562373459339142 | Accuracy: 85.9375%\n"
          ]
        },
        {
          "output_type": "stream",
          "name": "stderr",
          "text": [
            "Epoch 4:  19%|█▉        | 143/751 [00:04<00:16, 36.20batch/s, accuracy=90.625%, loss=0.28]  "
          ]
        },
        {
          "output_type": "stream",
          "name": "stdout",
          "text": [
            "GB | Epoch 4 | Loss: 0.41878649592399597 | Accuracy: 92.1875%\n",
            "GB | Epoch 4 | Loss: 0.21057173609733582 | Accuracy: 93.75%\n",
            "GB | Epoch 4 | Loss: 0.3066978454589844 | Accuracy: 87.5%\n",
            "GB | Epoch 4 | Loss: 0.18778322637081146 | Accuracy: 92.1875%\n",
            "GB | Epoch 4 | Loss: 0.5347115993499756 | Accuracy: 82.8125%\n",
            "GB | Epoch 4 | Loss: 0.24713626503944397 | Accuracy: 92.1875%\n",
            "GB | Epoch 4 | Loss: 0.23273126780986786 | Accuracy: 92.1875%\n",
            "GB | Epoch 4 | Loss: 0.28033357858657837 | Accuracy: 90.625%\n"
          ]
        },
        {
          "output_type": "stream",
          "name": "stderr",
          "text": [
            "Epoch 4:  20%|██        | 151/751 [00:04<00:16, 36.58batch/s, accuracy=100.0%, loss=0.075]  "
          ]
        },
        {
          "output_type": "stream",
          "name": "stdout",
          "text": [
            "GB | Epoch 4 | Loss: 0.2659847140312195 | Accuracy: 95.3125%\n",
            "GB | Epoch 4 | Loss: 0.30661267042160034 | Accuracy: 90.625%\n",
            "GB | Epoch 4 | Loss: 0.2350931018590927 | Accuracy: 92.1875%\n",
            "GB | Epoch 4 | Loss: 0.20930448174476624 | Accuracy: 89.0625%\n",
            "GB | Epoch 4 | Loss: 0.2823149561882019 | Accuracy: 89.0625%\n",
            "GB | Epoch 4 | Loss: 0.28976720571517944 | Accuracy: 89.0625%\n",
            "GB | Epoch 4 | Loss: 0.2351721078157425 | Accuracy: 89.0625%\n",
            "GB | Epoch 4 | Loss: 0.07495629042387009 | Accuracy: 100.0%\n"
          ]
        },
        {
          "output_type": "stream",
          "name": "stderr",
          "text": [
            "Epoch 4:  21%|██        | 159/751 [00:05<00:16, 35.49batch/s, accuracy=93.75%, loss=0.223]  "
          ]
        },
        {
          "output_type": "stream",
          "name": "stdout",
          "text": [
            "GB | Epoch 4 | Loss: 0.3792787492275238 | Accuracy: 87.5%\n",
            "GB | Epoch 4 | Loss: 0.4528205692768097 | Accuracy: 85.9375%\n",
            "GB | Epoch 4 | Loss: 0.46637672185897827 | Accuracy: 85.9375%\n",
            "GB | Epoch 4 | Loss: 0.28683042526245117 | Accuracy: 90.625%\n",
            "GB | Epoch 4 | Loss: 0.18840987980365753 | Accuracy: 93.75%\n",
            "GB | Epoch 4 | Loss: 0.2520839273929596 | Accuracy: 87.5%\n",
            "GB | Epoch 4 | Loss: 0.14349007606506348 | Accuracy: 98.4375%\n",
            "GB | Epoch 4 | Loss: 0.2226942926645279 | Accuracy: 93.75%\n"
          ]
        },
        {
          "output_type": "stream",
          "name": "stderr",
          "text": [
            "Epoch 4:  22%|██▏       | 167/751 [00:05<00:16, 34.52batch/s, accuracy=92.1875%, loss=0.26]"
          ]
        },
        {
          "output_type": "stream",
          "name": "stdout",
          "text": [
            "GB | Epoch 4 | Loss: 0.2692629396915436 | Accuracy: 89.0625%\n",
            "GB | Epoch 4 | Loss: 0.31308218836784363 | Accuracy: 89.0625%\n",
            "GB | Epoch 4 | Loss: 0.236152783036232 | Accuracy: 90.625%\n",
            "GB | Epoch 4 | Loss: 0.279030978679657 | Accuracy: 87.5%\n",
            "GB | Epoch 4 | Loss: 0.30261778831481934 | Accuracy: 89.0625%\n",
            "GB | Epoch 4 | Loss: 0.26963794231414795 | Accuracy: 87.5%\n",
            "GB | Epoch 4 | Loss: 0.2601572871208191 | Accuracy: 92.1875%\n"
          ]
        },
        {
          "output_type": "stream",
          "name": "stderr",
          "text": [
            "Epoch 4:  23%|██▎       | 175/751 [00:05<00:16, 34.41batch/s, accuracy=85.9375%, loss=0.311]"
          ]
        },
        {
          "output_type": "stream",
          "name": "stdout",
          "text": [
            "GB | Epoch 4 | Loss: 0.16138051450252533 | Accuracy: 93.75%\n",
            "GB | Epoch 4 | Loss: 0.2874605059623718 | Accuracy: 89.0625%\n",
            "GB | Epoch 4 | Loss: 0.34315934777259827 | Accuracy: 90.625%\n",
            "GB | Epoch 4 | Loss: 0.2088233232498169 | Accuracy: 92.1875%\n",
            "GB | Epoch 4 | Loss: 0.4302506744861603 | Accuracy: 87.5%\n",
            "GB | Epoch 4 | Loss: 0.38000306487083435 | Accuracy: 89.0625%\n",
            "GB | Epoch 4 | Loss: 0.4266386926174164 | Accuracy: 87.5%\n",
            "GB | Epoch 4 | Loss: 0.31121698021888733 | Accuracy: 85.9375%\n"
          ]
        },
        {
          "output_type": "stream",
          "name": "stderr",
          "text": [
            "Epoch 4:  24%|██▍       | 183/751 [00:05<00:15, 36.00batch/s, accuracy=92.1875%, loss=0.203]"
          ]
        },
        {
          "output_type": "stream",
          "name": "stdout",
          "text": [
            "GB | Epoch 4 | Loss: 0.2181916981935501 | Accuracy: 90.625%\n",
            "GB | Epoch 4 | Loss: 0.21597248315811157 | Accuracy: 92.1875%\n",
            "GB | Epoch 4 | Loss: 0.2505684494972229 | Accuracy: 92.1875%\n",
            "GB | Epoch 4 | Loss: 0.18713724613189697 | Accuracy: 93.75%\n",
            "GB | Epoch 4 | Loss: 0.253414511680603 | Accuracy: 92.1875%\n",
            "GB | Epoch 4 | Loss: 0.2299087792634964 | Accuracy: 90.625%\n",
            "GB | Epoch 4 | Loss: 0.14123979210853577 | Accuracy: 95.3125%\n",
            "GB | Epoch 4 | Loss: 0.2027539759874344 | Accuracy: 92.1875%\n"
          ]
        },
        {
          "output_type": "stream",
          "name": "stderr",
          "text": [
            "Epoch 4:  25%|██▌       | 191/751 [00:06<00:15, 35.95batch/s, accuracy=84.375%, loss=0.523]"
          ]
        },
        {
          "output_type": "stream",
          "name": "stdout",
          "text": [
            "GB | Epoch 4 | Loss: 0.2845659852027893 | Accuracy: 90.625%\n",
            "GB | Epoch 4 | Loss: 0.31918802857398987 | Accuracy: 85.9375%\n",
            "GB | Epoch 4 | Loss: 0.17199039459228516 | Accuracy: 95.3125%\n",
            "GB | Epoch 4 | Loss: 0.3893357813358307 | Accuracy: 85.9375%\n",
            "GB | Epoch 4 | Loss: 0.16798898577690125 | Accuracy: 95.3125%\n",
            "GB | Epoch 4 | Loss: 0.2036275416612625 | Accuracy: 93.75%\n",
            "GB | Epoch 4 | Loss: 0.2467937022447586 | Accuracy: 92.1875%\n",
            "GB | Epoch 4 | Loss: 0.5233222246170044 | Accuracy: 84.375%\n"
          ]
        },
        {
          "output_type": "stream",
          "name": "stderr",
          "text": [
            "Epoch 4:  26%|██▌       | 195/751 [00:06<00:16, 34.61batch/s, accuracy=92.1875%, loss=0.198]"
          ]
        },
        {
          "output_type": "stream",
          "name": "stdout",
          "text": [
            "GB | Epoch 4 | Loss: 0.3638168275356293 | Accuracy: 87.5%\n",
            "GB | Epoch 4 | Loss: 0.23107847571372986 | Accuracy: 90.625%\n",
            "GB | Epoch 4 | Loss: 0.22216267883777618 | Accuracy: 92.1875%\n",
            "GB | Epoch 4 | Loss: 0.43053102493286133 | Accuracy: 92.1875%\n",
            "GB | Epoch 4 | Loss: 0.17930664122104645 | Accuracy: 93.75%\n",
            "GB | Epoch 4 | Loss: 0.26574066281318665 | Accuracy: 93.75%\n",
            "GB | Epoch 4 | Loss: 0.1984279453754425 | Accuracy: 92.1875%\n"
          ]
        },
        {
          "output_type": "stream",
          "name": "stderr",
          "text": [
            "Epoch 4:  27%|██▋       | 203/751 [00:06<00:16, 33.12batch/s, accuracy=93.75%, loss=0.228]  "
          ]
        },
        {
          "output_type": "stream",
          "name": "stdout",
          "text": [
            "GB | Epoch 4 | Loss: 0.18898439407348633 | Accuracy: 93.75%\n",
            "GB | Epoch 4 | Loss: 0.2785453200340271 | Accuracy: 92.1875%\n",
            "GB | Epoch 4 | Loss: 0.35827600955963135 | Accuracy: 87.5%\n",
            "GB | Epoch 4 | Loss: 0.3719530999660492 | Accuracy: 92.1875%\n",
            "GB | Epoch 4 | Loss: 0.29608744382858276 | Accuracy: 87.5%\n",
            "GB | Epoch 4 | Loss: 0.23449712991714478 | Accuracy: 95.3125%\n",
            "GB | Epoch 4 | Loss: 0.22809338569641113 | Accuracy: 93.75%\n"
          ]
        },
        {
          "output_type": "stream",
          "name": "stderr",
          "text": [
            "Epoch 4:  28%|██▊       | 211/751 [00:06<00:15, 34.97batch/s, accuracy=92.1875%, loss=0.353]"
          ]
        },
        {
          "output_type": "stream",
          "name": "stdout",
          "text": [
            "GB | Epoch 4 | Loss: 0.33384019136428833 | Accuracy: 89.0625%\n",
            "GB | Epoch 4 | Loss: 0.1835988461971283 | Accuracy: 93.75%\n",
            "GB | Epoch 4 | Loss: 0.22797398269176483 | Accuracy: 92.1875%\n",
            "GB | Epoch 4 | Loss: 0.28249281644821167 | Accuracy: 95.3125%\n",
            "GB | Epoch 4 | Loss: 0.31789472699165344 | Accuracy: 89.0625%\n",
            "GB | Epoch 4 | Loss: 0.3047657012939453 | Accuracy: 90.625%\n",
            "GB | Epoch 4 | Loss: 0.2544969618320465 | Accuracy: 93.75%\n",
            "GB | Epoch 4 | Loss: 0.3529863655567169 | Accuracy: 92.1875%\n"
          ]
        },
        {
          "output_type": "stream",
          "name": "stderr",
          "text": [
            "Epoch 4:  29%|██▉       | 219/751 [00:06<00:14, 36.19batch/s, accuracy=95.3125%, loss=0.19] "
          ]
        },
        {
          "output_type": "stream",
          "name": "stdout",
          "text": [
            "GB | Epoch 4 | Loss: 0.3183971345424652 | Accuracy: 90.625%\n",
            "GB | Epoch 4 | Loss: 0.2627505660057068 | Accuracy: 87.5%\n",
            "GB | Epoch 4 | Loss: 0.33331048488616943 | Accuracy: 85.9375%\n",
            "GB | Epoch 4 | Loss: 0.12241663038730621 | Accuracy: 96.875%\n",
            "GB | Epoch 4 | Loss: 0.2397383451461792 | Accuracy: 92.1875%\n",
            "GB | Epoch 4 | Loss: 0.29730328917503357 | Accuracy: 89.0625%\n",
            "GB | Epoch 4 | Loss: 0.26704564690589905 | Accuracy: 89.0625%\n",
            "GB | Epoch 4 | Loss: 0.18994952738285065 | Accuracy: 95.3125%\n"
          ]
        },
        {
          "output_type": "stream",
          "name": "stderr",
          "text": [
            "Epoch 4:  30%|███       | 227/751 [00:07<00:14, 36.51batch/s, accuracy=92.1875%, loss=0.287]"
          ]
        },
        {
          "output_type": "stream",
          "name": "stdout",
          "text": [
            "GB | Epoch 4 | Loss: 0.3437618911266327 | Accuracy: 92.1875%\n",
            "GB | Epoch 4 | Loss: 0.2855943441390991 | Accuracy: 89.0625%\n",
            "GB | Epoch 4 | Loss: 0.21432486176490784 | Accuracy: 93.75%\n",
            "GB | Epoch 4 | Loss: 0.5376056432723999 | Accuracy: 87.5%\n",
            "GB | Epoch 4 | Loss: 0.233478382229805 | Accuracy: 89.0625%\n",
            "GB | Epoch 4 | Loss: 0.22542016208171844 | Accuracy: 90.625%\n",
            "GB | Epoch 4 | Loss: 0.1997600644826889 | Accuracy: 96.875%\n",
            "GB | Epoch 4 | Loss: 0.28693273663520813 | Accuracy: 92.1875%\n"
          ]
        },
        {
          "output_type": "stream",
          "name": "stderr",
          "text": [
            "Epoch 4:  31%|███▏      | 235/751 [00:07<00:14, 34.53batch/s, accuracy=92.1875%, loss=0.262]"
          ]
        },
        {
          "output_type": "stream",
          "name": "stdout",
          "text": [
            "GB | Epoch 4 | Loss: 0.280460387468338 | Accuracy: 89.0625%\n",
            "GB | Epoch 4 | Loss: 0.32303693890571594 | Accuracy: 89.0625%\n",
            "GB | Epoch 4 | Loss: 0.27399903535842896 | Accuracy: 87.5%\n",
            "GB | Epoch 4 | Loss: 0.15381880104541779 | Accuracy: 95.3125%\n",
            "GB | Epoch 4 | Loss: 0.24953414499759674 | Accuracy: 93.75%\n",
            "GB | Epoch 4 | Loss: 0.2636434733867645 | Accuracy: 92.1875%\n",
            "GB | Epoch 4 | Loss: 0.2622431218624115 | Accuracy: 92.1875%\n"
          ]
        },
        {
          "output_type": "stream",
          "name": "stderr",
          "text": [
            "Epoch 4:  32%|███▏      | 243/751 [00:07<00:15, 33.86batch/s, accuracy=90.625%, loss=0.279]"
          ]
        },
        {
          "output_type": "stream",
          "name": "stdout",
          "text": [
            "GB | Epoch 4 | Loss: 0.3664727807044983 | Accuracy: 84.375%\n",
            "GB | Epoch 4 | Loss: 0.28511133790016174 | Accuracy: 89.0625%\n",
            "GB | Epoch 4 | Loss: 0.30776259303092957 | Accuracy: 90.625%\n",
            "GB | Epoch 4 | Loss: 0.30072498321533203 | Accuracy: 87.5%\n",
            "GB | Epoch 4 | Loss: 0.28096967935562134 | Accuracy: 92.1875%\n",
            "GB | Epoch 4 | Loss: 0.47743868827819824 | Accuracy: 84.375%\n",
            "GB | Epoch 4 | Loss: 0.27867552638053894 | Accuracy: 90.625%\n"
          ]
        },
        {
          "output_type": "stream",
          "name": "stderr",
          "text": [
            "Epoch 4:  33%|███▎      | 251/751 [00:07<00:14, 35.62batch/s, accuracy=93.75%, loss=0.175]"
          ]
        },
        {
          "output_type": "stream",
          "name": "stdout",
          "text": [
            "GB | Epoch 4 | Loss: 0.21121090650558472 | Accuracy: 93.75%\n",
            "GB | Epoch 4 | Loss: 0.3734438717365265 | Accuracy: 84.375%\n",
            "GB | Epoch 4 | Loss: 0.3269091844558716 | Accuracy: 89.0625%\n",
            "GB | Epoch 4 | Loss: 0.1753871738910675 | Accuracy: 90.625%\n",
            "GB | Epoch 4 | Loss: 0.16292066872119904 | Accuracy: 93.75%\n",
            "GB | Epoch 4 | Loss: 0.2755211889743805 | Accuracy: 89.0625%\n",
            "GB | Epoch 4 | Loss: 0.27682533860206604 | Accuracy: 89.0625%\n",
            "GB | Epoch 4 | Loss: 0.17546215653419495 | Accuracy: 93.75%\n"
          ]
        },
        {
          "output_type": "stream",
          "name": "stderr",
          "text": [
            "Epoch 4:  34%|███▍      | 259/751 [00:07<00:13, 36.80batch/s, accuracy=84.375%, loss=0.435]"
          ]
        },
        {
          "output_type": "stream",
          "name": "stdout",
          "text": [
            "GB | Epoch 4 | Loss: 0.3219560384750366 | Accuracy: 90.625%\n",
            "GB | Epoch 4 | Loss: 0.19463402032852173 | Accuracy: 95.3125%\n",
            "GB | Epoch 4 | Loss: 0.13964764773845673 | Accuracy: 93.75%\n",
            "GB | Epoch 4 | Loss: 0.33569663763046265 | Accuracy: 87.5%\n",
            "GB | Epoch 4 | Loss: 0.3037489056587219 | Accuracy: 87.5%\n",
            "GB | Epoch 4 | Loss: 0.3197680413722992 | Accuracy: 87.5%\n",
            "GB | Epoch 4 | Loss: 0.2096226066350937 | Accuracy: 93.75%\n",
            "GB | Epoch 4 | Loss: 0.43484067916870117 | Accuracy: 84.375%\n"
          ]
        },
        {
          "output_type": "stream",
          "name": "stderr",
          "text": [
            "Epoch 4:  36%|███▌      | 267/751 [00:08<00:13, 36.24batch/s, accuracy=95.3125%, loss=0.273]"
          ]
        },
        {
          "output_type": "stream",
          "name": "stdout",
          "text": [
            "GB | Epoch 4 | Loss: 0.22675281763076782 | Accuracy: 93.75%\n",
            "GB | Epoch 4 | Loss: 0.19800662994384766 | Accuracy: 93.75%\n",
            "GB | Epoch 4 | Loss: 0.2529701292514801 | Accuracy: 89.0625%\n",
            "GB | Epoch 4 | Loss: 0.21663078665733337 | Accuracy: 95.3125%\n",
            "GB | Epoch 4 | Loss: 0.35160768032073975 | Accuracy: 90.625%\n",
            "GB | Epoch 4 | Loss: 0.3455599844455719 | Accuracy: 89.0625%\n",
            "GB | Epoch 4 | Loss: 0.14758510887622833 | Accuracy: 96.875%\n",
            "GB | Epoch 4 | Loss: 0.2732527554035187 | Accuracy: 95.3125%\n"
          ]
        },
        {
          "output_type": "stream",
          "name": "stderr",
          "text": [
            "Epoch 4:  36%|███▌      | 271/751 [00:08<00:13, 34.78batch/s, accuracy=93.75%, loss=0.166]  "
          ]
        },
        {
          "output_type": "stream",
          "name": "stdout",
          "text": [
            "GB | Epoch 4 | Loss: 0.2846478521823883 | Accuracy: 87.5%\n",
            "GB | Epoch 4 | Loss: 0.41346755623817444 | Accuracy: 87.5%\n",
            "GB | Epoch 4 | Loss: 0.19201987981796265 | Accuracy: 93.75%\n",
            "GB | Epoch 4 | Loss: 0.44538354873657227 | Accuracy: 89.0625%\n",
            "GB | Epoch 4 | Loss: 0.34451404213905334 | Accuracy: 85.9375%\n",
            "GB | Epoch 4 | Loss: 0.1506219208240509 | Accuracy: 95.3125%\n",
            "GB | Epoch 4 | Loss: 0.16554167866706848 | Accuracy: 93.75%\n"
          ]
        },
        {
          "output_type": "stream",
          "name": "stderr",
          "text": [
            "Epoch 4:  37%|███▋      | 279/751 [00:08<00:13, 34.92batch/s, accuracy=95.3125%, loss=0.121]"
          ]
        },
        {
          "output_type": "stream",
          "name": "stdout",
          "text": [
            "GB | Epoch 4 | Loss: 0.20053137838840485 | Accuracy: 93.75%\n",
            "GB | Epoch 4 | Loss: 0.24788540601730347 | Accuracy: 92.1875%\n",
            "GB | Epoch 4 | Loss: 0.3438129723072052 | Accuracy: 85.9375%\n",
            "GB | Epoch 4 | Loss: 0.22309690713882446 | Accuracy: 95.3125%\n",
            "GB | Epoch 4 | Loss: 0.42677944898605347 | Accuracy: 85.9375%\n",
            "GB | Epoch 4 | Loss: 0.2703896164894104 | Accuracy: 92.1875%\n",
            "GB | Epoch 4 | Loss: 0.33857351541519165 | Accuracy: 90.625%\n",
            "GB | Epoch 4 | Loss: 0.12109822779893875 | Accuracy: 95.3125%\n"
          ]
        },
        {
          "output_type": "stream",
          "name": "stderr",
          "text": [
            "Epoch 4:  38%|███▊      | 287/751 [00:08<00:13, 35.45batch/s, accuracy=92.1875%, loss=0.155]"
          ]
        },
        {
          "output_type": "stream",
          "name": "stdout",
          "text": [
            "GB | Epoch 4 | Loss: 0.24887487292289734 | Accuracy: 92.1875%\n",
            "GB | Epoch 4 | Loss: 0.1846044510602951 | Accuracy: 95.3125%\n",
            "GB | Epoch 4 | Loss: 0.1919046938419342 | Accuracy: 93.75%\n",
            "GB | Epoch 4 | Loss: 0.15003526210784912 | Accuracy: 96.875%\n",
            "GB | Epoch 4 | Loss: 0.2679242789745331 | Accuracy: 87.5%\n",
            "GB | Epoch 4 | Loss: 0.315912127494812 | Accuracy: 89.0625%\n",
            "GB | Epoch 4 | Loss: 0.2195407599210739 | Accuracy: 93.75%\n",
            "GB | Epoch 4 | Loss: 0.15549594163894653 | Accuracy: 92.1875%\n"
          ]
        },
        {
          "output_type": "stream",
          "name": "stderr",
          "text": [
            "Epoch 4:  39%|███▉      | 295/751 [00:09<00:12, 35.38batch/s, accuracy=92.1875%, loss=0.259]"
          ]
        },
        {
          "output_type": "stream",
          "name": "stdout",
          "text": [
            "GB | Epoch 4 | Loss: 0.26821368932724 | Accuracy: 89.0625%\n",
            "GB | Epoch 4 | Loss: 0.2879292964935303 | Accuracy: 87.5%\n",
            "GB | Epoch 4 | Loss: 0.23232902586460114 | Accuracy: 87.5%\n",
            "GB | Epoch 4 | Loss: 0.24209754168987274 | Accuracy: 89.0625%\n",
            "GB | Epoch 4 | Loss: 0.2214972972869873 | Accuracy: 93.75%\n",
            "GB | Epoch 4 | Loss: 0.1281580924987793 | Accuracy: 98.4375%\n",
            "GB | Epoch 4 | Loss: 0.25934046506881714 | Accuracy: 92.1875%\n"
          ]
        },
        {
          "output_type": "stream",
          "name": "stderr",
          "text": [
            "Epoch 4:  40%|████      | 303/751 [00:09<00:12, 35.87batch/s, accuracy=95.3125%, loss=0.206]"
          ]
        },
        {
          "output_type": "stream",
          "name": "stdout",
          "text": [
            "GB | Epoch 4 | Loss: 0.19134876132011414 | Accuracy: 93.75%\n",
            "GB | Epoch 4 | Loss: 0.2052227258682251 | Accuracy: 93.75%\n",
            "GB | Epoch 4 | Loss: 0.34279555082321167 | Accuracy: 92.1875%\n",
            "GB | Epoch 4 | Loss: 0.2763204574584961 | Accuracy: 92.1875%\n",
            "GB | Epoch 4 | Loss: 0.3559074401855469 | Accuracy: 93.75%\n",
            "GB | Epoch 4 | Loss: 0.2782208323478699 | Accuracy: 93.75%\n",
            "GB | Epoch 4 | Loss: 0.20552869141101837 | Accuracy: 95.3125%\n"
          ]
        },
        {
          "output_type": "stream",
          "name": "stderr",
          "text": [
            "Epoch 4:  41%|████▏     | 311/751 [00:09<00:12, 33.87batch/s, accuracy=92.1875%, loss=0.216]"
          ]
        },
        {
          "output_type": "stream",
          "name": "stdout",
          "text": [
            "GB | Epoch 4 | Loss: 0.34702417254447937 | Accuracy: 89.0625%\n",
            "GB | Epoch 4 | Loss: 0.17523767054080963 | Accuracy: 95.3125%\n",
            "GB | Epoch 4 | Loss: 0.39120611548423767 | Accuracy: 87.5%\n",
            "GB | Epoch 4 | Loss: 0.1761137843132019 | Accuracy: 95.3125%\n",
            "GB | Epoch 4 | Loss: 0.3052709400653839 | Accuracy: 90.625%\n",
            "GB | Epoch 4 | Loss: 0.2782118618488312 | Accuracy: 90.625%\n",
            "GB | Epoch 4 | Loss: 0.21611960232257843 | Accuracy: 92.1875%\n"
          ]
        },
        {
          "output_type": "stream",
          "name": "stderr",
          "text": [
            "Epoch 4:  42%|████▏     | 319/751 [00:09<00:12, 35.41batch/s, accuracy=85.9375%, loss=0.331]"
          ]
        },
        {
          "output_type": "stream",
          "name": "stdout",
          "text": [
            "GB | Epoch 4 | Loss: 0.13514026999473572 | Accuracy: 95.3125%\n",
            "GB | Epoch 4 | Loss: 0.18432003259658813 | Accuracy: 96.875%\n",
            "GB | Epoch 4 | Loss: 0.3205120861530304 | Accuracy: 90.625%\n",
            "GB | Epoch 4 | Loss: 0.19527772068977356 | Accuracy: 96.875%\n",
            "GB | Epoch 4 | Loss: 0.2506268620491028 | Accuracy: 90.625%\n",
            "GB | Epoch 4 | Loss: 0.27726098895072937 | Accuracy: 90.625%\n",
            "GB | Epoch 4 | Loss: 0.1511314958333969 | Accuracy: 96.875%\n",
            "GB | Epoch 4 | Loss: 0.16274115443229675 | Accuracy: 96.875%\n"
          ]
        },
        {
          "output_type": "stream",
          "name": "stderr",
          "text": [
            "Epoch 4:  44%|████▎     | 327/751 [00:09<00:11, 36.06batch/s, accuracy=95.3125%, loss=0.222]"
          ]
        },
        {
          "output_type": "stream",
          "name": "stdout",
          "text": [
            "GB | Epoch 4 | Loss: 0.33121582865715027 | Accuracy: 85.9375%\n",
            "GB | Epoch 4 | Loss: 0.38513559103012085 | Accuracy: 84.375%\n",
            "GB | Epoch 4 | Loss: 0.25346270203590393 | Accuracy: 93.75%\n",
            "GB | Epoch 4 | Loss: 0.20217826962471008 | Accuracy: 93.75%\n",
            "GB | Epoch 4 | Loss: 0.193739116191864 | Accuracy: 95.3125%\n",
            "GB | Epoch 4 | Loss: 0.5640571713447571 | Accuracy: 85.9375%\n",
            "GB | Epoch 4 | Loss: 0.3158877491950989 | Accuracy: 87.5%\n",
            "GB | Epoch 4 | Loss: 0.22199572622776031 | Accuracy: 95.3125%\n"
          ]
        },
        {
          "output_type": "stream",
          "name": "stderr",
          "text": [
            "Epoch 4:  45%|████▍     | 335/751 [00:10<00:11, 36.65batch/s, accuracy=95.3125%, loss=0.15]"
          ]
        },
        {
          "output_type": "stream",
          "name": "stdout",
          "text": [
            "GB | Epoch 4 | Loss: 0.15689219534397125 | Accuracy: 96.875%\n",
            "GB | Epoch 4 | Loss: 0.20547768473625183 | Accuracy: 93.75%\n",
            "GB | Epoch 4 | Loss: 0.22317153215408325 | Accuracy: 93.75%\n",
            "GB | Epoch 4 | Loss: 0.2704177796840668 | Accuracy: 90.625%\n",
            "GB | Epoch 4 | Loss: 0.11825395375490189 | Accuracy: 96.875%\n",
            "GB | Epoch 4 | Loss: 0.2259054332971573 | Accuracy: 90.625%\n",
            "GB | Epoch 4 | Loss: 0.24920573830604553 | Accuracy: 90.625%\n",
            "GB | Epoch 4 | Loss: 0.14967843890190125 | Accuracy: 95.3125%\n"
          ]
        },
        {
          "output_type": "stream",
          "name": "stderr",
          "text": [
            "Epoch 4:  45%|████▌     | 339/751 [00:10<00:11, 36.28batch/s, accuracy=92.1875%, loss=0.199] "
          ]
        },
        {
          "output_type": "stream",
          "name": "stdout",
          "text": [
            "GB | Epoch 4 | Loss: 0.32445845007896423 | Accuracy: 93.75%\n",
            "GB | Epoch 4 | Loss: 0.35557129979133606 | Accuracy: 92.1875%\n",
            "GB | Epoch 4 | Loss: 0.31685274839401245 | Accuracy: 89.0625%\n",
            "GB | Epoch 4 | Loss: 0.2910100817680359 | Accuracy: 90.625%\n",
            "GB | Epoch 4 | Loss: 0.31158149242401123 | Accuracy: 87.5%\n",
            "GB | Epoch 4 | Loss: 0.08834372460842133 | Accuracy: 98.4375%\n",
            "GB | Epoch 4 | Loss: 0.1986672282218933 | Accuracy: 92.1875%\n"
          ]
        },
        {
          "output_type": "stream",
          "name": "stderr",
          "text": [
            "Epoch 4:  46%|████▌     | 347/751 [00:10<00:11, 33.90batch/s, accuracy=90.625%, loss=0.257] "
          ]
        },
        {
          "output_type": "stream",
          "name": "stdout",
          "text": [
            "GB | Epoch 4 | Loss: 0.2504884600639343 | Accuracy: 89.0625%\n",
            "GB | Epoch 4 | Loss: 0.2545478641986847 | Accuracy: 89.0625%\n",
            "GB | Epoch 4 | Loss: 0.1164354532957077 | Accuracy: 96.875%\n",
            "GB | Epoch 4 | Loss: 0.2167225480079651 | Accuracy: 93.75%\n",
            "GB | Epoch 4 | Loss: 0.2144913524389267 | Accuracy: 93.75%\n",
            "GB | Epoch 4 | Loss: 0.3416096568107605 | Accuracy: 89.0625%\n",
            "GB | Epoch 4 | Loss: 0.256808340549469 | Accuracy: 90.625%\n"
          ]
        },
        {
          "output_type": "stream",
          "name": "stderr",
          "text": [
            "Epoch 4:  47%|████▋     | 355/751 [00:10<00:11, 35.60batch/s, accuracy=93.75%, loss=0.143] "
          ]
        },
        {
          "output_type": "stream",
          "name": "stdout",
          "text": [
            "GB | Epoch 4 | Loss: 0.24338659644126892 | Accuracy: 90.625%\n",
            "GB | Epoch 4 | Loss: 0.25655096769332886 | Accuracy: 90.625%\n",
            "GB | Epoch 4 | Loss: 0.10634483397006989 | Accuracy: 98.4375%\n",
            "GB | Epoch 4 | Loss: 0.24841062724590302 | Accuracy: 92.1875%\n",
            "GB | Epoch 4 | Loss: 0.23698239028453827 | Accuracy: 92.1875%\n",
            "GB | Epoch 4 | Loss: 0.24093453586101532 | Accuracy: 90.625%\n",
            "GB | Epoch 4 | Loss: 0.23929858207702637 | Accuracy: 90.625%\n",
            "GB | Epoch 4 | Loss: 0.14254646003246307 | Accuracy: 93.75%\n"
          ]
        },
        {
          "output_type": "stream",
          "name": "stderr",
          "text": [
            "Epoch 4:  48%|████▊     | 363/751 [00:10<00:10, 36.29batch/s, accuracy=93.75%, loss=0.242]  "
          ]
        },
        {
          "output_type": "stream",
          "name": "stdout",
          "text": [
            "GB | Epoch 4 | Loss: 0.33500736951828003 | Accuracy: 90.625%\n",
            "GB | Epoch 4 | Loss: 0.07843070477247238 | Accuracy: 98.4375%\n",
            "GB | Epoch 4 | Loss: 0.2420540153980255 | Accuracy: 92.1875%\n",
            "GB | Epoch 4 | Loss: 0.23814614117145538 | Accuracy: 92.1875%\n",
            "GB | Epoch 4 | Loss: 0.2521877884864807 | Accuracy: 95.3125%\n",
            "GB | Epoch 4 | Loss: 0.1975538432598114 | Accuracy: 96.875%\n",
            "GB | Epoch 4 | Loss: 0.26133760809898376 | Accuracy: 89.0625%\n",
            "GB | Epoch 4 | Loss: 0.24196884036064148 | Accuracy: 93.75%\n"
          ]
        },
        {
          "output_type": "stream",
          "name": "stderr",
          "text": [
            "Epoch 4:  49%|████▉     | 371/751 [00:11<00:10, 34.93batch/s, accuracy=85.9375%, loss=0.302]"
          ]
        },
        {
          "output_type": "stream",
          "name": "stdout",
          "text": [
            "GB | Epoch 4 | Loss: 0.17676933109760284 | Accuracy: 96.875%\n",
            "GB | Epoch 4 | Loss: 0.12975706160068512 | Accuracy: 96.875%\n",
            "GB | Epoch 4 | Loss: 0.236023411154747 | Accuracy: 93.75%\n",
            "GB | Epoch 4 | Loss: 0.22730658948421478 | Accuracy: 90.625%\n",
            "GB | Epoch 4 | Loss: 0.2196168452501297 | Accuracy: 92.1875%\n",
            "GB | Epoch 4 | Loss: 0.24006643891334534 | Accuracy: 92.1875%\n",
            "GB | Epoch 4 | Loss: 0.30209049582481384 | Accuracy: 85.9375%\n"
          ]
        },
        {
          "output_type": "stream",
          "name": "stderr",
          "text": [
            "Epoch 4:  50%|████▉     | 375/751 [00:11<00:11, 31.83batch/s, accuracy=89.0625%, loss=0.2]"
          ]
        },
        {
          "output_type": "stream",
          "name": "stdout",
          "text": [
            "GB | Epoch 4 | Loss: 0.235427126288414 | Accuracy: 89.0625%\n",
            "GB | Epoch 4 | Loss: 0.3147127330303192 | Accuracy: 89.0625%\n",
            "GB | Epoch 4 | Loss: 0.16029754281044006 | Accuracy: 93.75%\n",
            "GB | Epoch 4 | Loss: 0.31829720735549927 | Accuracy: 93.75%\n",
            "GB | Epoch 4 | Loss: 0.20132987201213837 | Accuracy: 93.75%\n",
            "GB | Epoch 4 | Loss: 0.1996305286884308 | Accuracy: 89.0625%\n"
          ]
        },
        {
          "output_type": "stream",
          "name": "stderr",
          "text": [
            "Epoch 4:  51%|█████     | 383/751 [00:11<00:12, 30.37batch/s, accuracy=95.3125%, loss=0.189]"
          ]
        },
        {
          "output_type": "stream",
          "name": "stdout",
          "text": [
            "GB | Epoch 4 | Loss: 0.1605207622051239 | Accuracy: 95.3125%\n",
            "GB | Epoch 4 | Loss: 0.17318134009838104 | Accuracy: 93.75%\n",
            "GB | Epoch 4 | Loss: 0.2936910390853882 | Accuracy: 92.1875%\n",
            "GB | Epoch 4 | Loss: 0.2335098385810852 | Accuracy: 90.625%\n",
            "GB | Epoch 4 | Loss: 0.3220382034778595 | Accuracy: 89.0625%\n",
            "GB | Epoch 4 | Loss: 0.4116913974285126 | Accuracy: 87.5%\n",
            "GB | Epoch 4 | Loss: 0.18882358074188232 | Accuracy: 95.3125%\n"
          ]
        },
        {
          "output_type": "stream",
          "name": "stderr",
          "text": [
            "Epoch 4:  52%|█████▏    | 391/751 [00:11<00:12, 29.69batch/s, accuracy=95.3125%, loss=0.183]"
          ]
        },
        {
          "output_type": "stream",
          "name": "stdout",
          "text": [
            "GB | Epoch 4 | Loss: 0.23181936144828796 | Accuracy: 95.3125%\n",
            "GB | Epoch 4 | Loss: 0.286636620759964 | Accuracy: 89.0625%\n",
            "GB | Epoch 4 | Loss: 0.2076985090970993 | Accuracy: 92.1875%\n",
            "GB | Epoch 4 | Loss: 0.17898902297019958 | Accuracy: 96.875%\n",
            "GB | Epoch 4 | Loss: 0.16841918230056763 | Accuracy: 93.75%\n",
            "GB | Epoch 4 | Loss: 0.18258868157863617 | Accuracy: 95.3125%\n"
          ]
        },
        {
          "output_type": "stream",
          "name": "stderr",
          "text": [
            "Epoch 4:  53%|█████▎    | 397/751 [00:12<00:12, 28.65batch/s, accuracy=96.875%, loss=0.128]"
          ]
        },
        {
          "output_type": "stream",
          "name": "stdout",
          "text": [
            "GB | Epoch 4 | Loss: 0.1695873886346817 | Accuracy: 95.3125%\n",
            "GB | Epoch 4 | Loss: 0.2843536138534546 | Accuracy: 90.625%\n",
            "GB | Epoch 4 | Loss: 0.3473406732082367 | Accuracy: 85.9375%\n",
            "GB | Epoch 4 | Loss: 0.2732355296611786 | Accuracy: 89.0625%\n",
            "GB | Epoch 4 | Loss: 0.18776585161685944 | Accuracy: 95.3125%\n",
            "GB | Epoch 4 | Loss: 0.12753672897815704 | Accuracy: 96.875%\n"
          ]
        },
        {
          "output_type": "stream",
          "name": "stderr",
          "text": [
            "Epoch 4:  54%|█████▎    | 403/751 [00:12<00:12, 27.53batch/s, accuracy=95.3125%, loss=0.199]"
          ]
        },
        {
          "output_type": "stream",
          "name": "stdout",
          "text": [
            "GB | Epoch 4 | Loss: 0.23570914566516876 | Accuracy: 87.5%\n",
            "GB | Epoch 4 | Loss: 0.15577125549316406 | Accuracy: 96.875%\n",
            "GB | Epoch 4 | Loss: 0.22672684490680695 | Accuracy: 90.625%\n",
            "GB | Epoch 4 | Loss: 0.1773383468389511 | Accuracy: 93.75%\n",
            "GB | Epoch 4 | Loss: 0.22406235337257385 | Accuracy: 96.875%\n",
            "GB | Epoch 4 | Loss: 0.19870059192180634 | Accuracy: 95.3125%\n"
          ]
        },
        {
          "output_type": "stream",
          "name": "stderr",
          "text": [
            "Epoch 4:  54%|█████▍    | 409/751 [00:12<00:12, 27.72batch/s, accuracy=92.1875%, loss=0.192]"
          ]
        },
        {
          "output_type": "stream",
          "name": "stdout",
          "text": [
            "GB | Epoch 4 | Loss: 0.1670309603214264 | Accuracy: 95.3125%\n",
            "GB | Epoch 4 | Loss: 0.14749982953071594 | Accuracy: 95.3125%\n",
            "GB | Epoch 4 | Loss: 0.22376863658428192 | Accuracy: 92.1875%\n",
            "GB | Epoch 4 | Loss: 0.18090543150901794 | Accuracy: 92.1875%\n",
            "GB | Epoch 4 | Loss: 0.2528473734855652 | Accuracy: 90.625%\n",
            "GB | Epoch 4 | Loss: 0.1922810822725296 | Accuracy: 92.1875%\n"
          ]
        },
        {
          "output_type": "stream",
          "name": "stderr",
          "text": [
            "Epoch 4:  55%|█████▌    | 415/751 [00:12<00:12, 27.69batch/s, accuracy=93.75%, loss=0.181]"
          ]
        },
        {
          "output_type": "stream",
          "name": "stdout",
          "text": [
            "GB | Epoch 4 | Loss: 0.23129704594612122 | Accuracy: 92.1875%\n",
            "GB | Epoch 4 | Loss: 0.16440850496292114 | Accuracy: 95.3125%\n",
            "GB | Epoch 4 | Loss: 0.23940549790859222 | Accuracy: 92.1875%\n",
            "GB | Epoch 4 | Loss: 0.21955695748329163 | Accuracy: 90.625%\n",
            "GB | Epoch 4 | Loss: 0.1843738704919815 | Accuracy: 90.625%\n",
            "GB | Epoch 4 | Loss: 0.1805953085422516 | Accuracy: 93.75%\n"
          ]
        },
        {
          "output_type": "stream",
          "name": "stderr",
          "text": [
            "Epoch 4:  56%|█████▌    | 418/751 [00:12<00:12, 26.79batch/s, accuracy=93.75%, loss=0.16]   "
          ]
        },
        {
          "output_type": "stream",
          "name": "stdout",
          "text": [
            "GB | Epoch 4 | Loss: 0.3256897032260895 | Accuracy: 89.0625%\n",
            "GB | Epoch 4 | Loss: 0.07535789161920547 | Accuracy: 100.0%\n",
            "GB | Epoch 4 | Loss: 0.20715035498142242 | Accuracy: 90.625%\n",
            "GB | Epoch 4 | Loss: 0.15473586320877075 | Accuracy: 95.3125%\n",
            "GB | Epoch 4 | Loss: 0.1599424183368683 | Accuracy: 93.75%\n"
          ]
        },
        {
          "output_type": "stream",
          "name": "stderr",
          "text": [
            "Epoch 4:  57%|█████▋    | 425/751 [00:13<00:11, 27.23batch/s, accuracy=93.75%, loss=0.204]  "
          ]
        },
        {
          "output_type": "stream",
          "name": "stdout",
          "text": [
            "GB | Epoch 4 | Loss: 0.20676575601100922 | Accuracy: 92.1875%\n",
            "GB | Epoch 4 | Loss: 0.12877057492733002 | Accuracy: 95.3125%\n",
            "GB | Epoch 4 | Loss: 0.19025835394859314 | Accuracy: 92.1875%\n",
            "GB | Epoch 4 | Loss: 0.23228266835212708 | Accuracy: 93.75%\n",
            "GB | Epoch 4 | Loss: 0.39103543758392334 | Accuracy: 85.9375%\n",
            "GB | Epoch 4 | Loss: 0.37897130846977234 | Accuracy: 79.6875%\n",
            "GB | Epoch 4 | Loss: 0.20402675867080688 | Accuracy: 93.75%\n"
          ]
        },
        {
          "output_type": "stream",
          "name": "stderr",
          "text": [
            "Epoch 4:  58%|█████▊    | 432/751 [00:13<00:11, 27.63batch/s, accuracy=98.4375%, loss=0.113]"
          ]
        },
        {
          "output_type": "stream",
          "name": "stdout",
          "text": [
            "GB | Epoch 4 | Loss: 0.28465336561203003 | Accuracy: 92.1875%\n",
            "GB | Epoch 4 | Loss: 0.16539229452610016 | Accuracy: 95.3125%\n",
            "GB | Epoch 4 | Loss: 0.17627640068531036 | Accuracy: 95.3125%\n",
            "GB | Epoch 4 | Loss: 0.17380277812480927 | Accuracy: 93.75%\n",
            "GB | Epoch 4 | Loss: 0.16549786925315857 | Accuracy: 93.75%\n",
            "GB | Epoch 4 | Loss: 0.11303846538066864 | Accuracy: 98.4375%\n"
          ]
        },
        {
          "output_type": "stream",
          "name": "stderr",
          "text": [
            "Epoch 4:  58%|█████▊    | 438/751 [00:13<00:11, 27.78batch/s, accuracy=90.625%, loss=0.324] "
          ]
        },
        {
          "output_type": "stream",
          "name": "stdout",
          "text": [
            "GB | Epoch 4 | Loss: 0.13110658526420593 | Accuracy: 96.875%\n",
            "GB | Epoch 4 | Loss: 0.23578934371471405 | Accuracy: 93.75%\n",
            "GB | Epoch 4 | Loss: 0.162399023771286 | Accuracy: 95.3125%\n",
            "GB | Epoch 4 | Loss: 0.2681308388710022 | Accuracy: 89.0625%\n",
            "GB | Epoch 4 | Loss: 0.45457401871681213 | Accuracy: 89.0625%\n",
            "GB | Epoch 4 | Loss: 0.32410353422164917 | Accuracy: 90.625%\n"
          ]
        },
        {
          "output_type": "stream",
          "name": "stderr",
          "text": [
            "Epoch 4:  59%|█████▉    | 444/751 [00:13<00:10, 28.12batch/s, accuracy=90.625%, loss=0.385] "
          ]
        },
        {
          "output_type": "stream",
          "name": "stdout",
          "text": [
            "GB | Epoch 4 | Loss: 0.15663479268550873 | Accuracy: 95.3125%\n",
            "GB | Epoch 4 | Loss: 0.18728633224964142 | Accuracy: 93.75%\n",
            "GB | Epoch 4 | Loss: 0.19591790437698364 | Accuracy: 95.3125%\n",
            "GB | Epoch 4 | Loss: 0.173252135515213 | Accuracy: 95.3125%\n",
            "GB | Epoch 4 | Loss: 0.2693611681461334 | Accuracy: 92.1875%\n",
            "GB | Epoch 4 | Loss: 0.38500332832336426 | Accuracy: 90.625%\n"
          ]
        },
        {
          "output_type": "stream",
          "name": "stderr",
          "text": [
            "Epoch 4:  60%|█████▉    | 450/751 [00:14<00:11, 26.36batch/s, accuracy=92.1875%, loss=0.285]"
          ]
        },
        {
          "output_type": "stream",
          "name": "stdout",
          "text": [
            "GB | Epoch 4 | Loss: 0.11826729774475098 | Accuracy: 96.875%\n",
            "GB | Epoch 4 | Loss: 0.2527012825012207 | Accuracy: 92.1875%\n",
            "GB | Epoch 4 | Loss: 0.18995051085948944 | Accuracy: 93.75%\n",
            "GB | Epoch 4 | Loss: 0.19672510027885437 | Accuracy: 90.625%\n",
            "GB | Epoch 4 | Loss: 0.2848764657974243 | Accuracy: 92.1875%\n"
          ]
        },
        {
          "output_type": "stream",
          "name": "stderr",
          "text": [
            "Epoch 4:  61%|██████    | 456/751 [00:14<00:11, 25.84batch/s, accuracy=85.9375%, loss=0.252]"
          ]
        },
        {
          "output_type": "stream",
          "name": "stdout",
          "text": [
            "GB | Epoch 4 | Loss: 0.07626502960920334 | Accuracy: 100.0%\n",
            "GB | Epoch 4 | Loss: 0.16792616248130798 | Accuracy: 93.75%\n",
            "GB | Epoch 4 | Loss: 0.2865610122680664 | Accuracy: 90.625%\n",
            "GB | Epoch 4 | Loss: 0.27388817071914673 | Accuracy: 93.75%\n",
            "GB | Epoch 4 | Loss: 0.2841815650463104 | Accuracy: 89.0625%\n",
            "GB | Epoch 4 | Loss: 0.25153738260269165 | Accuracy: 85.9375%\n"
          ]
        },
        {
          "output_type": "stream",
          "name": "stderr",
          "text": [
            "Epoch 4:  62%|██████▏   | 462/751 [00:14<00:10, 26.79batch/s, accuracy=98.4375%, loss=0.137]"
          ]
        },
        {
          "output_type": "stream",
          "name": "stdout",
          "text": [
            "GB | Epoch 4 | Loss: 0.4092986583709717 | Accuracy: 85.9375%\n",
            "GB | Epoch 4 | Loss: 0.1393824815750122 | Accuracy: 96.875%\n",
            "GB | Epoch 4 | Loss: 0.20686376094818115 | Accuracy: 89.0625%\n",
            "GB | Epoch 4 | Loss: 0.23713311553001404 | Accuracy: 90.625%\n",
            "GB | Epoch 4 | Loss: 0.353487491607666 | Accuracy: 90.625%\n",
            "GB | Epoch 4 | Loss: 0.1372518390417099 | Accuracy: 98.4375%\n"
          ]
        },
        {
          "output_type": "stream",
          "name": "stderr",
          "text": [
            "Epoch 4:  62%|██████▏   | 468/751 [00:14<00:10, 27.42batch/s, accuracy=87.5%, loss=0.385]"
          ]
        },
        {
          "output_type": "stream",
          "name": "stdout",
          "text": [
            "GB | Epoch 4 | Loss: 0.24253234267234802 | Accuracy: 92.1875%\n",
            "GB | Epoch 4 | Loss: 0.21192853152751923 | Accuracy: 93.75%\n",
            "GB | Epoch 4 | Loss: 0.25061869621276855 | Accuracy: 92.1875%\n",
            "GB | Epoch 4 | Loss: 0.15240666270256042 | Accuracy: 95.3125%\n",
            "GB | Epoch 4 | Loss: 0.16087405383586884 | Accuracy: 93.75%\n",
            "GB | Epoch 4 | Loss: 0.38453105092048645 | Accuracy: 87.5%\n"
          ]
        },
        {
          "output_type": "stream",
          "name": "stderr",
          "text": [
            "Epoch 4:  63%|██████▎   | 474/751 [00:14<00:10, 27.29batch/s, accuracy=92.1875%, loss=0.214]"
          ]
        },
        {
          "output_type": "stream",
          "name": "stdout",
          "text": [
            "GB | Epoch 4 | Loss: 0.29174405336380005 | Accuracy: 90.625%\n",
            "GB | Epoch 4 | Loss: 0.12160887569189072 | Accuracy: 95.3125%\n",
            "GB | Epoch 4 | Loss: 0.1966574490070343 | Accuracy: 92.1875%\n",
            "GB | Epoch 4 | Loss: 0.28480812907218933 | Accuracy: 93.75%\n",
            "GB | Epoch 4 | Loss: 0.2034655213356018 | Accuracy: 90.625%\n",
            "GB | Epoch 4 | Loss: 0.2141682505607605 | Accuracy: 92.1875%\n"
          ]
        },
        {
          "output_type": "stream",
          "name": "stderr",
          "text": [
            "Epoch 4:  64%|██████▎   | 477/751 [00:15<00:10, 27.34batch/s, accuracy=96.875%, loss=0.18]"
          ]
        },
        {
          "output_type": "stream",
          "name": "stdout",
          "text": [
            "GB | Epoch 4 | Loss: 0.1553383618593216 | Accuracy: 93.75%\n",
            "GB | Epoch 4 | Loss: 0.24577106535434723 | Accuracy: 89.0625%\n",
            "GB | Epoch 4 | Loss: 0.28675174713134766 | Accuracy: 93.75%\n",
            "GB | Epoch 4 | Loss: 0.27303004264831543 | Accuracy: 89.0625%\n",
            "GB | Epoch 4 | Loss: 0.15558673441410065 | Accuracy: 95.3125%\n",
            "GB | Epoch 4 | Loss: 0.10998692363500595 | Accuracy: 96.875%\n"
          ]
        },
        {
          "output_type": "stream",
          "name": "stderr",
          "text": [
            "Epoch 4:  64%|██████▍   | 484/751 [00:15<00:09, 28.32batch/s, accuracy=95.3125%, loss=0.241]"
          ]
        },
        {
          "output_type": "stream",
          "name": "stdout",
          "text": [
            "GB | Epoch 4 | Loss: 0.18028219044208527 | Accuracy: 96.875%\n",
            "GB | Epoch 4 | Loss: 0.16509054601192474 | Accuracy: 95.3125%\n",
            "GB | Epoch 4 | Loss: 0.13192540407180786 | Accuracy: 95.3125%\n",
            "GB | Epoch 4 | Loss: 0.15726645290851593 | Accuracy: 95.3125%\n",
            "GB | Epoch 4 | Loss: 0.21665896475315094 | Accuracy: 92.1875%\n",
            "GB | Epoch 4 | Loss: 0.24134716391563416 | Accuracy: 95.3125%\n"
          ]
        },
        {
          "output_type": "stream",
          "name": "stderr",
          "text": [
            "Epoch 4:  65%|██████▌   | 490/751 [00:15<00:10, 25.97batch/s, accuracy=93.75%, loss=0.15]   "
          ]
        },
        {
          "output_type": "stream",
          "name": "stdout",
          "text": [
            "GB | Epoch 4 | Loss: 0.12564027309417725 | Accuracy: 96.875%\n",
            "GB | Epoch 4 | Loss: 0.16253767907619476 | Accuracy: 95.3125%\n",
            "GB | Epoch 4 | Loss: 0.14957290887832642 | Accuracy: 95.3125%\n",
            "GB | Epoch 4 | Loss: 0.25917762517929077 | Accuracy: 92.1875%\n",
            "GB | Epoch 4 | Loss: 0.17815469205379486 | Accuracy: 92.1875%\n",
            "GB | Epoch 4 | Loss: 0.15043699741363525 | Accuracy: 93.75%\n"
          ]
        },
        {
          "output_type": "stream",
          "name": "stderr",
          "text": [
            "Epoch 4:  66%|██████▌   | 496/751 [00:15<00:09, 27.46batch/s, accuracy=95.3125%, loss=0.156]"
          ]
        },
        {
          "output_type": "stream",
          "name": "stdout",
          "text": [
            "GB | Epoch 4 | Loss: 0.4164777994155884 | Accuracy: 89.0625%\n",
            "GB | Epoch 4 | Loss: 0.2200951874256134 | Accuracy: 95.3125%\n",
            "GB | Epoch 4 | Loss: 0.3871381878852844 | Accuracy: 89.0625%\n",
            "GB | Epoch 4 | Loss: 0.24912843108177185 | Accuracy: 93.75%\n",
            "GB | Epoch 4 | Loss: 0.15210899710655212 | Accuracy: 95.3125%\n",
            "GB | Epoch 4 | Loss: 0.15625742077827454 | Accuracy: 95.3125%\n"
          ]
        },
        {
          "output_type": "stream",
          "name": "stderr",
          "text": [
            "Epoch 4:  67%|██████▋   | 502/751 [00:16<00:09, 26.02batch/s, accuracy=95.3125%, loss=0.209]"
          ]
        },
        {
          "output_type": "stream",
          "name": "stdout",
          "text": [
            "GB | Epoch 4 | Loss: 0.1219760924577713 | Accuracy: 96.875%\n",
            "GB | Epoch 4 | Loss: 0.3172847032546997 | Accuracy: 85.9375%\n",
            "GB | Epoch 4 | Loss: 0.15718552470207214 | Accuracy: 95.3125%\n",
            "GB | Epoch 4 | Loss: 0.3181241750717163 | Accuracy: 90.625%\n",
            "GB | Epoch 4 | Loss: 0.217045858502388 | Accuracy: 95.3125%\n"
          ]
        },
        {
          "output_type": "stream",
          "name": "stderr",
          "text": [
            "Epoch 4:  68%|██████▊   | 508/751 [00:16<00:09, 26.70batch/s, accuracy=95.3125%, loss=0.137]"
          ]
        },
        {
          "output_type": "stream",
          "name": "stdout",
          "text": [
            "GB | Epoch 4 | Loss: 0.20949742197990417 | Accuracy: 95.3125%\n",
            "GB | Epoch 4 | Loss: 0.3011889159679413 | Accuracy: 92.1875%\n",
            "GB | Epoch 4 | Loss: 0.23602360486984253 | Accuracy: 89.0625%\n",
            "GB | Epoch 4 | Loss: 0.3298729956150055 | Accuracy: 89.0625%\n",
            "GB | Epoch 4 | Loss: 0.13004416227340698 | Accuracy: 96.875%\n",
            "GB | Epoch 4 | Loss: 0.13693660497665405 | Accuracy: 95.3125%\n"
          ]
        },
        {
          "output_type": "stream",
          "name": "stderr",
          "text": [
            "Epoch 4:  69%|██████▊   | 515/751 [00:16<00:08, 27.62batch/s, accuracy=92.1875%, loss=0.238]"
          ]
        },
        {
          "output_type": "stream",
          "name": "stdout",
          "text": [
            "GB | Epoch 4 | Loss: 0.22173279523849487 | Accuracy: 92.1875%\n",
            "GB | Epoch 4 | Loss: 0.2520652413368225 | Accuracy: 92.1875%\n",
            "GB | Epoch 4 | Loss: 0.19849224388599396 | Accuracy: 93.75%\n",
            "GB | Epoch 4 | Loss: 0.3684144914150238 | Accuracy: 84.375%\n",
            "GB | Epoch 4 | Loss: 0.22921957075595856 | Accuracy: 90.625%\n",
            "GB | Epoch 4 | Loss: 0.23777194321155548 | Accuracy: 92.1875%\n"
          ]
        },
        {
          "output_type": "stream",
          "name": "stderr",
          "text": [
            "Epoch 4:  69%|██████▉   | 519/751 [00:16<00:07, 29.22batch/s, accuracy=92.1875%, loss=0.151]"
          ]
        },
        {
          "output_type": "stream",
          "name": "stdout",
          "text": [
            "GB | Epoch 4 | Loss: 0.2205832451581955 | Accuracy: 93.75%\n",
            "GB | Epoch 4 | Loss: 0.14594823122024536 | Accuracy: 93.75%\n",
            "GB | Epoch 4 | Loss: 0.2472509890794754 | Accuracy: 92.1875%\n",
            "GB | Epoch 4 | Loss: 0.2436499148607254 | Accuracy: 89.0625%\n",
            "GB | Epoch 4 | Loss: 0.19591227173805237 | Accuracy: 92.1875%\n",
            "GB | Epoch 4 | Loss: 0.21461158990859985 | Accuracy: 95.3125%\n",
            "GB | Epoch 4 | Loss: 0.15090106427669525 | Accuracy: 92.1875%\n"
          ]
        },
        {
          "output_type": "stream",
          "name": "stderr",
          "text": [
            "Epoch 4:  70%|███████   | 527/751 [00:16<00:07, 31.18batch/s, accuracy=90.625%, loss=0.245]"
          ]
        },
        {
          "output_type": "stream",
          "name": "stdout",
          "text": [
            "GB | Epoch 4 | Loss: 0.08975466340780258 | Accuracy: 98.4375%\n",
            "GB | Epoch 4 | Loss: 0.28830304741859436 | Accuracy: 92.1875%\n",
            "GB | Epoch 4 | Loss: 0.18486124277114868 | Accuracy: 92.1875%\n",
            "GB | Epoch 4 | Loss: 0.20394231379032135 | Accuracy: 90.625%\n",
            "GB | Epoch 4 | Loss: 0.35349833965301514 | Accuracy: 87.5%\n",
            "GB | Epoch 4 | Loss: 0.18483026325702667 | Accuracy: 96.875%\n",
            "GB | Epoch 4 | Loss: 0.24494728446006775 | Accuracy: 90.625%\n"
          ]
        },
        {
          "output_type": "stream",
          "name": "stderr",
          "text": [
            "Epoch 4:  71%|███████   | 535/751 [00:17<00:07, 30.64batch/s, accuracy=95.3125%, loss=0.201]"
          ]
        },
        {
          "output_type": "stream",
          "name": "stdout",
          "text": [
            "GB | Epoch 4 | Loss: 0.24062427878379822 | Accuracy: 89.0625%\n",
            "GB | Epoch 4 | Loss: 0.3097887635231018 | Accuracy: 93.75%\n",
            "GB | Epoch 4 | Loss: 0.2891535758972168 | Accuracy: 87.5%\n",
            "GB | Epoch 4 | Loss: 0.17820319533348083 | Accuracy: 92.1875%\n",
            "GB | Epoch 4 | Loss: 0.21172112226486206 | Accuracy: 95.3125%\n",
            "GB | Epoch 4 | Loss: 0.1466122418642044 | Accuracy: 95.3125%\n",
            "GB | Epoch 4 | Loss: 0.20143567025661469 | Accuracy: 95.3125%\n"
          ]
        },
        {
          "output_type": "stream",
          "name": "stderr",
          "text": [
            "Epoch 4:  72%|███████▏  | 543/751 [00:17<00:06, 33.14batch/s, accuracy=98.4375%, loss=0.122]"
          ]
        },
        {
          "output_type": "stream",
          "name": "stdout",
          "text": [
            "GB | Epoch 4 | Loss: 0.37795257568359375 | Accuracy: 90.625%\n",
            "GB | Epoch 4 | Loss: 0.3443966209888458 | Accuracy: 87.5%\n",
            "GB | Epoch 4 | Loss: 0.2815667986869812 | Accuracy: 87.5%\n",
            "GB | Epoch 4 | Loss: 0.14704091846942902 | Accuracy: 93.75%\n",
            "GB | Epoch 4 | Loss: 0.16978950798511505 | Accuracy: 93.75%\n",
            "GB | Epoch 4 | Loss: 0.16146676242351532 | Accuracy: 93.75%\n",
            "GB | Epoch 4 | Loss: 0.1889152228832245 | Accuracy: 90.625%\n",
            "GB | Epoch 4 | Loss: 0.12229198962450027 | Accuracy: 98.4375%\n"
          ]
        },
        {
          "output_type": "stream",
          "name": "stderr",
          "text": [
            "Epoch 4:  73%|███████▎  | 551/751 [00:17<00:06, 31.84batch/s, accuracy=92.1875%, loss=0.268]"
          ]
        },
        {
          "output_type": "stream",
          "name": "stdout",
          "text": [
            "GB | Epoch 4 | Loss: 0.2727648615837097 | Accuracy: 92.1875%\n",
            "GB | Epoch 4 | Loss: 0.21506331861019135 | Accuracy: 93.75%\n",
            "GB | Epoch 4 | Loss: 0.24770322442054749 | Accuracy: 90.625%\n",
            "GB | Epoch 4 | Loss: 0.1910782754421234 | Accuracy: 93.75%\n",
            "GB | Epoch 4 | Loss: 0.321358859539032 | Accuracy: 90.625%\n",
            "GB | Epoch 4 | Loss: 0.20920683443546295 | Accuracy: 92.1875%\n",
            "GB | Epoch 4 | Loss: 0.2681010365486145 | Accuracy: 92.1875%\n"
          ]
        },
        {
          "output_type": "stream",
          "name": "stderr",
          "text": [
            "Epoch 4:  74%|███████▍  | 555/751 [00:17<00:06, 31.44batch/s, accuracy=87.5%, loss=0.356]  "
          ]
        },
        {
          "output_type": "stream",
          "name": "stdout",
          "text": [
            "GB | Epoch 4 | Loss: 0.2140924483537674 | Accuracy: 92.1875%\n",
            "GB | Epoch 4 | Loss: 0.1459837406873703 | Accuracy: 93.75%\n",
            "GB | Epoch 4 | Loss: 0.16176095604896545 | Accuracy: 96.875%\n",
            "GB | Epoch 4 | Loss: 0.2314750701189041 | Accuracy: 90.625%\n",
            "GB | Epoch 4 | Loss: 0.16733883321285248 | Accuracy: 93.75%\n",
            "GB | Epoch 4 | Loss: 0.1948499083518982 | Accuracy: 90.625%\n",
            "GB | Epoch 4 | Loss: 0.35611534118652344 | Accuracy: 87.5%\n"
          ]
        },
        {
          "output_type": "stream",
          "name": "stderr",
          "text": [
            "Epoch 4:  75%|███████▍  | 563/751 [00:18<00:06, 30.80batch/s, accuracy=93.75%, loss=0.184] "
          ]
        },
        {
          "output_type": "stream",
          "name": "stdout",
          "text": [
            "GB | Epoch 4 | Loss: 0.23825526237487793 | Accuracy: 92.1875%\n",
            "GB | Epoch 4 | Loss: 0.15623369812965393 | Accuracy: 93.75%\n",
            "GB | Epoch 4 | Loss: 0.17388084530830383 | Accuracy: 90.625%\n",
            "GB | Epoch 4 | Loss: 0.20086990296840668 | Accuracy: 90.625%\n",
            "GB | Epoch 4 | Loss: 0.4018574357032776 | Accuracy: 89.0625%\n",
            "GB | Epoch 4 | Loss: 0.2207849770784378 | Accuracy: 90.625%\n"
          ]
        },
        {
          "output_type": "stream",
          "name": "stderr",
          "text": [
            "Epoch 4:  75%|███████▌  | 567/751 [00:18<00:06, 29.80batch/s, accuracy=93.75%, loss=0.183]  "
          ]
        },
        {
          "output_type": "stream",
          "name": "stdout",
          "text": [
            "GB | Epoch 4 | Loss: 0.18385517597198486 | Accuracy: 93.75%\n",
            "GB | Epoch 4 | Loss: 0.20475633442401886 | Accuracy: 95.3125%\n",
            "GB | Epoch 4 | Loss: 0.17121370136737823 | Accuracy: 95.3125%\n",
            "GB | Epoch 4 | Loss: 0.18575134873390198 | Accuracy: 93.75%\n",
            "GB | Epoch 4 | Loss: 0.16869135200977325 | Accuracy: 92.1875%\n",
            "GB | Epoch 4 | Loss: 0.1825486421585083 | Accuracy: 93.75%\n"
          ]
        },
        {
          "output_type": "stream",
          "name": "stderr",
          "text": [
            "Epoch 4:  77%|███████▋  | 575/751 [00:18<00:05, 30.21batch/s, accuracy=95.3125%, loss=0.166]"
          ]
        },
        {
          "output_type": "stream",
          "name": "stdout",
          "text": [
            "GB | Epoch 4 | Loss: 0.15753522515296936 | Accuracy: 93.75%\n",
            "GB | Epoch 4 | Loss: 0.28011322021484375 | Accuracy: 89.0625%\n",
            "GB | Epoch 4 | Loss: 0.4166257977485657 | Accuracy: 89.0625%\n",
            "GB | Epoch 4 | Loss: 0.2945999801158905 | Accuracy: 89.0625%\n",
            "GB | Epoch 4 | Loss: 0.3376013934612274 | Accuracy: 89.0625%\n",
            "GB | Epoch 4 | Loss: 0.32877209782600403 | Accuracy: 92.1875%\n",
            "GB | Epoch 4 | Loss: 0.16631321609020233 | Accuracy: 95.3125%\n"
          ]
        },
        {
          "output_type": "stream",
          "name": "stderr",
          "text": [
            "Epoch 4:  78%|███████▊  | 583/751 [00:18<00:05, 33.13batch/s, accuracy=93.75%, loss=0.247]"
          ]
        },
        {
          "output_type": "stream",
          "name": "stdout",
          "text": [
            "GB | Epoch 4 | Loss: 0.22256594896316528 | Accuracy: 92.1875%\n",
            "GB | Epoch 4 | Loss: 0.11327268183231354 | Accuracy: 96.875%\n",
            "GB | Epoch 4 | Loss: 0.2545158863067627 | Accuracy: 90.625%\n",
            "GB | Epoch 4 | Loss: 0.15029852092266083 | Accuracy: 95.3125%\n",
            "GB | Epoch 4 | Loss: 0.4788394570350647 | Accuracy: 89.0625%\n",
            "GB | Epoch 4 | Loss: 0.22250628471374512 | Accuracy: 93.75%\n",
            "GB | Epoch 4 | Loss: 0.22033119201660156 | Accuracy: 90.625%\n",
            "GB | Epoch 4 | Loss: 0.24707931280136108 | Accuracy: 93.75%\n"
          ]
        },
        {
          "output_type": "stream",
          "name": "stderr",
          "text": [
            "Epoch 4:  79%|███████▊  | 591/751 [00:18<00:04, 35.14batch/s, accuracy=96.875%, loss=0.141] "
          ]
        },
        {
          "output_type": "stream",
          "name": "stdout",
          "text": [
            "GB | Epoch 4 | Loss: 0.1948450654745102 | Accuracy: 93.75%\n",
            "GB | Epoch 4 | Loss: 0.3754536509513855 | Accuracy: 89.0625%\n",
            "GB | Epoch 4 | Loss: 0.2996256649494171 | Accuracy: 92.1875%\n",
            "GB | Epoch 4 | Loss: 0.08791594207286835 | Accuracy: 100.0%\n",
            "GB | Epoch 4 | Loss: 0.2587968707084656 | Accuracy: 87.5%\n",
            "GB | Epoch 4 | Loss: 0.19140388071537018 | Accuracy: 93.75%\n",
            "GB | Epoch 4 | Loss: 0.41598066687583923 | Accuracy: 82.8125%\n",
            "GB | Epoch 4 | Loss: 0.14060615003108978 | Accuracy: 96.875%\n"
          ]
        },
        {
          "output_type": "stream",
          "name": "stderr",
          "text": [
            "Epoch 4:  80%|███████▉  | 599/751 [00:19<00:04, 34.96batch/s, accuracy=92.1875%, loss=0.273]"
          ]
        },
        {
          "output_type": "stream",
          "name": "stdout",
          "text": [
            "GB | Epoch 4 | Loss: 0.18861933052539825 | Accuracy: 93.75%\n",
            "GB | Epoch 4 | Loss: 0.2040031999349594 | Accuracy: 90.625%\n",
            "GB | Epoch 4 | Loss: 0.1994934231042862 | Accuracy: 96.875%\n",
            "GB | Epoch 4 | Loss: 0.26072248816490173 | Accuracy: 92.1875%\n",
            "GB | Epoch 4 | Loss: 0.24274668097496033 | Accuracy: 92.1875%\n",
            "GB | Epoch 4 | Loss: 0.1760026067495346 | Accuracy: 92.1875%\n",
            "GB | Epoch 4 | Loss: 0.2729659378528595 | Accuracy: 92.1875%\n"
          ]
        },
        {
          "output_type": "stream",
          "name": "stderr",
          "text": [
            "Epoch 4:  81%|████████  | 607/751 [00:19<00:04, 35.94batch/s, accuracy=92.1875%, loss=0.257]"
          ]
        },
        {
          "output_type": "stream",
          "name": "stdout",
          "text": [
            "GB | Epoch 4 | Loss: 0.32081374526023865 | Accuracy: 89.0625%\n",
            "GB | Epoch 4 | Loss: 0.15140345692634583 | Accuracy: 93.75%\n",
            "GB | Epoch 4 | Loss: 0.17616993188858032 | Accuracy: 93.75%\n",
            "GB | Epoch 4 | Loss: 0.22018428146839142 | Accuracy: 89.0625%\n",
            "GB | Epoch 4 | Loss: 0.16462308168411255 | Accuracy: 93.75%\n",
            "GB | Epoch 4 | Loss: 0.43456587195396423 | Accuracy: 89.0625%\n",
            "GB | Epoch 4 | Loss: 0.23542362451553345 | Accuracy: 90.625%\n",
            "GB | Epoch 4 | Loss: 0.2568168640136719 | Accuracy: 92.1875%\n"
          ]
        },
        {
          "output_type": "stream",
          "name": "stderr",
          "text": [
            "Epoch 4:  82%|████████▏ | 615/751 [00:19<00:03, 34.25batch/s, accuracy=89.0625%, loss=0.233]"
          ]
        },
        {
          "output_type": "stream",
          "name": "stdout",
          "text": [
            "GB | Epoch 4 | Loss: 0.15050870180130005 | Accuracy: 95.3125%\n",
            "GB | Epoch 4 | Loss: 0.3562747836112976 | Accuracy: 84.375%\n",
            "GB | Epoch 4 | Loss: 0.3062553405761719 | Accuracy: 90.625%\n",
            "GB | Epoch 4 | Loss: 0.2051336169242859 | Accuracy: 93.75%\n",
            "GB | Epoch 4 | Loss: 0.17929324507713318 | Accuracy: 95.3125%\n",
            "GB | Epoch 4 | Loss: 0.27174532413482666 | Accuracy: 92.1875%\n",
            "GB | Epoch 4 | Loss: 0.23252062499523163 | Accuracy: 89.0625%\n"
          ]
        },
        {
          "output_type": "stream",
          "name": "stderr",
          "text": [
            "Epoch 4:  83%|████████▎ | 623/751 [00:19<00:03, 35.97batch/s, accuracy=93.75%, loss=0.236]"
          ]
        },
        {
          "output_type": "stream",
          "name": "stdout",
          "text": [
            "GB | Epoch 4 | Loss: 0.45807236433029175 | Accuracy: 87.5%\n",
            "GB | Epoch 4 | Loss: 0.26373088359832764 | Accuracy: 90.625%\n",
            "GB | Epoch 4 | Loss: 0.15075527131557465 | Accuracy: 92.1875%\n",
            "GB | Epoch 4 | Loss: 0.2211642861366272 | Accuracy: 92.1875%\n",
            "GB | Epoch 4 | Loss: 0.13492704927921295 | Accuracy: 92.1875%\n",
            "GB | Epoch 4 | Loss: 0.1877421736717224 | Accuracy: 92.1875%\n",
            "GB | Epoch 4 | Loss: 0.23412449657917023 | Accuracy: 89.0625%\n",
            "GB | Epoch 4 | Loss: 0.23607638478279114 | Accuracy: 93.75%\n"
          ]
        },
        {
          "output_type": "stream",
          "name": "stderr",
          "text": [
            "Epoch 4:  84%|████████▍ | 631/751 [00:19<00:03, 36.13batch/s, accuracy=98.4375%, loss=0.146]"
          ]
        },
        {
          "output_type": "stream",
          "name": "stdout",
          "text": [
            "GB | Epoch 4 | Loss: 0.3418525755405426 | Accuracy: 89.0625%\n",
            "GB | Epoch 4 | Loss: 0.3725069463253021 | Accuracy: 85.9375%\n",
            "GB | Epoch 4 | Loss: 0.25616973638534546 | Accuracy: 92.1875%\n",
            "GB | Epoch 4 | Loss: 0.3183153569698334 | Accuracy: 92.1875%\n",
            "GB | Epoch 4 | Loss: 0.3536340594291687 | Accuracy: 89.0625%\n",
            "GB | Epoch 4 | Loss: 0.18847987055778503 | Accuracy: 92.1875%\n",
            "GB | Epoch 4 | Loss: 0.09890373051166534 | Accuracy: 96.875%\n",
            "GB | Epoch 4 | Loss: 0.1463283896446228 | Accuracy: 98.4375%\n"
          ]
        },
        {
          "output_type": "stream",
          "name": "stderr",
          "text": [
            "Epoch 4:  85%|████████▍ | 635/751 [00:20<00:03, 35.69batch/s, accuracy=100.0%, loss=0.113] "
          ]
        },
        {
          "output_type": "stream",
          "name": "stdout",
          "text": [
            "GB | Epoch 4 | Loss: 0.19282007217407227 | Accuracy: 93.75%\n",
            "GB | Epoch 4 | Loss: 0.1615849733352661 | Accuracy: 93.75%\n",
            "GB | Epoch 4 | Loss: 0.27236050367355347 | Accuracy: 89.0625%\n",
            "GB | Epoch 4 | Loss: 0.25446024537086487 | Accuracy: 92.1875%\n",
            "GB | Epoch 4 | Loss: 0.14778266847133636 | Accuracy: 98.4375%\n",
            "GB | Epoch 4 | Loss: 0.14387457072734833 | Accuracy: 93.75%\n",
            "GB | Epoch 4 | Loss: 0.2357880026102066 | Accuracy: 90.625%\n",
            "GB | Epoch 4 | Loss: 0.1133233979344368 | Accuracy: 100.0%\n"
          ]
        },
        {
          "output_type": "stream",
          "name": "stderr",
          "text": [
            "Epoch 4:  86%|████████▌ | 643/751 [00:20<00:03, 34.70batch/s, accuracy=93.75%, loss=0.176] "
          ]
        },
        {
          "output_type": "stream",
          "name": "stdout",
          "text": [
            "GB | Epoch 4 | Loss: 0.2445312887430191 | Accuracy: 90.625%\n",
            "GB | Epoch 4 | Loss: 0.1909230500459671 | Accuracy: 93.75%\n",
            "GB | Epoch 4 | Loss: 0.19526231288909912 | Accuracy: 93.75%\n",
            "GB | Epoch 4 | Loss: 0.22884602844715118 | Accuracy: 95.3125%\n",
            "GB | Epoch 4 | Loss: 0.1180611178278923 | Accuracy: 98.4375%\n",
            "GB | Epoch 4 | Loss: 0.3221788704395294 | Accuracy: 90.625%\n",
            "GB | Epoch 4 | Loss: 0.17616049945354462 | Accuracy: 93.75%\n"
          ]
        },
        {
          "output_type": "stream",
          "name": "stderr",
          "text": [
            "Epoch 4:  87%|████████▋ | 651/751 [00:20<00:02, 33.47batch/s, accuracy=93.75%, loss=0.19] "
          ]
        },
        {
          "output_type": "stream",
          "name": "stdout",
          "text": [
            "GB | Epoch 4 | Loss: 0.12641964852809906 | Accuracy: 95.3125%\n",
            "GB | Epoch 4 | Loss: 0.3296187222003937 | Accuracy: 85.9375%\n",
            "GB | Epoch 4 | Loss: 0.4273102283477783 | Accuracy: 92.1875%\n",
            "GB | Epoch 4 | Loss: 0.20261503756046295 | Accuracy: 93.75%\n",
            "GB | Epoch 4 | Loss: 0.18465323746204376 | Accuracy: 92.1875%\n",
            "GB | Epoch 4 | Loss: 0.19628794491291046 | Accuracy: 93.75%\n",
            "GB | Epoch 4 | Loss: 0.18972016870975494 | Accuracy: 93.75%\n"
          ]
        },
        {
          "output_type": "stream",
          "name": "stderr",
          "text": [
            "Epoch 4:  88%|████████▊ | 659/751 [00:20<00:02, 35.21batch/s, accuracy=92.1875%, loss=0.258]"
          ]
        },
        {
          "output_type": "stream",
          "name": "stdout",
          "text": [
            "GB | Epoch 4 | Loss: 0.381771057844162 | Accuracy: 92.1875%\n",
            "GB | Epoch 4 | Loss: 0.1691104918718338 | Accuracy: 95.3125%\n",
            "GB | Epoch 4 | Loss: 0.2628909945487976 | Accuracy: 87.5%\n",
            "GB | Epoch 4 | Loss: 0.19304023683071136 | Accuracy: 90.625%\n",
            "GB | Epoch 4 | Loss: 0.19906897842884064 | Accuracy: 92.1875%\n",
            "GB | Epoch 4 | Loss: 0.1493932157754898 | Accuracy: 95.3125%\n",
            "GB | Epoch 4 | Loss: 0.2598189115524292 | Accuracy: 92.1875%\n",
            "GB | Epoch 4 | Loss: 0.25796663761138916 | Accuracy: 92.1875%\n"
          ]
        },
        {
          "output_type": "stream",
          "name": "stderr",
          "text": [
            "Epoch 4:  89%|████████▉ | 667/751 [00:21<00:02, 35.75batch/s, accuracy=92.1875%, loss=0.24]"
          ]
        },
        {
          "output_type": "stream",
          "name": "stdout",
          "text": [
            "GB | Epoch 4 | Loss: 0.1593652069568634 | Accuracy: 92.1875%\n",
            "GB | Epoch 4 | Loss: 0.31093281507492065 | Accuracy: 90.625%\n",
            "GB | Epoch 4 | Loss: 0.22209961712360382 | Accuracy: 92.1875%\n",
            "GB | Epoch 4 | Loss: 0.09554953873157501 | Accuracy: 98.4375%\n",
            "GB | Epoch 4 | Loss: 0.15945030748844147 | Accuracy: 93.75%\n",
            "GB | Epoch 4 | Loss: 0.24951490759849548 | Accuracy: 90.625%\n",
            "GB | Epoch 4 | Loss: 0.16192898154258728 | Accuracy: 93.75%\n",
            "GB | Epoch 4 | Loss: 0.23990969359874725 | Accuracy: 92.1875%\n"
          ]
        },
        {
          "output_type": "stream",
          "name": "stderr",
          "text": [
            "Epoch 4:  90%|████████▉ | 675/751 [00:21<00:02, 35.08batch/s, accuracy=90.625%, loss=0.267]"
          ]
        },
        {
          "output_type": "stream",
          "name": "stdout",
          "text": [
            "GB | Epoch 4 | Loss: 0.13782522082328796 | Accuracy: 96.875%\n",
            "GB | Epoch 4 | Loss: 0.3644976317882538 | Accuracy: 93.75%\n",
            "GB | Epoch 4 | Loss: 0.20797020196914673 | Accuracy: 89.0625%\n",
            "GB | Epoch 4 | Loss: 0.1270725429058075 | Accuracy: 96.875%\n",
            "GB | Epoch 4 | Loss: 0.13075104355812073 | Accuracy: 93.75%\n",
            "GB | Epoch 4 | Loss: 0.38827186822891235 | Accuracy: 93.75%\n",
            "GB | Epoch 4 | Loss: 0.20002855360507965 | Accuracy: 92.1875%\n",
            "GB | Epoch 4 | Loss: 0.26652058959007263 | Accuracy: 90.625%\n"
          ]
        },
        {
          "output_type": "stream",
          "name": "stderr",
          "text": [
            "Epoch 4:  91%|█████████ | 683/751 [00:21<00:01, 34.39batch/s, accuracy=90.625%, loss=0.242] "
          ]
        },
        {
          "output_type": "stream",
          "name": "stdout",
          "text": [
            "GB | Epoch 4 | Loss: 0.26724573969841003 | Accuracy: 87.5%\n",
            "GB | Epoch 4 | Loss: 0.1377100646495819 | Accuracy: 95.3125%\n",
            "GB | Epoch 4 | Loss: 0.15934781730175018 | Accuracy: 92.1875%\n",
            "GB | Epoch 4 | Loss: 0.12141266465187073 | Accuracy: 96.875%\n",
            "GB | Epoch 4 | Loss: 0.2870670258998871 | Accuracy: 93.75%\n",
            "GB | Epoch 4 | Loss: 0.15439482033252716 | Accuracy: 95.3125%\n",
            "GB | Epoch 4 | Loss: 0.24204690754413605 | Accuracy: 90.625%\n"
          ]
        },
        {
          "output_type": "stream",
          "name": "stderr",
          "text": [
            "Epoch 4:  92%|█████████▏| 691/751 [00:21<00:01, 34.30batch/s, accuracy=90.625%, loss=0.293]"
          ]
        },
        {
          "output_type": "stream",
          "name": "stdout",
          "text": [
            "GB | Epoch 4 | Loss: 0.3858014941215515 | Accuracy: 90.625%\n",
            "GB | Epoch 4 | Loss: 0.17379160225391388 | Accuracy: 92.1875%\n",
            "GB | Epoch 4 | Loss: 0.18604789674282074 | Accuracy: 90.625%\n",
            "GB | Epoch 4 | Loss: 0.11897018551826477 | Accuracy: 95.3125%\n",
            "GB | Epoch 4 | Loss: 0.1376248598098755 | Accuracy: 95.3125%\n",
            "GB | Epoch 4 | Loss: 0.1932114213705063 | Accuracy: 95.3125%\n",
            "GB | Epoch 4 | Loss: 0.15784600377082825 | Accuracy: 93.75%\n",
            "GB | Epoch 4 | Loss: 0.2931050658226013 | Accuracy: 90.625%\n"
          ]
        },
        {
          "output_type": "stream",
          "name": "stderr",
          "text": [
            "Epoch 4:  93%|█████████▎| 699/751 [00:21<00:01, 35.87batch/s, accuracy=90.625%, loss=0.424]"
          ]
        },
        {
          "output_type": "stream",
          "name": "stdout",
          "text": [
            "GB | Epoch 4 | Loss: 0.09787110239267349 | Accuracy: 98.4375%\n",
            "GB | Epoch 4 | Loss: 0.10259433835744858 | Accuracy: 98.4375%\n",
            "GB | Epoch 4 | Loss: 0.20017729699611664 | Accuracy: 96.875%\n",
            "GB | Epoch 4 | Loss: 0.1694091260433197 | Accuracy: 95.3125%\n",
            "GB | Epoch 4 | Loss: 0.17943525314331055 | Accuracy: 95.3125%\n",
            "GB | Epoch 4 | Loss: 0.09589339047670364 | Accuracy: 95.3125%\n",
            "GB | Epoch 4 | Loss: 0.17433588206768036 | Accuracy: 93.75%\n",
            "GB | Epoch 4 | Loss: 0.4235237240791321 | Accuracy: 90.625%\n"
          ]
        },
        {
          "output_type": "stream",
          "name": "stderr",
          "text": [
            "Epoch 4:  94%|█████████▍| 707/751 [00:22<00:01, 35.93batch/s, accuracy=96.875%, loss=0.149]"
          ]
        },
        {
          "output_type": "stream",
          "name": "stdout",
          "text": [
            "GB | Epoch 4 | Loss: 0.2379620224237442 | Accuracy: 93.75%\n",
            "GB | Epoch 4 | Loss: 0.2462637573480606 | Accuracy: 89.0625%\n",
            "GB | Epoch 4 | Loss: 0.32779401540756226 | Accuracy: 92.1875%\n",
            "GB | Epoch 4 | Loss: 0.14937859773635864 | Accuracy: 95.3125%\n",
            "GB | Epoch 4 | Loss: 0.21579097211360931 | Accuracy: 92.1875%\n",
            "GB | Epoch 4 | Loss: 0.20495471358299255 | Accuracy: 90.625%\n",
            "GB | Epoch 4 | Loss: 0.19863364100456238 | Accuracy: 90.625%\n",
            "GB | Epoch 4 | Loss: 0.1493387371301651 | Accuracy: 96.875%\n"
          ]
        },
        {
          "output_type": "stream",
          "name": "stderr",
          "text": [
            "Epoch 4:  95%|█████████▌| 715/751 [00:22<00:01, 33.93batch/s, accuracy=89.0625%, loss=0.256]"
          ]
        },
        {
          "output_type": "stream",
          "name": "stdout",
          "text": [
            "GB | Epoch 4 | Loss: 0.11369822174310684 | Accuracy: 95.3125%\n",
            "GB | Epoch 4 | Loss: 0.30495530366897583 | Accuracy: 90.625%\n",
            "GB | Epoch 4 | Loss: 0.20076283812522888 | Accuracy: 92.1875%\n",
            "GB | Epoch 4 | Loss: 0.1024564802646637 | Accuracy: 98.4375%\n",
            "GB | Epoch 4 | Loss: 0.20887784659862518 | Accuracy: 89.0625%\n",
            "GB | Epoch 4 | Loss: 0.19554899632930756 | Accuracy: 96.875%\n",
            "GB | Epoch 4 | Loss: 0.25607365369796753 | Accuracy: 89.0625%\n"
          ]
        },
        {
          "output_type": "stream",
          "name": "stderr",
          "text": [
            "Epoch 4:  96%|█████████▋| 723/751 [00:22<00:00, 35.03batch/s, accuracy=93.75%, loss=0.163]"
          ]
        },
        {
          "output_type": "stream",
          "name": "stdout",
          "text": [
            "GB | Epoch 4 | Loss: 0.19650885462760925 | Accuracy: 92.1875%\n",
            "GB | Epoch 4 | Loss: 0.18991270661354065 | Accuracy: 96.875%\n",
            "GB | Epoch 4 | Loss: 0.15739132463932037 | Accuracy: 93.75%\n",
            "GB | Epoch 4 | Loss: 0.21573889255523682 | Accuracy: 93.75%\n",
            "GB | Epoch 4 | Loss: 0.14903342723846436 | Accuracy: 95.3125%\n",
            "GB | Epoch 4 | Loss: 0.3438916504383087 | Accuracy: 90.625%\n",
            "GB | Epoch 4 | Loss: 0.19853158295154572 | Accuracy: 92.1875%\n",
            "GB | Epoch 4 | Loss: 0.16312727332115173 | Accuracy: 93.75%\n"
          ]
        },
        {
          "output_type": "stream",
          "name": "stderr",
          "text": [
            "Epoch 4:  97%|█████████▋| 731/751 [00:22<00:00, 36.59batch/s, accuracy=87.5%, loss=0.249]"
          ]
        },
        {
          "output_type": "stream",
          "name": "stdout",
          "text": [
            "GB | Epoch 4 | Loss: 0.22819826006889343 | Accuracy: 90.625%\n",
            "GB | Epoch 4 | Loss: 0.18815448880195618 | Accuracy: 96.875%\n",
            "GB | Epoch 4 | Loss: 0.34612804651260376 | Accuracy: 92.1875%\n",
            "GB | Epoch 4 | Loss: 0.15943565964698792 | Accuracy: 95.3125%\n",
            "GB | Epoch 4 | Loss: 0.09959571063518524 | Accuracy: 98.4375%\n",
            "GB | Epoch 4 | Loss: 0.1598765254020691 | Accuracy: 96.875%\n",
            "GB | Epoch 4 | Loss: 0.2162083089351654 | Accuracy: 93.75%\n",
            "GB | Epoch 4 | Loss: 0.24851149320602417 | Accuracy: 87.5%\n"
          ]
        },
        {
          "output_type": "stream",
          "name": "stderr",
          "text": [
            "Epoch 4:  98%|█████████▊| 739/751 [00:23<00:00, 36.14batch/s, accuracy=90.625%, loss=0.274]"
          ]
        },
        {
          "output_type": "stream",
          "name": "stdout",
          "text": [
            "GB | Epoch 4 | Loss: 0.10769174993038177 | Accuracy: 98.4375%\n",
            "GB | Epoch 4 | Loss: 0.10590969771146774 | Accuracy: 95.3125%\n",
            "GB | Epoch 4 | Loss: 0.17388290166854858 | Accuracy: 95.3125%\n",
            "GB | Epoch 4 | Loss: 0.1750154197216034 | Accuracy: 95.3125%\n",
            "GB | Epoch 4 | Loss: 0.39412355422973633 | Accuracy: 87.5%\n",
            "GB | Epoch 4 | Loss: 0.23757855594158173 | Accuracy: 85.9375%\n",
            "GB | Epoch 4 | Loss: 0.22234326601028442 | Accuracy: 93.75%\n",
            "GB | Epoch 4 | Loss: 0.27440476417541504 | Accuracy: 90.625%\n"
          ]
        },
        {
          "output_type": "stream",
          "name": "stderr",
          "text": [
            "Epoch 4:  99%|█████████▉| 747/751 [00:23<00:00, 35.26batch/s, accuracy=93.75%, loss=0.179]"
          ]
        },
        {
          "output_type": "stream",
          "name": "stdout",
          "text": [
            "GB | Epoch 4 | Loss: 0.07891733199357986 | Accuracy: 96.875%\n",
            "GB | Epoch 4 | Loss: 0.1466938853263855 | Accuracy: 95.3125%\n",
            "GB | Epoch 4 | Loss: 0.21163320541381836 | Accuracy: 90.625%\n",
            "GB | Epoch 4 | Loss: 0.4381946921348572 | Accuracy: 90.625%\n",
            "GB | Epoch 4 | Loss: 0.2511385679244995 | Accuracy: 92.1875%\n",
            "GB | Epoch 4 | Loss: 0.19119538366794586 | Accuracy: 92.1875%\n",
            "GB | Epoch 4 | Loss: 0.2853103280067444 | Accuracy: 90.625%\n",
            "GB | Epoch 4 | Loss: 0.17905418574810028 | Accuracy: 93.75%\n"
          ]
        },
        {
          "output_type": "stream",
          "name": "stderr",
          "text": [
            "Epoch 4: 100%|██████████| 751/751 [00:23<00:00, 36.42batch/s, accuracy=100.0%, loss=0.00991]"
          ]
        },
        {
          "output_type": "stream",
          "name": "stdout",
          "text": [
            "GB | Epoch 4 | Loss: 0.1614154577255249 | Accuracy: 93.75%\n",
            "GB | Epoch 4 | Loss: 0.15392056107521057 | Accuracy: 96.875%\n",
            "GB | Epoch 4 | Loss: 0.10824679583311081 | Accuracy: 96.875%\n",
            "GB | Epoch 4 | Loss: 0.009913666173815727 | Accuracy: 100.0%\n"
          ]
        },
        {
          "output_type": "stream",
          "name": "stderr",
          "text": [
            "\rEpoch 4: 100%|██████████| 751/751 [00:23<00:00, 31.92batch/s, accuracy=100.0%, loss=0.00991]\n"
          ]
        }
      ]
    },
    {
      "cell_type": "code",
      "source": [
        "evaluator = Evaluator(\n",
        "    testset=test_dataset,\n",
        "    group_partition=test_dataset.group_partition,\n",
        "    group_weights=train_dataset.group_weights,\n",
        "    batch_size=64,\n",
        "    model=model,\n",
        "    device=device,\n",
        "    verbose=True\n",
        ")\n",
        "evaluator.evaluate()"
      ],
      "metadata": {
        "colab": {
          "base_uri": "https://localhost:8080/"
        },
        "id": "MaJrBm4Tm7r3",
        "outputId": "a0dfddf7-57ea-484c-dcb6-99f8fc4acb0e"
      },
      "execution_count": 10,
      "outputs": [
        {
          "output_type": "stream",
          "name": "stderr",
          "text": [
            "Evaluating group-wise accuracy:   4%|▍         | 1/25 [00:00<00:10,  2.30it/s]"
          ]
        },
        {
          "output_type": "stream",
          "name": "stdout",
          "text": [
            "Group (0, 0) Accuracy: 98.58156028368795\n"
          ]
        },
        {
          "output_type": "stream",
          "name": "stderr",
          "text": [
            "\rEvaluating group-wise accuracy:   8%|▊         | 2/25 [00:00<00:10,  2.29it/s]"
          ]
        },
        {
          "output_type": "stream",
          "name": "stdout",
          "text": [
            "Group (0, 1) Accuracy: 93.3806146572104\n"
          ]
        },
        {
          "output_type": "stream",
          "name": "stderr",
          "text": [
            "\rEvaluating group-wise accuracy:  12%|█▏        | 3/25 [00:01<00:09,  2.30it/s]"
          ]
        },
        {
          "output_type": "stream",
          "name": "stdout",
          "text": [
            "Group (0, 2) Accuracy: 95.98108747044917\n"
          ]
        },
        {
          "output_type": "stream",
          "name": "stderr",
          "text": [
            "\rEvaluating group-wise accuracy:  16%|█▌        | 4/25 [00:01<00:09,  2.26it/s]"
          ]
        },
        {
          "output_type": "stream",
          "name": "stdout",
          "text": [
            "Group (0, 3) Accuracy: 96.45390070921985\n"
          ]
        },
        {
          "output_type": "stream",
          "name": "stderr",
          "text": [
            "\rEvaluating group-wise accuracy:  20%|██        | 5/25 [00:02<00:08,  2.27it/s]"
          ]
        },
        {
          "output_type": "stream",
          "name": "stdout",
          "text": [
            "Group (0, 4) Accuracy: 96.6903073286052\n"
          ]
        },
        {
          "output_type": "stream",
          "name": "stderr",
          "text": [
            "\rEvaluating group-wise accuracy:  24%|██▍       | 6/25 [00:02<00:08,  2.28it/s]"
          ]
        },
        {
          "output_type": "stream",
          "name": "stdout",
          "text": [
            "Group (1, 0) Accuracy: 94.37652811735941\n"
          ]
        },
        {
          "output_type": "stream",
          "name": "stderr",
          "text": [
            "\rEvaluating group-wise accuracy:  28%|██▊       | 7/25 [00:03<00:07,  2.29it/s]"
          ]
        },
        {
          "output_type": "stream",
          "name": "stdout",
          "text": [
            "Group (1, 1) Accuracy: 96.33251833740832\n"
          ]
        },
        {
          "output_type": "stream",
          "name": "stderr",
          "text": [
            "\rEvaluating group-wise accuracy:  32%|███▏      | 8/25 [00:03<00:07,  2.30it/s]"
          ]
        },
        {
          "output_type": "stream",
          "name": "stdout",
          "text": [
            "Group (1, 2) Accuracy: 92.40196078431373\n"
          ]
        },
        {
          "output_type": "stream",
          "name": "stderr",
          "text": [
            "\rEvaluating group-wise accuracy:  36%|███▌      | 9/25 [00:03<00:07,  2.27it/s]"
          ]
        },
        {
          "output_type": "stream",
          "name": "stdout",
          "text": [
            "Group (1, 3) Accuracy: 90.93137254901961\n"
          ]
        },
        {
          "output_type": "stream",
          "name": "stderr",
          "text": [
            "\rEvaluating group-wise accuracy:  40%|████      | 10/25 [00:04<00:06,  2.29it/s]"
          ]
        },
        {
          "output_type": "stream",
          "name": "stdout",
          "text": [
            "Group (1, 4) Accuracy: 86.27450980392157\n"
          ]
        },
        {
          "output_type": "stream",
          "name": "stderr",
          "text": [
            "\rEvaluating group-wise accuracy:  44%|████▍     | 11/25 [00:04<00:06,  2.30it/s]"
          ]
        },
        {
          "output_type": "stream",
          "name": "stdout",
          "text": [
            "Group (2, 0) Accuracy: 86.66666666666667\n"
          ]
        },
        {
          "output_type": "stream",
          "name": "stderr",
          "text": [
            "\rEvaluating group-wise accuracy:  48%|████▊     | 12/25 [00:05<00:05,  2.35it/s]"
          ]
        },
        {
          "output_type": "stream",
          "name": "stdout",
          "text": [
            "Group (2, 1) Accuracy: 87.73333333333333\n"
          ]
        },
        {
          "output_type": "stream",
          "name": "stderr",
          "text": [
            "\rEvaluating group-wise accuracy:  52%|█████▏    | 13/25 [00:05<00:05,  2.33it/s]"
          ]
        },
        {
          "output_type": "stream",
          "name": "stdout",
          "text": [
            "Group (2, 2) Accuracy: 95.46666666666667\n"
          ]
        },
        {
          "output_type": "stream",
          "name": "stderr",
          "text": [
            "\rEvaluating group-wise accuracy:  56%|█████▌    | 14/25 [00:06<00:04,  2.34it/s]"
          ]
        },
        {
          "output_type": "stream",
          "name": "stdout",
          "text": [
            "Group (2, 3) Accuracy: 87.2\n"
          ]
        },
        {
          "output_type": "stream",
          "name": "stderr",
          "text": [
            "\rEvaluating group-wise accuracy:  60%|██████    | 15/25 [00:06<00:04,  2.33it/s]"
          ]
        },
        {
          "output_type": "stream",
          "name": "stdout",
          "text": [
            "Group (2, 4) Accuracy: 77.54010695187166\n"
          ]
        },
        {
          "output_type": "stream",
          "name": "stderr",
          "text": [
            "\rEvaluating group-wise accuracy:  64%|██████▍   | 16/25 [00:06<00:03,  2.34it/s]"
          ]
        },
        {
          "output_type": "stream",
          "name": "stdout",
          "text": [
            "Group (3, 0) Accuracy: 91.4572864321608\n"
          ]
        },
        {
          "output_type": "stream",
          "name": "stderr",
          "text": [
            "\rEvaluating group-wise accuracy:  68%|██████▊   | 17/25 [00:07<00:03,  2.34it/s]"
          ]
        },
        {
          "output_type": "stream",
          "name": "stdout",
          "text": [
            "Group (3, 1) Accuracy: 89.16876574307305\n"
          ]
        },
        {
          "output_type": "stream",
          "name": "stderr",
          "text": [
            "\rEvaluating group-wise accuracy:  72%|███████▏  | 18/25 [00:07<00:03,  2.28it/s]"
          ]
        },
        {
          "output_type": "stream",
          "name": "stdout",
          "text": [
            "Group (3, 2) Accuracy: 90.93198992443325\n"
          ]
        },
        {
          "output_type": "stream",
          "name": "stderr",
          "text": [
            "\rEvaluating group-wise accuracy:  76%|███████▌  | 19/25 [00:08<00:02,  2.30it/s]"
          ]
        },
        {
          "output_type": "stream",
          "name": "stdout",
          "text": [
            "Group (3, 3) Accuracy: 95.71788413098237\n"
          ]
        },
        {
          "output_type": "stream",
          "name": "stderr",
          "text": [
            "\rEvaluating group-wise accuracy:  80%|████████  | 20/25 [00:08<00:02,  2.30it/s]"
          ]
        },
        {
          "output_type": "stream",
          "name": "stdout",
          "text": [
            "Group (3, 4) Accuracy: 91.68765743073048\n"
          ]
        },
        {
          "output_type": "stream",
          "name": "stderr",
          "text": [
            "\rEvaluating group-wise accuracy:  84%|████████▍ | 21/25 [00:09<00:01,  2.32it/s]"
          ]
        },
        {
          "output_type": "stream",
          "name": "stdout",
          "text": [
            "Group (4, 0) Accuracy: 89.92443324937028\n"
          ]
        },
        {
          "output_type": "stream",
          "name": "stderr",
          "text": [
            "\rEvaluating group-wise accuracy:  88%|████████▊ | 22/25 [00:09<00:01,  2.02it/s]"
          ]
        },
        {
          "output_type": "stream",
          "name": "stdout",
          "text": [
            "Group (4, 1) Accuracy: 76.57430730478589\n"
          ]
        },
        {
          "output_type": "stream",
          "name": "stderr",
          "text": [
            "\rEvaluating group-wise accuracy:  92%|█████████▏| 23/25 [00:10<00:01,  1.85it/s]"
          ]
        },
        {
          "output_type": "stream",
          "name": "stdout",
          "text": [
            "Group (4, 2) Accuracy: 83.37531486146096\n"
          ]
        },
        {
          "output_type": "stream",
          "name": "stderr",
          "text": [
            "\rEvaluating group-wise accuracy:  96%|█████████▌| 24/25 [00:11<00:00,  1.73it/s]"
          ]
        },
        {
          "output_type": "stream",
          "name": "stdout",
          "text": [
            "Group (4, 3) Accuracy: 85.35353535353535\n"
          ]
        },
        {
          "output_type": "stream",
          "name": "stderr",
          "text": [
            "Evaluating group-wise accuracy: 100%|██████████| 25/25 [00:11<00:00,  2.13it/s]"
          ]
        },
        {
          "output_type": "stream",
          "name": "stdout",
          "text": [
            "Group (4, 4) Accuracy: 94.94949494949495\n"
          ]
        },
        {
          "output_type": "stream",
          "name": "stderr",
          "text": [
            "\n"
          ]
        },
        {
          "output_type": "execute_result",
          "data": {
            "text/plain": [
              "{(0, 0): 98.58156028368795,\n",
              " (0, 1): 93.3806146572104,\n",
              " (0, 2): 95.98108747044917,\n",
              " (0, 3): 96.45390070921985,\n",
              " (0, 4): 96.6903073286052,\n",
              " (1, 0): 94.37652811735941,\n",
              " (1, 1): 96.33251833740832,\n",
              " (1, 2): 92.40196078431373,\n",
              " (1, 3): 90.93137254901961,\n",
              " (1, 4): 86.27450980392157,\n",
              " (2, 0): 86.66666666666667,\n",
              " (2, 1): 87.73333333333333,\n",
              " (2, 2): 95.46666666666667,\n",
              " (2, 3): 87.2,\n",
              " (2, 4): 77.54010695187166,\n",
              " (3, 0): 91.4572864321608,\n",
              " (3, 1): 89.16876574307305,\n",
              " (3, 2): 90.93198992443325,\n",
              " (3, 3): 95.71788413098237,\n",
              " (3, 4): 91.68765743073048,\n",
              " (4, 0): 89.92443324937028,\n",
              " (4, 1): 76.57430730478589,\n",
              " (4, 2): 83.37531486146096,\n",
              " (4, 3): 85.35353535353535,\n",
              " (4, 4): 94.94949494949495}"
            ]
          },
          "metadata": {},
          "execution_count": 10
        }
      ]
    }
  ]
}